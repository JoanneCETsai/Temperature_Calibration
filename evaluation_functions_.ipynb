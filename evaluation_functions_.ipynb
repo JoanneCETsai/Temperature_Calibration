{
 "cells": [
  {
   "cell_type": "code",
   "execution_count": 1,
   "id": "47fd2c27",
   "metadata": {},
   "outputs": [],
   "source": [
    "from sklearn.metrics import r2_score\n",
    "\n",
    "def r2(line, func):\n",
    "    popt, pcov = curve_fit(func, np.linspace(0, len(line) - 1, len(line)), line)\n",
    "    y_pred = func(np.linspace(0, len(line) - 1, len(line)), *popt)\n",
    "    return r2_score(line, y_pred)\n",
    "\n",
    "def rsq(line, func):\n",
    "    popt, pcov = curve_fit(func, np.linspace(0, len(line) - 1, len(line)), line)\n",
    "    y_pred = func(np.linspace(0, len(line) - 1, len(line)), *popt)\n",
    "    residuals = line - func(np.linspace(0, len(line) - 1, len(line)), *popt)\n",
    "    ss_res = np.sum(residuals**2)\n",
    "    return ss_res"
   ]
  },
  {
   "cell_type": "code",
   "execution_count": null,
   "id": "f13853b7",
   "metadata": {},
   "outputs": [],
   "source": []
  }
 ],
 "metadata": {
  "kernelspec": {
   "display_name": "Python 3 (ipykernel)",
   "language": "python",
   "name": "python3"
  },
  "language_info": {
   "codemirror_mode": {
    "name": "ipython",
    "version": 3
   },
   "file_extension": ".py",
   "mimetype": "text/x-python",
   "name": "python",
   "nbconvert_exporter": "python",
   "pygments_lexer": "ipython3",
   "version": "3.9.0"
  }
 },
 "nbformat": 4,
 "nbformat_minor": 5
}
