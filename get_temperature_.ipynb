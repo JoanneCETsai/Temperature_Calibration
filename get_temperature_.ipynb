{
 "cells": [
  {
   "cell_type": "code",
   "execution_count": 1,
   "id": "0601f8e6",
   "metadata": {},
   "outputs": [],
   "source": [
    "def get_peak_T(file, b_file, func, maxs_func, kappa_avg):\n",
    "    peak = peak_dRoverR(file, b_file, func, maxs_func)\n",
    "    deltaT = peak / kappa_avg\n",
    "    T = 25 + deltaT\n",
    "    return T"
   ]
  }
 ],
 "metadata": {
  "kernelspec": {
   "display_name": "Python 3.9.0 64-bit",
   "language": "python",
   "name": "python3"
  },
  "language_info": {
   "codemirror_mode": {
    "name": "ipython",
    "version": 3
   },
   "file_extension": ".py",
   "mimetype": "text/x-python",
   "name": "python",
   "nbconvert_exporter": "python",
   "pygments_lexer": "ipython3",
   "version": "3.9.0"
  },
  "vscode": {
   "interpreter": {
    "hash": "aee8b7b246df8f9039afb4144a1f6fd8d2ca17a180786b69acc140d282b71a49"
   }
  }
 },
 "nbformat": 4,
 "nbformat_minor": 5
}
