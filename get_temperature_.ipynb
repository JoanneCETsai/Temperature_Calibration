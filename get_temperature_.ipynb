{
 "cells": [
  {
   "cell_type": "code",
   "execution_count": null,
   "id": "0601f8e6",
   "metadata": {},
   "outputs": [],
   "source": [
    "def get_peak_T(file, b_file, func, maxs_func):\n",
    "    peak = peak_dRoverR(file, b_file, func, maxs_func)\n",
    "    deltaT = peak / kappa_avg\n",
    "    T = 25 + deltaT\n",
    "    return T"
   ]
  }
 ],
 "metadata": {
  "kernelspec": {
   "display_name": "Python 3 (ipykernel)",
   "language": "python",
   "name": "python3"
  },
  "language_info": {
   "codemirror_mode": {
    "name": "ipython",
    "version": 3
   },
   "file_extension": ".py",
   "mimetype": "text/x-python",
   "name": "python",
   "nbconvert_exporter": "python",
   "pygments_lexer": "ipython3",
   "version": "3.9.0"
  }
 },
 "nbformat": 4,
 "nbformat_minor": 5
}
