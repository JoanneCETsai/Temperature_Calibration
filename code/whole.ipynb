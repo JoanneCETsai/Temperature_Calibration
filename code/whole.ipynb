{
 "cells": [
  {
   "cell_type": "code",
   "execution_count": 110,
   "id": "4bea64d7",
   "metadata": {},
   "outputs": [],
   "source": [
    "%run \"curve_fit_.ipynb\"\n",
    "%run \"data_processing_.ipynb\" \n",
    "%run \"evaluation_functions_.ipynb\"\n",
    "%run \"fitting_functions_.ipynb\"\n",
    "%run \"get_temperature_.ipynb\"\n",
    "%run \"load_data_.ipynb\" \n",
    "%run \"get_backbround_average_.ipynb\" \n",
    "%run \"frame_vs_temperature.ipynb\" # get_powers funciton"
   ]
  },
  {
   "cell_type": "markdown",
   "id": "80352771",
   "metadata": {},
   "source": [
    "# Input Here:"
   ]
  },
  {
   "cell_type": "code",
   "execution_count": 111,
   "id": "8e1b9934",
   "metadata": {},
   "outputs": [],
   "source": [
    "folder = \"/Users/chiaentsai/Desktop/lab/2023_chess_5set_data/set1\"\n",
    "\n",
    "HEADER_LEN = 152 \n",
    "X_DIM = 480\n",
    "Y_DIM = 640\n",
    "X_left_boundry = 185\n",
    "X_right_boundry = 235\n",
    "Y_left_boundry = 355\n",
    "Y_right_boundry = 505\n",
    "\n",
    "frame_rate = 92.59\n",
    "shutter_delay = 0.01 # second\n",
    "interestd_position = 4 # mm\n",
    "pixel_size = 0.00108 \n",
    "beamwidth = 88200\n",
    "# exposure time = 5ms\n",
    "\n",
    "Si_melting_W = {\n",
    "    '103': 41.5,\n",
    "    '13': 35.4,\n",
    "    '155': 43.7,\n",
    "    '190': 45.5,\n",
    "    '20': 35.5,\n",
    "    '234': 47,\n",
    "    '30': 36.3,\n",
    "    '352': 52.2,\n",
    "    '45': 37.1,\n",
    "    '68': 39.2,\n",
    "    '9': 35.3 \n",
    "    \n",
    "}\n",
    "\n",
    "\n",
    "gold_melting_W = {\n",
    "    '103': 37,\n",
    "    '13': 30.2,\n",
    "    '155': 38.9,\n",
    "    '190': 40.3,\n",
    "    '20': 30.8,\n",
    "    '234': 41.9,\n",
    "    '30': 31.9,\n",
    "    '352': 46.2,\n",
    "    '45': 33.5,\n",
    "    '68': 35.2,\n",
    "    '9': 29.9\n",
    "    \n",
    "}"
   ]
  },
  {
   "cell_type": "code",
   "execution_count": 113,
   "id": "4a4e75ea",
   "metadata": {},
   "outputs": [
    {
     "name": "stdout",
     "output_type": "stream",
     "text": [
      "[4, 28, 2, 2, 18, 2, 12, 1, 8, 5, 41]\n"
     ]
    }
   ],
   "source": [
    "all_files, fivemm_files, velocity_path_list, velocity_list, used_frame_num = get_needed_files(folder)\n",
    "back_intensity_list = get_background_average(fivemm_files)\n",
    "back = back_intensity_list\n",
    "power_list = get_powers(all_files)"
   ]
  },
  {
   "cell_type": "code",
   "execution_count": null,
   "id": "6815393f",
   "metadata": {},
   "outputs": [],
   "source": [
    "image = \"/Users/chiaentsai/Desktop/lab/2023_chess_5set_data/set1/9mm_per_sec/0mm_31W_029.raw\"\n",
    "whole = get_blue(image)\n",
    "# zoomin = get_bright(whole)\n",
    "b_whole = back[10]\n",
    "# b_zoomin = get_bright(b_whole)\n",
    "# needed = zoomin - b_zoomin\n",
    "# fig 1: background\n",
    "sc = plt.imshow(b_whole)\n",
    "plt.colorbar(sc)\n",
    "plt.title(\"background\")\n",
    "plt.show()\n",
    "# fig 2: intensity without background\n",
    "sc = plt.imshow(whole-b_whole)\n",
    "plt.colorbar(sc)\n",
    "plt.title(\"intensity without background\")\n",
    "plt.show()\n",
    "# fig 3: vertical direction trend\n",
    "plt.plot((whole-b_whole)[:,420])\n",
    "plt.title(\"vertical direction\")\n",
    "plt.xlabel(\"pixel\")\n",
    "plt.ylabel(\"intensity\")\n",
    "plt.show()\n",
    "# fig 4: horizontal direction trend\n",
    "plt.plot((whole-b_whole)[210,:])\n",
    "plt.title(\"horizontal direction\")\n",
    "plt.xlabel(\"pixel\")\n",
    "plt.ylabel(\"intensity\")\n",
    "plt.show()\n",
    "# fig 5: dR/R intensity\n",
    "sc = plt.imshow((whole - b_whole)/b_whole)\n",
    "plt.colorbar(sc)\n",
    "plt.title(\"dR/R\")\n",
    "plt.show()"
   ]
  },
  {
   "cell_type": "code",
   "execution_count": null,
   "id": "040138e5",
   "metadata": {},
   "outputs": [],
   "source": [
    "X_left_boundry = 185\n",
    "X_right_boundry = 235\n",
    "Y_left_boundry = 315\n",
    "Y_right_boundry = 465\n",
    "zoomin = get_bright(whole)\n",
    "b_zoomin = get_bright(b_whole)\n",
    "needed = zoomin - b_zoomin\n",
    "plt.imshow(needed)"
   ]
  },
  {
   "cell_type": "markdown",
   "id": "60e2f47f",
   "metadata": {},
   "source": [
    "# Check the plots"
   ]
  },
  {
   "cell_type": "code",
   "execution_count": 116,
   "id": "79e24039",
   "metadata": {},
   "outputs": [
    {
     "name": "stderr",
     "output_type": "stream",
     "text": [
      "/Users/chiaentsai/.virtualenvs/venv/lib/python3.9/site-packages/scipy/optimize/_minpack_py.py:833: OptimizeWarning: Covariance of the parameters could not be estimated\n",
      "  warnings.warn('Covariance of the parameters could not be estimated',\n"
     ]
    }
   ],
   "source": [
    "v_list = [v for [v] in velocity_list]\n",
    "Dict_1 = dict((k, fivemm_files[k][5:]) for k in v_list) # not included 0W files\n",
    "dRoverR_1 = []\n",
    "for i, v in enumerate(list(Dict_1.keys())):\n",
    "    con = []\n",
    "    for file in Dict_1[v]:\n",
    "        val = get_peak_dRoverR(file, back_intensity_list[i], gaus, gaus)\n",
    "        con.append(val)\n",
    "    dRoverR_1.append(con)\n",
    "\n",
    "power_used = {} # not include 0W\n",
    "for i in range(len(velocity_list)):\n",
    "    [v] = velocity_list[i]\n",
    "    power_used[v] = [int(j) for j in power_list[i][1:]]"
   ]
  },
  {
   "cell_type": "markdown",
   "id": "f0add642",
   "metadata": {},
   "source": [
    "### 1. Plot dR/R vs frame for each velocity(產生一個folder)(不一定要跑)"
   ]
  },
  {
   "cell_type": "code",
   "execution_count": null,
   "id": "6eaa691e",
   "metadata": {},
   "outputs": [],
   "source": [
    "for i, (key, value) in enumerate(all_files.items()):\n",
    "    power = [int(x) for x in power_list[i]][1:]\n",
    "    files = all_files[key]\n",
    "    \n",
    "    for p in power:\n",
    "        dR_list = []\n",
    "        for file in tqdm(files):\n",
    "            if \"_{}W_\".format(p) in str(file):\n",
    "                print(str(file))\n",
    "                dR = get_peak_dRoverR(file, back_intensity_list[i], gaus, gaus)\n",
    "                dR_list.append(dR)\n",
    "        \n",
    "        x = [frame for frame in range(0,len(dR_list))] \n",
    "         \n",
    "        plt.plot(x, dR_list, marker=\"o\")\n",
    "        plt.title(\"{}mm per sec\".format(key))\n",
    "        plt.xlabel(\"frame\")\n",
    "        plt.ylabel(\"dR/R\")\n",
    "        plt.ylim(0,0.4)\n",
    "        \n",
    "    plt.savefig(\"/Users/chiaentsai/Desktop/lab/Temperature_Calibration/0130_dRoverR_vs_frame/{}mmpersec.png\".format(key), format=\"PNG\")\n",
    "    plt.close()"
   ]
  },
  {
   "cell_type": "markdown",
   "id": "12370cf2",
   "metadata": {},
   "source": [
    "### 2. Temperature vs position for each velocity(產生一個folder)（不一定要跑）"
   ]
  },
  {
   "cell_type": "code",
   "execution_count": null,
   "id": "39b97caf",
   "metadata": {},
   "outputs": [],
   "source": [
    "for i, (key, value) in enumerate(all_files.items()):\n",
    "    power = [int(x) for x in power_list[i]][1:]\n",
    "    files = all_files[key]\n",
    "    \n",
    "    for p in power:\n",
    "        dR_list = []\n",
    "        temp_list = []\n",
    "        for file in tqdm(files):\n",
    "            if \"_{}W_\".format(p) in str(file):\n",
    "                print(str(file))\n",
    "                dR = get_peak_dRoverR(file, back_intensity_list[i], gaus, gaus)\n",
    "                dR_list.append(dR)\n",
    "                temp_list.append(dR/0.00016+21)\n",
    "                \n",
    "        #convert the frame number to position \n",
    "        \n",
    "        x = [frame for frame in range(0,len(dR_list))] \n",
    "        #position = [(frame-2.7)*int(key)/92.59 for frame in range(1,len(temp_list)+1)] why?\n",
    "        position = [(frame/frame_rate-shutter_delay)*int(key) for frame in range(1,len(temp_list)+1)]\n",
    "        \n",
    "        plt.plot(position, temp_list, marker=\"o\")\n",
    "\n",
    "        #limit temperature to 1500C\n",
    "        plt.ylim(0,1500)\n",
    "        \n",
    "        #limit position to 1-10mm\n",
    "        plt.xlim(0,10)\n",
    "\n",
    "        plt.xlabel(\"position (mm)\")\n",
    "        plt.ylabel(\"Temperature (Celsius)\")\n",
    "        plt.title(\"{}mm per sec\".format(key))\n",
    "\n",
    "    plt.savefig(\"/Users/chiaentsai/Desktop/lab/Temperature_Calibration/0130_Temp_vs_position/{}mmpersec.png\".format(key), format=\"PNG\")\n",
    "    plt.close()"
   ]
  },
  {
   "cell_type": "markdown",
   "id": "ed49cdee",
   "metadata": {},
   "source": [
    "### 3. dR/R vs power for each velocity（產生一個folderr）"
   ]
  },
  {
   "cell_type": "code",
   "execution_count": 117,
   "id": "eed9f307",
   "metadata": {},
   "outputs": [],
   "source": [
    "for i, v in enumerate(list(Si_melting_W.keys())):\n",
    "    plt.plot(power_used[v], dRoverR_1[i], '.')\n",
    "    plt.xlabel(\"power\")\n",
    "    plt.ylabel(\"dR/R\")\n",
    "    plt.title(\"{}mm per sec\".format(v))\n",
    "    plt.savefig(\"/Users/chiaentsai/Desktop/lab/Temperature_Calibration/0131_1_dRoverR_vs_power/{}mm.png\".format(v), format=\"PNG\")\n",
    "    plt.close()\n"
   ]
  },
  {
   "cell_type": "markdown",
   "id": "a75522c7",
   "metadata": {},
   "source": [
    "### 4. Check kappa（產生兩個folder和一張圖）"
   ]
  },
  {
   "cell_type": "code",
   "execution_count": 123,
   "id": "6253d52b",
   "metadata": {},
   "outputs": [
    {
     "name": "stderr",
     "output_type": "stream",
     "text": [
      "/Users/chiaentsai/.virtualenvs/venv/lib/python3.9/site-packages/scipy/optimize/_minpack_py.py:833: OptimizeWarning: Covariance of the parameters could not be estimated\n",
      "  warnings.warn('Covariance of the parameters could not be estimated',\n"
     ]
    },
    {
     "data": {
      "text/plain": [
       "8.625876196745166e-05"
      ]
     },
     "execution_count": 123,
     "metadata": {},
     "output_type": "execute_result"
    },
    {
     "data": {
      "image/png": "[encoded data removed]",
      "text/plain": [
       "<Figure size 432x288 with 1 Axes>"
      ]
     },
     "metadata": {
      "needs_background": "light"
     },
     "output_type": "display_data"
    }
   ],
   "source": [
    "# gold and Si melt\n",
    "import scipy.optimize\n",
    "kappa_avg = []\n",
    "for i, v in enumerate(list(Si_melting_W.keys())):\n",
    "    popt, pcov = curve_fit(expo, power_used[v], dRoverR_1[i], p0 = [1, 0.0000005, 1], maxfev = 10000)\n",
    "    #a, b, c = popt\n",
    "    plt.plot(power_used[v], dRoverR_1[i], '.')\n",
    "    y_pred = [expo(j, *popt) for j in power_used[v]]\n",
    "    plt.plot(power_used[v], y_pred)\n",
    "    plt.xlabel(\"power\")\n",
    "    plt.ylabel(\"dR/R\")\n",
    "    plt.title(\"{}mm per sec\".format(v))\n",
    "    plt.savefig(\"/Users/chiaentsai/Desktop/lab/Temperature_Calibration/0131_1_dRoverR_fit_figure/{}mm.png\".format(v), format=\"PNG\")\n",
    "    plt.close()\n",
    "    \n",
    "    \n",
    "    fun = lambda k: (expo(Si_melting_W[v], *popt) - (1410-21)*k)**2 + (expo(gold_melting_W[v], *popt) - (1064-21)*k)**2\n",
    "    res = scipy.optimize.minimize(fun, 0.00016)\n",
    "    temp_pred = [expo(j, *popt)/res.x for j in power_used[v]]\n",
    "    plt.plot(power_used[v], temp_pred)\n",
    "    \n",
    "    plt.plot(Si_melting_W[v], 1410, marker=\"o\",color = 'r', label='Si')\n",
    "    plt.plot(gold_melting_W[v], 1064, marker=\"o\", color = 'g', label='gold')\n",
    "    plt.legend(loc=\"upper left\")\n",
    "    plt.xlabel(\"power\")\n",
    "    plt.ylabel(\"temperature\")\n",
    "    plt.title(\"{}mm per sec\".format(v))\n",
    "    plt.savefig(\"/Users/chiaentsai/Desktop/lab/Temperature_Calibration/0131_1_gold_Si_fit/{}mm.png\".format(v), format=\"PNG\")\n",
    "    plt.close()\n",
    "    \n",
    "#     f = expo(Si_melting_W[v], *popt)\n",
    "#     gold_m = 1410\n",
    "#     dT = gold_m - 21\n",
    "#     kappa = f / dT\n",
    "    kappa_avg.append(float(res.x))\n",
    "\n",
    "    \n",
    "Dict_kappa_avg = dict(zip(list(Si_melting_W.keys()),kappa_avg))\n",
    "\n",
    "plt.plot(list(Si_melting_W.keys()), kappa_avg, '.')\n",
    "plt.xlabel(\"velocity (mm/s)\")\n",
    "plt.ylabel(\"kappa value\")\n",
    "plt.title(\"kappa\")\n",
    "plt.savefig(\"/Users/chiaentsai/Desktop/lab/Temperature_Calibration/0131_1_kappa_gold&Si.png\", format=\"PNG\")\n",
    "\n",
    "con = 0\n",
    "for i, v in enumerate(Dict_kappa_avg.keys()):\n",
    "    con = con + Dict_kappa_avg[v]\n",
    "kappa_avg = con / len(Dict_kappa_avg)\n",
    "kappa_avg"
   ]
  },
  {
   "cell_type": "markdown",
   "id": "8206e7ab",
   "metadata": {},
   "source": [
    "### 5. Temperature vs power(產生一張圖)"
   ]
  },
  {
   "cell_type": "code",
   "execution_count": 124,
   "id": "f01ee870",
   "metadata": {},
   "outputs": [
    {
     "name": "stdout",
     "output_type": "stream",
     "text": [
      "Using matplotlib backend: <object object at 0x7fd1ba7ace50>\n"
     ]
    }
   ],
   "source": [
    "peak_temp = []\n",
    "for i, v in enumerate(list(Si_melting_W.keys())):\n",
    "    tem = []\n",
    "    for r in dRoverR_1[i]:\n",
    "        t = get_peak_Temp(r, Dict_kappa_avg[v])\n",
    "#         t = get_peak_Temp(r,avg_kappa)\n",
    "#         t = get_peak_Temp(r,0.00016498400434141028)\n",
    "#         t = get_peak_Temp(r, Dict_kappa_gold_avg[v])\n",
    "#         t = get_peak_Temp(r, avg_kappa_2)\n",
    "#         t = get_peak_Temp(r, Dict_kappa_avg[v])\n",
    "        tem.append(t)\n",
    "    peak_temp.append(tem)\n",
    "    \n",
    "Dict_peak_temp = dict(zip(list(Si_melting_W.keys()),peak_temp))\n",
    "\n",
    "%matplotlib\n",
    "for i,v in enumerate(Dict_peak_temp):\n",
    "    plt.plot(power_used[v], Dict_peak_temp[v], label = \"{}mm per sec\".format(v))\n",
    "    plt.title(\"Peak Temperature vs Power\")\n",
    "    plt.xlabel(\"power (W)\")\n",
    "    plt.ylabel(\"Temperature (Celsius)\")\n",
    "    plt.legend()\n",
    "    plt.savefig(\"/Users/chiaentsai/Desktop/lab/Temperature_Calibration/0131_1_temp_vs_power.png\", format=\"PNG\")"
   ]
  },
  {
   "cell_type": "markdown",
   "id": "1032d30a",
   "metadata": {},
   "source": [
    "### 6. 4mm frame, no background(產生一個folder)"
   ]
  },
  {
   "cell_type": "code",
   "execution_count": 126,
   "id": "d8b18f3e",
   "metadata": {},
   "outputs": [],
   "source": [
    "for I, v in enumerate(list(fivemm_files.keys())):\n",
    "    for i, item in enumerate(fivemm_files[v]):\n",
    "        original = get_blue(item)\n",
    "        back = back_intensity_list[I]\n",
    "        fig = original - back\n",
    "        plt.imshow(fig)\n",
    "        plt.savefig(\"/Users/chiaentsai/Desktop/lab/Temperature_Calibration/0131_1_4mm_frame_noback_figure/{}mm_4mmframe_{}.png\".format(v,i), format=\"PNG\")\n",
    "        plt.close()"
   ]
  },
  {
   "cell_type": "markdown",
   "id": "52839270",
   "metadata": {},
   "source": [
    "### input: decide which velocity to use to fit the plane"
   ]
  },
  {
   "cell_type": "code",
   "execution_count": 128,
   "id": "bd3dcc29",
   "metadata": {},
   "outputs": [],
   "source": [
    "# data used to fit Tpeak plane\n",
    "v_fit_list = ['13','20', '30','45','9']"
   ]
  },
  {
   "cell_type": "markdown",
   "id": "971142eb",
   "metadata": {},
   "source": [
    "# Function 1. get_power(dwell, Tpeak) "
   ]
  },
  {
   "cell_type": "markdown",
   "id": "fe6cfec1",
   "metadata": {},
   "source": [
    "### f(power, log10 velocity) = Tpeak "
   ]
  },
  {
   "cell_type": "code",
   "execution_count": 130,
   "id": "30323035",
   "metadata": {},
   "outputs": [
    {
     "name": "stdout",
     "output_type": "stream",
     "text": [
      "Using matplotlib backend: MacOSX\n",
      "[ 1.27606778e+01 -1.72913333e+00 -1.01398641e+02  8.38777861e+00\n",
      "  5.29623432e+02  1.63599363e+00  3.03236078e-02  1.79730895e-05]\n",
      "640.6279544592337\n"
     ]
    },
    {
     "name": "stderr",
     "output_type": "stream",
     "text": [
      "/var/folders/f7/kn96xdj93ss0t67sn2q10n6c0000gn/T/ipykernel_3567/2840690562.py:25: MatplotlibDeprecationWarning: Axes3D(fig) adding itself to the figure is deprecated since 3.4. Pass the keyword argument auto_add_to_figure=False and use fig.add_axes(ax) to suppress this warning. The default value of auto_add_to_figure will change to False in mpl3.5 and True values will no longer work in 3.6.  This is consistent with other Axes classes.\n",
      "  axes = Axes3D(f)\n"
     ]
    }
   ],
   "source": [
    "import numpy, scipy, scipy.optimize\n",
    "import matplotlib\n",
    "from mpl_toolkits.mplot3d import  Axes3D\n",
    "from matplotlib import cm # to colormap 3D surfaces from blue to red\n",
    "import matplotlib.pyplot as plt\n",
    "%matplotlib\n",
    "\n",
    "# def function(data, b, c, d, e, f):\n",
    "#     x = np.array(data[0])\n",
    "#     y = np.array(data[1])\n",
    "#     return (b*y+c)*(x)**(d*y**2+e*y+f)\n",
    "\n",
    "def function_Tpeak(data, a, b, c, d, e, f, g, h):\n",
    "    x = np.array(data[0])\n",
    "    y = np.array(data[1])\n",
    "    return (a+b*y+h*y**2)*x**(f+g*y) + (c+d*y)*x + e\n",
    "\n",
    "# def function(data, a, b, c, d, e, f, g, h, i, j):\n",
    "#     x = np.array(data[0])\n",
    "#     y = np.array(data[1])\n",
    "#     return (a+b*y+h*y**2)*x**(f+g*y) + (c+d*y)*x + e +i*x**2 + j*y**2\n",
    "\n",
    "f = plt.figure(figsize=(20.0, 20.0), dpi=20)\n",
    "matplotlib.pyplot.grid(True)\n",
    "axes = Axes3D(f)\n",
    "\n",
    "points = []\n",
    "for i, v in enumerate(v_fit_list):\n",
    "    P = [int(p) for p in power_used[v]]\n",
    "    V = [np.log(int(v))] * len(Dict_peak_temp[v])\n",
    "    T = Dict_peak_temp[v]\n",
    "    point = [list(x) for x in zip(*[P,V,T])]\n",
    "    points.append(point)\n",
    "\n",
    "x_data = []\n",
    "y_data = []\n",
    "z_data = []\n",
    "for velo in points:\n",
    "    for item in velo:\n",
    "        x_data.append(item[0]) # power\n",
    "        y_data.append(item[1]) # velocity\n",
    "        z_data.append(item[2]) # temperature\n",
    "        \n",
    "x_data, y_data, z_data = np.array(x_data), np.array(y_data), np.array(z_data)\n",
    "\n",
    "mask = z_data > 400\n",
    "x_data = x_data[mask]\n",
    "y_data = y_data[mask]\n",
    "z_data = z_data[mask]\n",
    "\n",
    "parameters_Tpeak, covariance = curve_fit(function_Tpeak, [x_data, y_data], z_data,  maxfev=1000000)\n",
    "print(parameters_Tpeak)\n",
    "model_x_data = np.linspace(min(x_data), max(x_data), 30)\n",
    "model_y_data = np.linspace(min(y_data), max(y_data), 30)\n",
    "X, Y = np.meshgrid(model_x_data, model_y_data)\n",
    "Z = function_Tpeak(np.array([X, Y]), *parameters_Tpeak)\n",
    "\n",
    "z_predicted = function_Tpeak([x_data, y_data], *parameters_Tpeak)\n",
    "differences = np.subtract(z_data, z_predicted)\n",
    "squared_differences = np.square(differences)\n",
    "mse = squared_differences.mean()\n",
    "\n",
    "\n",
    "axes.plot_surface(X, Y, Z, cmap=cm.hot, alpha=0.2)\n",
    "\n",
    "# for i, v in enumerate(list(Dict_kappa_Si_avg.keys())):\n",
    "#     v_data = [np.log(int(v))] * len(Dict_peak_temp[v])\n",
    "#     p_data = [int(p) for p in power_used[i]]\n",
    "#     t_data = Dict_peak_temp[v]\n",
    "#     axes.scatter(p_data, v_data, t_data, s = 250)\n",
    "axes.scatter(x_data, y_data, z_data, s=500)\n",
    "    \n",
    "\n",
    "axes.set_title('Scatter Plot')\n",
    "axes.set_xlabel('power - W', fontsize=30, labelpad=40)\n",
    "axes.set_ylabel('ln(velocity) - mm/s',fontsize=30, labelpad=40)\n",
    "axes.set_zlabel('peak temperature - C', fontsize=30, labelpad=40)\n",
    "axes.set_zlim(400, 1400)\n",
    "\n",
    "axes.tick_params(axis='both', which='major', labelsize=30)\n",
    "\n",
    "plt.show()\n",
    "print(mse)"
   ]
  },
  {
   "cell_type": "code",
   "execution_count": 131,
   "id": "0ed0acbb",
   "metadata": {},
   "outputs": [],
   "source": [
    "def get_peakT_from_fitting(dwell, power):\n",
    "    v = 88200/dwell\n",
    "    lnv = np.log(v)\n",
    "    return function_Tpeak([power, lnv], *parameters_Tpeak)\n",
    "\n",
    "def get_power(dwell, Tpeak):\n",
    "    v = 88200/dwell\n",
    "    lnv = np.log(v)\n",
    "    a, b, c, d, e, f, g, h= parameters_Tpeak\n",
    "    eq1 = lambda x: (a+b*lnv+h*lnv**2)*x**(f+g*lnv) + (c+d*lnv)*x + e  - Tpeak\n",
    "    sol = leastsq(eq1, 100)\n",
    "    #return float(sol[0], sol[1]), float(sol[1])\n",
    "    return float(sol[0])"
   ]
  },
  {
   "cell_type": "code",
   "execution_count": 132,
   "id": "0c5162a2",
   "metadata": {},
   "outputs": [
    {
     "data": {
      "text/plain": [
       "33.068158287744474"
      ]
     },
     "execution_count": 132,
     "metadata": {},
     "output_type": "execute_result"
    }
   ],
   "source": [
    "get_power(88200/45, 1064)"
   ]
  },
  {
   "cell_type": "markdown",
   "id": "41c09695",
   "metadata": {},
   "source": [
    "# Function 2. Invertible function of get_power(dwell, Tpeak)"
   ]
  },
  {
   "cell_type": "code",
   "execution_count": null,
   "id": "d223465f",
   "metadata": {},
   "outputs": [],
   "source": [
    "# def function(data, b, c, d, e, f):\n",
    "#     x = np.array(data[0])\n",
    "#     y = np.array(data[1])\n",
    "#     return (b*y+c)*(x)**(d*y**2+e*y+f)\n",
    "\n",
    "def function(data, a, b, c, d, e):\n",
    "    x = np.array(data[0])\n",
    "    y = np.array(data[1])\n",
    "    return (a+b*y)*x**2.5 + (c+d*y) + e\n",
    "\n",
    "f = plt.figure(figsize=(20.0, 20.0), dpi=20)\n",
    "matplotlib.pyplot.grid(True)\n",
    "axes = Axes3D(f)\n",
    "\n",
    "points = []\n",
    "for i, v in enumerate(list(Si_melting_W.keys())):\n",
    "    P = [int(p) for p in power_used[v]]\n",
    "    V = [np.log(int(v))] * len(Dict_peak_temp[v])\n",
    "    T = Dict_peak_temp[v]\n",
    "    point = [list(x) for x in zip(*[P,V,T])]\n",
    "    points.append(point)\n",
    "\n",
    "x_data = []\n",
    "y_data = []\n",
    "z_data = []\n",
    "for velo in points:\n",
    "    for item in velo:\n",
    "        x_data.append(item[0]) # power\n",
    "        y_data.append(item[1]) # velocity\n",
    "        z_data.append(item[2]) # temperature\n",
    "        \n",
    "x_data, y_data, z_data = np.array(x_data), np.array(y_data), np.array(z_data)\n",
    "\n",
    "mask = z_data > 400\n",
    "x_data = x_data[mask]\n",
    "y_data = y_data[mask]\n",
    "z_data = z_data[mask]\n",
    "\n",
    "parameters, covariance = curve_fit(function, [x_data, y_data], z_data,  maxfev=1000000)\n",
    "print(parameters)\n",
    "model_x_data = np.linspace(min(x_data), max(x_data), 30)\n",
    "model_y_data = np.linspace(min(y_data), max(y_data), 30)\n",
    "X, Y = np.meshgrid(model_x_data, model_y_data)\n",
    "Z = function(np.array([X, Y]), *parameters)\n",
    "\n",
    "z_predicted = function([x_data, y_data], *parameters)\n",
    "differences = np.subtract(z_data, z_predicted)\n",
    "squared_differences = np.square(differences)\n",
    "mse = squared_differences.mean()\n",
    "\n",
    "\n",
    "axes.plot_surface(X, Y, Z, cmap=cm.hot, alpha=0.2)\n",
    "\n",
    "axes.scatter(x_data, y_data, z_data, s=500)\n",
    "    \n",
    "\n",
    "axes.set_title('Scatter Plot')\n",
    "axes.set_xlabel('power - W', fontsize=30, labelpad=40)\n",
    "axes.set_ylabel('ln(velocity) - mm/s',fontsize=30, labelpad=40)\n",
    "axes.set_zlabel('peak temperature - C', fontsize=30, labelpad=40)\n",
    "axes.set_zlim(400, 1400)\n",
    "\n",
    "axes.tick_params(axis='both', which='major', labelsize=30)\n",
    "\n",
    "plt.show()\n",
    "print(mse)"
   ]
  },
  {
   "cell_type": "markdown",
   "id": "f971638d",
   "metadata": {},
   "source": [
    "# Function 3. get_lateral_profile(dwell, power, distance_from_center)"
   ]
  },
  {
   "cell_type": "code",
   "execution_count": 134,
   "id": "4f7cfd5c",
   "metadata": {},
   "outputs": [
    {
     "name": "stderr",
     "output_type": "stream",
     "text": [
      "/Users/chiaentsai/.virtualenvs/venv/lib/python3.9/site-packages/scipy/optimize/_minpack_py.py:833: OptimizeWarning: Covariance of the parameters could not be estimated\n",
      "  warnings.warn('Covariance of the parameters could not be estimated',\n"
     ]
    }
   ],
   "source": [
    "dRoverR_line = [] # Use v_fit_list. It only contains velocity in v_fit_list.\n",
    "for i, v in enumerate(list(Dict_1.keys())):\n",
    "    con = []\n",
    "    if v in v_fit_list:\n",
    "        for file in Dict_1[v]:\n",
    "            val = get_laterial_fit_line(file, back_intensity_list[i], two_lorentz)\n",
    "            con.append(val)\n",
    "        dRoverR_line.append(con)\n",
    "    \n",
    "\n",
    "temp_line = []    \n",
    "for i, v in enumerate(v_fit_list):\n",
    "    con_2 = []\n",
    "    velo = dRoverR_line[i]\n",
    "    for R in velo:\n",
    "        temp = get_peak_Temp(R, Dict_kappa_avg[v])\n",
    "        con_2.append(temp)\n",
    "    temp_line.append(con_2)\n",
    "    \n",
    "parameters_all = []\n",
    "for i, v in enumerate(v_fit_list):\n",
    "    con_3 = []\n",
    "    velo = temp_line[i]\n",
    "    for t in velo:\n",
    "        # [height, x_0, sigma1, sigma2] = fit(two_lorentz, t)\n",
    "        par = fit(two_lorentz, t)\n",
    "        con_3.append(par)\n",
    "    parameters_all.append(con_3)"
   ]
  },
  {
   "cell_type": "markdown",
   "id": "9f99d56c",
   "metadata": {},
   "source": [
    "### fit sigma1, sigma2 plane"
   ]
  },
  {
   "cell_type": "code",
   "execution_count": 135,
   "id": "6a1f8e98",
   "metadata": {},
   "outputs": [
    {
     "name": "stdout",
     "output_type": "stream",
     "text": [
      "Using matplotlib backend: MacOSX\n",
      "[ 8.35262279e+01  1.00508232e+00  8.36104106e+01 -3.16812460e-03\n",
      " -7.12109059e+03  2.28139764e+02  7.41596887e+02]\n",
      "[-1.72231869e-21  2.87967589e+01 -1.73710728e-21 -1.83319308e+00\n",
      " -7.66426082e+00 -8.37214491e+00  4.18779225e+02]\n",
      "1642.389574425441\n",
      "91.31064309630979\n"
     ]
    }
   ],
   "source": [
    "import numpy, scipy, scipy.optimize\n",
    "import matplotlib\n",
    "from mpl_toolkits.mplot3d import  Axes3D\n",
    "from matplotlib import cm # to colormap 3D surfaces from blue to red\n",
    "import matplotlib.pyplot as plt\n",
    "%matplotlib\n",
    "\n",
    "\n",
    "def function_sigma(data, a, b, c, d, e, f, g):\n",
    "    x = np.array(data[0])\n",
    "    y = np.array(data[1])\n",
    "    return (a*x**b)*(c*y**d)+e*x+f*y+g\n",
    "\n",
    "points_1 = []\n",
    "points_2 = []\n",
    "\n",
    "for i, v in enumerate(v_fit_list):\n",
    "    T = Dict_peak_temp[v]\n",
    "    P = [int(p) for p in power_used[v]]\n",
    "    # tau = [np.log(beamwidth / int(v))] * len(Dict_peak_temp[v])\n",
    "    lnv = [np.log(int(v))] * len(Dict_peak_temp[v])\n",
    "    sigma1 = [abs(el[2]) for el in parameters_all[i]]\n",
    "    sigma2 = [abs(el[3]) for el in parameters_all[i]]\n",
    "    # point1 = [list(x) for x in zip(*[P,tau,sigma1,T])]\n",
    "    point1 = [list(x) for x in zip(*[P,lnv,sigma1,T])]\n",
    "    points_1.append(point1)\n",
    "    # point2 = [list(x) for x in zip(*[P,tau,sigma2,T])]\n",
    "    point2 = [list(x) for x in zip(*[P,lnv,sigma2,T])]\n",
    "    points_2.append(point2)\n",
    "\n",
    "x_data = []\n",
    "y_data = []\n",
    "t_data = []\n",
    "z_data_1 = []\n",
    "z_data_2 = []\n",
    "\n",
    "for velo in points_1:\n",
    "    for item in velo:\n",
    "        x_data.append(item[0]) # power\n",
    "        y_data.append(item[1]) # tau\n",
    "        z_data_1.append(item[2]) # sigma1\n",
    "        t_data.append(item[3]) # Tpeak\n",
    "        \n",
    "for velo in points_2:\n",
    "    for item in velo:\n",
    "        z_data_2.append(item[2]) # sigma2\n",
    "               \n",
    "x_data, y_data, z_data_1, z_data_2, t_data = np.array(x_data), np.array(y_data), np.array(z_data_1), np.array(z_data_2), np.array(t_data)\n",
    "\n",
    "mask = t_data > 400\n",
    "x_data = x_data[mask]\n",
    "y_data = y_data[mask]\n",
    "z_data_1 = z_data_1[mask]\n",
    "z_data_2 = z_data_2[mask]\n",
    "\n",
    "# mask_2 = z_data_1 < 1000\n",
    "# x_data = x_data[mask_2]\n",
    "# y_data = y_data[mask_2]\n",
    "# z_data_1 = z_data_1[mask_2]\n",
    "# z_data_2 = z_data_2[mask_2]\n",
    "\n",
    "zscore_1 = np.abs(stats.zscore(z_data_1))\n",
    "mask_2 = zscore_1 < 1\n",
    "x_data = x_data[mask_2]\n",
    "y_data = y_data[mask_2]\n",
    "z_data_1 = z_data_1[mask_2]\n",
    "z_data_2 = z_data_2[mask_2]\n",
    "\n",
    "zscore_2 = np.abs(stats.zscore(z_data_2))\n",
    "mask_3 = zscore_2 < 1\n",
    "x_data = x_data[mask_3]\n",
    "y_data = y_data[mask_3]\n",
    "z_data_1 = z_data_1[mask_3]\n",
    "z_data_2 = z_data_2[mask_3]\n",
    "\n",
    "parameters_sigma1, covariance_1 = curve_fit(function_sigma, [x_data, y_data], z_data_1,  maxfev=1000000)\n",
    "parameters_sigma2, covariance_2 = curve_fit(function_sigma, [x_data, y_data], z_data_2,  maxfev=1000000)\n",
    "\n",
    "print(parameters_sigma1)\n",
    "print(parameters_sigma2)\n",
    "\n",
    "model_x_data = np.linspace(min(x_data), max(x_data), 100)\n",
    "model_y_data = np.linspace(min(y_data), max(y_data), 100)\n",
    "X, Y = np.meshgrid(model_x_data, model_y_data)\n",
    "Z1 = function_sigma(np.array([X, Y]), *parameters_sigma1)\n",
    "Z2 = function_sigma(np.array([X, Y]), *parameters_sigma2)\n",
    "\n",
    "z_predicted_1 = function_sigma([x_data, y_data], *parameters_sigma1)\n",
    "z_predicted_2 = function_sigma([x_data, y_data], *parameters_sigma2)\n",
    "\n",
    "differences_1 = np.subtract(z_data_1, z_predicted_1)\n",
    "differences_2 = np.subtract(z_data_2, z_predicted_2)\n",
    "\n",
    "squared_differences_1 = np.square(differences_1)\n",
    "squared_differences_2 = np.square(differences_2)\n",
    "\n",
    "mse_1 = squared_differences_1.mean()\n",
    "mse_2 = squared_differences_2.mean()\n",
    "print(mse_1)\n",
    "print(mse_2)"
   ]
  },
  {
   "cell_type": "code",
   "execution_count": 140,
   "id": "2559d86b",
   "metadata": {},
   "outputs": [
    {
     "name": "stdout",
     "output_type": "stream",
     "text": [
      "1642.389574425441\n"
     ]
    },
    {
     "name": "stderr",
     "output_type": "stream",
     "text": [
      "/var/folders/f7/kn96xdj93ss0t67sn2q10n6c0000gn/T/ipykernel_3567/4082552612.py:3: MatplotlibDeprecationWarning: Axes3D(fig) adding itself to the figure is deprecated since 3.4. Pass the keyword argument auto_add_to_figure=False and use fig.add_axes(ax) to suppress this warning. The default value of auto_add_to_figure will change to False in mpl3.5 and True values will no longer work in 3.6.  This is consistent with other Axes classes.\n",
      "  axes1 = Axes3D(f1)\n"
     ]
    }
   ],
   "source": [
    "f1 = plt.figure(figsize=(20.0, 20.0), dpi=20)\n",
    "matplotlib.pyplot.grid(True)\n",
    "axes1 = Axes3D(f1)\n",
    "\n",
    "axes1.plot_surface(X, Y, Z1, cmap=cm.hot, alpha=0.2)\n",
    "axes1.scatter(x_data, y_data, z_data_1, s=500)\n",
    "\n",
    "axes1.set_title('Scatter Plot')\n",
    "axes1.set_xlabel('power - W', fontsize=30, labelpad=40)\n",
    "axes1.set_ylabel('ln(v)',fontsize=30, labelpad=40)\n",
    "axes1.set_zlabel('sigma1', fontsize=30, labelpad=40)\n",
    "\n",
    "axes1.tick_params(axis='both', which='major', labelsize=30)\n",
    " \n",
    "plt.show()\n",
    "print(mse_1)"
   ]
  },
  {
   "cell_type": "code",
   "execution_count": 141,
   "id": "2e147572",
   "metadata": {},
   "outputs": [
    {
     "name": "stdout",
     "output_type": "stream",
     "text": [
      "91.31064309630979\n"
     ]
    },
    {
     "name": "stderr",
     "output_type": "stream",
     "text": [
      "/var/folders/f7/kn96xdj93ss0t67sn2q10n6c0000gn/T/ipykernel_3567/266566414.py:3: MatplotlibDeprecationWarning: Axes3D(fig) adding itself to the figure is deprecated since 3.4. Pass the keyword argument auto_add_to_figure=False and use fig.add_axes(ax) to suppress this warning. The default value of auto_add_to_figure will change to False in mpl3.5 and True values will no longer work in 3.6.  This is consistent with other Axes classes.\n",
      "  axes2 = Axes3D(f2)\n"
     ]
    }
   ],
   "source": [
    "f2 = plt.figure(figsize=(20.0, 20.0), dpi=20)\n",
    "matplotlib.pyplot.grid(True)\n",
    "axes2 = Axes3D(f2)\n",
    "\n",
    "axes2.plot_surface(X, Y, Z2, cmap=cm.hot, alpha=0.2)\n",
    "axes2.scatter(x_data, y_data, z_data_2, s=500)\n",
    "\n",
    "axes2.set_title('Scatter Plot')\n",
    "axes2.set_xlabel('power - W', fontsize=30, labelpad=40)\n",
    "axes2.set_ylabel('ln(v)',fontsize=30, labelpad=40)\n",
    "axes2.set_zlabel('sigma2', fontsize=30, labelpad=40)\n",
    "\n",
    "axes2.tick_params(axis='both', which='major', labelsize=30)\n",
    "\n",
    "plt.show()\n",
    "print(mse_2)"
   ]
  },
  {
   "cell_type": "code",
   "execution_count": 142,
   "id": "521b0e3f",
   "metadata": {},
   "outputs": [],
   "source": [
    "def get_sigma1(dwell, power):\n",
    "    v = 88200/dwell\n",
    "    lnv = np.log(v)\n",
    "    [a,b,c,d,e,f,g] = [i for i in parameters_sigma1]\n",
    "    return function_sigma([power, lnv], a,b,c,d,e,f,g)\n",
    "\n",
    "def get_sigma2(dwell, power):\n",
    "    v = beamwidth/dwell\n",
    "    lnv = np.log(v)\n",
    "    [a,b,c,d,e,f,g] = [i for i in parameters_sigma2]\n",
    "    return function_sigma([power, lnv], a,b,c,d,e,f,g)\n",
    "\n",
    "def get_lateral_profile(dwell, power, distance_from_center):\n",
    "    v = beamwidth/dwell\n",
    "    lnv = np.log(v)\n",
    "    x = np.linspace(-250,249,500) #pixel\n",
    "    y = two_lorentz(x, get_peakT_from_fitting(dwell, power), 0, get_sigma1(dwell, power), get_sigma2(dwell, power))\n",
    "    plt.plot(x * pixel_size, y)\n",
    "    plt.xlabel(\"position\")\n",
    "    plt.ylabel(\"Temperature (Celsius)\")\n",
    "    plt.title(\"{}us, {}W\".format(dwell, power))\n",
    "    pixel_number = distance_from_center/pixel_size\n",
    "    if pixel_number <= 0:\n",
    "        ans = lorentz(pixel_number, get_peakT_from_fitting(dwell, power), 0, get_sigma1(dwell, power))\n",
    "    else:\n",
    "        ans = lorentz(pixel_number, get_peakT_from_fitting(dwell, power), 0, get_sigma2(dwell, power))\n",
    "\n",
    "    plt.plot(distance_from_center, ans, 'ro')\n",
    "    plt.annotate(\"T = {} °C\".format(round(ans)), xy=(distance_from_center, ans), xytext=(distance_from_center, ans))\n",
    "\n",
    "    return ans  \n",
    "\n",
    "def get_lateral_Tpeak(dwell, power, distance_from_center):\n",
    "    v = beamwidth/dwell\n",
    "    lnv = np.log(v)  \n",
    "    pixel_number = distance_from_center/pixel_size\n",
    "    if pixel_number <= 0:\n",
    "        ans = lorentz(pixel_number, get_peakT_from_fitting(dwell, power), 0, get_sigma1(dwell, power))\n",
    "    else:\n",
    "        ans = lorentz(pixel_number, get_peakT_from_fitting(dwell, power), 0, get_sigma2(dwell, power))\n",
    "    \n",
    "    return ans  "
   ]
  },
  {
   "cell_type": "code",
   "execution_count": 143,
   "id": "6df240da",
   "metadata": {},
   "outputs": [
    {
     "data": {
      "text/plain": [
       "439.63268850333327"
      ]
     },
     "execution_count": 143,
     "metadata": {},
     "output_type": "execute_result"
    }
   ],
   "source": [
    "get_lateral_profile(800, 27, -0.12)"
   ]
  },
  {
   "cell_type": "markdown",
   "id": "252c7164",
   "metadata": {},
   "source": [
    "# Function 4. Heat/Quench Rate Profile"
   ]
  },
  {
   "cell_type": "markdown",
   "id": "b5e16ea1",
   "metadata": {},
   "source": [
    "## get_temp_time_prifile(dwell, power, distance_from_center)"
   ]
  },
  {
   "cell_type": "code",
   "execution_count": 144,
   "id": "0ed0acbb",
   "metadata": {},
   "outputs": [],
   "source": [
    "dRoverR_all_points = [] # Use v_fit_list. It only contains velocity in v_fit_list.\n",
    "for i, v in enumerate(list(Dict_1.keys())):\n",
    "    con = []\n",
    "    if v in v_fit_list:\n",
    "        for file in Dict_1[v]:\n",
    "            val = get_dR_over_R(file, back_intensity_list[i])\n",
    "            con.append(val)\n",
    "        dRoverR_all_points.append(con)\n",
    "\n",
    "temp_of_frame = []    \n",
    "for i, v in enumerate(v_fit_list):\n",
    "    con_2 = []\n",
    "    velo = dRoverR_all_points[i]\n",
    "    for R in velo:\n",
    "        temp = get_peak_Temp(R, Dict_kappa_avg[v])\n",
    "        con_2.append(temp)\n",
    "    temp_of_frame.append(con_2)\n",
    "\n",
    "temp_time_line = []\n",
    "for i, v in enumerate(v_fit_list):\n",
    "    con_3 = []\n",
    "    velo = temp_of_frame[i]\n",
    "    for temp in velo:\n",
    "        temp_line = get_lines(temp)\n",
    "        con_3.append(temp_line)\n",
    "    temp_time_line.append(con_3)\n"
   ]
  },
  {
   "cell_type": "code",
   "execution_count": 145,
   "id": "d6f6c8d8",
   "metadata": {},
   "outputs": [
    {
     "name": "stderr",
     "output_type": "stream",
     "text": [
      "/Users/chiaentsai/.virtualenvs/venv/lib/python3.9/site-packages/scipy/optimize/_minpack_py.py:833: OptimizeWarning: Covariance of the parameters could not be estimated\n",
      "  warnings.warn('Covariance of the parameters could not be estimated',\n"
     ]
    }
   ],
   "source": [
    "parameters_all_quench = []\n",
    "for i, v in enumerate(v_fit_list):\n",
    "    con_4 = []\n",
    "    velo = temp_time_line[i]\n",
    "    for t in velo:\n",
    "        con_5 = []\n",
    "        for line in t:\n",
    "            par = fit(two_lorentz, line)\n",
    "        # [height, x_0, sigma1, sigma2] = fit(two_lorentz, t)\n",
    "            con_5.append(par)\n",
    "        con_4.append(con_5)\n",
    "    parameters_all_quench.append(con_4)\n"
   ]
  },
  {
   "cell_type": "markdown",
   "id": "675ad9c1",
   "metadata": {},
   "source": [
    "### fit sigma1, sigma2 plane(beam從下到上的情況)"
   ]
  },
  {
   "cell_type": "code",
   "execution_count": 146,
   "id": "b336a8a3",
   "metadata": {},
   "outputs": [
    {
     "name": "stdout",
     "output_type": "stream",
     "text": [
      "Using matplotlib backend: MacOSX\n"
     ]
    }
   ],
   "source": [
    "import numpy, scipy, scipy.optimize\n",
    "import matplotlib\n",
    "from mpl_toolkits.mplot3d import  Axes3D\n",
    "from matplotlib import cm # to colormap 3D surfaces from blue to red\n",
    "import matplotlib.pyplot as plt\n",
    "import pandas as pd\n",
    "%matplotlib\n",
    "\n",
    "\n",
    "all_sigma1 = []\n",
    "all_sigma2 = []\n",
    "\n",
    "for i, v in enumerate(v_fit_list):\n",
    "    con_sigma1 = []\n",
    "    con_sigma2 = []\n",
    "    for j in range(len(power_used[v])):\n",
    "        sigma1 = [abs(el[2]) for el in parameters_all_quench[i][j]]\n",
    "        sigma2 = [abs(el[3]) for el in parameters_all_quench[i][j]]\n",
    "        con_sigma1.append(sigma1)\n",
    "        con_sigma2.append(sigma2)\n",
    "    all_sigma1.append(con_sigma1)\n",
    "    all_sigma2.append(con_sigma2)\n",
    "\n",
    "n = Y_right_boundry - Y_left_boundry\n",
    "points_1 = [] # store the points for sigma1\n",
    "points_2 = [] # store the points for sigma2\n",
    "\n",
    "for i, v in enumerate(v_fit_list):\n",
    "    T = Dict_peak_temp[v]\n",
    "    P = [int(p) for p in power_used[v]]\n",
    "    lnv = [np.log(int(v))] * len(Dict_peak_temp[v])\n",
    "    distance_from_center = generate_consecutive_integers(0, Y_right_boundry-Y_left_boundry)\n",
    "    # a list [-75...0...74]\n",
    "    \n",
    "    for j in range(len(power_used[v])):\n",
    "             \n",
    "        for l in range(n):\n",
    "            \n",
    "            point1 = [list(x) for x in zip(*[[P[j] for i in range(n)], [lnv[j] for i in range(n)], all_sigma1[i][j], distance_from_center, [T[j] for i in range(n)]])]\n",
    "            points_1.append(point1)\n",
    "            point2 = [list(x) for x in zip(*[[P[j] for i in range(n)], [lnv[j] for i in range(n)], all_sigma2[i][j], distance_from_center, [T[j] for i in range(n)]])]\n",
    "            points_2.append(point2)\n",
    "\n",
    "x_data = []\n",
    "y_data = []\n",
    "d_data = []\n",
    "t_data = []\n",
    "z_data_1 = []\n",
    "z_data_2 = []\n",
    "\n",
    "for velo in points_1:  \n",
    "    for item in velo:\n",
    "        x_data.append(item[0]) # power\n",
    "        y_data.append(item[1]) # lnv\n",
    "        d_data.append(item[3]) # distance from center\n",
    "        z_data_1.append(item[2]) # sigma1\n",
    "        t_data.append(item[4]) # Tpeak\n",
    "        \n",
    "for velo in points_2:\n",
    "    for item in velo:\n",
    "        z_data_2.append(item[2]) # sigma2\n",
    "               \n",
    "x_data, y_data, z_data_1, z_data_2, t_data, d_data = np.array(x_data), np.array(y_data), np.array(z_data_1), np.array(z_data_2), np.array(t_data), np.array(d_data)\n",
    "\n",
    "mask = t_data > 400\n",
    "x_data = x_data[mask]\n",
    "y_data = y_data[mask]\n",
    "d_data = d_data[mask]\n",
    "z_data_1 = z_data_1[mask]\n",
    "z_data_2 = z_data_2[mask]\n",
    "\n",
    "# mask_2 = z_data_1 < 100000\n",
    "# x_data = x_data[mask_2]\n",
    "# y_data = y_data[mask_2]\n",
    "# d_data = d_data[mask_2]\n",
    "# z_data_1 = z_data_1[mask_2]\n",
    "# z_data_2 = z_data_2[mask_2]\n",
    "\n",
    "zscore_1 = np.abs(stats.zscore(z_data_1))\n",
    "mask_2 = zscore_1 < 1\n",
    "x_data = x_data[mask_2]\n",
    "y_data = y_data[mask_2]\n",
    "d_data = d_data[mask_2]\n",
    "z_data_1 = z_data_1[mask_2]\n",
    "z_data_2 = z_data_2[mask_2]\n",
    "\n",
    "zscore_2 = np.abs(stats.zscore(z_data_2))\n",
    "mask_3 = zscore_2 < 1\n",
    "x_data = x_data[mask_3]\n",
    "y_data = y_data[mask_3]\n",
    "d_data = d_data[mask_3]\n",
    "z_data_1 = z_data_1[mask_3]\n",
    "z_data_2 = z_data_2[mask_3]\n",
    "\n",
    "data = {'power': list(x_data),\n",
    "        'lnv': list(y_data),\n",
    "        'distance_from_center': list(d_data),\n",
    "        'sigma1': list(z_data_1),\n",
    "        'sigma2': list(z_data_2)     \n",
    "        }\n",
    "\n",
    "df = pd.DataFrame(data)\n",
    "\n",
    "x = df[['power','lnv','distance_from_center']]\n",
    "y1 = df['sigma1']\n",
    "y2 = df['sigma2']"
   ]
  },
  {
   "cell_type": "code",
   "execution_count": 147,
   "id": "8e12ef47",
   "metadata": {},
   "outputs": [
    {
     "name": "stdout",
     "output_type": "stream",
     "text": [
      "Intercept 1: \n",
      " 994.4136943466985\n",
      "Coefficients 1: \n",
      " [-27.80809018 -17.48009142   0.34629044]\n",
      "601073.6275668087\n"
     ]
    }
   ],
   "source": [
    "import pandas as pd\n",
    "from sklearn import linear_model\n",
    "import statsmodels.api as sm\n",
    "regr = linear_model.LinearRegression()\n",
    "regr.fit(x, y1)\n",
    "\n",
    "print('Intercept 1: \\n', regr.intercept_)\n",
    "print('Coefficients 1: \\n', regr.coef_)\n",
    "\n",
    "# # with statsmodels\n",
    "# x = sm.add_constant(x) # adding a constant\n",
    " \n",
    "# model = sm.OLS(y1, x).fit()\n",
    "# predictions = model.predict(x)  \n",
    " \n",
    "# print_model = model.summary()\n",
    "# print(print_model)\n",
    "# print(model.ssr/len(x)) # mean squared error\n",
    "\n",
    "z_predicted_1 = regr.predict(x)\n",
    "differences_1 = np.subtract(z_data_1, z_predicted_1)\n",
    "squared_differences_1 = np.square(differences_1)\n",
    "mse_1 = squared_differences_1.mean()\n",
    "print(mse_1)"
   ]
  },
  {
   "cell_type": "code",
   "execution_count": 148,
   "id": "e54b212b",
   "metadata": {},
   "outputs": [],
   "source": [
    "def get_sigma1_quench(dwell, power, distance_from_center):\n",
    "    v = 88200/dwell\n",
    "    lnv = np.log(v)\n",
    "    pixel_number = distance_from_center/pixel_size\n",
    "    data = {'power': [power],\n",
    "        'lnv': [lnv],\n",
    "        'distance_from_center': [pixel_number]\n",
    "        #'sigma1': list(z_data_1),\n",
    "        #'sigma2': list(z_data_2)     \n",
    "        }\n",
    "    df = pd.DataFrame(data)\n",
    "\n",
    "    a = df[['power','lnv','distance_from_center']]\n",
    "\n",
    "    return regr.predict(a)"
   ]
  },
  {
   "cell_type": "code",
   "execution_count": 149,
   "id": "94962d61",
   "metadata": {},
   "outputs": [
    {
     "name": "stdout",
     "output_type": "stream",
     "text": [
      "Intercept 2: \n",
      " 997.2086882320561\n",
      "Coefficients 2: \n",
      " [-38.57978723 106.27654782   1.52093475]\n",
      "4526890.965448019\n"
     ]
    }
   ],
   "source": [
    "regr_2 = linear_model.LinearRegression()\n",
    "regr_2.fit(x, y2)\n",
    "print('Intercept 2: \\n', regr_2.intercept_)\n",
    "print('Coefficients 2: \\n', regr_2.coef_)\n",
    "\n",
    "z_predicted_2 = regr.predict(x)\n",
    "differences_2 = np.subtract(z_data_2, z_predicted_2)\n",
    "squared_differences_2 = np.square(differences_2)\n",
    "mse_2 = squared_differences_2.mean()\n",
    "print(mse_2)\n"
   ]
  },
  {
   "cell_type": "code",
   "execution_count": 150,
   "id": "3ef40f8e",
   "metadata": {},
   "outputs": [],
   "source": [
    "def get_sigma2_quench(dwell, power, distance_from_center):\n",
    "    v = 88200/dwell\n",
    "    lnv = np.log(v)\n",
    "    pixel_number = distance_from_center/pixel_size\n",
    "    data = {'power': [power],\n",
    "        'lnv': [lnv],\n",
    "        'distance_from_center': [pixel_number]    \n",
    "        }\n",
    "    df = pd.DataFrame(data)\n",
    "\n",
    "    a = df[['power','lnv','distance_from_center']]\n",
    "\n",
    "    return regr_2.predict(a)"
   ]
  },
  {
   "cell_type": "code",
   "execution_count": 151,
   "id": "77fc1a0a",
   "metadata": {},
   "outputs": [],
   "source": [
    "from numpy import diff\n",
    "\n",
    "def get_quench_profile(dwell, power, distance_from_center):\n",
    "    v = beamwidth/dwell\n",
    "    lnv = np.log(v)\n",
    "    x = np.linspace(-250,249,500) #pixel\n",
    "    y = two_lorentz(x, get_lateral_Tpeak(dwell, power, distance_from_center), 0, get_sigma1_quench(dwell, power, distance_from_center), get_sigma2_quench(dwell, power, distance_from_center))\n",
    "    plt.plot(x * pixel_size, y)\n",
    "    plt.xlabel(\"position\")\n",
    "    plt.ylabel(\"Temperature (Celsius)\")\n",
    "    plt.title(\"{}us, {}W, {}from center\".format(dwell, power, distance_from_center))\n",
    "    pixel_number = distance_from_center/pixel_size\n",
    "    \n",
    "\n",
    "def get_quench_data(dwell, power, distance_from_center):\n",
    "    v = beamwidth/dwell\n",
    "    lnv = np.log(v)\n",
    "    #pixel_number = distance_from_center/pixel_size\n",
    "    x = np.linspace(-250,249,500) #pixel\n",
    "    y = two_lorentz(x, get_lateral_Tpeak(dwell, power, distance_from_center), 0, get_sigma1_quench(dwell, power, distance_from_center), get_sigma2_quench(dwell, power, distance_from_center))\n",
    "        \n",
    "    return y\n",
    "\n",
    "def pixel_to_position(pixel):\n",
    "    return pixel * pixel_size\n",
    "\n",
    "def get_rate(dwell, power, distance_from_center):\n",
    "    v = beamwidth/dwell\n",
    "    lnv = np.log(v)\n",
    "    #pixel_number = distance_from_center/pixel_size\n",
    "    x = np.linspace(-250,249,500) #pixel\n",
    "    y = get_quench_data(dwell, power, distance_from_center)\n",
    "    positions = pixel_to_position(x) \n",
    "    times = positions/v\n",
    "    der = np.diff(y)/np.diff(times)\n",
    "    plt.plot(times[:-1], der, 'r')\n",
    "    # plt.plot(times, y, 'g')\n",
    "    plt.show()\n",
    "\n",
    "    return np.max(der), np.min(der)\n",
    "    # return times\n",
    "\n",
    "def get_quench_profile_time(dwell, power, distance_from_center):\n",
    "    v = beamwidth/dwell\n",
    "    lnv = np.log(v)\n",
    "    x = np.linspace(-250,249,500) #pixel\n",
    "    positions = pixel_to_position(x) \n",
    "    times = positions/v\n",
    "    y = two_lorentz(x, get_lateral_Tpeak(dwell, power, distance_from_center), 0, get_sigma1_quench(dwell, power, distance_from_center), get_sigma2_quench(dwell, power, distance_from_center))\n",
    "    plt.plot(times, y)\n",
    "    plt.xlabel(\"time\")\n",
    "    plt.ylabel(\"Temperature (Celsius)\")\n",
    "    plt.title(\"{}us, {}W, {}from center\".format(dwell, power, distance_from_center))\n"
   ]
  },
  {
   "cell_type": "code",
   "execution_count": 152,
   "id": "93cc31eb",
   "metadata": {},
   "outputs": [],
   "source": [
    "get_quench_profile(800, 27, -0.12)"
   ]
  },
  {
   "cell_type": "code",
   "execution_count": 153,
   "id": "8d4a9aab",
   "metadata": {},
   "outputs": [],
   "source": [
    "get_quench_profile(1400, get_power(1400, 1000), 0)"
   ]
  },
  {
   "cell_type": "code",
   "execution_count": 154,
   "id": "49352b62",
   "metadata": {},
   "outputs": [],
   "source": [
    "get_quench_profile(9800, get_power(9800, 1000), 0)"
   ]
  },
  {
   "cell_type": "code",
   "execution_count": 157,
   "id": "34d75af0",
   "metadata": {},
   "outputs": [
    {
     "data": {
      "text/plain": [
       "(10338497.358567942, -246776.45005888393)"
      ]
     },
     "execution_count": 157,
     "metadata": {},
     "output_type": "execute_result"
    }
   ],
   "source": [
    "get_rate(1400, get_power(1400, 1000), 0)"
   ]
  },
  {
   "cell_type": "code",
   "execution_count": 158,
   "id": "8bed3893",
   "metadata": {},
   "outputs": [
    {
     "data": {
      "text/plain": [
       "(47846.36625903324, -88232.7245733959)"
      ]
     },
     "execution_count": 158,
     "metadata": {},
     "output_type": "execute_result"
    }
   ],
   "source": [
    "get_rate(9800, get_power(9800, 1000), 0)"
   ]
  },
  {
   "cell_type": "code",
   "execution_count": 159,
   "id": "564b6f48",
   "metadata": {},
   "outputs": [
    {
     "data": {
      "text/plain": [
       "476.0000000000001"
      ]
     },
     "execution_count": 159,
     "metadata": {},
     "output_type": "execute_result"
    }
   ],
   "source": [
    "get_lateral_Tpeak(1400, get_power(1400, 476), 0)"
   ]
  },
  {
   "cell_type": "code",
   "execution_count": null,
   "id": "69b8f99c",
   "metadata": {},
   "outputs": [
    {
     "data": {
      "text/plain": [
       "30.046905600185443"
      ]
     },
     "metadata": {},
     "output_type": "display_data"
    }
   ],
   "source": [
    "get_power(9800, 1000)"
   ]
  }
 ],
 "metadata": {
  "kernelspec": {
   "display_name": "Python 3 (ipykernel)",
   "language": "python",
   "name": "python3"
  },
  "language_info": {
   "codemirror_mode": {
    "name": "ipython",
    "version": 3
   },
   "file_extension": ".py",
   "mimetype": "text/x-python",
   "name": "python",
   "nbconvert_exporter": "python",
   "pygments_lexer": "ipython3",
   "version": "3.9.0"
  },
  "vscode": {
   "interpreter": {
    "hash": "05a9d8f434e6f97949f116bb3fd6e0132cb85e41e1947128ba85095efa1eda1d"
   }
  }
 },
 "nbformat": 4,
 "nbformat_minor": 5
}
