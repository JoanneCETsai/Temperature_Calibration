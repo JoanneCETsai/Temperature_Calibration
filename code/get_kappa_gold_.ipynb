{
 "cells": [
  {
   "cell_type": "markdown",
   "metadata": {},
   "source": [
    "## Get kappa with gold melting power"
   ]
  },
  {
   "cell_type": "markdown",
   "metadata": {},
   "source": [
    "### input: gold melting power at specific velocity "
   ]
  },
  {
   "cell_type": "code",
   "execution_count": null,
   "metadata": {},
   "outputs": [],
   "source": [
    "gold_list = ['103', '155', '20', '45', '68', '9']\n",
    "\n",
    "gold_melting_W = {\n",
    "    '103': 54,\n",
    "    '155': 58,\n",
    "    '20': 45,\n",
    "    '45': 49.5,\n",
    "    '68': 52,\n",
    "    '9': 42.5\n",
    "}"
   ]
  },
  {
   "cell_type": "markdown",
   "metadata": {},
   "source": [
    "### Data set 1"
   ]
  },
  {
   "cell_type": "code",
   "execution_count": null,
   "metadata": {},
   "outputs": [],
   "source": [
    "Dict_gold = dict((k, fivemm_files[k][10:]) for k in gold_list)\n",
    "back_intensity_list_gold = []\n",
    "for key in fivemm_files:\n",
    "    if key in gold_list:\n",
    "        index = list(fivemm_files).index(key)\n",
    "        back_intensity_list_gold.append(back_intensity_list[index])\n",
    "\n",
    "#Dict_dRoverR = dict.fromkeys(list(Dict_gold.keys()),[])\n",
    "dRoverR = []\n",
    "for i, v in enumerate(list(Dict_gold.keys())):\n",
    "    con = []\n",
    "    for file in Dict_gold[v]:\n",
    "        val = get_peak_dRoverR(file, back_intensity_list_gold[i], two_lorentz, two_lorentz)\n",
    "        con.append(val)\n",
    "    dRoverR.append(con)\n",
    "\n",
    "power_gold = []\n",
    "for i, (key, value) in enumerate(fivemm_files.items()):\n",
    "    if key in gold_list:\n",
    "        power_gold.append(power_list[i][1:])\n",
    "\n",
    "for i, v in enumerate(list(Dict_gold.keys())):\n",
    "    plt.plot(power_gold[i][:-1], dRoverR[i][:-1], '.')\n",
    "    plt.xlabel(\"power\")\n",
    "    plt.ylabel(\"dR/R\")\n",
    "    plt.savefig(\"/Users/chiaentsai/Desktop/lab/Temperature_Calibration/gold_dRoverR_figure/{}mm.png\".format(v), format=\"PNG\")\n",
    "    plt.close()\n",
    "\n",
    "kappa_gold = []\n",
    "for i, v in enumerate(list(Dict_gold.keys())):\n",
    "    power = [float(j) for j in power_gold[i]][:-1]\n",
    "    y = dRoverR[i][:-1]\n",
    "    popt, pcov = curve_fit(expo, power, y, p0 = [1, 0.0000005, 1], maxfev = 8000)\n",
    "    #a, b, c = popt\n",
    "    plt.plot(power, y, '.')\n",
    "    y_pred = [expo(j, *popt) for j in power]\n",
    "    plt.plot(power, y_pred)\n",
    "    plt.xlabel(\"power\")\n",
    "    plt.ylabel(\"dR/R\")\n",
    "    plt.savefig(\"/Users/chiaentsai/Desktop/lab/Temperature_Calibration/gold_dRoverR_fit_figure/{}mm.png\".format(v), format=\"PNG\")\n",
    "    plt.close()\n",
    "    f = expo(gold_melting_W[v], *popt)\n",
    "    gold_m = 1064\n",
    "    dT = gold_m - 21\n",
    "    kappa = f / dT\n",
    "    kappa_gold.append(kappa)\n",
    "    \n",
    "Dict_kappa_gold = dict(zip(list(Dict_gold.keys()),kappa_gold))\n",
    "\n",
    "plt.plot(list(Dict_gold.keys()), kappa_gold, '.')\n",
    "plt.savefig(\"/Users/chiaentsai/Desktop/lab/Temperature_Calibration/kappa.png\", format=\"PNG\")"
   ]
  },
  {
   "cell_type": "code",
   "execution_count": null,
   "metadata": {},
   "outputs": [],
   "source": [
    "avg_kappa_gold = sum(kappa_gold) / len(kappa_gold)\n",
    "avg_kappa_gold"
   ]
  },
  {
   "cell_type": "markdown",
   "metadata": {},
   "source": [
    "### Data set 2"
   ]
  },
  {
   "cell_type": "code",
   "execution_count": 1,
   "metadata": {},
   "outputs": [],
   "source": [
    "Dict_gold = dict((k, fivemm_files_2[k][10:]) for k in gold_list)\n",
    "back_intensity_list_gold = []\n",
    "for key in fivemm_files_2:\n",
    "    if key in gold_list:\n",
    "        index = list(fivemm_files_2).index(key)\n",
    "        back_intensity_list_gold.append(back_intensity_list_2[index])\n",
    "\n",
    "#Dict_dRoverR = dict.fromkeys(list(Dict_gold.keys()),[])\n",
    "dRoverR = []\n",
    "for i, v in enumerate(list(Dict_gold.keys())):\n",
    "    con = []\n",
    "    for file in Dict_gold[v]:\n",
    "        val = get_peak_dRoverR(file, back_intensity_list_gold[i], two_lorentz, two_lorentz)\n",
    "        con.append(val)\n",
    "    dRoverR.append(con)\n",
    "\n",
    "power_gold = []\n",
    "for i, (key, value) in enumerate(fivemm_files_2.items()):\n",
    "    if key in gold_list:\n",
    "        power_gold.append(power_list_2[i][1:])\n",
    "\n",
    "for i, v in enumerate(list(Dict_gold.keys())):\n",
    "    plt.plot(power_gold[i][:-1], dRoverR[i][:-1], '.')\n",
    "    plt.xlabel(\"power\")\n",
    "    plt.ylabel(\"dR/R\")\n",
    "    plt.savefig(\"/Users/chiaentsai/Desktop/lab/Temperature_Calibration/gold_dRoverR_figure_2/{}mm.png\".format(v), format=\"PNG\")\n",
    "    plt.close()\n",
    "\n",
    "kappa_gold = []\n",
    "for i, v in enumerate(list(Dict_gold.keys())):\n",
    "    power = [float(j) for j in power_gold[i]][:-1]\n",
    "    y = dRoverR[i][:-1]\n",
    "    popt, pcov = curve_fit(expo, power, y, p0 = [1, 0.0000003, 1], maxfev = 8000)\n",
    "    #a, b, c = popt\n",
    "    plt.plot(power, y, '.')\n",
    "    y_pred = [expo(j, *popt) for j in power]\n",
    "    plt.plot(power, y_pred)\n",
    "    plt.xlabel(\"power\")\n",
    "    plt.ylabel(\"dR/R\")\n",
    "    plt.savefig(\"/Users/chiaentsai/Desktop/lab/Temperature_Calibration/gold_dRoverR_fit_figure_2/{}mm.png\".format(v), format=\"PNG\")\n",
    "    plt.close()\n",
    "    f = expo(gold_melting_W[v], *popt)\n",
    "    gold_m = 1064\n",
    "    dT = gold_m - 21\n",
    "    kappa = f / dT\n",
    "    kappa_gold.append(kappa)\n",
    "    \n",
    "Dict_kappa_gold = dict(zip(list(Dict_gold.keys()),kappa_gold))\n",
    "\n",
    "plt.plot(list(Dict_gold.keys()), kappa_gold, '.')\n",
    "plt.savefig(\"/Users/chiaentsai/Desktop/lab/Temperature_Calibration/kappa_2.png\", format=\"PNG\")"
   ]
  },
  {
   "cell_type": "code",
   "execution_count": null,
   "metadata": {},
   "outputs": [],
   "source": [
    "avg_kappa_gold = sum(kappa_gold) / len(kappa_gold)\n",
    "avg_kappa_gold"
   ]
  },
  {
   "cell_type": "markdown",
   "metadata": {},
   "source": [
    "### Data set 3"
   ]
  },
  {
   "cell_type": "code",
   "execution_count": null,
   "metadata": {},
   "outputs": [],
   "source": [
    "Dict_gold = dict((k, fivemm_files_3[k][10:]) for k in gold_list)\n",
    "back_intensity_list_gold = []\n",
    "for key in fivemm_files_3:\n",
    "    if key in gold_list:\n",
    "        index = list(fivemm_files_3).index(key)\n",
    "        back_intensity_list_gold.append(back_intensity_list_3[index])\n",
    "\n",
    "#Dict_dRoverR = dict.fromkeys(list(Dict_gold.keys()),[])\n",
    "dRoverR = []\n",
    "for i, v in enumerate(list(Dict_gold.keys())):\n",
    "    con = []\n",
    "    for file in Dict_gold[v]:\n",
    "        val = get_peak_dRoverR(file, back_intensity_list_gold[i], two_lorentz, two_lorentz)\n",
    "        con.append(val)\n",
    "    dRoverR.append(con)\n",
    "\n",
    "power_gold = []\n",
    "for i, (key, value) in enumerate(fivemm_files_3.items()):\n",
    "    if key in gold_list:\n",
    "        power_gold.append(power_list_3[i][1:])\n",
    "\n",
    "for i, v in enumerate(list(Dict_gold.keys())):\n",
    "    plt.plot(power_gold[i][:-1], dRoverR[i][:-1], '.')\n",
    "    plt.xlabel(\"power\")\n",
    "    plt.ylabel(\"dR/R\")\n",
    "    plt.savefig(\"/Users/chiaentsai/Desktop/lab/Temperature_Calibration/gold_dRoverR_figure_3/{}mm.png\".format(v), format=\"PNG\")\n",
    "    plt.close()\n",
    "\n",
    "kappa_gold = []\n",
    "for i, v in enumerate(list(Dict_gold.keys())):\n",
    "    power = [float(j) for j in power_gold[i]][:-1]\n",
    "    y = dRoverR[i][:-1]\n",
    "    popt, pcov = curve_fit(expo, power, y, p0 = [1, 0.0000005, 1], maxfev = 8000)\n",
    "    #a, b, c = popt\n",
    "    plt.plot(power, y, '.')\n",
    "    y_pred = [expo(j, *popt) for j in power]\n",
    "    plt.plot(power, y_pred)\n",
    "    plt.xlabel(\"power\")\n",
    "    plt.ylabel(\"dR/R\")\n",
    "    plt.savefig(\"/Users/chiaentsai/Desktop/lab/Temperature_Calibration/gold_dRoverR_fit_figure_3/{}mm.png\".format(v), format=\"PNG\")\n",
    "    plt.close()\n",
    "    f = expo(gold_melting_W[v], *popt)\n",
    "    gold_m = 1064\n",
    "    dT = gold_m - 21\n",
    "    kappa = f / dT\n",
    "    kappa_gold.append(kappa)\n",
    "    \n",
    "Dict_kappa_gold = dict(zip(list(Dict_gold.keys()),kappa_gold))\n",
    "\n",
    "plt.plot(list(Dict_gold.keys()), kappa_gold, '.')\n",
    "plt.savefig(\"/Users/chiaentsai/Desktop/lab/Temperature_Calibration/kappa_3.png\", format=\"PNG\")"
   ]
  },
  {
   "cell_type": "code",
   "execution_count": null,
   "metadata": {},
   "outputs": [],
   "source": [
    "avg_kappa_gold = sum(kappa_gold) / len(kappa_gold)\n",
    "avg_kappa_gold"
   ]
  },
  {
   "cell_type": "markdown",
   "metadata": {},
   "source": [
    "### Data set 4"
   ]
  },
  {
   "cell_type": "code",
   "execution_count": null,
   "metadata": {},
   "outputs": [],
   "source": [
    "Dict_gold = dict((k, fivemm_files_4[k][10:]) for k in gold_list)\n",
    "back_intensity_list_gold = []\n",
    "for key in fivemm_files_4:\n",
    "    if key in gold_list:\n",
    "        index = list(fivemm_files_4).index(key)\n",
    "        back_intensity_list_gold.append(back_intensity_list_4[index])\n",
    "\n",
    "#Dict_dRoverR = dict.fromkeys(list(Dict_gold.keys()),[])\n",
    "dRoverR = []\n",
    "for i, v in enumerate(list(Dict_gold.keys())):\n",
    "    con = []\n",
    "    for file in Dict_gold[v]:\n",
    "        val = get_peak_dRoverR(file, back_intensity_list_gold[i], two_lorentz, two_lorentz)\n",
    "        con.append(val)\n",
    "    dRoverR.append(con)\n",
    "\n",
    "power_gold = []\n",
    "for i, (key, value) in enumerate(fivemm_files_4.items()):\n",
    "    if key in gold_list:\n",
    "        power_gold.append(power_list_4[i][1:])\n",
    "\n",
    "for i, v in enumerate(list(Dict_gold.keys())):\n",
    "    plt.plot(power_gold[i][:-1], dRoverR[i][:-1], '.')\n",
    "    plt.xlabel(\"power\")\n",
    "    plt.ylabel(\"dR/R\")\n",
    "    plt.savefig(\"/Users/chiaentsai/Desktop/lab/Temperature_Calibration/gold_dRoverR_figure_4/{}mm.png\".format(v), format=\"PNG\")\n",
    "    plt.close()\n",
    "\n",
    "kappa_gold = []\n",
    "for i, v in enumerate(list(Dict_gold.keys())):\n",
    "    power = [float(j) for j in power_gold[i]][:-1]\n",
    "    y = dRoverR[i][:-1]\n",
    "    popt, pcov = curve_fit(expo, power, y, p0 = [1, 0.0000005, 1], maxfev = 8000)\n",
    "    #a, b, c = popt\n",
    "    plt.plot(power, y, '.')\n",
    "    y_pred = [expo(j, *popt) for j in power]\n",
    "    plt.plot(power, y_pred)\n",
    "    plt.xlabel(\"power\")\n",
    "    plt.ylabel(\"dR/R\")\n",
    "    plt.savefig(\"/Users/chiaentsai/Desktop/lab/Temperature_Calibration/gold_dRoverR_fit_figure_4/{}mm.png\".format(v), format=\"PNG\")\n",
    "    plt.close()\n",
    "    f = expo(gold_melting_W[v], *popt)\n",
    "    gold_m = 1064\n",
    "    dT = gold_m - 21\n",
    "    kappa = f / dT\n",
    "    kappa_gold.append(kappa)\n",
    "    \n",
    "Dict_kappa_gold = dict(zip(list(Dict_gold.keys()),kappa_gold))\n",
    "\n",
    "plt.plot(list(Dict_gold.keys()), kappa_gold, '.')\n",
    "plt.savefig(\"/Users/chiaentsai/Desktop/lab/Temperature_Calibration/kappa_4.png\", format=\"PNG\")"
   ]
  },
  {
   "cell_type": "code",
   "execution_count": null,
   "metadata": {},
   "outputs": [],
   "source": [
    "avg_kappa_gold = sum(kappa_gold) / len(kappa_gold)\n",
    "avg_kappa_gold"
   ]
  },
  {
   "cell_type": "markdown",
   "metadata": {},
   "source": [
    "### use average dR/R"
   ]
  },
  {
   "cell_type": "code",
   "execution_count": null,
   "metadata": {},
   "outputs": [],
   "source": [
    "Dict_gold_1 = dict((k, fivemm_files[k][10:]) for k in gold_list)\n",
    "Dict_gold_2 = dict((k, fivemm_files_2[k][10:]) for k in gold_list)\n",
    "Dict_gold_3 = dict((k, fivemm_files_3[k][10:]) for k in gold_list)\n",
    "Dict_gold_4 = dict((k, fivemm_files_4[k][10:]) for k in gold_list)\n",
    "\n",
    "back_intensity_list_gold_1 = []\n",
    "back_intensity_list_gold_2 = []\n",
    "back_intensity_list_gold_3 = []\n",
    "back_intensity_list_gold_4 = []\n",
    "\n",
    "for key in fivemm_files:\n",
    "    if key in gold_list:\n",
    "        index = list(fivemm_files).index(key)\n",
    "        back_intensity_list_gold_1.append(back_intensity_list[index])\n",
    "for key in fivemm_files_2:\n",
    "    if key in gold_list:\n",
    "        index = list(fivemm_files_2).index(key)\n",
    "        back_intensity_list_gold_2.append(back_intensity_list_2[index])\n",
    "for key in fivemm_files_3:\n",
    "    if key in gold_list:\n",
    "        index = list(fivemm_files_3).index(key)\n",
    "        back_intensity_list_gold_3.append(back_intensity_list_3[index])\n",
    "for key in fivemm_files_4:\n",
    "    if key in gold_list:\n",
    "        index = list(fivemm_files_4).index(key)\n",
    "        back_intensity_list_gold_4.append(back_intensity_list_4[index])\n",
    "\n",
    "dRoverR_1 = []\n",
    "dRoverR_2 = []\n",
    "dRoverR_3 = []\n",
    "dRoverR_4 = []\n",
    "\n",
    "for i, v in enumerate(list(Dict_gold_1.keys())):\n",
    "    con = []\n",
    "    for file in Dict_gold_1[v]:\n",
    "        val = get_peak_dRoverR(file, back_intensity_list_gold_1[i], two_lorentz, two_lorentz)\n",
    "        con.append(val)\n",
    "    dRoverR_1.append(con)\n",
    "\n",
    "for i, v in enumerate(list(Dict_gold_2.keys())):\n",
    "    con = []\n",
    "    for file in Dict_gold_2[v]:\n",
    "        val = get_peak_dRoverR(file, back_intensity_list_gold_2[i], two_lorentz, two_lorentz)\n",
    "        con.append(val)\n",
    "    dRoverR_2.append(con)\n",
    "\n",
    "for i, v in enumerate(list(Dict_gold_3.keys())):\n",
    "    con = []\n",
    "    for file in Dict_gold_3[v]:\n",
    "        val = get_peak_dRoverR(file, back_intensity_list_gold_3[i], two_lorentz, two_lorentz)\n",
    "        con.append(val)\n",
    "    dRoverR_3.append(con)\n",
    "\n",
    "for i, v in enumerate(list(Dict_gold_4.keys())):\n",
    "    con = []\n",
    "    for file in Dict_gold_4[v]:\n",
    "        val = get_peak_dRoverR(file, back_intensity_list_gold_4[i], two_lorentz, two_lorentz)\n",
    "        con.append(val)\n",
    "    dRoverR_4.append(con)"
   ]
  },
  {
   "cell_type": "code",
   "execution_count": null,
   "metadata": {},
   "outputs": [],
   "source": [
    "for i in range(0,len(dRoverR_1),1):\n",
    "    dRoverR_1[i] = dRoverR_1[i][:-1]\n",
    "\n",
    "for i in range(0,len(dRoverR_2),1):\n",
    "    dRoverR_2[i] = dRoverR_2[i][:-1]\n",
    "\n",
    "for i in range(0,len(dRoverR_3),1):\n",
    "    dRoverR_3[i] = dRoverR_3[i][:-1]\n",
    "\n",
    "for i in range(0,len(dRoverR_4),1):\n",
    "    dRoverR_4[i] = dRoverR_4[i][:-1]"
   ]
  },
  {
   "cell_type": "code",
   "execution_count": null,
   "metadata": {},
   "outputs": [],
   "source": [
    "dRoverR_2[1] = dRoverR_2[1][:-1]\n",
    "dRoverR_1[2] = dRoverR_1[2][:-1]\n",
    "dRoverR_1[3] = dRoverR_1[3][:-1]\n",
    "dRoverR_3[3] = dRoverR_3[3][:-1]\n",
    "dRoverR_4[3] = dRoverR_4[3][:-1]\n",
    "dRoverR_1[4] = dRoverR_1[4][:-1]\n",
    "dRoverR_3[4] = dRoverR_3[4][:-1]\n",
    "dRoverR_4[4] = dRoverR_4[4][:-1]\n",
    "dRoverR_1[5] = dRoverR_1[5][:-1]"
   ]
  },
  {
   "cell_type": "code",
   "execution_count": null,
   "metadata": {},
   "outputs": [],
   "source": [
    "power_gold = [[],[],[],[],[],[]]\n",
    "power_gold[0] = [29+2*i for i in range(0,11,1)]\n",
    "power_gold[1] = [29+2*i for i in range(0,12,1)]\n",
    "power_gold[2] = [29+2*i for i in range(0,7,1)]\n",
    "power_gold[3] = [29+2*i for i in range(0,8,1)]\n",
    "power_gold[4] = [29+2*i for i in range(0,9,1)]\n",
    "power_gold[5] = [29+2*i for i in range(0,6,1)]"
   ]
  },
  {
   "cell_type": "code",
   "execution_count": null,
   "metadata": {},
   "outputs": [],
   "source": [
    "avg_dRoverR = [[],[],[],[],[],[]]\n",
    "for i in range(0,6,1):\n",
    "    arrays = [dRoverR_1[i], dRoverR_2[i], dRoverR_3[i], dRoverR_4[i]]\n",
    "    avg_dRoverR[i] = [np.mean(k) for k in zip(*arrays)]"
   ]
  },
  {
   "cell_type": "code",
   "execution_count": null,
   "metadata": {},
   "outputs": [],
   "source": [
    "for i, v in enumerate(list(Dict_gold_1.keys())):\n",
    "    plt.plot(power_gold[i], avg_dRoverR[i], '.')\n",
    "    plt.xlabel(\"power\")\n",
    "    plt.ylabel(\"dR/R\")\n",
    "    plt.savefig(\"/Users/chiaentsai/Desktop/lab/Temperature_Calibration/gold_dRoverR_figure_avg/{}mm.png\".format(v), format=\"PNG\")\n",
    "    plt.close()"
   ]
  },
  {
   "cell_type": "code",
   "execution_count": null,
   "metadata": {},
   "outputs": [],
   "source": [
    "kappa_gold_avg = []\n",
    "for i, v in enumerate(list(Dict_gold_1.keys())):\n",
    "    popt, pcov = curve_fit(expo, power_gold[i], avg_dRoverR[i], p0 = [1, 0.0000005, 1], maxfev = 8000)\n",
    "    #a, b, c = popt\n",
    "    plt.plot(power_gold[i], avg_dRoverR[i], '.')\n",
    "    y_pred = [expo(j, *popt) for j in power_gold[i]]\n",
    "    plt.plot(power_gold[i], y_pred)\n",
    "    plt.xlabel(\"power\")\n",
    "    plt.ylabel(\"dR/R\")\n",
    "    plt.savefig(\"/Users/chiaentsai/Desktop/lab/Temperature_Calibration/gold_dRoverR_fit_figure_avg/{}mm.png\".format(v), format=\"PNG\")\n",
    "    plt.close()\n",
    "    f = expo(gold_melting_W[v], *popt)\n",
    "    gold_m = 1064\n",
    "    dT = gold_m - 21\n",
    "    kappa = f / dT\n",
    "    kappa_gold_avg.append(kappa)\n",
    "    \n",
    "#Dict_kappa_gold = dict(zip(list(Dict_gold.keys()),kappa_gold))\n",
    "\n",
    "plt.plot(list(Dict_gold_1.keys()), kappa_gold_avg, '.')\n",
    "plt.savefig(\"/Users/chiaentsai/Desktop/lab/Temperature_Calibration/kappa_avg.png\", format=\"PNG\")"
   ]
  },
  {
   "cell_type": "code",
   "execution_count": null,
   "metadata": {},
   "outputs": [],
   "source": []
  }
 ],
 "metadata": {
  "kernelspec": {
   "display_name": "Python 3.9.0 ('venv')",
   "language": "python",
   "name": "python3"
  },
  "language_info": {
   "codemirror_mode": {
    "name": "ipython",
    "version": 3
   },
   "file_extension": ".py",
   "mimetype": "text/x-python",
   "name": "python",
   "nbconvert_exporter": "python",
   "pygments_lexer": "ipython3",
   "version": "3.9.0"
  },
  "orig_nbformat": 4,
  "vscode": {
   "interpreter": {
    "hash": "05a9d8f434e6f97949f116bb3fd6e0132cb85e41e1947128ba85095efa1eda1d"
   }
  }
 },
 "nbformat": 4,
 "nbformat_minor": 2
}
