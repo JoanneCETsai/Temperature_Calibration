{
 "cells": [
  {
   "cell_type": "code",
   "execution_count": 62,
   "metadata": {},
   "outputs": [],
   "source": [
    "%run \"curve_fit_.ipynb\"\n",
    "%run \"data_processing_.ipynb\" #HEADER_LEN,X_DIM,Y_DIM,X_left_boundry,X_right_boundry,Y_left_boundry,Y_right_boundry\n",
    "%run \"evaluation_functions_.ipynb\"\n",
    "%run \"fitting_functions_.ipynb\"\n",
    "%run \"get_temperature_.ipynb\"\n",
    "%run \"load_data_.ipynb\" # frame rate, shutter delay, and interseted position \n",
    "%run \"get_backbround_average_.ipynb\" \n",
    "%run \"frame_vs_temperature.ipynb\" # get_powers"
   ]
  },
  {
   "cell_type": "code",
   "execution_count": 63,
   "metadata": {},
   "outputs": [],
   "source": [
    "folder = \"/Users/chiaentsai/Library/CloudStorage/Box-Box/MURI-SARA/Thermoreflectance/Joanne/CHESS/0210_2023_newbeam\""
   ]
  },
  {
   "cell_type": "code",
   "execution_count": 64,
   "metadata": {},
   "outputs": [
    {
     "name": "stdout",
     "output_type": "stream",
     "text": [
      "[3, 21, 10, 42, 4]\n"
     ]
    },
    {
     "data": {
      "text/plain": [
       "[['103.8'], ['17.6'], ['35.3'], ['8.8'], ['88.2']]"
      ]
     },
     "execution_count": 64,
     "metadata": {},
     "output_type": "execute_result"
    }
   ],
   "source": [
    "all_files, fivemm_files, velocity_path_list, velocity_list, used_frame_num = get_needed_files(folder)\n",
    "back_intensity_list = get_background_average(fivemm_files)\n",
    "power_list = get_powers(all_files)\n",
    "velocity_list"
   ]
  },
  {
   "cell_type": "code",
   "execution_count": 65,
   "metadata": {},
   "outputs": [],
   "source": [
    "gold_melting_W = {\n",
    "    '103.8': 98.5,\n",
    "    '17.6': 64,\n",
    "    '35.3': 73.5,\n",
    "    '8.8': 61.5,\n",
    "    '88.2': 93.5\n",
    "}"
   ]
  },
  {
   "cell_type": "code",
   "execution_count": 66,
   "metadata": {},
   "outputs": [],
   "source": [
    "v_list = ['103.8', '17.6', '35.3', '8.8', '88.2']\n",
    "Dict_1 = dict((k, fivemm_files[k][3:]) for k in v_list) # not included 0W files\n",
    "back_intensity_list_1 = []\n",
    "for key in fivemm_files:\n",
    "    if key in v_list:\n",
    "        index = list(fivemm_files).index(key)\n",
    "        back_intensity_list_1.append(back_intensity_list[index])\n",
    "dRoverR_1 = []\n",
    "for i, v in enumerate(list(Dict_1.keys())):\n",
    "    con = []\n",
    "    for file in Dict_1[v]:\n",
    "        val = get_peak_dRoverR(file, back_intensity_list_1[i], two_lorentz, two_lorentz)\n",
    "        con.append(val)\n",
    "    dRoverR_1.append(con)"
   ]
  },
  {
   "cell_type": "code",
   "execution_count": 67,
   "metadata": {},
   "outputs": [],
   "source": [
    "power_used = {\n",
    "        '103.8':[65+5*p for p in range(0,len(dRoverR_1[v_list.index('103.8')]),1)], \n",
    "        '17.6':[30+5*p for p in range(0,len(dRoverR_1[v_list.index('17.6')]),1)], \n",
    "        '35.3':[40+5*p for p in range(0,len(dRoverR_1[v_list.index('35.3')]),1)],\n",
    "        '8.8':[30+5*p for p in range(0,len(dRoverR_1[v_list.index('8.8')]),1)], \n",
    "        '88.2':[55+5*p for p in range(0,len(dRoverR_1[v_list.index('88.2')]),1)],\n",
    "          \n",
    "        }\n"
   ]
  },
  {
   "cell_type": "code",
   "execution_count": 74,
   "metadata": {},
   "outputs": [
    {
     "name": "stderr",
     "output_type": "stream",
     "text": [
      "  0%|          | 0/300 [00:00<?, ?it/s]/Users/chiaentsai/.virtualenvs/venv/lib/python3.9/site-packages/scipy/optimize/_minpack_py.py:833: OptimizeWarning: Covariance of the parameters could not be estimated\n",
      "  warnings.warn('Covariance of the parameters could not be estimated',\n",
      " 30%|███       | 91/300 [00:00<00:00, 424.29it/s]"
     ]
    },
    {
     "name": "stdout",
     "output_type": "stream",
     "text": [
      "/Users/chiaentsai/Library/CloudStorage/Box-Box/MURI-SARA/Thermoreflectance/Joanne/CHESS/0210_2023_newbeam/103.8mm_per_sec/6mm_65W_000.raw\n",
      "/Users/chiaentsai/Library/CloudStorage/Box-Box/MURI-SARA/Thermoreflectance/Joanne/CHESS/0210_2023_newbeam/103.8mm_per_sec/6mm_65W_001.raw\n",
      "/Users/chiaentsai/Library/CloudStorage/Box-Box/MURI-SARA/Thermoreflectance/Joanne/CHESS/0210_2023_newbeam/103.8mm_per_sec/6mm_65W_002.raw\n",
      "/Users/chiaentsai/Library/CloudStorage/Box-Box/MURI-SARA/Thermoreflectance/Joanne/CHESS/0210_2023_newbeam/103.8mm_per_sec/6mm_65W_003.raw\n",
      "/Users/chiaentsai/Library/CloudStorage/Box-Box/MURI-SARA/Thermoreflectance/Joanne/CHESS/0210_2023_newbeam/103.8mm_per_sec/6mm_65W_004.raw\n",
      "/Users/chiaentsai/Library/CloudStorage/Box-Box/MURI-SARA/Thermoreflectance/Joanne/CHESS/0210_2023_newbeam/103.8mm_per_sec/6mm_65W_005.raw\n",
      "/Users/chiaentsai/Library/CloudStorage/Box-Box/MURI-SARA/Thermoreflectance/Joanne/CHESS/0210_2023_newbeam/103.8mm_per_sec/6mm_65W_006.raw\n",
      "/Users/chiaentsai/Library/CloudStorage/Box-Box/MURI-SARA/Thermoreflectance/Joanne/CHESS/0210_2023_newbeam/103.8mm_per_sec/6mm_65W_007.raw\n"
     ]
    },
    {
     "name": "stderr",
     "output_type": "stream",
     "text": [
      " 33%|███▎      | 98/300 [00:19<00:54,  3.72it/s] "
     ]
    },
    {
     "name": "stdout",
     "output_type": "stream",
     "text": [
      "/Users/chiaentsai/Library/CloudStorage/Box-Box/MURI-SARA/Thermoreflectance/Joanne/CHESS/0210_2023_newbeam/103.8mm_per_sec/6mm_65W_008.raw\n"
     ]
    },
    {
     "name": "stderr",
     "output_type": "stream",
     "text": [
      " 33%|███▎      | 99/300 [00:26<01:20,  2.49it/s]"
     ]
    },
    {
     "name": "stdout",
     "output_type": "stream",
     "text": [
      "/Users/chiaentsai/Library/CloudStorage/Box-Box/MURI-SARA/Thermoreflectance/Joanne/CHESS/0210_2023_newbeam/103.8mm_per_sec/6mm_65W_009.raw\n"
     ]
    },
    {
     "name": "stderr",
     "output_type": "stream",
     "text": [
      " 33%|███▎      | 100/300 [00:38<02:24,  1.38it/s]"
     ]
    },
    {
     "name": "stdout",
     "output_type": "stream",
     "text": [
      "/Users/chiaentsai/Library/CloudStorage/Box-Box/MURI-SARA/Thermoreflectance/Joanne/CHESS/0210_2023_newbeam/103.8mm_per_sec/6mm_65W_010.raw\n"
     ]
    },
    {
     "name": "stderr",
     "output_type": "stream",
     "text": [
      " 34%|███▎      | 101/300 [00:46<03:25,  1.03s/it]"
     ]
    },
    {
     "name": "stdout",
     "output_type": "stream",
     "text": [
      "/Users/chiaentsai/Library/CloudStorage/Box-Box/MURI-SARA/Thermoreflectance/Joanne/CHESS/0210_2023_newbeam/103.8mm_per_sec/6mm_65W_011.raw\n",
      "/Users/chiaentsai/Library/CloudStorage/Box-Box/MURI-SARA/Thermoreflectance/Joanne/CHESS/0210_2023_newbeam/103.8mm_per_sec/6mm_65W_012.raw\n"
     ]
    },
    {
     "name": "stderr",
     "output_type": "stream",
     "text": [
      " 34%|███▍      | 103/300 [01:07<06:21,  1.94s/it]"
     ]
    },
    {
     "name": "stdout",
     "output_type": "stream",
     "text": [
      "/Users/chiaentsai/Library/CloudStorage/Box-Box/MURI-SARA/Thermoreflectance/Joanne/CHESS/0210_2023_newbeam/103.8mm_per_sec/6mm_65W_013.raw\n"
     ]
    },
    {
     "name": "stderr",
     "output_type": "stream",
     "text": [
      " 35%|███▍      | 104/300 [01:21<08:52,  2.72s/it]"
     ]
    },
    {
     "name": "stdout",
     "output_type": "stream",
     "text": [
      "/Users/chiaentsai/Library/CloudStorage/Box-Box/MURI-SARA/Thermoreflectance/Joanne/CHESS/0210_2023_newbeam/103.8mm_per_sec/6mm_65W_014.raw\n"
     ]
    },
    {
     "name": "stderr",
     "output_type": "stream",
     "text": [
      " 35%|███▌      | 105/300 [01:32<11:12,  3.45s/it]"
     ]
    },
    {
     "name": "stdout",
     "output_type": "stream",
     "text": [
      "/Users/chiaentsai/Library/CloudStorage/Box-Box/MURI-SARA/Thermoreflectance/Joanne/CHESS/0210_2023_newbeam/103.8mm_per_sec/6mm_65W_015.raw\n"
     ]
    },
    {
     "name": "stderr",
     "output_type": "stream",
     "text": [
      " 35%|███▌      | 106/300 [01:43<13:44,  4.25s/it]"
     ]
    },
    {
     "name": "stdout",
     "output_type": "stream",
     "text": [
      "/Users/chiaentsai/Library/CloudStorage/Box-Box/MURI-SARA/Thermoreflectance/Joanne/CHESS/0210_2023_newbeam/103.8mm_per_sec/6mm_65W_016.raw\n"
     ]
    },
    {
     "name": "stderr",
     "output_type": "stream",
     "text": [
      " 36%|███▌      | 107/300 [01:57<17:47,  5.53s/it]"
     ]
    },
    {
     "name": "stdout",
     "output_type": "stream",
     "text": [
      "/Users/chiaentsai/Library/CloudStorage/Box-Box/MURI-SARA/Thermoreflectance/Joanne/CHESS/0210_2023_newbeam/103.8mm_per_sec/6mm_65W_017.raw\n"
     ]
    },
    {
     "name": "stderr",
     "output_type": "stream",
     "text": [
      " 36%|███▌      | 108/300 [02:12<22:46,  7.12s/it]"
     ]
    },
    {
     "name": "stdout",
     "output_type": "stream",
     "text": [
      "/Users/chiaentsai/Library/CloudStorage/Box-Box/MURI-SARA/Thermoreflectance/Joanne/CHESS/0210_2023_newbeam/103.8mm_per_sec/6mm_65W_018.raw\n"
     ]
    },
    {
     "name": "stderr",
     "output_type": "stream",
     "text": [
      " 36%|███▋      | 109/300 [02:24<25:34,  8.03s/it]"
     ]
    },
    {
     "name": "stdout",
     "output_type": "stream",
     "text": [
      "/Users/chiaentsai/Library/CloudStorage/Box-Box/MURI-SARA/Thermoreflectance/Joanne/CHESS/0210_2023_newbeam/103.8mm_per_sec/6mm_65W_019.raw\n"
     ]
    },
    {
     "name": "stderr",
     "output_type": "stream",
     "text": [
      " 37%|███▋      | 110/300 [02:35<27:24,  8.65s/it]"
     ]
    },
    {
     "name": "stdout",
     "output_type": "stream",
     "text": [
      "/Users/chiaentsai/Library/CloudStorage/Box-Box/MURI-SARA/Thermoreflectance/Joanne/CHESS/0210_2023_newbeam/103.8mm_per_sec/6mm_65W_020.raw\n"
     ]
    },
    {
     "name": "stderr",
     "output_type": "stream",
     "text": [
      " 37%|███▋      | 111/300 [02:44<27:33,  8.75s/it]"
     ]
    },
    {
     "name": "stdout",
     "output_type": "stream",
     "text": [
      "/Users/chiaentsai/Library/CloudStorage/Box-Box/MURI-SARA/Thermoreflectance/Joanne/CHESS/0210_2023_newbeam/103.8mm_per_sec/6mm_65W_021.raw\n",
      "/Users/chiaentsai/Library/CloudStorage/Box-Box/MURI-SARA/Thermoreflectance/Joanne/CHESS/0210_2023_newbeam/103.8mm_per_sec/6mm_65W_022.raw\n"
     ]
    },
    {
     "name": "stderr",
     "output_type": "stream",
     "text": [
      " 38%|███▊      | 113/300 [03:04<28:15,  9.07s/it]"
     ]
    },
    {
     "name": "stdout",
     "output_type": "stream",
     "text": [
      "/Users/chiaentsai/Library/CloudStorage/Box-Box/MURI-SARA/Thermoreflectance/Joanne/CHESS/0210_2023_newbeam/103.8mm_per_sec/6mm_65W_023.raw\n"
     ]
    },
    {
     "name": "stderr",
     "output_type": "stream",
     "text": [
      " 38%|███▊      | 114/300 [03:17<31:03, 10.02s/it]"
     ]
    },
    {
     "name": "stdout",
     "output_type": "stream",
     "text": [
      "/Users/chiaentsai/Library/CloudStorage/Box-Box/MURI-SARA/Thermoreflectance/Joanne/CHESS/0210_2023_newbeam/103.8mm_per_sec/6mm_65W_024.raw\n"
     ]
    },
    {
     "name": "stderr",
     "output_type": "stream",
     "text": [
      " 38%|███▊      | 115/300 [03:28<31:41, 10.28s/it]"
     ]
    },
    {
     "name": "stdout",
     "output_type": "stream",
     "text": [
      "/Users/chiaentsai/Library/CloudStorage/Box-Box/MURI-SARA/Thermoreflectance/Joanne/CHESS/0210_2023_newbeam/103.8mm_per_sec/6mm_65W_025.raw\n"
     ]
    },
    {
     "name": "stderr",
     "output_type": "stream",
     "text": [
      " 39%|███▊      | 116/300 [03:38<31:18, 10.21s/it]"
     ]
    },
    {
     "name": "stdout",
     "output_type": "stream",
     "text": [
      "/Users/chiaentsai/Library/CloudStorage/Box-Box/MURI-SARA/Thermoreflectance/Joanne/CHESS/0210_2023_newbeam/103.8mm_per_sec/6mm_65W_026.raw\n"
     ]
    },
    {
     "name": "stderr",
     "output_type": "stream",
     "text": [
      " 39%|███▉      | 117/300 [03:52<34:03, 11.17s/it]"
     ]
    },
    {
     "name": "stdout",
     "output_type": "stream",
     "text": [
      "/Users/chiaentsai/Library/CloudStorage/Box-Box/MURI-SARA/Thermoreflectance/Joanne/CHESS/0210_2023_newbeam/103.8mm_per_sec/6mm_65W_027.raw\n"
     ]
    },
    {
     "name": "stderr",
     "output_type": "stream",
     "text": [
      " 39%|███▉      | 117/300 [03:56<06:10,  2.02s/it]\n"
     ]
    },
    {
     "ename": "KeyboardInterrupt",
     "evalue": "",
     "output_type": "error",
     "traceback": [
      "\u001b[0;31m---------------------------------------------------------------------------\u001b[0m",
      "\u001b[0;31mKeyboardInterrupt\u001b[0m                         Traceback (most recent call last)",
      "\u001b[1;32m/Users/chiaentsai/Desktop/lab/Temperature_Calibration/code/0210_newbeam.ipynb Cell 7\u001b[0m in \u001b[0;36m<module>\u001b[0;34m\u001b[0m\n\u001b[1;32m      <a href='vscode-notebook-cell:/Users/chiaentsai/Desktop/lab/Temperature_Calibration/code/0210_newbeam.ipynb#X12sZmlsZQ%3D%3D?line=7'>8</a>\u001b[0m     \u001b[39mif\u001b[39;00m \u001b[39m\"\u001b[39m\u001b[39m_\u001b[39m\u001b[39m{}\u001b[39;00m\u001b[39mW_\u001b[39m\u001b[39m\"\u001b[39m\u001b[39m.\u001b[39mformat(p) \u001b[39min\u001b[39;00m \u001b[39mstr\u001b[39m(file):\n\u001b[1;32m      <a href='vscode-notebook-cell:/Users/chiaentsai/Desktop/lab/Temperature_Calibration/code/0210_newbeam.ipynb#X12sZmlsZQ%3D%3D?line=8'>9</a>\u001b[0m         \u001b[39mprint\u001b[39m(\u001b[39mstr\u001b[39m(file))\n\u001b[0;32m---> <a href='vscode-notebook-cell:/Users/chiaentsai/Desktop/lab/Temperature_Calibration/code/0210_newbeam.ipynb#X12sZmlsZQ%3D%3D?line=9'>10</a>\u001b[0m         dR \u001b[39m=\u001b[39m get_peak_dRoverR(file, back_intensity_list[i], gaus, gaus)\n\u001b[1;32m     <a href='vscode-notebook-cell:/Users/chiaentsai/Desktop/lab/Temperature_Calibration/code/0210_newbeam.ipynb#X12sZmlsZQ%3D%3D?line=10'>11</a>\u001b[0m         dR_list\u001b[39m.\u001b[39mappend(dR)\n\u001b[1;32m     <a href='vscode-notebook-cell:/Users/chiaentsai/Desktop/lab/Temperature_Calibration/code/0210_newbeam.ipynb#X12sZmlsZQ%3D%3D?line=12'>13</a>\u001b[0m \u001b[39m#convert the frame number to position\u001b[39;00m\n\u001b[1;32m     <a href='vscode-notebook-cell:/Users/chiaentsai/Desktop/lab/Temperature_Calibration/code/0210_newbeam.ipynb#X12sZmlsZQ%3D%3D?line=13'>14</a>\u001b[0m \u001b[39m#x = [(frame-2.7)*int(key)/92.59 for frame in range(1,len(temp_list)+1)] \u001b[39;00m\n",
      "File \u001b[0;32m/var/folders/f7/kn96xdj93ss0t67sn2q10n6c0000gn/T/ipykernel_16126/457918202.py:3\u001b[0m, in \u001b[0;36mget_peak_dRoverR\u001b[0;34m(file, back_intensity, func, maxs_func)\u001b[0m\n\u001b[1;32m      1\u001b[0m \u001b[39mdef\u001b[39;00m \u001b[39mget_peak_dRoverR\u001b[39m(file, back_intensity, func, maxs_func):\n\u001b[1;32m      2\u001b[0m     dRoverR \u001b[39m=\u001b[39m get_dR_over_R(file, back_intensity)\n\u001b[0;32m----> 3\u001b[0m     maxs \u001b[39m=\u001b[39m get_maxs(dRoverR, func)\n\u001b[1;32m      4\u001b[0m     peak \u001b[39m=\u001b[39m get_max(maxs, maxs_func)\n\u001b[1;32m      5\u001b[0m     \u001b[39mreturn\u001b[39;00m peak\n",
      "File \u001b[0;32m/var/folders/f7/kn96xdj93ss0t67sn2q10n6c0000gn/T/ipykernel_16126/2836743503.py:5\u001b[0m, in \u001b[0;36mget_maxs\u001b[0;34m(data, func)\u001b[0m\n\u001b[1;32m      3\u001b[0m \u001b[39mfor\u001b[39;00m i \u001b[39min\u001b[39;00m \u001b[39mrange\u001b[39m(X_right_boundry \u001b[39m-\u001b[39m X_left_boundry):\n\u001b[1;32m      4\u001b[0m     line \u001b[39m=\u001b[39m data[i,:]\n\u001b[0;32m----> 5\u001b[0m     line_max \u001b[39m=\u001b[39m get_max(line, func)\n\u001b[1;32m      6\u001b[0m     maxs[i] \u001b[39m=\u001b[39m line_max\n\u001b[1;32m      7\u001b[0m \u001b[39mreturn\u001b[39;00m maxs\n",
      "File \u001b[0;32m/var/folders/f7/kn96xdj93ss0t67sn2q10n6c0000gn/T/ipykernel_16126/4003065552.py:2\u001b[0m, in \u001b[0;36mget_max\u001b[0;34m(line, func)\u001b[0m\n\u001b[1;32m      1\u001b[0m \u001b[39mdef\u001b[39;00m \u001b[39mget_max\u001b[39m(line, func):\n\u001b[0;32m----> 2\u001b[0m     par \u001b[39m=\u001b[39m fit(func, line)\n\u001b[1;32m      3\u001b[0m     values \u001b[39m=\u001b[39m func(np\u001b[39m.\u001b[39mlinspace(\u001b[39m0\u001b[39m, \u001b[39mlen\u001b[39m(line) \u001b[39m-\u001b[39m \u001b[39m1\u001b[39m, \u001b[39mlen\u001b[39m(line)), \u001b[39m*\u001b[39mpar) \n\u001b[1;32m      4\u001b[0m     \u001b[39mreturn\u001b[39;00m np\u001b[39m.\u001b[39mmax(values)\n",
      "File \u001b[0;32m/var/folders/f7/kn96xdj93ss0t67sn2q10n6c0000gn/T/ipykernel_16126/1601709777.py:4\u001b[0m, in \u001b[0;36mfit\u001b[0;34m(func, line)\u001b[0m\n\u001b[1;32m      2\u001b[0m xdata \u001b[39m=\u001b[39m np\u001b[39m.\u001b[39mlinspace(\u001b[39m0\u001b[39m, \u001b[39mlen\u001b[39m(line) \u001b[39m-\u001b[39m \u001b[39m1\u001b[39m, \u001b[39mlen\u001b[39m(line))\n\u001b[1;32m      3\u001b[0m ydata \u001b[39m=\u001b[39m line\n\u001b[0;32m----> 4\u001b[0m popt, pcov \u001b[39m=\u001b[39m curve_fit(func, xdata, ydata, maxfev \u001b[39m=\u001b[39;49m \u001b[39m100000000\u001b[39;49m)\n\u001b[1;32m      5\u001b[0m \u001b[39m# popt, pcov = curve_fit(func, xdata, ydata, max_nfev = 100000000)\u001b[39;00m\n\u001b[1;32m      6\u001b[0m \u001b[39mreturn\u001b[39;00m popt\n",
      "File \u001b[0;32m~/.virtualenvs/venv/lib/python3.9/site-packages/scipy/optimize/_minpack_py.py:789\u001b[0m, in \u001b[0;36mcurve_fit\u001b[0;34m(f, xdata, ydata, p0, sigma, absolute_sigma, check_finite, bounds, method, jac, **kwargs)\u001b[0m\n\u001b[1;32m    787\u001b[0m \u001b[39m# Remove full_output from kwargs, otherwise we're passing it in twice.\u001b[39;00m\n\u001b[1;32m    788\u001b[0m return_full \u001b[39m=\u001b[39m kwargs\u001b[39m.\u001b[39mpop(\u001b[39m'\u001b[39m\u001b[39mfull_output\u001b[39m\u001b[39m'\u001b[39m, \u001b[39mFalse\u001b[39;00m)\n\u001b[0;32m--> 789\u001b[0m res \u001b[39m=\u001b[39m leastsq(func, p0, Dfun\u001b[39m=\u001b[39;49mjac, full_output\u001b[39m=\u001b[39;49m\u001b[39m1\u001b[39;49m, \u001b[39m*\u001b[39;49m\u001b[39m*\u001b[39;49mkwargs)\n\u001b[1;32m    790\u001b[0m popt, pcov, infodict, errmsg, ier \u001b[39m=\u001b[39m res\n\u001b[1;32m    791\u001b[0m ysize \u001b[39m=\u001b[39m \u001b[39mlen\u001b[39m(infodict[\u001b[39m'\u001b[39m\u001b[39mfvec\u001b[39m\u001b[39m'\u001b[39m])\n",
      "File \u001b[0;32m~/.virtualenvs/venv/lib/python3.9/site-packages/scipy/optimize/_minpack_py.py:423\u001b[0m, in \u001b[0;36mleastsq\u001b[0;34m(func, x0, args, Dfun, full_output, col_deriv, ftol, xtol, gtol, maxfev, epsfcn, factor, diag)\u001b[0m\n\u001b[1;32m    421\u001b[0m     \u001b[39mif\u001b[39;00m maxfev \u001b[39m==\u001b[39m \u001b[39m0\u001b[39m:\n\u001b[1;32m    422\u001b[0m         maxfev \u001b[39m=\u001b[39m \u001b[39m200\u001b[39m\u001b[39m*\u001b[39m(n \u001b[39m+\u001b[39m \u001b[39m1\u001b[39m)\n\u001b[0;32m--> 423\u001b[0m     retval \u001b[39m=\u001b[39m _minpack\u001b[39m.\u001b[39;49m_lmdif(func, x0, args, full_output, ftol, xtol,\n\u001b[1;32m    424\u001b[0m                              gtol, maxfev, epsfcn, factor, diag)\n\u001b[1;32m    425\u001b[0m \u001b[39melse\u001b[39;00m:\n\u001b[1;32m    426\u001b[0m     \u001b[39mif\u001b[39;00m col_deriv:\n",
      "File \u001b[0;32m~/.virtualenvs/venv/lib/python3.9/site-packages/scipy/optimize/_minpack_py.py:485\u001b[0m, in \u001b[0;36m_wrap_func.<locals>.func_wrapped\u001b[0;34m(params)\u001b[0m\n\u001b[1;32m    484\u001b[0m \u001b[39mdef\u001b[39;00m \u001b[39mfunc_wrapped\u001b[39m(params):\n\u001b[0;32m--> 485\u001b[0m     \u001b[39mreturn\u001b[39;00m func(xdata, \u001b[39m*\u001b[39mparams) \u001b[39m-\u001b[39m ydata\n",
      "\u001b[0;31mKeyboardInterrupt\u001b[0m: "
     ]
    }
   ],
   "source": [
    "for i, (key, value) in enumerate(all_files.items()):\n",
    "    power = [int(x) for x in power_list[i]][1:]\n",
    "    files = all_files[key]\n",
    "    \n",
    "    for p in power:\n",
    "        dR_list = []\n",
    "        for file in tqdm(files):\n",
    "            if \"_{}W_\".format(p) in str(file):\n",
    "                print(str(file))\n",
    "                dR = get_peak_dRoverR(file, back_intensity_list[i], gaus, gaus)\n",
    "                dR_list.append(dR)\n",
    "                \n",
    "        #convert the frame number to position\n",
    "        #x = [(frame-2.7)*int(key)/92.59 for frame in range(1,len(temp_list)+1)] \n",
    "        \n",
    "        x = [frame for frame in range(0,len(dR_list))] \n",
    "        \n",
    "        \n",
    "        plt.plot(x, dR_list, marker=\"o\")\n",
    "        \n",
    "        #limit temperature to 1500C\n",
    "        #plt.ylim(0,1500)\n",
    "        \n",
    "        #limit position to 1-10mm\n",
    "        #plt.xlim(0,5)\n",
    "\n",
    "    plt.savefig(\"/Users/chiaentsai/Desktop/lab/Temperature_Calibration/0210_dRoverR_vs_frame/{}mmpersec.png\".format(key), format=\"PNG\")\n",
    "    plt.close()"
   ]
  },
  {
   "cell_type": "code",
   "execution_count": 68,
   "metadata": {},
   "outputs": [],
   "source": [
    "for i, v in enumerate(list(gold_melting_W.keys())):\n",
    "    plt.plot(power_used[v], dRoverR_1[i], '.')\n",
    "    plt.xlabel(\"power\")\n",
    "    plt.ylabel(\"dR/R\")\n",
    "    plt.savefig(\"/Users/chiaentsai/Desktop/lab/Temperature_Calibration/0210_dRoverR_figure/{}mm.png\".format(v), format=\"PNG\")\n",
    "    plt.close()"
   ]
  },
  {
   "cell_type": "code",
   "execution_count": 80,
   "metadata": {},
   "outputs": [
    {
     "data": {
      "image/png": "[encoded data removed]",
      "text/plain": [
       "<Figure size 432x288 with 1 Axes>"
      ]
     },
     "metadata": {
      "needs_background": "light"
     },
     "output_type": "display_data"
    }
   ],
   "source": [
    "v_list = ['103.8', '17.6', '35.3', '8.8', '88.2']\n",
    "\n",
    "# Dict_gold = dict((k, fivemm_files[k][3:]) for k in v_list)\n",
    "kappa_gold = []\n",
    "for i, v in enumerate(list(gold_melting_W.keys())):\n",
    "    power = [float(j) for j in power_used[v]][:-1]\n",
    "    y = dRoverR_1[i][:-1]\n",
    "    popt, pcov = curve_fit(expo, power, y, p0 = [1, 0.00000005, 1], maxfev = 8000)\n",
    "    #a, b, c = popt\n",
    "    plt.plot(power, y, '.')\n",
    "    y_pred = [expo(j, *popt) for j in power]\n",
    "    plt.plot(power, y_pred)\n",
    "    plt.xlabel(\"power\")\n",
    "    plt.ylabel(\"dR/R\")\n",
    "    plt.savefig(\"/Users/chiaentsai/Desktop/lab/Temperature_Calibration/0210_gold_dRoverR_fit_figure/{}mm.png\".format(v), format=\"PNG\")\n",
    "    plt.close()\n",
    "    f = expo(gold_melting_W[v], *popt)\n",
    "    gold_m = 1064\n",
    "    dT = gold_m - 21\n",
    "    kappa = f / dT\n",
    "    kappa_gold.append(kappa)\n",
    "    \n",
    "Dict_kappa_gold = dict(zip(list(gold_melting_W.keys()),kappa_gold))\n",
    "\n",
    "plt.plot(list(gold_melting_W.keys()), kappa_gold, '.')\n",
    "plt.savefig(\"/Users/chiaentsai/Desktop/lab/Temperature_Calibration/0210_kappa.png\", format=\"PNG\")"
   ]
  },
  {
   "cell_type": "code",
   "execution_count": 81,
   "metadata": {},
   "outputs": [],
   "source": [
    "peak_temp = []\n",
    "for i, v in enumerate(list(gold_melting_W.keys())):\n",
    "    tem = []\n",
    "    for r in dRoverR_1[i]:\n",
    "        t = get_peak_Temp(r, Dict_kappa_gold[v])\n",
    "#         t = get_peak_Temp(r,avg_kappa)\n",
    "#         t = get_peak_Temp(r,0.00016498400434141028)\n",
    "#         t = get_peak_Temp(r, Dict_kappa_gold_avg[v])\n",
    "#         t = get_peak_Temp(r, avg_kappa_2)\n",
    "#         t = get_peak_Temp(r, Dict_kappa_avg[v])\n",
    "        tem.append(t)\n",
    "    peak_temp.append(tem)\n",
    "    \n",
    "Dict_peak_temp = dict(zip(list(gold_melting_W.keys()),peak_temp))"
   ]
  },
  {
   "cell_type": "code",
   "execution_count": 83,
   "metadata": {},
   "outputs": [
    {
     "name": "stdout",
     "output_type": "stream",
     "text": [
      "Using matplotlib backend: MacOSX\n"
     ]
    },
    {
     "name": "stderr",
     "output_type": "stream",
     "text": [
      "/var/folders/f7/kn96xdj93ss0t67sn2q10n6c0000gn/T/ipykernel_16126/1710445269.py:25: MatplotlibDeprecationWarning: Axes3D(fig) adding itself to the figure is deprecated since 3.4. Pass the keyword argument auto_add_to_figure=False and use fig.add_axes(ax) to suppress this warning. The default value of auto_add_to_figure will change to False in mpl3.5 and True values will no longer work in 3.6.  This is consistent with other Axes classes.\n",
      "  axes = Axes3D(f)\n"
     ]
    },
    {
     "ename": "ValueError",
     "evalue": "invalid literal for int() with base 10: '103.8'",
     "output_type": "error",
     "traceback": [
      "\u001b[0;31m---------------------------------------------------------------------------\u001b[0m",
      "\u001b[0;31mValueError\u001b[0m                                Traceback (most recent call last)",
      "\u001b[1;32m/Users/chiaentsai/Desktop/lab/Temperature_Calibration/code/0210_newbeam.ipynb Cell 11\u001b[0m in \u001b[0;36m<module>\u001b[0;34m\u001b[0m\n\u001b[1;32m     <a href='vscode-notebook-cell:/Users/chiaentsai/Desktop/lab/Temperature_Calibration/code/0210_newbeam.ipynb#X20sZmlsZQ%3D%3D?line=27'>28</a>\u001b[0m \u001b[39mfor\u001b[39;00m i, v \u001b[39min\u001b[39;00m \u001b[39menumerate\u001b[39m(\u001b[39mlist\u001b[39m(gold_melting_W\u001b[39m.\u001b[39mkeys())):\n\u001b[1;32m     <a href='vscode-notebook-cell:/Users/chiaentsai/Desktop/lab/Temperature_Calibration/code/0210_newbeam.ipynb#X20sZmlsZQ%3D%3D?line=28'>29</a>\u001b[0m     P \u001b[39m=\u001b[39m [\u001b[39mint\u001b[39m(p) \u001b[39mfor\u001b[39;00m p \u001b[39min\u001b[39;00m power_used[v]]\n\u001b[0;32m---> <a href='vscode-notebook-cell:/Users/chiaentsai/Desktop/lab/Temperature_Calibration/code/0210_newbeam.ipynb#X20sZmlsZQ%3D%3D?line=29'>30</a>\u001b[0m     V \u001b[39m=\u001b[39m [np\u001b[39m.\u001b[39mlog(\u001b[39mint\u001b[39;49m(v))] \u001b[39m*\u001b[39m \u001b[39mlen\u001b[39m(Dict_peak_temp[v])\n\u001b[1;32m     <a href='vscode-notebook-cell:/Users/chiaentsai/Desktop/lab/Temperature_Calibration/code/0210_newbeam.ipynb#X20sZmlsZQ%3D%3D?line=30'>31</a>\u001b[0m     T \u001b[39m=\u001b[39m Dict_peak_temp[v]\n\u001b[1;32m     <a href='vscode-notebook-cell:/Users/chiaentsai/Desktop/lab/Temperature_Calibration/code/0210_newbeam.ipynb#X20sZmlsZQ%3D%3D?line=31'>32</a>\u001b[0m     point \u001b[39m=\u001b[39m [\u001b[39mlist\u001b[39m(x) \u001b[39mfor\u001b[39;00m x \u001b[39min\u001b[39;00m \u001b[39mzip\u001b[39m(\u001b[39m*\u001b[39m[P,V,T])]\n",
      "\u001b[0;31mValueError\u001b[0m: invalid literal for int() with base 10: '103.8'"
     ]
    }
   ],
   "source": [
    "import numpy, scipy, scipy.optimize\n",
    "import matplotlib\n",
    "from mpl_toolkits.mplot3d import  Axes3D\n",
    "from matplotlib import cm # to colormap 3D surfaces from blue to red\n",
    "import matplotlib.pyplot as plt\n",
    "%matplotlib\n",
    "\n",
    "# def function(data, b, c, d, e, f):\n",
    "#     x = np.array(data[0])\n",
    "#     y = np.array(data[1])\n",
    "#     return (b*y+c)*(x)**(d*y**2+e*y+f)\n",
    "\n",
    "def function(data, a, b, c, d, e, f, g, h):\n",
    "    x = np.array(data[0])\n",
    "    y = np.array(data[1])\n",
    "    return (a+b*y+h*y**2)*x**(f+g*y) + (c+d*y)*x + e\n",
    "\n",
    "# def function(data, a, b, c, d, e, f, g, h, i, j):\n",
    "#     x = np.array(data[0])\n",
    "#     y = np.array(data[1])\n",
    "#     return (a+b*y+h*y**2)*x**(f+g*y) + (c+d*y)*x + e +i*x**2 + j*y**2\n",
    "\n",
    "f = plt.figure(figsize=(20.0, 20.0), dpi=20)\n",
    "matplotlib.pyplot.grid(True)\n",
    "axes = Axes3D(f)\n",
    "\n",
    "points = []\n",
    "for i, v in enumerate(list(gold_melting_W.keys())):\n",
    "    P = [int(p) for p in power_used[v]]\n",
    "    V = [np.log(int(v))] * len(Dict_peak_temp[v])\n",
    "    T = Dict_peak_temp[v]\n",
    "    point = [list(x) for x in zip(*[P,V,T])]\n",
    "    points.append(point)\n",
    "\n",
    "x_data = []\n",
    "y_data = []\n",
    "z_data = []\n",
    "for velo in points:\n",
    "    for item in velo:\n",
    "        x_data.append(item[0]) # power\n",
    "        y_data.append(item[1]) # velocity\n",
    "        z_data.append(item[2]) # temperature\n",
    "        \n",
    "x_data, y_data, z_data = np.array(x_data), np.array(y_data), np.array(z_data)\n",
    "\n",
    "mask = z_data > 400\n",
    "x_data = x_data[mask]\n",
    "y_data = y_data[mask]\n",
    "z_data = z_data[mask]\n",
    "\n",
    "parameters, covariance = curve_fit(function, [x_data, y_data], z_data,  maxfev=1000000)\n",
    "print(parameters)\n",
    "model_x_data = np.linspace(min(x_data), max(x_data), 30)\n",
    "model_y_data = np.linspace(min(y_data), max(y_data), 30)\n",
    "X, Y = np.meshgrid(model_x_data, model_y_data)\n",
    "Z = function(np.array([X, Y]), *parameters)\n",
    "\n",
    "z_predicted = function([x_data, y_data], *parameters)\n",
    "differences = np.subtract(z_data, z_predicted)\n",
    "squared_differences = np.square(differences)\n",
    "mse = squared_differences.mean()\n",
    "\n",
    "\n",
    "axes.plot_surface(X, Y, Z, cmap=cm.hot, alpha=0.2)\n",
    "\n",
    "# for i, v in enumerate(list(Dict_kappa_Si_avg.keys())):\n",
    "#     v_data = [np.log(int(v))] * len(Dict_peak_temp[v])\n",
    "#     p_data = [int(p) for p in power_used[i]]\n",
    "#     t_data = Dict_peak_temp[v]\n",
    "#     axes.scatter(p_data, v_data, t_data, s = 250)\n",
    "axes.scatter(x_data, y_data, z_data, s=500)\n",
    "    \n",
    "\n",
    "axes.set_title('Scatter Plot')\n",
    "axes.set_xlabel('power - W', fontsize=30, labelpad=40)\n",
    "axes.set_ylabel('ln(velocity) - mm/s',fontsize=30, labelpad=40)\n",
    "axes.set_zlabel('peak temperature - C', fontsize=30, labelpad=40)\n",
    "axes.set_zlim(400, 1400)\n",
    "\n",
    "axes.tick_params(axis='both', which='major', labelsize=30)\n",
    "\n",
    "plt.show()\n",
    "print(mse)"
   ]
  },
  {
   "cell_type": "code",
   "execution_count": null,
   "metadata": {},
   "outputs": [],
   "source": []
  }
 ],
 "metadata": {
  "kernelspec": {
   "display_name": "Python 3.9.0 ('venv')",
   "language": "python",
   "name": "python3"
  },
  "language_info": {
   "codemirror_mode": {
    "name": "ipython",
    "version": 3
   },
   "file_extension": ".py",
   "mimetype": "text/x-python",
   "name": "python",
   "nbconvert_exporter": "python",
   "pygments_lexer": "ipython3",
   "version": "3.9.0"
  },
  "orig_nbformat": 4,
  "vscode": {
   "interpreter": {
    "hash": "05a9d8f434e6f97949f116bb3fd6e0132cb85e41e1947128ba85095efa1eda1d"
   }
  }
 },
 "nbformat": 4,
 "nbformat_minor": 2
}
