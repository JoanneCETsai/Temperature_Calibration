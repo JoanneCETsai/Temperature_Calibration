{
 "cells": [
  {
   "cell_type": "code",
   "execution_count": 6,
   "id": "ef0e4367",
   "metadata": {},
   "outputs": [],
   "source": [
    "from pathlib import Path\n",
    "from enum import Enum\n",
    "import cv2\n",
    "from cv2 import imwrite\n",
    "from tqdm import tqdm\n",
    "import numpy as np\n",
    "import matplotlib.pyplot as plt\n",
    "import math\n",
    "from sklearn import preprocessing\n",
    "from time import time\n",
    "from scipy.optimize import curve_fit\n",
    "%matplotlib inline\n",
    "import scipy.stats\n",
    "from util import parse_fn, is_bg\n",
    "from scipy import stats\n",
    "from scipy.stats import skewnorm\n",
    "from scipy.special import erf\n",
    "from scipy.special import voigt_profile\n",
    "import re"
   ]
  },
  {
   "cell_type": "markdown",
   "id": "adca6273",
   "metadata": {},
   "source": [
    "# Input Here:"
   ]
  },
  {
   "cell_type": "markdown",
   "id": "b824a538",
   "metadata": {},
   "source": [
    "## information of picture"
   ]
  },
  {
   "cell_type": "code",
   "execution_count": 7,
   "id": "971ca8b4",
   "metadata": {},
   "outputs": [],
   "source": [
    "# HEADER_LEN = 152\n",
    "# X_DIM = 480\n",
    "# Y_DIM = 640\n",
    "# X_left_boundry = 185\n",
    "# X_right_boundry = 235\n",
    "# Y_left_boundry = 355\n",
    "# Y_right_boundry = 505\n",
    "\n",
    "# frame_rate = 92.59\n",
    "# shutter_delay = 0.01 # second\n",
    "# interestd_position = 4 # mm\n",
    "# pixel_size = 0.00108 \n",
    "# beamwidth = 88200\n",
    "\n",
    "\n",
    "# exposure time = 5ms"
   ]
  },
  {
   "cell_type": "markdown",
   "id": "d084888b",
   "metadata": {},
   "source": [
    "## melting power"
   ]
  },
  {
   "cell_type": "markdown",
   "id": "56ccbd90",
   "metadata": {},
   "source": [
    "### Si"
   ]
  },
  {
   "cell_type": "code",
   "execution_count": 8,
   "id": "0ac56337",
   "metadata": {},
   "outputs": [],
   "source": [
    "# Si_melting_W = {\n",
    "#     '103': 41.5,\n",
    "#     '13': 35.4,\n",
    "#     '155': 43.7,\n",
    "#     '190': 45.5,\n",
    "#     '20': 35.5,\n",
    "#     '234': 47,\n",
    "#     '30': 36.3,\n",
    "#     '352': 52.2,\n",
    "#     '45': 37.1,\n",
    "#     '68': 39.2,\n",
    "#     '9': 35.3 \n",
    "    \n",
    "# }"
   ]
  },
  {
   "cell_type": "markdown",
   "id": "d8414d90",
   "metadata": {},
   "source": [
    "### gold"
   ]
  },
  {
   "cell_type": "code",
   "execution_count": 9,
   "id": "3bcc9ed4",
   "metadata": {},
   "outputs": [],
   "source": [
    "# gold_melting_W = {\n",
    "#     '103': 37,\n",
    "#     '13': 30.2,\n",
    "#     '155': 38.9,\n",
    "#     '190': 40.3,\n",
    "#     '20': 30.8,\n",
    "#     '234': 41.9,\n",
    "#     '30': 31.9,\n",
    "#     '352': 46.2,\n",
    "#     '45': 33.5,\n",
    "#     '68': 35.2,\n",
    "#     '9': 29.9\n",
    "    \n",
    "# }"
   ]
  },
  {
   "cell_type": "code",
   "execution_count": 10,
   "id": "9c4322fa",
   "metadata": {},
   "outputs": [],
   "source": [
    "# 0124 diode \n",
    "\n",
    "# HEADER_LEN = 0\n",
    "# X_DIM = 1200\n",
    "# Y_DIM = 1920\n",
    "# X_left_boundry = 465\n",
    "# X_right_boundry = 555\n",
    "# Y_left_boundry = 520\n",
    "# Y_right_boundry = 960"
   ]
  },
  {
   "cell_type": "markdown",
   "id": "25b71a15",
   "metadata": {},
   "source": [
    "## picture to blue light signal intensity"
   ]
  },
  {
   "cell_type": "code",
   "execution_count": 11,
   "id": "a637e549",
   "metadata": {},
   "outputs": [],
   "source": [
    "def read_raw_to_intensity(file):\n",
    "    \n",
    "    with open(file, \"rb\") as rawimage:\n",
    "    \n",
    "        bayer_image = np.fromfile(rawimage, np.dtype('u1'), offset = HEADER_LEN)\n",
    "        fst_byte, scd_byte = bayer_image.reshape((bayer_image.shape[0]//2, 2)).astype(np.uint16).T\n",
    "        raw_pixel = (fst_byte + (scd_byte << 8)).reshape((X_DIM, Y_DIM))\n",
    "\n",
    "    return raw_pixel\n",
    "\n",
    "\n",
    "def intensity_to_blue_16(intensity):\n",
    "    intensity_uint16 = np.array(intensity, dtype = np.uint16)\n",
    "    color = cv2.cvtColor(intensity_uint16, cv2.COLOR_BayerGRBG2RGB)\n",
    "    blue = color[:,:,2]\n",
    "    return blue\n",
    "\n",
    "\n",
    "def get_blue(file):\n",
    "    raw_pixel = read_raw_to_intensity(file)\n",
    "    blue = intensity_to_blue_16(raw_pixel)\n",
    "    return blue.astype(np.float64)"
   ]
  },
  {
   "cell_type": "markdown",
   "id": "7118d46f",
   "metadata": {},
   "source": [
    "## get the bright region"
   ]
  },
  {
   "cell_type": "code",
   "execution_count": 12,
   "id": "441cf418",
   "metadata": {},
   "outputs": [],
   "source": [
    "def get_bright(pure_blue):\n",
    "    data = pure_blue[X_left_boundry:X_right_boundry, Y_left_boundry:Y_right_boundry]\n",
    "    return data"
   ]
  },
  {
   "cell_type": "markdown",
   "id": "402c3b89",
   "metadata": {},
   "source": [
    "## get blue signal of interested region : get_data(file)"
   ]
  },
  {
   "cell_type": "code",
   "execution_count": 13,
   "id": "bb328e8a",
   "metadata": {},
   "outputs": [],
   "source": [
    "# 拿到我要的範圍的blue\n",
    "def get_data(file):\n",
    "    blue = get_blue(file)\n",
    "    bright = get_bright(blue)\n",
    "    return bright"
   ]
  },
  {
   "cell_type": "markdown",
   "id": "72f7f647",
   "metadata": {},
   "source": [
    "## get final fitting peak dR / R (one value) of a frame"
   ]
  },
  {
   "cell_type": "code",
   "execution_count": 14,
   "id": "e7ad8caf",
   "metadata": {},
   "outputs": [],
   "source": [
    "def peak_dRoverR(file, b_file, func, maxs_func):\n",
    "    dRoverR = get_dRoverR(file, b_file)\n",
    "    maxs = get_maxs(dRoverR, func)\n",
    "    peak = get_max(maxs, maxs_func)\n",
    "    return peak"
   ]
  },
  {
   "cell_type": "code",
   "execution_count": 15,
   "id": "05e7fa0a",
   "metadata": {},
   "outputs": [],
   "source": [
    "def get_peak_dRoverR(file, back_intensity, func, maxs_func):\n",
    "    dRoverR = get_dR_over_R(file, back_intensity)\n",
    "    maxs = get_maxs(dRoverR, func)\n",
    "    peak = get_max(maxs, maxs_func)\n",
    "    return peak"
   ]
  },
  {
   "cell_type": "markdown",
   "id": "67d51090",
   "metadata": {},
   "source": [
    "## get dR / R of every point of interested in a frame"
   ]
  },
  {
   "cell_type": "code",
   "execution_count": 16,
   "id": "a96751b0",
   "metadata": {},
   "outputs": [],
   "source": [
    "def get_dRoverR(file, b_file):\n",
    "    blue = get_data(file)\n",
    "    b_blue = get_data(b_file)\n",
    "    dRoverR = (blue - b_blue) / b_blue\n",
    "    return dRoverR"
   ]
  },
  {
   "cell_type": "markdown",
   "id": "0244736a",
   "metadata": {},
   "source": [
    "### 得到一張圖的需要的部分的dR/R"
   ]
  },
  {
   "cell_type": "code",
   "execution_count": 17,
   "id": "5b868a15",
   "metadata": {},
   "outputs": [],
   "source": [
    "def get_dR_over_R(file, back_intensity):\n",
    "    blue = get_data(file)\n",
    "    b_blue = get_bright(back_intensity)\n",
    "    dRoverR = (blue - b_blue) / b_blue\n",
    "    return dRoverR"
   ]
  },
  {
   "cell_type": "markdown",
   "id": "879b0c94",
   "metadata": {},
   "source": [
    "# get fitting line for lateral profile"
   ]
  },
  {
   "cell_type": "code",
   "execution_count": 18,
   "id": "1cd282dc",
   "metadata": {},
   "outputs": [],
   "source": [
    "def get_laterial_fit_line(file, back_intensity, func):\n",
    "    dRoverR = get_dR_over_R(file, back_intensity)\n",
    "    maxs = get_maxs(dRoverR, func)\n",
    "    \n",
    "    return maxs"
   ]
  },
  {
   "cell_type": "code",
   "execution_count": null,
   "id": "2fdd79f0",
   "metadata": {},
   "outputs": [],
   "source": []
  },
  {
   "cell_type": "code",
   "execution_count": 1,
   "id": "edeeb911",
   "metadata": {},
   "outputs": [],
   "source": [
    "def generate_consecutive_integers(center, length):\n",
    "    \"\"\"Generates a list of consecutive integers centered around a given value.\"\"\"\n",
    "    start = center - length // 2\n",
    "    return [i for i in range(start, start + length)]\n"
   ]
  },
  {
   "cell_type": "code",
   "execution_count": null,
   "id": "ee12d808",
   "metadata": {},
   "outputs": [],
   "source": []
  }
 ],
 "metadata": {
  "kernelspec": {
   "display_name": "Python 3 (ipykernel)",
   "language": "python",
   "name": "python3"
  },
  "language_info": {
   "codemirror_mode": {
    "name": "ipython",
    "version": 3
   },
   "file_extension": ".py",
   "mimetype": "text/x-python",
   "name": "python",
   "nbconvert_exporter": "python",
   "pygments_lexer": "ipython3",
   "version": "3.9.0"
  },
  "vscode": {
   "interpreter": {
    "hash": "05a9d8f434e6f97949f116bb3fd6e0132cb85e41e1947128ba85095efa1eda1d"
   }
  }
 },
 "nbformat": 4,
 "nbformat_minor": 5
}
