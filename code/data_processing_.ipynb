{
 "cells": [
  {
   "cell_type": "code",
   "execution_count": 1,
   "id": "ef0e4367",
   "metadata": {},
   "outputs": [],
   "source": [
    "from pathlib import Path\n",
    "from enum import Enum\n",
    "import cv2\n",
    "from cv2 import imwrite\n",
    "from tqdm import tqdm\n",
    "import numpy as np\n",
    "import matplotlib.pyplot as plt\n",
    "import math\n",
    "from sklearn import preprocessing\n",
    "from time import time\n",
    "from scipy.optimize import curve_fit\n",
    "%matplotlib inline\n",
    "import scipy.stats\n",
    "from util import parse_fn, is_bg\n",
    "from scipy import stats\n",
    "from scipy.stats import skewnorm\n",
    "from scipy.special import erf\n",
    "from scipy.special import voigt_profile\n",
    "import re"
   ]
  },
  {
   "cell_type": "markdown",
   "id": "adca6273",
   "metadata": {},
   "source": [
    "# Input Here:  information of picture"
   ]
  },
  {
   "cell_type": "code",
   "execution_count": 2,
   "id": "971ca8b4",
   "metadata": {},
   "outputs": [],
   "source": [
    "HEADER_LEN = 152 \n",
    "X_DIM = 480\n",
    "Y_DIM = 640\n",
    "X_left_boundry = 110\n",
    "X_right_boundry = 260\n",
    "Y_left_boundry = 305\n",
    "Y_right_boundry = 355"
   ]
  },
  {
   "cell_type": "markdown",
   "id": "25b71a15",
   "metadata": {},
   "source": [
    "## picture to blue light signal intensity"
   ]
  },
  {
   "cell_type": "code",
   "execution_count": 3,
   "id": "a637e549",
   "metadata": {},
   "outputs": [],
   "source": [
    "def read_raw_to_intensity(file):\n",
    "    \n",
    "    with open(file, \"rb\") as rawimage:\n",
    "    \n",
    "        bayer_image = np.fromfile(rawimage, np.dtype('u1'), offset = HEADER_LEN)\n",
    "        fst_byte, scd_byte = bayer_image.reshape((bayer_image.shape[0]//2, 2)).astype(np.uint16).T\n",
    "        raw_pixel = (fst_byte + (scd_byte << 8)).reshape((X_DIM, Y_DIM))\n",
    "\n",
    "    return raw_pixel\n",
    "\n",
    "\n",
    "def intensity_to_blue_16(intensity):\n",
    "    intensity_uint16 = np.array(intensity, dtype = np.uint16)\n",
    "    color = cv2.cvtColor(intensity_uint16, cv2.COLOR_BayerGRBG2RGB)\n",
    "    blue = color[:,:,2]\n",
    "    return blue\n",
    "\n",
    "\n",
    "def get_blue(file):\n",
    "    raw_pixel = read_raw_to_intensity(file)\n",
    "    blue = intensity_to_blue_16(raw_pixel)\n",
    "    return blue.astype(np.float64)"
   ]
  },
  {
   "cell_type": "markdown",
   "id": "7118d46f",
   "metadata": {},
   "source": [
    "## get the bright region"
   ]
  },
  {
   "cell_type": "code",
   "execution_count": 4,
   "id": "441cf418",
   "metadata": {},
   "outputs": [],
   "source": [
    "def get_bright(pure_blue):\n",
    "    data = pure_blue[X_left_boundry:X_right_boundry, Y_left_boundry:Y_right_boundry]\n",
    "    return data"
   ]
  },
  {
   "cell_type": "markdown",
   "id": "402c3b89",
   "metadata": {},
   "source": [
    "## get blue signal of interested region : get_data(file)"
   ]
  },
  {
   "cell_type": "code",
   "execution_count": 5,
   "id": "bb328e8a",
   "metadata": {},
   "outputs": [],
   "source": [
    "# 拿到我要的範圍的blue\n",
    "def get_data(file):\n",
    "    blue = get_blue(file)\n",
    "    bright = get_bright(blue)\n",
    "    return bright"
   ]
  },
  {
   "cell_type": "markdown",
   "id": "72f7f647",
   "metadata": {},
   "source": [
    "## get final fitting peak dR / R (one value) of a frame"
   ]
  },
  {
   "cell_type": "code",
   "execution_count": 6,
   "id": "e7ad8caf",
   "metadata": {},
   "outputs": [],
   "source": [
    "def peak_dRoverR(file, b_file, func, maxs_func):\n",
    "    dRoverR = get_dRoverR(file, b_file)\n",
    "    maxs = get_maxs(dRoverR, func)\n",
    "    peak = get_max(maxs, maxs_func)\n",
    "    return peak"
   ]
  },
  {
   "cell_type": "code",
   "execution_count": 7,
   "id": "05e7fa0a",
   "metadata": {},
   "outputs": [],
   "source": [
    "def get_peak_dRoverR(file, back_intensity, func, maxs_func):\n",
    "    dRoverR = get_dR_over_R(file, back_intensity)\n",
    "    maxs = get_maxs(dRoverR, func)\n",
    "    peak = get_max(maxs, maxs_func)\n",
    "    return peak"
   ]
  },
  {
   "cell_type": "markdown",
   "id": "67d51090",
   "metadata": {},
   "source": [
    "## get dR / R of every point of interested in a frame"
   ]
  },
  {
   "cell_type": "code",
   "execution_count": 8,
   "id": "a96751b0",
   "metadata": {},
   "outputs": [],
   "source": [
    "def get_dRoverR(file, b_file):\n",
    "    blue = get_data(file)\n",
    "    b_blue = get_data(b_file)\n",
    "    dRoverR = (blue - b_blue) / b_blue\n",
    "    return dRoverR"
   ]
  },
  {
   "cell_type": "code",
   "execution_count": 9,
   "id": "5b868a15",
   "metadata": {},
   "outputs": [],
   "source": [
    "def get_dR_over_R(file, back_intensity):\n",
    "    blue = get_data(file)\n",
    "    b_blue = get_bright(back_intensity)\n",
    "    dRoverR = (blue - b_blue) / b_blue\n",
    "    return dRoverR"
   ]
  },
  {
   "cell_type": "code",
   "execution_count": null,
   "id": "1cd282dc",
   "metadata": {},
   "outputs": [],
   "source": []
  },
  {
   "cell_type": "code",
   "execution_count": null,
   "id": "2fdd79f0",
   "metadata": {},
   "outputs": [],
   "source": []
  },
  {
   "cell_type": "code",
   "execution_count": null,
   "id": "edeeb911",
   "metadata": {},
   "outputs": [],
   "source": []
  }
 ],
 "metadata": {
  "kernelspec": {
   "display_name": "Python 3 (ipykernel)",
   "language": "python",
   "name": "python3"
  },
  "language_info": {
   "codemirror_mode": {
    "name": "ipython",
    "version": 3
   },
   "file_extension": ".py",
   "mimetype": "text/x-python",
   "name": "python",
   "nbconvert_exporter": "python",
   "pygments_lexer": "ipython3",
   "version": "3.9.0"
  },
  "vscode": {
   "interpreter": {
    "hash": "05a9d8f434e6f97949f116bb3fd6e0132cb85e41e1947128ba85095efa1eda1d"
   }
  }
 },
 "nbformat": 4,
 "nbformat_minor": 5
}
