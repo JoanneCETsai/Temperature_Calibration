{
 "cells": [
  {
   "cell_type": "code",
   "execution_count": 9,
   "metadata": {},
   "outputs": [],
   "source": [
    "%run \"curve_fit_.ipynb\"\n",
    "%run \"data_processing_.ipynb\" #HEADER_LEN,X_DIM,Y_DIM,X_left_boundry,X_right_boundry,Y_left_boundry,Y_right_boundry\n",
    "%run \"evaluation_functions_.ipynb\"\n",
    "%run \"fitting_functions_.ipynb\"\n",
    "%run \"get_temperature_.ipynb\"\n",
    "%run \"load_data_.ipynb\" # frame rate, shutter delay, and interseted position \n",
    "%run \"get_backbround_average_.ipynb\" \n",
    "%run \"frame_vs_temperature.ipynb\" # get_powers"
   ]
  },
  {
   "cell_type": "code",
   "execution_count": 10,
   "metadata": {},
   "outputs": [],
   "source": [
    "folder = \"/Users/chiaentsai/Desktop/lab/diode\""
   ]
  },
  {
   "cell_type": "code",
   "execution_count": 11,
   "metadata": {},
   "outputs": [
    {
     "name": "stdout",
     "output_type": "stream",
     "text": [
      "[7]\n"
     ]
    }
   ],
   "source": [
    "all_files, fivemm_files, velocity_path_list, velocity_list, used_frame_num = get_needed_files(folder)\n",
    "back_intensity_list = get_background_average(fivemm_files)\n",
    "power_list = get_powers(all_files)"
   ]
  },
  {
   "cell_type": "code",
   "execution_count": 12,
   "metadata": {},
   "outputs": [],
   "source": [
    "v_list = ['10']\n",
    "Dict_1 = dict((k, fivemm_files[k][5:]) for k in v_list) # not included 0W files\n",
    "back_intensity_list_1 = []\n",
    "for key in fivemm_files:\n",
    "    if key in v_list:\n",
    "        index = list(fivemm_files).index(key)\n",
    "        back_intensity_list_1.append(back_intensity_list[index])\n",
    "dRoverR_1 = []\n",
    "for i, v in enumerate(list(Dict_1.keys())):\n",
    "    con = []\n",
    "    for file in Dict_1[v]:\n",
    "        val = get_peak_dRoverR(file, back_intensity_list_1[i], gaus, gaus)\n",
    "        con.append(val)\n",
    "    dRoverR_1.append(con)"
   ]
  },
  {
   "cell_type": "code",
   "execution_count": 13,
   "metadata": {},
   "outputs": [],
   "source": [
    "power_used = {\n",
    "        '10':[45+5*p for p in range(0,len(dRoverR_1[v_list.index('10')]),1)]  \n",
    "        }"
   ]
  },
  {
   "cell_type": "code",
   "execution_count": 18,
   "metadata": {},
   "outputs": [
    {
     "name": "stderr",
     "output_type": "stream",
     "text": [
      "  0%|          | 0/220 [00:00<?, ?it/s]"
     ]
    },
    {
     "name": "stdout",
     "output_type": "stream",
     "text": [
      "/Users/chiaentsai/Desktop/lab/diode/10mm_per_sec/0mm_45W_000.raw\n"
     ]
    },
    {
     "name": "stderr",
     "output_type": "stream",
     "text": [
      " 46%|████▌     | 101/220 [00:02<00:02, 46.73it/s]"
     ]
    },
    {
     "name": "stdout",
     "output_type": "stream",
     "text": [
      "/Users/chiaentsai/Desktop/lab/diode/10mm_per_sec/0mm_45W_001.raw\n",
      "/Users/chiaentsai/Desktop/lab/diode/10mm_per_sec/0mm_45W_002.raw\n",
      "/Users/chiaentsai/Desktop/lab/diode/10mm_per_sec/0mm_45W_003.raw\n",
      "/Users/chiaentsai/Desktop/lab/diode/10mm_per_sec/0mm_45W_004.raw\n",
      "/Users/chiaentsai/Desktop/lab/diode/10mm_per_sec/0mm_45W_005.raw\n"
     ]
    },
    {
     "name": "stderr",
     "output_type": "stream",
     "text": [
      " 48%|████▊     | 106/220 [00:05<00:07, 15.17it/s]"
     ]
    },
    {
     "name": "stdout",
     "output_type": "stream",
     "text": [
      "/Users/chiaentsai/Desktop/lab/diode/10mm_per_sec/0mm_45W_006.raw\n",
      "/Users/chiaentsai/Desktop/lab/diode/10mm_per_sec/0mm_45W_007.raw\n",
      "/Users/chiaentsai/Desktop/lab/diode/10mm_per_sec/0mm_45W_008.raw\n"
     ]
    },
    {
     "name": "stderr",
     "output_type": "stream",
     "text": [
      " 50%|████▉     | 109/220 [00:07<00:10, 10.89it/s]"
     ]
    },
    {
     "name": "stdout",
     "output_type": "stream",
     "text": [
      "/Users/chiaentsai/Desktop/lab/diode/10mm_per_sec/0mm_45W_009.raw\n",
      "/Users/chiaentsai/Desktop/lab/diode/10mm_per_sec/0mm_45W_010.raw\n"
     ]
    },
    {
     "name": "stderr",
     "output_type": "stream",
     "text": [
      " 50%|█████     | 111/220 [00:08<00:12,  8.44it/s]"
     ]
    },
    {
     "name": "stdout",
     "output_type": "stream",
     "text": [
      "/Users/chiaentsai/Desktop/lab/diode/10mm_per_sec/0mm_45W_011.raw\n"
     ]
    },
    {
     "name": "stderr",
     "output_type": "stream",
     "text": [
      " 51%|█████     | 112/220 [00:09<00:14,  7.36it/s]"
     ]
    },
    {
     "name": "stdout",
     "output_type": "stream",
     "text": [
      "/Users/chiaentsai/Desktop/lab/diode/10mm_per_sec/0mm_45W_012.raw\n"
     ]
    },
    {
     "name": "stderr",
     "output_type": "stream",
     "text": [
      " 51%|█████▏    | 113/220 [00:14<00:41,  2.57it/s]"
     ]
    },
    {
     "name": "stdout",
     "output_type": "stream",
     "text": [
      "/Users/chiaentsai/Desktop/lab/diode/10mm_per_sec/0mm_45W_013.raw\n"
     ]
    },
    {
     "name": "stderr",
     "output_type": "stream",
     "text": [
      " 52%|█████▏    | 114/220 [00:15<00:43,  2.42it/s]"
     ]
    },
    {
     "name": "stdout",
     "output_type": "stream",
     "text": [
      "/Users/chiaentsai/Desktop/lab/diode/10mm_per_sec/0mm_45W_014.raw\n"
     ]
    },
    {
     "name": "stderr",
     "output_type": "stream",
     "text": [
      " 52%|█████▏    | 115/220 [00:26<02:15,  1.29s/it]"
     ]
    },
    {
     "name": "stdout",
     "output_type": "stream",
     "text": [
      "/Users/chiaentsai/Desktop/lab/diode/10mm_per_sec/0mm_45W_015.raw\n"
     ]
    },
    {
     "name": "stderr",
     "output_type": "stream",
     "text": [
      " 53%|█████▎    | 116/220 [00:29<02:25,  1.40s/it]"
     ]
    },
    {
     "name": "stdout",
     "output_type": "stream",
     "text": [
      "/Users/chiaentsai/Desktop/lab/diode/10mm_per_sec/0mm_45W_016.raw\n"
     ]
    },
    {
     "name": "stderr",
     "output_type": "stream",
     "text": [
      " 53%|█████▎    | 117/220 [00:31<02:29,  1.46s/it]"
     ]
    },
    {
     "name": "stdout",
     "output_type": "stream",
     "text": [
      "/Users/chiaentsai/Desktop/lab/diode/10mm_per_sec/0mm_45W_017.raw\n"
     ]
    },
    {
     "name": "stderr",
     "output_type": "stream",
     "text": [
      " 54%|█████▎    | 118/220 [00:42<05:09,  3.03s/it]"
     ]
    },
    {
     "name": "stdout",
     "output_type": "stream",
     "text": [
      "/Users/chiaentsai/Desktop/lab/diode/10mm_per_sec/0mm_45W_018.raw\n"
     ]
    },
    {
     "name": "stderr",
     "output_type": "stream",
     "text": [
      " 54%|█████▍    | 119/220 [00:45<05:07,  3.04s/it]"
     ]
    },
    {
     "name": "stdout",
     "output_type": "stream",
     "text": [
      "/Users/chiaentsai/Desktop/lab/diode/10mm_per_sec/0mm_45W_019.raw\n"
     ]
    },
    {
     "name": "stderr",
     "output_type": "stream",
     "text": [
      "100%|██████████| 220/220 [00:47<00:00,  4.64it/s]\n",
      "  0%|          | 0/220 [00:00<?, ?it/s]"
     ]
    },
    {
     "name": "stdout",
     "output_type": "stream",
     "text": [
      "/Users/chiaentsai/Desktop/lab/diode/10mm_per_sec/0mm_50W_000.raw\n"
     ]
    },
    {
     "name": "stderr",
     "output_type": "stream",
     "text": [
      " 55%|█████▌    | 121/220 [00:01<00:01, 84.85it/s]"
     ]
    },
    {
     "name": "stdout",
     "output_type": "stream",
     "text": [
      "/Users/chiaentsai/Desktop/lab/diode/10mm_per_sec/0mm_50W_001.raw\n",
      "/Users/chiaentsai/Desktop/lab/diode/10mm_per_sec/0mm_50W_002.raw\n",
      "/Users/chiaentsai/Desktop/lab/diode/10mm_per_sec/0mm_50W_003.raw\n",
      "/Users/chiaentsai/Desktop/lab/diode/10mm_per_sec/0mm_50W_004.raw\n",
      "/Users/chiaentsai/Desktop/lab/diode/10mm_per_sec/0mm_50W_005.raw\n",
      "/Users/chiaentsai/Desktop/lab/diode/10mm_per_sec/0mm_50W_006.raw\n",
      "/Users/chiaentsai/Desktop/lab/diode/10mm_per_sec/0mm_50W_007.raw\n",
      "/Users/chiaentsai/Desktop/lab/diode/10mm_per_sec/0mm_50W_008.raw\n",
      "/Users/chiaentsai/Desktop/lab/diode/10mm_per_sec/0mm_50W_009.raw\n"
     ]
    },
    {
     "name": "stderr",
     "output_type": "stream",
     "text": [
      " 59%|█████▉    | 130/220 [00:09<00:08, 10.88it/s]"
     ]
    },
    {
     "name": "stdout",
     "output_type": "stream",
     "text": [
      "/Users/chiaentsai/Desktop/lab/diode/10mm_per_sec/0mm_50W_010.raw\n",
      "/Users/chiaentsai/Desktop/lab/diode/10mm_per_sec/0mm_50W_011.raw\n",
      "/Users/chiaentsai/Desktop/lab/diode/10mm_per_sec/0mm_50W_012.raw\n",
      "/Users/chiaentsai/Desktop/lab/diode/10mm_per_sec/0mm_50W_013.raw\n"
     ]
    },
    {
     "name": "stderr",
     "output_type": "stream",
     "text": [
      " 61%|██████    | 134/220 [00:22<00:24,  3.55it/s]"
     ]
    },
    {
     "name": "stdout",
     "output_type": "stream",
     "text": [
      "/Users/chiaentsai/Desktop/lab/diode/10mm_per_sec/0mm_50W_014.raw\n"
     ]
    },
    {
     "name": "stderr",
     "output_type": "stream",
     "text": [
      " 61%|██████▏   | 135/220 [00:24<00:26,  3.19it/s]"
     ]
    },
    {
     "name": "stdout",
     "output_type": "stream",
     "text": [
      "/Users/chiaentsai/Desktop/lab/diode/10mm_per_sec/0mm_50W_015.raw\n",
      "/Users/chiaentsai/Desktop/lab/diode/10mm_per_sec/0mm_50W_016.raw\n"
     ]
    },
    {
     "name": "stderr",
     "output_type": "stream",
     "text": [
      " 62%|██████▏   | 137/220 [00:34<00:46,  1.78it/s]"
     ]
    },
    {
     "name": "stdout",
     "output_type": "stream",
     "text": [
      "/Users/chiaentsai/Desktop/lab/diode/10mm_per_sec/0mm_50W_017.raw\n",
      "/Users/chiaentsai/Desktop/lab/diode/10mm_per_sec/0mm_50W_018.raw\n"
     ]
    },
    {
     "name": "stderr",
     "output_type": "stream",
     "text": [
      " 63%|██████▎   | 139/220 [00:38<00:55,  1.46it/s]"
     ]
    },
    {
     "name": "stdout",
     "output_type": "stream",
     "text": [
      "/Users/chiaentsai/Desktop/lab/diode/10mm_per_sec/0mm_50W_019.raw\n"
     ]
    },
    {
     "name": "stderr",
     "output_type": "stream",
     "text": [
      "100%|██████████| 220/220 [00:44<00:00,  4.95it/s]\n",
      "  0%|          | 0/220 [00:00<?, ?it/s]"
     ]
    },
    {
     "name": "stdout",
     "output_type": "stream",
     "text": [
      "/Users/chiaentsai/Desktop/lab/diode/10mm_per_sec/0mm_55W_000.raw\n"
     ]
    },
    {
     "name": "stderr",
     "output_type": "stream",
     "text": [
      " 64%|██████▍   | 141/220 [00:05<00:02, 27.25it/s]"
     ]
    },
    {
     "name": "stdout",
     "output_type": "stream",
     "text": [
      "/Users/chiaentsai/Desktop/lab/diode/10mm_per_sec/0mm_55W_001.raw\n",
      "/Users/chiaentsai/Desktop/lab/diode/10mm_per_sec/0mm_55W_002.raw\n",
      "/Users/chiaentsai/Desktop/lab/diode/10mm_per_sec/0mm_55W_003.raw\n"
     ]
    },
    {
     "name": "stderr",
     "output_type": "stream",
     "text": [
      " 65%|██████▌   | 144/220 [00:07<00:04, 18.56it/s]"
     ]
    },
    {
     "name": "stdout",
     "output_type": "stream",
     "text": [
      "/Users/chiaentsai/Desktop/lab/diode/10mm_per_sec/0mm_55W_004.raw\n",
      "/Users/chiaentsai/Desktop/lab/diode/10mm_per_sec/0mm_55W_005.raw\n"
     ]
    },
    {
     "name": "stderr",
     "output_type": "stream",
     "text": [
      " 66%|██████▋   | 146/220 [00:08<00:05, 14.45it/s]"
     ]
    },
    {
     "name": "stdout",
     "output_type": "stream",
     "text": [
      "/Users/chiaentsai/Desktop/lab/diode/10mm_per_sec/0mm_55W_006.raw\n"
     ]
    },
    {
     "name": "stderr",
     "output_type": "stream",
     "text": [
      " 67%|██████▋   | 147/220 [00:08<00:05, 12.21it/s]"
     ]
    },
    {
     "name": "stdout",
     "output_type": "stream",
     "text": [
      "/Users/chiaentsai/Desktop/lab/diode/10mm_per_sec/0mm_55W_007.raw\n"
     ]
    },
    {
     "name": "stderr",
     "output_type": "stream",
     "text": [
      " 67%|██████▋   | 148/220 [00:10<00:09,  7.76it/s]"
     ]
    },
    {
     "name": "stdout",
     "output_type": "stream",
     "text": [
      "/Users/chiaentsai/Desktop/lab/diode/10mm_per_sec/0mm_55W_008.raw\n"
     ]
    },
    {
     "name": "stderr",
     "output_type": "stream",
     "text": [
      " 68%|██████▊   | 149/220 [00:11<00:11,  6.04it/s]"
     ]
    },
    {
     "name": "stdout",
     "output_type": "stream",
     "text": [
      "/Users/chiaentsai/Desktop/lab/diode/10mm_per_sec/0mm_55W_009.raw\n"
     ]
    },
    {
     "name": "stderr",
     "output_type": "stream",
     "text": [
      " 68%|██████▊   | 150/220 [00:12<00:13,  5.15it/s]"
     ]
    },
    {
     "name": "stdout",
     "output_type": "stream",
     "text": [
      "/Users/chiaentsai/Desktop/lab/diode/10mm_per_sec/0mm_55W_010.raw\n"
     ]
    },
    {
     "name": "stderr",
     "output_type": "stream",
     "text": [
      " 69%|██████▊   | 151/220 [00:13<00:15,  4.53it/s]"
     ]
    },
    {
     "name": "stdout",
     "output_type": "stream",
     "text": [
      "/Users/chiaentsai/Desktop/lab/diode/10mm_per_sec/0mm_55W_011.raw\n"
     ]
    },
    {
     "name": "stderr",
     "output_type": "stream",
     "text": [
      " 69%|██████▉   | 152/220 [00:13<00:17,  3.98it/s]"
     ]
    },
    {
     "name": "stdout",
     "output_type": "stream",
     "text": [
      "/Users/chiaentsai/Desktop/lab/diode/10mm_per_sec/0mm_55W_012.raw\n"
     ]
    },
    {
     "name": "stderr",
     "output_type": "stream",
     "text": [
      " 70%|██████▉   | 153/220 [00:15<00:24,  2.75it/s]"
     ]
    },
    {
     "name": "stdout",
     "output_type": "stream",
     "text": [
      "/Users/chiaentsai/Desktop/lab/diode/10mm_per_sec/0mm_55W_013.raw\n"
     ]
    },
    {
     "name": "stderr",
     "output_type": "stream",
     "text": [
      " 70%|███████   | 154/220 [00:15<00:26,  2.48it/s]"
     ]
    },
    {
     "name": "stdout",
     "output_type": "stream",
     "text": [
      "/Users/chiaentsai/Desktop/lab/diode/10mm_per_sec/0mm_55W_014.raw\n"
     ]
    },
    {
     "name": "stderr",
     "output_type": "stream",
     "text": [
      " 70%|███████   | 155/220 [00:16<00:28,  2.27it/s]"
     ]
    },
    {
     "name": "stdout",
     "output_type": "stream",
     "text": [
      "/Users/chiaentsai/Desktop/lab/diode/10mm_per_sec/0mm_55W_015.raw\n"
     ]
    },
    {
     "name": "stderr",
     "output_type": "stream",
     "text": [
      " 71%|███████   | 156/220 [00:17<00:30,  2.07it/s]"
     ]
    },
    {
     "name": "stdout",
     "output_type": "stream",
     "text": [
      "/Users/chiaentsai/Desktop/lab/diode/10mm_per_sec/0mm_55W_016.raw\n"
     ]
    },
    {
     "name": "stderr",
     "output_type": "stream",
     "text": [
      " 71%|███████▏  | 157/220 [00:17<00:31,  2.00it/s]"
     ]
    },
    {
     "name": "stdout",
     "output_type": "stream",
     "text": [
      "/Users/chiaentsai/Desktop/lab/diode/10mm_per_sec/0mm_55W_017.raw\n"
     ]
    },
    {
     "name": "stderr",
     "output_type": "stream",
     "text": [
      " 72%|███████▏  | 158/220 [00:18<00:30,  2.02it/s]"
     ]
    },
    {
     "name": "stdout",
     "output_type": "stream",
     "text": [
      "/Users/chiaentsai/Desktop/lab/diode/10mm_per_sec/0mm_55W_018.raw\n"
     ]
    },
    {
     "name": "stderr",
     "output_type": "stream",
     "text": [
      " 72%|███████▏  | 159/220 [00:18<00:29,  2.06it/s]"
     ]
    },
    {
     "name": "stdout",
     "output_type": "stream",
     "text": [
      "/Users/chiaentsai/Desktop/lab/diode/10mm_per_sec/0mm_55W_019.raw\n"
     ]
    },
    {
     "name": "stderr",
     "output_type": "stream",
     "text": [
      "100%|██████████| 220/220 [00:19<00:00, 11.55it/s]\n",
      "  0%|          | 0/220 [00:00<?, ?it/s]"
     ]
    },
    {
     "name": "stdout",
     "output_type": "stream",
     "text": [
      "/Users/chiaentsai/Desktop/lab/diode/10mm_per_sec/0mm_60W_000.raw\n"
     ]
    },
    {
     "name": "stderr",
     "output_type": "stream",
     "text": [
      " 73%|███████▎  | 161/220 [00:02<00:01, 53.83it/s]"
     ]
    },
    {
     "name": "stdout",
     "output_type": "stream",
     "text": [
      "/Users/chiaentsai/Desktop/lab/diode/10mm_per_sec/0mm_60W_001.raw\n",
      "/Users/chiaentsai/Desktop/lab/diode/10mm_per_sec/0mm_60W_002.raw\n",
      "/Users/chiaentsai/Desktop/lab/diode/10mm_per_sec/0mm_60W_003.raw\n",
      "/Users/chiaentsai/Desktop/lab/diode/10mm_per_sec/0mm_60W_004.raw\n",
      "/Users/chiaentsai/Desktop/lab/diode/10mm_per_sec/0mm_60W_005.raw\n",
      "/Users/chiaentsai/Desktop/lab/diode/10mm_per_sec/0mm_60W_006.raw\n"
     ]
    },
    {
     "name": "stderr",
     "output_type": "stream",
     "text": [
      " 76%|███████▌  | 167/220 [00:05<00:02, 25.76it/s]"
     ]
    },
    {
     "name": "stdout",
     "output_type": "stream",
     "text": [
      "/Users/chiaentsai/Desktop/lab/diode/10mm_per_sec/0mm_60W_007.raw\n",
      "/Users/chiaentsai/Desktop/lab/diode/10mm_per_sec/0mm_60W_008.raw\n",
      "/Users/chiaentsai/Desktop/lab/diode/10mm_per_sec/0mm_60W_009.raw\n"
     ]
    },
    {
     "name": "stderr",
     "output_type": "stream",
     "text": [
      " 77%|███████▋  | 170/220 [00:06<00:02, 19.37it/s]"
     ]
    },
    {
     "name": "stdout",
     "output_type": "stream",
     "text": [
      "/Users/chiaentsai/Desktop/lab/diode/10mm_per_sec/0mm_60W_010.raw\n",
      "/Users/chiaentsai/Desktop/lab/diode/10mm_per_sec/0mm_60W_011.raw\n"
     ]
    },
    {
     "name": "stderr",
     "output_type": "stream",
     "text": [
      " 78%|███████▊  | 172/220 [00:08<00:03, 12.33it/s]"
     ]
    },
    {
     "name": "stdout",
     "output_type": "stream",
     "text": [
      "/Users/chiaentsai/Desktop/lab/diode/10mm_per_sec/0mm_60W_012.raw\n"
     ]
    },
    {
     "name": "stderr",
     "output_type": "stream",
     "text": [
      " 79%|███████▊  | 173/220 [00:09<00:04, 11.28it/s]"
     ]
    },
    {
     "name": "stdout",
     "output_type": "stream",
     "text": [
      "/Users/chiaentsai/Desktop/lab/diode/10mm_per_sec/0mm_60W_013.raw\n"
     ]
    },
    {
     "name": "stderr",
     "output_type": "stream",
     "text": [
      " 79%|███████▉  | 174/220 [00:09<00:04, 10.02it/s]"
     ]
    },
    {
     "name": "stdout",
     "output_type": "stream",
     "text": [
      "/Users/chiaentsai/Desktop/lab/diode/10mm_per_sec/0mm_60W_014.raw\n"
     ]
    },
    {
     "name": "stderr",
     "output_type": "stream",
     "text": [
      " 80%|███████▉  | 175/220 [00:09<00:05,  8.72it/s]"
     ]
    },
    {
     "name": "stdout",
     "output_type": "stream",
     "text": [
      "/Users/chiaentsai/Desktop/lab/diode/10mm_per_sec/0mm_60W_015.raw\n"
     ]
    },
    {
     "name": "stderr",
     "output_type": "stream",
     "text": [
      " 80%|████████  | 176/220 [00:10<00:05,  7.42it/s]"
     ]
    },
    {
     "name": "stdout",
     "output_type": "stream",
     "text": [
      "/Users/chiaentsai/Desktop/lab/diode/10mm_per_sec/0mm_60W_016.raw\n"
     ]
    },
    {
     "name": "stderr",
     "output_type": "stream",
     "text": [
      " 80%|████████  | 177/220 [00:10<00:06,  6.30it/s]"
     ]
    },
    {
     "name": "stdout",
     "output_type": "stream",
     "text": [
      "/Users/chiaentsai/Desktop/lab/diode/10mm_per_sec/0mm_60W_017.raw\n"
     ]
    },
    {
     "name": "stderr",
     "output_type": "stream",
     "text": [
      " 81%|████████  | 178/220 [00:11<00:07,  5.34it/s]"
     ]
    },
    {
     "name": "stdout",
     "output_type": "stream",
     "text": [
      "/Users/chiaentsai/Desktop/lab/diode/10mm_per_sec/0mm_60W_018.raw\n"
     ]
    },
    {
     "name": "stderr",
     "output_type": "stream",
     "text": [
      " 81%|████████▏ | 179/220 [00:11<00:09,  4.52it/s]"
     ]
    },
    {
     "name": "stdout",
     "output_type": "stream",
     "text": [
      "/Users/chiaentsai/Desktop/lab/diode/10mm_per_sec/0mm_60W_019.raw\n"
     ]
    },
    {
     "name": "stderr",
     "output_type": "stream",
     "text": [
      "100%|██████████| 220/220 [00:12<00:00, 17.83it/s]\n",
      "  0%|          | 0/220 [00:00<?, ?it/s]"
     ]
    },
    {
     "name": "stdout",
     "output_type": "stream",
     "text": [
      "/Users/chiaentsai/Desktop/lab/diode/10mm_per_sec/0mm_65W_000.raw\n"
     ]
    },
    {
     "name": "stderr",
     "output_type": "stream",
     "text": [
      " 82%|████████▏ | 181/220 [00:02<00:00, 74.39it/s]"
     ]
    },
    {
     "name": "stdout",
     "output_type": "stream",
     "text": [
      "/Users/chiaentsai/Desktop/lab/diode/10mm_per_sec/0mm_65W_001.raw\n",
      "/Users/chiaentsai/Desktop/lab/diode/10mm_per_sec/0mm_65W_002.raw\n",
      "/Users/chiaentsai/Desktop/lab/diode/10mm_per_sec/0mm_65W_003.raw\n",
      "/Users/chiaentsai/Desktop/lab/diode/10mm_per_sec/0mm_65W_004.raw\n",
      "/Users/chiaentsai/Desktop/lab/diode/10mm_per_sec/0mm_65W_005.raw\n",
      "/Users/chiaentsai/Desktop/lab/diode/10mm_per_sec/0mm_65W_006.raw\n",
      "/Users/chiaentsai/Desktop/lab/diode/10mm_per_sec/0mm_65W_007.raw\n",
      "/Users/chiaentsai/Desktop/lab/diode/10mm_per_sec/0mm_65W_008.raw\n"
     ]
    },
    {
     "name": "stderr",
     "output_type": "stream",
     "text": [
      " 86%|████████▌ | 189/220 [00:05<00:01, 28.25it/s]"
     ]
    },
    {
     "name": "stdout",
     "output_type": "stream",
     "text": [
      "/Users/chiaentsai/Desktop/lab/diode/10mm_per_sec/0mm_65W_009.raw\n",
      "/Users/chiaentsai/Desktop/lab/diode/10mm_per_sec/0mm_65W_010.raw\n",
      "/Users/chiaentsai/Desktop/lab/diode/10mm_per_sec/0mm_65W_011.raw\n",
      "/Users/chiaentsai/Desktop/lab/diode/10mm_per_sec/0mm_65W_012.raw\n"
     ]
    },
    {
     "name": "stderr",
     "output_type": "stream",
     "text": [
      " 88%|████████▊ | 193/220 [00:07<00:01, 19.96it/s]"
     ]
    },
    {
     "name": "stdout",
     "output_type": "stream",
     "text": [
      "/Users/chiaentsai/Desktop/lab/diode/10mm_per_sec/0mm_65W_013.raw\n",
      "/Users/chiaentsai/Desktop/lab/diode/10mm_per_sec/0mm_65W_014.raw\n"
     ]
    },
    {
     "name": "stderr",
     "output_type": "stream",
     "text": [
      " 89%|████████▊ | 195/220 [00:07<00:01, 16.59it/s]"
     ]
    },
    {
     "name": "stdout",
     "output_type": "stream",
     "text": [
      "/Users/chiaentsai/Desktop/lab/diode/10mm_per_sec/0mm_65W_015.raw\n",
      "/Users/chiaentsai/Desktop/lab/diode/10mm_per_sec/0mm_65W_016.raw\n"
     ]
    },
    {
     "name": "stderr",
     "output_type": "stream",
     "text": [
      " 90%|████████▉ | 197/220 [00:08<00:01, 13.59it/s]"
     ]
    },
    {
     "name": "stdout",
     "output_type": "stream",
     "text": [
      "/Users/chiaentsai/Desktop/lab/diode/10mm_per_sec/0mm_65W_017.raw\n"
     ]
    },
    {
     "name": "stderr",
     "output_type": "stream",
     "text": [
      " 90%|█████████ | 198/220 [00:09<00:01, 12.07it/s]"
     ]
    },
    {
     "name": "stdout",
     "output_type": "stream",
     "text": [
      "/Users/chiaentsai/Desktop/lab/diode/10mm_per_sec/0mm_65W_018.raw\n"
     ]
    },
    {
     "name": "stderr",
     "output_type": "stream",
     "text": [
      " 90%|█████████ | 199/220 [00:09<00:01, 10.59it/s]"
     ]
    },
    {
     "name": "stdout",
     "output_type": "stream",
     "text": [
      "/Users/chiaentsai/Desktop/lab/diode/10mm_per_sec/0mm_65W_019.raw\n"
     ]
    },
    {
     "name": "stderr",
     "output_type": "stream",
     "text": [
      "100%|██████████| 220/220 [00:09<00:00, 22.10it/s]\n",
      "  0%|          | 0/220 [00:00<?, ?it/s]"
     ]
    },
    {
     "name": "stdout",
     "output_type": "stream",
     "text": [
      "/Users/chiaentsai/Desktop/lab/diode/10mm_per_sec/0mm_70W_000.raw\n"
     ]
    },
    {
     "name": "stderr",
     "output_type": "stream",
     "text": [
      " 91%|█████████▏| 201/220 [00:01<00:00, 112.26it/s]"
     ]
    },
    {
     "name": "stdout",
     "output_type": "stream",
     "text": [
      "/Users/chiaentsai/Desktop/lab/diode/10mm_per_sec/0mm_70W_001.raw\n",
      "/Users/chiaentsai/Desktop/lab/diode/10mm_per_sec/0mm_70W_002.raw\n",
      "/Users/chiaentsai/Desktop/lab/diode/10mm_per_sec/0mm_70W_003.raw\n",
      "/Users/chiaentsai/Desktop/lab/diode/10mm_per_sec/0mm_70W_004.raw\n",
      "/Users/chiaentsai/Desktop/lab/diode/10mm_per_sec/0mm_70W_005.raw\n",
      "/Users/chiaentsai/Desktop/lab/diode/10mm_per_sec/0mm_70W_006.raw\n",
      "/Users/chiaentsai/Desktop/lab/diode/10mm_per_sec/0mm_70W_007.raw\n",
      "/Users/chiaentsai/Desktop/lab/diode/10mm_per_sec/0mm_70W_008.raw\n",
      "/Users/chiaentsai/Desktop/lab/diode/10mm_per_sec/0mm_70W_009.raw\n",
      "/Users/chiaentsai/Desktop/lab/diode/10mm_per_sec/0mm_70W_010.raw\n",
      "/Users/chiaentsai/Desktop/lab/diode/10mm_per_sec/0mm_70W_011.raw\n",
      "/Users/chiaentsai/Desktop/lab/diode/10mm_per_sec/0mm_70W_012.raw\n"
     ]
    },
    {
     "name": "stderr",
     "output_type": "stream",
     "text": [
      " 97%|█████████▋| 213/220 [00:06<00:00, 24.26it/s] "
     ]
    },
    {
     "name": "stdout",
     "output_type": "stream",
     "text": [
      "/Users/chiaentsai/Desktop/lab/diode/10mm_per_sec/0mm_70W_013.raw\n",
      "/Users/chiaentsai/Desktop/lab/diode/10mm_per_sec/0mm_70W_014.raw\n",
      "/Users/chiaentsai/Desktop/lab/diode/10mm_per_sec/0mm_70W_015.raw\n",
      "/Users/chiaentsai/Desktop/lab/diode/10mm_per_sec/0mm_70W_016.raw\n",
      "/Users/chiaentsai/Desktop/lab/diode/10mm_per_sec/0mm_70W_017.raw\n"
     ]
    },
    {
     "name": "stderr",
     "output_type": "stream",
     "text": [
      " 99%|█████████▉| 218/220 [00:09<00:00, 15.72it/s]"
     ]
    },
    {
     "name": "stdout",
     "output_type": "stream",
     "text": [
      "/Users/chiaentsai/Desktop/lab/diode/10mm_per_sec/0mm_70W_018.raw\n",
      "/Users/chiaentsai/Desktop/lab/diode/10mm_per_sec/0mm_70W_019.raw\n"
     ]
    },
    {
     "name": "stderr",
     "output_type": "stream",
     "text": [
      "100%|██████████| 220/220 [00:10<00:00, 20.30it/s]\n"
     ]
    }
   ],
   "source": [
    "for i, (key, value) in enumerate(all_files.items()):\n",
    "    power = [int(x) for x in power_list[i]][1:]\n",
    "    files = all_files[key]\n",
    "    \n",
    "    for p in power:\n",
    "        dR_list = []\n",
    "        temp_list = []\n",
    "        for file in tqdm(files):\n",
    "            if \"_{}W_\".format(p) in str(file):\n",
    "                print(str(file))\n",
    "                dR = get_peak_dRoverR(file, back_intensity_list[i], two_lorentz, two_lorentz)\n",
    "                dR_list.append(dR)\n",
    "                temp_list.append(dR/0.00016+21)\n",
    "                \n",
    "        #convert the frame number to position\n",
    "        #x = [(frame-2.7)*int(key)/36 for frame in range(1,len(temp_list)+1)] \n",
    "        \n",
    "        x = [frame for frame in range(0,len(dR_list))] \n",
    "        \n",
    "        \n",
    "        #plt.plot(x, dR_list, marker=\"o\")\n",
    "\n",
    "        #plot temp.\n",
    "        #plt.plot(x, temp_list, marker=\"o\")\n",
    "        plt.xlabel(\"frame\")\n",
    "        plt.xlabel(\"length\")\n",
    "        plt.ylabel(\"Temperature (Celsius)\")\n",
    "        \n",
    "        #limit temperature to 1500C\n",
    "        plt.ylim(0,1500)\n",
    "        \n",
    "        #limit position to 1-10mm\n",
    "        #plt.xlim(0,5)\n",
    "\n",
    "    plt.savefig(\"/Users/chiaentsai/Desktop/lab/Temperature_Calibration/diode_dRoverR_vs_frame/{}mmpersec.png\".format(key), format=\"PNG\")\n",
    "    plt.close()"
   ]
  },
  {
   "cell_type": "code",
   "execution_count": null,
   "metadata": {},
   "outputs": [],
   "source": []
  }
 ],
 "metadata": {
  "kernelspec": {
   "display_name": "Python 3.9.0 ('venv')",
   "language": "python",
   "name": "python3"
  },
  "language_info": {
   "codemirror_mode": {
    "name": "ipython",
    "version": 3
   },
   "file_extension": ".py",
   "mimetype": "text/x-python",
   "name": "python",
   "nbconvert_exporter": "python",
   "pygments_lexer": "ipython3",
   "version": "3.9.0"
  },
  "orig_nbformat": 4,
  "vscode": {
   "interpreter": {
    "hash": "05a9d8f434e6f97949f116bb3fd6e0132cb85e41e1947128ba85095efa1eda1d"
   }
  }
 },
 "nbformat": 4,
 "nbformat_minor": 2
}
