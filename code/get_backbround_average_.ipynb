{
 "cells": [
  {
   "cell_type": "code",
   "execution_count": 2,
   "id": "6d6e7b7e",
   "metadata": {},
   "outputs": [],
   "source": [
    "%run \"data_processing_.ipynb\""
   ]
  },
  {
   "cell_type": "code",
   "execution_count": 4,
   "id": "fd869aec",
   "metadata": {},
   "outputs": [],
   "source": [
    "X_DIM = 480\n",
    "Y_DIM = 640"
   ]
  },
  {
   "cell_type": "code",
   "execution_count": 5,
   "id": "3e0aa6c0",
   "metadata": {},
   "outputs": [],
   "source": [
    "def get_background_average(fivemm_files):\n",
    "\n",
    "    background_files = []\n",
    "    for velocity in fivemm_files:\n",
    " \n",
    "        filelist = [s for s in fivemm_files[velocity] if \"_0W_\" in s]\n",
    "        background_files.append(filelist)\n",
    "\n",
    "    intensity_list = []\n",
    "    for velocity in background_files:\n",
    "        con = []\n",
    "        for file in velocity:   \n",
    "            inten = get_blue(file)\n",
    "            con.append(inten)    \n",
    "        intensity_list.append(con)\n",
    "\n",
    "    back_intensity_list = []\n",
    "    for velocity in intensity_list:\n",
    "        con = np.zeros((X_DIM,Y_DIM))\n",
    "        for inten in velocity:\n",
    "            con = con + inten\n",
    "        avg = con / len(velocity)\n",
    "        back_intensity_list.append(avg)\n",
    "    \n",
    "    return back_intensity_list\n"
   ]
  },
  {
   "cell_type": "code",
   "execution_count": null,
   "id": "1e70754d",
   "metadata": {},
   "outputs": [],
   "source": []
  }
 ],
 "metadata": {
  "kernelspec": {
   "display_name": "Python 3 (ipykernel)",
   "language": "python",
   "name": "python3"
  },
  "language_info": {
   "codemirror_mode": {
    "name": "ipython",
    "version": 3
   },
   "file_extension": ".py",
   "mimetype": "text/x-python",
   "name": "python",
   "nbconvert_exporter": "python",
   "pygments_lexer": "ipython3",
   "version": "3.9.0"
  },
  "vscode": {
   "interpreter": {
    "hash": "05a9d8f434e6f97949f116bb3fd6e0132cb85e41e1947128ba85095efa1eda1d"
   }
  }
 },
 "nbformat": 4,
 "nbformat_minor": 5
}
