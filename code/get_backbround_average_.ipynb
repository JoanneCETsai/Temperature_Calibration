{
 "cells": [
  {
   "cell_type": "code",
   "execution_count": 2,
   "id": "6d6e7b7e",
   "metadata": {},
   "outputs": [],
   "source": [
    "%run \"data_processing_.ipynb\""
   ]
  },
  {
   "cell_type": "code",
   "execution_count": 29,
   "id": "1e70754d",
   "metadata": {},
   "outputs": [],
   "source": [
    "def get_background_average(fivemm_files, used_frame_num):\n",
    "\n",
    "    background_files = []\n",
    "    \n",
    "    for i,v in enumerate(list(fivemm_files.keys())):\n",
    "        filelist = [s for s in fivemm_files[v] if \"_0W_\" in s]\n",
    "        a = str(used_frame_num[i])\n",
    "        filelist = [s for s in filelist if \"_0{}\".format(a) in s or \"_00{}\".format(a) in s]\n",
    "        background_files.append(filelist)\n",
    "\n",
    "    intensity_list = []\n",
    "    for velocity in background_files:\n",
    "        con = []\n",
    "        for file in velocity:   \n",
    "            inten = get_blue(file)\n",
    "            con.append(inten)    \n",
    "        intensity_list.append(con)\n",
    "\n",
    "    back_intensity_list = []\n",
    "    for velocity in intensity_list:\n",
    "        con = np.zeros((X_DIM,Y_DIM))\n",
    "        for inten in velocity:\n",
    "            con = con + inten\n",
    "        avg = con / len(velocity)\n",
    "        back_intensity_list.append(avg)\n",
    "    \n",
    "    \n",
    "\n",
    "    return back_intensity_list"
   ]
  },
  {
   "cell_type": "code",
   "execution_count": null,
   "id": "4a5c494e",
   "metadata": {},
   "outputs": [],
   "source": []
  }
 ],
 "metadata": {
  "kernelspec": {
   "display_name": "Python 3.9.0 64-bit",
   "language": "python",
   "name": "python3"
  },
  "language_info": {
   "codemirror_mode": {
    "name": "ipython",
    "version": 3
   },
   "file_extension": ".py",
   "mimetype": "text/x-python",
   "name": "python",
   "nbconvert_exporter": "python",
   "pygments_lexer": "ipython3",
   "version": "3.9.0"
  },
  "vscode": {
   "interpreter": {
    "hash": "aee8b7b246df8f9039afb4144a1f6fd8d2ca17a180786b69acc140d282b71a49"
   }
  }
 },
 "nbformat": 4,
 "nbformat_minor": 5
}
