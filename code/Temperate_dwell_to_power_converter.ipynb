{
 "cells": [
  {
   "cell_type": "markdown",
   "id": "d3c04ca6",
   "metadata": {},
   "source": [
    "# Temperature/dwell time to power converter"
   ]
  },
  {
   "cell_type": "markdown",
   "id": "3af920a5",
   "metadata": {},
   "source": [
    "## 1. run the following two cells"
   ]
  },
  {
   "cell_type": "code",
   "execution_count": 17,
   "id": "641def28",
   "metadata": {},
   "outputs": [],
   "source": [
    "import numpy as np\n",
    "# from sympy import symbols, Eq, solve\n",
    "from scipy.optimize import leastsq"
   ]
  },
  {
   "cell_type": "code",
   "execution_count": 18,
   "id": "00784b96",
   "metadata": {},
   "outputs": [],
   "source": [
    "parameters_2 = np.array([ 5.30354554e+02, -9.60250760e+01, -7.98869136e+02 , 9.13980490e+01,\n",
    "  1.35226042e+03 , 1.11308546e+00 , 2.22079583e-02 , 3.88779414e+00])\n",
    "\n",
    "def get_power(dwell, Tpeak):\n",
    "    v = 88200/dwell\n",
    "    lnv = np.log(v)\n",
    "    a, b, c, d, e, f, g, h= parameters_2\n",
    "    eq1 = lambda x: (a+b*lnv+h*lnv**2)*x**(f+g*lnv) + (c+d*lnv)*x + e  - Tpeak\n",
    "    sol = leastsq(eq1, 100)\n",
    "    #return float(sol[0], sol[1]), float(sol[1])\n",
    "    return float(sol[0])"
   ]
  },
  {
   "cell_type": "markdown",
   "id": "805e6a3b",
   "metadata": {},
   "source": [
    "## 2. Use the function!\n",
    "### The format is get_power(dwell, Tpeak)\n",
    "### dwell in us, Tpeak in Degree Celsius"
   ]
  },
  {
   "cell_type": "code",
   "execution_count": 20,
   "id": "3726fa0c",
   "metadata": {},
   "outputs": [
    {
     "data": {
      "text/plain": [
       "40.36594211464293"
      ]
     },
     "execution_count": 20,
     "metadata": {},
     "output_type": "execute_result"
    }
   ],
   "source": [
    "get_power(464, 1064)"
   ]
  },
  {
   "cell_type": "code",
   "execution_count": null,
   "id": "ab8d7626",
   "metadata": {},
   "outputs": [],
   "source": []
  }
 ],
 "metadata": {
  "kernelspec": {
   "display_name": "Python 3 (ipykernel)",
   "language": "python",
   "name": "python3"
  },
  "language_info": {
   "codemirror_mode": {
    "name": "ipython",
    "version": 3
   },
   "file_extension": ".py",
   "mimetype": "text/x-python",
   "name": "python",
   "nbconvert_exporter": "python",
   "pygments_lexer": "ipython3",
   "version": "3.9.0"
  },
  "vscode": {
   "interpreter": {
    "hash": "aee8b7b246df8f9039afb4144a1f6fd8d2ca17a180786b69acc140d282b71a49"
   }
  }
 },
 "nbformat": 4,
 "nbformat_minor": 5
}
