{
 "cells": [
  {
   "cell_type": "code",
   "execution_count": 1,
   "metadata": {},
   "outputs": [],
   "source": [
    "%run \"curve_fit_.ipynb\"\n",
    "%run \"data_processing_.ipynb\"\n",
    "%run \"evaluation_functions_.ipynb\"\n",
    "%run \"fitting_functions_.ipynb\"\n",
    "%run \"get_temperature_.ipynb\"\n",
    "%run \"load_data_.ipynb\"\n",
    "%run \"get_backbround_average_.ipynb\"\n",
    "%run \"frame_vs_temperature.ipynb\""
   ]
  },
  {
   "cell_type": "markdown",
   "metadata": {},
   "source": [
    "# 5mm frame figures"
   ]
  },
  {
   "cell_type": "markdown",
   "metadata": {},
   "source": [
    "### input: folder path (which contains all velocity folders)"
   ]
  },
  {
   "cell_type": "code",
   "execution_count": 2,
   "metadata": {},
   "outputs": [],
   "source": [
    "all_files, fivemm_files, velocity_path_list, velocity_list, used_frame_num = get_needed_files(\"/Users/chiaentsai/Box/MURI-SARA/Thermoreflectance/Joanne/CHESS/0128_2023_shutter_delay\")\n",
    "back_intensity_list = get_background_average(fivemm_files)\n",
    "power_list = get_powers(all_files)"
   ]
  },
  {
   "cell_type": "markdown",
   "metadata": {},
   "source": [
    "## 5mm frame figures (no background)"
   ]
  },
  {
   "cell_type": "code",
   "execution_count": 3,
   "metadata": {},
   "outputs": [],
   "source": [
    "for I, v in enumerate(list(fivemm_files.keys())):\n",
    "    for i, item in enumerate(fivemm_files[v]):\n",
    "        original = get_blue(item)\n",
    "        back = back_intensity_list[I]\n",
    "        fig = original - back\n",
    "        plt.imshow(fig)\n",
    "        plt.savefig(\"/Users/chiaentsai/Desktop/lab/Temperature_Calibration/5mm_frame_noback_figure/{}mm_4mmframe_{}.png\".format(v,i), format=\"PNG\")\n",
    "        plt.close()"
   ]
  },
  {
   "cell_type": "markdown",
   "metadata": {},
   "source": [
    "# temperature vs frame"
   ]
  },
  {
   "cell_type": "code",
   "execution_count": 73,
   "metadata": {},
   "outputs": [],
   "source": [
    "# for i, (key, value) in enumerate(all_files.items()):\n",
    "#     power = [int(x) for x in power_list[i]][1:]\n",
    "#     files = all_files[key]\n",
    "    \n",
    "#     for p in power:\n",
    "#         temp_list = []\n",
    "#         for file in files:\n",
    "#             if \"_{}W_\".format(p) in str(file):\n",
    "#                 temp = get_peak_Tem(file, back_intensity_list[i], poly5, poly5, 0.00018)\n",
    "#                 temp_list.append(temp)\n",
    "#         plt.plot(temp_list)\n",
    "\n",
    "#     plt.savefig(\"/Users/chiaentsai/Desktop/lab/Temperature_Calibration/Temp_vs_frame/{}mmpersec\".format(key), format=\"PNG\")\n",
    "#     plt.close()"
   ]
  },
  {
   "cell_type": "code",
   "execution_count": 51,
   "metadata": {},
   "outputs": [],
   "source": [
    "for i, (key, value) in enumerate(all_files.items()):\n",
    "    power = [int(x) for x in power_list[i]][1:]\n",
    "    files = all_files[key]\n",
    "    \n",
    "    for p in power:\n",
    "        temp_list = []\n",
    "        for file in files:\n",
    "            if \"_{}W_\".format(p) in str(file):\n",
    "                temp = get_peak_Tem(file, back_intensity_list[i], poly5, poly5, 0.000169)\n",
    "                temp_list.append(temp)\n",
    "                \n",
    "        #convert the frame number to position\n",
    "        #x = [(frame-2.7)*int(key)/92.59 for frame in range(1,len(temp_list)+1)] \n",
    "        \n",
    "        x = [(frame/92.59 - shutter_delay)*int(key) for frame in range(0,len(temp_list))] \n",
    "        \n",
    "        \n",
    "        plt.plot(x, temp_list, marker=\"o\")\n",
    "        \n",
    "        #limit temperature to 1500C\n",
    "        plt.ylim(0,1500)\n",
    "        \n",
    "        #limit position to 1-10mm\n",
    "        plt.xlim(0,5)\n",
    "\n",
    "    plt.savefig(\"/Users/chiaentsai/Desktop/lab/Temperature_Calibration/Temp_vs_frame/{}mmpersec\".format(key), format=\"PNG\")\n",
    "    plt.close()"
   ]
  },
  {
   "cell_type": "code",
   "execution_count": 48,
   "metadata": {},
   "outputs": [],
   "source": [
    "for i, (key, value) in enumerate(all_files.items()):\n",
    "    power = [int(x) for x in power_list[i]][1:]\n",
    "    files = all_files[key]\n",
    "    \n",
    "    for p in power:\n",
    "        temp_list = []\n",
    "        for file in files:\n",
    "            if \"_{}W_\".format(p) in str(file):\n",
    "                temp = get_peak_Tem(file, back_intensity_list[i], poly5, poly5, 0.000169)\n",
    "                temp_list.append(temp)\n",
    "                \n",
    "        #convert the frame number to position\n",
    "        #x = [(frame-2.7)*int(key)/92.59 for frame in range(1,len(temp_list)+1)] \n",
    "        \n",
    "        x = [(frame/92.59 - shutter_delay)*int(key) for frame in range(0,len(temp_list))] \n",
    "        \n",
    "        \n",
    "        plt.plot(x, temp_list, marker=\"o\", label = str(p))\n",
    "        plt.legend()\n",
    "        \n",
    "        \n",
    "        #limit temperature to 1500C\n",
    "        plt.ylim(0,1500)\n",
    "        \n",
    "        #limit position to 1-10mm\n",
    "        plt.xlim(0,5)\n",
    "\n",
    "    plt.savefig(\"/Users/chiaentsai/Desktop/lab/Temperature_Calibration/Temp_vs_frame/{}mmpersec\".format(key), format=\"PNG\")\n",
    "    plt.close()"
   ]
  },
  {
   "cell_type": "code",
   "execution_count": null,
   "metadata": {},
   "outputs": [],
   "source": []
  }
 ],
 "metadata": {
  "kernelspec": {
   "display_name": "Python 3 (ipykernel)",
   "language": "python",
   "name": "python3"
  },
  "language_info": {
   "codemirror_mode": {
    "name": "ipython",
    "version": 3
   },
   "file_extension": ".py",
   "mimetype": "text/x-python",
   "name": "python",
   "nbconvert_exporter": "python",
   "pygments_lexer": "ipython3",
   "version": "3.9.0"
  },
  "vscode": {
   "interpreter": {
    "hash": "05a9d8f434e6f97949f116bb3fd6e0132cb85e41e1947128ba85095efa1eda1d"
   }
  }
 },
 "nbformat": 4,
 "nbformat_minor": 2
}
