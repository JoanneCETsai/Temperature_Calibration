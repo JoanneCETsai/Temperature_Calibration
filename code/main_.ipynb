{
 "cells": [
  {
   "cell_type": "code",
   "execution_count": 67,
   "id": "3723a1f8",
   "metadata": {},
   "outputs": [],
   "source": [
    "%run \"curve_fit_.ipynb\"\n",
    "%run \"data_processing_.ipynb\" #HEADER_LEN,X_DIM,Y_DIM,X_left_boundry,X_right_boundry,Y_left_boundry,Y_right_boundry\n",
    "%run \"evaluation_functions_.ipynb\"\n",
    "%run \"fitting_functions_.ipynb\"\n",
    "%run \"get_temperature_.ipynb\"\n",
    "%run \"load_data_.ipynb\" # frame rate, shutter delay, and interseted position \n",
    "%run \"get_backbround_average_.ipynb\" \n",
    "%run \"frame_vs_temperature.ipynb\" # get_powers"
   ]
  },
  {
   "cell_type": "markdown",
   "id": "bd9b9048",
   "metadata": {},
   "source": [
    "# Input Here"
   ]
  },
  {
   "cell_type": "markdown",
   "id": "b3cbbb6b",
   "metadata": {},
   "source": [
    "### 1. name of the folder containing different velocity's picture"
   ]
  },
  {
   "cell_type": "code",
   "execution_count": 68,
   "id": "acfea6eb",
   "metadata": {},
   "outputs": [],
   "source": [
    "folder = \"/Users/chiaentsai/Box/MURI-SARA/Thermoreflectance/Joanne/12102022\"\n"
   ]
  },
  {
   "cell_type": "code",
   "execution_count": 69,
   "id": "67a703e8",
   "metadata": {},
   "outputs": [],
   "source": [
    "all_files, fivemm_files, velocity_path_list, velocity_list, used_frame_num = get_needed_files(folder)\n",
    "back_intensity_list = get_background_average(fivemm_files)\n",
    "power_list = get_powers(all_files)"
   ]
  },
  {
   "cell_type": "markdown",
   "id": "e060e6ec",
   "metadata": {},
   "source": [
    "### 2. Si&gold melting power"
   ]
  },
  {
   "cell_type": "code",
   "execution_count": 70,
   "id": "5073102a",
   "metadata": {},
   "outputs": [],
   "source": [
    "Si_melting_W = {\n",
    "    '103': 48.8,\n",
    "    #'13': 41.5,\n",
    "    '155': 50.8,\n",
    "    '190': 52.5, \n",
    "    #'20': 42.6,\n",
    "    '234': 54.3,\n",
    "    '30': 42.9,\n",
    "    '352': 58.5,\n",
    "    '45': 44.2,\n",
    "    #'68': 46.9,\n",
    "    '9': 40.9\n",
    "}"
   ]
  },
  {
   "cell_type": "code",
   "execution_count": 71,
   "id": "97c71c42",
   "metadata": {},
   "outputs": [],
   "source": [
    "gold_melting_W = {\n",
    "    '103': 45.8,\n",
    "    #'13': 37.2,\n",
    "    '155': 47.7,\n",
    "    '190': 49.7, \n",
    "    #'20': 38.4,\n",
    "    '234': 50.4,\n",
    "    '30': 39.1,\n",
    "    '352': 54.4,\n",
    "    '45': 40.7,\n",
    "    #'68': 43,\n",
    "    '9': 35.3\n",
    "}"
   ]
  },
  {
   "cell_type": "markdown",
   "id": "36bb23cb",
   "metadata": {},
   "source": [
    "# get dR/R"
   ]
  },
  {
   "cell_type": "code",
   "execution_count": 72,
   "id": "ed7ef746",
   "metadata": {
    "scrolled": true
   },
   "outputs": [
    {
     "name": "stderr",
     "output_type": "stream",
     "text": [
      "/Users/chiaentsai/.virtualenvs/venv/lib/python3.9/site-packages/scipy/optimize/_minpack_py.py:833: OptimizeWarning: Covariance of the parameters could not be estimated\n",
      "  warnings.warn('Covariance of the parameters could not be estimated',\n"
     ]
    }
   ],
   "source": [
    "v_list = ['103', '155','190', '234', '30', '352', '45', '9']\n",
    "Dict_1 = dict((k, fivemm_files[k][10:]) for k in Si_list)\n",
    "back_intensity_list_1 = []\n",
    "for key in fivemm_files:\n",
    "    if key in v_list:\n",
    "        index = list(fivemm_files).index(key)\n",
    "        back_intensity_list_1.append(back_intensity_list[index])\n",
    "dRoverR_1 = []\n",
    "for i, v in enumerate(list(Dict_1.keys())):\n",
    "    con = []\n",
    "    for file in Dict_1[v]:\n",
    "        val = get_peak_dRoverR(file, back_intensity_list_1[i], two_lorentz, two_lorentz)\n",
    "        con.append(val)\n",
    "    dRoverR_1.append(con)"
   ]
  },
  {
   "cell_type": "markdown",
   "id": "30ccdddc",
   "metadata": {},
   "source": [
    "# power used (change start power if needed)"
   ]
  },
  {
   "cell_type": "code",
   "execution_count": 87,
   "id": "bd6d00a6",
   "metadata": {},
   "outputs": [],
   "source": [
    "power_used = {'103':[31+2*p for p in range(0,len(dRoverR_1[v_list.index('103')]),1)], \n",
    "        #'13':[25+2*p for p in range(0,len(dRoverR_1[v_list.index('13')]),1)], \n",
    "        '155':[33+2*p for p in range(0,len(dRoverR_1[v_list.index('155')]),1)],\n",
    "        '190':[35+2*p for p in range(0,len(dRoverR_1[v_list.index('190')]),1)], \n",
    "        #'20':[27+2*p for p in range(0,len(dRoverR_1[v_list.index('20')]),1)], \n",
    "        '234':[37+2*p for p in range(0,len(dRoverR_1[v_list.index('234')]),1)], \n",
    "        '30':[29+2*p for p in range(0,len(dRoverR_1[v_list.index('30')]),1)], \n",
    "        '352':[39+2*p for p in range(0,len(dRoverR_1[v_list.index('352')]),1)], \n",
    "        '45':[29+2*p for p in range(0,len(dRoverR_1[v_list.index('45')]),1)], \n",
    "        #'68':[29+2*p for p in range(0,len(dRoverR_1[v_list.index('68')]),1)], \n",
    "        '9':[21+2*p for p in range(0,len(dRoverR_1[v_list.index('9')]),1)]}"
   ]
  },
  {
   "cell_type": "markdown",
   "id": "d99232c5",
   "metadata": {},
   "source": [
    "# plot dR/R"
   ]
  },
  {
   "cell_type": "code",
   "execution_count": 88,
   "id": "28f82d7c",
   "metadata": {},
   "outputs": [],
   "source": [
    "for i, v in enumerate(list(Si_melting_W.keys())):\n",
    "    plt.plot(power_used[v], dRoverR_1[i], '.')\n",
    "    plt.xlabel(\"power\")\n",
    "    plt.ylabel(\"dR/R\")\n",
    "    plt.savefig(\"/Users/chiaentsai/Desktop/lab/Temperature_Calibration/Si_dRoverR_figure_12102022/{}mm.png\".format(v), format=\"PNG\")\n",
    "    plt.close()"
   ]
  },
  {
   "cell_type": "markdown",
   "id": "aeeb2aa4",
   "metadata": {},
   "source": [
    "# get kappa (use glod and Si melting power)"
   ]
  },
  {
   "cell_type": "code",
   "execution_count": 91,
   "id": "ae78f35e",
   "metadata": {},
   "outputs": [],
   "source": [
    "# gold and Si melt\n",
    "import scipy.optimize\n",
    "kappa_avg = []\n",
    "for i, v in enumerate(list(Si_melting_W.keys())):\n",
    "    popt, pcov = curve_fit(expo, power_used[v], dRoverR_1[i], p0 = [1, 0.000000047, 1], maxfev = 10000)\n",
    "    #a, b, c = popt\n",
    "    plt.plot(power_used[v], dRoverR_1[i], '.')\n",
    "    y_pred = [expo(j, *popt) for j in power_used[v]]\n",
    "    plt.plot(power_used[v], y_pred)\n",
    "    plt.xlabel(\"power\")\n",
    "    plt.ylabel(\"dR/R\")\n",
    "    plt.savefig(\"/Users/chiaentsai/Desktop/lab/Temperature_Calibration/Si&gold_dRoverR_fit_figure_12102022/{}mm.png\".format(v), format=\"PNG\")\n",
    "    plt.close()\n",
    "    \n",
    "    \n",
    "    fun = lambda k: (expo(Si_melting_W[v], *popt) - (1410-21)*k)**2 + (expo(gold_melting_W[v], *popt) - (1064-21)*k)**2\n",
    "    res = scipy.optimize.minimize(fun, 0.00016)\n",
    "    temp_pred = [expo(j, *popt)/res.x for j in power_used[v]]\n",
    "    plt.plot(power_used[v], temp_pred)\n",
    "    \n",
    "    plt.plot(Si_melting_W[v], 1410, marker=\"o\",color = 'r', label='Si')\n",
    "    plt.plot(gold_melting_W[v], 1064, marker=\"o\", color = 'g', label='gold')\n",
    "    plt.legend(loc=\"upper left\")\n",
    "    plt.xlabel(\"power\")\n",
    "    plt.ylabel(\"temperature\")\n",
    "    plt.savefig(\"/Users/chiaentsai/Desktop/lab/Temperature_Calibration/gold_Si_fit_12102022/{}mm.png\".format(v), format=\"PNG\")\n",
    "    plt.close()\n",
    "    \n",
    "#     f = expo(Si_melting_W[v], *popt)\n",
    "#     gold_m = 1410\n",
    "#     dT = gold_m - 21\n",
    "#     kappa = f / dT\n",
    "    kappa_avg.append(float(res.x))\n",
    "    \n",
    "Dict_kappa_avg = dict(zip(list(Si_melting_W.keys()),kappa_avg))\n",
    "\n",
    "plt.plot(list(Si_melting_W.keys()), kappa_avg, '.')\n",
    "plt.savefig(\"/Users/chiaentsai/Desktop/lab/Temperature_Calibration/kappa_gold&Si_12102022.png\", format=\"PNG\")"
   ]
  },
  {
   "cell_type": "code",
   "execution_count": 103,
   "id": "f39f88fa",
   "metadata": {},
   "outputs": [
    {
     "data": {
      "text/plain": [
       "0.00016839278368801572"
      ]
     },
     "execution_count": 103,
     "metadata": {},
     "output_type": "execute_result"
    }
   ],
   "source": [
    "con = 0\n",
    "for i, v in enumerate(Dict_kappa_avg.keys()):\n",
    "    con = con + Dict_kappa_avg[v]\n",
    "kappa_avg = con / len(Dict_kappa_avg)\n",
    "kappa_avg"
   ]
  },
  {
   "cell_type": "markdown",
   "id": "2eb15436",
   "metadata": {},
   "source": [
    "# get peak temperature (with average kappa)"
   ]
  },
  {
   "cell_type": "code",
   "execution_count": 92,
   "id": "cc01eb69",
   "metadata": {},
   "outputs": [],
   "source": [
    "peak_temp = []\n",
    "for i, v in enumerate(list(Si_melting_W.keys())):\n",
    "    tem = []\n",
    "    for r in dRoverR_1[i]:\n",
    "        t = get_peak_Temp(r, Dict_kappa_avg[v])\n",
    "#         t = get_peak_Temp(r,avg_kappa)\n",
    "#         t = get_peak_Temp(r,0.00016498400434141028)\n",
    "#         t = get_peak_Temp(r, Dict_kappa_gold_avg[v])\n",
    "#         t = get_peak_Temp(r, avg_kappa_2)\n",
    "#         t = get_peak_Temp(r, Dict_kappa_avg[v])\n",
    "        tem.append(t)\n",
    "    peak_temp.append(tem)\n",
    "    \n",
    "Dict_peak_temp = dict(zip(list(Si_melting_W.keys()),peak_temp))"
   ]
  },
  {
   "cell_type": "markdown",
   "id": "3b1d9bf8",
   "metadata": {},
   "source": [
    "# fit plane"
   ]
  },
  {
   "cell_type": "code",
   "execution_count": 93,
   "id": "6b0c6d7d",
   "metadata": {
    "scrolled": false
   },
   "outputs": [
    {
     "name": "stdout",
     "output_type": "stream",
     "text": [
      "Using matplotlib backend: MacOSX\n",
      "[ 1.07905058e+03 -1.97373310e+02 -1.73891144e+03  1.82157825e+02\n",
      "  4.96514235e+03  1.11250471e+00  2.24302306e-02  8.85130018e+00]\n",
      "1070.5487061171104\n"
     ]
    },
    {
     "name": "stderr",
     "output_type": "stream",
     "text": [
      "/var/folders/f7/kn96xdj93ss0t67sn2q10n6c0000gn/T/ipykernel_25539/507234216.py:25: MatplotlibDeprecationWarning: Axes3D(fig) adding itself to the figure is deprecated since 3.4. Pass the keyword argument auto_add_to_figure=False and use fig.add_axes(ax) to suppress this warning. The default value of auto_add_to_figure will change to False in mpl3.5 and True values will no longer work in 3.6.  This is consistent with other Axes classes.\n",
      "  axes = Axes3D(f)\n"
     ]
    }
   ],
   "source": [
    "import numpy, scipy, scipy.optimize\n",
    "import matplotlib\n",
    "from mpl_toolkits.mplot3d import  Axes3D\n",
    "from matplotlib import cm # to colormap 3D surfaces from blue to red\n",
    "import matplotlib.pyplot as plt\n",
    "%matplotlib\n",
    "\n",
    "# def function(data, b, c, d, e, f):\n",
    "#     x = np.array(data[0])\n",
    "#     y = np.array(data[1])\n",
    "#     return (b*y+c)*(x)**(d*y**2+e*y+f)\n",
    "\n",
    "def function(data, a, b, c, d, e, f, g, h):\n",
    "    x = np.array(data[0])\n",
    "    y = np.array(data[1])\n",
    "    return (a+b*y+h*y**2)*x**(f+g*y) + (c+d*y)*x + e\n",
    "\n",
    "# def function(data, a, b, c, d, e, f, g, h, i, j):\n",
    "#     x = np.array(data[0])\n",
    "#     y = np.array(data[1])\n",
    "#     return (a+b*y+h*y**2)*x**(f+g*y) + (c+d*y)*x + e +i*x**2 + j*y**2\n",
    "\n",
    "f = plt.figure(figsize=(20.0, 20.0), dpi=20)\n",
    "matplotlib.pyplot.grid(True)\n",
    "axes = Axes3D(f)\n",
    "\n",
    "points = []\n",
    "for i, v in enumerate(list(Si_melting_W.keys())):\n",
    "    P = [int(p) for p in power_used[v]]\n",
    "    V = [np.log(int(v))] * len(Dict_peak_temp[v])\n",
    "    T = Dict_peak_temp[v]\n",
    "    point = [list(x) for x in zip(*[P,V,T])]\n",
    "    points.append(point)\n",
    "\n",
    "x_data = []\n",
    "y_data = []\n",
    "z_data = []\n",
    "for velo in points:\n",
    "    for item in velo:\n",
    "        x_data.append(item[0]) # power\n",
    "        y_data.append(item[1]) # velocity\n",
    "        z_data.append(item[2]) # temperature\n",
    "        \n",
    "x_data, y_data, z_data = np.array(x_data), np.array(y_data), np.array(z_data)\n",
    "\n",
    "mask = z_data > 400\n",
    "x_data = x_data[mask]\n",
    "y_data = y_data[mask]\n",
    "z_data = z_data[mask]\n",
    "\n",
    "parameters, covariance = curve_fit(function, [x_data, y_data], z_data,  maxfev=1000000)\n",
    "print(parameters)\n",
    "model_x_data = np.linspace(min(x_data), max(x_data), 30)\n",
    "model_y_data = np.linspace(min(y_data), max(y_data), 30)\n",
    "X, Y = np.meshgrid(model_x_data, model_y_data)\n",
    "Z = function(np.array([X, Y]), *parameters)\n",
    "\n",
    "z_predicted = function([x_data, y_data], *parameters)\n",
    "differences = np.subtract(z_data, z_predicted)\n",
    "squared_differences = np.square(differences)\n",
    "mse = squared_differences.mean()\n",
    "\n",
    "\n",
    "axes.plot_surface(X, Y, Z, cmap=cm.hot, alpha=0.2)\n",
    "\n",
    "# for i, v in enumerate(list(Dict_kappa_Si_avg.keys())):\n",
    "#     v_data = [np.log(int(v))] * len(Dict_peak_temp[v])\n",
    "#     p_data = [int(p) for p in power_used[i]]\n",
    "#     t_data = Dict_peak_temp[v]\n",
    "#     axes.scatter(p_data, v_data, t_data, s = 250)\n",
    "axes.scatter(x_data, y_data, z_data, s=500)\n",
    "    \n",
    "\n",
    "axes.set_title('Scatter Plot')\n",
    "axes.set_xlabel('power - W', fontsize=30, labelpad=40)\n",
    "axes.set_ylabel('ln(velocity) - mm/s',fontsize=30, labelpad=40)\n",
    "axes.set_zlabel('peak temperature - C', fontsize=30, labelpad=40)\n",
    "axes.set_zlim(400, 1400)\n",
    "\n",
    "axes.tick_params(axis='both', which='major', labelsize=30)\n",
    "\n",
    "plt.show()\n",
    "print(mse)"
   ]
  },
  {
   "cell_type": "code",
   "execution_count": 94,
   "id": "8002d7cd",
   "metadata": {
    "scrolled": true
   },
   "outputs": [
    {
     "data": {
      "text/plain": [
       "array([ 1.07905058e+03, -1.97373310e+02, -1.73891144e+03,  1.82157825e+02,\n",
       "        4.96514235e+03,  1.11250471e+00,  2.24302306e-02,  8.85130018e+00])"
      ]
     },
     "execution_count": 94,
     "metadata": {},
     "output_type": "execute_result"
    }
   ],
   "source": [
    "parameters"
   ]
  },
  {
   "cell_type": "markdown",
   "id": "e0b652d2",
   "metadata": {},
   "source": [
    "# plot temperature vs power"
   ]
  },
  {
   "cell_type": "code",
   "execution_count": 95,
   "id": "bc3b54a1",
   "metadata": {},
   "outputs": [
    {
     "name": "stdout",
     "output_type": "stream",
     "text": [
      "Using matplotlib backend: MacOSX\n"
     ]
    },
    {
     "data": {
      "text/plain": [
       "<matplotlib.legend.Legend at 0x7f8209d28520>"
      ]
     },
     "execution_count": 95,
     "metadata": {},
     "output_type": "execute_result"
    }
   ],
   "source": [
    "import matplotlib.pyplot as plt\n",
    "%matplotlib\n",
    "\n",
    "for velocity in np.unique(y_data):\n",
    "    mask = y_data == velocity\n",
    "    plt.plot(x_data[mask], z_data[mask])\n",
    "\n",
    "plt.gca().legend(('103', '155','190', '234', '30', '352', '45', '9'))"
   ]
  },
  {
   "cell_type": "code",
   "execution_count": null,
   "id": "0385d680",
   "metadata": {},
   "outputs": [],
   "source": []
  },
  {
   "cell_type": "code",
   "execution_count": null,
   "id": "a16e5494",
   "metadata": {},
   "outputs": [],
   "source": []
  }
 ],
 "metadata": {
  "kernelspec": {
   "display_name": "Python 3 (ipykernel)",
   "language": "python",
   "name": "python3"
  },
  "language_info": {
   "codemirror_mode": {
    "name": "ipython",
    "version": 3
   },
   "file_extension": ".py",
   "mimetype": "text/x-python",
   "name": "python",
   "nbconvert_exporter": "python",
   "pygments_lexer": "ipython3",
   "version": "3.9.0"
  }
 },
 "nbformat": 4,
 "nbformat_minor": 5
}
