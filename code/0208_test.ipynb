{
 "cells": [
  {
   "cell_type": "code",
   "execution_count": 50,
   "id": "762a49dc",
   "metadata": {},
   "outputs": [],
   "source": [
    "%run \"curve_fit_.ipynb\"\n",
    "%run \"data_processing_.ipynb\" #HEADER_LEN,X_DIM,Y_DIM,X_left_boundry,X_right_boundry,Y_left_boundry,Y_right_boundry\n",
    "%run \"evaluation_functions_.ipynb\"\n",
    "%run \"fitting_functions_.ipynb\"\n",
    "%run \"get_temperature_.ipynb\"\n",
    "%run \"load_data_.ipynb\" # frame rate, shutter delay, and interseted position \n",
    "%run \"get_backbround_average_.ipynb\" \n",
    "%run \"frame_vs_temperature.ipynb\" # get_powers"
   ]
  },
  {
   "cell_type": "code",
   "execution_count": 51,
   "id": "36ab336b",
   "metadata": {},
   "outputs": [],
   "source": [
    "folder = \"/Users/chiaentsai/Box/MURI-SARA/Thermoreflectance/Joanne/CHESS/0208_2023_test\""
   ]
  },
  {
   "cell_type": "code",
   "execution_count": 52,
   "id": "b6d9a882",
   "metadata": {},
   "outputs": [
    {
     "name": "stdout",
     "output_type": "stream",
     "text": [
      "[11]\n"
     ]
    }
   ],
   "source": [
    "all_files, fivemm_files, velocity_path_list, velocity_list, used_frame_num = get_needed_files(folder)\n",
    "back_intensity_list = get_background_average(fivemm_files)\n",
    "power_list = get_powers(all_files)"
   ]
  },
  {
   "cell_type": "code",
   "execution_count": 53,
   "id": "a88d5c24",
   "metadata": {},
   "outputs": [],
   "source": [
    "Si_melting_W = {\n",
    "    #'103': 41.5,\n",
    "    #'13': 35.4,\n",
    "    #'155': 43.7,\n",
    "    #'190': 45.5, \n",
    "    #'20': 35.5,\n",
    "    #'234': 47,\n",
    "    '30': 36.3,\n",
    "    #'352': 52.2,\n",
    "    #'45': 37.1,\n",
    "    #'68': 39.2,\n",
    "    #'9': 35.3\n",
    "}"
   ]
  },
  {
   "cell_type": "code",
   "execution_count": 54,
   "id": "2b379aa3",
   "metadata": {},
   "outputs": [],
   "source": [
    "gold_melting_W = {\n",
    "    #'103': 37,\n",
    "    #'13': 30.2,\n",
    "    #'155': 38.9,\n",
    "    #'190': 40.3, \n",
    "    #'20': 30.8,\n",
    "    #'234': 41.9,\n",
    "    '30': 31.9,\n",
    "    #'352': 46.2,\n",
    "    #'45': 33.5,\n",
    "    #'68': 35.2,\n",
    "    #'9': 29.9\n",
    "}"
   ]
  },
  {
   "cell_type": "code",
   "execution_count": 55,
   "id": "529c5f29",
   "metadata": {},
   "outputs": [],
   "source": [
    "v_list = [ '30']\n",
    "Dict_1 = dict((k, fivemm_files[k][5:]) for k in v_list) # not included 0W files\n",
    "back_intensity_list_1 = []\n",
    "for key in fivemm_files:\n",
    "    if key in v_list:\n",
    "        index = list(fivemm_files).index(key)\n",
    "        back_intensity_list_1.append(back_intensity_list[index])\n",
    "dRoverR_1 = []\n",
    "for i, v in enumerate(list(Dict_1.keys())):\n",
    "    con = []\n",
    "    for file in Dict_1[v]:\n",
    "        val = get_peak_dRoverR(file, back_intensity_list_1[i], two_lorentz, two_lorentz)\n",
    "        con.append(val)\n",
    "    dRoverR_1.append(con)"
   ]
  },
  {
   "cell_type": "code",
   "execution_count": 56,
   "id": "e5d446d3",
   "metadata": {},
   "outputs": [],
   "source": [
    "power_used = {#'103':[27+2*p for p in range(0,len(dRoverR_1[v_list.index('103')]),1)], \n",
    "        #'13':[21+2*p for p in range(0,len(dRoverR_1[v_list.index('13')]),1)], \n",
    "        #'155':[27+2*p for p in range(0,len(dRoverR_1[v_list.index('155')]),1)],\n",
    "        #'190':[29+2*p for p in range(0,len(dRoverR_1[v_list.index('190')]),1)], \n",
    "        #'20':[23+2*p for p in range(0,len(dRoverR_1[v_list.index('20')]),1)], \n",
    "        #'234':[29+2*p for p in range(0,len(dRoverR_1[v_list.index('234')]),1)], \n",
    "        '30':[33+2*p for p in range(0,len(dRoverR_1[v_list.index('30')]),1)], \n",
    "        #'352':[31+2*p for p in range(0,len(dRoverR_1[v_list.index('352')]),1)], \n",
    "        #'45':[25+2*p for p in range(0,len(dRoverR_1[v_list.index('45')]),1)], \n",
    "        #'68':[25+2*p for p in range(0,len(dRoverR_1[v_list.index('68')]),1)], \n",
    "        #'9':[21+2*p for p in range(0,len(dRoverR_1[v_list.index('9')]),1)]}\n",
    "}"
   ]
  },
  {
   "cell_type": "code",
   "execution_count": 57,
   "id": "eb61c3d4",
   "metadata": {},
   "outputs": [
    {
     "name": "stderr",
     "output_type": "stream",
     "text": [
      "\r",
      "  0%|                                                                                        | 0/510 [00:00<?, ?it/s]"
     ]
    },
    {
     "name": "stdout",
     "output_type": "stream",
     "text": [
      "/Users/chiaentsai/Box/MURI-SARA/Thermoreflectance/Joanne/CHESS/0208_2023_test/30mm_per_sec/-22mm_33W_5_000.raw\n"
     ]
    },
    {
     "name": "stderr",
     "output_type": "stream",
     "text": [
      "\r",
      " 30%|██████████████████████▊                                                      | 151/510 [00:00<00:00, 389.45it/s]"
     ]
    },
    {
     "name": "stdout",
     "output_type": "stream",
     "text": [
      "/Users/chiaentsai/Box/MURI-SARA/Thermoreflectance/Joanne/CHESS/0208_2023_test/30mm_per_sec/-22mm_33W_5_001.raw\n",
      "/Users/chiaentsai/Box/MURI-SARA/Thermoreflectance/Joanne/CHESS/0208_2023_test/30mm_per_sec/-22mm_33W_5_002.raw\n",
      "/Users/chiaentsai/Box/MURI-SARA/Thermoreflectance/Joanne/CHESS/0208_2023_test/30mm_per_sec/-22mm_33W_5_003.raw\n",
      "/Users/chiaentsai/Box/MURI-SARA/Thermoreflectance/Joanne/CHESS/0208_2023_test/30mm_per_sec/-22mm_33W_5_004.raw\n",
      "/Users/chiaentsai/Box/MURI-SARA/Thermoreflectance/Joanne/CHESS/0208_2023_test/30mm_per_sec/-22mm_33W_5_005.raw\n",
      "/Users/chiaentsai/Box/MURI-SARA/Thermoreflectance/Joanne/CHESS/0208_2023_test/30mm_per_sec/-22mm_33W_5_006.raw\n",
      "/Users/chiaentsai/Box/MURI-SARA/Thermoreflectance/Joanne/CHESS/0208_2023_test/30mm_per_sec/-22mm_33W_5_007.raw\n",
      "/Users/chiaentsai/Box/MURI-SARA/Thermoreflectance/Joanne/CHESS/0208_2023_test/30mm_per_sec/-22mm_33W_5_008.raw\n",
      "/Users/chiaentsai/Box/MURI-SARA/Thermoreflectance/Joanne/CHESS/0208_2023_test/30mm_per_sec/-22mm_33W_5_009.raw\n",
      "/Users/chiaentsai/Box/MURI-SARA/Thermoreflectance/Joanne/CHESS/0208_2023_test/30mm_per_sec/-22mm_33W_5_010.raw\n",
      "/Users/chiaentsai/Box/MURI-SARA/Thermoreflectance/Joanne/CHESS/0208_2023_test/30mm_per_sec/-22mm_33W_5_011.raw\n",
      "/Users/chiaentsai/Box/MURI-SARA/Thermoreflectance/Joanne/CHESS/0208_2023_test/30mm_per_sec/-22mm_33W_5_012.raw\n",
      "/Users/chiaentsai/Box/MURI-SARA/Thermoreflectance/Joanne/CHESS/0208_2023_test/30mm_per_sec/-22mm_33W_5_013.raw\n",
      "/Users/chiaentsai/Box/MURI-SARA/Thermoreflectance/Joanne/CHESS/0208_2023_test/30mm_per_sec/-22mm_33W_5_014.raw\n",
      "/Users/chiaentsai/Box/MURI-SARA/Thermoreflectance/Joanne/CHESS/0208_2023_test/30mm_per_sec/-22mm_33W_5_015.raw\n",
      "/Users/chiaentsai/Box/MURI-SARA/Thermoreflectance/Joanne/CHESS/0208_2023_test/30mm_per_sec/-22mm_33W_5_016.raw\n",
      "/Users/chiaentsai/Box/MURI-SARA/Thermoreflectance/Joanne/CHESS/0208_2023_test/30mm_per_sec/-22mm_33W_5_017.raw\n",
      "/Users/chiaentsai/Box/MURI-SARA/Thermoreflectance/Joanne/CHESS/0208_2023_test/30mm_per_sec/-22mm_33W_5_018.raw\n",
      "/Users/chiaentsai/Box/MURI-SARA/Thermoreflectance/Joanne/CHESS/0208_2023_test/30mm_per_sec/-22mm_33W_5_019.raw\n",
      "/Users/chiaentsai/Box/MURI-SARA/Thermoreflectance/Joanne/CHESS/0208_2023_test/30mm_per_sec/-22mm_33W_5_020.raw\n",
      "/Users/chiaentsai/Box/MURI-SARA/Thermoreflectance/Joanne/CHESS/0208_2023_test/30mm_per_sec/-22mm_33W_5_021.raw\n",
      "/Users/chiaentsai/Box/MURI-SARA/Thermoreflectance/Joanne/CHESS/0208_2023_test/30mm_per_sec/-22mm_33W_5_022.raw\n",
      "/Users/chiaentsai/Box/MURI-SARA/Thermoreflectance/Joanne/CHESS/0208_2023_test/30mm_per_sec/-22mm_33W_5_023.raw\n",
      "/Users/chiaentsai/Box/MURI-SARA/Thermoreflectance/Joanne/CHESS/0208_2023_test/30mm_per_sec/-22mm_33W_5_024.raw\n",
      "/Users/chiaentsai/Box/MURI-SARA/Thermoreflectance/Joanne/CHESS/0208_2023_test/30mm_per_sec/-22mm_33W_5_025.raw\n"
     ]
    },
    {
     "name": "stderr",
     "output_type": "stream",
     "text": [
      " 35%|██████████████████████████▉                                                   | 176/510 [00:12<00:32, 10.43it/s]"
     ]
    },
    {
     "name": "stdout",
     "output_type": "stream",
     "text": [
      "/Users/chiaentsai/Box/MURI-SARA/Thermoreflectance/Joanne/CHESS/0208_2023_test/30mm_per_sec/-22mm_33W_5_026.raw\n"
     ]
    },
    {
     "name": "stderr",
     "output_type": "stream",
     "text": [
      "\r",
      " 35%|███████████████████████████                                                   | 177/510 [00:13<00:34,  9.71it/s]"
     ]
    },
    {
     "name": "stdout",
     "output_type": "stream",
     "text": [
      "/Users/chiaentsai/Box/MURI-SARA/Thermoreflectance/Joanne/CHESS/0208_2023_test/30mm_per_sec/-22mm_33W_5_027.raw\n",
      "/Users/chiaentsai/Box/MURI-SARA/Thermoreflectance/Joanne/CHESS/0208_2023_test/30mm_per_sec/-22mm_33W_5_028.raw\n",
      "/Users/chiaentsai/Box/MURI-SARA/Thermoreflectance/Joanne/CHESS/0208_2023_test/30mm_per_sec/-22mm_33W_5_029.raw\n"
     ]
    },
    {
     "name": "stderr",
     "output_type": "stream",
     "text": [
      "100%|██████████████████████████████████████████████████████████████████████████████| 510/510 [00:15<00:00, 33.04it/s]\n",
      "  0%|                                                                                        | 0/510 [00:00<?, ?it/s]"
     ]
    },
    {
     "name": "stdout",
     "output_type": "stream",
     "text": [
      "/Users/chiaentsai/Box/MURI-SARA/Thermoreflectance/Joanne/CHESS/0208_2023_test/30mm_per_sec/-22mm_35W_5_000.raw\n"
     ]
    },
    {
     "name": "stderr",
     "output_type": "stream",
     "text": [
      "\r",
      " 35%|███████████████████████████▎                                                 | 181/510 [00:00<00:00, 500.19it/s]"
     ]
    },
    {
     "name": "stdout",
     "output_type": "stream",
     "text": [
      "/Users/chiaentsai/Box/MURI-SARA/Thermoreflectance/Joanne/CHESS/0208_2023_test/30mm_per_sec/-22mm_35W_5_001.raw\n",
      "/Users/chiaentsai/Box/MURI-SARA/Thermoreflectance/Joanne/CHESS/0208_2023_test/30mm_per_sec/-22mm_35W_5_002.raw\n",
      "/Users/chiaentsai/Box/MURI-SARA/Thermoreflectance/Joanne/CHESS/0208_2023_test/30mm_per_sec/-22mm_35W_5_003.raw\n",
      "/Users/chiaentsai/Box/MURI-SARA/Thermoreflectance/Joanne/CHESS/0208_2023_test/30mm_per_sec/-22mm_35W_5_004.raw\n",
      "/Users/chiaentsai/Box/MURI-SARA/Thermoreflectance/Joanne/CHESS/0208_2023_test/30mm_per_sec/-22mm_35W_5_005.raw\n",
      "/Users/chiaentsai/Box/MURI-SARA/Thermoreflectance/Joanne/CHESS/0208_2023_test/30mm_per_sec/-22mm_35W_5_006.raw\n",
      "/Users/chiaentsai/Box/MURI-SARA/Thermoreflectance/Joanne/CHESS/0208_2023_test/30mm_per_sec/-22mm_35W_5_007.raw\n",
      "/Users/chiaentsai/Box/MURI-SARA/Thermoreflectance/Joanne/CHESS/0208_2023_test/30mm_per_sec/-22mm_35W_5_008.raw\n",
      "/Users/chiaentsai/Box/MURI-SARA/Thermoreflectance/Joanne/CHESS/0208_2023_test/30mm_per_sec/-22mm_35W_5_009.raw\n",
      "/Users/chiaentsai/Box/MURI-SARA/Thermoreflectance/Joanne/CHESS/0208_2023_test/30mm_per_sec/-22mm_35W_5_010.raw\n",
      "/Users/chiaentsai/Box/MURI-SARA/Thermoreflectance/Joanne/CHESS/0208_2023_test/30mm_per_sec/-22mm_35W_5_011.raw\n",
      "/Users/chiaentsai/Box/MURI-SARA/Thermoreflectance/Joanne/CHESS/0208_2023_test/30mm_per_sec/-22mm_35W_5_012.raw\n",
      "/Users/chiaentsai/Box/MURI-SARA/Thermoreflectance/Joanne/CHESS/0208_2023_test/30mm_per_sec/-22mm_35W_5_013.raw\n",
      "/Users/chiaentsai/Box/MURI-SARA/Thermoreflectance/Joanne/CHESS/0208_2023_test/30mm_per_sec/-22mm_35W_5_014.raw\n",
      "/Users/chiaentsai/Box/MURI-SARA/Thermoreflectance/Joanne/CHESS/0208_2023_test/30mm_per_sec/-22mm_35W_5_015.raw\n",
      "/Users/chiaentsai/Box/MURI-SARA/Thermoreflectance/Joanne/CHESS/0208_2023_test/30mm_per_sec/-22mm_35W_5_016.raw\n",
      "/Users/chiaentsai/Box/MURI-SARA/Thermoreflectance/Joanne/CHESS/0208_2023_test/30mm_per_sec/-22mm_35W_5_017.raw\n",
      "/Users/chiaentsai/Box/MURI-SARA/Thermoreflectance/Joanne/CHESS/0208_2023_test/30mm_per_sec/-22mm_35W_5_018.raw\n",
      "/Users/chiaentsai/Box/MURI-SARA/Thermoreflectance/Joanne/CHESS/0208_2023_test/30mm_per_sec/-22mm_35W_5_019.raw\n",
      "/Users/chiaentsai/Box/MURI-SARA/Thermoreflectance/Joanne/CHESS/0208_2023_test/30mm_per_sec/-22mm_35W_5_020.raw\n",
      "/Users/chiaentsai/Box/MURI-SARA/Thermoreflectance/Joanne/CHESS/0208_2023_test/30mm_per_sec/-22mm_35W_5_021.raw\n",
      "/Users/chiaentsai/Box/MURI-SARA/Thermoreflectance/Joanne/CHESS/0208_2023_test/30mm_per_sec/-22mm_35W_5_022.raw\n",
      "/Users/chiaentsai/Box/MURI-SARA/Thermoreflectance/Joanne/CHESS/0208_2023_test/30mm_per_sec/-22mm_35W_5_023.raw\n",
      "/Users/chiaentsai/Box/MURI-SARA/Thermoreflectance/Joanne/CHESS/0208_2023_test/30mm_per_sec/-22mm_35W_5_024.raw\n",
      "/Users/chiaentsai/Box/MURI-SARA/Thermoreflectance/Joanne/CHESS/0208_2023_test/30mm_per_sec/-22mm_35W_5_025.raw\n",
      "/Users/chiaentsai/Box/MURI-SARA/Thermoreflectance/Joanne/CHESS/0208_2023_test/30mm_per_sec/-22mm_35W_5_026.raw\n",
      "/Users/chiaentsai/Box/MURI-SARA/Thermoreflectance/Joanne/CHESS/0208_2023_test/30mm_per_sec/-22mm_35W_5_027.raw\n",
      "/Users/chiaentsai/Box/MURI-SARA/Thermoreflectance/Joanne/CHESS/0208_2023_test/30mm_per_sec/-22mm_35W_5_028.raw\n",
      "/Users/chiaentsai/Box/MURI-SARA/Thermoreflectance/Joanne/CHESS/0208_2023_test/30mm_per_sec/-22mm_35W_5_029.raw\n"
     ]
    },
    {
     "name": "stderr",
     "output_type": "stream",
     "text": [
      "100%|██████████████████████████████████████████████████████████████████████████████| 510/510 [00:14<00:00, 34.76it/s]\n",
      "  0%|                                                                                        | 0/510 [00:00<?, ?it/s]"
     ]
    },
    {
     "name": "stdout",
     "output_type": "stream",
     "text": [
      "/Users/chiaentsai/Box/MURI-SARA/Thermoreflectance/Joanne/CHESS/0208_2023_test/30mm_per_sec/-22mm_37W_5_000.raw\n"
     ]
    },
    {
     "name": "stderr",
     "output_type": "stream",
     "text": [
      "\r",
      " 41%|███████████████████████████████▊                                             | 211/510 [00:00<00:00, 466.68it/s]"
     ]
    },
    {
     "name": "stdout",
     "output_type": "stream",
     "text": [
      "/Users/chiaentsai/Box/MURI-SARA/Thermoreflectance/Joanne/CHESS/0208_2023_test/30mm_per_sec/-22mm_37W_5_001.raw\n",
      "/Users/chiaentsai/Box/MURI-SARA/Thermoreflectance/Joanne/CHESS/0208_2023_test/30mm_per_sec/-22mm_37W_5_002.raw\n",
      "/Users/chiaentsai/Box/MURI-SARA/Thermoreflectance/Joanne/CHESS/0208_2023_test/30mm_per_sec/-22mm_37W_5_003.raw\n",
      "/Users/chiaentsai/Box/MURI-SARA/Thermoreflectance/Joanne/CHESS/0208_2023_test/30mm_per_sec/-22mm_37W_5_004.raw\n",
      "/Users/chiaentsai/Box/MURI-SARA/Thermoreflectance/Joanne/CHESS/0208_2023_test/30mm_per_sec/-22mm_37W_5_005.raw\n",
      "/Users/chiaentsai/Box/MURI-SARA/Thermoreflectance/Joanne/CHESS/0208_2023_test/30mm_per_sec/-22mm_37W_5_006.raw\n",
      "/Users/chiaentsai/Box/MURI-SARA/Thermoreflectance/Joanne/CHESS/0208_2023_test/30mm_per_sec/-22mm_37W_5_007.raw\n",
      "/Users/chiaentsai/Box/MURI-SARA/Thermoreflectance/Joanne/CHESS/0208_2023_test/30mm_per_sec/-22mm_37W_5_008.raw\n",
      "/Users/chiaentsai/Box/MURI-SARA/Thermoreflectance/Joanne/CHESS/0208_2023_test/30mm_per_sec/-22mm_37W_5_009.raw\n",
      "/Users/chiaentsai/Box/MURI-SARA/Thermoreflectance/Joanne/CHESS/0208_2023_test/30mm_per_sec/-22mm_37W_5_010.raw\n",
      "/Users/chiaentsai/Box/MURI-SARA/Thermoreflectance/Joanne/CHESS/0208_2023_test/30mm_per_sec/-22mm_37W_5_011.raw\n",
      "/Users/chiaentsai/Box/MURI-SARA/Thermoreflectance/Joanne/CHESS/0208_2023_test/30mm_per_sec/-22mm_37W_5_012.raw\n",
      "/Users/chiaentsai/Box/MURI-SARA/Thermoreflectance/Joanne/CHESS/0208_2023_test/30mm_per_sec/-22mm_37W_5_013.raw\n",
      "/Users/chiaentsai/Box/MURI-SARA/Thermoreflectance/Joanne/CHESS/0208_2023_test/30mm_per_sec/-22mm_37W_5_014.raw\n",
      "/Users/chiaentsai/Box/MURI-SARA/Thermoreflectance/Joanne/CHESS/0208_2023_test/30mm_per_sec/-22mm_37W_5_015.raw\n",
      "/Users/chiaentsai/Box/MURI-SARA/Thermoreflectance/Joanne/CHESS/0208_2023_test/30mm_per_sec/-22mm_37W_5_016.raw\n",
      "/Users/chiaentsai/Box/MURI-SARA/Thermoreflectance/Joanne/CHESS/0208_2023_test/30mm_per_sec/-22mm_37W_5_017.raw\n",
      "/Users/chiaentsai/Box/MURI-SARA/Thermoreflectance/Joanne/CHESS/0208_2023_test/30mm_per_sec/-22mm_37W_5_018.raw\n",
      "/Users/chiaentsai/Box/MURI-SARA/Thermoreflectance/Joanne/CHESS/0208_2023_test/30mm_per_sec/-22mm_37W_5_019.raw\n",
      "/Users/chiaentsai/Box/MURI-SARA/Thermoreflectance/Joanne/CHESS/0208_2023_test/30mm_per_sec/-22mm_37W_5_020.raw\n",
      "/Users/chiaentsai/Box/MURI-SARA/Thermoreflectance/Joanne/CHESS/0208_2023_test/30mm_per_sec/-22mm_37W_5_021.raw\n",
      "/Users/chiaentsai/Box/MURI-SARA/Thermoreflectance/Joanne/CHESS/0208_2023_test/30mm_per_sec/-22mm_37W_5_022.raw\n",
      "/Users/chiaentsai/Box/MURI-SARA/Thermoreflectance/Joanne/CHESS/0208_2023_test/30mm_per_sec/-22mm_37W_5_023.raw\n",
      "/Users/chiaentsai/Box/MURI-SARA/Thermoreflectance/Joanne/CHESS/0208_2023_test/30mm_per_sec/-22mm_37W_5_024.raw\n",
      "/Users/chiaentsai/Box/MURI-SARA/Thermoreflectance/Joanne/CHESS/0208_2023_test/30mm_per_sec/-22mm_37W_5_025.raw\n",
      "/Users/chiaentsai/Box/MURI-SARA/Thermoreflectance/Joanne/CHESS/0208_2023_test/30mm_per_sec/-22mm_37W_5_026.raw\n",
      "/Users/chiaentsai/Box/MURI-SARA/Thermoreflectance/Joanne/CHESS/0208_2023_test/30mm_per_sec/-22mm_37W_5_027.raw\n",
      "/Users/chiaentsai/Box/MURI-SARA/Thermoreflectance/Joanne/CHESS/0208_2023_test/30mm_per_sec/-22mm_37W_5_028.raw\n"
     ]
    },
    {
     "name": "stderr",
     "output_type": "stream",
     "text": [
      " 47%|████████████████████████████████████▌                                         | 239/510 [00:12<00:19, 13.93it/s]"
     ]
    },
    {
     "name": "stdout",
     "output_type": "stream",
     "text": [
      "/Users/chiaentsai/Box/MURI-SARA/Thermoreflectance/Joanne/CHESS/0208_2023_test/30mm_per_sec/-22mm_37W_5_029.raw\n"
     ]
    },
    {
     "name": "stderr",
     "output_type": "stream",
     "text": [
      "100%|██████████████████████████████████████████████████████████████████████████████| 510/510 [00:13<00:00, 38.17it/s]\n",
      "  0%|                                                                                        | 0/510 [00:00<?, ?it/s]"
     ]
    },
    {
     "name": "stdout",
     "output_type": "stream",
     "text": [
      "/Users/chiaentsai/Box/MURI-SARA/Thermoreflectance/Joanne/CHESS/0208_2023_test/30mm_per_sec/-22mm_39W_5_000.raw\n"
     ]
    },
    {
     "name": "stderr",
     "output_type": "stream",
     "text": [
      "\r",
      " 47%|████████████████████████████████████▍                                        | 241/510 [00:00<00:00, 901.27it/s]"
     ]
    },
    {
     "name": "stdout",
     "output_type": "stream",
     "text": [
      "/Users/chiaentsai/Box/MURI-SARA/Thermoreflectance/Joanne/CHESS/0208_2023_test/30mm_per_sec/-22mm_39W_5_001.raw\n",
      "/Users/chiaentsai/Box/MURI-SARA/Thermoreflectance/Joanne/CHESS/0208_2023_test/30mm_per_sec/-22mm_39W_5_002.raw\n",
      "/Users/chiaentsai/Box/MURI-SARA/Thermoreflectance/Joanne/CHESS/0208_2023_test/30mm_per_sec/-22mm_39W_5_003.raw\n",
      "/Users/chiaentsai/Box/MURI-SARA/Thermoreflectance/Joanne/CHESS/0208_2023_test/30mm_per_sec/-22mm_39W_5_004.raw\n",
      "/Users/chiaentsai/Box/MURI-SARA/Thermoreflectance/Joanne/CHESS/0208_2023_test/30mm_per_sec/-22mm_39W_5_005.raw\n",
      "/Users/chiaentsai/Box/MURI-SARA/Thermoreflectance/Joanne/CHESS/0208_2023_test/30mm_per_sec/-22mm_39W_5_006.raw\n",
      "/Users/chiaentsai/Box/MURI-SARA/Thermoreflectance/Joanne/CHESS/0208_2023_test/30mm_per_sec/-22mm_39W_5_007.raw\n",
      "/Users/chiaentsai/Box/MURI-SARA/Thermoreflectance/Joanne/CHESS/0208_2023_test/30mm_per_sec/-22mm_39W_5_008.raw\n",
      "/Users/chiaentsai/Box/MURI-SARA/Thermoreflectance/Joanne/CHESS/0208_2023_test/30mm_per_sec/-22mm_39W_5_009.raw\n",
      "/Users/chiaentsai/Box/MURI-SARA/Thermoreflectance/Joanne/CHESS/0208_2023_test/30mm_per_sec/-22mm_39W_5_010.raw\n",
      "/Users/chiaentsai/Box/MURI-SARA/Thermoreflectance/Joanne/CHESS/0208_2023_test/30mm_per_sec/-22mm_39W_5_011.raw\n",
      "/Users/chiaentsai/Box/MURI-SARA/Thermoreflectance/Joanne/CHESS/0208_2023_test/30mm_per_sec/-22mm_39W_5_012.raw\n",
      "/Users/chiaentsai/Box/MURI-SARA/Thermoreflectance/Joanne/CHESS/0208_2023_test/30mm_per_sec/-22mm_39W_5_013.raw\n",
      "/Users/chiaentsai/Box/MURI-SARA/Thermoreflectance/Joanne/CHESS/0208_2023_test/30mm_per_sec/-22mm_39W_5_014.raw\n",
      "/Users/chiaentsai/Box/MURI-SARA/Thermoreflectance/Joanne/CHESS/0208_2023_test/30mm_per_sec/-22mm_39W_5_015.raw\n",
      "/Users/chiaentsai/Box/MURI-SARA/Thermoreflectance/Joanne/CHESS/0208_2023_test/30mm_per_sec/-22mm_39W_5_016.raw\n",
      "/Users/chiaentsai/Box/MURI-SARA/Thermoreflectance/Joanne/CHESS/0208_2023_test/30mm_per_sec/-22mm_39W_5_017.raw\n",
      "/Users/chiaentsai/Box/MURI-SARA/Thermoreflectance/Joanne/CHESS/0208_2023_test/30mm_per_sec/-22mm_39W_5_018.raw\n",
      "/Users/chiaentsai/Box/MURI-SARA/Thermoreflectance/Joanne/CHESS/0208_2023_test/30mm_per_sec/-22mm_39W_5_019.raw\n",
      "/Users/chiaentsai/Box/MURI-SARA/Thermoreflectance/Joanne/CHESS/0208_2023_test/30mm_per_sec/-22mm_39W_5_020.raw\n",
      "/Users/chiaentsai/Box/MURI-SARA/Thermoreflectance/Joanne/CHESS/0208_2023_test/30mm_per_sec/-22mm_39W_5_021.raw\n",
      "/Users/chiaentsai/Box/MURI-SARA/Thermoreflectance/Joanne/CHESS/0208_2023_test/30mm_per_sec/-22mm_39W_5_022.raw\n",
      "/Users/chiaentsai/Box/MURI-SARA/Thermoreflectance/Joanne/CHESS/0208_2023_test/30mm_per_sec/-22mm_39W_5_023.raw\n",
      "/Users/chiaentsai/Box/MURI-SARA/Thermoreflectance/Joanne/CHESS/0208_2023_test/30mm_per_sec/-22mm_39W_5_024.raw\n",
      "/Users/chiaentsai/Box/MURI-SARA/Thermoreflectance/Joanne/CHESS/0208_2023_test/30mm_per_sec/-22mm_39W_5_025.raw\n",
      "/Users/chiaentsai/Box/MURI-SARA/Thermoreflectance/Joanne/CHESS/0208_2023_test/30mm_per_sec/-22mm_39W_5_026.raw\n",
      "/Users/chiaentsai/Box/MURI-SARA/Thermoreflectance/Joanne/CHESS/0208_2023_test/30mm_per_sec/-22mm_39W_5_027.raw\n",
      "/Users/chiaentsai/Box/MURI-SARA/Thermoreflectance/Joanne/CHESS/0208_2023_test/30mm_per_sec/-22mm_39W_5_028.raw\n",
      "/Users/chiaentsai/Box/MURI-SARA/Thermoreflectance/Joanne/CHESS/0208_2023_test/30mm_per_sec/-22mm_39W_5_029.raw\n"
     ]
    },
    {
     "name": "stderr",
     "output_type": "stream",
     "text": [
      "100%|██████████████████████████████████████████████████████████████████████████████| 510/510 [00:14<00:00, 35.84it/s]\n",
      " 53%|████████████████████████████████████████▍                                   | 271/510 [00:00<00:00, 1613.53it/s]"
     ]
    },
    {
     "name": "stdout",
     "output_type": "stream",
     "text": [
      "/Users/chiaentsai/Box/MURI-SARA/Thermoreflectance/Joanne/CHESS/0208_2023_test/30mm_per_sec/-22mm_41W_5_000.raw\n",
      "/Users/chiaentsai/Box/MURI-SARA/Thermoreflectance/Joanne/CHESS/0208_2023_test/30mm_per_sec/-22mm_41W_5_001.raw\n",
      "/Users/chiaentsai/Box/MURI-SARA/Thermoreflectance/Joanne/CHESS/0208_2023_test/30mm_per_sec/-22mm_41W_5_002.raw\n",
      "/Users/chiaentsai/Box/MURI-SARA/Thermoreflectance/Joanne/CHESS/0208_2023_test/30mm_per_sec/-22mm_41W_5_003.raw\n",
      "/Users/chiaentsai/Box/MURI-SARA/Thermoreflectance/Joanne/CHESS/0208_2023_test/30mm_per_sec/-22mm_41W_5_004.raw\n",
      "/Users/chiaentsai/Box/MURI-SARA/Thermoreflectance/Joanne/CHESS/0208_2023_test/30mm_per_sec/-22mm_41W_5_005.raw\n",
      "/Users/chiaentsai/Box/MURI-SARA/Thermoreflectance/Joanne/CHESS/0208_2023_test/30mm_per_sec/-22mm_41W_5_006.raw\n",
      "/Users/chiaentsai/Box/MURI-SARA/Thermoreflectance/Joanne/CHESS/0208_2023_test/30mm_per_sec/-22mm_41W_5_007.raw\n",
      "/Users/chiaentsai/Box/MURI-SARA/Thermoreflectance/Joanne/CHESS/0208_2023_test/30mm_per_sec/-22mm_41W_5_008.raw\n",
      "/Users/chiaentsai/Box/MURI-SARA/Thermoreflectance/Joanne/CHESS/0208_2023_test/30mm_per_sec/-22mm_41W_5_009.raw\n",
      "/Users/chiaentsai/Box/MURI-SARA/Thermoreflectance/Joanne/CHESS/0208_2023_test/30mm_per_sec/-22mm_41W_5_010.raw\n",
      "/Users/chiaentsai/Box/MURI-SARA/Thermoreflectance/Joanne/CHESS/0208_2023_test/30mm_per_sec/-22mm_41W_5_011.raw\n",
      "/Users/chiaentsai/Box/MURI-SARA/Thermoreflectance/Joanne/CHESS/0208_2023_test/30mm_per_sec/-22mm_41W_5_012.raw\n",
      "/Users/chiaentsai/Box/MURI-SARA/Thermoreflectance/Joanne/CHESS/0208_2023_test/30mm_per_sec/-22mm_41W_5_013.raw\n",
      "/Users/chiaentsai/Box/MURI-SARA/Thermoreflectance/Joanne/CHESS/0208_2023_test/30mm_per_sec/-22mm_41W_5_014.raw\n",
      "/Users/chiaentsai/Box/MURI-SARA/Thermoreflectance/Joanne/CHESS/0208_2023_test/30mm_per_sec/-22mm_41W_5_015.raw\n",
      "/Users/chiaentsai/Box/MURI-SARA/Thermoreflectance/Joanne/CHESS/0208_2023_test/30mm_per_sec/-22mm_41W_5_016.raw\n",
      "/Users/chiaentsai/Box/MURI-SARA/Thermoreflectance/Joanne/CHESS/0208_2023_test/30mm_per_sec/-22mm_41W_5_017.raw\n",
      "/Users/chiaentsai/Box/MURI-SARA/Thermoreflectance/Joanne/CHESS/0208_2023_test/30mm_per_sec/-22mm_41W_5_018.raw\n",
      "/Users/chiaentsai/Box/MURI-SARA/Thermoreflectance/Joanne/CHESS/0208_2023_test/30mm_per_sec/-22mm_41W_5_019.raw\n",
      "/Users/chiaentsai/Box/MURI-SARA/Thermoreflectance/Joanne/CHESS/0208_2023_test/30mm_per_sec/-22mm_41W_5_020.raw\n",
      "/Users/chiaentsai/Box/MURI-SARA/Thermoreflectance/Joanne/CHESS/0208_2023_test/30mm_per_sec/-22mm_41W_5_021.raw\n",
      "/Users/chiaentsai/Box/MURI-SARA/Thermoreflectance/Joanne/CHESS/0208_2023_test/30mm_per_sec/-22mm_41W_5_022.raw\n",
      "/Users/chiaentsai/Box/MURI-SARA/Thermoreflectance/Joanne/CHESS/0208_2023_test/30mm_per_sec/-22mm_41W_5_023.raw\n",
      "/Users/chiaentsai/Box/MURI-SARA/Thermoreflectance/Joanne/CHESS/0208_2023_test/30mm_per_sec/-22mm_41W_5_024.raw\n",
      "/Users/chiaentsai/Box/MURI-SARA/Thermoreflectance/Joanne/CHESS/0208_2023_test/30mm_per_sec/-22mm_41W_5_025.raw\n",
      "/Users/chiaentsai/Box/MURI-SARA/Thermoreflectance/Joanne/CHESS/0208_2023_test/30mm_per_sec/-22mm_41W_5_026.raw\n",
      "/Users/chiaentsai/Box/MURI-SARA/Thermoreflectance/Joanne/CHESS/0208_2023_test/30mm_per_sec/-22mm_41W_5_027.raw\n",
      "/Users/chiaentsai/Box/MURI-SARA/Thermoreflectance/Joanne/CHESS/0208_2023_test/30mm_per_sec/-22mm_41W_5_028.raw\n",
      "/Users/chiaentsai/Box/MURI-SARA/Thermoreflectance/Joanne/CHESS/0208_2023_test/30mm_per_sec/-22mm_41W_5_029.raw\n"
     ]
    },
    {
     "name": "stderr",
     "output_type": "stream",
     "text": [
      "100%|██████████████████████████████████████████████████████████████████████████████| 510/510 [00:10<00:00, 50.60it/s]\n",
      " 59%|████████████████████████████████████████████▊                               | 301/510 [00:00<00:00, 1999.59it/s]"
     ]
    },
    {
     "name": "stdout",
     "output_type": "stream",
     "text": [
      "/Users/chiaentsai/Box/MURI-SARA/Thermoreflectance/Joanne/CHESS/0208_2023_test/30mm_per_sec/-22mm_43W_5_000.raw\n",
      "/Users/chiaentsai/Box/MURI-SARA/Thermoreflectance/Joanne/CHESS/0208_2023_test/30mm_per_sec/-22mm_43W_5_001.raw\n",
      "/Users/chiaentsai/Box/MURI-SARA/Thermoreflectance/Joanne/CHESS/0208_2023_test/30mm_per_sec/-22mm_43W_5_002.raw\n",
      "/Users/chiaentsai/Box/MURI-SARA/Thermoreflectance/Joanne/CHESS/0208_2023_test/30mm_per_sec/-22mm_43W_5_003.raw\n",
      "/Users/chiaentsai/Box/MURI-SARA/Thermoreflectance/Joanne/CHESS/0208_2023_test/30mm_per_sec/-22mm_43W_5_004.raw\n",
      "/Users/chiaentsai/Box/MURI-SARA/Thermoreflectance/Joanne/CHESS/0208_2023_test/30mm_per_sec/-22mm_43W_5_005.raw\n",
      "/Users/chiaentsai/Box/MURI-SARA/Thermoreflectance/Joanne/CHESS/0208_2023_test/30mm_per_sec/-22mm_43W_5_006.raw\n",
      "/Users/chiaentsai/Box/MURI-SARA/Thermoreflectance/Joanne/CHESS/0208_2023_test/30mm_per_sec/-22mm_43W_5_007.raw\n",
      "/Users/chiaentsai/Box/MURI-SARA/Thermoreflectance/Joanne/CHESS/0208_2023_test/30mm_per_sec/-22mm_43W_5_008.raw\n",
      "/Users/chiaentsai/Box/MURI-SARA/Thermoreflectance/Joanne/CHESS/0208_2023_test/30mm_per_sec/-22mm_43W_5_009.raw\n",
      "/Users/chiaentsai/Box/MURI-SARA/Thermoreflectance/Joanne/CHESS/0208_2023_test/30mm_per_sec/-22mm_43W_5_010.raw\n",
      "/Users/chiaentsai/Box/MURI-SARA/Thermoreflectance/Joanne/CHESS/0208_2023_test/30mm_per_sec/-22mm_43W_5_011.raw\n",
      "/Users/chiaentsai/Box/MURI-SARA/Thermoreflectance/Joanne/CHESS/0208_2023_test/30mm_per_sec/-22mm_43W_5_012.raw\n",
      "/Users/chiaentsai/Box/MURI-SARA/Thermoreflectance/Joanne/CHESS/0208_2023_test/30mm_per_sec/-22mm_43W_5_013.raw\n",
      "/Users/chiaentsai/Box/MURI-SARA/Thermoreflectance/Joanne/CHESS/0208_2023_test/30mm_per_sec/-22mm_43W_5_014.raw\n",
      "/Users/chiaentsai/Box/MURI-SARA/Thermoreflectance/Joanne/CHESS/0208_2023_test/30mm_per_sec/-22mm_43W_5_015.raw\n",
      "/Users/chiaentsai/Box/MURI-SARA/Thermoreflectance/Joanne/CHESS/0208_2023_test/30mm_per_sec/-22mm_43W_5_016.raw\n",
      "/Users/chiaentsai/Box/MURI-SARA/Thermoreflectance/Joanne/CHESS/0208_2023_test/30mm_per_sec/-22mm_43W_5_017.raw\n",
      "/Users/chiaentsai/Box/MURI-SARA/Thermoreflectance/Joanne/CHESS/0208_2023_test/30mm_per_sec/-22mm_43W_5_018.raw\n",
      "/Users/chiaentsai/Box/MURI-SARA/Thermoreflectance/Joanne/CHESS/0208_2023_test/30mm_per_sec/-22mm_43W_5_019.raw\n",
      "/Users/chiaentsai/Box/MURI-SARA/Thermoreflectance/Joanne/CHESS/0208_2023_test/30mm_per_sec/-22mm_43W_5_020.raw\n",
      "/Users/chiaentsai/Box/MURI-SARA/Thermoreflectance/Joanne/CHESS/0208_2023_test/30mm_per_sec/-22mm_43W_5_021.raw\n",
      "/Users/chiaentsai/Box/MURI-SARA/Thermoreflectance/Joanne/CHESS/0208_2023_test/30mm_per_sec/-22mm_43W_5_022.raw\n",
      "/Users/chiaentsai/Box/MURI-SARA/Thermoreflectance/Joanne/CHESS/0208_2023_test/30mm_per_sec/-22mm_43W_5_023.raw\n",
      "/Users/chiaentsai/Box/MURI-SARA/Thermoreflectance/Joanne/CHESS/0208_2023_test/30mm_per_sec/-22mm_43W_5_024.raw\n",
      "/Users/chiaentsai/Box/MURI-SARA/Thermoreflectance/Joanne/CHESS/0208_2023_test/30mm_per_sec/-22mm_43W_5_025.raw\n",
      "/Users/chiaentsai/Box/MURI-SARA/Thermoreflectance/Joanne/CHESS/0208_2023_test/30mm_per_sec/-22mm_43W_5_026.raw\n",
      "/Users/chiaentsai/Box/MURI-SARA/Thermoreflectance/Joanne/CHESS/0208_2023_test/30mm_per_sec/-22mm_43W_5_027.raw\n",
      "/Users/chiaentsai/Box/MURI-SARA/Thermoreflectance/Joanne/CHESS/0208_2023_test/30mm_per_sec/-22mm_43W_5_028.raw\n",
      "/Users/chiaentsai/Box/MURI-SARA/Thermoreflectance/Joanne/CHESS/0208_2023_test/30mm_per_sec/-22mm_43W_5_029.raw\n"
     ]
    },
    {
     "name": "stderr",
     "output_type": "stream",
     "text": [
      "100%|██████████████████████████████████████████████████████████████████████████████| 510/510 [00:11<00:00, 45.38it/s]\n",
      "  0%|                                                                                        | 0/510 [00:00<?, ?it/s]"
     ]
    },
    {
     "name": "stdout",
     "output_type": "stream",
     "text": [
      "/Users/chiaentsai/Box/MURI-SARA/Thermoreflectance/Joanne/CHESS/0208_2023_test/30mm_per_sec/-22mm_45W_5_000.raw\n"
     ]
    },
    {
     "name": "stderr",
     "output_type": "stream",
     "text": [
      "\r",
      " 65%|█████████████████████████████████████████████████▎                          | 331/510 [00:00<00:00, 1163.76it/s]"
     ]
    },
    {
     "name": "stdout",
     "output_type": "stream",
     "text": [
      "/Users/chiaentsai/Box/MURI-SARA/Thermoreflectance/Joanne/CHESS/0208_2023_test/30mm_per_sec/-22mm_45W_5_001.raw\n",
      "/Users/chiaentsai/Box/MURI-SARA/Thermoreflectance/Joanne/CHESS/0208_2023_test/30mm_per_sec/-22mm_45W_5_002.raw\n",
      "/Users/chiaentsai/Box/MURI-SARA/Thermoreflectance/Joanne/CHESS/0208_2023_test/30mm_per_sec/-22mm_45W_5_003.raw\n",
      "/Users/chiaentsai/Box/MURI-SARA/Thermoreflectance/Joanne/CHESS/0208_2023_test/30mm_per_sec/-22mm_45W_5_004.raw\n",
      "/Users/chiaentsai/Box/MURI-SARA/Thermoreflectance/Joanne/CHESS/0208_2023_test/30mm_per_sec/-22mm_45W_5_005.raw\n",
      "/Users/chiaentsai/Box/MURI-SARA/Thermoreflectance/Joanne/CHESS/0208_2023_test/30mm_per_sec/-22mm_45W_5_006.raw\n",
      "/Users/chiaentsai/Box/MURI-SARA/Thermoreflectance/Joanne/CHESS/0208_2023_test/30mm_per_sec/-22mm_45W_5_007.raw\n",
      "/Users/chiaentsai/Box/MURI-SARA/Thermoreflectance/Joanne/CHESS/0208_2023_test/30mm_per_sec/-22mm_45W_5_008.raw\n",
      "/Users/chiaentsai/Box/MURI-SARA/Thermoreflectance/Joanne/CHESS/0208_2023_test/30mm_per_sec/-22mm_45W_5_009.raw\n",
      "/Users/chiaentsai/Box/MURI-SARA/Thermoreflectance/Joanne/CHESS/0208_2023_test/30mm_per_sec/-22mm_45W_5_010.raw\n",
      "/Users/chiaentsai/Box/MURI-SARA/Thermoreflectance/Joanne/CHESS/0208_2023_test/30mm_per_sec/-22mm_45W_5_011.raw\n",
      "/Users/chiaentsai/Box/MURI-SARA/Thermoreflectance/Joanne/CHESS/0208_2023_test/30mm_per_sec/-22mm_45W_5_012.raw\n",
      "/Users/chiaentsai/Box/MURI-SARA/Thermoreflectance/Joanne/CHESS/0208_2023_test/30mm_per_sec/-22mm_45W_5_013.raw\n",
      "/Users/chiaentsai/Box/MURI-SARA/Thermoreflectance/Joanne/CHESS/0208_2023_test/30mm_per_sec/-22mm_45W_5_014.raw\n",
      "/Users/chiaentsai/Box/MURI-SARA/Thermoreflectance/Joanne/CHESS/0208_2023_test/30mm_per_sec/-22mm_45W_5_015.raw\n",
      "/Users/chiaentsai/Box/MURI-SARA/Thermoreflectance/Joanne/CHESS/0208_2023_test/30mm_per_sec/-22mm_45W_5_016.raw\n",
      "/Users/chiaentsai/Box/MURI-SARA/Thermoreflectance/Joanne/CHESS/0208_2023_test/30mm_per_sec/-22mm_45W_5_017.raw\n",
      "/Users/chiaentsai/Box/MURI-SARA/Thermoreflectance/Joanne/CHESS/0208_2023_test/30mm_per_sec/-22mm_45W_5_018.raw\n",
      "/Users/chiaentsai/Box/MURI-SARA/Thermoreflectance/Joanne/CHESS/0208_2023_test/30mm_per_sec/-22mm_45W_5_019.raw\n",
      "/Users/chiaentsai/Box/MURI-SARA/Thermoreflectance/Joanne/CHESS/0208_2023_test/30mm_per_sec/-22mm_45W_5_020.raw\n",
      "/Users/chiaentsai/Box/MURI-SARA/Thermoreflectance/Joanne/CHESS/0208_2023_test/30mm_per_sec/-22mm_45W_5_021.raw\n",
      "/Users/chiaentsai/Box/MURI-SARA/Thermoreflectance/Joanne/CHESS/0208_2023_test/30mm_per_sec/-22mm_45W_5_022.raw\n",
      "/Users/chiaentsai/Box/MURI-SARA/Thermoreflectance/Joanne/CHESS/0208_2023_test/30mm_per_sec/-22mm_45W_5_023.raw\n",
      "/Users/chiaentsai/Box/MURI-SARA/Thermoreflectance/Joanne/CHESS/0208_2023_test/30mm_per_sec/-22mm_45W_5_024.raw\n",
      "/Users/chiaentsai/Box/MURI-SARA/Thermoreflectance/Joanne/CHESS/0208_2023_test/30mm_per_sec/-22mm_45W_5_025.raw\n",
      "/Users/chiaentsai/Box/MURI-SARA/Thermoreflectance/Joanne/CHESS/0208_2023_test/30mm_per_sec/-22mm_45W_5_026.raw\n",
      "/Users/chiaentsai/Box/MURI-SARA/Thermoreflectance/Joanne/CHESS/0208_2023_test/30mm_per_sec/-22mm_45W_5_027.raw\n",
      "/Users/chiaentsai/Box/MURI-SARA/Thermoreflectance/Joanne/CHESS/0208_2023_test/30mm_per_sec/-22mm_45W_5_028.raw\n",
      "/Users/chiaentsai/Box/MURI-SARA/Thermoreflectance/Joanne/CHESS/0208_2023_test/30mm_per_sec/-22mm_45W_5_029.raw\n"
     ]
    },
    {
     "name": "stderr",
     "output_type": "stream",
     "text": [
      "100%|██████████████████████████████████████████████████████████████████████████████| 510/510 [00:12<00:00, 39.92it/s]\n",
      " 71%|█████████████████████████████████████████████████████▊                      | 361/510 [00:00<00:00, 2150.23it/s]"
     ]
    },
    {
     "name": "stdout",
     "output_type": "stream",
     "text": [
      "/Users/chiaentsai/Box/MURI-SARA/Thermoreflectance/Joanne/CHESS/0208_2023_test/30mm_per_sec/-22mm_47W_5_000.raw\n",
      "/Users/chiaentsai/Box/MURI-SARA/Thermoreflectance/Joanne/CHESS/0208_2023_test/30mm_per_sec/-22mm_47W_5_001.raw\n",
      "/Users/chiaentsai/Box/MURI-SARA/Thermoreflectance/Joanne/CHESS/0208_2023_test/30mm_per_sec/-22mm_47W_5_002.raw\n",
      "/Users/chiaentsai/Box/MURI-SARA/Thermoreflectance/Joanne/CHESS/0208_2023_test/30mm_per_sec/-22mm_47W_5_003.raw\n",
      "/Users/chiaentsai/Box/MURI-SARA/Thermoreflectance/Joanne/CHESS/0208_2023_test/30mm_per_sec/-22mm_47W_5_004.raw\n",
      "/Users/chiaentsai/Box/MURI-SARA/Thermoreflectance/Joanne/CHESS/0208_2023_test/30mm_per_sec/-22mm_47W_5_005.raw\n",
      "/Users/chiaentsai/Box/MURI-SARA/Thermoreflectance/Joanne/CHESS/0208_2023_test/30mm_per_sec/-22mm_47W_5_006.raw\n",
      "/Users/chiaentsai/Box/MURI-SARA/Thermoreflectance/Joanne/CHESS/0208_2023_test/30mm_per_sec/-22mm_47W_5_007.raw\n",
      "/Users/chiaentsai/Box/MURI-SARA/Thermoreflectance/Joanne/CHESS/0208_2023_test/30mm_per_sec/-22mm_47W_5_008.raw\n",
      "/Users/chiaentsai/Box/MURI-SARA/Thermoreflectance/Joanne/CHESS/0208_2023_test/30mm_per_sec/-22mm_47W_5_009.raw\n",
      "/Users/chiaentsai/Box/MURI-SARA/Thermoreflectance/Joanne/CHESS/0208_2023_test/30mm_per_sec/-22mm_47W_5_010.raw\n",
      "/Users/chiaentsai/Box/MURI-SARA/Thermoreflectance/Joanne/CHESS/0208_2023_test/30mm_per_sec/-22mm_47W_5_011.raw\n",
      "/Users/chiaentsai/Box/MURI-SARA/Thermoreflectance/Joanne/CHESS/0208_2023_test/30mm_per_sec/-22mm_47W_5_012.raw\n",
      "/Users/chiaentsai/Box/MURI-SARA/Thermoreflectance/Joanne/CHESS/0208_2023_test/30mm_per_sec/-22mm_47W_5_013.raw\n",
      "/Users/chiaentsai/Box/MURI-SARA/Thermoreflectance/Joanne/CHESS/0208_2023_test/30mm_per_sec/-22mm_47W_5_014.raw\n",
      "/Users/chiaentsai/Box/MURI-SARA/Thermoreflectance/Joanne/CHESS/0208_2023_test/30mm_per_sec/-22mm_47W_5_015.raw\n",
      "/Users/chiaentsai/Box/MURI-SARA/Thermoreflectance/Joanne/CHESS/0208_2023_test/30mm_per_sec/-22mm_47W_5_016.raw\n",
      "/Users/chiaentsai/Box/MURI-SARA/Thermoreflectance/Joanne/CHESS/0208_2023_test/30mm_per_sec/-22mm_47W_5_017.raw\n",
      "/Users/chiaentsai/Box/MURI-SARA/Thermoreflectance/Joanne/CHESS/0208_2023_test/30mm_per_sec/-22mm_47W_5_018.raw\n",
      "/Users/chiaentsai/Box/MURI-SARA/Thermoreflectance/Joanne/CHESS/0208_2023_test/30mm_per_sec/-22mm_47W_5_019.raw\n",
      "/Users/chiaentsai/Box/MURI-SARA/Thermoreflectance/Joanne/CHESS/0208_2023_test/30mm_per_sec/-22mm_47W_5_020.raw\n",
      "/Users/chiaentsai/Box/MURI-SARA/Thermoreflectance/Joanne/CHESS/0208_2023_test/30mm_per_sec/-22mm_47W_5_021.raw\n",
      "/Users/chiaentsai/Box/MURI-SARA/Thermoreflectance/Joanne/CHESS/0208_2023_test/30mm_per_sec/-22mm_47W_5_022.raw\n",
      "/Users/chiaentsai/Box/MURI-SARA/Thermoreflectance/Joanne/CHESS/0208_2023_test/30mm_per_sec/-22mm_47W_5_023.raw\n",
      "/Users/chiaentsai/Box/MURI-SARA/Thermoreflectance/Joanne/CHESS/0208_2023_test/30mm_per_sec/-22mm_47W_5_024.raw\n",
      "/Users/chiaentsai/Box/MURI-SARA/Thermoreflectance/Joanne/CHESS/0208_2023_test/30mm_per_sec/-22mm_47W_5_025.raw\n",
      "/Users/chiaentsai/Box/MURI-SARA/Thermoreflectance/Joanne/CHESS/0208_2023_test/30mm_per_sec/-22mm_47W_5_026.raw\n"
     ]
    },
    {
     "name": "stderr",
     "output_type": "stream",
     "text": [
      " 76%|███████████████████████████████████████████████████████████▏                  | 387/510 [00:10<00:04, 26.02it/s]"
     ]
    },
    {
     "name": "stdout",
     "output_type": "stream",
     "text": [
      "/Users/chiaentsai/Box/MURI-SARA/Thermoreflectance/Joanne/CHESS/0208_2023_test/30mm_per_sec/-22mm_47W_5_027.raw\n"
     ]
    },
    {
     "name": "stderr",
     "output_type": "stream",
     "text": [
      "\r",
      " 76%|███████████████████████████████████████████████████████████▎                  | 388/510 [00:11<00:05, 22.97it/s]"
     ]
    },
    {
     "name": "stdout",
     "output_type": "stream",
     "text": [
      "/Users/chiaentsai/Box/MURI-SARA/Thermoreflectance/Joanne/CHESS/0208_2023_test/30mm_per_sec/-22mm_47W_5_028.raw\n",
      "/Users/chiaentsai/Box/MURI-SARA/Thermoreflectance/Joanne/CHESS/0208_2023_test/30mm_per_sec/-22mm_47W_5_029.raw\n"
     ]
    },
    {
     "name": "stderr",
     "output_type": "stream",
     "text": [
      "100%|██████████████████████████████████████████████████████████████████████████████| 510/510 [00:13<00:00, 38.34it/s]\n",
      " 77%|██████████████████████████████████████████████████████████▎                 | 391/510 [00:00<00:00, 2542.46it/s]"
     ]
    },
    {
     "name": "stdout",
     "output_type": "stream",
     "text": [
      "/Users/chiaentsai/Box/MURI-SARA/Thermoreflectance/Joanne/CHESS/0208_2023_test/30mm_per_sec/-22mm_49W_5_000.raw\n",
      "/Users/chiaentsai/Box/MURI-SARA/Thermoreflectance/Joanne/CHESS/0208_2023_test/30mm_per_sec/-22mm_49W_5_001.raw\n",
      "/Users/chiaentsai/Box/MURI-SARA/Thermoreflectance/Joanne/CHESS/0208_2023_test/30mm_per_sec/-22mm_49W_5_002.raw\n",
      "/Users/chiaentsai/Box/MURI-SARA/Thermoreflectance/Joanne/CHESS/0208_2023_test/30mm_per_sec/-22mm_49W_5_003.raw\n",
      "/Users/chiaentsai/Box/MURI-SARA/Thermoreflectance/Joanne/CHESS/0208_2023_test/30mm_per_sec/-22mm_49W_5_004.raw\n",
      "/Users/chiaentsai/Box/MURI-SARA/Thermoreflectance/Joanne/CHESS/0208_2023_test/30mm_per_sec/-22mm_49W_5_005.raw\n",
      "/Users/chiaentsai/Box/MURI-SARA/Thermoreflectance/Joanne/CHESS/0208_2023_test/30mm_per_sec/-22mm_49W_5_006.raw\n",
      "/Users/chiaentsai/Box/MURI-SARA/Thermoreflectance/Joanne/CHESS/0208_2023_test/30mm_per_sec/-22mm_49W_5_007.raw\n",
      "/Users/chiaentsai/Box/MURI-SARA/Thermoreflectance/Joanne/CHESS/0208_2023_test/30mm_per_sec/-22mm_49W_5_008.raw\n",
      "/Users/chiaentsai/Box/MURI-SARA/Thermoreflectance/Joanne/CHESS/0208_2023_test/30mm_per_sec/-22mm_49W_5_009.raw\n",
      "/Users/chiaentsai/Box/MURI-SARA/Thermoreflectance/Joanne/CHESS/0208_2023_test/30mm_per_sec/-22mm_49W_5_010.raw\n",
      "/Users/chiaentsai/Box/MURI-SARA/Thermoreflectance/Joanne/CHESS/0208_2023_test/30mm_per_sec/-22mm_49W_5_011.raw\n",
      "/Users/chiaentsai/Box/MURI-SARA/Thermoreflectance/Joanne/CHESS/0208_2023_test/30mm_per_sec/-22mm_49W_5_012.raw\n",
      "/Users/chiaentsai/Box/MURI-SARA/Thermoreflectance/Joanne/CHESS/0208_2023_test/30mm_per_sec/-22mm_49W_5_013.raw\n",
      "/Users/chiaentsai/Box/MURI-SARA/Thermoreflectance/Joanne/CHESS/0208_2023_test/30mm_per_sec/-22mm_49W_5_014.raw\n",
      "/Users/chiaentsai/Box/MURI-SARA/Thermoreflectance/Joanne/CHESS/0208_2023_test/30mm_per_sec/-22mm_49W_5_015.raw\n",
      "/Users/chiaentsai/Box/MURI-SARA/Thermoreflectance/Joanne/CHESS/0208_2023_test/30mm_per_sec/-22mm_49W_5_016.raw\n",
      "/Users/chiaentsai/Box/MURI-SARA/Thermoreflectance/Joanne/CHESS/0208_2023_test/30mm_per_sec/-22mm_49W_5_017.raw\n",
      "/Users/chiaentsai/Box/MURI-SARA/Thermoreflectance/Joanne/CHESS/0208_2023_test/30mm_per_sec/-22mm_49W_5_018.raw\n",
      "/Users/chiaentsai/Box/MURI-SARA/Thermoreflectance/Joanne/CHESS/0208_2023_test/30mm_per_sec/-22mm_49W_5_019.raw\n",
      "/Users/chiaentsai/Box/MURI-SARA/Thermoreflectance/Joanne/CHESS/0208_2023_test/30mm_per_sec/-22mm_49W_5_020.raw\n",
      "/Users/chiaentsai/Box/MURI-SARA/Thermoreflectance/Joanne/CHESS/0208_2023_test/30mm_per_sec/-22mm_49W_5_021.raw\n",
      "/Users/chiaentsai/Box/MURI-SARA/Thermoreflectance/Joanne/CHESS/0208_2023_test/30mm_per_sec/-22mm_49W_5_022.raw\n",
      "/Users/chiaentsai/Box/MURI-SARA/Thermoreflectance/Joanne/CHESS/0208_2023_test/30mm_per_sec/-22mm_49W_5_023.raw\n",
      "/Users/chiaentsai/Box/MURI-SARA/Thermoreflectance/Joanne/CHESS/0208_2023_test/30mm_per_sec/-22mm_49W_5_024.raw\n",
      "/Users/chiaentsai/Box/MURI-SARA/Thermoreflectance/Joanne/CHESS/0208_2023_test/30mm_per_sec/-22mm_49W_5_025.raw\n",
      "/Users/chiaentsai/Box/MURI-SARA/Thermoreflectance/Joanne/CHESS/0208_2023_test/30mm_per_sec/-22mm_49W_5_026.raw\n",
      "/Users/chiaentsai/Box/MURI-SARA/Thermoreflectance/Joanne/CHESS/0208_2023_test/30mm_per_sec/-22mm_49W_5_027.raw\n",
      "/Users/chiaentsai/Box/MURI-SARA/Thermoreflectance/Joanne/CHESS/0208_2023_test/30mm_per_sec/-22mm_49W_5_028.raw\n",
      "/Users/chiaentsai/Box/MURI-SARA/Thermoreflectance/Joanne/CHESS/0208_2023_test/30mm_per_sec/-22mm_49W_5_029.raw\n"
     ]
    },
    {
     "name": "stderr",
     "output_type": "stream",
     "text": [
      "100%|██████████████████████████████████████████████████████████████████████████████| 510/510 [00:11<00:00, 45.34it/s]\n",
      " 83%|██████████████████████████████████████████████████████████████▋             | 421/510 [00:00<00:00, 2221.55it/s]"
     ]
    },
    {
     "name": "stdout",
     "output_type": "stream",
     "text": [
      "/Users/chiaentsai/Box/MURI-SARA/Thermoreflectance/Joanne/CHESS/0208_2023_test/30mm_per_sec/-22mm_51W_5_000.raw\n",
      "/Users/chiaentsai/Box/MURI-SARA/Thermoreflectance/Joanne/CHESS/0208_2023_test/30mm_per_sec/-22mm_51W_5_001.raw\n",
      "/Users/chiaentsai/Box/MURI-SARA/Thermoreflectance/Joanne/CHESS/0208_2023_test/30mm_per_sec/-22mm_51W_5_002.raw\n",
      "/Users/chiaentsai/Box/MURI-SARA/Thermoreflectance/Joanne/CHESS/0208_2023_test/30mm_per_sec/-22mm_51W_5_003.raw\n",
      "/Users/chiaentsai/Box/MURI-SARA/Thermoreflectance/Joanne/CHESS/0208_2023_test/30mm_per_sec/-22mm_51W_5_004.raw\n",
      "/Users/chiaentsai/Box/MURI-SARA/Thermoreflectance/Joanne/CHESS/0208_2023_test/30mm_per_sec/-22mm_51W_5_005.raw\n",
      "/Users/chiaentsai/Box/MURI-SARA/Thermoreflectance/Joanne/CHESS/0208_2023_test/30mm_per_sec/-22mm_51W_5_006.raw\n",
      "/Users/chiaentsai/Box/MURI-SARA/Thermoreflectance/Joanne/CHESS/0208_2023_test/30mm_per_sec/-22mm_51W_5_007.raw\n",
      "/Users/chiaentsai/Box/MURI-SARA/Thermoreflectance/Joanne/CHESS/0208_2023_test/30mm_per_sec/-22mm_51W_5_008.raw\n",
      "/Users/chiaentsai/Box/MURI-SARA/Thermoreflectance/Joanne/CHESS/0208_2023_test/30mm_per_sec/-22mm_51W_5_009.raw\n",
      "/Users/chiaentsai/Box/MURI-SARA/Thermoreflectance/Joanne/CHESS/0208_2023_test/30mm_per_sec/-22mm_51W_5_010.raw\n",
      "/Users/chiaentsai/Box/MURI-SARA/Thermoreflectance/Joanne/CHESS/0208_2023_test/30mm_per_sec/-22mm_51W_5_011.raw\n",
      "/Users/chiaentsai/Box/MURI-SARA/Thermoreflectance/Joanne/CHESS/0208_2023_test/30mm_per_sec/-22mm_51W_5_012.raw\n",
      "/Users/chiaentsai/Box/MURI-SARA/Thermoreflectance/Joanne/CHESS/0208_2023_test/30mm_per_sec/-22mm_51W_5_013.raw\n",
      "/Users/chiaentsai/Box/MURI-SARA/Thermoreflectance/Joanne/CHESS/0208_2023_test/30mm_per_sec/-22mm_51W_5_014.raw\n",
      "/Users/chiaentsai/Box/MURI-SARA/Thermoreflectance/Joanne/CHESS/0208_2023_test/30mm_per_sec/-22mm_51W_5_015.raw\n",
      "/Users/chiaentsai/Box/MURI-SARA/Thermoreflectance/Joanne/CHESS/0208_2023_test/30mm_per_sec/-22mm_51W_5_016.raw\n",
      "/Users/chiaentsai/Box/MURI-SARA/Thermoreflectance/Joanne/CHESS/0208_2023_test/30mm_per_sec/-22mm_51W_5_017.raw\n",
      "/Users/chiaentsai/Box/MURI-SARA/Thermoreflectance/Joanne/CHESS/0208_2023_test/30mm_per_sec/-22mm_51W_5_018.raw\n",
      "/Users/chiaentsai/Box/MURI-SARA/Thermoreflectance/Joanne/CHESS/0208_2023_test/30mm_per_sec/-22mm_51W_5_019.raw\n",
      "/Users/chiaentsai/Box/MURI-SARA/Thermoreflectance/Joanne/CHESS/0208_2023_test/30mm_per_sec/-22mm_51W_5_020.raw\n",
      "/Users/chiaentsai/Box/MURI-SARA/Thermoreflectance/Joanne/CHESS/0208_2023_test/30mm_per_sec/-22mm_51W_5_021.raw\n",
      "/Users/chiaentsai/Box/MURI-SARA/Thermoreflectance/Joanne/CHESS/0208_2023_test/30mm_per_sec/-22mm_51W_5_022.raw\n",
      "/Users/chiaentsai/Box/MURI-SARA/Thermoreflectance/Joanne/CHESS/0208_2023_test/30mm_per_sec/-22mm_51W_5_023.raw\n",
      "/Users/chiaentsai/Box/MURI-SARA/Thermoreflectance/Joanne/CHESS/0208_2023_test/30mm_per_sec/-22mm_51W_5_024.raw\n",
      "/Users/chiaentsai/Box/MURI-SARA/Thermoreflectance/Joanne/CHESS/0208_2023_test/30mm_per_sec/-22mm_51W_5_025.raw\n",
      "/Users/chiaentsai/Box/MURI-SARA/Thermoreflectance/Joanne/CHESS/0208_2023_test/30mm_per_sec/-22mm_51W_5_026.raw\n",
      "/Users/chiaentsai/Box/MURI-SARA/Thermoreflectance/Joanne/CHESS/0208_2023_test/30mm_per_sec/-22mm_51W_5_027.raw\n",
      "/Users/chiaentsai/Box/MURI-SARA/Thermoreflectance/Joanne/CHESS/0208_2023_test/30mm_per_sec/-22mm_51W_5_028.raw\n",
      "/Users/chiaentsai/Box/MURI-SARA/Thermoreflectance/Joanne/CHESS/0208_2023_test/30mm_per_sec/-22mm_51W_5_029.raw\n"
     ]
    },
    {
     "name": "stderr",
     "output_type": "stream",
     "text": [
      "100%|██████████████████████████████████████████████████████████████████████████████| 510/510 [00:12<00:00, 41.18it/s]\n",
      " 88%|███████████████████████████████████████████████████████████████████▏        | 451/510 [00:00<00:00, 2968.12it/s]"
     ]
    },
    {
     "name": "stdout",
     "output_type": "stream",
     "text": [
      "/Users/chiaentsai/Box/MURI-SARA/Thermoreflectance/Joanne/CHESS/0208_2023_test/30mm_per_sec/-22mm_53W_5_000.raw\n",
      "/Users/chiaentsai/Box/MURI-SARA/Thermoreflectance/Joanne/CHESS/0208_2023_test/30mm_per_sec/-22mm_53W_5_001.raw\n",
      "/Users/chiaentsai/Box/MURI-SARA/Thermoreflectance/Joanne/CHESS/0208_2023_test/30mm_per_sec/-22mm_53W_5_002.raw\n",
      "/Users/chiaentsai/Box/MURI-SARA/Thermoreflectance/Joanne/CHESS/0208_2023_test/30mm_per_sec/-22mm_53W_5_003.raw\n",
      "/Users/chiaentsai/Box/MURI-SARA/Thermoreflectance/Joanne/CHESS/0208_2023_test/30mm_per_sec/-22mm_53W_5_004.raw\n",
      "/Users/chiaentsai/Box/MURI-SARA/Thermoreflectance/Joanne/CHESS/0208_2023_test/30mm_per_sec/-22mm_53W_5_005.raw\n",
      "/Users/chiaentsai/Box/MURI-SARA/Thermoreflectance/Joanne/CHESS/0208_2023_test/30mm_per_sec/-22mm_53W_5_006.raw\n",
      "/Users/chiaentsai/Box/MURI-SARA/Thermoreflectance/Joanne/CHESS/0208_2023_test/30mm_per_sec/-22mm_53W_5_007.raw\n",
      "/Users/chiaentsai/Box/MURI-SARA/Thermoreflectance/Joanne/CHESS/0208_2023_test/30mm_per_sec/-22mm_53W_5_008.raw\n",
      "/Users/chiaentsai/Box/MURI-SARA/Thermoreflectance/Joanne/CHESS/0208_2023_test/30mm_per_sec/-22mm_53W_5_009.raw\n",
      "/Users/chiaentsai/Box/MURI-SARA/Thermoreflectance/Joanne/CHESS/0208_2023_test/30mm_per_sec/-22mm_53W_5_010.raw\n",
      "/Users/chiaentsai/Box/MURI-SARA/Thermoreflectance/Joanne/CHESS/0208_2023_test/30mm_per_sec/-22mm_53W_5_011.raw\n",
      "/Users/chiaentsai/Box/MURI-SARA/Thermoreflectance/Joanne/CHESS/0208_2023_test/30mm_per_sec/-22mm_53W_5_012.raw\n",
      "/Users/chiaentsai/Box/MURI-SARA/Thermoreflectance/Joanne/CHESS/0208_2023_test/30mm_per_sec/-22mm_53W_5_013.raw\n",
      "/Users/chiaentsai/Box/MURI-SARA/Thermoreflectance/Joanne/CHESS/0208_2023_test/30mm_per_sec/-22mm_53W_5_014.raw\n",
      "/Users/chiaentsai/Box/MURI-SARA/Thermoreflectance/Joanne/CHESS/0208_2023_test/30mm_per_sec/-22mm_53W_5_015.raw\n",
      "/Users/chiaentsai/Box/MURI-SARA/Thermoreflectance/Joanne/CHESS/0208_2023_test/30mm_per_sec/-22mm_53W_5_016.raw\n",
      "/Users/chiaentsai/Box/MURI-SARA/Thermoreflectance/Joanne/CHESS/0208_2023_test/30mm_per_sec/-22mm_53W_5_017.raw\n",
      "/Users/chiaentsai/Box/MURI-SARA/Thermoreflectance/Joanne/CHESS/0208_2023_test/30mm_per_sec/-22mm_53W_5_018.raw\n",
      "/Users/chiaentsai/Box/MURI-SARA/Thermoreflectance/Joanne/CHESS/0208_2023_test/30mm_per_sec/-22mm_53W_5_019.raw\n",
      "/Users/chiaentsai/Box/MURI-SARA/Thermoreflectance/Joanne/CHESS/0208_2023_test/30mm_per_sec/-22mm_53W_5_020.raw\n",
      "/Users/chiaentsai/Box/MURI-SARA/Thermoreflectance/Joanne/CHESS/0208_2023_test/30mm_per_sec/-22mm_53W_5_021.raw\n",
      "/Users/chiaentsai/Box/MURI-SARA/Thermoreflectance/Joanne/CHESS/0208_2023_test/30mm_per_sec/-22mm_53W_5_022.raw\n",
      "/Users/chiaentsai/Box/MURI-SARA/Thermoreflectance/Joanne/CHESS/0208_2023_test/30mm_per_sec/-22mm_53W_5_023.raw\n",
      "/Users/chiaentsai/Box/MURI-SARA/Thermoreflectance/Joanne/CHESS/0208_2023_test/30mm_per_sec/-22mm_53W_5_024.raw\n",
      "/Users/chiaentsai/Box/MURI-SARA/Thermoreflectance/Joanne/CHESS/0208_2023_test/30mm_per_sec/-22mm_53W_5_025.raw\n",
      "/Users/chiaentsai/Box/MURI-SARA/Thermoreflectance/Joanne/CHESS/0208_2023_test/30mm_per_sec/-22mm_53W_5_026.raw\n",
      "/Users/chiaentsai/Box/MURI-SARA/Thermoreflectance/Joanne/CHESS/0208_2023_test/30mm_per_sec/-22mm_53W_5_027.raw\n",
      "/Users/chiaentsai/Box/MURI-SARA/Thermoreflectance/Joanne/CHESS/0208_2023_test/30mm_per_sec/-22mm_53W_5_028.raw\n",
      "/Users/chiaentsai/Box/MURI-SARA/Thermoreflectance/Joanne/CHESS/0208_2023_test/30mm_per_sec/-22mm_53W_5_029.raw\n"
     ]
    },
    {
     "name": "stderr",
     "output_type": "stream",
     "text": [
      "100%|██████████████████████████████████████████████████████████████████████████████| 510/510 [00:11<00:00, 46.22it/s]\n",
      " 94%|███████████████████████████████████████████████████████████████████████▋    | 481/510 [00:00<00:00, 2755.97it/s]"
     ]
    },
    {
     "name": "stdout",
     "output_type": "stream",
     "text": [
      "/Users/chiaentsai/Box/MURI-SARA/Thermoreflectance/Joanne/CHESS/0208_2023_test/30mm_per_sec/-22mm_55W_5_000.raw\n",
      "/Users/chiaentsai/Box/MURI-SARA/Thermoreflectance/Joanne/CHESS/0208_2023_test/30mm_per_sec/-22mm_55W_5_001.raw\n",
      "/Users/chiaentsai/Box/MURI-SARA/Thermoreflectance/Joanne/CHESS/0208_2023_test/30mm_per_sec/-22mm_55W_5_002.raw\n",
      "/Users/chiaentsai/Box/MURI-SARA/Thermoreflectance/Joanne/CHESS/0208_2023_test/30mm_per_sec/-22mm_55W_5_003.raw\n",
      "/Users/chiaentsai/Box/MURI-SARA/Thermoreflectance/Joanne/CHESS/0208_2023_test/30mm_per_sec/-22mm_55W_5_004.raw\n",
      "/Users/chiaentsai/Box/MURI-SARA/Thermoreflectance/Joanne/CHESS/0208_2023_test/30mm_per_sec/-22mm_55W_5_005.raw\n",
      "/Users/chiaentsai/Box/MURI-SARA/Thermoreflectance/Joanne/CHESS/0208_2023_test/30mm_per_sec/-22mm_55W_5_006.raw\n",
      "/Users/chiaentsai/Box/MURI-SARA/Thermoreflectance/Joanne/CHESS/0208_2023_test/30mm_per_sec/-22mm_55W_5_007.raw\n",
      "/Users/chiaentsai/Box/MURI-SARA/Thermoreflectance/Joanne/CHESS/0208_2023_test/30mm_per_sec/-22mm_55W_5_008.raw\n",
      "/Users/chiaentsai/Box/MURI-SARA/Thermoreflectance/Joanne/CHESS/0208_2023_test/30mm_per_sec/-22mm_55W_5_009.raw\n",
      "/Users/chiaentsai/Box/MURI-SARA/Thermoreflectance/Joanne/CHESS/0208_2023_test/30mm_per_sec/-22mm_55W_5_010.raw\n",
      "/Users/chiaentsai/Box/MURI-SARA/Thermoreflectance/Joanne/CHESS/0208_2023_test/30mm_per_sec/-22mm_55W_5_011.raw\n",
      "/Users/chiaentsai/Box/MURI-SARA/Thermoreflectance/Joanne/CHESS/0208_2023_test/30mm_per_sec/-22mm_55W_5_012.raw\n",
      "/Users/chiaentsai/Box/MURI-SARA/Thermoreflectance/Joanne/CHESS/0208_2023_test/30mm_per_sec/-22mm_55W_5_013.raw\n",
      "/Users/chiaentsai/Box/MURI-SARA/Thermoreflectance/Joanne/CHESS/0208_2023_test/30mm_per_sec/-22mm_55W_5_014.raw\n",
      "/Users/chiaentsai/Box/MURI-SARA/Thermoreflectance/Joanne/CHESS/0208_2023_test/30mm_per_sec/-22mm_55W_5_015.raw\n",
      "/Users/chiaentsai/Box/MURI-SARA/Thermoreflectance/Joanne/CHESS/0208_2023_test/30mm_per_sec/-22mm_55W_5_016.raw\n",
      "/Users/chiaentsai/Box/MURI-SARA/Thermoreflectance/Joanne/CHESS/0208_2023_test/30mm_per_sec/-22mm_55W_5_017.raw\n",
      "/Users/chiaentsai/Box/MURI-SARA/Thermoreflectance/Joanne/CHESS/0208_2023_test/30mm_per_sec/-22mm_55W_5_018.raw\n",
      "/Users/chiaentsai/Box/MURI-SARA/Thermoreflectance/Joanne/CHESS/0208_2023_test/30mm_per_sec/-22mm_55W_5_019.raw\n",
      "/Users/chiaentsai/Box/MURI-SARA/Thermoreflectance/Joanne/CHESS/0208_2023_test/30mm_per_sec/-22mm_55W_5_020.raw\n",
      "/Users/chiaentsai/Box/MURI-SARA/Thermoreflectance/Joanne/CHESS/0208_2023_test/30mm_per_sec/-22mm_55W_5_021.raw\n",
      "/Users/chiaentsai/Box/MURI-SARA/Thermoreflectance/Joanne/CHESS/0208_2023_test/30mm_per_sec/-22mm_55W_5_022.raw\n",
      "/Users/chiaentsai/Box/MURI-SARA/Thermoreflectance/Joanne/CHESS/0208_2023_test/30mm_per_sec/-22mm_55W_5_023.raw\n",
      "/Users/chiaentsai/Box/MURI-SARA/Thermoreflectance/Joanne/CHESS/0208_2023_test/30mm_per_sec/-22mm_55W_5_024.raw\n",
      "/Users/chiaentsai/Box/MURI-SARA/Thermoreflectance/Joanne/CHESS/0208_2023_test/30mm_per_sec/-22mm_55W_5_025.raw\n",
      "/Users/chiaentsai/Box/MURI-SARA/Thermoreflectance/Joanne/CHESS/0208_2023_test/30mm_per_sec/-22mm_55W_5_026.raw\n",
      "/Users/chiaentsai/Box/MURI-SARA/Thermoreflectance/Joanne/CHESS/0208_2023_test/30mm_per_sec/-22mm_55W_5_027.raw\n",
      "/Users/chiaentsai/Box/MURI-SARA/Thermoreflectance/Joanne/CHESS/0208_2023_test/30mm_per_sec/-22mm_55W_5_028.raw\n",
      "/Users/chiaentsai/Box/MURI-SARA/Thermoreflectance/Joanne/CHESS/0208_2023_test/30mm_per_sec/-22mm_55W_5_029.raw\n"
     ]
    },
    {
     "name": "stderr",
     "output_type": "stream",
     "text": [
      "100%|██████████████████████████████████████████████████████████████████████████████| 510/510 [00:10<00:00, 48.94it/s]\n"
     ]
    }
   ],
   "source": [
    "for i, (key, value) in enumerate(all_files.items()):\n",
    "    power = [int(x) for x in power_list[i]][1:]\n",
    "    files = all_files[key]\n",
    "    \n",
    "    for p in power:\n",
    "        dR_list = []\n",
    "        for file in tqdm(files):\n",
    "            if \"_{}W_\".format(p) in str(file):\n",
    "                print(str(file))\n",
    "                dR = get_peak_dRoverR(file, back_intensity_list[i], gaus, gaus)\n",
    "                dR_list.append(dR)\n",
    "                \n",
    "        #convert the frame number to position\n",
    "        #x = [(frame-2.7)*int(key)/92.59 for frame in range(1,len(temp_list)+1)] \n",
    "        \n",
    "        x = [frame for frame in range(0,len(dR_list))] \n",
    "        \n",
    "        \n",
    "        plt.plot(x, dR_list, marker=\"o\", label = str(p))\n",
    "        plt.legend()\n",
    "        \n",
    "        #limit temperature to 1500C\n",
    "        #plt.ylim(0,1500)\n",
    "        \n",
    "        #limit position to 1-10mm\n",
    "        #plt.xlim(0,5)\n",
    "\n",
    "    plt.savefig(\"/Users/chiaentsai/Desktop/lab/Temperature_Calibration/0208_dRoverR_vs_frame/{}mmpersec\".format(key), format=\"PNG\")\n",
    "    plt.close()"
   ]
  },
  {
   "cell_type": "code",
   "execution_count": null,
   "id": "d93d76e3",
   "metadata": {},
   "outputs": [],
   "source": []
  }
 ],
 "metadata": {
  "kernelspec": {
   "display_name": "Python 3 (ipykernel)",
   "language": "python",
   "name": "python3"
  },
  "language_info": {
   "codemirror_mode": {
    "name": "ipython",
    "version": 3
   },
   "file_extension": ".py",
   "mimetype": "text/x-python",
   "name": "python",
   "nbconvert_exporter": "python",
   "pygments_lexer": "ipython3",
   "version": "3.9.0"
  }
 },
 "nbformat": 4,
 "nbformat_minor": 5
}
