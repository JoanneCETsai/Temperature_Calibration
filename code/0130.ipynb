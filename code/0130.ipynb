{
 "cells": [
  {
   "cell_type": "code",
   "execution_count": 145,
   "id": "844d3a32",
   "metadata": {},
   "outputs": [],
   "source": [
    "%run \"curve_fit_.ipynb\"\n",
    "%run \"data_processing_.ipynb\" #HEADER_LEN,X_DIM,Y_DIM,X_left_boundry,X_right_boundry,Y_left_boundry,Y_right_boundry\n",
    "%run \"evaluation_functions_.ipynb\"\n",
    "%run \"fitting_functions_.ipynb\"\n",
    "%run \"get_temperature_.ipynb\"\n",
    "%run \"load_data_.ipynb\" # frame rate, shutter delay, and interseted position \n",
    "%run \"get_backbround_average_.ipynb\" \n",
    "%run \"frame_vs_temperature.ipynb\" # get_powers"
   ]
  },
  {
   "cell_type": "code",
   "execution_count": 146,
   "id": "ae6f2b12",
   "metadata": {},
   "outputs": [],
   "source": [
    "folder = \"/Users/chiaentsai/Box/MURI-SARA/Thermoreflectance/Joanne/CHESS/0130_2023\""
   ]
  },
  {
   "cell_type": "code",
   "execution_count": 147,
   "id": "8854d551",
   "metadata": {},
   "outputs": [
    {
     "name": "stdout",
     "output_type": "stream",
     "text": [
      "[4, 28, 2, 2, 18, 2, 12, 1, 8, 5, 41]\n"
     ]
    }
   ],
   "source": [
    "all_files, fivemm_files, velocity_path_list, velocity_list, used_frame_num = get_needed_files(folder)\n",
    "back_intensity_list = get_background_average(fivemm_files)\n",
    "power_list = get_powers(all_files)"
   ]
  },
  {
   "cell_type": "code",
   "execution_count": 288,
   "id": "1355cfa5",
   "metadata": {},
   "outputs": [],
   "source": [
    "Si_melting_W = {\n",
    "    '103': 41.5,\n",
    "    '13': 35.4,\n",
    "    '155': 43.7,\n",
    "    '190': 45.5, \n",
    "    '20': 35.5,\n",
    "    '234': 47,\n",
    "    '30': 36.3,\n",
    "    '352': 52.2,\n",
    "    '45': 37.1,\n",
    "    '68': 39.2,\n",
    "    '9': 35.3\n",
    "}"
   ]
  },
  {
   "cell_type": "code",
   "execution_count": 289,
   "id": "d899c6a5",
   "metadata": {},
   "outputs": [],
   "source": [
    "gold_melting_W = {\n",
    "    '103': 37,\n",
    "    '13': 30.2,\n",
    "    '155': 38.9,\n",
    "    '190': 40.3, \n",
    "    '20': 30.8,\n",
    "    '234': 41.9,\n",
    "    '30': 31.9,\n",
    "    '352': 46.2,\n",
    "    '45': 33.5,\n",
    "    '68': 35.2,\n",
    "    '9': 29.9\n",
    "}"
   ]
  },
  {
   "cell_type": "code",
   "execution_count": 290,
   "id": "afd52530",
   "metadata": {},
   "outputs": [
    {
     "name": "stderr",
     "output_type": "stream",
     "text": [
      "/Users/chiaentsai/.virtualenvs/venv/lib/python3.9/site-packages/scipy/optimize/_minpack_py.py:833: OptimizeWarning: Covariance of the parameters could not be estimated\n",
      "  warnings.warn('Covariance of the parameters could not be estimated',\n"
     ]
    }
   ],
   "source": [
    "v_list = ['103','13', '155','190','20', '234', '30', '352', '45', '68','9']\n",
    "Dict_1 = dict((k, fivemm_files[k][5:]) for k in v_list) # not included 0W files\n",
    "back_intensity_list_1 = []\n",
    "for key in fivemm_files:\n",
    "    if key in v_list:\n",
    "        index = list(fivemm_files).index(key)\n",
    "        back_intensity_list_1.append(back_intensity_list[index])\n",
    "dRoverR_1 = []\n",
    "for i, v in enumerate(list(Dict_1.keys())):\n",
    "    con = []\n",
    "    for file in Dict_1[v]:\n",
    "        val = get_peak_dRoverR(file, back_intensity_list_1[i], two_lorentz, two_lorentz)\n",
    "        con.append(val)\n",
    "    dRoverR_1.append(con)"
   ]
  },
  {
   "cell_type": "code",
   "execution_count": 291,
   "id": "66933d4a",
   "metadata": {},
   "outputs": [],
   "source": [
    "power_used = {'103':[27+2*p for p in range(0,len(dRoverR_1[v_list.index('103')]),1)], \n",
    "        '13':[21+2*p for p in range(0,len(dRoverR_1[v_list.index('13')]),1)], \n",
    "        '155':[27+2*p for p in range(0,len(dRoverR_1[v_list.index('155')]),1)],\n",
    "        '190':[29+2*p for p in range(0,len(dRoverR_1[v_list.index('190')]),1)], \n",
    "        '20':[23+2*p for p in range(0,len(dRoverR_1[v_list.index('20')]),1)], \n",
    "        '234':[29+2*p for p in range(0,len(dRoverR_1[v_list.index('234')]),1)], \n",
    "        '30':[25+2*p for p in range(0,len(dRoverR_1[v_list.index('30')]),1)], \n",
    "        '352':[31+2*p for p in range(0,len(dRoverR_1[v_list.index('352')]),1)], \n",
    "        '45':[25+2*p for p in range(0,len(dRoverR_1[v_list.index('45')]),1)], \n",
    "        '68':[25+2*p for p in range(0,len(dRoverR_1[v_list.index('68')]),1)], \n",
    "        '9':[21+2*p for p in range(0,len(dRoverR_1[v_list.index('9')]),1)]}"
   ]
  },
  {
   "cell_type": "markdown",
   "id": "0a5aa09c",
   "metadata": {},
   "source": [
    "### Plot all frames dR/R"
   ]
  },
  {
   "cell_type": "code",
   "execution_count": 292,
   "id": "8f9851a0",
   "metadata": {},
   "outputs": [
    {
     "name": "stderr",
     "output_type": "stream",
     "text": [
      "\r",
      "  0%|                                                   | 0/390 [00:00<?, ?it/s]"
     ]
    },
    {
     "name": "stdout",
     "output_type": "stream",
     "text": [
      "/Users/chiaentsai/Box/MURI-SARA/Thermoreflectance/Joanne/CHESS/0130_2023/103mm_per_sec/-18mm_27W_000.raw\n"
     ]
    },
    {
     "name": "stderr",
     "output_type": "stream",
     "text": [
      "\r",
      " 39%|███████████████▍                        | 151/390 [00:00<00:01, 236.81it/s]"
     ]
    },
    {
     "name": "stdout",
     "output_type": "stream",
     "text": [
      "/Users/chiaentsai/Box/MURI-SARA/Thermoreflectance/Joanne/CHESS/0130_2023/103mm_per_sec/-18mm_27W_001.raw\n",
      "/Users/chiaentsai/Box/MURI-SARA/Thermoreflectance/Joanne/CHESS/0130_2023/103mm_per_sec/-18mm_27W_002.raw\n",
      "/Users/chiaentsai/Box/MURI-SARA/Thermoreflectance/Joanne/CHESS/0130_2023/103mm_per_sec/-18mm_27W_003.raw\n",
      "/Users/chiaentsai/Box/MURI-SARA/Thermoreflectance/Joanne/CHESS/0130_2023/103mm_per_sec/-18mm_27W_004.raw\n",
      "/Users/chiaentsai/Box/MURI-SARA/Thermoreflectance/Joanne/CHESS/0130_2023/103mm_per_sec/-18mm_27W_005.raw\n",
      "/Users/chiaentsai/Box/MURI-SARA/Thermoreflectance/Joanne/CHESS/0130_2023/103mm_per_sec/-18mm_27W_006.raw\n",
      "/Users/chiaentsai/Box/MURI-SARA/Thermoreflectance/Joanne/CHESS/0130_2023/103mm_per_sec/-18mm_27W_007.raw\n",
      "/Users/chiaentsai/Box/MURI-SARA/Thermoreflectance/Joanne/CHESS/0130_2023/103mm_per_sec/-18mm_27W_008.raw\n",
      "/Users/chiaentsai/Box/MURI-SARA/Thermoreflectance/Joanne/CHESS/0130_2023/103mm_per_sec/-18mm_27W_009.raw\n",
      "/Users/chiaentsai/Box/MURI-SARA/Thermoreflectance/Joanne/CHESS/0130_2023/103mm_per_sec/-18mm_27W_010.raw\n"
     ]
    },
    {
     "name": "stderr",
     "output_type": "stream",
     "text": [
      " 41%|████████████████▊                        | 160/390 [00:03<00:05, 42.61it/s]\n"
     ]
    },
    {
     "ename": "KeyboardInterrupt",
     "evalue": "",
     "output_type": "error",
     "traceback": [
      "\u001b[0;31m---------------------------------------------------------------------------\u001b[0m",
      "\u001b[0;31mKeyboardInterrupt\u001b[0m                         Traceback (most recent call last)",
      "Input \u001b[0;32mIn [292]\u001b[0m, in \u001b[0;36m<module>\u001b[0;34m\u001b[0m\n\u001b[1;32m      8\u001b[0m     \u001b[38;5;28;01mif\u001b[39;00m \u001b[38;5;124m\"\u001b[39m\u001b[38;5;124m_\u001b[39m\u001b[38;5;132;01m{}\u001b[39;00m\u001b[38;5;124mW_\u001b[39m\u001b[38;5;124m\"\u001b[39m\u001b[38;5;241m.\u001b[39mformat(p) \u001b[38;5;129;01min\u001b[39;00m \u001b[38;5;28mstr\u001b[39m(file):\n\u001b[1;32m      9\u001b[0m         \u001b[38;5;28mprint\u001b[39m(\u001b[38;5;28mstr\u001b[39m(file))\n\u001b[0;32m---> 10\u001b[0m         dR \u001b[38;5;241m=\u001b[39m \u001b[43mget_peak_dRoverR\u001b[49m\u001b[43m(\u001b[49m\u001b[43mfile\u001b[49m\u001b[43m,\u001b[49m\u001b[43m \u001b[49m\u001b[43mback_intensity_list\u001b[49m\u001b[43m[\u001b[49m\u001b[43mi\u001b[49m\u001b[43m]\u001b[49m\u001b[43m,\u001b[49m\u001b[43m \u001b[49m\u001b[43mgaus\u001b[49m\u001b[43m,\u001b[49m\u001b[43m \u001b[49m\u001b[43mgaus\u001b[49m\u001b[43m)\u001b[49m\n\u001b[1;32m     11\u001b[0m         dR_list\u001b[38;5;241m.\u001b[39mappend(dR)\n\u001b[1;32m     13\u001b[0m \u001b[38;5;66;03m#convert the frame number to position\u001b[39;00m\n\u001b[1;32m     14\u001b[0m \u001b[38;5;66;03m#x = [(frame-2.7)*int(key)/92.59 for frame in range(1,len(temp_list)+1)] \u001b[39;00m\n",
      "File \u001b[0;32m/var/folders/f7/kn96xdj93ss0t67sn2q10n6c0000gn/T/ipykernel_84506/457918202.py:3\u001b[0m, in \u001b[0;36mget_peak_dRoverR\u001b[0;34m(file, back_intensity, func, maxs_func)\u001b[0m\n\u001b[1;32m      1\u001b[0m \u001b[38;5;28;01mdef\u001b[39;00m \u001b[38;5;21mget_peak_dRoverR\u001b[39m(file, back_intensity, func, maxs_func):\n\u001b[1;32m      2\u001b[0m     dRoverR \u001b[38;5;241m=\u001b[39m get_dR_over_R(file, back_intensity)\n\u001b[0;32m----> 3\u001b[0m     maxs \u001b[38;5;241m=\u001b[39m \u001b[43mget_maxs\u001b[49m\u001b[43m(\u001b[49m\u001b[43mdRoverR\u001b[49m\u001b[43m,\u001b[49m\u001b[43m \u001b[49m\u001b[43mfunc\u001b[49m\u001b[43m)\u001b[49m\n\u001b[1;32m      4\u001b[0m     peak \u001b[38;5;241m=\u001b[39m get_max(maxs, maxs_func)\n\u001b[1;32m      5\u001b[0m     \u001b[38;5;28;01mreturn\u001b[39;00m peak\n",
      "File \u001b[0;32m/var/folders/f7/kn96xdj93ss0t67sn2q10n6c0000gn/T/ipykernel_84506/2361877158.py:5\u001b[0m, in \u001b[0;36mget_maxs\u001b[0;34m(data, func)\u001b[0m\n\u001b[1;32m      3\u001b[0m \u001b[38;5;28;01mfor\u001b[39;00m i \u001b[38;5;129;01min\u001b[39;00m \u001b[38;5;28mrange\u001b[39m(X_right_boundry \u001b[38;5;241m-\u001b[39m X_left_boundry):\n\u001b[1;32m      4\u001b[0m     line \u001b[38;5;241m=\u001b[39m data[i,:]\n\u001b[0;32m----> 5\u001b[0m     line_max \u001b[38;5;241m=\u001b[39m \u001b[43mget_max\u001b[49m\u001b[43m(\u001b[49m\u001b[43mline\u001b[49m\u001b[43m,\u001b[49m\u001b[43m \u001b[49m\u001b[43mfunc\u001b[49m\u001b[43m)\u001b[49m\n\u001b[1;32m      6\u001b[0m     maxs[i] \u001b[38;5;241m=\u001b[39m line_max\n\u001b[1;32m      7\u001b[0m \u001b[38;5;28;01mreturn\u001b[39;00m maxs\n",
      "File \u001b[0;32m/var/folders/f7/kn96xdj93ss0t67sn2q10n6c0000gn/T/ipykernel_84506/4003065552.py:2\u001b[0m, in \u001b[0;36mget_max\u001b[0;34m(line, func)\u001b[0m\n\u001b[1;32m      1\u001b[0m \u001b[38;5;28;01mdef\u001b[39;00m \u001b[38;5;21mget_max\u001b[39m(line, func):\n\u001b[0;32m----> 2\u001b[0m     par \u001b[38;5;241m=\u001b[39m \u001b[43mfit\u001b[49m\u001b[43m(\u001b[49m\u001b[43mfunc\u001b[49m\u001b[43m,\u001b[49m\u001b[43m \u001b[49m\u001b[43mline\u001b[49m\u001b[43m)\u001b[49m\n\u001b[1;32m      3\u001b[0m     values \u001b[38;5;241m=\u001b[39m func(np\u001b[38;5;241m.\u001b[39mlinspace(\u001b[38;5;241m0\u001b[39m, \u001b[38;5;28mlen\u001b[39m(line) \u001b[38;5;241m-\u001b[39m \u001b[38;5;241m1\u001b[39m, \u001b[38;5;28mlen\u001b[39m(line)), \u001b[38;5;241m*\u001b[39mpar) \n\u001b[1;32m      4\u001b[0m     \u001b[38;5;28;01mreturn\u001b[39;00m np\u001b[38;5;241m.\u001b[39mmax(values)\n",
      "File \u001b[0;32m/var/folders/f7/kn96xdj93ss0t67sn2q10n6c0000gn/T/ipykernel_84506/2495982837.py:4\u001b[0m, in \u001b[0;36mfit\u001b[0;34m(func, line)\u001b[0m\n\u001b[1;32m      2\u001b[0m xdata \u001b[38;5;241m=\u001b[39m np\u001b[38;5;241m.\u001b[39mlinspace(\u001b[38;5;241m0\u001b[39m, \u001b[38;5;28mlen\u001b[39m(line) \u001b[38;5;241m-\u001b[39m \u001b[38;5;241m1\u001b[39m, \u001b[38;5;28mlen\u001b[39m(line))\n\u001b[1;32m      3\u001b[0m ydata \u001b[38;5;241m=\u001b[39m line\n\u001b[0;32m----> 4\u001b[0m popt, pcov \u001b[38;5;241m=\u001b[39m \u001b[43mcurve_fit\u001b[49m\u001b[43m(\u001b[49m\u001b[43mfunc\u001b[49m\u001b[43m,\u001b[49m\u001b[43m \u001b[49m\u001b[43mxdata\u001b[49m\u001b[43m,\u001b[49m\u001b[43m \u001b[49m\u001b[43mydata\u001b[49m\u001b[43m,\u001b[49m\u001b[43m \u001b[49m\u001b[43mmaxfev\u001b[49m\u001b[43m \u001b[49m\u001b[38;5;241;43m=\u001b[39;49m\u001b[43m \u001b[49m\u001b[38;5;241;43m100000000\u001b[39;49m\u001b[43m)\u001b[49m\n\u001b[1;32m      5\u001b[0m \u001b[38;5;28;01mreturn\u001b[39;00m popt\n",
      "File \u001b[0;32m~/.virtualenvs/venv/lib/python3.9/site-packages/scipy/optimize/_minpack_py.py:789\u001b[0m, in \u001b[0;36mcurve_fit\u001b[0;34m(f, xdata, ydata, p0, sigma, absolute_sigma, check_finite, bounds, method, jac, **kwargs)\u001b[0m\n\u001b[1;32m    787\u001b[0m \u001b[38;5;66;03m# Remove full_output from kwargs, otherwise we're passing it in twice.\u001b[39;00m\n\u001b[1;32m    788\u001b[0m return_full \u001b[38;5;241m=\u001b[39m kwargs\u001b[38;5;241m.\u001b[39mpop(\u001b[38;5;124m'\u001b[39m\u001b[38;5;124mfull_output\u001b[39m\u001b[38;5;124m'\u001b[39m, \u001b[38;5;28;01mFalse\u001b[39;00m)\n\u001b[0;32m--> 789\u001b[0m res \u001b[38;5;241m=\u001b[39m \u001b[43mleastsq\u001b[49m\u001b[43m(\u001b[49m\u001b[43mfunc\u001b[49m\u001b[43m,\u001b[49m\u001b[43m \u001b[49m\u001b[43mp0\u001b[49m\u001b[43m,\u001b[49m\u001b[43m \u001b[49m\u001b[43mDfun\u001b[49m\u001b[38;5;241;43m=\u001b[39;49m\u001b[43mjac\u001b[49m\u001b[43m,\u001b[49m\u001b[43m \u001b[49m\u001b[43mfull_output\u001b[49m\u001b[38;5;241;43m=\u001b[39;49m\u001b[38;5;241;43m1\u001b[39;49m\u001b[43m,\u001b[49m\u001b[43m \u001b[49m\u001b[38;5;241;43m*\u001b[39;49m\u001b[38;5;241;43m*\u001b[39;49m\u001b[43mkwargs\u001b[49m\u001b[43m)\u001b[49m\n\u001b[1;32m    790\u001b[0m popt, pcov, infodict, errmsg, ier \u001b[38;5;241m=\u001b[39m res\n\u001b[1;32m    791\u001b[0m ysize \u001b[38;5;241m=\u001b[39m \u001b[38;5;28mlen\u001b[39m(infodict[\u001b[38;5;124m'\u001b[39m\u001b[38;5;124mfvec\u001b[39m\u001b[38;5;124m'\u001b[39m])\n",
      "File \u001b[0;32m~/.virtualenvs/venv/lib/python3.9/site-packages/scipy/optimize/_minpack_py.py:423\u001b[0m, in \u001b[0;36mleastsq\u001b[0;34m(func, x0, args, Dfun, full_output, col_deriv, ftol, xtol, gtol, maxfev, epsfcn, factor, diag)\u001b[0m\n\u001b[1;32m    421\u001b[0m     \u001b[38;5;28;01mif\u001b[39;00m maxfev \u001b[38;5;241m==\u001b[39m \u001b[38;5;241m0\u001b[39m:\n\u001b[1;32m    422\u001b[0m         maxfev \u001b[38;5;241m=\u001b[39m \u001b[38;5;241m200\u001b[39m\u001b[38;5;241m*\u001b[39m(n \u001b[38;5;241m+\u001b[39m \u001b[38;5;241m1\u001b[39m)\n\u001b[0;32m--> 423\u001b[0m     retval \u001b[38;5;241m=\u001b[39m \u001b[43m_minpack\u001b[49m\u001b[38;5;241;43m.\u001b[39;49m\u001b[43m_lmdif\u001b[49m\u001b[43m(\u001b[49m\u001b[43mfunc\u001b[49m\u001b[43m,\u001b[49m\u001b[43m \u001b[49m\u001b[43mx0\u001b[49m\u001b[43m,\u001b[49m\u001b[43m \u001b[49m\u001b[43margs\u001b[49m\u001b[43m,\u001b[49m\u001b[43m \u001b[49m\u001b[43mfull_output\u001b[49m\u001b[43m,\u001b[49m\u001b[43m \u001b[49m\u001b[43mftol\u001b[49m\u001b[43m,\u001b[49m\u001b[43m \u001b[49m\u001b[43mxtol\u001b[49m\u001b[43m,\u001b[49m\n\u001b[1;32m    424\u001b[0m \u001b[43m                             \u001b[49m\u001b[43mgtol\u001b[49m\u001b[43m,\u001b[49m\u001b[43m \u001b[49m\u001b[43mmaxfev\u001b[49m\u001b[43m,\u001b[49m\u001b[43m \u001b[49m\u001b[43mepsfcn\u001b[49m\u001b[43m,\u001b[49m\u001b[43m \u001b[49m\u001b[43mfactor\u001b[49m\u001b[43m,\u001b[49m\u001b[43m \u001b[49m\u001b[43mdiag\u001b[49m\u001b[43m)\u001b[49m\n\u001b[1;32m    425\u001b[0m \u001b[38;5;28;01melse\u001b[39;00m:\n\u001b[1;32m    426\u001b[0m     \u001b[38;5;28;01mif\u001b[39;00m col_deriv:\n",
      "File \u001b[0;32m~/.virtualenvs/venv/lib/python3.9/site-packages/scipy/optimize/_minpack_py.py:485\u001b[0m, in \u001b[0;36m_wrap_func.<locals>.func_wrapped\u001b[0;34m(params)\u001b[0m\n\u001b[1;32m    484\u001b[0m \u001b[38;5;28;01mdef\u001b[39;00m \u001b[38;5;21mfunc_wrapped\u001b[39m(params):\n\u001b[0;32m--> 485\u001b[0m     \u001b[38;5;28;01mreturn\u001b[39;00m \u001b[43mfunc\u001b[49m\u001b[43m(\u001b[49m\u001b[43mxdata\u001b[49m\u001b[43m,\u001b[49m\u001b[43m \u001b[49m\u001b[38;5;241;43m*\u001b[39;49m\u001b[43mparams\u001b[49m\u001b[43m)\u001b[49m \u001b[38;5;241m-\u001b[39m ydata\n",
      "File \u001b[0;32m/var/folders/f7/kn96xdj93ss0t67sn2q10n6c0000gn/T/ipykernel_84506/3833628544.py:4\u001b[0m, in \u001b[0;36mgaus\u001b[0;34m(x, a, x0, sigma)\u001b[0m\n\u001b[1;32m      3\u001b[0m \u001b[38;5;28;01mdef\u001b[39;00m \u001b[38;5;21mgaus\u001b[39m(x,a,x0,sigma):\n\u001b[0;32m----> 4\u001b[0m     \u001b[38;5;28;01mreturn\u001b[39;00m a\u001b[38;5;241m*\u001b[39m np\u001b[38;5;241m.\u001b[39mexp(\u001b[38;5;241m-\u001b[39m(\u001b[43mx\u001b[49m\u001b[38;5;241;43m-\u001b[39;49m\u001b[43mx0\u001b[49m)\u001b[38;5;241m*\u001b[39m\u001b[38;5;241m*\u001b[39m\u001b[38;5;241m2\u001b[39m\u001b[38;5;241m/\u001b[39m(\u001b[38;5;241m2\u001b[39m\u001b[38;5;241m*\u001b[39msigma\u001b[38;5;241m*\u001b[39m\u001b[38;5;241m*\u001b[39m\u001b[38;5;241m2\u001b[39m))\n",
      "\u001b[0;31mKeyboardInterrupt\u001b[0m: "
     ]
    }
   ],
   "source": [
    "for i, (key, value) in enumerate(all_files.items()):\n",
    "    power = [int(x) for x in power_list[i]][1:]\n",
    "    files = all_files[key]\n",
    "    \n",
    "    for p in power:\n",
    "        dR_list = []\n",
    "        for file in tqdm(files):\n",
    "            if \"_{}W_\".format(p) in str(file):\n",
    "                print(str(file))\n",
    "                dR = get_peak_dRoverR(file, back_intensity_list[i], gaus, gaus)\n",
    "                dR_list.append(dR)\n",
    "                \n",
    "        #convert the frame number to position\n",
    "        #x = [(frame-2.7)*int(key)/92.59 for frame in range(1,len(temp_list)+1)] \n",
    "        \n",
    "        x = [frame for frame in range(0,len(dR_list))] \n",
    "        \n",
    "        \n",
    "        plt.plot(x, dR_list, marker=\"o\")\n",
    "        \n",
    "        #limit temperature to 1500C\n",
    "        #plt.ylim(0,1500)\n",
    "        \n",
    "        #limit position to 1-10mm\n",
    "        #plt.xlim(0,5)\n",
    "\n",
    "    plt.savefig(\"/Users/chiaentsai/Desktop/lab/Temperature_Calibration/0130_dRoverR_vs_frame/{}mmpersec\".format(key), format=\"PNG\")\n",
    "    plt.close()"
   ]
  },
  {
   "cell_type": "markdown",
   "id": "e869ac45",
   "metadata": {},
   "source": [
    "### Plot all powers dR/R for each veloty"
   ]
  },
  {
   "cell_type": "code",
   "execution_count": 293,
   "id": "2a757ccc",
   "metadata": {},
   "outputs": [],
   "source": [
    "for i, v in enumerate(list(Si_melting_W.keys())):\n",
    "    plt.plot(power_used[v], dRoverR_1[i], '.')\n",
    "    plt.xlabel(\"power\")\n",
    "    plt.ylabel(\"dR/R\")\n",
    "    plt.savefig(\"/Users/chiaentsai/Desktop/lab/Temperature_Calibration/0130_dRoverR_figure/{}mm.png\".format(v), format=\"PNG\")\n",
    "    plt.close()\n"
   ]
  },
  {
   "cell_type": "markdown",
   "id": "a242733c",
   "metadata": {},
   "source": [
    "### get kappa (use glod and Si melting power)"
   ]
  },
  {
   "cell_type": "code",
   "execution_count": 295,
   "id": "97496bcf",
   "metadata": {},
   "outputs": [],
   "source": [
    "# gold and Si melt\n",
    "import scipy.optimize\n",
    "kappa_avg = []\n",
    "for i, v in enumerate(list(Si_melting_W.keys())):\n",
    "    popt, pcov = curve_fit(expo, power_used[v], dRoverR_1[i], p0 = [1, 0.00000000838, 1], maxfev = 10000)\n",
    "    #a, b, c = popt\n",
    "    plt.plot(power_used[v], dRoverR_1[i], '.')\n",
    "    y_pred = [expo(j, *popt) for j in power_used[v]]\n",
    "    plt.plot(power_used[v], y_pred)\n",
    "    plt.xlabel(\"power\")\n",
    "    plt.ylabel(\"dR/R\")\n",
    "    plt.savefig(\"/Users/chiaentsai/Desktop/lab/Temperature_Calibration/0130_Si&gold_dRoverR_fit_figure/{}mm.png\".format(v), format=\"PNG\")\n",
    "    plt.close()\n",
    "    \n",
    "    \n",
    "    fun = lambda k: (expo(Si_melting_W[v], *popt) - (1410-21)*k)**2 + (expo(gold_melting_W[v], *popt) - (1064-21)*k)**2\n",
    "    res = scipy.optimize.minimize(fun, 0.00016)\n",
    "    temp_pred = [expo(j, *popt)/res.x for j in power_used[v]]\n",
    "    plt.plot(power_used[v], temp_pred)\n",
    "    \n",
    "    plt.plot(Si_melting_W[v], 1410, marker=\"o\",color = 'r', label='Si')\n",
    "    plt.plot(gold_melting_W[v], 1064, marker=\"o\", color = 'g', label='gold')\n",
    "    plt.legend(loc=\"upper left\")\n",
    "    plt.xlabel(\"power\")\n",
    "    plt.ylabel(\"temperature\")\n",
    "    plt.savefig(\"/Users/chiaentsai/Desktop/lab/Temperature_Calibration/0130_gold_Si_fit/{}mm.png\".format(v), format=\"PNG\")\n",
    "    plt.close()\n",
    "    \n",
    "#     f = expo(Si_melting_W[v], *popt)\n",
    "#     gold_m = 1410\n",
    "#     dT = gold_m - 21\n",
    "#     kappa = f / dT\n",
    "    kappa_avg.append(float(res.x))\n",
    "    \n",
    "Dict_kappa_avg = dict(zip(list(Si_melting_W.keys()),kappa_avg))\n",
    "\n",
    "plt.plot(list(Si_melting_W.keys()), kappa_avg, '.')\n",
    "plt.savefig(\"/Users/chiaentsai/Desktop/lab/Temperature_Calibration/0130_kappa_gold&Si.png\", format=\"PNG\")"
   ]
  },
  {
   "cell_type": "code",
   "execution_count": 296,
   "id": "ec7f7970",
   "metadata": {},
   "outputs": [
    {
     "data": {
      "text/plain": [
       "0.00019884264859331736"
      ]
     },
     "execution_count": 296,
     "metadata": {},
     "output_type": "execute_result"
    }
   ],
   "source": [
    "con = 0\n",
    "for i, v in enumerate(Dict_kappa_avg.keys()):\n",
    "    con = con + Dict_kappa_avg[v]\n",
    "kappa_avg = con / len(Dict_kappa_avg)\n",
    "kappa_avg"
   ]
  },
  {
   "cell_type": "code",
   "execution_count": 297,
   "id": "72202e20",
   "metadata": {},
   "outputs": [],
   "source": [
    "peak_temp = []\n",
    "for i, v in enumerate(list(Si_melting_W.keys())):\n",
    "    tem = []\n",
    "    for r in dRoverR_1[i]:\n",
    "        t = get_peak_Temp(r, Dict_kappa_avg[v])\n",
    "#         t = get_peak_Temp(r,avg_kappa)\n",
    "#         t = get_peak_Temp(r,0.00016498400434141028)\n",
    "#         t = get_peak_Temp(r, Dict_kappa_gold_avg[v])\n",
    "#         t = get_peak_Temp(r, avg_kappa_2)\n",
    "#         t = get_peak_Temp(r, Dict_kappa_avg[v])\n",
    "        tem.append(t)\n",
    "    peak_temp.append(tem)\n",
    "    \n",
    "Dict_peak_temp = dict(zip(list(Si_melting_W.keys()),peak_temp))"
   ]
  },
  {
   "cell_type": "markdown",
   "id": "698a2e0d",
   "metadata": {},
   "source": [
    "### fit plane f(power, log10 velocity) = Tpeak"
   ]
  },
  {
   "cell_type": "code",
   "execution_count": 298,
   "id": "46ae2bd2",
   "metadata": {},
   "outputs": [
    {
     "name": "stdout",
     "output_type": "stream",
     "text": [
      "Using matplotlib backend: MacOSX\n",
      "[ 3.49243223e+02 -7.15131598e+01 -5.84562467e+02  6.79422095e+01\n",
      "  1.23094291e+03  1.13957735e+00  3.19554518e-02  3.55399494e+00]\n",
      "1124.6349617416881\n"
     ]
    },
    {
     "name": "stderr",
     "output_type": "stream",
     "text": [
      "/var/folders/f7/kn96xdj93ss0t67sn2q10n6c0000gn/T/ipykernel_84506/507234216.py:25: MatplotlibDeprecationWarning: Axes3D(fig) adding itself to the figure is deprecated since 3.4. Pass the keyword argument auto_add_to_figure=False and use fig.add_axes(ax) to suppress this warning. The default value of auto_add_to_figure will change to False in mpl3.5 and True values will no longer work in 3.6.  This is consistent with other Axes classes.\n",
      "  axes = Axes3D(f)\n"
     ]
    }
   ],
   "source": [
    "import numpy, scipy, scipy.optimize\n",
    "import matplotlib\n",
    "from mpl_toolkits.mplot3d import  Axes3D\n",
    "from matplotlib import cm # to colormap 3D surfaces from blue to red\n",
    "import matplotlib.pyplot as plt\n",
    "%matplotlib\n",
    "\n",
    "# def function(data, b, c, d, e, f):\n",
    "#     x = np.array(data[0])\n",
    "#     y = np.array(data[1])\n",
    "#     return (b*y+c)*(x)**(d*y**2+e*y+f)\n",
    "\n",
    "def function(data, a, b, c, d, e, f, g, h):\n",
    "    x = np.array(data[0])\n",
    "    y = np.array(data[1])\n",
    "    return (a+b*y+h*y**2)*x**(f+g*y) + (c+d*y)*x + e\n",
    "\n",
    "# def function(data, a, b, c, d, e, f, g, h, i, j):\n",
    "#     x = np.array(data[0])\n",
    "#     y = np.array(data[1])\n",
    "#     return (a+b*y+h*y**2)*x**(f+g*y) + (c+d*y)*x + e +i*x**2 + j*y**2\n",
    "\n",
    "f = plt.figure(figsize=(20.0, 20.0), dpi=20)\n",
    "matplotlib.pyplot.grid(True)\n",
    "axes = Axes3D(f)\n",
    "\n",
    "points = []\n",
    "for i, v in enumerate(list(Si_melting_W.keys())):\n",
    "    P = [int(p) for p in power_used[v]]\n",
    "    V = [np.log(int(v))] * len(Dict_peak_temp[v])\n",
    "    T = Dict_peak_temp[v]\n",
    "    point = [list(x) for x in zip(*[P,V,T])]\n",
    "    points.append(point)\n",
    "\n",
    "x_data = []\n",
    "y_data = []\n",
    "z_data = []\n",
    "for velo in points:\n",
    "    for item in velo:\n",
    "        x_data.append(item[0]) # power\n",
    "        y_data.append(item[1]) # velocity\n",
    "        z_data.append(item[2]) # temperature\n",
    "        \n",
    "x_data, y_data, z_data = np.array(x_data), np.array(y_data), np.array(z_data)\n",
    "\n",
    "mask = z_data > 400\n",
    "x_data = x_data[mask]\n",
    "y_data = y_data[mask]\n",
    "z_data = z_data[mask]\n",
    "\n",
    "parameters, covariance = curve_fit(function, [x_data, y_data], z_data,  maxfev=1000000)\n",
    "print(parameters)\n",
    "model_x_data = np.linspace(min(x_data), max(x_data), 30)\n",
    "model_y_data = np.linspace(min(y_data), max(y_data), 30)\n",
    "X, Y = np.meshgrid(model_x_data, model_y_data)\n",
    "Z = function(np.array([X, Y]), *parameters)\n",
    "\n",
    "z_predicted = function([x_data, y_data], *parameters)\n",
    "differences = np.subtract(z_data, z_predicted)\n",
    "squared_differences = np.square(differences)\n",
    "mse = squared_differences.mean()\n",
    "\n",
    "\n",
    "axes.plot_surface(X, Y, Z, cmap=cm.hot, alpha=0.2)\n",
    "\n",
    "# for i, v in enumerate(list(Dict_kappa_Si_avg.keys())):\n",
    "#     v_data = [np.log(int(v))] * len(Dict_peak_temp[v])\n",
    "#     p_data = [int(p) for p in power_used[i]]\n",
    "#     t_data = Dict_peak_temp[v]\n",
    "#     axes.scatter(p_data, v_data, t_data, s = 250)\n",
    "axes.scatter(x_data, y_data, z_data, s=500)\n",
    "    \n",
    "\n",
    "axes.set_title('Scatter Plot')\n",
    "axes.set_xlabel('power - W', fontsize=30, labelpad=40)\n",
    "axes.set_ylabel('ln(velocity) - mm/s',fontsize=30, labelpad=40)\n",
    "axes.set_zlabel('peak temperature - C', fontsize=30, labelpad=40)\n",
    "axes.set_zlim(400, 1400)\n",
    "\n",
    "axes.tick_params(axis='both', which='major', labelsize=30)\n",
    "\n",
    "plt.show()\n",
    "print(mse)"
   ]
  },
  {
   "cell_type": "markdown",
   "id": "008ec20b",
   "metadata": {},
   "source": [
    "### converter"
   ]
  },
  {
   "cell_type": "code",
   "execution_count": 299,
   "id": "e399b0d4",
   "metadata": {},
   "outputs": [],
   "source": [
    "parameters_T = np.array([ 3.49243223e+02, -7.15131598e+01, -5.84562467e+02 , 6.79422095e+01,\n",
    "  1.23094291e+03 , 1.13957735e+00 , 3.19554518e-02 , 3.55399494e+00])\n",
    "\n",
    "def get_power(dwell, Tpeak):\n",
    "    v = 88200/dwell\n",
    "    lnv = np.log(v)\n",
    "    a, b, c, d, e, f, g, h= parameters_T\n",
    "    eq1 = lambda x: (a+b*lnv+h*lnv**2)*x**(f+g*lnv) + (c+d*lnv)*x + e  - Tpeak\n",
    "    sol = leastsq(eq1, 100)\n",
    "    #return float(sol[0], sol[1]), float(sol[1])\n",
    "    return float(sol[0])"
   ]
  },
  {
   "cell_type": "code",
   "execution_count": 300,
   "id": "f07b69a6",
   "metadata": {},
   "outputs": [
    {
     "data": {
      "text/plain": [
       "37.976878260994006"
      ]
     },
     "execution_count": 300,
     "metadata": {},
     "output_type": "execute_result"
    }
   ],
   "source": [
    "get_power(88200/352, 660)"
   ]
  },
  {
   "cell_type": "markdown",
   "id": "93ed0ac4",
   "metadata": {},
   "source": [
    "### plot temperature vs power"
   ]
  },
  {
   "cell_type": "code",
   "execution_count": 159,
   "id": "48062c94",
   "metadata": {},
   "outputs": [
    {
     "name": "stdout",
     "output_type": "stream",
     "text": [
      "Using matplotlib backend: MacOSX\n"
     ]
    },
    {
     "data": {
      "text/plain": [
       "<matplotlib.legend.Legend at 0x7f8846823df0>"
      ]
     },
     "execution_count": 159,
     "metadata": {},
     "output_type": "execute_result"
    }
   ],
   "source": [
    "import matplotlib.pyplot as plt\n",
    "%matplotlib\n",
    "\n",
    "for velocity in np.unique(y_data):\n",
    "    mask = y_data == velocity\n",
    "    plt.plot(x_data[mask], z_data[mask])\n",
    "\n",
    "#plt.gca().legend(('103','13', '155','190','20', '234', '30', '352', '45', '68','9')) 錯"
   ]
  },
  {
   "cell_type": "markdown",
   "id": "ad6c1c8a",
   "metadata": {},
   "source": [
    "### fit plane f(Tpeak, log10 tau) = power (beamwidth needed)"
   ]
  },
  {
   "cell_type": "code",
   "execution_count": 160,
   "id": "8d9c94ed",
   "metadata": {},
   "outputs": [
    {
     "name": "stdout",
     "output_type": "stream",
     "text": [
      "Using matplotlib backend: MacOSX\n"
     ]
    },
    {
     "name": "stderr",
     "output_type": "stream",
     "text": [
      "/var/folders/f7/kn96xdj93ss0t67sn2q10n6c0000gn/T/ipykernel_84506/168898424.py:32: MatplotlibDeprecationWarning: Axes3D(fig) adding itself to the figure is deprecated since 3.4. Pass the keyword argument auto_add_to_figure=False and use fig.add_axes(ax) to suppress this warning. The default value of auto_add_to_figure will change to False in mpl3.5 and True values will no longer work in 3.6.  This is consistent with other Axes classes.\n",
      "  axes = Axes3D(f)\n"
     ]
    },
    {
     "name": "stdout",
     "output_type": "stream",
     "text": [
      "[ 4.86718736e+00  7.43958172e-04 -4.82340544e+00  1.00026791e+00\n",
      " -1.52660272e+00  2.35752595e+01  2.53819054e+01]\n",
      "2.2866150043989744\n"
     ]
    }
   ],
   "source": [
    "beamwidth = 88200\n",
    "\n",
    "import numpy, scipy, scipy.optimize\n",
    "import matplotlib\n",
    "from mpl_toolkits.mplot3d import  Axes3D\n",
    "from matplotlib import cm # to colormap 3D surfaces from blue to red\n",
    "import matplotlib.pyplot as plt\n",
    "%matplotlib\n",
    "\n",
    "# def function(data, b, c, d, e, f):\n",
    "#     x = np.array(data[0])\n",
    "#     y = np.array(data[1])\n",
    "#     return (b*y+c)*(x)**(d*y**2+e*y+f)\n",
    "\n",
    "# def function(data, a, b, c, d, e, f, g, h):\n",
    "#     x = np.array(data[0])\n",
    "#     y = np.array(data[1])\n",
    "#     return (a+b*y+h*y**2)*x**(f+g*y) + (c+d*y)*x + e\n",
    "\n",
    "# def function(data, a, b, c, d, e, f, g, h, i, j):\n",
    "#     x = np.array(data[0])\n",
    "#     y = np.array(data[1])\n",
    "#     return (a+b*y+h*y**2)*x**(f+g*y) + (c+d*y)*x + e +i*x**2 + j*y**2\n",
    "\n",
    "def function(data, a, b, c, d, e, f, g):\n",
    "    x = np.array(data[0])\n",
    "    y = np.array(data[1])\n",
    "    return (a*x**b)*(c*y**d)+e*x+f*y+g\n",
    "\n",
    "f = plt.figure(figsize=(20.0, 20.0), dpi=20)\n",
    "matplotlib.pyplot.grid(True)\n",
    "axes = Axes3D(f)\n",
    "\n",
    "points = []\n",
    "for i, v in enumerate(list(Si_melting_W.keys())):\n",
    "    P = [int(p) for p in power_used[v]]\n",
    "    tau = [np.log(beamwidth / int(v))] * len(Dict_peak_temp[v])\n",
    "    T = Dict_peak_temp[v]\n",
    "    point = [list(x) for x in zip(*[tau,T,P])]\n",
    "    points.append(point)\n",
    "\n",
    "x_data = []\n",
    "y_data = []\n",
    "z_data = []\n",
    "for velo in points:\n",
    "    for item in velo:\n",
    "        x_data.append(item[0]) # tau/dwell time\n",
    "        y_data.append(item[1]) # T\n",
    "        z_data.append(item[2]) # power\n",
    "        \n",
    "x_data, y_data, z_data = np.array(x_data), np.array(y_data), np.array(z_data)\n",
    "\n",
    "mask = y_data > 400\n",
    "x_data = x_data[mask]\n",
    "y_data = y_data[mask]\n",
    "z_data = z_data[mask]\n",
    "\n",
    "parameters, covariance = curve_fit(function, [x_data, y_data], z_data,  maxfev=100000)\n",
    "print(parameters)\n",
    "model_x_data = np.linspace(min(x_data), max(x_data), 30)\n",
    "model_y_data = np.linspace(min(y_data), max(y_data), 30)\n",
    "X, Y = np.meshgrid(model_x_data, model_y_data)\n",
    "Z = function(np.array([X, Y]), *parameters)\n",
    "\n",
    "z_predicted = function([x_data, y_data], *parameters)\n",
    "differences = np.subtract(z_data, z_predicted)\n",
    "squared_differences = np.square(differences)\n",
    "mse = squared_differences.mean()\n",
    "\n",
    "\n",
    "axes.plot_surface(X, Y, Z, cmap=cm.hot, alpha=0.2)\n",
    "\n",
    "# for i, v in enumerate(list(Dict_kappa_Si_avg.keys())):\n",
    "#     v_data = [np.log(int(v))] * len(Dict_peak_temp[v])\n",
    "#     p_data = [int(p) for p in power_used[i]]\n",
    "#     t_data = Dict_peak_temp[v]\n",
    "#     axes.scatter(p_data, v_data, t_data, s = 250)\n",
    "axes.scatter(x_data, y_data, z_data, s=500)\n",
    "    \n",
    "\n",
    "axes.set_title('Scatter Plot')\n",
    "axes.set_xlabel('tau/dwell time', fontsize=30, labelpad=40)\n",
    "axes.set_ylabel('Tpeak - Celsius',fontsize=30, labelpad=40)\n",
    "axes.set_zlabel('Power - W', fontsize=30, labelpad=40)\n",
    "axes.set_ylim(400, 1400)\n",
    "#axes.set_zlim(400, 1400)\n",
    "\n",
    "axes.tick_params(axis='both', which='major', labelsize=30)\n",
    "\n",
    "plt.show()\n",
    "print(mse)"
   ]
  },
  {
   "cell_type": "code",
   "execution_count": 161,
   "id": "0e360e0e",
   "metadata": {},
   "outputs": [],
   "source": [
    "import numpy as np\n",
    "from scipy.optimize import leastsq\n",
    "\n",
    "parameters_to_power = np.array([ 2.78578022e+00 , 4.05135921e-04 ,-2.72091616e+00 , 1.00170654e+00,\n",
    " -4.35336455e+00 , 7.70163967e+00 , 4.91353859e+01])\n",
    "\n",
    "def get_power_2(dwell, Tpeak):\n",
    "    lntau = np.log(dwell)\n",
    "    the_input = [lntau,Tpeak]\n",
    "    a, b, c, d, e, f, g= parameters_to_power\n",
    "    \n",
    "    return function(the_input, a, b, c, d, e, f, g)"
   ]
  },
  {
   "cell_type": "code",
   "execution_count": 162,
   "id": "429c3dd9",
   "metadata": {},
   "outputs": [
    {
     "data": {
      "text/plain": [
       "46.215339271727245"
      ]
     },
     "execution_count": 162,
     "metadata": {},
     "output_type": "execute_result"
    }
   ],
   "source": [
    "get_power_2(88200/352, 660)"
   ]
  },
  {
   "cell_type": "code",
   "execution_count": null,
   "id": "6fb0ed34",
   "metadata": {},
   "outputs": [],
   "source": []
  }
 ],
 "metadata": {
  "kernelspec": {
   "display_name": "Python 3 (ipykernel)",
   "language": "python",
   "name": "python3"
  },
  "language_info": {
   "codemirror_mode": {
    "name": "ipython",
    "version": 3
   },
   "file_extension": ".py",
   "mimetype": "text/x-python",
   "name": "python",
   "nbconvert_exporter": "python",
   "pygments_lexer": "ipython3",
   "version": "3.9.0"
  }
 },
 "nbformat": 4,
 "nbformat_minor": 5
}
