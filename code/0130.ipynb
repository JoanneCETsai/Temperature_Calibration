{
 "cells": [
  {
   "cell_type": "code",
   "execution_count": 332,
   "id": "4bea64d7",
   "metadata": {},
   "outputs": [],
   "source": [
    "%run \"curve_fit_.ipynb\"\n",
    "%run \"data_processing_.ipynb\" #HEADER_LEN,X_DIM,Y_DIM,X_left_boundry,X_right_boundry,Y_left_boundry,Y_right_boundry\n",
    "%run \"evaluation_functions_.ipynb\"\n",
    "%run \"fitting_functions_.ipynb\"\n",
    "%run \"get_temperature_.ipynb\"\n",
    "%run \"load_data_.ipynb\" # frame rate, shutter delay, pixel_size, and interseted position \n",
    "%run \"get_backbround_average_.ipynb\" \n",
    "%run \"frame_vs_temperature.ipynb\" # get_powers funciton"
   ]
  },
  {
   "cell_type": "code",
   "execution_count": 231,
   "id": "8e1b9934",
   "metadata": {},
   "outputs": [],
   "source": [
    "folder = \"/Users/chiaentsai/Library/CloudStorage/Box-Box/MURI-SARA/Thermoreflectance/Joanne/CHESS/0130_2023\""
   ]
  },
  {
   "cell_type": "code",
   "execution_count": 232,
   "id": "e8c5f8db",
   "metadata": {},
   "outputs": [
    {
     "name": "stdout",
     "output_type": "stream",
     "text": [
      "[4, 28, 2, 2, 18, 2, 12, 1, 8, 5, 41]\n"
     ]
    }
   ],
   "source": [
    "all_files, fivemm_files, velocity_path_list, velocity_list, used_frame_num = get_needed_files(folder)\n",
    "back_intensity_list = get_background_average(fivemm_files)\n",
    "power_list = get_powers(all_files)"
   ]
  },
  {
   "cell_type": "code",
   "execution_count": 233,
   "id": "61faf48d",
   "metadata": {},
   "outputs": [],
   "source": [
    "# v_list = ['103','13', '155', '190','234','30','352','45', '68']\n",
    "v_list = ['103','13', '155', '190','20', '234','30','352','45', '68', '9']\n",
    "Dict_1 = dict((k, fivemm_files[k][5:]) for k in v_list) # not included 0W files\n",
    "back_intensity_list_1 = []\n",
    "for key in fivemm_files:\n",
    "    if key in v_list:\n",
    "        index = list(fivemm_files).index(key)\n",
    "        back_intensity_list_1.append(back_intensity_list[index])\n",
    "dRoverR_1 = []\n",
    "for i, v in enumerate(list(Dict_1.keys())):\n",
    "    con = []\n",
    "    for file in Dict_1[v]:\n",
    "        val = get_peak_dRoverR(file, back_intensity_list_1[i], gaus, gaus)\n",
    "        con.append(val)\n",
    "    dRoverR_1.append(con)"
   ]
  },
  {
   "cell_type": "code",
   "execution_count": 235,
   "id": "03b5544e",
   "metadata": {},
   "outputs": [],
   "source": [
    "power_used = {}\n",
    "for i in range(len(velocity_list)):\n",
    "    [v] = velocity_list[i]\n",
    "    power_used[v] = [int(j) for j in power_list[i][1:]]\n",
    "    "
   ]
  },
  {
   "cell_type": "markdown",
   "id": "f0add642",
   "metadata": {},
   "source": [
    "### Plot all frames vs dR/R"
   ]
  },
  {
   "cell_type": "code",
   "execution_count": null,
   "id": "6eaa691e",
   "metadata": {},
   "outputs": [],
   "source": [
    "for i, (key, value) in enumerate(all_files.items()):\n",
    "    power = [int(x) for x in power_list[i]][1:]\n",
    "    files = all_files[key]\n",
    "    \n",
    "    for p in power:\n",
    "        dR_list = []\n",
    "        for file in tqdm(files):\n",
    "            if \"_{}W_\".format(p) in str(file):\n",
    "                print(str(file))\n",
    "                dR = get_peak_dRoverR(file, back_intensity_list[i], gaus, gaus)\n",
    "                dR_list.append(dR)\n",
    "        \n",
    "        x = [frame for frame in range(0,len(dR_list))] \n",
    "         \n",
    "        plt.plot(x, dR_list, marker=\"o\")\n",
    "        plt.title(\"{}mm per sec\".format(key))\n",
    "        plt.xlabel(\"frame\")\n",
    "        plt.ylabel(\"dR/R\")\n",
    "        plt.ylim(0,0.4)\n",
    "        \n",
    "    plt.savefig(\"/Users/chiaentsai/Desktop/lab/Temperature_Calibration/0130_dRoverR_vs_frame/{}mmpersec.png\".format(key), format=\"PNG\")\n",
    "    plt.close()"
   ]
  },
  {
   "cell_type": "markdown",
   "id": "12370cf2",
   "metadata": {},
   "source": [
    "### Plot position vs temperature"
   ]
  },
  {
   "cell_type": "code",
   "execution_count": null,
   "id": "39b97caf",
   "metadata": {},
   "outputs": [],
   "source": [
    "for i, (key, value) in enumerate(all_files.items()):\n",
    "    power = [int(x) for x in power_list[i]][1:]\n",
    "    files = all_files[key]\n",
    "    \n",
    "    for p in power:\n",
    "        dR_list = []\n",
    "        temp_list = []\n",
    "        for file in tqdm(files):\n",
    "            if \"_{}W_\".format(p) in str(file):\n",
    "                print(str(file))\n",
    "                dR = get_peak_dRoverR(file, back_intensity_list[i], gaus, gaus)\n",
    "                dR_list.append(dR)\n",
    "                temp_list.append(dR/0.00016+21)\n",
    "                \n",
    "        #convert the frame number to position \n",
    "        \n",
    "        x = [frame for frame in range(0,len(dR_list))] \n",
    "        #position = [(frame-2.7)*int(key)/92.59 for frame in range(1,len(temp_list)+1)] why?\n",
    "        position = [(frame/frame_rate-shutter_delay)*int(key) for frame in range(1,len(temp_list)+1)]\n",
    "        \n",
    "        plt.plot(position, temp_list, marker=\"o\")\n",
    "\n",
    "        #limit temperature to 1500C\n",
    "        plt.ylim(0,1500)\n",
    "        \n",
    "        #limit position to 1-10mm\n",
    "        plt.xlim(0,10)\n",
    "\n",
    "        plt.xlabel(\"position (mm)\")\n",
    "        plt.ylabel(\"Temperature (Celsius)\")\n",
    "        plt.title(\"{}mm per sec\".format(key))\n",
    "\n",
    "    plt.savefig(\"/Users/chiaentsai/Desktop/lab/Temperature_Calibration/0130_Temp_vs_position/{}mmpersec.png\".format(key), format=\"PNG\")\n",
    "    plt.close()"
   ]
  },
  {
   "cell_type": "markdown",
   "id": "ed49cdee",
   "metadata": {},
   "source": [
    "### Plot all powers dR/R for each velocity"
   ]
  },
  {
   "cell_type": "code",
   "execution_count": 236,
   "id": "eed9f307",
   "metadata": {},
   "outputs": [],
   "source": [
    "for i, v in enumerate(list(Si_melting_W.keys())):\n",
    "    plt.plot(power_used[v], dRoverR_1[i], '.')\n",
    "    plt.xlabel(\"power\")\n",
    "    plt.ylabel(\"dR/R\")\n",
    "    plt.title(\"{}mm per sec\".format(v))\n",
    "    plt.savefig(\"/Users/chiaentsai/Desktop/lab/Temperature_Calibration/0130_dRoverR_vs_power/{}mm.png\".format(v), format=\"PNG\")\n",
    "    plt.close()\n"
   ]
  },
  {
   "cell_type": "markdown",
   "id": "a75522c7",
   "metadata": {},
   "source": [
    "### get kappa (use glod and Si melting power)"
   ]
  },
  {
   "cell_type": "code",
   "execution_count": 276,
   "id": "6253d52b",
   "metadata": {},
   "outputs": [
    {
     "data": {
      "text/plain": [
       "0.00019880482432597146"
      ]
     },
     "execution_count": 276,
     "metadata": {},
     "output_type": "execute_result"
    }
   ],
   "source": [
    "# gold and Si melt\n",
    "import scipy.optimize\n",
    "kappa_avg = []\n",
    "for i, v in enumerate(list(Si_melting_W.keys())):\n",
    "    popt, pcov = curve_fit(expo, power_used[v], dRoverR_1[i], p0 = [1, 0.0000000084, 1], maxfev = 10000)\n",
    "    #a, b, c = popt\n",
    "    plt.plot(power_used[v], dRoverR_1[i], '.')\n",
    "    y_pred = [expo(j, *popt) for j in power_used[v]]\n",
    "    plt.plot(power_used[v], y_pred)\n",
    "    plt.xlabel(\"power\")\n",
    "    plt.ylabel(\"dR/R\")\n",
    "    plt.title(\"{}mm per sec\".format(v))\n",
    "    plt.savefig(\"/Users/chiaentsai/Desktop/lab/Temperature_Calibration/0130_dRoverR_fit_figure/{}mm.png\".format(v), format=\"PNG\")\n",
    "    plt.close()\n",
    "    \n",
    "    \n",
    "    fun = lambda k: (expo(Si_melting_W[v], *popt) - (1410-21)*k)**2 + (expo(gold_melting_W[v], *popt) - (1064-21)*k)**2\n",
    "    res = scipy.optimize.minimize(fun, 0.00016)\n",
    "    temp_pred = [expo(j, *popt)/res.x for j in power_used[v]]\n",
    "    plt.plot(power_used[v], temp_pred)\n",
    "    \n",
    "    plt.plot(Si_melting_W[v], 1410, marker=\"o\",color = 'r', label='Si')\n",
    "    plt.plot(gold_melting_W[v], 1064, marker=\"o\", color = 'g', label='gold')\n",
    "    plt.legend(loc=\"upper left\")\n",
    "    plt.xlabel(\"power\")\n",
    "    plt.ylabel(\"temperature\")\n",
    "    plt.title(\"{}mm per sec\".format(v))\n",
    "    plt.savefig(\"/Users/chiaentsai/Desktop/lab/Temperature_Calibration/0130_gold_Si_fit/{}mm.png\".format(v), format=\"PNG\")\n",
    "    plt.close()\n",
    "    \n",
    "#     f = expo(Si_melting_W[v], *popt)\n",
    "#     gold_m = 1410\n",
    "#     dT = gold_m - 21\n",
    "#     kappa = f / dT\n",
    "    kappa_avg.append(float(res.x))\n",
    "\n",
    "    \n",
    "Dict_kappa_avg = dict(zip(list(Si_melting_W.keys()),kappa_avg))\n",
    "\n",
    "plt.plot(list(Si_melting_W.keys()), kappa_avg, '.')\n",
    "plt.xlabel(\"velocity (mm/s)\")\n",
    "plt.ylabel(\"kappa value\")\n",
    "plt.title(\"kappa\")\n",
    "plt.savefig(\"/Users/chiaentsai/Desktop/lab/Temperature_Calibration/0130_kappa_gold&Si.png\", format=\"PNG\")\n",
    "\n",
    "con = 0\n",
    "for i, v in enumerate(Dict_kappa_avg.keys()):\n",
    "    con = con + Dict_kappa_avg[v]\n",
    "kappa_avg = con / len(Dict_kappa_avg)\n",
    "kappa_avg"
   ]
  },
  {
   "cell_type": "code",
   "execution_count": 277,
   "id": "1d4e61d4",
   "metadata": {},
   "outputs": [],
   "source": [
    "peak_temp = []\n",
    "for i, v in enumerate(list(Si_melting_W.keys())):\n",
    "    tem = []\n",
    "    for r in dRoverR_1[i]:\n",
    "        t = get_peak_Temp(r, Dict_kappa_avg[v])\n",
    "#         t = get_peak_Temp(r,avg_kappa)\n",
    "#         t = get_peak_Temp(r,0.00016498400434141028)\n",
    "#         t = get_peak_Temp(r, Dict_kappa_gold_avg[v])\n",
    "#         t = get_peak_Temp(r, avg_kappa_2)\n",
    "#         t = get_peak_Temp(r, Dict_kappa_avg[v])\n",
    "        tem.append(t)\n",
    "    peak_temp.append(tem)\n",
    "    \n",
    "Dict_peak_temp = dict(zip(list(Si_melting_W.keys()),peak_temp))"
   ]
  },
  {
   "cell_type": "markdown",
   "id": "8206e7ab",
   "metadata": {},
   "source": [
    "# plot temperature vs power"
   ]
  },
  {
   "cell_type": "code",
   "execution_count": 278,
   "id": "f01ee870",
   "metadata": {},
   "outputs": [
    {
     "name": "stdout",
     "output_type": "stream",
     "text": [
      "Using matplotlib backend: MacOSX\n"
     ]
    }
   ],
   "source": [
    "%matplotlib\n",
    "for i,v in enumerate(Dict_peak_temp):\n",
    "    plt.plot(power_used[v], Dict_peak_temp[v], label = \"{}mm per sec\".format(v))\n",
    "    plt.title(\"Peak Temperature vs Power\")\n",
    "    plt.xlabel(\"power (W)\")\n",
    "    plt.ylabel(\"Temperature (Celsius)\")\n",
    "    plt.legend()\n",
    "    plt.savefig(\"/Users/chiaentsai/Desktop/lab/Temperature_Calibration/0130_temp_vs_power.png\", format=\"PNG\")"
   ]
  },
  {
   "cell_type": "markdown",
   "id": "fe6cfec1",
   "metadata": {},
   "source": [
    "# fit plane f(power, log10 velocity) = Tpeak "
   ]
  },
  {
   "cell_type": "code",
   "execution_count": 279,
   "id": "30323035",
   "metadata": {},
   "outputs": [],
   "source": [
    "v_fit_list = ['103','13', '155', '190','234','30','352','45', '68']\n",
    "\n"
   ]
  },
  {
   "cell_type": "markdown",
   "id": "589a1b2d",
   "metadata": {},
   "source": [
    "### The one I sent to them"
   ]
  },
  {
   "cell_type": "code",
   "execution_count": 367,
   "id": "b995472f",
   "metadata": {},
   "outputs": [
    {
     "name": "stdout",
     "output_type": "stream",
     "text": [
      "Using matplotlib backend: MacOSX\n",
      "[ 5.70788768e+02 -1.04069856e+02 -8.74224036e+02  9.94091340e+01\n",
      "  1.61205792e+03  1.11501154e+00  2.26003163e-02  4.29166259e+00]\n",
      "1091.3679397605472\n"
     ]
    },
    {
     "name": "stderr",
     "output_type": "stream",
     "text": [
      "/var/folders/f7/kn96xdj93ss0t67sn2q10n6c0000gn/T/ipykernel_4578/2840690562.py:25: MatplotlibDeprecationWarning: Axes3D(fig) adding itself to the figure is deprecated since 3.4. Pass the keyword argument auto_add_to_figure=False and use fig.add_axes(ax) to suppress this warning. The default value of auto_add_to_figure will change to False in mpl3.5 and True values will no longer work in 3.6.  This is consistent with other Axes classes.\n",
      "  axes = Axes3D(f)\n"
     ]
    }
   ],
   "source": [
    "import numpy, scipy, scipy.optimize\n",
    "import matplotlib\n",
    "from mpl_toolkits.mplot3d import  Axes3D\n",
    "from matplotlib import cm # to colormap 3D surfaces from blue to red\n",
    "import matplotlib.pyplot as plt\n",
    "%matplotlib\n",
    "\n",
    "# def function(data, b, c, d, e, f):\n",
    "#     x = np.array(data[0])\n",
    "#     y = np.array(data[1])\n",
    "#     return (b*y+c)*(x)**(d*y**2+e*y+f)\n",
    "\n",
    "def function_Tpeak(data, a, b, c, d, e, f, g, h):\n",
    "    x = np.array(data[0])\n",
    "    y = np.array(data[1])\n",
    "    return (a+b*y+h*y**2)*x**(f+g*y) + (c+d*y)*x + e\n",
    "\n",
    "# def function(data, a, b, c, d, e, f, g, h, i, j):\n",
    "#     x = np.array(data[0])\n",
    "#     y = np.array(data[1])\n",
    "#     return (a+b*y+h*y**2)*x**(f+g*y) + (c+d*y)*x + e +i*x**2 + j*y**2\n",
    "\n",
    "f = plt.figure(figsize=(20.0, 20.0), dpi=20)\n",
    "matplotlib.pyplot.grid(True)\n",
    "axes = Axes3D(f)\n",
    "\n",
    "points = []\n",
    "for i, v in enumerate(v_fit_list):\n",
    "    P = [int(p) for p in power_used[v]]\n",
    "    V = [np.log(int(v))] * len(Dict_peak_temp[v])\n",
    "    T = Dict_peak_temp[v]\n",
    "    point = [list(x) for x in zip(*[P,V,T])]\n",
    "    points.append(point)\n",
    "\n",
    "x_data = []\n",
    "y_data = []\n",
    "z_data = []\n",
    "for velo in points:\n",
    "    for item in velo:\n",
    "        x_data.append(item[0]) # power\n",
    "        y_data.append(item[1]) # velocity\n",
    "        z_data.append(item[2]) # temperature\n",
    "        \n",
    "x_data, y_data, z_data = np.array(x_data), np.array(y_data), np.array(z_data)\n",
    "\n",
    "mask = z_data > 400\n",
    "x_data = x_data[mask]\n",
    "y_data = y_data[mask]\n",
    "z_data = z_data[mask]\n",
    "\n",
    "parameters_Tpeak, covariance = curve_fit(function_Tpeak, [x_data, y_data], z_data,  maxfev=1000000)\n",
    "print(parameters_Tpeak)\n",
    "model_x_data = np.linspace(min(x_data), max(x_data), 30)\n",
    "model_y_data = np.linspace(min(y_data), max(y_data), 30)\n",
    "X, Y = np.meshgrid(model_x_data, model_y_data)\n",
    "Z = function_Tpeak(np.array([X, Y]), *parameters_Tpeak)\n",
    "\n",
    "z_predicted = function_Tpeak([x_data, y_data], *parameters_Tpeak)\n",
    "differences = np.subtract(z_data, z_predicted)\n",
    "squared_differences = np.square(differences)\n",
    "mse = squared_differences.mean()\n",
    "\n",
    "\n",
    "axes.plot_surface(X, Y, Z, cmap=cm.hot, alpha=0.2)\n",
    "\n",
    "# for i, v in enumerate(list(Dict_kappa_Si_avg.keys())):\n",
    "#     v_data = [np.log(int(v))] * len(Dict_peak_temp[v])\n",
    "#     p_data = [int(p) for p in power_used[i]]\n",
    "#     t_data = Dict_peak_temp[v]\n",
    "#     axes.scatter(p_data, v_data, t_data, s = 250)\n",
    "axes.scatter(x_data, y_data, z_data, s=500)\n",
    "    \n",
    "\n",
    "axes.set_title('Scatter Plot')\n",
    "axes.set_xlabel('power - W', fontsize=30, labelpad=40)\n",
    "axes.set_ylabel('ln(velocity) - mm/s',fontsize=30, labelpad=40)\n",
    "axes.set_zlabel('peak temperature - C', fontsize=30, labelpad=40)\n",
    "axes.set_zlim(400, 1400)\n",
    "\n",
    "axes.tick_params(axis='both', which='major', labelsize=30)\n",
    "\n",
    "plt.show()\n",
    "print(mse)"
   ]
  },
  {
   "cell_type": "markdown",
   "id": "442854ef",
   "metadata": {},
   "source": [
    "### converter"
   ]
  },
  {
   "cell_type": "code",
   "execution_count": 368,
   "id": "7ce9ee62",
   "metadata": {},
   "outputs": [],
   "source": [
    "def get_power(dwell, Tpeak):\n",
    "    v = 88200/dwell\n",
    "    lnv = np.log(v)\n",
    "    a, b, c, d, e, f, g, h= parameters_Tpeak\n",
    "    eq1 = lambda x: (a+b*lnv+h*lnv**2)*x**(f+g*lnv) + (c+d*lnv)*x + e  - Tpeak\n",
    "    sol = leastsq(eq1, 100)\n",
    "    #return float(sol[0], sol[1]), float(sol[1])\n",
    "    return float(sol[0])"
   ]
  },
  {
   "cell_type": "code",
   "execution_count": 369,
   "id": "d1ba2cd1",
   "metadata": {},
   "outputs": [
    {
     "data": {
      "text/plain": [
       "31.02563017934049"
      ]
     },
     "execution_count": 369,
     "metadata": {},
     "output_type": "execute_result"
    }
   ],
   "source": [
    "get_power(88200/13, 1064)"
   ]
  },
  {
   "cell_type": "code",
   "execution_count": 370,
   "id": "efef035b",
   "metadata": {},
   "outputs": [],
   "source": [
    "def get_peakT_from_fitting(dwell, power):\n",
    "    v = 88200/dwell\n",
    "    lnv = np.log(v)\n",
    "    return function_Tpeak([power, lnv], *parameters_Tpeak)"
   ]
  },
  {
   "cell_type": "markdown",
   "id": "f971638d",
   "metadata": {},
   "source": [
    "# lateral temperature profile"
   ]
  },
  {
   "cell_type": "code",
   "execution_count": 348,
   "id": "4f7cfd5c",
   "metadata": {},
   "outputs": [
    {
     "name": "stderr",
     "output_type": "stream",
     "text": [
      "/Users/chiaentsai/.virtualenvs/venv/lib/python3.9/site-packages/scipy/optimize/_minpack_py.py:833: OptimizeWarning: Covariance of the parameters could not be estimated\n",
      "  warnings.warn('Covariance of the parameters could not be estimated',\n"
     ]
    }
   ],
   "source": [
    "dRoverR_line = [] # Use v_fit_list. It only contains velocity in v_fit_list.\n",
    "for i, v in enumerate(list(Dict_1.keys())):\n",
    "    con = []\n",
    "    if v in v_fit_list:\n",
    "        for file in Dict_1[v]:\n",
    "            val = get_laterial_fit_line(file, back_intensity_list[i], two_lorentz)\n",
    "            con.append(val)\n",
    "        dRoverR_line.append(con)\n",
    "    \n",
    "\n",
    "temp_line = []    \n",
    "for i, v in enumerate(v_fit_list):\n",
    "    con_2 = []\n",
    "    velo = dRoverR_line[i]\n",
    "    for R in velo:\n",
    "        temp = get_peak_Temp(R, Dict_kappa_avg[v])\n",
    "        con_2.append(temp)\n",
    "    temp_line.append(con_2)\n",
    "    \n",
    "parameters_all = []\n",
    "for i, v in enumerate(v_fit_list):\n",
    "    con_3 = []\n",
    "    velo = temp_line[i]\n",
    "    for t in velo:\n",
    "        # [height, x_0, sigma1, sigma2] = fit(two_lorentz, t)\n",
    "        par = fit(two_lorentz, t)\n",
    "        con_3.append(par)\n",
    "    parameters_all.append(con_3)"
   ]
  },
  {
   "cell_type": "markdown",
   "id": "9f99d56c",
   "metadata": {},
   "source": [
    "# fit sigma1, sigma2 plane"
   ]
  },
  {
   "cell_type": "code",
   "execution_count": 350,
   "id": "6a1f8e98",
   "metadata": {},
   "outputs": [
    {
     "name": "stdout",
     "output_type": "stream",
     "text": [
      "Using matplotlib backend: MacOSX\n",
      "[ 1.39414076e-04  7.46931175e-01  1.38827416e-04  5.10230546e-01\n",
      " -2.28760101e+01  8.34286053e+01  7.11685977e+02]\n",
      "[ 2.32816384e-39 -4.68097114e-01  1.67908387e-39  1.03278520e+02\n",
      " -2.92639499e+00  1.38600542e+01  2.12078922e+02]\n",
      "69739.00889509195\n",
      "299.34752847672013\n"
     ]
    }
   ],
   "source": [
    "import numpy, scipy, scipy.optimize\n",
    "import matplotlib\n",
    "from mpl_toolkits.mplot3d import  Axes3D\n",
    "from matplotlib import cm # to colormap 3D surfaces from blue to red\n",
    "import matplotlib.pyplot as plt\n",
    "%matplotlib\n",
    "\n",
    "beamwidth = 88200\n",
    "\n",
    "# def function(data, b, c, d, e, f):\n",
    "#     x = np.array(data[0])\n",
    "#     y = np.array(data[1])\n",
    "#     return (b*y+c)*(x)**(d*y**2+e*y+f)\n",
    "\n",
    "# def function(data, a, b, c, d, e, f, g, h):\n",
    "#     x = np.array(data[0])\n",
    "#     y = np.array(data[1])\n",
    "#     return (a+b*y+h*y**2)*x**(f+g*y) + (c+d*y)*x + e\n",
    "\n",
    "# def function(data, a, b, c, d, e, f, g, h, i, j):\n",
    "#     x = np.array(data[0])\n",
    "#     y = np.array(data[1])\n",
    "#     return (a+b*y+h*y**2)*x**(f+g*y) + (c+d*y)*x + e +i*x**2 + j*y**2\n",
    "\n",
    "def function_sigma(data, a, b, c, d, e, f, g):\n",
    "    x = np.array(data[0])\n",
    "    y = np.array(data[1])\n",
    "    return (a*x**b)*(c*y**d)+e*x+f*y+g\n",
    "\n",
    "points_1 = []\n",
    "points_2 = []\n",
    "\n",
    "for i, v in enumerate(v_fit_list):\n",
    "    T = Dict_peak_temp[v]\n",
    "    P = [int(p) for p in power_used[v]]\n",
    "    # tau = [np.log(beamwidth / int(v))] * len(Dict_peak_temp[v])\n",
    "    lnv = [np.log(int(v))] * len(Dict_peak_temp[v])\n",
    "    sigma1 = [abs(el[2]) for el in parameters_all[i]]\n",
    "    sigma2 = [abs(el[3]) for el in parameters_all[i]]\n",
    "    # point1 = [list(x) for x in zip(*[P,tau,sigma1,T])]\n",
    "    point1 = [list(x) for x in zip(*[P,lnv,sigma1,T])]\n",
    "    points_1.append(point1)\n",
    "    # point2 = [list(x) for x in zip(*[P,tau,sigma2,T])]\n",
    "    point2 = [list(x) for x in zip(*[P,lnv,sigma2,T])]\n",
    "    points_2.append(point2)\n",
    "\n",
    "    \n",
    "x_data = []\n",
    "y_data = []\n",
    "t_data = []\n",
    "z_data_1 = []\n",
    "z_data_2 = []\n",
    "\n",
    "for velo in points_1:\n",
    "    for item in velo:\n",
    "        x_data.append(item[0]) # power\n",
    "        y_data.append(item[1]) # tau\n",
    "        z_data_1.append(item[2]) # sigma1\n",
    "        t_data.append(item[3]) # Tpeak\n",
    "        \n",
    "\n",
    "for velo in points_2:\n",
    "    for item in velo:\n",
    "        z_data_2.append(item[2]) # sigma2\n",
    "        \n",
    "        \n",
    "x_data, y_data, z_data_1, z_data_2, t_data = np.array(x_data), np.array(y_data), np.array(z_data_1), np.array(z_data_2), np.array(t_data)\n",
    "\n",
    "\n",
    "mask = t_data > 400\n",
    "x_data = x_data[mask]\n",
    "y_data = y_data[mask]\n",
    "z_data_1 = z_data_1[mask]\n",
    "z_data_2 = z_data_2[mask]\n",
    "\n",
    "# mask_2 = z_data_1 < 1000\n",
    "# x_data = x_data[mask_2]\n",
    "# y_data = y_data[mask_2]\n",
    "# z_data_1 = z_data_1[mask_2]\n",
    "# z_data_2 = z_data_2[mask_2]\n",
    "\n",
    "zscore_1 = np.abs(stats.zscore(z_data_1))\n",
    "mask_2 = zscore_1 < 1\n",
    "x_data = x_data[mask_2]\n",
    "y_data = y_data[mask_2]\n",
    "z_data_1 = z_data_1[mask_2]\n",
    "z_data_2 = z_data_2[mask_2]\n",
    "\n",
    "zscore_2 = np.abs(stats.zscore(z_data_2))\n",
    "mask_3 = zscore_2 < 1\n",
    "x_data = x_data[mask_3]\n",
    "y_data = y_data[mask_3]\n",
    "z_data_1 = z_data_1[mask_3]\n",
    "z_data_2 = z_data_2[mask_3]\n",
    "\n",
    "\n",
    "parameters_sigma1, covariance_1 = curve_fit(function, [x_data, y_data], z_data_1,  maxfev=1000000)\n",
    "parameters_sigma2, covariance_2 = curve_fit(function, [x_data, y_data], z_data_2,  maxfev=1000000)\n",
    "\n",
    "print(parameters_sigma1)\n",
    "print(parameters_sigma2)\n",
    "\n",
    "model_x_data = np.linspace(min(x_data), max(x_data), 100)\n",
    "model_y_data = np.linspace(min(y_data), max(y_data), 100)\n",
    "X, Y = np.meshgrid(model_x_data, model_y_data)\n",
    "Z1 = function(np.array([X, Y]), *parameters_sigma1)\n",
    "Z2 = function(np.array([X, Y]), *parameters_sigma2)\n",
    "\n",
    "z_predicted_1 = function([x_data, y_data], *parameters_sigma1)\n",
    "z_predicted_2 = function([x_data, y_data], *parameters_sigma2)\n",
    "\n",
    "differences_1 = np.subtract(z_data_1, z_predicted_1)\n",
    "differences_2 = np.subtract(z_data_2, z_predicted_2)\n",
    "\n",
    "squared_differences_1 = np.square(differences_1)\n",
    "squared_differences_2 = np.square(differences_2)\n",
    "\n",
    "mse_1 = squared_differences_1.mean()\n",
    "mse_2 = squared_differences_2.mean()\n",
    "print(mse_1)\n",
    "print(mse_2)"
   ]
  },
  {
   "cell_type": "code",
   "execution_count": 79,
   "id": "fff85832",
   "metadata": {},
   "outputs": [
    {
     "data": {
      "text/plain": [
       "8"
      ]
     },
     "execution_count": 79,
     "metadata": {},
     "output_type": "execute_result"
    }
   ],
   "source": [
    "# len(temp_line[0])\n",
    "\n",
    "# %matplotlib\n",
    "# a,b,c,d = fit(two_lorentz, temp_line[8][5])\n",
    "# plt.plot(temp_line[8][5])\n",
    "# # plt.plot(np.linspace(0,149,150),temp_line[0][5] )\n",
    "# plt.plot(np.linspace(0,149,150), two_lorentz(np.linspace(0,149,150),a,b,c,d))\n",
    "# plt.xlabel(\"pixel\")\n",
    "# plt.ylabel(\"Temperature (Celsius)\")\n",
    "# print(a,b,c,d)\n",
    "\n",
    "# import statistics \n",
    "# print(statistics.mean(z_data_1))\n",
    "# print(statistics.mean(z_data_2))\n",
    "# print(statistics.stdev(z_data_1))\n",
    "# print(statistics.stdev(z_data_2))\n",
    "# print(max(z_data_1))\n",
    "# print(min(z_data_1))\n",
    "# print(max(z_data_2))\n",
    "# print(min(z_data_2))\n",
    "# print(len(z_data_1))\n",
    "# plt.plot(z_data_2)"
   ]
  },
  {
   "cell_type": "code",
   "execution_count": 351,
   "id": "2559d86b",
   "metadata": {},
   "outputs": [
    {
     "name": "stdout",
     "output_type": "stream",
     "text": [
      "69739.00889509195\n"
     ]
    },
    {
     "name": "stderr",
     "output_type": "stream",
     "text": [
      "/var/folders/f7/kn96xdj93ss0t67sn2q10n6c0000gn/T/ipykernel_4578/4082552612.py:3: MatplotlibDeprecationWarning: Axes3D(fig) adding itself to the figure is deprecated since 3.4. Pass the keyword argument auto_add_to_figure=False and use fig.add_axes(ax) to suppress this warning. The default value of auto_add_to_figure will change to False in mpl3.5 and True values will no longer work in 3.6.  This is consistent with other Axes classes.\n",
      "  axes1 = Axes3D(f1)\n"
     ]
    }
   ],
   "source": [
    "f1 = plt.figure(figsize=(20.0, 20.0), dpi=20)\n",
    "matplotlib.pyplot.grid(True)\n",
    "axes1 = Axes3D(f1)\n",
    "\n",
    "axes1.plot_surface(X, Y, Z1, cmap=cm.hot, alpha=0.2)\n",
    "axes1.scatter(x_data, y_data, z_data_1, s=500)\n",
    "\n",
    "axes1.set_title('Scatter Plot')\n",
    "axes1.set_xlabel('power - W', fontsize=30, labelpad=40)\n",
    "axes1.set_ylabel('ln(v)',fontsize=30, labelpad=40)\n",
    "axes1.set_zlabel('sigma1', fontsize=30, labelpad=40)\n",
    "\n",
    "axes1.tick_params(axis='both', which='major', labelsize=30)\n",
    " \n",
    "plt.show()\n",
    "print(mse_1)"
   ]
  },
  {
   "cell_type": "code",
   "execution_count": 352,
   "id": "2e147572",
   "metadata": {},
   "outputs": [
    {
     "name": "stdout",
     "output_type": "stream",
     "text": [
      "299.34752847672013\n"
     ]
    },
    {
     "name": "stderr",
     "output_type": "stream",
     "text": [
      "/var/folders/f7/kn96xdj93ss0t67sn2q10n6c0000gn/T/ipykernel_4578/266566414.py:3: MatplotlibDeprecationWarning: Axes3D(fig) adding itself to the figure is deprecated since 3.4. Pass the keyword argument auto_add_to_figure=False and use fig.add_axes(ax) to suppress this warning. The default value of auto_add_to_figure will change to False in mpl3.5 and True values will no longer work in 3.6.  This is consistent with other Axes classes.\n",
      "  axes2 = Axes3D(f2)\n"
     ]
    }
   ],
   "source": [
    "f2 = plt.figure(figsize=(20.0, 20.0), dpi=20)\n",
    "matplotlib.pyplot.grid(True)\n",
    "axes2 = Axes3D(f2)\n",
    "\n",
    "axes2.plot_surface(X, Y, Z2, cmap=cm.hot, alpha=0.2)\n",
    "axes2.scatter(x_data, y_data, z_data_2, s=500)\n",
    "\n",
    "axes2.set_title('Scatter Plot')\n",
    "axes2.set_xlabel('power - W', fontsize=30, labelpad=40)\n",
    "axes2.set_ylabel('ln(v)',fontsize=30, labelpad=40)\n",
    "axes2.set_zlabel('sigma2', fontsize=30, labelpad=40)\n",
    "\n",
    "axes2.tick_params(axis='both', which='major', labelsize=30)\n",
    "\n",
    "plt.show()\n",
    "print(mse_2)"
   ]
  },
  {
   "cell_type": "markdown",
   "id": "4ad583a2",
   "metadata": {},
   "source": [
    "# converter"
   ]
  },
  {
   "cell_type": "code",
   "execution_count": 389,
   "id": "521b0e3f",
   "metadata": {},
   "outputs": [],
   "source": [
    "def get_sigma1(dwell, power):\n",
    "    v = 88200/dwell\n",
    "    lnv = np.log(v)\n",
    "    [a,b,c,d,e,f,g] = [i for i in parameters_sigma1]\n",
    "    return function_sigma([power, lnv], a,b,c,d,e,f,g)\n",
    "\n",
    "def get_sigma2(dwell, power):\n",
    "    v = beamwidth/dwell\n",
    "    lnv = np.log(v)\n",
    "    [a,b,c,d,e,f,g] = [i for i in parameters_sigma2]\n",
    "    return function_sigma([power, lnv], a,b,c,d,e,f,g)\n",
    "\n",
    "def get_lateral_profile(dwell, power, distance_from_center):\n",
    "    v = beamwidth/dwell\n",
    "    lnv = np.log(v)\n",
    "    x = np.linspace(-150,149,300) #pixel\n",
    "    y = two_lorentz(x, get_peakT_from_fitting(dwell, power), 0, get_sigma1(dwell, power), get_sigma2(dwell, power))\n",
    "    plt.plot(x * pixel_size, y)\n",
    "    \n",
    "    "
   ]
  },
  {
   "cell_type": "code",
   "execution_count": 391,
   "id": "40de0f0c",
   "metadata": {},
   "outputs": [
    {
     "name": "stderr",
     "output_type": "stream",
     "text": [
      "2023-03-05 19:27:33.884 Python[4578:124168] _TIPropertyValueIsValid called with 4 on nil context!\n",
      "2023-03-05 19:27:33.884 Python[4578:124168] imkxpc_getApplicationProperty:reply: called with incorrect property value 4, bailing.\n",
      "2023-03-05 19:27:33.884 Python[4578:124168] Text input context does not respond to _valueForTIProperty:\n",
      "2023-03-05 19:27:33.904 Python[4578:124168] _TIPropertyValueIsValid called with 4 on nil context!\n",
      "2023-03-05 19:27:33.904 Python[4578:124168] imkxpc_getApplicationProperty:reply: called with incorrect property value 4, bailing.\n",
      "2023-03-05 19:27:33.904 Python[4578:124168] Text input context does not respond to _valueForTIProperty:\n",
      "2023-03-05 19:27:41.140 Python[4578:124168] _TIPropertyValueIsValid called with 4 on nil context!\n",
      "2023-03-05 19:27:41.140 Python[4578:124168] imkxpc_getApplicationProperty:reply: called with incorrect property value 4, bailing.\n",
      "2023-03-05 19:27:41.140 Python[4578:124168] Text input context does not respond to _valueForTIProperty:\n",
      "2023-03-05 19:27:41.142 Python[4578:124168] _TIPropertyValueIsValid called with 4 on nil context!\n",
      "2023-03-05 19:27:41.142 Python[4578:124168] imkxpc_getApplicationProperty:reply: called with incorrect property value 4, bailing.\n",
      "2023-03-05 19:27:41.142 Python[4578:124168] Text input context does not respond to _valueForTIProperty:\n"
     ]
    }
   ],
   "source": [
    "get_lateral_profile(88200/103, 27, 0)"
   ]
  },
  {
   "cell_type": "code",
   "execution_count": null,
   "id": "6c1df668",
   "metadata": {},
   "outputs": [],
   "source": []
  }
 ],
 "metadata": {
  "kernelspec": {
   "display_name": "Python 3 (ipykernel)",
   "language": "python",
   "name": "python3"
  },
  "language_info": {
   "codemirror_mode": {
    "name": "ipython",
    "version": 3
   },
   "file_extension": ".py",
   "mimetype": "text/x-python",
   "name": "python",
   "nbconvert_exporter": "python",
   "pygments_lexer": "ipython3",
   "version": "3.9.0"
  },
  "vscode": {
   "interpreter": {
    "hash": "05a9d8f434e6f97949f116bb3fd6e0132cb85e41e1947128ba85095efa1eda1d"
   }
  }
 },
 "nbformat": 4,
 "nbformat_minor": 5
}
