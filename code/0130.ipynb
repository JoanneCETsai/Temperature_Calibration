{
 "cells": [
  {
   "cell_type": "code",
   "execution_count": 27,
   "id": "4bea64d7",
   "metadata": {},
   "outputs": [],
   "source": [
    "%run \"curve_fit_.ipynb\"\n",
    "%run \"data_processing_.ipynb\" #HEADER_LEN,X_DIM,Y_DIM,X_left_boundry,X_right_boundry,Y_left_boundry,Y_right_boundry\n",
    "%run \"evaluation_functions_.ipynb\"\n",
    "%run \"fitting_functions_.ipynb\"\n",
    "%run \"get_temperature_.ipynb\"\n",
    "%run \"load_data_.ipynb\" # frame rate, shutter delay, and interseted position \n",
    "%run \"get_backbround_average_.ipynb\" \n",
    "%run \"frame_vs_temperature.ipynb\" # get_powers"
   ]
  },
  {
   "cell_type": "code",
   "execution_count": 28,
   "id": "8e1b9934",
   "metadata": {},
   "outputs": [],
   "source": [
    "folder = \"/Users/chiaentsai/Library/CloudStorage/Box-Box/MURI-SARA/Thermoreflectance/Joanne/CHESS/0130_2023\""
   ]
  },
  {
   "cell_type": "code",
   "execution_count": 29,
   "id": "e8c5f8db",
   "metadata": {},
   "outputs": [
    {
     "name": "stdout",
     "output_type": "stream",
     "text": [
      "[4, 28, 2, 2, 18, 2, 12, 1, 8, 5, 41]\n"
     ]
    }
   ],
   "source": [
    "all_files, fivemm_files, velocity_path_list, velocity_list, used_frame_num = get_needed_files(folder)\n",
    "back_intensity_list = get_background_average(fivemm_files)\n",
    "power_list = get_powers(all_files)"
   ]
  },
  {
   "cell_type": "code",
   "execution_count": 30,
   "id": "26afee72",
   "metadata": {},
   "outputs": [],
   "source": [
    "Si_melting_W = {\n",
    "    '103': 41.5,\n",
    "    '13': 35.4,\n",
    "    '155': 43.7,\n",
    "    '190': 45.5,\n",
    "    #'20': 35.5,\n",
    "    '234': 47,\n",
    "    '30': 36.3,\n",
    "    '352': 52.2,\n",
    "    '45': 37.1,\n",
    "    '68': 39.2,\n",
    "    #'9': 35.3 \n",
    "    \n",
    "}"
   ]
  },
  {
   "cell_type": "code",
   "execution_count": 31,
   "id": "99be4c2d",
   "metadata": {},
   "outputs": [],
   "source": [
    "gold_melting_W = {\n",
    "    '103': 37,\n",
    "    '13': 30.2,\n",
    "    '155': 38.9,\n",
    "    '190': 40.3,\n",
    "    #'20': 30.8,\n",
    "    '234': 41.9,\n",
    "    '30': 31.9,\n",
    "    '352': 46.2,\n",
    "    '45': 33.5,\n",
    "    '68': 35.2,\n",
    "    #'9': 29.9\n",
    "    \n",
    "}"
   ]
  },
  {
   "cell_type": "code",
   "execution_count": 32,
   "id": "61faf48d",
   "metadata": {},
   "outputs": [],
   "source": [
    "v_list = ['103','13', '155', '190','234','30','352','45', '68']\n",
    "Dict_1 = dict((k, fivemm_files[k][5:]) for k in v_list) # not included 0W files\n",
    "back_intensity_list_1 = []\n",
    "for key in fivemm_files:\n",
    "    if key in v_list:\n",
    "        index = list(fivemm_files).index(key)\n",
    "        back_intensity_list_1.append(back_intensity_list[index])\n",
    "dRoverR_1 = []\n",
    "for i, v in enumerate(list(Dict_1.keys())):\n",
    "    con = []\n",
    "    for file in Dict_1[v]:\n",
    "        val = get_peak_dRoverR(file, back_intensity_list_1[i], gaus, gaus)\n",
    "        con.append(val)\n",
    "    dRoverR_1.append(con)"
   ]
  },
  {
   "cell_type": "code",
   "execution_count": 33,
   "id": "055b2eab",
   "metadata": {},
   "outputs": [],
   "source": [
    "power_used = {\n",
    "        '103':[27+2*p for p in range(0,len(dRoverR_1[v_list.index('103')]),1)], \n",
    "        '13':[21+2*p for p in range(0,len(dRoverR_1[v_list.index('13')]),1)], \n",
    "        #'20':[23+2*p for p in range(0,len(dRoverR_1[v_list.index('20')]),1)],\n",
    "        '155':[27+2*p for p in range(0,len(dRoverR_1[v_list.index('155')]),1)],\n",
    "        '190':[29+2*p for p in range(0,len(dRoverR_1[v_list.index('190')]),1)], \n",
    "        '234':[29+2*p for p in range(0,len(dRoverR_1[v_list.index('234')]),1)],\n",
    "        '30':[25+2*p for p in range(0,len(dRoverR_1[v_list.index('30')]),1)], \n",
    "        '352':[31+2*p for p in range(0,len(dRoverR_1[v_list.index('352')]),1)], \n",
    "        '45':[25+2*p for p in range(0,len(dRoverR_1[v_list.index('45')]),1)], \n",
    "        '68':[25+2*p for p in range(0,len(dRoverR_1[v_list.index('68')]),1)]\n",
    "        #'9':[21+2*p for p in range(0,len(dRoverR_1[v_list.index('9')]),1)]\n",
    "          \n",
    "        }\n"
   ]
  },
  {
   "cell_type": "markdown",
   "id": "f0add642",
   "metadata": {},
   "source": [
    "### Plot all frames dR/R"
   ]
  },
  {
   "cell_type": "code",
   "execution_count": null,
   "id": "6eaa691e",
   "metadata": {},
   "outputs": [],
   "source": [
    "for i, (key, value) in enumerate(all_files.items()):\n",
    "    power = [int(x) for x in power_list[i]][1:]\n",
    "    files = all_files[key]\n",
    "    \n",
    "    for p in power:\n",
    "        dR_list = []\n",
    "        for file in tqdm(files):\n",
    "            if \"_{}W_\".format(p) in str(file):\n",
    "                print(str(file))\n",
    "                dR = get_peak_dRoverR(file, back_intensity_list[i], gaus, gaus)\n",
    "                dR_list.append(dR)\n",
    "                \n",
    "        #convert the frame number to position\n",
    "        #x = [(frame-2.7)*int(key)/92.59 for frame in range(1,len(temp_list)+1)] \n",
    "        \n",
    "        x = [frame for frame in range(0,len(dR_list))] \n",
    "        \n",
    "        \n",
    "        plt.plot(x, dR_list, marker=\"o\")\n",
    "        \n",
    "        #limit temperature to 1500C\n",
    "        #plt.ylim(0,1500)\n",
    "        \n",
    "        #limit position to 1-10mm\n",
    "        #plt.xlim(0,5)\n",
    "\n",
    "    plt.savefig(\"/Users/chiaentsai/Desktop/lab/Temperature_Calibration/0130_dRoverR_vs_frame/{}mmpersec.png\".format(key), format=\"PNG\")\n",
    "    plt.close()"
   ]
  },
  {
   "cell_type": "markdown",
   "id": "ed49cdee",
   "metadata": {},
   "source": [
    "### Plot all powers dR/R for each veloty"
   ]
  },
  {
   "cell_type": "code",
   "execution_count": 34,
   "id": "eed9f307",
   "metadata": {},
   "outputs": [],
   "source": [
    "for i, v in enumerate(list(Si_melting_W.keys())):\n",
    "    plt.plot(power_used[v], dRoverR_1[i], '.')\n",
    "    plt.xlabel(\"power\")\n",
    "    plt.ylabel(\"dR/R\")\n",
    "    plt.savefig(\"/Users/chiaentsai/Desktop/lab/Temperature_Calibration/0130_dRoverR_figure/{}mm.png\".format(v), format=\"PNG\")\n",
    "    plt.close()\n"
   ]
  },
  {
   "cell_type": "markdown",
   "id": "a75522c7",
   "metadata": {},
   "source": [
    "### get kappa (use glod and Si melting power)"
   ]
  },
  {
   "cell_type": "code",
   "execution_count": 35,
   "id": "6253d52b",
   "metadata": {},
   "outputs": [
    {
     "data": {
      "image/png": "[encoded data removed]",
      "text/plain": [
       "<Figure size 432x288 with 1 Axes>"
      ]
     },
     "metadata": {
      "needs_background": "light"
     },
     "output_type": "display_data"
    }
   ],
   "source": [
    "# gold and Si melt\n",
    "import scipy.optimize\n",
    "kappa_avg = []\n",
    "for i, v in enumerate(list(Si_melting_W.keys())):\n",
    "    popt, pcov = curve_fit(expo, power_used[v], dRoverR_1[i], p0 = [1, 0.00000000838, 1], maxfev = 10000)\n",
    "    #a, b, c = popt\n",
    "    plt.plot(power_used[v], dRoverR_1[i], '.')\n",
    "    y_pred = [expo(j, *popt) for j in power_used[v]]\n",
    "    plt.plot(power_used[v], y_pred)\n",
    "    plt.xlabel(\"power\")\n",
    "    plt.ylabel(\"dR/R\")\n",
    "    plt.savefig(\"/Users/chiaentsai/Desktop/lab/Temperature_Calibration/0130_Si&gold_dRoverR_fit_figure/{}mm.png\".format(v), format=\"PNG\")\n",
    "    plt.close()\n",
    "    \n",
    "    \n",
    "    fun = lambda k: (expo(Si_melting_W[v], *popt) - (1410-21)*k)**2 + (expo(gold_melting_W[v], *popt) - (1064-21)*k)**2\n",
    "    res = scipy.optimize.minimize(fun, 0.00016)\n",
    "    temp_pred = [expo(j, *popt)/res.x for j in power_used[v]]\n",
    "    plt.plot(power_used[v], temp_pred)\n",
    "    \n",
    "    plt.plot(Si_melting_W[v], 1410, marker=\"o\",color = 'r', label='Si')\n",
    "    plt.plot(gold_melting_W[v], 1064, marker=\"o\", color = 'g', label='gold')\n",
    "    plt.legend(loc=\"upper left\")\n",
    "    plt.xlabel(\"power\")\n",
    "    plt.ylabel(\"temperature\")\n",
    "    plt.savefig(\"/Users/chiaentsai/Desktop/lab/Temperature_Calibration/0130_gold_Si_fit/{}mm.png\".format(v), format=\"PNG\")\n",
    "    plt.close()\n",
    "    \n",
    "#     f = expo(Si_melting_W[v], *popt)\n",
    "#     gold_m = 1410\n",
    "#     dT = gold_m - 21\n",
    "#     kappa = f / dT\n",
    "    kappa_avg.append(float(res.x))\n",
    "    \n",
    "Dict_kappa_avg = dict(zip(list(Si_melting_W.keys()),kappa_avg))\n",
    "\n",
    "plt.plot(list(Si_melting_W.keys()), kappa_avg, '.')\n",
    "plt.savefig(\"/Users/chiaentsai/Desktop/lab/Temperature_Calibration/0130_kappa_gold&Si.png\", format=\"PNG\")"
   ]
  },
  {
   "cell_type": "code",
   "execution_count": 36,
   "id": "f3654352",
   "metadata": {},
   "outputs": [
    {
     "data": {
      "text/plain": [
       "0.00019970468347128988"
      ]
     },
     "execution_count": 36,
     "metadata": {},
     "output_type": "execute_result"
    }
   ],
   "source": [
    "con = 0\n",
    "for i, v in enumerate(Dict_kappa_avg.keys()):\n",
    "    con = con + Dict_kappa_avg[v]\n",
    "kappa_avg = con / len(Dict_kappa_avg)\n",
    "kappa_avg"
   ]
  },
  {
   "cell_type": "code",
   "execution_count": 37,
   "id": "1d4e61d4",
   "metadata": {},
   "outputs": [],
   "source": [
    "peak_temp = []\n",
    "for i, v in enumerate(list(Si_melting_W.keys())):\n",
    "    tem = []\n",
    "    for r in dRoverR_1[i]:\n",
    "        t = get_peak_Temp(r, Dict_kappa_avg[v])\n",
    "#         t = get_peak_Temp(r,avg_kappa)\n",
    "#         t = get_peak_Temp(r,0.00016498400434141028)\n",
    "#         t = get_peak_Temp(r, Dict_kappa_gold_avg[v])\n",
    "#         t = get_peak_Temp(r, avg_kappa_2)\n",
    "#         t = get_peak_Temp(r, Dict_kappa_avg[v])\n",
    "        tem.append(t)\n",
    "    peak_temp.append(tem)\n",
    "    \n",
    "Dict_peak_temp = dict(zip(list(Si_melting_W.keys()),peak_temp))"
   ]
  },
  {
   "cell_type": "markdown",
   "id": "fe6cfec1",
   "metadata": {},
   "source": [
    "## fit plane f(power, log10 velocity) = Tpeak "
   ]
  },
  {
   "cell_type": "markdown",
   "id": "589a1b2d",
   "metadata": {},
   "source": [
    "### The one I sent to them"
   ]
  },
  {
   "cell_type": "code",
   "execution_count": 39,
   "id": "b995472f",
   "metadata": {},
   "outputs": [
    {
     "name": "stdout",
     "output_type": "stream",
     "text": [
      "Using matplotlib backend: MacOSX\n",
      "[ 5.56380066e+02 -1.03198700e+02 -8.91042944e+02  1.00792817e+02\n",
      "  1.83259326e+03  1.12519295e+00  2.37258350e-02  4.40697127e+00]\n",
      "1022.0883523951239\n"
     ]
    },
    {
     "name": "stderr",
     "output_type": "stream",
     "text": [
      "/var/folders/f7/kn96xdj93ss0t67sn2q10n6c0000gn/T/ipykernel_5167/507234216.py:25: MatplotlibDeprecationWarning: Axes3D(fig) adding itself to the figure is deprecated since 3.4. Pass the keyword argument auto_add_to_figure=False and use fig.add_axes(ax) to suppress this warning. The default value of auto_add_to_figure will change to False in mpl3.5 and True values will no longer work in 3.6.  This is consistent with other Axes classes.\n",
      "  axes = Axes3D(f)\n"
     ]
    }
   ],
   "source": [
    "import numpy, scipy, scipy.optimize\n",
    "import matplotlib\n",
    "from mpl_toolkits.mplot3d import  Axes3D\n",
    "from matplotlib import cm # to colormap 3D surfaces from blue to red\n",
    "import matplotlib.pyplot as plt\n",
    "%matplotlib\n",
    "\n",
    "# def function(data, b, c, d, e, f):\n",
    "#     x = np.array(data[0])\n",
    "#     y = np.array(data[1])\n",
    "#     return (b*y+c)*(x)**(d*y**2+e*y+f)\n",
    "\n",
    "def function(data, a, b, c, d, e, f, g, h):\n",
    "    x = np.array(data[0])\n",
    "    y = np.array(data[1])\n",
    "    return (a+b*y+h*y**2)*x**(f+g*y) + (c+d*y)*x + e\n",
    "\n",
    "# def function(data, a, b, c, d, e, f, g, h, i, j):\n",
    "#     x = np.array(data[0])\n",
    "#     y = np.array(data[1])\n",
    "#     return (a+b*y+h*y**2)*x**(f+g*y) + (c+d*y)*x + e +i*x**2 + j*y**2\n",
    "\n",
    "f = plt.figure(figsize=(20.0, 20.0), dpi=20)\n",
    "matplotlib.pyplot.grid(True)\n",
    "axes = Axes3D(f)\n",
    "\n",
    "points = []\n",
    "for i, v in enumerate(list(Si_melting_W.keys())):\n",
    "    P = [int(p) for p in power_used[v]]\n",
    "    V = [np.log(int(v))] * len(Dict_peak_temp[v])\n",
    "    T = Dict_peak_temp[v]\n",
    "    point = [list(x) for x in zip(*[P,V,T])]\n",
    "    points.append(point)\n",
    "\n",
    "x_data = []\n",
    "y_data = []\n",
    "z_data = []\n",
    "for velo in points:\n",
    "    for item in velo:\n",
    "        x_data.append(item[0]) # power\n",
    "        y_data.append(item[1]) # velocity\n",
    "        z_data.append(item[2]) # temperature\n",
    "        \n",
    "x_data, y_data, z_data = np.array(x_data), np.array(y_data), np.array(z_data)\n",
    "\n",
    "mask = z_data > 400\n",
    "x_data = x_data[mask]\n",
    "y_data = y_data[mask]\n",
    "z_data = z_data[mask]\n",
    "\n",
    "parameters, covariance = curve_fit(function, [x_data, y_data], z_data,  maxfev=1000000)\n",
    "print(parameters)\n",
    "model_x_data = np.linspace(min(x_data), max(x_data), 30)\n",
    "model_y_data = np.linspace(min(y_data), max(y_data), 30)\n",
    "X, Y = np.meshgrid(model_x_data, model_y_data)\n",
    "Z = function(np.array([X, Y]), *parameters)\n",
    "\n",
    "z_predicted = function([x_data, y_data], *parameters)\n",
    "differences = np.subtract(z_data, z_predicted)\n",
    "squared_differences = np.square(differences)\n",
    "mse = squared_differences.mean()\n",
    "\n",
    "\n",
    "axes.plot_surface(X, Y, Z, cmap=cm.hot, alpha=0.2)\n",
    "\n",
    "# for i, v in enumerate(list(Dict_kappa_Si_avg.keys())):\n",
    "#     v_data = [np.log(int(v))] * len(Dict_peak_temp[v])\n",
    "#     p_data = [int(p) for p in power_used[i]]\n",
    "#     t_data = Dict_peak_temp[v]\n",
    "#     axes.scatter(p_data, v_data, t_data, s = 250)\n",
    "axes.scatter(x_data, y_data, z_data, s=500)\n",
    "    \n",
    "\n",
    "axes.set_title('Scatter Plot')\n",
    "axes.set_xlabel('power - W', fontsize=30, labelpad=40)\n",
    "axes.set_ylabel('ln(velocity) - mm/s',fontsize=30, labelpad=40)\n",
    "axes.set_zlabel('peak temperature - C', fontsize=30, labelpad=40)\n",
    "axes.set_zlim(400, 1400)\n",
    "\n",
    "axes.tick_params(axis='both', which='major', labelsize=30)\n",
    "\n",
    "plt.show()\n",
    "print(mse)"
   ]
  },
  {
   "cell_type": "code",
   "execution_count": 59,
   "id": "f447c73a",
   "metadata": {},
   "outputs": [],
   "source": [
    "# from sympy import solve\n",
    "# from sympy.abc import y, x, z, a, b, c, d, e, f, g, h\n",
    "\n",
    "# a, b, c, d, e, f, g, h=  5.30354554e+02, -9.60250760e+01, -7.98869136e+02 , 9.13980490e+01, 1.35226042e+03 , 1.11308546e+00 , 2.22079583e-02 , 3.88779414e+00\n",
    "\n",
    "# solve(function([x,y], a, b, c, d, e, f, g, h) - z, x)\n",
    "\n"
   ]
  },
  {
   "cell_type": "markdown",
   "id": "442854ef",
   "metadata": {},
   "source": [
    "### converter"
   ]
  },
  {
   "cell_type": "code",
   "execution_count": 17,
   "id": "7ce9ee62",
   "metadata": {},
   "outputs": [],
   "source": [
    "parameters_T = np.array([ 5.30354554e+02, -9.60250760e+01, -7.98869136e+02 , 9.13980490e+01,\n",
    "  1.35226042e+03 , 1.11308546e+00 , 2.22079583e-02 , 3.88779414e+00])\n",
    "\n",
    "def get_power(dwell, Tpeak):\n",
    "    v = 88200/dwell\n",
    "    lnv = np.log(v)\n",
    "    a, b, c, d, e, f, g, h= parameters_T\n",
    "    eq1 = lambda x: (a+b*lnv+h*lnv**2)*x**(f+g*lnv) + (c+d*lnv)*x + e  - Tpeak\n",
    "    sol = leastsq(eq1, 100)\n",
    "    #return float(sol[0], sol[1]), float(sol[1])\n",
    "    return float(sol[0])"
   ]
  },
  {
   "cell_type": "code",
   "execution_count": 18,
   "id": "d1ba2cd1",
   "metadata": {},
   "outputs": [
    {
     "data": {
      "text/plain": [
       "46.311040925364225"
      ]
     },
     "execution_count": 18,
     "metadata": {},
     "output_type": "execute_result"
    }
   ],
   "source": [
    "get_power(88200/352, 1064)"
   ]
  },
  {
   "cell_type": "markdown",
   "id": "2e27c2e4",
   "metadata": {},
   "source": [
    "# plot temperature vs power"
   ]
  },
  {
   "cell_type": "code",
   "execution_count": 40,
   "id": "3fec6f03",
   "metadata": {
    "scrolled": true
   },
   "outputs": [
    {
     "name": "stdout",
     "output_type": "stream",
     "text": [
      "Using matplotlib backend: MacOSX\n"
     ]
    }
   ],
   "source": [
    "import matplotlib.pyplot as plt\n",
    "%matplotlib\n",
    "\n",
    "for velocity in np.unique(y_data):\n",
    "    mask = y_data == velocity\n",
    "    plt.plot(x_data[mask], z_data[mask], label = str(round(np.exp(y_data[mask][0])))+'mm/s')\n",
    "    plt.legend()"
   ]
  },
  {
   "cell_type": "markdown",
   "id": "71bcc40c",
   "metadata": {},
   "source": [
    "## fit plane f(Tpeak, log tau) = power (beamwidth needed) 要改"
   ]
  },
  {
   "cell_type": "markdown",
   "id": "9c9a672b",
   "metadata": {},
   "source": [
    " ### don't use this, should just use inverse function..."
   ]
  },
  {
   "cell_type": "code",
   "execution_count": 21,
   "id": "10222c89",
   "metadata": {},
   "outputs": [
    {
     "name": "stdout",
     "output_type": "stream",
     "text": [
      "Using matplotlib backend: MacOSX\n"
     ]
    },
    {
     "name": "stderr",
     "output_type": "stream",
     "text": [
      "/var/folders/f7/kn96xdj93ss0t67sn2q10n6c0000gn/T/ipykernel_4269/4149000367.py:32: MatplotlibDeprecationWarning: Axes3D(fig) adding itself to the figure is deprecated since 3.4. Pass the keyword argument auto_add_to_figure=False and use fig.add_axes(ax) to suppress this warning. The default value of auto_add_to_figure will change to False in mpl3.5 and True values will no longer work in 3.6.  This is consistent with other Axes classes.\n",
      "  axes = Axes3D(f)\n"
     ]
    },
    {
     "name": "stdout",
     "output_type": "stream",
     "text": [
      "[ 4.58541688e+00  8.27490988e-04 -4.54608962e+00  1.00031164e+00\n",
      " -1.93052376e+00  2.09456701e+01  2.79200239e+01]\n",
      "1.9500024414102124\n"
     ]
    }
   ],
   "source": [
    "beamwidth = 88200\n",
    "\n",
    "import numpy, scipy, scipy.optimize\n",
    "import matplotlib\n",
    "from mpl_toolkits.mplot3d import  Axes3D\n",
    "from matplotlib import cm # to colormap 3D surfaces from blue to red\n",
    "import matplotlib.pyplot as plt\n",
    "%matplotlib\n",
    "\n",
    "# def function(data, b, c, d, e, f):\n",
    "#     x = np.array(data[0])\n",
    "#     y = np.array(data[1])\n",
    "#     return (b*y+c)*(x)**(d*y**2+e*y+f)\n",
    "\n",
    "# def function(data, a, b, c, d, e, f, g, h):\n",
    "#     x = np.array(data[0])\n",
    "#     y = np.array(data[1])\n",
    "#     return (a+b*y+h*y**2)*x**(f+g*y) + (c+d*y)*x + e\n",
    "\n",
    "# def function(data, a, b, c, d, e, f, g, h, i, j):\n",
    "#     x = np.array(data[0])\n",
    "#     y = np.array(data[1])\n",
    "#     return (a+b*y+h*y**2)*x**(f+g*y) + (c+d*y)*x + e +i*x**2 + j*y**2\n",
    "\n",
    "def function(data, a, b, c, d, e, f, g):\n",
    "    x = np.array(data[0])\n",
    "    y = np.array(data[1])\n",
    "    return (a*x**b)*(c*y**d)+e*x+f*y+g\n",
    "\n",
    "f = plt.figure(figsize=(20.0, 20.0), dpi=20)\n",
    "matplotlib.pyplot.grid(True)\n",
    "axes = Axes3D(f)\n",
    "\n",
    "points = []\n",
    "for i, v in enumerate(list(Si_melting_W.keys())):\n",
    "    P = [int(p) for p in power_used[v]]\n",
    "    tau = [np.log(beamwidth / int(v))] * len(Dict_peak_temp[v])\n",
    "    T = Dict_peak_temp[v]\n",
    "    point = [list(x) for x in zip(*[tau,T,P])]\n",
    "    points.append(point)\n",
    "\n",
    "\n",
    "x_data = []\n",
    "y_data = []\n",
    "z_data = []\n",
    "for velo in points:\n",
    "    for item in velo:\n",
    "        x_data.append(item[0]) # tau/dwell time\n",
    "        y_data.append(item[1]) # T\n",
    "        z_data.append(item[2]) # power\n",
    "        \n",
    "x_data, y_data, z_data = np.array(x_data), np.array(y_data), np.array(z_data)\n",
    "\n",
    "mask = y_data > 400\n",
    "x_data = x_data[mask]\n",
    "y_data = y_data[mask]\n",
    "z_data = z_data[mask]\n",
    "\n",
    "parameters_3, covariance = curve_fit(function, [x_data, y_data], z_data,  maxfev=100000)\n",
    "print(parameters_3)\n",
    "model_x_data = np.linspace(min(x_data), max(x_data), 30)\n",
    "model_y_data = np.linspace(min(y_data), max(y_data), 30)\n",
    "X, Y = np.meshgrid(model_x_data, model_y_data)\n",
    "Z = function(np.array([X, Y]), *parameters_3)\n",
    "\n",
    "z_predicted = function([x_data, y_data], *parameters_3)\n",
    "differences = np.subtract(z_data, z_predicted)\n",
    "squared_differences = np.square(differences)\n",
    "mse = squared_differences.mean()\n",
    "\n",
    "\n",
    "axes.plot_surface(X, Y, Z, cmap=cm.hot, alpha=0.2)\n",
    "\n",
    "# for i, v in enumerate(list(Dict_kappa_Si_avg.keys())):\n",
    "#     v_data = [np.log(int(v))] * len(Dict_peak_temp[v])\n",
    "#     p_data = [int(p) for p in power_used[i]]\n",
    "#     t_data = Dict_peak_temp[v]\n",
    "#     axes.scatter(p_data, v_data, t_data, s = 250)\n",
    "axes.scatter(x_data, y_data, z_data, s=500)\n",
    "    \n",
    "\n",
    "axes.set_title('Scatter Plot')\n",
    "axes.set_xlabel('ln tau/dwell time', fontsize=30, labelpad=40)\n",
    "axes.set_ylabel('Tpeak - Celsius',fontsize=30, labelpad=40)\n",
    "axes.set_zlabel('Power - W', fontsize=30, labelpad=40)\n",
    "axes.set_ylim(400, 1400)\n",
    "#axes.set_zlim(400, 1400)\n",
    "\n",
    "axes.tick_params(axis='both', which='major', labelsize=30)\n",
    "\n",
    "plt.show()\n",
    "print(mse)"
   ]
  },
  {
   "cell_type": "code",
   "execution_count": 22,
   "id": "39a340a1",
   "metadata": {},
   "outputs": [],
   "source": [
    "import numpy as np\n",
    "from scipy.optimize import leastsq\n",
    "\n",
    "parameters_3 = np.array([ 4.58541688e+00 , 8.27490988e-04, -4.54608962e+00,  1.00031164e+00,\n",
    " -1.93052376e+00 , 2.09456701e+01 , 2.79200239e+01])\n",
    "\n",
    "def get_power_3(dwell, Tpeak):\n",
    "    lntau = np.log(dwell)\n",
    "    the_input = [lntau,Tpeak]\n",
    "    a, b, c, d, e, f, g = parameters_3\n",
    "    \n",
    "    return function(the_input, a, b, c, d, e, f, g)"
   ]
  },
  {
   "cell_type": "code",
   "execution_count": 24,
   "id": "1a33fa70",
   "metadata": {},
   "outputs": [
    {
     "data": {
      "text/plain": [
       "43.921212855997354"
      ]
     },
     "execution_count": 24,
     "metadata": {},
     "output_type": "execute_result"
    }
   ],
   "source": [
    "get_power_3(88200/352, 1064)"
   ]
  },
  {
   "cell_type": "markdown",
   "id": "98c0682d",
   "metadata": {},
   "source": [
    "# Invertible function"
   ]
  },
  {
   "cell_type": "code",
   "execution_count": 88,
   "id": "a47b064f",
   "metadata": {},
   "outputs": [
    {
     "name": "stdout",
     "output_type": "stream",
     "text": [
      "[ 3.35953767e-01 -4.56819427e-02 -4.19905626e+06  4.48100862e+01\n",
      "  4.19888221e+06]\n",
      "1879.5946362863392\n"
     ]
    },
    {
     "name": "stderr",
     "output_type": "stream",
     "text": [
      "/var/folders/f7/kn96xdj93ss0t67sn2q10n6c0000gn/T/ipykernel_12673/690333852.py:13: MatplotlibDeprecationWarning: Axes3D(fig) adding itself to the figure is deprecated since 3.4. Pass the keyword argument auto_add_to_figure=False and use fig.add_axes(ax) to suppress this warning. The default value of auto_add_to_figure will change to False in mpl3.5 and True values will no longer work in 3.6.  This is consistent with other Axes classes.\n",
      "  axes = Axes3D(f)\n"
     ]
    }
   ],
   "source": [
    "# def function(data, b, c, d, e, f):\n",
    "#     x = np.array(data[0])\n",
    "#     y = np.array(data[1])\n",
    "#     return (b*y+c)*(x)**(d*y**2+e*y+f)\n",
    "\n",
    "def function(data, a, b, c, d, e):\n",
    "    x = np.array(data[0])\n",
    "    y = np.array(data[1])\n",
    "    return (a+b*y)*x**2.5 + (c+d*y) + e\n",
    "\n",
    "f = plt.figure(figsize=(20.0, 20.0), dpi=20)\n",
    "matplotlib.pyplot.grid(True)\n",
    "axes = Axes3D(f)\n",
    "\n",
    "points = []\n",
    "for i, v in enumerate(list(Si_melting_W.keys())):\n",
    "    P = [int(p) for p in power_used[v]]\n",
    "    V = [np.log(int(v))] * len(Dict_peak_temp[v])\n",
    "    T = Dict_peak_temp[v]\n",
    "    point = [list(x) for x in zip(*[P,V,T])]\n",
    "    points.append(point)\n",
    "\n",
    "x_data = []\n",
    "y_data = []\n",
    "z_data = []\n",
    "for velo in points:\n",
    "    for item in velo:\n",
    "        x_data.append(item[0]) # power\n",
    "        y_data.append(item[1]) # velocity\n",
    "        z_data.append(item[2]) # temperature\n",
    "        \n",
    "x_data, y_data, z_data = np.array(x_data), np.array(y_data), np.array(z_data)\n",
    "\n",
    "mask = z_data > 400\n",
    "x_data = x_data[mask]\n",
    "y_data = y_data[mask]\n",
    "z_data = z_data[mask]\n",
    "\n",
    "parameters, covariance = curve_fit(function, [x_data, y_data], z_data,  maxfev=1000000)\n",
    "print(parameters)\n",
    "model_x_data = np.linspace(min(x_data), max(x_data), 30)\n",
    "model_y_data = np.linspace(min(y_data), max(y_data), 30)\n",
    "X, Y = np.meshgrid(model_x_data, model_y_data)\n",
    "Z = function(np.array([X, Y]), *parameters)\n",
    "\n",
    "z_predicted = function([x_data, y_data], *parameters)\n",
    "differences = np.subtract(z_data, z_predicted)\n",
    "squared_differences = np.square(differences)\n",
    "mse = squared_differences.mean()\n",
    "\n",
    "\n",
    "axes.plot_surface(X, Y, Z, cmap=cm.hot, alpha=0.2)\n",
    "\n",
    "axes.scatter(x_data, y_data, z_data, s=500)\n",
    "    \n",
    "\n",
    "axes.set_title('Scatter Plot')\n",
    "axes.set_xlabel('power - W', fontsize=30, labelpad=40)\n",
    "axes.set_ylabel('ln(velocity) - mm/s',fontsize=30, labelpad=40)\n",
    "axes.set_zlabel('peak temperature - C', fontsize=30, labelpad=40)\n",
    "axes.set_zlim(400, 1400)\n",
    "\n",
    "axes.tick_params(axis='both', which='major', labelsize=30)\n",
    "\n",
    "plt.show()\n",
    "print(mse)"
   ]
  },
  {
   "cell_type": "code",
   "execution_count": 90,
   "id": "6611b531",
   "metadata": {},
   "outputs": [
    {
     "data": {
      "text/plain": [
       "[246475.015135061*(-(0.257455249641183*y/(22840971350.0*y - 167976883500.0) - 0.00574547543809864*z/(22840971350.0*y - 167976883500.0) - 1/(22840971350.0*y - 167976883500.0))**0.2 - 0.726542528005361*I*(0.257455249641183*y/(22840971350.0*y - 167976883500.0) - 0.00574547543809864*z/(22840971350.0*y - 167976883500.0) - 1/(22840971350.0*y - 167976883500.0))**0.2)**2,\n",
       " 246475.015135061*(-(0.257455249641183*y/(22840971350.0*y - 167976883500.0) - 0.00574547543809864*z/(22840971350.0*y - 167976883500.0) - 1/(22840971350.0*y - 167976883500.0))**0.2 + 0.726542528005361*I*(0.257455249641183*y/(22840971350.0*y - 167976883500.0) - 0.00574547543809864*z/(22840971350.0*y - 167976883500.0) - 1/(22840971350.0*y - 167976883500.0))**0.2)**2,\n",
       " 340620.09353901*(0.324919696232906*(0.257455249641183*y/(22840971350.0*y - 167976883500.0) - 0.00574547543809864*z/(22840971350.0*y - 167976883500.0) - 1/(22840971350.0*y - 167976883500.0))**0.2 - I*(0.257455249641183*y/(22840971350.0*y - 167976883500.0) - 0.00574547543809864*z/(22840971350.0*y - 167976883500.0) - 1/(22840971350.0*y - 167976883500.0))**0.2)**2,\n",
       " 340620.09353901*(0.324919696232906*(0.257455249641183*y/(22840971350.0*y - 167976883500.0) - 0.00574547543809864*z/(22840971350.0*y - 167976883500.0) - 1/(22840971350.0*y - 167976883500.0))**0.2 + I*(0.257455249641183*y/(22840971350.0*y - 167976883500.0) - 0.00574547543809864*z/(22840971350.0*y - 167976883500.0) - 1/(22840971350.0*y - 167976883500.0))**0.2)**2,\n",
       " 376580.313615794*(0.257455249641183*y/(22840971350.0*y - 167976883500.0) - 0.00574547543809864*z/(22840971350.0*y - 167976883500.0) - 1/(22840971350.0*y - 167976883500.0))**(2/5)]"
      ]
     },
     "execution_count": 90,
     "metadata": {},
     "output_type": "execute_result"
    }
   ],
   "source": [
    "from sympy import solve\n",
    "from sympy.abc import y, x, z, a, b, c, d, e\n",
    "\n",
    "a, b, c, d, e= 3.35953767e-01, -4.56819427e-02, -4.19905626e+06 , 4.48100862e+01, 4.19888221e+06\n",
    "solve(function([x,y], a, b, c, d, e ) - z, x)\n"
   ]
  },
  {
   "cell_type": "code",
   "execution_count": null,
   "id": "00c3292c",
   "metadata": {},
   "outputs": [],
   "source": []
  },
  {
   "cell_type": "code",
   "execution_count": null,
   "id": "c4aead06",
   "metadata": {},
   "outputs": [],
   "source": []
  },
  {
   "cell_type": "code",
   "execution_count": null,
   "id": "846d27de",
   "metadata": {},
   "outputs": [],
   "source": []
  },
  {
   "cell_type": "markdown",
   "id": "f971638d",
   "metadata": {},
   "source": [
    "# lateral temperature profile"
   ]
  },
  {
   "cell_type": "code",
   "execution_count": 41,
   "id": "efab5217",
   "metadata": {},
   "outputs": [
    {
     "name": "stderr",
     "output_type": "stream",
     "text": [
      "/Users/chiaentsai/.virtualenvs/venv/lib/python3.9/site-packages/scipy/optimize/_minpack_py.py:833: OptimizeWarning: Covariance of the parameters could not be estimated\n",
      "  warnings.warn('Covariance of the parameters could not be estimated',\n"
     ]
    }
   ],
   "source": [
    "dRoverR_line = []\n",
    "for i, v in enumerate(list(Dict_1.keys())):\n",
    "    con = []\n",
    "    for file in Dict_1[v]:\n",
    "        val = get_laterial_fit_line(file, back_intensity_list[i], two_lorentz)\n",
    "        con.append(val)\n",
    "    dRoverR_line.append(con)\n",
    "    \n",
    "\n",
    "temp_line = []    \n",
    "for i, v in enumerate(list(Dict_1.keys())):\n",
    "    con_2 = []\n",
    "    velo = dRoverR_line[i]\n",
    "    for R in velo:\n",
    "        temp = get_peak_Temp(R, Dict_kappa_avg[v])\n",
    "        con_2.append(temp)\n",
    "    temp_line.append(con_2)\n",
    "    \n",
    "parameters = []\n",
    "for i, v in enumerate(list(Dict_1.keys())):\n",
    "    con_3 = []\n",
    "    velo = temp_line[i]\n",
    "    for t in velo:\n",
    "        # [height, x_0, sigma1, sigma2] = fit(two_lorentz, t)\n",
    "        par = fit(two_lorentz, t)\n",
    "        con_3.append(par)\n",
    "    parameters.append(con_3)"
   ]
  },
  {
   "cell_type": "markdown",
   "id": "9f99d56c",
   "metadata": {},
   "source": [
    "# fit sigma1, sigma2 plane"
   ]
  },
  {
   "cell_type": "code",
   "execution_count": 78,
   "id": "6a1f8e98",
   "metadata": {},
   "outputs": [
    {
     "name": "stdout",
     "output_type": "stream",
     "text": [
      "Using matplotlib backend: MacOSX\n",
      "[-1.24298132e+04  2.71896301e+03 -3.24864611e+01  4.95667973e+00\n",
      "  1.12569151e+03 -1.75019842e+00  2.60109553e-01 -1.50924868e+02]\n",
      "[ 1.12652765e-24 -2.71952208e-25 -2.34426328e+00 -6.10347686e-01\n",
      "  3.96666002e+02  8.59206705e+00  1.19048314e+00  1.63544851e-26]\n",
      "9314.642277334076\n",
      "502.61444242900876\n"
     ]
    }
   ],
   "source": [
    "import numpy, scipy, scipy.optimize\n",
    "import matplotlib\n",
    "from mpl_toolkits.mplot3d import  Axes3D\n",
    "from matplotlib import cm # to colormap 3D surfaces from blue to red\n",
    "import matplotlib.pyplot as plt\n",
    "%matplotlib\n",
    "\n",
    "beamwidth = 88200\n",
    "\n",
    "# def function(data, b, c, d, e, f):\n",
    "#     x = np.array(data[0])\n",
    "#     y = np.array(data[1])\n",
    "#     return (b*y+c)*(x)**(d*y**2+e*y+f)\n",
    "\n",
    "def function(data, a, b, c, d, e, f, g, h):\n",
    "    x = np.array(data[0])\n",
    "    y = np.array(data[1])\n",
    "    return (a+b*y+h*y**2)*x**(f+g*y) + (c+d*y)*x + e\n",
    "\n",
    "# def function(data, a, b, c, d, e, f, g, h, i, j):\n",
    "#     x = np.array(data[0])\n",
    "#     y = np.array(data[1])\n",
    "#     return (a+b*y+h*y**2)*x**(f+g*y) + (c+d*y)*x + e +i*x**2 + j*y**2\n",
    "\n",
    "# def function(data, a, b, c, d, e, f, g):\n",
    "#     x = np.array(data[0])\n",
    "#     y = np.array(data[1])\n",
    "#     return (a*x**b)*(c*y**d)+e*x+f*y+g\n",
    "\n",
    "\n",
    "points_1 = []\n",
    "points_2 = []\n",
    "\n",
    "for i, v in enumerate(list(Si_melting_W.keys())):\n",
    "    T = Dict_peak_temp[v]\n",
    "    P = [int(p) for p in power_used[v]]\n",
    "    tau = [np.log(beamwidth / int(v))] * len(Dict_peak_temp[v])\n",
    "    sigma1 = [abs(el[2]) for el in parameters[i]]\n",
    "    sigma2 = [abs(el[3]) for el in parameters[i]]\n",
    "    point1 = [list(x) for x in zip(*[P,tau,sigma1,T])]\n",
    "    points_1.append(point1)\n",
    "    point2 = [list(x) for x in zip(*[P,tau,sigma2,T])]\n",
    "    points_2.append(point2)\n",
    "\n",
    "    \n",
    "x_data = []\n",
    "y_data = []\n",
    "t_data = []\n",
    "z_data_1 = []\n",
    "z_data_2 = []\n",
    "\n",
    "for velo in points_1:\n",
    "    for item in velo:\n",
    "        x_data.append(item[0]) # power\n",
    "        y_data.append(item[1]) # tau\n",
    "        z_data_1.append(item[2]) # sigma1\n",
    "        t_data.append(item[3]) # Tpeak\n",
    "        \n",
    "\n",
    "for velo in points_2:\n",
    "    for item in velo:\n",
    "        z_data_2.append(item[2]) # sigma2\n",
    "        \n",
    "        \n",
    "x_data, y_data, z_data_1, z_data_2, t_data = np.array(x_data), np.array(y_data), np.array(z_data_1), np.array(z_data_2), np.array(t_data)\n",
    "\n",
    "\n",
    "mask = t_data > 400\n",
    "x_data = x_data[mask]\n",
    "y_data = y_data[mask]\n",
    "z_data_1 = z_data_1[mask]\n",
    "z_data_2 = z_data_2[mask]\n",
    "\n",
    "mask_2 = z_data_1 < 1000\n",
    "x_data = x_data[mask_2]\n",
    "y_data = y_data[mask_2]\n",
    "z_data_1 = z_data_1[mask_2]\n",
    "z_data_2 = z_data_2[mask_2]\n",
    "\n",
    "\n",
    "parameters_1, covariance_1 = curve_fit(function, [x_data, y_data], z_data_1,  maxfev=1000000)\n",
    "parameters_2, covariance_2 = curve_fit(function, [x_data, y_data], z_data_2,  maxfev=1000000)\n",
    "\n",
    "print(parameters_1)\n",
    "print(parameters_2)\n",
    "\n",
    "model_x_data = np.linspace(min(x_data), max(x_data), 100)\n",
    "model_y_data = np.linspace(min(y_data), max(y_data), 100)\n",
    "X, Y = np.meshgrid(model_x_data, model_y_data)\n",
    "Z1 = function(np.array([X, Y]), *parameters_1)\n",
    "Z2 = function(np.array([X, Y]), *parameters_2)\n",
    "\n",
    "z_predicted_1 = function([x_data, y_data], *parameters_1)\n",
    "z_predicted_2 = function([x_data, y_data], *parameters_2)\n",
    "\n",
    "differences_1 = np.subtract(z_data_1, z_predicted_1)\n",
    "differences_2 = np.subtract(z_data_2, z_predicted_2)\n",
    "\n",
    "squared_differences_1 = np.square(differences_1)\n",
    "squared_differences_2 = np.square(differences_2)\n",
    "\n",
    "mse_1 = squared_differences_1.mean()\n",
    "mse_2 = squared_differences_2.mean()\n",
    "print(mse_1)\n",
    "print(mse_2)"
   ]
  },
  {
   "cell_type": "code",
   "execution_count": 79,
   "id": "fff85832",
   "metadata": {},
   "outputs": [
    {
     "data": {
      "text/plain": [
       "8"
      ]
     },
     "execution_count": 79,
     "metadata": {},
     "output_type": "execute_result"
    }
   ],
   "source": [
    "len(temp_line[0])"
   ]
  },
  {
   "cell_type": "code",
   "execution_count": 80,
   "id": "039ed843",
   "metadata": {},
   "outputs": [
    {
     "name": "stdout",
     "output_type": "stream",
     "text": [
      "Using matplotlib backend: MacOSX\n",
      "1100.9549777743912 69.8471846567676 224.29603020133396 132.18227595383982\n"
     ]
    }
   ],
   "source": [
    "%matplotlib\n",
    "a,b,c,d = fit(two_lorentz, temp_line[8][5])\n",
    "plt.plot(temp_line[8][5])\n",
    "# plt.plot(np.linspace(0,149,150),temp_line[0][5] )\n",
    "plt.plot(np.linspace(0,149,150), two_lorentz(np.linspace(0,149,150),a,b,c,d))\n",
    "plt.xlabel(\"pixel\")\n",
    "plt.ylabel(\"Temperature (Celsius)\")\n",
    "print(a,b,c,d)"
   ]
  },
  {
   "cell_type": "code",
   "execution_count": 85,
   "id": "92a5eea9",
   "metadata": {},
   "outputs": [
    {
     "name": "stdout",
     "output_type": "stream",
     "text": [
      "240.55036391889635\n",
      "173.6854047984531\n",
      "105.2771716695888\n",
      "41.76975800484919\n",
      "601.9063081076492\n",
      "50.20502213771433\n",
      "276.68457325262204\n",
      "64.72927788689339\n",
      "79\n"
     ]
    },
    {
     "data": {
      "text/plain": [
       "[<matplotlib.lines.Line2D at 0x7fda10a90820>]"
      ]
     },
     "execution_count": 85,
     "metadata": {},
     "output_type": "execute_result"
    }
   ],
   "source": [
    "import statistics \n",
    "print(statistics.mean(z_data_1))\n",
    "print(statistics.mean(z_data_2))\n",
    "print(statistics.stdev(z_data_1))\n",
    "print(statistics.stdev(z_data_2))\n",
    "print(max(z_data_1))\n",
    "print(min(z_data_1))\n",
    "print(max(z_data_2))\n",
    "print(min(z_data_2))\n",
    "print(len(z_data_1))\n",
    "plt.plot(z_data_2)"
   ]
  },
  {
   "cell_type": "code",
   "execution_count": 87,
   "id": "2559d86b",
   "metadata": {},
   "outputs": [
    {
     "name": "stdout",
     "output_type": "stream",
     "text": [
      "9314.642277334076\n"
     ]
    },
    {
     "name": "stderr",
     "output_type": "stream",
     "text": [
      "/var/folders/f7/kn96xdj93ss0t67sn2q10n6c0000gn/T/ipykernel_5167/2512510063.py:3: MatplotlibDeprecationWarning: Axes3D(fig) adding itself to the figure is deprecated since 3.4. Pass the keyword argument auto_add_to_figure=False and use fig.add_axes(ax) to suppress this warning. The default value of auto_add_to_figure will change to False in mpl3.5 and True values will no longer work in 3.6.  This is consistent with other Axes classes.\n",
      "  axes1 = Axes3D(f1)\n"
     ]
    }
   ],
   "source": [
    "f1 = plt.figure(figsize=(20.0, 20.0), dpi=20)\n",
    "matplotlib.pyplot.grid(True)\n",
    "axes1 = Axes3D(f1)\n",
    "\n",
    "axes1.plot_surface(X, Y, Z1, cmap=cm.hot, alpha=0.2)\n",
    "axes1.scatter(x_data, y_data, z_data_1, s=500)\n",
    "\n",
    "axes1.set_title('Scatter Plot')\n",
    "axes1.set_xlabel('power - W', fontsize=30, labelpad=40)\n",
    "axes1.set_ylabel('tau',fontsize=30, labelpad=40)\n",
    "axes1.set_zlabel('sigma1', fontsize=30, labelpad=40)\n",
    "\n",
    "axes1.tick_params(axis='both', which='major', labelsize=30)\n",
    " \n",
    "plt.show()\n",
    "print(mse_1)"
   ]
  },
  {
   "cell_type": "code",
   "execution_count": 84,
   "id": "2e147572",
   "metadata": {},
   "outputs": [
    {
     "name": "stdout",
     "output_type": "stream",
     "text": [
      "502.61444242900876\n"
     ]
    },
    {
     "name": "stderr",
     "output_type": "stream",
     "text": [
      "/var/folders/f7/kn96xdj93ss0t67sn2q10n6c0000gn/T/ipykernel_5167/3592995763.py:3: MatplotlibDeprecationWarning: Axes3D(fig) adding itself to the figure is deprecated since 3.4. Pass the keyword argument auto_add_to_figure=False and use fig.add_axes(ax) to suppress this warning. The default value of auto_add_to_figure will change to False in mpl3.5 and True values will no longer work in 3.6.  This is consistent with other Axes classes.\n",
      "  axes2 = Axes3D(f2)\n"
     ]
    }
   ],
   "source": [
    "f2 = plt.figure(figsize=(20.0, 20.0), dpi=20)\n",
    "matplotlib.pyplot.grid(True)\n",
    "axes2 = Axes3D(f2)\n",
    "\n",
    "axes2.plot_surface(X, Y, Z2, cmap=cm.hot, alpha=0.2)\n",
    "axes2.scatter(x_data, y_data, z_data_2, s=500)\n",
    "\n",
    "axes2.set_title('Scatter Plot')\n",
    "axes2.set_xlabel('power - W', fontsize=30, labelpad=40)\n",
    "axes2.set_ylabel('tau',fontsize=30, labelpad=40)\n",
    "axes2.set_zlabel('sigma2', fontsize=30, labelpad=40)\n",
    "\n",
    "axes2.tick_params(axis='both', which='major', labelsize=30)\n",
    "\n",
    "plt.show()\n",
    "print(mse_2)"
   ]
  },
  {
   "cell_type": "code",
   "execution_count": null,
   "id": "521b0e3f",
   "metadata": {},
   "outputs": [],
   "source": []
  }
 ],
 "metadata": {
  "kernelspec": {
   "display_name": "Python 3 (ipykernel)",
   "language": "python",
   "name": "python3"
  },
  "language_info": {
   "codemirror_mode": {
    "name": "ipython",
    "version": 3
   },
   "file_extension": ".py",
   "mimetype": "text/x-python",
   "name": "python",
   "nbconvert_exporter": "python",
   "pygments_lexer": "ipython3",
   "version": "3.9.0"
  },
  "vscode": {
   "interpreter": {
    "hash": "05a9d8f434e6f97949f116bb3fd6e0132cb85e41e1947128ba85095efa1eda1d"
   }
  }
 },
 "nbformat": 4,
 "nbformat_minor": 5
}
