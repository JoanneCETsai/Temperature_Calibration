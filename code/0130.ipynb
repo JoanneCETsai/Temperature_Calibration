{
 "cells": [
  {
   "cell_type": "code",
   "execution_count": 145,
   "id": "9faf79cb",
   "metadata": {},
   "outputs": [],
   "source": [
    "%run \"curve_fit_.ipynb\"\n",
    "%run \"data_processing_.ipynb\" #HEADER_LEN,X_DIM,Y_DIM,X_left_boundry,X_right_boundry,Y_left_boundry,Y_right_boundry\n",
    "%run \"evaluation_functions_.ipynb\"\n",
    "%run \"fitting_functions_.ipynb\"\n",
    "%run \"get_temperature_.ipynb\"\n",
    "%run \"load_data_.ipynb\" # frame rate, shutter delay, and interseted position \n",
    "%run \"get_backbround_average_.ipynb\" \n",
    "%run \"frame_vs_temperature.ipynb\" # get_powers"
   ]
  },
  {
   "cell_type": "code",
   "execution_count": 146,
   "id": "5ef0278d",
   "metadata": {},
   "outputs": [],
   "source": [
    "folder = \"/Users/chiaentsai/Box/MURI-SARA/Thermoreflectance/Joanne/CHESS/0130_2023\""
   ]
  },
  {
   "cell_type": "code",
   "execution_count": 147,
   "id": "cc7b09b2",
   "metadata": {},
   "outputs": [
    {
     "name": "stdout",
     "output_type": "stream",
     "text": [
      "[4, 28, 2, 2, 18, 2, 12, 1, 8, 5, 41]\n"
     ]
    }
   ],
   "source": [
    "all_files, fivemm_files, velocity_path_list, velocity_list, used_frame_num = get_needed_files(folder)\n",
    "back_intensity_list = get_background_average(fivemm_files)\n",
    "power_list = get_powers(all_files)"
   ]
  },
  {
   "cell_type": "code",
   "execution_count": 148,
   "id": "b8f597dd",
   "metadata": {},
   "outputs": [],
   "source": [
    "Si_melting_W = {\n",
    "    '103': 41.5,\n",
    "    '13': 35.4,\n",
    "    '155': 43.7,\n",
    "    '190': 45.5, \n",
    "    '20': 35.5,\n",
    "    '234': 47,\n",
    "    '30': 36.3,\n",
    "    '352': 52.2,\n",
    "    '45': 37.1,\n",
    "    '68': 39.2,\n",
    "    '9': 35.3\n",
    "}"
   ]
  },
  {
   "cell_type": "code",
   "execution_count": 149,
   "id": "214099dc",
   "metadata": {},
   "outputs": [],
   "source": [
    "gold_melting_W = {\n",
    "    '103': 37,\n",
    "    '13': 30.2,\n",
    "    '155': 38.9,\n",
    "    '190': 40.3, \n",
    "    '20': 30.8,\n",
    "    '234': 41.9,\n",
    "    '30': 31.9,\n",
    "    '352': 46.2,\n",
    "    '45': 33.4,\n",
    "    '68': 35.2,\n",
    "    '9': 29.9\n",
    "}"
   ]
  },
  {
   "cell_type": "code",
   "execution_count": 150,
   "id": "3821c8c8",
   "metadata": {},
   "outputs": [],
   "source": [
    "v_list = ['103','13', '155','190','20', '234', '30', '352', '45', '68','9']\n",
    "Dict_1 = dict((k, fivemm_files[k][5:]) for k in v_list) # not included 0W files\n",
    "back_intensity_list_1 = []\n",
    "for key in fivemm_files:\n",
    "    if key in v_list:\n",
    "        index = list(fivemm_files).index(key)\n",
    "        back_intensity_list_1.append(back_intensity_list[index])\n",
    "dRoverR_1 = []\n",
    "for i, v in enumerate(list(Dict_1.keys())):\n",
    "    con = []\n",
    "    for file in Dict_1[v]:\n",
    "        val = get_peak_dRoverR(file, back_intensity_list_1[i], two_lorentz, two_lorentz)\n",
    "        con.append(val)\n",
    "    dRoverR_1.append(con)"
   ]
  },
  {
   "cell_type": "code",
   "execution_count": 151,
   "id": "0d7768a7",
   "metadata": {},
   "outputs": [],
   "source": [
    "power_used = {'103':[27+2*p for p in range(0,len(dRoverR_1[v_list.index('103')]),1)], \n",
    "        '13':[21+2*p for p in range(0,len(dRoverR_1[v_list.index('13')]),1)], \n",
    "        '155':[27+2*p for p in range(0,len(dRoverR_1[v_list.index('155')]),1)],\n",
    "        '190':[29+2*p for p in range(0,len(dRoverR_1[v_list.index('190')]),1)], \n",
    "        '20':[23+2*p for p in range(0,len(dRoverR_1[v_list.index('20')]),1)], \n",
    "        '234':[29+2*p for p in range(0,len(dRoverR_1[v_list.index('234')]),1)], \n",
    "        '30':[25+2*p for p in range(0,len(dRoverR_1[v_list.index('30')]),1)], \n",
    "        '352':[31+2*p for p in range(0,len(dRoverR_1[v_list.index('352')]),1)], \n",
    "        '45':[25+2*p for p in range(0,len(dRoverR_1[v_list.index('45')]),1)], \n",
    "        '68':[25+2*p for p in range(0,len(dRoverR_1[v_list.index('68')]),1)], \n",
    "        '9':[21+2*p for p in range(0,len(dRoverR_1[v_list.index('9')]),1)]}"
   ]
  },
  {
   "cell_type": "markdown",
   "id": "da33c0e4",
   "metadata": {},
   "source": [
    "### Plot all frames dR/R"
   ]
  },
  {
   "cell_type": "code",
   "execution_count": 143,
   "id": "7ab7700a",
   "metadata": {},
   "outputs": [
    {
     "name": "stderr",
     "output_type": "stream",
     "text": [
      "\r",
      "  0%|                                                   | 0/390 [00:00<?, ?it/s]"
     ]
    },
    {
     "name": "stdout",
     "output_type": "stream",
     "text": [
      "/Users/chiaentsai/Box/MURI-SARA/Thermoreflectance/Joanne/CHESS/0130_2023/103mm_per_sec/-18mm_27W_000.raw\n"
     ]
    },
    {
     "name": "stderr",
     "output_type": "stream",
     "text": [
      "\r",
      " 39%|███████████████▍                        | 151/390 [00:01<00:01, 125.56it/s]"
     ]
    },
    {
     "name": "stdout",
     "output_type": "stream",
     "text": [
      "/Users/chiaentsai/Box/MURI-SARA/Thermoreflectance/Joanne/CHESS/0130_2023/103mm_per_sec/-18mm_27W_001.raw\n",
      "/Users/chiaentsai/Box/MURI-SARA/Thermoreflectance/Joanne/CHESS/0130_2023/103mm_per_sec/-18mm_27W_002.raw\n",
      "/Users/chiaentsai/Box/MURI-SARA/Thermoreflectance/Joanne/CHESS/0130_2023/103mm_per_sec/-18mm_27W_003.raw\n",
      "/Users/chiaentsai/Box/MURI-SARA/Thermoreflectance/Joanne/CHESS/0130_2023/103mm_per_sec/-18mm_27W_004.raw\n",
      "/Users/chiaentsai/Box/MURI-SARA/Thermoreflectance/Joanne/CHESS/0130_2023/103mm_per_sec/-18mm_27W_005.raw\n",
      "/Users/chiaentsai/Box/MURI-SARA/Thermoreflectance/Joanne/CHESS/0130_2023/103mm_per_sec/-18mm_27W_006.raw\n",
      "/Users/chiaentsai/Box/MURI-SARA/Thermoreflectance/Joanne/CHESS/0130_2023/103mm_per_sec/-18mm_27W_007.raw\n",
      "/Users/chiaentsai/Box/MURI-SARA/Thermoreflectance/Joanne/CHESS/0130_2023/103mm_per_sec/-18mm_27W_008.raw\n",
      "/Users/chiaentsai/Box/MURI-SARA/Thermoreflectance/Joanne/CHESS/0130_2023/103mm_per_sec/-18mm_27W_009.raw\n",
      "/Users/chiaentsai/Box/MURI-SARA/Thermoreflectance/Joanne/CHESS/0130_2023/103mm_per_sec/-18mm_27W_010.raw\n",
      "/Users/chiaentsai/Box/MURI-SARA/Thermoreflectance/Joanne/CHESS/0130_2023/103mm_per_sec/-18mm_27W_011.raw\n",
      "/Users/chiaentsai/Box/MURI-SARA/Thermoreflectance/Joanne/CHESS/0130_2023/103mm_per_sec/-18mm_27W_012.raw\n"
     ]
    },
    {
     "name": "stderr",
     "output_type": "stream",
     "text": [
      "\r",
      " 42%|█████████████████▏                       | 164/390 [00:09<00:17, 12.96it/s]"
     ]
    },
    {
     "name": "stdout",
     "output_type": "stream",
     "text": [
      "/Users/chiaentsai/Box/MURI-SARA/Thermoreflectance/Joanne/CHESS/0130_2023/103mm_per_sec/-18mm_27W_013.raw\n",
      "/Users/chiaentsai/Box/MURI-SARA/Thermoreflectance/Joanne/CHESS/0130_2023/103mm_per_sec/-18mm_27W_014.raw\n",
      "/Users/chiaentsai/Box/MURI-SARA/Thermoreflectance/Joanne/CHESS/0130_2023/103mm_per_sec/-18mm_27W_015.raw\n",
      "/Users/chiaentsai/Box/MURI-SARA/Thermoreflectance/Joanne/CHESS/0130_2023/103mm_per_sec/-18mm_27W_016.raw\n",
      "/Users/chiaentsai/Box/MURI-SARA/Thermoreflectance/Joanne/CHESS/0130_2023/103mm_per_sec/-18mm_27W_017.raw\n",
      "/Users/chiaentsai/Box/MURI-SARA/Thermoreflectance/Joanne/CHESS/0130_2023/103mm_per_sec/-18mm_27W_018.raw\n"
     ]
    },
    {
     "name": "stderr",
     "output_type": "stream",
     "text": [
      "\r",
      " 44%|█████████████████▊                       | 170/390 [00:11<00:21, 10.11it/s]"
     ]
    },
    {
     "name": "stdout",
     "output_type": "stream",
     "text": [
      "/Users/chiaentsai/Box/MURI-SARA/Thermoreflectance/Joanne/CHESS/0130_2023/103mm_per_sec/-18mm_27W_019.raw\n",
      "/Users/chiaentsai/Box/MURI-SARA/Thermoreflectance/Joanne/CHESS/0130_2023/103mm_per_sec/-18mm_27W_020.raw\n",
      "/Users/chiaentsai/Box/MURI-SARA/Thermoreflectance/Joanne/CHESS/0130_2023/103mm_per_sec/-18mm_27W_021.raw\n",
      "/Users/chiaentsai/Box/MURI-SARA/Thermoreflectance/Joanne/CHESS/0130_2023/103mm_per_sec/-18mm_27W_022.raw\n"
     ]
    },
    {
     "name": "stderr",
     "output_type": "stream",
     "text": [
      "\r",
      " 44%|██████████████████▏                      | 173/390 [00:12<00:23,  9.10it/s]"
     ]
    },
    {
     "name": "stdout",
     "output_type": "stream",
     "text": [
      "/Users/chiaentsai/Box/MURI-SARA/Thermoreflectance/Joanne/CHESS/0130_2023/103mm_per_sec/-18mm_27W_023.raw\n"
     ]
    },
    {
     "name": "stderr",
     "output_type": "stream",
     "text": [
      "\r",
      " 45%|██████████████████▍                      | 175/390 [00:13<00:24,  8.64it/s]"
     ]
    },
    {
     "name": "stdout",
     "output_type": "stream",
     "text": [
      "/Users/chiaentsai/Box/MURI-SARA/Thermoreflectance/Joanne/CHESS/0130_2023/103mm_per_sec/-18mm_27W_024.raw\n",
      "/Users/chiaentsai/Box/MURI-SARA/Thermoreflectance/Joanne/CHESS/0130_2023/103mm_per_sec/-18mm_27W_025.raw\n",
      "/Users/chiaentsai/Box/MURI-SARA/Thermoreflectance/Joanne/CHESS/0130_2023/103mm_per_sec/-18mm_27W_026.raw\n"
     ]
    },
    {
     "name": "stderr",
     "output_type": "stream",
     "text": [
      "\r",
      " 45%|██████████████████▌                      | 177/390 [00:13<00:26,  8.10it/s]"
     ]
    },
    {
     "name": "stdout",
     "output_type": "stream",
     "text": [
      "/Users/chiaentsai/Box/MURI-SARA/Thermoreflectance/Joanne/CHESS/0130_2023/103mm_per_sec/-18mm_27W_027.raw\n",
      "/Users/chiaentsai/Box/MURI-SARA/Thermoreflectance/Joanne/CHESS/0130_2023/103mm_per_sec/-18mm_27W_028.raw\n"
     ]
    },
    {
     "name": "stderr",
     "output_type": "stream",
     "text": [
      "\r",
      " 46%|██████████████████▊                      | 179/390 [00:14<00:31,  6.75it/s]"
     ]
    },
    {
     "name": "stdout",
     "output_type": "stream",
     "text": [
      "/Users/chiaentsai/Box/MURI-SARA/Thermoreflectance/Joanne/CHESS/0130_2023/103mm_per_sec/-18mm_27W_029.raw\n"
     ]
    },
    {
     "name": "stderr",
     "output_type": "stream",
     "text": [
      "100%|█████████████████████████████████████████| 390/390 [00:15<00:00, 25.84it/s]\n",
      "  0%|                                                   | 0/390 [00:00<?, ?it/s]"
     ]
    },
    {
     "name": "stdout",
     "output_type": "stream",
     "text": [
      "/Users/chiaentsai/Box/MURI-SARA/Thermoreflectance/Joanne/CHESS/0130_2023/103mm_per_sec/-18mm_29W_000.raw\n"
     ]
    },
    {
     "name": "stderr",
     "output_type": "stream",
     "text": [
      "\r",
      " 46%|██████████████████▌                     | 181/390 [00:01<00:01, 132.71it/s]"
     ]
    },
    {
     "name": "stdout",
     "output_type": "stream",
     "text": [
      "/Users/chiaentsai/Box/MURI-SARA/Thermoreflectance/Joanne/CHESS/0130_2023/103mm_per_sec/-18mm_29W_001.raw\n",
      "/Users/chiaentsai/Box/MURI-SARA/Thermoreflectance/Joanne/CHESS/0130_2023/103mm_per_sec/-18mm_29W_002.raw\n",
      "/Users/chiaentsai/Box/MURI-SARA/Thermoreflectance/Joanne/CHESS/0130_2023/103mm_per_sec/-18mm_29W_003.raw\n",
      "/Users/chiaentsai/Box/MURI-SARA/Thermoreflectance/Joanne/CHESS/0130_2023/103mm_per_sec/-18mm_29W_004.raw\n",
      "/Users/chiaentsai/Box/MURI-SARA/Thermoreflectance/Joanne/CHESS/0130_2023/103mm_per_sec/-18mm_29W_005.raw\n",
      "/Users/chiaentsai/Box/MURI-SARA/Thermoreflectance/Joanne/CHESS/0130_2023/103mm_per_sec/-18mm_29W_006.raw\n",
      "/Users/chiaentsai/Box/MURI-SARA/Thermoreflectance/Joanne/CHESS/0130_2023/103mm_per_sec/-18mm_29W_007.raw\n",
      "/Users/chiaentsai/Box/MURI-SARA/Thermoreflectance/Joanne/CHESS/0130_2023/103mm_per_sec/-18mm_29W_008.raw\n",
      "/Users/chiaentsai/Box/MURI-SARA/Thermoreflectance/Joanne/CHESS/0130_2023/103mm_per_sec/-18mm_29W_009.raw\n",
      "/Users/chiaentsai/Box/MURI-SARA/Thermoreflectance/Joanne/CHESS/0130_2023/103mm_per_sec/-18mm_29W_010.raw\n",
      "/Users/chiaentsai/Box/MURI-SARA/Thermoreflectance/Joanne/CHESS/0130_2023/103mm_per_sec/-18mm_29W_011.raw\n",
      "/Users/chiaentsai/Box/MURI-SARA/Thermoreflectance/Joanne/CHESS/0130_2023/103mm_per_sec/-18mm_29W_012.raw\n",
      "/Users/chiaentsai/Box/MURI-SARA/Thermoreflectance/Joanne/CHESS/0130_2023/103mm_per_sec/-18mm_29W_013.raw\n",
      "/Users/chiaentsai/Box/MURI-SARA/Thermoreflectance/Joanne/CHESS/0130_2023/103mm_per_sec/-18mm_29W_014.raw\n"
     ]
    },
    {
     "name": "stderr",
     "output_type": "stream",
     "text": [
      "\r",
      " 50%|████████████████████▌                    | 195/390 [00:07<00:09, 20.32it/s]"
     ]
    },
    {
     "name": "stdout",
     "output_type": "stream",
     "text": [
      "/Users/chiaentsai/Box/MURI-SARA/Thermoreflectance/Joanne/CHESS/0130_2023/103mm_per_sec/-18mm_29W_015.raw\n",
      "/Users/chiaentsai/Box/MURI-SARA/Thermoreflectance/Joanne/CHESS/0130_2023/103mm_per_sec/-18mm_29W_016.raw\n",
      "/Users/chiaentsai/Box/MURI-SARA/Thermoreflectance/Joanne/CHESS/0130_2023/103mm_per_sec/-18mm_29W_017.raw\n",
      "/Users/chiaentsai/Box/MURI-SARA/Thermoreflectance/Joanne/CHESS/0130_2023/103mm_per_sec/-18mm_29W_018.raw\n",
      "/Users/chiaentsai/Box/MURI-SARA/Thermoreflectance/Joanne/CHESS/0130_2023/103mm_per_sec/-18mm_29W_019.raw\n",
      "/Users/chiaentsai/Box/MURI-SARA/Thermoreflectance/Joanne/CHESS/0130_2023/103mm_per_sec/-18mm_29W_020.raw\n"
     ]
    },
    {
     "name": "stderr",
     "output_type": "stream",
     "text": [
      "\r",
      " 52%|█████████████████████▏                   | 201/390 [00:09<00:12, 14.97it/s]"
     ]
    },
    {
     "name": "stdout",
     "output_type": "stream",
     "text": [
      "/Users/chiaentsai/Box/MURI-SARA/Thermoreflectance/Joanne/CHESS/0130_2023/103mm_per_sec/-18mm_29W_021.raw\n",
      "/Users/chiaentsai/Box/MURI-SARA/Thermoreflectance/Joanne/CHESS/0130_2023/103mm_per_sec/-18mm_29W_022.raw\n",
      "/Users/chiaentsai/Box/MURI-SARA/Thermoreflectance/Joanne/CHESS/0130_2023/103mm_per_sec/-18mm_29W_023.raw\n",
      "/Users/chiaentsai/Box/MURI-SARA/Thermoreflectance/Joanne/CHESS/0130_2023/103mm_per_sec/-18mm_29W_024.raw\n"
     ]
    },
    {
     "name": "stderr",
     "output_type": "stream",
     "text": [
      "\r",
      " 53%|█████████████████████▌                   | 205/390 [00:11<00:15, 11.91it/s]"
     ]
    },
    {
     "name": "stdout",
     "output_type": "stream",
     "text": [
      "/Users/chiaentsai/Box/MURI-SARA/Thermoreflectance/Joanne/CHESS/0130_2023/103mm_per_sec/-18mm_29W_025.raw\n",
      "/Users/chiaentsai/Box/MURI-SARA/Thermoreflectance/Joanne/CHESS/0130_2023/103mm_per_sec/-18mm_29W_026.raw\n",
      "/Users/chiaentsai/Box/MURI-SARA/Thermoreflectance/Joanne/CHESS/0130_2023/103mm_per_sec/-18mm_29W_027.raw\n"
     ]
    },
    {
     "name": "stderr",
     "output_type": "stream",
     "text": [
      "\r",
      " 53%|█████████████████████▊                   | 208/390 [00:12<00:17, 10.34it/s]"
     ]
    },
    {
     "name": "stdout",
     "output_type": "stream",
     "text": [
      "/Users/chiaentsai/Box/MURI-SARA/Thermoreflectance/Joanne/CHESS/0130_2023/103mm_per_sec/-18mm_29W_028.raw\n",
      "/Users/chiaentsai/Box/MURI-SARA/Thermoreflectance/Joanne/CHESS/0130_2023/103mm_per_sec/-18mm_29W_029.raw\n"
     ]
    },
    {
     "name": "stderr",
     "output_type": "stream",
     "text": [
      "100%|█████████████████████████████████████████| 390/390 [00:12<00:00, 30.21it/s]\n",
      "  0%|                                                   | 0/390 [00:00<?, ?it/s]"
     ]
    },
    {
     "name": "stdout",
     "output_type": "stream",
     "text": [
      "/Users/chiaentsai/Box/MURI-SARA/Thermoreflectance/Joanne/CHESS/0130_2023/103mm_per_sec/-18mm_31W_000.raw\n"
     ]
    },
    {
     "name": "stderr",
     "output_type": "stream",
     "text": [
      "\r",
      " 54%|█████████████████████▋                  | 211/390 [00:00<00:00, 452.34it/s]"
     ]
    },
    {
     "name": "stdout",
     "output_type": "stream",
     "text": [
      "/Users/chiaentsai/Box/MURI-SARA/Thermoreflectance/Joanne/CHESS/0130_2023/103mm_per_sec/-18mm_31W_001.raw\n",
      "/Users/chiaentsai/Box/MURI-SARA/Thermoreflectance/Joanne/CHESS/0130_2023/103mm_per_sec/-18mm_31W_002.raw\n",
      "/Users/chiaentsai/Box/MURI-SARA/Thermoreflectance/Joanne/CHESS/0130_2023/103mm_per_sec/-18mm_31W_003.raw\n",
      "/Users/chiaentsai/Box/MURI-SARA/Thermoreflectance/Joanne/CHESS/0130_2023/103mm_per_sec/-18mm_31W_004.raw\n",
      "/Users/chiaentsai/Box/MURI-SARA/Thermoreflectance/Joanne/CHESS/0130_2023/103mm_per_sec/-18mm_31W_005.raw\n",
      "/Users/chiaentsai/Box/MURI-SARA/Thermoreflectance/Joanne/CHESS/0130_2023/103mm_per_sec/-18mm_31W_006.raw\n",
      "/Users/chiaentsai/Box/MURI-SARA/Thermoreflectance/Joanne/CHESS/0130_2023/103mm_per_sec/-18mm_31W_007.raw\n",
      "/Users/chiaentsai/Box/MURI-SARA/Thermoreflectance/Joanne/CHESS/0130_2023/103mm_per_sec/-18mm_31W_008.raw\n",
      "/Users/chiaentsai/Box/MURI-SARA/Thermoreflectance/Joanne/CHESS/0130_2023/103mm_per_sec/-18mm_31W_009.raw\n",
      "/Users/chiaentsai/Box/MURI-SARA/Thermoreflectance/Joanne/CHESS/0130_2023/103mm_per_sec/-18mm_31W_010.raw\n",
      "/Users/chiaentsai/Box/MURI-SARA/Thermoreflectance/Joanne/CHESS/0130_2023/103mm_per_sec/-18mm_31W_011.raw\n",
      "/Users/chiaentsai/Box/MURI-SARA/Thermoreflectance/Joanne/CHESS/0130_2023/103mm_per_sec/-18mm_31W_012.raw\n",
      "/Users/chiaentsai/Box/MURI-SARA/Thermoreflectance/Joanne/CHESS/0130_2023/103mm_per_sec/-18mm_31W_013.raw\n",
      "/Users/chiaentsai/Box/MURI-SARA/Thermoreflectance/Joanne/CHESS/0130_2023/103mm_per_sec/-18mm_31W_014.raw\n",
      "/Users/chiaentsai/Box/MURI-SARA/Thermoreflectance/Joanne/CHESS/0130_2023/103mm_per_sec/-18mm_31W_015.raw\n",
      "/Users/chiaentsai/Box/MURI-SARA/Thermoreflectance/Joanne/CHESS/0130_2023/103mm_per_sec/-18mm_31W_016.raw\n",
      "/Users/chiaentsai/Box/MURI-SARA/Thermoreflectance/Joanne/CHESS/0130_2023/103mm_per_sec/-18mm_31W_017.raw\n",
      "/Users/chiaentsai/Box/MURI-SARA/Thermoreflectance/Joanne/CHESS/0130_2023/103mm_per_sec/-18mm_31W_018.raw\n",
      "/Users/chiaentsai/Box/MURI-SARA/Thermoreflectance/Joanne/CHESS/0130_2023/103mm_per_sec/-18mm_31W_019.raw\n",
      "/Users/chiaentsai/Box/MURI-SARA/Thermoreflectance/Joanne/CHESS/0130_2023/103mm_per_sec/-18mm_31W_020.raw\n",
      "/Users/chiaentsai/Box/MURI-SARA/Thermoreflectance/Joanne/CHESS/0130_2023/103mm_per_sec/-18mm_31W_021.raw\n",
      "/Users/chiaentsai/Box/MURI-SARA/Thermoreflectance/Joanne/CHESS/0130_2023/103mm_per_sec/-18mm_31W_022.raw\n",
      "/Users/chiaentsai/Box/MURI-SARA/Thermoreflectance/Joanne/CHESS/0130_2023/103mm_per_sec/-18mm_31W_023.raw\n",
      "/Users/chiaentsai/Box/MURI-SARA/Thermoreflectance/Joanne/CHESS/0130_2023/103mm_per_sec/-18mm_31W_024.raw\n",
      "/Users/chiaentsai/Box/MURI-SARA/Thermoreflectance/Joanne/CHESS/0130_2023/103mm_per_sec/-18mm_31W_025.raw\n",
      "/Users/chiaentsai/Box/MURI-SARA/Thermoreflectance/Joanne/CHESS/0130_2023/103mm_per_sec/-18mm_31W_026.raw\n",
      "/Users/chiaentsai/Box/MURI-SARA/Thermoreflectance/Joanne/CHESS/0130_2023/103mm_per_sec/-18mm_31W_027.raw\n",
      "/Users/chiaentsai/Box/MURI-SARA/Thermoreflectance/Joanne/CHESS/0130_2023/103mm_per_sec/-18mm_31W_028.raw\n",
      "/Users/chiaentsai/Box/MURI-SARA/Thermoreflectance/Joanne/CHESS/0130_2023/103mm_per_sec/-18mm_31W_029.raw\n"
     ]
    },
    {
     "name": "stderr",
     "output_type": "stream",
     "text": [
      "100%|█████████████████████████████████████████| 390/390 [00:11<00:00, 34.26it/s]\n",
      "  0%|                                                   | 0/390 [00:00<?, ?it/s]"
     ]
    },
    {
     "name": "stdout",
     "output_type": "stream",
     "text": [
      "/Users/chiaentsai/Box/MURI-SARA/Thermoreflectance/Joanne/CHESS/0130_2023/103mm_per_sec/-18mm_33W_000.raw\n"
     ]
    },
    {
     "name": "stderr",
     "output_type": "stream",
     "text": [
      "\r",
      " 62%|████████████████████████▋               | 241/390 [00:00<00:00, 277.08it/s]"
     ]
    },
    {
     "name": "stdout",
     "output_type": "stream",
     "text": [
      "/Users/chiaentsai/Box/MURI-SARA/Thermoreflectance/Joanne/CHESS/0130_2023/103mm_per_sec/-18mm_33W_001.raw\n",
      "/Users/chiaentsai/Box/MURI-SARA/Thermoreflectance/Joanne/CHESS/0130_2023/103mm_per_sec/-18mm_33W_002.raw\n",
      "/Users/chiaentsai/Box/MURI-SARA/Thermoreflectance/Joanne/CHESS/0130_2023/103mm_per_sec/-18mm_33W_003.raw\n",
      "/Users/chiaentsai/Box/MURI-SARA/Thermoreflectance/Joanne/CHESS/0130_2023/103mm_per_sec/-18mm_33W_004.raw\n",
      "/Users/chiaentsai/Box/MURI-SARA/Thermoreflectance/Joanne/CHESS/0130_2023/103mm_per_sec/-18mm_33W_005.raw\n",
      "/Users/chiaentsai/Box/MURI-SARA/Thermoreflectance/Joanne/CHESS/0130_2023/103mm_per_sec/-18mm_33W_006.raw\n",
      "/Users/chiaentsai/Box/MURI-SARA/Thermoreflectance/Joanne/CHESS/0130_2023/103mm_per_sec/-18mm_33W_007.raw\n",
      "/Users/chiaentsai/Box/MURI-SARA/Thermoreflectance/Joanne/CHESS/0130_2023/103mm_per_sec/-18mm_33W_008.raw\n",
      "/Users/chiaentsai/Box/MURI-SARA/Thermoreflectance/Joanne/CHESS/0130_2023/103mm_per_sec/-18mm_33W_009.raw\n",
      "/Users/chiaentsai/Box/MURI-SARA/Thermoreflectance/Joanne/CHESS/0130_2023/103mm_per_sec/-18mm_33W_010.raw\n",
      "/Users/chiaentsai/Box/MURI-SARA/Thermoreflectance/Joanne/CHESS/0130_2023/103mm_per_sec/-18mm_33W_011.raw\n",
      "/Users/chiaentsai/Box/MURI-SARA/Thermoreflectance/Joanne/CHESS/0130_2023/103mm_per_sec/-18mm_33W_012.raw\n",
      "/Users/chiaentsai/Box/MURI-SARA/Thermoreflectance/Joanne/CHESS/0130_2023/103mm_per_sec/-18mm_33W_013.raw\n",
      "/Users/chiaentsai/Box/MURI-SARA/Thermoreflectance/Joanne/CHESS/0130_2023/103mm_per_sec/-18mm_33W_014.raw\n",
      "/Users/chiaentsai/Box/MURI-SARA/Thermoreflectance/Joanne/CHESS/0130_2023/103mm_per_sec/-18mm_33W_015.raw\n",
      "/Users/chiaentsai/Box/MURI-SARA/Thermoreflectance/Joanne/CHESS/0130_2023/103mm_per_sec/-18mm_33W_016.raw\n",
      "/Users/chiaentsai/Box/MURI-SARA/Thermoreflectance/Joanne/CHESS/0130_2023/103mm_per_sec/-18mm_33W_017.raw\n",
      "/Users/chiaentsai/Box/MURI-SARA/Thermoreflectance/Joanne/CHESS/0130_2023/103mm_per_sec/-18mm_33W_018.raw\n",
      "/Users/chiaentsai/Box/MURI-SARA/Thermoreflectance/Joanne/CHESS/0130_2023/103mm_per_sec/-18mm_33W_019.raw\n",
      "/Users/chiaentsai/Box/MURI-SARA/Thermoreflectance/Joanne/CHESS/0130_2023/103mm_per_sec/-18mm_33W_020.raw\n",
      "/Users/chiaentsai/Box/MURI-SARA/Thermoreflectance/Joanne/CHESS/0130_2023/103mm_per_sec/-18mm_33W_021.raw\n",
      "/Users/chiaentsai/Box/MURI-SARA/Thermoreflectance/Joanne/CHESS/0130_2023/103mm_per_sec/-18mm_33W_022.raw\n",
      "/Users/chiaentsai/Box/MURI-SARA/Thermoreflectance/Joanne/CHESS/0130_2023/103mm_per_sec/-18mm_33W_023.raw\n",
      "/Users/chiaentsai/Box/MURI-SARA/Thermoreflectance/Joanne/CHESS/0130_2023/103mm_per_sec/-18mm_33W_024.raw\n",
      "/Users/chiaentsai/Box/MURI-SARA/Thermoreflectance/Joanne/CHESS/0130_2023/103mm_per_sec/-18mm_33W_025.raw\n",
      "/Users/chiaentsai/Box/MURI-SARA/Thermoreflectance/Joanne/CHESS/0130_2023/103mm_per_sec/-18mm_33W_026.raw\n",
      "/Users/chiaentsai/Box/MURI-SARA/Thermoreflectance/Joanne/CHESS/0130_2023/103mm_per_sec/-18mm_33W_027.raw\n"
     ]
    },
    {
     "name": "stderr",
     "output_type": "stream",
     "text": [
      "\r",
      " 69%|████████████████████████████▎            | 269/390 [00:10<00:06, 20.05it/s]"
     ]
    },
    {
     "name": "stdout",
     "output_type": "stream",
     "text": [
      "/Users/chiaentsai/Box/MURI-SARA/Thermoreflectance/Joanne/CHESS/0130_2023/103mm_per_sec/-18mm_33W_028.raw\n",
      "/Users/chiaentsai/Box/MURI-SARA/Thermoreflectance/Joanne/CHESS/0130_2023/103mm_per_sec/-18mm_33W_029.raw\n"
     ]
    },
    {
     "name": "stderr",
     "output_type": "stream",
     "text": [
      "100%|█████████████████████████████████████████| 390/390 [00:10<00:00, 36.29it/s]\n",
      "  0%|                                                   | 0/390 [00:00<?, ?it/s]"
     ]
    },
    {
     "name": "stdout",
     "output_type": "stream",
     "text": [
      "/Users/chiaentsai/Box/MURI-SARA/Thermoreflectance/Joanne/CHESS/0130_2023/103mm_per_sec/-18mm_35W_000.raw\n"
     ]
    },
    {
     "name": "stderr",
     "output_type": "stream",
     "text": [
      "\r",
      " 69%|███████████████████████████▊            | 271/390 [00:00<00:00, 271.98it/s]"
     ]
    },
    {
     "name": "stdout",
     "output_type": "stream",
     "text": [
      "/Users/chiaentsai/Box/MURI-SARA/Thermoreflectance/Joanne/CHESS/0130_2023/103mm_per_sec/-18mm_35W_001.raw\n",
      "/Users/chiaentsai/Box/MURI-SARA/Thermoreflectance/Joanne/CHESS/0130_2023/103mm_per_sec/-18mm_35W_002.raw\n",
      "/Users/chiaentsai/Box/MURI-SARA/Thermoreflectance/Joanne/CHESS/0130_2023/103mm_per_sec/-18mm_35W_003.raw\n",
      "/Users/chiaentsai/Box/MURI-SARA/Thermoreflectance/Joanne/CHESS/0130_2023/103mm_per_sec/-18mm_35W_004.raw\n",
      "/Users/chiaentsai/Box/MURI-SARA/Thermoreflectance/Joanne/CHESS/0130_2023/103mm_per_sec/-18mm_35W_005.raw\n",
      "/Users/chiaentsai/Box/MURI-SARA/Thermoreflectance/Joanne/CHESS/0130_2023/103mm_per_sec/-18mm_35W_006.raw\n",
      "/Users/chiaentsai/Box/MURI-SARA/Thermoreflectance/Joanne/CHESS/0130_2023/103mm_per_sec/-18mm_35W_007.raw\n",
      "/Users/chiaentsai/Box/MURI-SARA/Thermoreflectance/Joanne/CHESS/0130_2023/103mm_per_sec/-18mm_35W_008.raw\n",
      "/Users/chiaentsai/Box/MURI-SARA/Thermoreflectance/Joanne/CHESS/0130_2023/103mm_per_sec/-18mm_35W_009.raw\n",
      "/Users/chiaentsai/Box/MURI-SARA/Thermoreflectance/Joanne/CHESS/0130_2023/103mm_per_sec/-18mm_35W_010.raw\n",
      "/Users/chiaentsai/Box/MURI-SARA/Thermoreflectance/Joanne/CHESS/0130_2023/103mm_per_sec/-18mm_35W_011.raw\n",
      "/Users/chiaentsai/Box/MURI-SARA/Thermoreflectance/Joanne/CHESS/0130_2023/103mm_per_sec/-18mm_35W_012.raw\n",
      "/Users/chiaentsai/Box/MURI-SARA/Thermoreflectance/Joanne/CHESS/0130_2023/103mm_per_sec/-18mm_35W_013.raw\n",
      "/Users/chiaentsai/Box/MURI-SARA/Thermoreflectance/Joanne/CHESS/0130_2023/103mm_per_sec/-18mm_35W_014.raw\n",
      "/Users/chiaentsai/Box/MURI-SARA/Thermoreflectance/Joanne/CHESS/0130_2023/103mm_per_sec/-18mm_35W_015.raw\n",
      "/Users/chiaentsai/Box/MURI-SARA/Thermoreflectance/Joanne/CHESS/0130_2023/103mm_per_sec/-18mm_35W_016.raw\n",
      "/Users/chiaentsai/Box/MURI-SARA/Thermoreflectance/Joanne/CHESS/0130_2023/103mm_per_sec/-18mm_35W_017.raw\n",
      "/Users/chiaentsai/Box/MURI-SARA/Thermoreflectance/Joanne/CHESS/0130_2023/103mm_per_sec/-18mm_35W_018.raw\n",
      "/Users/chiaentsai/Box/MURI-SARA/Thermoreflectance/Joanne/CHESS/0130_2023/103mm_per_sec/-18mm_35W_019.raw\n",
      "/Users/chiaentsai/Box/MURI-SARA/Thermoreflectance/Joanne/CHESS/0130_2023/103mm_per_sec/-18mm_35W_020.raw\n",
      "/Users/chiaentsai/Box/MURI-SARA/Thermoreflectance/Joanne/CHESS/0130_2023/103mm_per_sec/-18mm_35W_021.raw\n",
      "/Users/chiaentsai/Box/MURI-SARA/Thermoreflectance/Joanne/CHESS/0130_2023/103mm_per_sec/-18mm_35W_022.raw\n",
      "/Users/chiaentsai/Box/MURI-SARA/Thermoreflectance/Joanne/CHESS/0130_2023/103mm_per_sec/-18mm_35W_023.raw\n",
      "/Users/chiaentsai/Box/MURI-SARA/Thermoreflectance/Joanne/CHESS/0130_2023/103mm_per_sec/-18mm_35W_024.raw\n",
      "/Users/chiaentsai/Box/MURI-SARA/Thermoreflectance/Joanne/CHESS/0130_2023/103mm_per_sec/-18mm_35W_025.raw\n",
      "/Users/chiaentsai/Box/MURI-SARA/Thermoreflectance/Joanne/CHESS/0130_2023/103mm_per_sec/-18mm_35W_026.raw\n",
      "/Users/chiaentsai/Box/MURI-SARA/Thermoreflectance/Joanne/CHESS/0130_2023/103mm_per_sec/-18mm_35W_027.raw\n",
      "/Users/chiaentsai/Box/MURI-SARA/Thermoreflectance/Joanne/CHESS/0130_2023/103mm_per_sec/-18mm_35W_028.raw\n"
     ]
    },
    {
     "name": "stderr",
     "output_type": "stream",
     "text": [
      "\r",
      " 77%|███████████████████████████████▍         | 299/390 [00:09<00:04, 22.66it/s]"
     ]
    },
    {
     "name": "stdout",
     "output_type": "stream",
     "text": [
      "/Users/chiaentsai/Box/MURI-SARA/Thermoreflectance/Joanne/CHESS/0130_2023/103mm_per_sec/-18mm_35W_029.raw\n"
     ]
    },
    {
     "name": "stderr",
     "output_type": "stream",
     "text": [
      "100%|█████████████████████████████████████████| 390/390 [00:10<00:00, 37.83it/s]\n",
      "  0%|                                                   | 0/390 [00:00<?, ?it/s]"
     ]
    },
    {
     "name": "stdout",
     "output_type": "stream",
     "text": [
      "/Users/chiaentsai/Box/MURI-SARA/Thermoreflectance/Joanne/CHESS/0130_2023/103mm_per_sec/-18mm_37W_000.raw\n"
     ]
    },
    {
     "name": "stderr",
     "output_type": "stream",
     "text": [
      "\r",
      " 77%|██████████████████████████████▊         | 301/390 [00:00<00:00, 455.99it/s]"
     ]
    },
    {
     "name": "stdout",
     "output_type": "stream",
     "text": [
      "/Users/chiaentsai/Box/MURI-SARA/Thermoreflectance/Joanne/CHESS/0130_2023/103mm_per_sec/-18mm_37W_001.raw\n",
      "/Users/chiaentsai/Box/MURI-SARA/Thermoreflectance/Joanne/CHESS/0130_2023/103mm_per_sec/-18mm_37W_002.raw\n",
      "/Users/chiaentsai/Box/MURI-SARA/Thermoreflectance/Joanne/CHESS/0130_2023/103mm_per_sec/-18mm_37W_003.raw\n",
      "/Users/chiaentsai/Box/MURI-SARA/Thermoreflectance/Joanne/CHESS/0130_2023/103mm_per_sec/-18mm_37W_004.raw\n",
      "/Users/chiaentsai/Box/MURI-SARA/Thermoreflectance/Joanne/CHESS/0130_2023/103mm_per_sec/-18mm_37W_005.raw\n",
      "/Users/chiaentsai/Box/MURI-SARA/Thermoreflectance/Joanne/CHESS/0130_2023/103mm_per_sec/-18mm_37W_006.raw\n",
      "/Users/chiaentsai/Box/MURI-SARA/Thermoreflectance/Joanne/CHESS/0130_2023/103mm_per_sec/-18mm_37W_007.raw\n",
      "/Users/chiaentsai/Box/MURI-SARA/Thermoreflectance/Joanne/CHESS/0130_2023/103mm_per_sec/-18mm_37W_008.raw\n",
      "/Users/chiaentsai/Box/MURI-SARA/Thermoreflectance/Joanne/CHESS/0130_2023/103mm_per_sec/-18mm_37W_009.raw\n",
      "/Users/chiaentsai/Box/MURI-SARA/Thermoreflectance/Joanne/CHESS/0130_2023/103mm_per_sec/-18mm_37W_010.raw\n",
      "/Users/chiaentsai/Box/MURI-SARA/Thermoreflectance/Joanne/CHESS/0130_2023/103mm_per_sec/-18mm_37W_011.raw\n",
      "/Users/chiaentsai/Box/MURI-SARA/Thermoreflectance/Joanne/CHESS/0130_2023/103mm_per_sec/-18mm_37W_012.raw\n",
      "/Users/chiaentsai/Box/MURI-SARA/Thermoreflectance/Joanne/CHESS/0130_2023/103mm_per_sec/-18mm_37W_013.raw\n",
      "/Users/chiaentsai/Box/MURI-SARA/Thermoreflectance/Joanne/CHESS/0130_2023/103mm_per_sec/-18mm_37W_014.raw\n",
      "/Users/chiaentsai/Box/MURI-SARA/Thermoreflectance/Joanne/CHESS/0130_2023/103mm_per_sec/-18mm_37W_015.raw\n",
      "/Users/chiaentsai/Box/MURI-SARA/Thermoreflectance/Joanne/CHESS/0130_2023/103mm_per_sec/-18mm_37W_016.raw\n",
      "/Users/chiaentsai/Box/MURI-SARA/Thermoreflectance/Joanne/CHESS/0130_2023/103mm_per_sec/-18mm_37W_017.raw\n",
      "/Users/chiaentsai/Box/MURI-SARA/Thermoreflectance/Joanne/CHESS/0130_2023/103mm_per_sec/-18mm_37W_018.raw\n",
      "/Users/chiaentsai/Box/MURI-SARA/Thermoreflectance/Joanne/CHESS/0130_2023/103mm_per_sec/-18mm_37W_019.raw\n",
      "/Users/chiaentsai/Box/MURI-SARA/Thermoreflectance/Joanne/CHESS/0130_2023/103mm_per_sec/-18mm_37W_020.raw\n",
      "/Users/chiaentsai/Box/MURI-SARA/Thermoreflectance/Joanne/CHESS/0130_2023/103mm_per_sec/-18mm_37W_021.raw\n",
      "/Users/chiaentsai/Box/MURI-SARA/Thermoreflectance/Joanne/CHESS/0130_2023/103mm_per_sec/-18mm_37W_022.raw\n",
      "/Users/chiaentsai/Box/MURI-SARA/Thermoreflectance/Joanne/CHESS/0130_2023/103mm_per_sec/-18mm_37W_023.raw\n",
      "/Users/chiaentsai/Box/MURI-SARA/Thermoreflectance/Joanne/CHESS/0130_2023/103mm_per_sec/-18mm_37W_024.raw\n",
      "/Users/chiaentsai/Box/MURI-SARA/Thermoreflectance/Joanne/CHESS/0130_2023/103mm_per_sec/-18mm_37W_025.raw\n",
      "/Users/chiaentsai/Box/MURI-SARA/Thermoreflectance/Joanne/CHESS/0130_2023/103mm_per_sec/-18mm_37W_026.raw\n",
      "/Users/chiaentsai/Box/MURI-SARA/Thermoreflectance/Joanne/CHESS/0130_2023/103mm_per_sec/-18mm_37W_027.raw\n",
      "/Users/chiaentsai/Box/MURI-SARA/Thermoreflectance/Joanne/CHESS/0130_2023/103mm_per_sec/-18mm_37W_028.raw\n",
      "/Users/chiaentsai/Box/MURI-SARA/Thermoreflectance/Joanne/CHESS/0130_2023/103mm_per_sec/-18mm_37W_029.raw\n"
     ]
    },
    {
     "name": "stderr",
     "output_type": "stream",
     "text": [
      "100%|█████████████████████████████████████████| 390/390 [00:09<00:00, 43.01it/s]\n",
      "  0%|                                                   | 0/390 [00:00<?, ?it/s]"
     ]
    },
    {
     "name": "stdout",
     "output_type": "stream",
     "text": [
      "/Users/chiaentsai/Box/MURI-SARA/Thermoreflectance/Joanne/CHESS/0130_2023/103mm_per_sec/-18mm_39W_000.raw\n"
     ]
    },
    {
     "name": "stderr",
     "output_type": "stream",
     "text": [
      "\r",
      " 85%|█████████████████████████████████▉      | 331/390 [00:00<00:00, 464.52it/s]"
     ]
    },
    {
     "name": "stdout",
     "output_type": "stream",
     "text": [
      "/Users/chiaentsai/Box/MURI-SARA/Thermoreflectance/Joanne/CHESS/0130_2023/103mm_per_sec/-18mm_39W_001.raw\n",
      "/Users/chiaentsai/Box/MURI-SARA/Thermoreflectance/Joanne/CHESS/0130_2023/103mm_per_sec/-18mm_39W_002.raw\n",
      "/Users/chiaentsai/Box/MURI-SARA/Thermoreflectance/Joanne/CHESS/0130_2023/103mm_per_sec/-18mm_39W_003.raw\n",
      "/Users/chiaentsai/Box/MURI-SARA/Thermoreflectance/Joanne/CHESS/0130_2023/103mm_per_sec/-18mm_39W_004.raw\n",
      "/Users/chiaentsai/Box/MURI-SARA/Thermoreflectance/Joanne/CHESS/0130_2023/103mm_per_sec/-18mm_39W_005.raw\n",
      "/Users/chiaentsai/Box/MURI-SARA/Thermoreflectance/Joanne/CHESS/0130_2023/103mm_per_sec/-18mm_39W_006.raw\n",
      "/Users/chiaentsai/Box/MURI-SARA/Thermoreflectance/Joanne/CHESS/0130_2023/103mm_per_sec/-18mm_39W_007.raw\n",
      "/Users/chiaentsai/Box/MURI-SARA/Thermoreflectance/Joanne/CHESS/0130_2023/103mm_per_sec/-18mm_39W_008.raw\n",
      "/Users/chiaentsai/Box/MURI-SARA/Thermoreflectance/Joanne/CHESS/0130_2023/103mm_per_sec/-18mm_39W_009.raw\n",
      "/Users/chiaentsai/Box/MURI-SARA/Thermoreflectance/Joanne/CHESS/0130_2023/103mm_per_sec/-18mm_39W_010.raw\n",
      "/Users/chiaentsai/Box/MURI-SARA/Thermoreflectance/Joanne/CHESS/0130_2023/103mm_per_sec/-18mm_39W_011.raw\n",
      "/Users/chiaentsai/Box/MURI-SARA/Thermoreflectance/Joanne/CHESS/0130_2023/103mm_per_sec/-18mm_39W_012.raw\n",
      "/Users/chiaentsai/Box/MURI-SARA/Thermoreflectance/Joanne/CHESS/0130_2023/103mm_per_sec/-18mm_39W_013.raw\n",
      "/Users/chiaentsai/Box/MURI-SARA/Thermoreflectance/Joanne/CHESS/0130_2023/103mm_per_sec/-18mm_39W_014.raw\n",
      "/Users/chiaentsai/Box/MURI-SARA/Thermoreflectance/Joanne/CHESS/0130_2023/103mm_per_sec/-18mm_39W_015.raw\n",
      "/Users/chiaentsai/Box/MURI-SARA/Thermoreflectance/Joanne/CHESS/0130_2023/103mm_per_sec/-18mm_39W_016.raw\n",
      "/Users/chiaentsai/Box/MURI-SARA/Thermoreflectance/Joanne/CHESS/0130_2023/103mm_per_sec/-18mm_39W_017.raw\n",
      "/Users/chiaentsai/Box/MURI-SARA/Thermoreflectance/Joanne/CHESS/0130_2023/103mm_per_sec/-18mm_39W_018.raw\n",
      "/Users/chiaentsai/Box/MURI-SARA/Thermoreflectance/Joanne/CHESS/0130_2023/103mm_per_sec/-18mm_39W_019.raw\n",
      "/Users/chiaentsai/Box/MURI-SARA/Thermoreflectance/Joanne/CHESS/0130_2023/103mm_per_sec/-18mm_39W_020.raw\n",
      "/Users/chiaentsai/Box/MURI-SARA/Thermoreflectance/Joanne/CHESS/0130_2023/103mm_per_sec/-18mm_39W_021.raw\n",
      "/Users/chiaentsai/Box/MURI-SARA/Thermoreflectance/Joanne/CHESS/0130_2023/103mm_per_sec/-18mm_39W_022.raw\n",
      "/Users/chiaentsai/Box/MURI-SARA/Thermoreflectance/Joanne/CHESS/0130_2023/103mm_per_sec/-18mm_39W_023.raw\n",
      "/Users/chiaentsai/Box/MURI-SARA/Thermoreflectance/Joanne/CHESS/0130_2023/103mm_per_sec/-18mm_39W_024.raw\n",
      "/Users/chiaentsai/Box/MURI-SARA/Thermoreflectance/Joanne/CHESS/0130_2023/103mm_per_sec/-18mm_39W_025.raw\n",
      "/Users/chiaentsai/Box/MURI-SARA/Thermoreflectance/Joanne/CHESS/0130_2023/103mm_per_sec/-18mm_39W_026.raw\n",
      "/Users/chiaentsai/Box/MURI-SARA/Thermoreflectance/Joanne/CHESS/0130_2023/103mm_per_sec/-18mm_39W_027.raw\n",
      "/Users/chiaentsai/Box/MURI-SARA/Thermoreflectance/Joanne/CHESS/0130_2023/103mm_per_sec/-18mm_39W_028.raw\n"
     ]
    },
    {
     "name": "stderr",
     "output_type": "stream",
     "text": [
      "100%|█████████████████████████████████████████| 390/390 [00:10<00:00, 38.48it/s]\n"
     ]
    },
    {
     "name": "stdout",
     "output_type": "stream",
     "text": [
      "/Users/chiaentsai/Box/MURI-SARA/Thermoreflectance/Joanne/CHESS/0130_2023/103mm_per_sec/-18mm_39W_029.raw\n"
     ]
    },
    {
     "name": "stderr",
     "output_type": "stream",
     "text": [
      "\r",
      "  0%|                                                   | 0/390 [00:00<?, ?it/s]"
     ]
    },
    {
     "name": "stdout",
     "output_type": "stream",
     "text": [
      "/Users/chiaentsai/Box/MURI-SARA/Thermoreflectance/Joanne/CHESS/0130_2023/103mm_per_sec/-18mm_41W_000.raw\n"
     ]
    },
    {
     "name": "stderr",
     "output_type": "stream",
     "text": [
      "\r",
      " 93%|█████████████████████████████████████   | 361/390 [00:01<00:00, 348.11it/s]"
     ]
    },
    {
     "name": "stdout",
     "output_type": "stream",
     "text": [
      "/Users/chiaentsai/Box/MURI-SARA/Thermoreflectance/Joanne/CHESS/0130_2023/103mm_per_sec/-18mm_41W_001.raw\n",
      "/Users/chiaentsai/Box/MURI-SARA/Thermoreflectance/Joanne/CHESS/0130_2023/103mm_per_sec/-18mm_41W_002.raw\n",
      "/Users/chiaentsai/Box/MURI-SARA/Thermoreflectance/Joanne/CHESS/0130_2023/103mm_per_sec/-18mm_41W_003.raw\n",
      "/Users/chiaentsai/Box/MURI-SARA/Thermoreflectance/Joanne/CHESS/0130_2023/103mm_per_sec/-18mm_41W_004.raw\n",
      "/Users/chiaentsai/Box/MURI-SARA/Thermoreflectance/Joanne/CHESS/0130_2023/103mm_per_sec/-18mm_41W_005.raw\n",
      "/Users/chiaentsai/Box/MURI-SARA/Thermoreflectance/Joanne/CHESS/0130_2023/103mm_per_sec/-18mm_41W_006.raw\n",
      "/Users/chiaentsai/Box/MURI-SARA/Thermoreflectance/Joanne/CHESS/0130_2023/103mm_per_sec/-18mm_41W_007.raw\n",
      "/Users/chiaentsai/Box/MURI-SARA/Thermoreflectance/Joanne/CHESS/0130_2023/103mm_per_sec/-18mm_41W_008.raw\n",
      "/Users/chiaentsai/Box/MURI-SARA/Thermoreflectance/Joanne/CHESS/0130_2023/103mm_per_sec/-18mm_41W_009.raw\n",
      "/Users/chiaentsai/Box/MURI-SARA/Thermoreflectance/Joanne/CHESS/0130_2023/103mm_per_sec/-18mm_41W_010.raw\n",
      "/Users/chiaentsai/Box/MURI-SARA/Thermoreflectance/Joanne/CHESS/0130_2023/103mm_per_sec/-18mm_41W_011.raw\n",
      "/Users/chiaentsai/Box/MURI-SARA/Thermoreflectance/Joanne/CHESS/0130_2023/103mm_per_sec/-18mm_41W_012.raw\n",
      "/Users/chiaentsai/Box/MURI-SARA/Thermoreflectance/Joanne/CHESS/0130_2023/103mm_per_sec/-18mm_41W_013.raw\n",
      "/Users/chiaentsai/Box/MURI-SARA/Thermoreflectance/Joanne/CHESS/0130_2023/103mm_per_sec/-18mm_41W_014.raw\n",
      "/Users/chiaentsai/Box/MURI-SARA/Thermoreflectance/Joanne/CHESS/0130_2023/103mm_per_sec/-18mm_41W_015.raw\n",
      "/Users/chiaentsai/Box/MURI-SARA/Thermoreflectance/Joanne/CHESS/0130_2023/103mm_per_sec/-18mm_41W_016.raw\n",
      "/Users/chiaentsai/Box/MURI-SARA/Thermoreflectance/Joanne/CHESS/0130_2023/103mm_per_sec/-18mm_41W_017.raw\n",
      "/Users/chiaentsai/Box/MURI-SARA/Thermoreflectance/Joanne/CHESS/0130_2023/103mm_per_sec/-18mm_41W_018.raw\n",
      "/Users/chiaentsai/Box/MURI-SARA/Thermoreflectance/Joanne/CHESS/0130_2023/103mm_per_sec/-18mm_41W_019.raw\n",
      "/Users/chiaentsai/Box/MURI-SARA/Thermoreflectance/Joanne/CHESS/0130_2023/103mm_per_sec/-18mm_41W_020.raw\n",
      "/Users/chiaentsai/Box/MURI-SARA/Thermoreflectance/Joanne/CHESS/0130_2023/103mm_per_sec/-18mm_41W_021.raw\n",
      "/Users/chiaentsai/Box/MURI-SARA/Thermoreflectance/Joanne/CHESS/0130_2023/103mm_per_sec/-18mm_41W_022.raw\n",
      "/Users/chiaentsai/Box/MURI-SARA/Thermoreflectance/Joanne/CHESS/0130_2023/103mm_per_sec/-18mm_41W_023.raw\n",
      "/Users/chiaentsai/Box/MURI-SARA/Thermoreflectance/Joanne/CHESS/0130_2023/103mm_per_sec/-18mm_41W_024.raw\n",
      "/Users/chiaentsai/Box/MURI-SARA/Thermoreflectance/Joanne/CHESS/0130_2023/103mm_per_sec/-18mm_41W_025.raw\n",
      "/Users/chiaentsai/Box/MURI-SARA/Thermoreflectance/Joanne/CHESS/0130_2023/103mm_per_sec/-18mm_41W_026.raw\n",
      "/Users/chiaentsai/Box/MURI-SARA/Thermoreflectance/Joanne/CHESS/0130_2023/103mm_per_sec/-18mm_41W_027.raw\n",
      "/Users/chiaentsai/Box/MURI-SARA/Thermoreflectance/Joanne/CHESS/0130_2023/103mm_per_sec/-18mm_41W_028.raw\n",
      "/Users/chiaentsai/Box/MURI-SARA/Thermoreflectance/Joanne/CHESS/0130_2023/103mm_per_sec/-18mm_41W_029.raw\n"
     ]
    },
    {
     "name": "stderr",
     "output_type": "stream",
     "text": [
      "100%|█████████████████████████████████████████| 390/390 [00:12<00:00, 30.96it/s]\n",
      "  0%|                                                   | 0/560 [00:00<?, ?it/s]"
     ]
    },
    {
     "name": "stdout",
     "output_type": "stream",
     "text": [
      "/Users/chiaentsai/Box/MURI-SARA/Thermoreflectance/Joanne/CHESS/0130_2023/13mm_per_sec/-8mm_21W_000.raw\n"
     ]
    },
    {
     "name": "stderr",
     "output_type": "stream",
     "text": [
      "\r",
      " 36%|██████████████▎                         | 201/560 [00:00<00:00, 761.19it/s]"
     ]
    },
    {
     "name": "stdout",
     "output_type": "stream",
     "text": [
      "/Users/chiaentsai/Box/MURI-SARA/Thermoreflectance/Joanne/CHESS/0130_2023/13mm_per_sec/-8mm_21W_001.raw\n",
      "/Users/chiaentsai/Box/MURI-SARA/Thermoreflectance/Joanne/CHESS/0130_2023/13mm_per_sec/-8mm_21W_002.raw\n",
      "/Users/chiaentsai/Box/MURI-SARA/Thermoreflectance/Joanne/CHESS/0130_2023/13mm_per_sec/-8mm_21W_003.raw\n",
      "/Users/chiaentsai/Box/MURI-SARA/Thermoreflectance/Joanne/CHESS/0130_2023/13mm_per_sec/-8mm_21W_004.raw\n",
      "/Users/chiaentsai/Box/MURI-SARA/Thermoreflectance/Joanne/CHESS/0130_2023/13mm_per_sec/-8mm_21W_005.raw\n",
      "/Users/chiaentsai/Box/MURI-SARA/Thermoreflectance/Joanne/CHESS/0130_2023/13mm_per_sec/-8mm_21W_006.raw\n",
      "/Users/chiaentsai/Box/MURI-SARA/Thermoreflectance/Joanne/CHESS/0130_2023/13mm_per_sec/-8mm_21W_007.raw\n",
      "/Users/chiaentsai/Box/MURI-SARA/Thermoreflectance/Joanne/CHESS/0130_2023/13mm_per_sec/-8mm_21W_008.raw\n",
      "/Users/chiaentsai/Box/MURI-SARA/Thermoreflectance/Joanne/CHESS/0130_2023/13mm_per_sec/-8mm_21W_009.raw\n",
      "/Users/chiaentsai/Box/MURI-SARA/Thermoreflectance/Joanne/CHESS/0130_2023/13mm_per_sec/-8mm_21W_010.raw\n",
      "/Users/chiaentsai/Box/MURI-SARA/Thermoreflectance/Joanne/CHESS/0130_2023/13mm_per_sec/-8mm_21W_011.raw\n",
      "/Users/chiaentsai/Box/MURI-SARA/Thermoreflectance/Joanne/CHESS/0130_2023/13mm_per_sec/-8mm_21W_012.raw\n",
      "/Users/chiaentsai/Box/MURI-SARA/Thermoreflectance/Joanne/CHESS/0130_2023/13mm_per_sec/-8mm_21W_013.raw\n",
      "/Users/chiaentsai/Box/MURI-SARA/Thermoreflectance/Joanne/CHESS/0130_2023/13mm_per_sec/-8mm_21W_014.raw\n",
      "/Users/chiaentsai/Box/MURI-SARA/Thermoreflectance/Joanne/CHESS/0130_2023/13mm_per_sec/-8mm_21W_015.raw\n",
      "/Users/chiaentsai/Box/MURI-SARA/Thermoreflectance/Joanne/CHESS/0130_2023/13mm_per_sec/-8mm_21W_016.raw\n",
      "/Users/chiaentsai/Box/MURI-SARA/Thermoreflectance/Joanne/CHESS/0130_2023/13mm_per_sec/-8mm_21W_017.raw\n",
      "/Users/chiaentsai/Box/MURI-SARA/Thermoreflectance/Joanne/CHESS/0130_2023/13mm_per_sec/-8mm_21W_018.raw\n",
      "/Users/chiaentsai/Box/MURI-SARA/Thermoreflectance/Joanne/CHESS/0130_2023/13mm_per_sec/-8mm_21W_019.raw\n",
      "/Users/chiaentsai/Box/MURI-SARA/Thermoreflectance/Joanne/CHESS/0130_2023/13mm_per_sec/-8mm_21W_020.raw\n",
      "/Users/chiaentsai/Box/MURI-SARA/Thermoreflectance/Joanne/CHESS/0130_2023/13mm_per_sec/-8mm_21W_021.raw\n",
      "/Users/chiaentsai/Box/MURI-SARA/Thermoreflectance/Joanne/CHESS/0130_2023/13mm_per_sec/-8mm_21W_022.raw\n",
      "/Users/chiaentsai/Box/MURI-SARA/Thermoreflectance/Joanne/CHESS/0130_2023/13mm_per_sec/-8mm_21W_023.raw\n",
      "/Users/chiaentsai/Box/MURI-SARA/Thermoreflectance/Joanne/CHESS/0130_2023/13mm_per_sec/-8mm_21W_024.raw\n",
      "/Users/chiaentsai/Box/MURI-SARA/Thermoreflectance/Joanne/CHESS/0130_2023/13mm_per_sec/-8mm_21W_025.raw\n",
      "/Users/chiaentsai/Box/MURI-SARA/Thermoreflectance/Joanne/CHESS/0130_2023/13mm_per_sec/-8mm_21W_026.raw\n",
      "/Users/chiaentsai/Box/MURI-SARA/Thermoreflectance/Joanne/CHESS/0130_2023/13mm_per_sec/-8mm_21W_027.raw\n",
      "/Users/chiaentsai/Box/MURI-SARA/Thermoreflectance/Joanne/CHESS/0130_2023/13mm_per_sec/-8mm_21W_028.raw\n",
      "/Users/chiaentsai/Box/MURI-SARA/Thermoreflectance/Joanne/CHESS/0130_2023/13mm_per_sec/-8mm_21W_029.raw\n",
      "/Users/chiaentsai/Box/MURI-SARA/Thermoreflectance/Joanne/CHESS/0130_2023/13mm_per_sec/-8mm_21W_030.raw\n",
      "/Users/chiaentsai/Box/MURI-SARA/Thermoreflectance/Joanne/CHESS/0130_2023/13mm_per_sec/-8mm_21W_031.raw\n",
      "/Users/chiaentsai/Box/MURI-SARA/Thermoreflectance/Joanne/CHESS/0130_2023/13mm_per_sec/-8mm_21W_032.raw\n",
      "/Users/chiaentsai/Box/MURI-SARA/Thermoreflectance/Joanne/CHESS/0130_2023/13mm_per_sec/-8mm_21W_033.raw\n",
      "/Users/chiaentsai/Box/MURI-SARA/Thermoreflectance/Joanne/CHESS/0130_2023/13mm_per_sec/-8mm_21W_034.raw\n",
      "/Users/chiaentsai/Box/MURI-SARA/Thermoreflectance/Joanne/CHESS/0130_2023/13mm_per_sec/-8mm_21W_035.raw\n",
      "/Users/chiaentsai/Box/MURI-SARA/Thermoreflectance/Joanne/CHESS/0130_2023/13mm_per_sec/-8mm_21W_036.raw\n"
     ]
    },
    {
     "name": "stderr",
     "output_type": "stream",
     "text": [
      "100%|████████████████████████████████████████| 560/560 [00:04<00:00, 133.65it/s]"
     ]
    },
    {
     "name": "stdout",
     "output_type": "stream",
     "text": [
      "/Users/chiaentsai/Box/MURI-SARA/Thermoreflectance/Joanne/CHESS/0130_2023/13mm_per_sec/-8mm_21W_037.raw\n",
      "/Users/chiaentsai/Box/MURI-SARA/Thermoreflectance/Joanne/CHESS/0130_2023/13mm_per_sec/-8mm_21W_038.raw\n",
      "/Users/chiaentsai/Box/MURI-SARA/Thermoreflectance/Joanne/CHESS/0130_2023/13mm_per_sec/-8mm_21W_039.raw\n"
     ]
    },
    {
     "name": "stderr",
     "output_type": "stream",
     "text": [
      "\n",
      "  0%|                                                   | 0/560 [00:00<?, ?it/s]"
     ]
    },
    {
     "name": "stdout",
     "output_type": "stream",
     "text": [
      "/Users/chiaentsai/Box/MURI-SARA/Thermoreflectance/Joanne/CHESS/0130_2023/13mm_per_sec/-8mm_23W_000.raw\n"
     ]
    },
    {
     "name": "stderr",
     "output_type": "stream",
     "text": [
      "\r",
      " 43%|█████████████████▏                      | 241/560 [00:00<00:00, 557.89it/s]"
     ]
    },
    {
     "name": "stdout",
     "output_type": "stream",
     "text": [
      "/Users/chiaentsai/Box/MURI-SARA/Thermoreflectance/Joanne/CHESS/0130_2023/13mm_per_sec/-8mm_23W_001.raw\n",
      "/Users/chiaentsai/Box/MURI-SARA/Thermoreflectance/Joanne/CHESS/0130_2023/13mm_per_sec/-8mm_23W_002.raw\n",
      "/Users/chiaentsai/Box/MURI-SARA/Thermoreflectance/Joanne/CHESS/0130_2023/13mm_per_sec/-8mm_23W_003.raw\n",
      "/Users/chiaentsai/Box/MURI-SARA/Thermoreflectance/Joanne/CHESS/0130_2023/13mm_per_sec/-8mm_23W_004.raw\n",
      "/Users/chiaentsai/Box/MURI-SARA/Thermoreflectance/Joanne/CHESS/0130_2023/13mm_per_sec/-8mm_23W_005.raw\n",
      "/Users/chiaentsai/Box/MURI-SARA/Thermoreflectance/Joanne/CHESS/0130_2023/13mm_per_sec/-8mm_23W_006.raw\n",
      "/Users/chiaentsai/Box/MURI-SARA/Thermoreflectance/Joanne/CHESS/0130_2023/13mm_per_sec/-8mm_23W_007.raw\n",
      "/Users/chiaentsai/Box/MURI-SARA/Thermoreflectance/Joanne/CHESS/0130_2023/13mm_per_sec/-8mm_23W_008.raw\n",
      "/Users/chiaentsai/Box/MURI-SARA/Thermoreflectance/Joanne/CHESS/0130_2023/13mm_per_sec/-8mm_23W_009.raw\n",
      "/Users/chiaentsai/Box/MURI-SARA/Thermoreflectance/Joanne/CHESS/0130_2023/13mm_per_sec/-8mm_23W_010.raw\n",
      "/Users/chiaentsai/Box/MURI-SARA/Thermoreflectance/Joanne/CHESS/0130_2023/13mm_per_sec/-8mm_23W_011.raw\n",
      "/Users/chiaentsai/Box/MURI-SARA/Thermoreflectance/Joanne/CHESS/0130_2023/13mm_per_sec/-8mm_23W_012.raw\n",
      "/Users/chiaentsai/Box/MURI-SARA/Thermoreflectance/Joanne/CHESS/0130_2023/13mm_per_sec/-8mm_23W_013.raw\n",
      "/Users/chiaentsai/Box/MURI-SARA/Thermoreflectance/Joanne/CHESS/0130_2023/13mm_per_sec/-8mm_23W_014.raw\n",
      "/Users/chiaentsai/Box/MURI-SARA/Thermoreflectance/Joanne/CHESS/0130_2023/13mm_per_sec/-8mm_23W_015.raw\n",
      "/Users/chiaentsai/Box/MURI-SARA/Thermoreflectance/Joanne/CHESS/0130_2023/13mm_per_sec/-8mm_23W_016.raw\n",
      "/Users/chiaentsai/Box/MURI-SARA/Thermoreflectance/Joanne/CHESS/0130_2023/13mm_per_sec/-8mm_23W_017.raw\n",
      "/Users/chiaentsai/Box/MURI-SARA/Thermoreflectance/Joanne/CHESS/0130_2023/13mm_per_sec/-8mm_23W_018.raw\n",
      "/Users/chiaentsai/Box/MURI-SARA/Thermoreflectance/Joanne/CHESS/0130_2023/13mm_per_sec/-8mm_23W_019.raw\n",
      "/Users/chiaentsai/Box/MURI-SARA/Thermoreflectance/Joanne/CHESS/0130_2023/13mm_per_sec/-8mm_23W_020.raw\n",
      "/Users/chiaentsai/Box/MURI-SARA/Thermoreflectance/Joanne/CHESS/0130_2023/13mm_per_sec/-8mm_23W_021.raw\n",
      "/Users/chiaentsai/Box/MURI-SARA/Thermoreflectance/Joanne/CHESS/0130_2023/13mm_per_sec/-8mm_23W_022.raw\n",
      "/Users/chiaentsai/Box/MURI-SARA/Thermoreflectance/Joanne/CHESS/0130_2023/13mm_per_sec/-8mm_23W_023.raw\n",
      "/Users/chiaentsai/Box/MURI-SARA/Thermoreflectance/Joanne/CHESS/0130_2023/13mm_per_sec/-8mm_23W_024.raw\n",
      "/Users/chiaentsai/Box/MURI-SARA/Thermoreflectance/Joanne/CHESS/0130_2023/13mm_per_sec/-8mm_23W_025.raw\n",
      "/Users/chiaentsai/Box/MURI-SARA/Thermoreflectance/Joanne/CHESS/0130_2023/13mm_per_sec/-8mm_23W_026.raw\n",
      "/Users/chiaentsai/Box/MURI-SARA/Thermoreflectance/Joanne/CHESS/0130_2023/13mm_per_sec/-8mm_23W_027.raw\n",
      "/Users/chiaentsai/Box/MURI-SARA/Thermoreflectance/Joanne/CHESS/0130_2023/13mm_per_sec/-8mm_23W_028.raw\n",
      "/Users/chiaentsai/Box/MURI-SARA/Thermoreflectance/Joanne/CHESS/0130_2023/13mm_per_sec/-8mm_23W_029.raw\n",
      "/Users/chiaentsai/Box/MURI-SARA/Thermoreflectance/Joanne/CHESS/0130_2023/13mm_per_sec/-8mm_23W_030.raw\n",
      "/Users/chiaentsai/Box/MURI-SARA/Thermoreflectance/Joanne/CHESS/0130_2023/13mm_per_sec/-8mm_23W_031.raw\n",
      "/Users/chiaentsai/Box/MURI-SARA/Thermoreflectance/Joanne/CHESS/0130_2023/13mm_per_sec/-8mm_23W_032.raw\n",
      "/Users/chiaentsai/Box/MURI-SARA/Thermoreflectance/Joanne/CHESS/0130_2023/13mm_per_sec/-8mm_23W_033.raw\n",
      "/Users/chiaentsai/Box/MURI-SARA/Thermoreflectance/Joanne/CHESS/0130_2023/13mm_per_sec/-8mm_23W_034.raw\n",
      "/Users/chiaentsai/Box/MURI-SARA/Thermoreflectance/Joanne/CHESS/0130_2023/13mm_per_sec/-8mm_23W_035.raw\n",
      "/Users/chiaentsai/Box/MURI-SARA/Thermoreflectance/Joanne/CHESS/0130_2023/13mm_per_sec/-8mm_23W_036.raw\n",
      "/Users/chiaentsai/Box/MURI-SARA/Thermoreflectance/Joanne/CHESS/0130_2023/13mm_per_sec/-8mm_23W_037.raw\n"
     ]
    },
    {
     "name": "stderr",
     "output_type": "stream",
     "text": [
      "100%|████████████████████████████████████████| 560/560 [00:04<00:00, 115.84it/s]\n"
     ]
    },
    {
     "name": "stdout",
     "output_type": "stream",
     "text": [
      "/Users/chiaentsai/Box/MURI-SARA/Thermoreflectance/Joanne/CHESS/0130_2023/13mm_per_sec/-8mm_23W_038.raw\n",
      "/Users/chiaentsai/Box/MURI-SARA/Thermoreflectance/Joanne/CHESS/0130_2023/13mm_per_sec/-8mm_23W_039.raw\n"
     ]
    },
    {
     "name": "stderr",
     "output_type": "stream",
     "text": [
      "\r",
      "  0%|                                                   | 0/560 [00:00<?, ?it/s]"
     ]
    },
    {
     "name": "stdout",
     "output_type": "stream",
     "text": [
      "/Users/chiaentsai/Box/MURI-SARA/Thermoreflectance/Joanne/CHESS/0130_2023/13mm_per_sec/-8mm_25W_000.raw\n"
     ]
    },
    {
     "name": "stderr",
     "output_type": "stream",
     "text": [
      "\r",
      " 50%|███████████████████▌                   | 281/560 [00:00<00:00, 1194.15it/s]"
     ]
    },
    {
     "name": "stdout",
     "output_type": "stream",
     "text": [
      "/Users/chiaentsai/Box/MURI-SARA/Thermoreflectance/Joanne/CHESS/0130_2023/13mm_per_sec/-8mm_25W_001.raw\n",
      "/Users/chiaentsai/Box/MURI-SARA/Thermoreflectance/Joanne/CHESS/0130_2023/13mm_per_sec/-8mm_25W_002.raw\n",
      "/Users/chiaentsai/Box/MURI-SARA/Thermoreflectance/Joanne/CHESS/0130_2023/13mm_per_sec/-8mm_25W_003.raw\n",
      "/Users/chiaentsai/Box/MURI-SARA/Thermoreflectance/Joanne/CHESS/0130_2023/13mm_per_sec/-8mm_25W_004.raw\n",
      "/Users/chiaentsai/Box/MURI-SARA/Thermoreflectance/Joanne/CHESS/0130_2023/13mm_per_sec/-8mm_25W_005.raw\n",
      "/Users/chiaentsai/Box/MURI-SARA/Thermoreflectance/Joanne/CHESS/0130_2023/13mm_per_sec/-8mm_25W_006.raw\n",
      "/Users/chiaentsai/Box/MURI-SARA/Thermoreflectance/Joanne/CHESS/0130_2023/13mm_per_sec/-8mm_25W_007.raw\n",
      "/Users/chiaentsai/Box/MURI-SARA/Thermoreflectance/Joanne/CHESS/0130_2023/13mm_per_sec/-8mm_25W_008.raw\n",
      "/Users/chiaentsai/Box/MURI-SARA/Thermoreflectance/Joanne/CHESS/0130_2023/13mm_per_sec/-8mm_25W_009.raw\n",
      "/Users/chiaentsai/Box/MURI-SARA/Thermoreflectance/Joanne/CHESS/0130_2023/13mm_per_sec/-8mm_25W_010.raw\n",
      "/Users/chiaentsai/Box/MURI-SARA/Thermoreflectance/Joanne/CHESS/0130_2023/13mm_per_sec/-8mm_25W_011.raw\n",
      "/Users/chiaentsai/Box/MURI-SARA/Thermoreflectance/Joanne/CHESS/0130_2023/13mm_per_sec/-8mm_25W_012.raw\n",
      "/Users/chiaentsai/Box/MURI-SARA/Thermoreflectance/Joanne/CHESS/0130_2023/13mm_per_sec/-8mm_25W_013.raw\n",
      "/Users/chiaentsai/Box/MURI-SARA/Thermoreflectance/Joanne/CHESS/0130_2023/13mm_per_sec/-8mm_25W_014.raw\n",
      "/Users/chiaentsai/Box/MURI-SARA/Thermoreflectance/Joanne/CHESS/0130_2023/13mm_per_sec/-8mm_25W_015.raw\n",
      "/Users/chiaentsai/Box/MURI-SARA/Thermoreflectance/Joanne/CHESS/0130_2023/13mm_per_sec/-8mm_25W_016.raw\n",
      "/Users/chiaentsai/Box/MURI-SARA/Thermoreflectance/Joanne/CHESS/0130_2023/13mm_per_sec/-8mm_25W_017.raw\n",
      "/Users/chiaentsai/Box/MURI-SARA/Thermoreflectance/Joanne/CHESS/0130_2023/13mm_per_sec/-8mm_25W_018.raw\n",
      "/Users/chiaentsai/Box/MURI-SARA/Thermoreflectance/Joanne/CHESS/0130_2023/13mm_per_sec/-8mm_25W_019.raw\n",
      "/Users/chiaentsai/Box/MURI-SARA/Thermoreflectance/Joanne/CHESS/0130_2023/13mm_per_sec/-8mm_25W_020.raw\n",
      "/Users/chiaentsai/Box/MURI-SARA/Thermoreflectance/Joanne/CHESS/0130_2023/13mm_per_sec/-8mm_25W_021.raw\n",
      "/Users/chiaentsai/Box/MURI-SARA/Thermoreflectance/Joanne/CHESS/0130_2023/13mm_per_sec/-8mm_25W_022.raw\n",
      "/Users/chiaentsai/Box/MURI-SARA/Thermoreflectance/Joanne/CHESS/0130_2023/13mm_per_sec/-8mm_25W_023.raw\n",
      "/Users/chiaentsai/Box/MURI-SARA/Thermoreflectance/Joanne/CHESS/0130_2023/13mm_per_sec/-8mm_25W_024.raw\n",
      "/Users/chiaentsai/Box/MURI-SARA/Thermoreflectance/Joanne/CHESS/0130_2023/13mm_per_sec/-8mm_25W_025.raw\n",
      "/Users/chiaentsai/Box/MURI-SARA/Thermoreflectance/Joanne/CHESS/0130_2023/13mm_per_sec/-8mm_25W_026.raw\n",
      "/Users/chiaentsai/Box/MURI-SARA/Thermoreflectance/Joanne/CHESS/0130_2023/13mm_per_sec/-8mm_25W_027.raw\n",
      "/Users/chiaentsai/Box/MURI-SARA/Thermoreflectance/Joanne/CHESS/0130_2023/13mm_per_sec/-8mm_25W_028.raw\n",
      "/Users/chiaentsai/Box/MURI-SARA/Thermoreflectance/Joanne/CHESS/0130_2023/13mm_per_sec/-8mm_25W_029.raw\n",
      "/Users/chiaentsai/Box/MURI-SARA/Thermoreflectance/Joanne/CHESS/0130_2023/13mm_per_sec/-8mm_25W_030.raw\n",
      "/Users/chiaentsai/Box/MURI-SARA/Thermoreflectance/Joanne/CHESS/0130_2023/13mm_per_sec/-8mm_25W_031.raw\n",
      "/Users/chiaentsai/Box/MURI-SARA/Thermoreflectance/Joanne/CHESS/0130_2023/13mm_per_sec/-8mm_25W_032.raw\n",
      "/Users/chiaentsai/Box/MURI-SARA/Thermoreflectance/Joanne/CHESS/0130_2023/13mm_per_sec/-8mm_25W_033.raw\n",
      "/Users/chiaentsai/Box/MURI-SARA/Thermoreflectance/Joanne/CHESS/0130_2023/13mm_per_sec/-8mm_25W_034.raw\n",
      "/Users/chiaentsai/Box/MURI-SARA/Thermoreflectance/Joanne/CHESS/0130_2023/13mm_per_sec/-8mm_25W_035.raw\n",
      "/Users/chiaentsai/Box/MURI-SARA/Thermoreflectance/Joanne/CHESS/0130_2023/13mm_per_sec/-8mm_25W_036.raw\n",
      "/Users/chiaentsai/Box/MURI-SARA/Thermoreflectance/Joanne/CHESS/0130_2023/13mm_per_sec/-8mm_25W_037.raw\n",
      "/Users/chiaentsai/Box/MURI-SARA/Thermoreflectance/Joanne/CHESS/0130_2023/13mm_per_sec/-8mm_25W_038.raw\n"
     ]
    },
    {
     "name": "stderr",
     "output_type": "stream",
     "text": [
      "100%|████████████████████████████████████████| 560/560 [00:03<00:00, 140.92it/s]\n"
     ]
    },
    {
     "name": "stdout",
     "output_type": "stream",
     "text": [
      "/Users/chiaentsai/Box/MURI-SARA/Thermoreflectance/Joanne/CHESS/0130_2023/13mm_per_sec/-8mm_25W_039.raw\n"
     ]
    },
    {
     "name": "stderr",
     "output_type": "stream",
     "text": [
      "\r",
      "  0%|                                                   | 0/560 [00:00<?, ?it/s]"
     ]
    },
    {
     "name": "stdout",
     "output_type": "stream",
     "text": [
      "/Users/chiaentsai/Box/MURI-SARA/Thermoreflectance/Joanne/CHESS/0130_2023/13mm_per_sec/-8mm_27W_000.raw\n"
     ]
    },
    {
     "name": "stderr",
     "output_type": "stream",
     "text": [
      "\r",
      " 57%|██████████████████████▉                 | 321/560 [00:00<00:00, 722.41it/s]"
     ]
    },
    {
     "name": "stdout",
     "output_type": "stream",
     "text": [
      "/Users/chiaentsai/Box/MURI-SARA/Thermoreflectance/Joanne/CHESS/0130_2023/13mm_per_sec/-8mm_27W_001.raw\n",
      "/Users/chiaentsai/Box/MURI-SARA/Thermoreflectance/Joanne/CHESS/0130_2023/13mm_per_sec/-8mm_27W_002.raw\n",
      "/Users/chiaentsai/Box/MURI-SARA/Thermoreflectance/Joanne/CHESS/0130_2023/13mm_per_sec/-8mm_27W_003.raw\n",
      "/Users/chiaentsai/Box/MURI-SARA/Thermoreflectance/Joanne/CHESS/0130_2023/13mm_per_sec/-8mm_27W_004.raw\n",
      "/Users/chiaentsai/Box/MURI-SARA/Thermoreflectance/Joanne/CHESS/0130_2023/13mm_per_sec/-8mm_27W_005.raw\n",
      "/Users/chiaentsai/Box/MURI-SARA/Thermoreflectance/Joanne/CHESS/0130_2023/13mm_per_sec/-8mm_27W_006.raw\n",
      "/Users/chiaentsai/Box/MURI-SARA/Thermoreflectance/Joanne/CHESS/0130_2023/13mm_per_sec/-8mm_27W_007.raw\n",
      "/Users/chiaentsai/Box/MURI-SARA/Thermoreflectance/Joanne/CHESS/0130_2023/13mm_per_sec/-8mm_27W_008.raw\n",
      "/Users/chiaentsai/Box/MURI-SARA/Thermoreflectance/Joanne/CHESS/0130_2023/13mm_per_sec/-8mm_27W_009.raw\n",
      "/Users/chiaentsai/Box/MURI-SARA/Thermoreflectance/Joanne/CHESS/0130_2023/13mm_per_sec/-8mm_27W_010.raw\n",
      "/Users/chiaentsai/Box/MURI-SARA/Thermoreflectance/Joanne/CHESS/0130_2023/13mm_per_sec/-8mm_27W_011.raw\n",
      "/Users/chiaentsai/Box/MURI-SARA/Thermoreflectance/Joanne/CHESS/0130_2023/13mm_per_sec/-8mm_27W_012.raw\n",
      "/Users/chiaentsai/Box/MURI-SARA/Thermoreflectance/Joanne/CHESS/0130_2023/13mm_per_sec/-8mm_27W_013.raw\n",
      "/Users/chiaentsai/Box/MURI-SARA/Thermoreflectance/Joanne/CHESS/0130_2023/13mm_per_sec/-8mm_27W_014.raw\n",
      "/Users/chiaentsai/Box/MURI-SARA/Thermoreflectance/Joanne/CHESS/0130_2023/13mm_per_sec/-8mm_27W_015.raw\n",
      "/Users/chiaentsai/Box/MURI-SARA/Thermoreflectance/Joanne/CHESS/0130_2023/13mm_per_sec/-8mm_27W_016.raw\n",
      "/Users/chiaentsai/Box/MURI-SARA/Thermoreflectance/Joanne/CHESS/0130_2023/13mm_per_sec/-8mm_27W_017.raw\n",
      "/Users/chiaentsai/Box/MURI-SARA/Thermoreflectance/Joanne/CHESS/0130_2023/13mm_per_sec/-8mm_27W_018.raw\n",
      "/Users/chiaentsai/Box/MURI-SARA/Thermoreflectance/Joanne/CHESS/0130_2023/13mm_per_sec/-8mm_27W_019.raw\n",
      "/Users/chiaentsai/Box/MURI-SARA/Thermoreflectance/Joanne/CHESS/0130_2023/13mm_per_sec/-8mm_27W_020.raw\n",
      "/Users/chiaentsai/Box/MURI-SARA/Thermoreflectance/Joanne/CHESS/0130_2023/13mm_per_sec/-8mm_27W_021.raw\n",
      "/Users/chiaentsai/Box/MURI-SARA/Thermoreflectance/Joanne/CHESS/0130_2023/13mm_per_sec/-8mm_27W_022.raw\n",
      "/Users/chiaentsai/Box/MURI-SARA/Thermoreflectance/Joanne/CHESS/0130_2023/13mm_per_sec/-8mm_27W_023.raw\n",
      "/Users/chiaentsai/Box/MURI-SARA/Thermoreflectance/Joanne/CHESS/0130_2023/13mm_per_sec/-8mm_27W_024.raw\n",
      "/Users/chiaentsai/Box/MURI-SARA/Thermoreflectance/Joanne/CHESS/0130_2023/13mm_per_sec/-8mm_27W_025.raw\n",
      "/Users/chiaentsai/Box/MURI-SARA/Thermoreflectance/Joanne/CHESS/0130_2023/13mm_per_sec/-8mm_27W_026.raw\n",
      "/Users/chiaentsai/Box/MURI-SARA/Thermoreflectance/Joanne/CHESS/0130_2023/13mm_per_sec/-8mm_27W_027.raw\n",
      "/Users/chiaentsai/Box/MURI-SARA/Thermoreflectance/Joanne/CHESS/0130_2023/13mm_per_sec/-8mm_27W_028.raw\n",
      "/Users/chiaentsai/Box/MURI-SARA/Thermoreflectance/Joanne/CHESS/0130_2023/13mm_per_sec/-8mm_27W_029.raw\n",
      "/Users/chiaentsai/Box/MURI-SARA/Thermoreflectance/Joanne/CHESS/0130_2023/13mm_per_sec/-8mm_27W_030.raw\n",
      "/Users/chiaentsai/Box/MURI-SARA/Thermoreflectance/Joanne/CHESS/0130_2023/13mm_per_sec/-8mm_27W_031.raw\n",
      "/Users/chiaentsai/Box/MURI-SARA/Thermoreflectance/Joanne/CHESS/0130_2023/13mm_per_sec/-8mm_27W_032.raw\n",
      "/Users/chiaentsai/Box/MURI-SARA/Thermoreflectance/Joanne/CHESS/0130_2023/13mm_per_sec/-8mm_27W_033.raw\n",
      "/Users/chiaentsai/Box/MURI-SARA/Thermoreflectance/Joanne/CHESS/0130_2023/13mm_per_sec/-8mm_27W_034.raw\n",
      "/Users/chiaentsai/Box/MURI-SARA/Thermoreflectance/Joanne/CHESS/0130_2023/13mm_per_sec/-8mm_27W_035.raw\n",
      "/Users/chiaentsai/Box/MURI-SARA/Thermoreflectance/Joanne/CHESS/0130_2023/13mm_per_sec/-8mm_27W_036.raw\n",
      "/Users/chiaentsai/Box/MURI-SARA/Thermoreflectance/Joanne/CHESS/0130_2023/13mm_per_sec/-8mm_27W_037.raw\n",
      "/Users/chiaentsai/Box/MURI-SARA/Thermoreflectance/Joanne/CHESS/0130_2023/13mm_per_sec/-8mm_27W_038.raw\n",
      "/Users/chiaentsai/Box/MURI-SARA/Thermoreflectance/Joanne/CHESS/0130_2023/13mm_per_sec/-8mm_27W_039.raw\n"
     ]
    },
    {
     "name": "stderr",
     "output_type": "stream",
     "text": [
      "100%|█████████████████████████████████████████| 560/560 [00:05<00:00, 96.53it/s]\n",
      "  0%|                                                   | 0/560 [00:00<?, ?it/s]"
     ]
    },
    {
     "name": "stdout",
     "output_type": "stream",
     "text": [
      "/Users/chiaentsai/Box/MURI-SARA/Thermoreflectance/Joanne/CHESS/0130_2023/13mm_per_sec/-8mm_29W_000.raw\n"
     ]
    },
    {
     "name": "stderr",
     "output_type": "stream",
     "text": [
      "\r",
      " 64%|█████████████████████████▏             | 361/560 [00:00<00:00, 1260.40it/s]"
     ]
    },
    {
     "name": "stdout",
     "output_type": "stream",
     "text": [
      "/Users/chiaentsai/Box/MURI-SARA/Thermoreflectance/Joanne/CHESS/0130_2023/13mm_per_sec/-8mm_29W_001.raw\n",
      "/Users/chiaentsai/Box/MURI-SARA/Thermoreflectance/Joanne/CHESS/0130_2023/13mm_per_sec/-8mm_29W_002.raw\n",
      "/Users/chiaentsai/Box/MURI-SARA/Thermoreflectance/Joanne/CHESS/0130_2023/13mm_per_sec/-8mm_29W_003.raw\n",
      "/Users/chiaentsai/Box/MURI-SARA/Thermoreflectance/Joanne/CHESS/0130_2023/13mm_per_sec/-8mm_29W_004.raw\n",
      "/Users/chiaentsai/Box/MURI-SARA/Thermoreflectance/Joanne/CHESS/0130_2023/13mm_per_sec/-8mm_29W_005.raw\n",
      "/Users/chiaentsai/Box/MURI-SARA/Thermoreflectance/Joanne/CHESS/0130_2023/13mm_per_sec/-8mm_29W_006.raw\n",
      "/Users/chiaentsai/Box/MURI-SARA/Thermoreflectance/Joanne/CHESS/0130_2023/13mm_per_sec/-8mm_29W_007.raw\n",
      "/Users/chiaentsai/Box/MURI-SARA/Thermoreflectance/Joanne/CHESS/0130_2023/13mm_per_sec/-8mm_29W_008.raw\n",
      "/Users/chiaentsai/Box/MURI-SARA/Thermoreflectance/Joanne/CHESS/0130_2023/13mm_per_sec/-8mm_29W_009.raw\n",
      "/Users/chiaentsai/Box/MURI-SARA/Thermoreflectance/Joanne/CHESS/0130_2023/13mm_per_sec/-8mm_29W_010.raw\n",
      "/Users/chiaentsai/Box/MURI-SARA/Thermoreflectance/Joanne/CHESS/0130_2023/13mm_per_sec/-8mm_29W_011.raw\n",
      "/Users/chiaentsai/Box/MURI-SARA/Thermoreflectance/Joanne/CHESS/0130_2023/13mm_per_sec/-8mm_29W_012.raw\n",
      "/Users/chiaentsai/Box/MURI-SARA/Thermoreflectance/Joanne/CHESS/0130_2023/13mm_per_sec/-8mm_29W_013.raw\n",
      "/Users/chiaentsai/Box/MURI-SARA/Thermoreflectance/Joanne/CHESS/0130_2023/13mm_per_sec/-8mm_29W_014.raw\n",
      "/Users/chiaentsai/Box/MURI-SARA/Thermoreflectance/Joanne/CHESS/0130_2023/13mm_per_sec/-8mm_29W_015.raw\n",
      "/Users/chiaentsai/Box/MURI-SARA/Thermoreflectance/Joanne/CHESS/0130_2023/13mm_per_sec/-8mm_29W_016.raw\n",
      "/Users/chiaentsai/Box/MURI-SARA/Thermoreflectance/Joanne/CHESS/0130_2023/13mm_per_sec/-8mm_29W_017.raw\n",
      "/Users/chiaentsai/Box/MURI-SARA/Thermoreflectance/Joanne/CHESS/0130_2023/13mm_per_sec/-8mm_29W_018.raw\n",
      "/Users/chiaentsai/Box/MURI-SARA/Thermoreflectance/Joanne/CHESS/0130_2023/13mm_per_sec/-8mm_29W_019.raw\n",
      "/Users/chiaentsai/Box/MURI-SARA/Thermoreflectance/Joanne/CHESS/0130_2023/13mm_per_sec/-8mm_29W_020.raw\n",
      "/Users/chiaentsai/Box/MURI-SARA/Thermoreflectance/Joanne/CHESS/0130_2023/13mm_per_sec/-8mm_29W_021.raw\n",
      "/Users/chiaentsai/Box/MURI-SARA/Thermoreflectance/Joanne/CHESS/0130_2023/13mm_per_sec/-8mm_29W_022.raw\n",
      "/Users/chiaentsai/Box/MURI-SARA/Thermoreflectance/Joanne/CHESS/0130_2023/13mm_per_sec/-8mm_29W_023.raw\n",
      "/Users/chiaentsai/Box/MURI-SARA/Thermoreflectance/Joanne/CHESS/0130_2023/13mm_per_sec/-8mm_29W_024.raw\n",
      "/Users/chiaentsai/Box/MURI-SARA/Thermoreflectance/Joanne/CHESS/0130_2023/13mm_per_sec/-8mm_29W_025.raw\n",
      "/Users/chiaentsai/Box/MURI-SARA/Thermoreflectance/Joanne/CHESS/0130_2023/13mm_per_sec/-8mm_29W_026.raw\n",
      "/Users/chiaentsai/Box/MURI-SARA/Thermoreflectance/Joanne/CHESS/0130_2023/13mm_per_sec/-8mm_29W_027.raw\n",
      "/Users/chiaentsai/Box/MURI-SARA/Thermoreflectance/Joanne/CHESS/0130_2023/13mm_per_sec/-8mm_29W_028.raw\n",
      "/Users/chiaentsai/Box/MURI-SARA/Thermoreflectance/Joanne/CHESS/0130_2023/13mm_per_sec/-8mm_29W_029.raw\n",
      "/Users/chiaentsai/Box/MURI-SARA/Thermoreflectance/Joanne/CHESS/0130_2023/13mm_per_sec/-8mm_29W_030.raw\n",
      "/Users/chiaentsai/Box/MURI-SARA/Thermoreflectance/Joanne/CHESS/0130_2023/13mm_per_sec/-8mm_29W_031.raw\n",
      "/Users/chiaentsai/Box/MURI-SARA/Thermoreflectance/Joanne/CHESS/0130_2023/13mm_per_sec/-8mm_29W_032.raw\n",
      "/Users/chiaentsai/Box/MURI-SARA/Thermoreflectance/Joanne/CHESS/0130_2023/13mm_per_sec/-8mm_29W_033.raw\n",
      "/Users/chiaentsai/Box/MURI-SARA/Thermoreflectance/Joanne/CHESS/0130_2023/13mm_per_sec/-8mm_29W_034.raw\n",
      "/Users/chiaentsai/Box/MURI-SARA/Thermoreflectance/Joanne/CHESS/0130_2023/13mm_per_sec/-8mm_29W_035.raw\n",
      "/Users/chiaentsai/Box/MURI-SARA/Thermoreflectance/Joanne/CHESS/0130_2023/13mm_per_sec/-8mm_29W_036.raw\n",
      "/Users/chiaentsai/Box/MURI-SARA/Thermoreflectance/Joanne/CHESS/0130_2023/13mm_per_sec/-8mm_29W_037.raw\n",
      "/Users/chiaentsai/Box/MURI-SARA/Thermoreflectance/Joanne/CHESS/0130_2023/13mm_per_sec/-8mm_29W_038.raw\n"
     ]
    },
    {
     "name": "stderr",
     "output_type": "stream",
     "text": [
      "100%|█████████████████████████████████████████| 560/560 [00:05<00:00, 96.18it/s]\n"
     ]
    },
    {
     "name": "stdout",
     "output_type": "stream",
     "text": [
      "/Users/chiaentsai/Box/MURI-SARA/Thermoreflectance/Joanne/CHESS/0130_2023/13mm_per_sec/-8mm_29W_039.raw\n"
     ]
    },
    {
     "name": "stderr",
     "output_type": "stream",
     "text": [
      "\r",
      "  0%|                                                   | 0/560 [00:00<?, ?it/s]"
     ]
    },
    {
     "name": "stdout",
     "output_type": "stream",
     "text": [
      "/Users/chiaentsai/Box/MURI-SARA/Thermoreflectance/Joanne/CHESS/0130_2023/13mm_per_sec/-8mm_31W_000.raw\n"
     ]
    },
    {
     "name": "stderr",
     "output_type": "stream",
     "text": [
      "\r",
      " 72%|████████████████████████████▋           | 401/560 [00:01<00:00, 397.24it/s]"
     ]
    },
    {
     "name": "stdout",
     "output_type": "stream",
     "text": [
      "/Users/chiaentsai/Box/MURI-SARA/Thermoreflectance/Joanne/CHESS/0130_2023/13mm_per_sec/-8mm_31W_001.raw\n",
      "/Users/chiaentsai/Box/MURI-SARA/Thermoreflectance/Joanne/CHESS/0130_2023/13mm_per_sec/-8mm_31W_002.raw\n",
      "/Users/chiaentsai/Box/MURI-SARA/Thermoreflectance/Joanne/CHESS/0130_2023/13mm_per_sec/-8mm_31W_003.raw\n",
      "/Users/chiaentsai/Box/MURI-SARA/Thermoreflectance/Joanne/CHESS/0130_2023/13mm_per_sec/-8mm_31W_004.raw\n",
      "/Users/chiaentsai/Box/MURI-SARA/Thermoreflectance/Joanne/CHESS/0130_2023/13mm_per_sec/-8mm_31W_005.raw\n",
      "/Users/chiaentsai/Box/MURI-SARA/Thermoreflectance/Joanne/CHESS/0130_2023/13mm_per_sec/-8mm_31W_006.raw\n",
      "/Users/chiaentsai/Box/MURI-SARA/Thermoreflectance/Joanne/CHESS/0130_2023/13mm_per_sec/-8mm_31W_007.raw\n",
      "/Users/chiaentsai/Box/MURI-SARA/Thermoreflectance/Joanne/CHESS/0130_2023/13mm_per_sec/-8mm_31W_008.raw\n",
      "/Users/chiaentsai/Box/MURI-SARA/Thermoreflectance/Joanne/CHESS/0130_2023/13mm_per_sec/-8mm_31W_009.raw\n",
      "/Users/chiaentsai/Box/MURI-SARA/Thermoreflectance/Joanne/CHESS/0130_2023/13mm_per_sec/-8mm_31W_010.raw\n",
      "/Users/chiaentsai/Box/MURI-SARA/Thermoreflectance/Joanne/CHESS/0130_2023/13mm_per_sec/-8mm_31W_011.raw\n",
      "/Users/chiaentsai/Box/MURI-SARA/Thermoreflectance/Joanne/CHESS/0130_2023/13mm_per_sec/-8mm_31W_012.raw\n",
      "/Users/chiaentsai/Box/MURI-SARA/Thermoreflectance/Joanne/CHESS/0130_2023/13mm_per_sec/-8mm_31W_013.raw\n",
      "/Users/chiaentsai/Box/MURI-SARA/Thermoreflectance/Joanne/CHESS/0130_2023/13mm_per_sec/-8mm_31W_014.raw\n",
      "/Users/chiaentsai/Box/MURI-SARA/Thermoreflectance/Joanne/CHESS/0130_2023/13mm_per_sec/-8mm_31W_015.raw\n",
      "/Users/chiaentsai/Box/MURI-SARA/Thermoreflectance/Joanne/CHESS/0130_2023/13mm_per_sec/-8mm_31W_016.raw\n",
      "/Users/chiaentsai/Box/MURI-SARA/Thermoreflectance/Joanne/CHESS/0130_2023/13mm_per_sec/-8mm_31W_017.raw\n",
      "/Users/chiaentsai/Box/MURI-SARA/Thermoreflectance/Joanne/CHESS/0130_2023/13mm_per_sec/-8mm_31W_018.raw\n",
      "/Users/chiaentsai/Box/MURI-SARA/Thermoreflectance/Joanne/CHESS/0130_2023/13mm_per_sec/-8mm_31W_019.raw\n",
      "/Users/chiaentsai/Box/MURI-SARA/Thermoreflectance/Joanne/CHESS/0130_2023/13mm_per_sec/-8mm_31W_020.raw\n",
      "/Users/chiaentsai/Box/MURI-SARA/Thermoreflectance/Joanne/CHESS/0130_2023/13mm_per_sec/-8mm_31W_021.raw\n",
      "/Users/chiaentsai/Box/MURI-SARA/Thermoreflectance/Joanne/CHESS/0130_2023/13mm_per_sec/-8mm_31W_022.raw\n",
      "/Users/chiaentsai/Box/MURI-SARA/Thermoreflectance/Joanne/CHESS/0130_2023/13mm_per_sec/-8mm_31W_023.raw\n",
      "/Users/chiaentsai/Box/MURI-SARA/Thermoreflectance/Joanne/CHESS/0130_2023/13mm_per_sec/-8mm_31W_024.raw\n",
      "/Users/chiaentsai/Box/MURI-SARA/Thermoreflectance/Joanne/CHESS/0130_2023/13mm_per_sec/-8mm_31W_025.raw\n",
      "/Users/chiaentsai/Box/MURI-SARA/Thermoreflectance/Joanne/CHESS/0130_2023/13mm_per_sec/-8mm_31W_026.raw\n",
      "/Users/chiaentsai/Box/MURI-SARA/Thermoreflectance/Joanne/CHESS/0130_2023/13mm_per_sec/-8mm_31W_027.raw\n",
      "/Users/chiaentsai/Box/MURI-SARA/Thermoreflectance/Joanne/CHESS/0130_2023/13mm_per_sec/-8mm_31W_028.raw\n",
      "/Users/chiaentsai/Box/MURI-SARA/Thermoreflectance/Joanne/CHESS/0130_2023/13mm_per_sec/-8mm_31W_029.raw\n",
      "/Users/chiaentsai/Box/MURI-SARA/Thermoreflectance/Joanne/CHESS/0130_2023/13mm_per_sec/-8mm_31W_030.raw\n",
      "/Users/chiaentsai/Box/MURI-SARA/Thermoreflectance/Joanne/CHESS/0130_2023/13mm_per_sec/-8mm_31W_031.raw\n",
      "/Users/chiaentsai/Box/MURI-SARA/Thermoreflectance/Joanne/CHESS/0130_2023/13mm_per_sec/-8mm_31W_032.raw\n",
      "/Users/chiaentsai/Box/MURI-SARA/Thermoreflectance/Joanne/CHESS/0130_2023/13mm_per_sec/-8mm_31W_033.raw\n",
      "/Users/chiaentsai/Box/MURI-SARA/Thermoreflectance/Joanne/CHESS/0130_2023/13mm_per_sec/-8mm_31W_034.raw\n",
      "/Users/chiaentsai/Box/MURI-SARA/Thermoreflectance/Joanne/CHESS/0130_2023/13mm_per_sec/-8mm_31W_035.raw\n",
      "/Users/chiaentsai/Box/MURI-SARA/Thermoreflectance/Joanne/CHESS/0130_2023/13mm_per_sec/-8mm_31W_036.raw\n",
      "/Users/chiaentsai/Box/MURI-SARA/Thermoreflectance/Joanne/CHESS/0130_2023/13mm_per_sec/-8mm_31W_037.raw\n"
     ]
    },
    {
     "name": "stderr",
     "output_type": "stream",
     "text": [
      "100%|█████████████████████████████████████████| 560/560 [00:05<00:00, 97.94it/s]\n"
     ]
    },
    {
     "name": "stdout",
     "output_type": "stream",
     "text": [
      "/Users/chiaentsai/Box/MURI-SARA/Thermoreflectance/Joanne/CHESS/0130_2023/13mm_per_sec/-8mm_31W_038.raw\n",
      "/Users/chiaentsai/Box/MURI-SARA/Thermoreflectance/Joanne/CHESS/0130_2023/13mm_per_sec/-8mm_31W_039.raw\n"
     ]
    },
    {
     "name": "stderr",
     "output_type": "stream",
     "text": [
      "\r",
      "  0%|                                                   | 0/560 [00:00<?, ?it/s]"
     ]
    },
    {
     "name": "stdout",
     "output_type": "stream",
     "text": [
      "/Users/chiaentsai/Box/MURI-SARA/Thermoreflectance/Joanne/CHESS/0130_2023/13mm_per_sec/-8mm_33W_000.raw\n"
     ]
    },
    {
     "name": "stderr",
     "output_type": "stream",
     "text": [
      "\r",
      " 79%|██████████████████████████████▋        | 441/560 [00:00<00:00, 1036.94it/s]"
     ]
    },
    {
     "name": "stdout",
     "output_type": "stream",
     "text": [
      "/Users/chiaentsai/Box/MURI-SARA/Thermoreflectance/Joanne/CHESS/0130_2023/13mm_per_sec/-8mm_33W_001.raw\n",
      "/Users/chiaentsai/Box/MURI-SARA/Thermoreflectance/Joanne/CHESS/0130_2023/13mm_per_sec/-8mm_33W_002.raw\n",
      "/Users/chiaentsai/Box/MURI-SARA/Thermoreflectance/Joanne/CHESS/0130_2023/13mm_per_sec/-8mm_33W_003.raw\n",
      "/Users/chiaentsai/Box/MURI-SARA/Thermoreflectance/Joanne/CHESS/0130_2023/13mm_per_sec/-8mm_33W_004.raw\n",
      "/Users/chiaentsai/Box/MURI-SARA/Thermoreflectance/Joanne/CHESS/0130_2023/13mm_per_sec/-8mm_33W_005.raw\n",
      "/Users/chiaentsai/Box/MURI-SARA/Thermoreflectance/Joanne/CHESS/0130_2023/13mm_per_sec/-8mm_33W_006.raw\n",
      "/Users/chiaentsai/Box/MURI-SARA/Thermoreflectance/Joanne/CHESS/0130_2023/13mm_per_sec/-8mm_33W_007.raw\n",
      "/Users/chiaentsai/Box/MURI-SARA/Thermoreflectance/Joanne/CHESS/0130_2023/13mm_per_sec/-8mm_33W_008.raw\n",
      "/Users/chiaentsai/Box/MURI-SARA/Thermoreflectance/Joanne/CHESS/0130_2023/13mm_per_sec/-8mm_33W_009.raw\n",
      "/Users/chiaentsai/Box/MURI-SARA/Thermoreflectance/Joanne/CHESS/0130_2023/13mm_per_sec/-8mm_33W_010.raw\n",
      "/Users/chiaentsai/Box/MURI-SARA/Thermoreflectance/Joanne/CHESS/0130_2023/13mm_per_sec/-8mm_33W_011.raw\n",
      "/Users/chiaentsai/Box/MURI-SARA/Thermoreflectance/Joanne/CHESS/0130_2023/13mm_per_sec/-8mm_33W_012.raw\n",
      "/Users/chiaentsai/Box/MURI-SARA/Thermoreflectance/Joanne/CHESS/0130_2023/13mm_per_sec/-8mm_33W_013.raw\n",
      "/Users/chiaentsai/Box/MURI-SARA/Thermoreflectance/Joanne/CHESS/0130_2023/13mm_per_sec/-8mm_33W_014.raw\n",
      "/Users/chiaentsai/Box/MURI-SARA/Thermoreflectance/Joanne/CHESS/0130_2023/13mm_per_sec/-8mm_33W_015.raw\n",
      "/Users/chiaentsai/Box/MURI-SARA/Thermoreflectance/Joanne/CHESS/0130_2023/13mm_per_sec/-8mm_33W_016.raw\n",
      "/Users/chiaentsai/Box/MURI-SARA/Thermoreflectance/Joanne/CHESS/0130_2023/13mm_per_sec/-8mm_33W_017.raw\n",
      "/Users/chiaentsai/Box/MURI-SARA/Thermoreflectance/Joanne/CHESS/0130_2023/13mm_per_sec/-8mm_33W_018.raw\n",
      "/Users/chiaentsai/Box/MURI-SARA/Thermoreflectance/Joanne/CHESS/0130_2023/13mm_per_sec/-8mm_33W_019.raw\n",
      "/Users/chiaentsai/Box/MURI-SARA/Thermoreflectance/Joanne/CHESS/0130_2023/13mm_per_sec/-8mm_33W_020.raw\n",
      "/Users/chiaentsai/Box/MURI-SARA/Thermoreflectance/Joanne/CHESS/0130_2023/13mm_per_sec/-8mm_33W_021.raw\n",
      "/Users/chiaentsai/Box/MURI-SARA/Thermoreflectance/Joanne/CHESS/0130_2023/13mm_per_sec/-8mm_33W_022.raw\n",
      "/Users/chiaentsai/Box/MURI-SARA/Thermoreflectance/Joanne/CHESS/0130_2023/13mm_per_sec/-8mm_33W_023.raw\n",
      "/Users/chiaentsai/Box/MURI-SARA/Thermoreflectance/Joanne/CHESS/0130_2023/13mm_per_sec/-8mm_33W_024.raw\n",
      "/Users/chiaentsai/Box/MURI-SARA/Thermoreflectance/Joanne/CHESS/0130_2023/13mm_per_sec/-8mm_33W_025.raw\n",
      "/Users/chiaentsai/Box/MURI-SARA/Thermoreflectance/Joanne/CHESS/0130_2023/13mm_per_sec/-8mm_33W_026.raw\n",
      "/Users/chiaentsai/Box/MURI-SARA/Thermoreflectance/Joanne/CHESS/0130_2023/13mm_per_sec/-8mm_33W_027.raw\n",
      "/Users/chiaentsai/Box/MURI-SARA/Thermoreflectance/Joanne/CHESS/0130_2023/13mm_per_sec/-8mm_33W_028.raw\n",
      "/Users/chiaentsai/Box/MURI-SARA/Thermoreflectance/Joanne/CHESS/0130_2023/13mm_per_sec/-8mm_33W_029.raw\n",
      "/Users/chiaentsai/Box/MURI-SARA/Thermoreflectance/Joanne/CHESS/0130_2023/13mm_per_sec/-8mm_33W_030.raw\n",
      "/Users/chiaentsai/Box/MURI-SARA/Thermoreflectance/Joanne/CHESS/0130_2023/13mm_per_sec/-8mm_33W_031.raw\n",
      "/Users/chiaentsai/Box/MURI-SARA/Thermoreflectance/Joanne/CHESS/0130_2023/13mm_per_sec/-8mm_33W_032.raw\n",
      "/Users/chiaentsai/Box/MURI-SARA/Thermoreflectance/Joanne/CHESS/0130_2023/13mm_per_sec/-8mm_33W_033.raw\n",
      "/Users/chiaentsai/Box/MURI-SARA/Thermoreflectance/Joanne/CHESS/0130_2023/13mm_per_sec/-8mm_33W_034.raw\n",
      "/Users/chiaentsai/Box/MURI-SARA/Thermoreflectance/Joanne/CHESS/0130_2023/13mm_per_sec/-8mm_33W_035.raw\n",
      "/Users/chiaentsai/Box/MURI-SARA/Thermoreflectance/Joanne/CHESS/0130_2023/13mm_per_sec/-8mm_33W_036.raw\n",
      "/Users/chiaentsai/Box/MURI-SARA/Thermoreflectance/Joanne/CHESS/0130_2023/13mm_per_sec/-8mm_33W_037.raw\n"
     ]
    },
    {
     "name": "stderr",
     "output_type": "stream",
     "text": [
      "100%|████████████████████████████████████████| 560/560 [00:05<00:00, 105.99it/s]\n"
     ]
    },
    {
     "name": "stdout",
     "output_type": "stream",
     "text": [
      "/Users/chiaentsai/Box/MURI-SARA/Thermoreflectance/Joanne/CHESS/0130_2023/13mm_per_sec/-8mm_33W_038.raw\n",
      "/Users/chiaentsai/Box/MURI-SARA/Thermoreflectance/Joanne/CHESS/0130_2023/13mm_per_sec/-8mm_33W_039.raw\n"
     ]
    },
    {
     "name": "stderr",
     "output_type": "stream",
     "text": [
      "\r",
      "  0%|                                                   | 0/560 [00:00<?, ?it/s]"
     ]
    },
    {
     "name": "stdout",
     "output_type": "stream",
     "text": [
      "/Users/chiaentsai/Box/MURI-SARA/Thermoreflectance/Joanne/CHESS/0130_2023/13mm_per_sec/-8mm_35W_000.raw\n"
     ]
    },
    {
     "name": "stderr",
     "output_type": "stream",
     "text": [
      "\r",
      " 86%|█████████████████████████████████▍     | 481/560 [00:00<00:00, 1404.27it/s]"
     ]
    },
    {
     "name": "stdout",
     "output_type": "stream",
     "text": [
      "/Users/chiaentsai/Box/MURI-SARA/Thermoreflectance/Joanne/CHESS/0130_2023/13mm_per_sec/-8mm_35W_001.raw\n",
      "/Users/chiaentsai/Box/MURI-SARA/Thermoreflectance/Joanne/CHESS/0130_2023/13mm_per_sec/-8mm_35W_002.raw\n",
      "/Users/chiaentsai/Box/MURI-SARA/Thermoreflectance/Joanne/CHESS/0130_2023/13mm_per_sec/-8mm_35W_003.raw\n",
      "/Users/chiaentsai/Box/MURI-SARA/Thermoreflectance/Joanne/CHESS/0130_2023/13mm_per_sec/-8mm_35W_004.raw\n",
      "/Users/chiaentsai/Box/MURI-SARA/Thermoreflectance/Joanne/CHESS/0130_2023/13mm_per_sec/-8mm_35W_005.raw\n",
      "/Users/chiaentsai/Box/MURI-SARA/Thermoreflectance/Joanne/CHESS/0130_2023/13mm_per_sec/-8mm_35W_006.raw\n",
      "/Users/chiaentsai/Box/MURI-SARA/Thermoreflectance/Joanne/CHESS/0130_2023/13mm_per_sec/-8mm_35W_007.raw\n",
      "/Users/chiaentsai/Box/MURI-SARA/Thermoreflectance/Joanne/CHESS/0130_2023/13mm_per_sec/-8mm_35W_008.raw\n",
      "/Users/chiaentsai/Box/MURI-SARA/Thermoreflectance/Joanne/CHESS/0130_2023/13mm_per_sec/-8mm_35W_009.raw\n",
      "/Users/chiaentsai/Box/MURI-SARA/Thermoreflectance/Joanne/CHESS/0130_2023/13mm_per_sec/-8mm_35W_010.raw\n",
      "/Users/chiaentsai/Box/MURI-SARA/Thermoreflectance/Joanne/CHESS/0130_2023/13mm_per_sec/-8mm_35W_011.raw\n",
      "/Users/chiaentsai/Box/MURI-SARA/Thermoreflectance/Joanne/CHESS/0130_2023/13mm_per_sec/-8mm_35W_012.raw\n",
      "/Users/chiaentsai/Box/MURI-SARA/Thermoreflectance/Joanne/CHESS/0130_2023/13mm_per_sec/-8mm_35W_013.raw\n",
      "/Users/chiaentsai/Box/MURI-SARA/Thermoreflectance/Joanne/CHESS/0130_2023/13mm_per_sec/-8mm_35W_014.raw\n",
      "/Users/chiaentsai/Box/MURI-SARA/Thermoreflectance/Joanne/CHESS/0130_2023/13mm_per_sec/-8mm_35W_015.raw\n",
      "/Users/chiaentsai/Box/MURI-SARA/Thermoreflectance/Joanne/CHESS/0130_2023/13mm_per_sec/-8mm_35W_016.raw\n",
      "/Users/chiaentsai/Box/MURI-SARA/Thermoreflectance/Joanne/CHESS/0130_2023/13mm_per_sec/-8mm_35W_017.raw\n",
      "/Users/chiaentsai/Box/MURI-SARA/Thermoreflectance/Joanne/CHESS/0130_2023/13mm_per_sec/-8mm_35W_018.raw\n",
      "/Users/chiaentsai/Box/MURI-SARA/Thermoreflectance/Joanne/CHESS/0130_2023/13mm_per_sec/-8mm_35W_019.raw\n",
      "/Users/chiaentsai/Box/MURI-SARA/Thermoreflectance/Joanne/CHESS/0130_2023/13mm_per_sec/-8mm_35W_020.raw\n",
      "/Users/chiaentsai/Box/MURI-SARA/Thermoreflectance/Joanne/CHESS/0130_2023/13mm_per_sec/-8mm_35W_021.raw\n",
      "/Users/chiaentsai/Box/MURI-SARA/Thermoreflectance/Joanne/CHESS/0130_2023/13mm_per_sec/-8mm_35W_022.raw\n",
      "/Users/chiaentsai/Box/MURI-SARA/Thermoreflectance/Joanne/CHESS/0130_2023/13mm_per_sec/-8mm_35W_023.raw\n",
      "/Users/chiaentsai/Box/MURI-SARA/Thermoreflectance/Joanne/CHESS/0130_2023/13mm_per_sec/-8mm_35W_024.raw\n",
      "/Users/chiaentsai/Box/MURI-SARA/Thermoreflectance/Joanne/CHESS/0130_2023/13mm_per_sec/-8mm_35W_025.raw\n",
      "/Users/chiaentsai/Box/MURI-SARA/Thermoreflectance/Joanne/CHESS/0130_2023/13mm_per_sec/-8mm_35W_026.raw\n",
      "/Users/chiaentsai/Box/MURI-SARA/Thermoreflectance/Joanne/CHESS/0130_2023/13mm_per_sec/-8mm_35W_027.raw\n",
      "/Users/chiaentsai/Box/MURI-SARA/Thermoreflectance/Joanne/CHESS/0130_2023/13mm_per_sec/-8mm_35W_028.raw\n",
      "/Users/chiaentsai/Box/MURI-SARA/Thermoreflectance/Joanne/CHESS/0130_2023/13mm_per_sec/-8mm_35W_029.raw\n",
      "/Users/chiaentsai/Box/MURI-SARA/Thermoreflectance/Joanne/CHESS/0130_2023/13mm_per_sec/-8mm_35W_030.raw\n",
      "/Users/chiaentsai/Box/MURI-SARA/Thermoreflectance/Joanne/CHESS/0130_2023/13mm_per_sec/-8mm_35W_031.raw\n",
      "/Users/chiaentsai/Box/MURI-SARA/Thermoreflectance/Joanne/CHESS/0130_2023/13mm_per_sec/-8mm_35W_032.raw\n",
      "/Users/chiaentsai/Box/MURI-SARA/Thermoreflectance/Joanne/CHESS/0130_2023/13mm_per_sec/-8mm_35W_033.raw\n",
      "/Users/chiaentsai/Box/MURI-SARA/Thermoreflectance/Joanne/CHESS/0130_2023/13mm_per_sec/-8mm_35W_034.raw\n",
      "/Users/chiaentsai/Box/MURI-SARA/Thermoreflectance/Joanne/CHESS/0130_2023/13mm_per_sec/-8mm_35W_035.raw\n",
      "/Users/chiaentsai/Box/MURI-SARA/Thermoreflectance/Joanne/CHESS/0130_2023/13mm_per_sec/-8mm_35W_036.raw\n",
      "/Users/chiaentsai/Box/MURI-SARA/Thermoreflectance/Joanne/CHESS/0130_2023/13mm_per_sec/-8mm_35W_037.raw\n",
      "/Users/chiaentsai/Box/MURI-SARA/Thermoreflectance/Joanne/CHESS/0130_2023/13mm_per_sec/-8mm_35W_038.raw\n"
     ]
    },
    {
     "name": "stderr",
     "output_type": "stream",
     "text": [
      "100%|████████████████████████████████████████| 560/560 [00:04<00:00, 119.69it/s]\n"
     ]
    },
    {
     "name": "stdout",
     "output_type": "stream",
     "text": [
      "/Users/chiaentsai/Box/MURI-SARA/Thermoreflectance/Joanne/CHESS/0130_2023/13mm_per_sec/-8mm_35W_039.raw\n"
     ]
    },
    {
     "name": "stderr",
     "output_type": "stream",
     "text": [
      "\r",
      "  0%|                                                   | 0/560 [00:00<?, ?it/s]"
     ]
    },
    {
     "name": "stdout",
     "output_type": "stream",
     "text": [
      "/Users/chiaentsai/Box/MURI-SARA/Thermoreflectance/Joanne/CHESS/0130_2023/13mm_per_sec/-8mm_37W_000.raw\n",
      "/Users/chiaentsai/Box/MURI-SARA/Thermoreflectance/Joanne/CHESS/0130_2023/13mm_per_sec/-8mm_37W_001.raw\n"
     ]
    },
    {
     "name": "stderr",
     "output_type": "stream",
     "text": [
      "\r",
      " 93%|████████████████████████████████████▎  | 522/560 [00:00<00:00, 2867.89it/s]"
     ]
    },
    {
     "name": "stdout",
     "output_type": "stream",
     "text": [
      "/Users/chiaentsai/Box/MURI-SARA/Thermoreflectance/Joanne/CHESS/0130_2023/13mm_per_sec/-8mm_37W_002.raw\n",
      "/Users/chiaentsai/Box/MURI-SARA/Thermoreflectance/Joanne/CHESS/0130_2023/13mm_per_sec/-8mm_37W_003.raw\n",
      "/Users/chiaentsai/Box/MURI-SARA/Thermoreflectance/Joanne/CHESS/0130_2023/13mm_per_sec/-8mm_37W_004.raw\n",
      "/Users/chiaentsai/Box/MURI-SARA/Thermoreflectance/Joanne/CHESS/0130_2023/13mm_per_sec/-8mm_37W_005.raw\n",
      "/Users/chiaentsai/Box/MURI-SARA/Thermoreflectance/Joanne/CHESS/0130_2023/13mm_per_sec/-8mm_37W_006.raw\n",
      "/Users/chiaentsai/Box/MURI-SARA/Thermoreflectance/Joanne/CHESS/0130_2023/13mm_per_sec/-8mm_37W_007.raw\n",
      "/Users/chiaentsai/Box/MURI-SARA/Thermoreflectance/Joanne/CHESS/0130_2023/13mm_per_sec/-8mm_37W_008.raw\n",
      "/Users/chiaentsai/Box/MURI-SARA/Thermoreflectance/Joanne/CHESS/0130_2023/13mm_per_sec/-8mm_37W_009.raw\n",
      "/Users/chiaentsai/Box/MURI-SARA/Thermoreflectance/Joanne/CHESS/0130_2023/13mm_per_sec/-8mm_37W_010.raw\n",
      "/Users/chiaentsai/Box/MURI-SARA/Thermoreflectance/Joanne/CHESS/0130_2023/13mm_per_sec/-8mm_37W_011.raw\n",
      "/Users/chiaentsai/Box/MURI-SARA/Thermoreflectance/Joanne/CHESS/0130_2023/13mm_per_sec/-8mm_37W_012.raw\n",
      "/Users/chiaentsai/Box/MURI-SARA/Thermoreflectance/Joanne/CHESS/0130_2023/13mm_per_sec/-8mm_37W_013.raw\n",
      "/Users/chiaentsai/Box/MURI-SARA/Thermoreflectance/Joanne/CHESS/0130_2023/13mm_per_sec/-8mm_37W_014.raw\n",
      "/Users/chiaentsai/Box/MURI-SARA/Thermoreflectance/Joanne/CHESS/0130_2023/13mm_per_sec/-8mm_37W_015.raw\n",
      "/Users/chiaentsai/Box/MURI-SARA/Thermoreflectance/Joanne/CHESS/0130_2023/13mm_per_sec/-8mm_37W_016.raw\n",
      "/Users/chiaentsai/Box/MURI-SARA/Thermoreflectance/Joanne/CHESS/0130_2023/13mm_per_sec/-8mm_37W_017.raw\n",
      "/Users/chiaentsai/Box/MURI-SARA/Thermoreflectance/Joanne/CHESS/0130_2023/13mm_per_sec/-8mm_37W_018.raw\n",
      "/Users/chiaentsai/Box/MURI-SARA/Thermoreflectance/Joanne/CHESS/0130_2023/13mm_per_sec/-8mm_37W_019.raw\n",
      "/Users/chiaentsai/Box/MURI-SARA/Thermoreflectance/Joanne/CHESS/0130_2023/13mm_per_sec/-8mm_37W_020.raw\n",
      "/Users/chiaentsai/Box/MURI-SARA/Thermoreflectance/Joanne/CHESS/0130_2023/13mm_per_sec/-8mm_37W_021.raw\n",
      "/Users/chiaentsai/Box/MURI-SARA/Thermoreflectance/Joanne/CHESS/0130_2023/13mm_per_sec/-8mm_37W_022.raw\n",
      "/Users/chiaentsai/Box/MURI-SARA/Thermoreflectance/Joanne/CHESS/0130_2023/13mm_per_sec/-8mm_37W_023.raw\n",
      "/Users/chiaentsai/Box/MURI-SARA/Thermoreflectance/Joanne/CHESS/0130_2023/13mm_per_sec/-8mm_37W_024.raw\n",
      "/Users/chiaentsai/Box/MURI-SARA/Thermoreflectance/Joanne/CHESS/0130_2023/13mm_per_sec/-8mm_37W_025.raw\n",
      "/Users/chiaentsai/Box/MURI-SARA/Thermoreflectance/Joanne/CHESS/0130_2023/13mm_per_sec/-8mm_37W_026.raw\n",
      "/Users/chiaentsai/Box/MURI-SARA/Thermoreflectance/Joanne/CHESS/0130_2023/13mm_per_sec/-8mm_37W_027.raw\n",
      "/Users/chiaentsai/Box/MURI-SARA/Thermoreflectance/Joanne/CHESS/0130_2023/13mm_per_sec/-8mm_37W_028.raw\n",
      "/Users/chiaentsai/Box/MURI-SARA/Thermoreflectance/Joanne/CHESS/0130_2023/13mm_per_sec/-8mm_37W_029.raw\n",
      "/Users/chiaentsai/Box/MURI-SARA/Thermoreflectance/Joanne/CHESS/0130_2023/13mm_per_sec/-8mm_37W_030.raw\n",
      "/Users/chiaentsai/Box/MURI-SARA/Thermoreflectance/Joanne/CHESS/0130_2023/13mm_per_sec/-8mm_37W_031.raw\n",
      "/Users/chiaentsai/Box/MURI-SARA/Thermoreflectance/Joanne/CHESS/0130_2023/13mm_per_sec/-8mm_37W_032.raw\n",
      "/Users/chiaentsai/Box/MURI-SARA/Thermoreflectance/Joanne/CHESS/0130_2023/13mm_per_sec/-8mm_37W_033.raw\n",
      "/Users/chiaentsai/Box/MURI-SARA/Thermoreflectance/Joanne/CHESS/0130_2023/13mm_per_sec/-8mm_37W_034.raw\n",
      "/Users/chiaentsai/Box/MURI-SARA/Thermoreflectance/Joanne/CHESS/0130_2023/13mm_per_sec/-8mm_37W_035.raw\n",
      "/Users/chiaentsai/Box/MURI-SARA/Thermoreflectance/Joanne/CHESS/0130_2023/13mm_per_sec/-8mm_37W_036.raw\n",
      "/Users/chiaentsai/Box/MURI-SARA/Thermoreflectance/Joanne/CHESS/0130_2023/13mm_per_sec/-8mm_37W_037.raw\n",
      "/Users/chiaentsai/Box/MURI-SARA/Thermoreflectance/Joanne/CHESS/0130_2023/13mm_per_sec/-8mm_37W_038.raw\n",
      "/Users/chiaentsai/Box/MURI-SARA/Thermoreflectance/Joanne/CHESS/0130_2023/13mm_per_sec/-8mm_37W_039.raw\n"
     ]
    },
    {
     "name": "stderr",
     "output_type": "stream",
     "text": [
      "100%|█████████████████████████████████████████| 560/560 [00:12<00:00, 46.47it/s]\n",
      "  0%|                                                   | 0/480 [00:00<?, ?it/s]"
     ]
    },
    {
     "name": "stdout",
     "output_type": "stream",
     "text": [
      "/Users/chiaentsai/Box/MURI-SARA/Thermoreflectance/Joanne/CHESS/0130_2023/155mm_per_sec/20mm_27W_000.raw\n"
     ]
    },
    {
     "name": "stderr",
     "output_type": "stream",
     "text": [
      "\r",
      " 31%|████████████▌                           | 151/480 [00:00<00:00, 474.39it/s]"
     ]
    },
    {
     "name": "stdout",
     "output_type": "stream",
     "text": [
      "/Users/chiaentsai/Box/MURI-SARA/Thermoreflectance/Joanne/CHESS/0130_2023/155mm_per_sec/20mm_27W_001.raw\n",
      "/Users/chiaentsai/Box/MURI-SARA/Thermoreflectance/Joanne/CHESS/0130_2023/155mm_per_sec/20mm_27W_002.raw\n",
      "/Users/chiaentsai/Box/MURI-SARA/Thermoreflectance/Joanne/CHESS/0130_2023/155mm_per_sec/20mm_27W_003.raw\n",
      "/Users/chiaentsai/Box/MURI-SARA/Thermoreflectance/Joanne/CHESS/0130_2023/155mm_per_sec/20mm_27W_004.raw\n",
      "/Users/chiaentsai/Box/MURI-SARA/Thermoreflectance/Joanne/CHESS/0130_2023/155mm_per_sec/20mm_27W_005.raw\n",
      "/Users/chiaentsai/Box/MURI-SARA/Thermoreflectance/Joanne/CHESS/0130_2023/155mm_per_sec/20mm_27W_006.raw\n",
      "/Users/chiaentsai/Box/MURI-SARA/Thermoreflectance/Joanne/CHESS/0130_2023/155mm_per_sec/20mm_27W_007.raw\n",
      "/Users/chiaentsai/Box/MURI-SARA/Thermoreflectance/Joanne/CHESS/0130_2023/155mm_per_sec/20mm_27W_008.raw\n",
      "/Users/chiaentsai/Box/MURI-SARA/Thermoreflectance/Joanne/CHESS/0130_2023/155mm_per_sec/20mm_27W_009.raw\n",
      "/Users/chiaentsai/Box/MURI-SARA/Thermoreflectance/Joanne/CHESS/0130_2023/155mm_per_sec/20mm_27W_010.raw\n",
      "/Users/chiaentsai/Box/MURI-SARA/Thermoreflectance/Joanne/CHESS/0130_2023/155mm_per_sec/20mm_27W_011.raw\n",
      "/Users/chiaentsai/Box/MURI-SARA/Thermoreflectance/Joanne/CHESS/0130_2023/155mm_per_sec/20mm_27W_012.raw\n",
      "/Users/chiaentsai/Box/MURI-SARA/Thermoreflectance/Joanne/CHESS/0130_2023/155mm_per_sec/20mm_27W_013.raw\n",
      "/Users/chiaentsai/Box/MURI-SARA/Thermoreflectance/Joanne/CHESS/0130_2023/155mm_per_sec/20mm_27W_014.raw\n",
      "/Users/chiaentsai/Box/MURI-SARA/Thermoreflectance/Joanne/CHESS/0130_2023/155mm_per_sec/20mm_27W_015.raw\n",
      "/Users/chiaentsai/Box/MURI-SARA/Thermoreflectance/Joanne/CHESS/0130_2023/155mm_per_sec/20mm_27W_016.raw\n",
      "/Users/chiaentsai/Box/MURI-SARA/Thermoreflectance/Joanne/CHESS/0130_2023/155mm_per_sec/20mm_27W_017.raw\n",
      "/Users/chiaentsai/Box/MURI-SARA/Thermoreflectance/Joanne/CHESS/0130_2023/155mm_per_sec/20mm_27W_018.raw\n",
      "/Users/chiaentsai/Box/MURI-SARA/Thermoreflectance/Joanne/CHESS/0130_2023/155mm_per_sec/20mm_27W_019.raw\n",
      "/Users/chiaentsai/Box/MURI-SARA/Thermoreflectance/Joanne/CHESS/0130_2023/155mm_per_sec/20mm_27W_020.raw\n",
      "/Users/chiaentsai/Box/MURI-SARA/Thermoreflectance/Joanne/CHESS/0130_2023/155mm_per_sec/20mm_27W_021.raw\n",
      "/Users/chiaentsai/Box/MURI-SARA/Thermoreflectance/Joanne/CHESS/0130_2023/155mm_per_sec/20mm_27W_022.raw\n",
      "/Users/chiaentsai/Box/MURI-SARA/Thermoreflectance/Joanne/CHESS/0130_2023/155mm_per_sec/20mm_27W_023.raw\n",
      "/Users/chiaentsai/Box/MURI-SARA/Thermoreflectance/Joanne/CHESS/0130_2023/155mm_per_sec/20mm_27W_024.raw\n",
      "/Users/chiaentsai/Box/MURI-SARA/Thermoreflectance/Joanne/CHESS/0130_2023/155mm_per_sec/20mm_27W_025.raw\n",
      "/Users/chiaentsai/Box/MURI-SARA/Thermoreflectance/Joanne/CHESS/0130_2023/155mm_per_sec/20mm_27W_026.raw\n",
      "/Users/chiaentsai/Box/MURI-SARA/Thermoreflectance/Joanne/CHESS/0130_2023/155mm_per_sec/20mm_27W_027.raw\n",
      "/Users/chiaentsai/Box/MURI-SARA/Thermoreflectance/Joanne/CHESS/0130_2023/155mm_per_sec/20mm_27W_028.raw\n"
     ]
    },
    {
     "name": "stderr",
     "output_type": "stream",
     "text": [
      "100%|█████████████████████████████████████████| 480/480 [00:09<00:00, 52.25it/s]"
     ]
    },
    {
     "name": "stdout",
     "output_type": "stream",
     "text": [
      "/Users/chiaentsai/Box/MURI-SARA/Thermoreflectance/Joanne/CHESS/0130_2023/155mm_per_sec/20mm_27W_029.raw\n"
     ]
    },
    {
     "name": "stderr",
     "output_type": "stream",
     "text": [
      "\n",
      " 38%|██████████████▊                        | 182/480 [00:00<00:00, 1265.04it/s]"
     ]
    },
    {
     "name": "stdout",
     "output_type": "stream",
     "text": [
      "/Users/chiaentsai/Box/MURI-SARA/Thermoreflectance/Joanne/CHESS/0130_2023/155mm_per_sec/20mm_29W_000.raw\n",
      "/Users/chiaentsai/Box/MURI-SARA/Thermoreflectance/Joanne/CHESS/0130_2023/155mm_per_sec/20mm_29W_001.raw\n",
      "/Users/chiaentsai/Box/MURI-SARA/Thermoreflectance/Joanne/CHESS/0130_2023/155mm_per_sec/20mm_29W_002.raw\n",
      "/Users/chiaentsai/Box/MURI-SARA/Thermoreflectance/Joanne/CHESS/0130_2023/155mm_per_sec/20mm_29W_003.raw\n",
      "/Users/chiaentsai/Box/MURI-SARA/Thermoreflectance/Joanne/CHESS/0130_2023/155mm_per_sec/20mm_29W_004.raw\n",
      "/Users/chiaentsai/Box/MURI-SARA/Thermoreflectance/Joanne/CHESS/0130_2023/155mm_per_sec/20mm_29W_005.raw\n",
      "/Users/chiaentsai/Box/MURI-SARA/Thermoreflectance/Joanne/CHESS/0130_2023/155mm_per_sec/20mm_29W_006.raw\n",
      "/Users/chiaentsai/Box/MURI-SARA/Thermoreflectance/Joanne/CHESS/0130_2023/155mm_per_sec/20mm_29W_007.raw\n",
      "/Users/chiaentsai/Box/MURI-SARA/Thermoreflectance/Joanne/CHESS/0130_2023/155mm_per_sec/20mm_29W_008.raw\n",
      "/Users/chiaentsai/Box/MURI-SARA/Thermoreflectance/Joanne/CHESS/0130_2023/155mm_per_sec/20mm_29W_009.raw\n",
      "/Users/chiaentsai/Box/MURI-SARA/Thermoreflectance/Joanne/CHESS/0130_2023/155mm_per_sec/20mm_29W_010.raw\n",
      "/Users/chiaentsai/Box/MURI-SARA/Thermoreflectance/Joanne/CHESS/0130_2023/155mm_per_sec/20mm_29W_011.raw\n",
      "/Users/chiaentsai/Box/MURI-SARA/Thermoreflectance/Joanne/CHESS/0130_2023/155mm_per_sec/20mm_29W_012.raw\n",
      "/Users/chiaentsai/Box/MURI-SARA/Thermoreflectance/Joanne/CHESS/0130_2023/155mm_per_sec/20mm_29W_013.raw\n",
      "/Users/chiaentsai/Box/MURI-SARA/Thermoreflectance/Joanne/CHESS/0130_2023/155mm_per_sec/20mm_29W_014.raw\n",
      "/Users/chiaentsai/Box/MURI-SARA/Thermoreflectance/Joanne/CHESS/0130_2023/155mm_per_sec/20mm_29W_015.raw\n",
      "/Users/chiaentsai/Box/MURI-SARA/Thermoreflectance/Joanne/CHESS/0130_2023/155mm_per_sec/20mm_29W_016.raw\n",
      "/Users/chiaentsai/Box/MURI-SARA/Thermoreflectance/Joanne/CHESS/0130_2023/155mm_per_sec/20mm_29W_017.raw\n",
      "/Users/chiaentsai/Box/MURI-SARA/Thermoreflectance/Joanne/CHESS/0130_2023/155mm_per_sec/20mm_29W_018.raw\n",
      "/Users/chiaentsai/Box/MURI-SARA/Thermoreflectance/Joanne/CHESS/0130_2023/155mm_per_sec/20mm_29W_019.raw\n",
      "/Users/chiaentsai/Box/MURI-SARA/Thermoreflectance/Joanne/CHESS/0130_2023/155mm_per_sec/20mm_29W_020.raw\n",
      "/Users/chiaentsai/Box/MURI-SARA/Thermoreflectance/Joanne/CHESS/0130_2023/155mm_per_sec/20mm_29W_021.raw\n",
      "/Users/chiaentsai/Box/MURI-SARA/Thermoreflectance/Joanne/CHESS/0130_2023/155mm_per_sec/20mm_29W_022.raw\n",
      "/Users/chiaentsai/Box/MURI-SARA/Thermoreflectance/Joanne/CHESS/0130_2023/155mm_per_sec/20mm_29W_023.raw\n",
      "/Users/chiaentsai/Box/MURI-SARA/Thermoreflectance/Joanne/CHESS/0130_2023/155mm_per_sec/20mm_29W_024.raw\n",
      "/Users/chiaentsai/Box/MURI-SARA/Thermoreflectance/Joanne/CHESS/0130_2023/155mm_per_sec/20mm_29W_025.raw\n",
      "/Users/chiaentsai/Box/MURI-SARA/Thermoreflectance/Joanne/CHESS/0130_2023/155mm_per_sec/20mm_29W_026.raw\n",
      "/Users/chiaentsai/Box/MURI-SARA/Thermoreflectance/Joanne/CHESS/0130_2023/155mm_per_sec/20mm_29W_027.raw\n",
      "/Users/chiaentsai/Box/MURI-SARA/Thermoreflectance/Joanne/CHESS/0130_2023/155mm_per_sec/20mm_29W_028.raw\n",
      "/Users/chiaentsai/Box/MURI-SARA/Thermoreflectance/Joanne/CHESS/0130_2023/155mm_per_sec/20mm_29W_029.raw\n"
     ]
    },
    {
     "name": "stderr",
     "output_type": "stream",
     "text": [
      "100%|█████████████████████████████████████████| 480/480 [00:07<00:00, 66.74it/s]\n",
      "  0%|                                                   | 0/480 [00:00<?, ?it/s]"
     ]
    },
    {
     "name": "stdout",
     "output_type": "stream",
     "text": [
      "/Users/chiaentsai/Box/MURI-SARA/Thermoreflectance/Joanne/CHESS/0130_2023/155mm_per_sec/20mm_31W_000.raw\n"
     ]
    },
    {
     "name": "stderr",
     "output_type": "stream",
     "text": [
      "\r",
      " 44%|█████████████████▏                     | 211/480 [00:00<00:00, 1017.70it/s]"
     ]
    },
    {
     "name": "stdout",
     "output_type": "stream",
     "text": [
      "/Users/chiaentsai/Box/MURI-SARA/Thermoreflectance/Joanne/CHESS/0130_2023/155mm_per_sec/20mm_31W_001.raw\n",
      "/Users/chiaentsai/Box/MURI-SARA/Thermoreflectance/Joanne/CHESS/0130_2023/155mm_per_sec/20mm_31W_002.raw\n",
      "/Users/chiaentsai/Box/MURI-SARA/Thermoreflectance/Joanne/CHESS/0130_2023/155mm_per_sec/20mm_31W_003.raw\n",
      "/Users/chiaentsai/Box/MURI-SARA/Thermoreflectance/Joanne/CHESS/0130_2023/155mm_per_sec/20mm_31W_004.raw\n",
      "/Users/chiaentsai/Box/MURI-SARA/Thermoreflectance/Joanne/CHESS/0130_2023/155mm_per_sec/20mm_31W_005.raw\n",
      "/Users/chiaentsai/Box/MURI-SARA/Thermoreflectance/Joanne/CHESS/0130_2023/155mm_per_sec/20mm_31W_006.raw\n",
      "/Users/chiaentsai/Box/MURI-SARA/Thermoreflectance/Joanne/CHESS/0130_2023/155mm_per_sec/20mm_31W_007.raw\n",
      "/Users/chiaentsai/Box/MURI-SARA/Thermoreflectance/Joanne/CHESS/0130_2023/155mm_per_sec/20mm_31W_008.raw\n",
      "/Users/chiaentsai/Box/MURI-SARA/Thermoreflectance/Joanne/CHESS/0130_2023/155mm_per_sec/20mm_31W_009.raw\n",
      "/Users/chiaentsai/Box/MURI-SARA/Thermoreflectance/Joanne/CHESS/0130_2023/155mm_per_sec/20mm_31W_010.raw\n",
      "/Users/chiaentsai/Box/MURI-SARA/Thermoreflectance/Joanne/CHESS/0130_2023/155mm_per_sec/20mm_31W_011.raw\n",
      "/Users/chiaentsai/Box/MURI-SARA/Thermoreflectance/Joanne/CHESS/0130_2023/155mm_per_sec/20mm_31W_012.raw\n",
      "/Users/chiaentsai/Box/MURI-SARA/Thermoreflectance/Joanne/CHESS/0130_2023/155mm_per_sec/20mm_31W_013.raw\n",
      "/Users/chiaentsai/Box/MURI-SARA/Thermoreflectance/Joanne/CHESS/0130_2023/155mm_per_sec/20mm_31W_014.raw\n",
      "/Users/chiaentsai/Box/MURI-SARA/Thermoreflectance/Joanne/CHESS/0130_2023/155mm_per_sec/20mm_31W_015.raw\n",
      "/Users/chiaentsai/Box/MURI-SARA/Thermoreflectance/Joanne/CHESS/0130_2023/155mm_per_sec/20mm_31W_016.raw\n",
      "/Users/chiaentsai/Box/MURI-SARA/Thermoreflectance/Joanne/CHESS/0130_2023/155mm_per_sec/20mm_31W_017.raw\n",
      "/Users/chiaentsai/Box/MURI-SARA/Thermoreflectance/Joanne/CHESS/0130_2023/155mm_per_sec/20mm_31W_018.raw\n",
      "/Users/chiaentsai/Box/MURI-SARA/Thermoreflectance/Joanne/CHESS/0130_2023/155mm_per_sec/20mm_31W_019.raw\n",
      "/Users/chiaentsai/Box/MURI-SARA/Thermoreflectance/Joanne/CHESS/0130_2023/155mm_per_sec/20mm_31W_020.raw\n",
      "/Users/chiaentsai/Box/MURI-SARA/Thermoreflectance/Joanne/CHESS/0130_2023/155mm_per_sec/20mm_31W_021.raw\n",
      "/Users/chiaentsai/Box/MURI-SARA/Thermoreflectance/Joanne/CHESS/0130_2023/155mm_per_sec/20mm_31W_022.raw\n",
      "/Users/chiaentsai/Box/MURI-SARA/Thermoreflectance/Joanne/CHESS/0130_2023/155mm_per_sec/20mm_31W_023.raw\n",
      "/Users/chiaentsai/Box/MURI-SARA/Thermoreflectance/Joanne/CHESS/0130_2023/155mm_per_sec/20mm_31W_024.raw\n",
      "/Users/chiaentsai/Box/MURI-SARA/Thermoreflectance/Joanne/CHESS/0130_2023/155mm_per_sec/20mm_31W_025.raw\n",
      "/Users/chiaentsai/Box/MURI-SARA/Thermoreflectance/Joanne/CHESS/0130_2023/155mm_per_sec/20mm_31W_026.raw\n",
      "/Users/chiaentsai/Box/MURI-SARA/Thermoreflectance/Joanne/CHESS/0130_2023/155mm_per_sec/20mm_31W_027.raw\n",
      "/Users/chiaentsai/Box/MURI-SARA/Thermoreflectance/Joanne/CHESS/0130_2023/155mm_per_sec/20mm_31W_028.raw\n",
      "/Users/chiaentsai/Box/MURI-SARA/Thermoreflectance/Joanne/CHESS/0130_2023/155mm_per_sec/20mm_31W_029.raw\n"
     ]
    },
    {
     "name": "stderr",
     "output_type": "stream",
     "text": [
      "100%|█████████████████████████████████████████| 480/480 [00:08<00:00, 54.53it/s]\n",
      " 50%|███████████████████▌                   | 241/480 [00:00<00:00, 2269.96it/s]"
     ]
    },
    {
     "name": "stdout",
     "output_type": "stream",
     "text": [
      "/Users/chiaentsai/Box/MURI-SARA/Thermoreflectance/Joanne/CHESS/0130_2023/155mm_per_sec/20mm_33W_000.raw\n",
      "/Users/chiaentsai/Box/MURI-SARA/Thermoreflectance/Joanne/CHESS/0130_2023/155mm_per_sec/20mm_33W_001.raw\n",
      "/Users/chiaentsai/Box/MURI-SARA/Thermoreflectance/Joanne/CHESS/0130_2023/155mm_per_sec/20mm_33W_002.raw\n",
      "/Users/chiaentsai/Box/MURI-SARA/Thermoreflectance/Joanne/CHESS/0130_2023/155mm_per_sec/20mm_33W_003.raw\n",
      "/Users/chiaentsai/Box/MURI-SARA/Thermoreflectance/Joanne/CHESS/0130_2023/155mm_per_sec/20mm_33W_004.raw\n",
      "/Users/chiaentsai/Box/MURI-SARA/Thermoreflectance/Joanne/CHESS/0130_2023/155mm_per_sec/20mm_33W_005.raw\n",
      "/Users/chiaentsai/Box/MURI-SARA/Thermoreflectance/Joanne/CHESS/0130_2023/155mm_per_sec/20mm_33W_006.raw\n",
      "/Users/chiaentsai/Box/MURI-SARA/Thermoreflectance/Joanne/CHESS/0130_2023/155mm_per_sec/20mm_33W_007.raw\n",
      "/Users/chiaentsai/Box/MURI-SARA/Thermoreflectance/Joanne/CHESS/0130_2023/155mm_per_sec/20mm_33W_008.raw\n",
      "/Users/chiaentsai/Box/MURI-SARA/Thermoreflectance/Joanne/CHESS/0130_2023/155mm_per_sec/20mm_33W_009.raw\n",
      "/Users/chiaentsai/Box/MURI-SARA/Thermoreflectance/Joanne/CHESS/0130_2023/155mm_per_sec/20mm_33W_010.raw\n",
      "/Users/chiaentsai/Box/MURI-SARA/Thermoreflectance/Joanne/CHESS/0130_2023/155mm_per_sec/20mm_33W_011.raw\n",
      "/Users/chiaentsai/Box/MURI-SARA/Thermoreflectance/Joanne/CHESS/0130_2023/155mm_per_sec/20mm_33W_012.raw\n",
      "/Users/chiaentsai/Box/MURI-SARA/Thermoreflectance/Joanne/CHESS/0130_2023/155mm_per_sec/20mm_33W_013.raw\n",
      "/Users/chiaentsai/Box/MURI-SARA/Thermoreflectance/Joanne/CHESS/0130_2023/155mm_per_sec/20mm_33W_014.raw\n",
      "/Users/chiaentsai/Box/MURI-SARA/Thermoreflectance/Joanne/CHESS/0130_2023/155mm_per_sec/20mm_33W_015.raw\n",
      "/Users/chiaentsai/Box/MURI-SARA/Thermoreflectance/Joanne/CHESS/0130_2023/155mm_per_sec/20mm_33W_016.raw\n",
      "/Users/chiaentsai/Box/MURI-SARA/Thermoreflectance/Joanne/CHESS/0130_2023/155mm_per_sec/20mm_33W_017.raw\n",
      "/Users/chiaentsai/Box/MURI-SARA/Thermoreflectance/Joanne/CHESS/0130_2023/155mm_per_sec/20mm_33W_018.raw\n",
      "/Users/chiaentsai/Box/MURI-SARA/Thermoreflectance/Joanne/CHESS/0130_2023/155mm_per_sec/20mm_33W_019.raw\n",
      "/Users/chiaentsai/Box/MURI-SARA/Thermoreflectance/Joanne/CHESS/0130_2023/155mm_per_sec/20mm_33W_020.raw\n",
      "/Users/chiaentsai/Box/MURI-SARA/Thermoreflectance/Joanne/CHESS/0130_2023/155mm_per_sec/20mm_33W_021.raw\n",
      "/Users/chiaentsai/Box/MURI-SARA/Thermoreflectance/Joanne/CHESS/0130_2023/155mm_per_sec/20mm_33W_022.raw\n",
      "/Users/chiaentsai/Box/MURI-SARA/Thermoreflectance/Joanne/CHESS/0130_2023/155mm_per_sec/20mm_33W_023.raw\n",
      "/Users/chiaentsai/Box/MURI-SARA/Thermoreflectance/Joanne/CHESS/0130_2023/155mm_per_sec/20mm_33W_024.raw\n",
      "/Users/chiaentsai/Box/MURI-SARA/Thermoreflectance/Joanne/CHESS/0130_2023/155mm_per_sec/20mm_33W_025.raw\n",
      "/Users/chiaentsai/Box/MURI-SARA/Thermoreflectance/Joanne/CHESS/0130_2023/155mm_per_sec/20mm_33W_026.raw\n",
      "/Users/chiaentsai/Box/MURI-SARA/Thermoreflectance/Joanne/CHESS/0130_2023/155mm_per_sec/20mm_33W_027.raw\n",
      "/Users/chiaentsai/Box/MURI-SARA/Thermoreflectance/Joanne/CHESS/0130_2023/155mm_per_sec/20mm_33W_028.raw\n"
     ]
    },
    {
     "name": "stderr",
     "output_type": "stream",
     "text": [
      "100%|█████████████████████████████████████████| 480/480 [00:08<00:00, 54.16it/s]\n"
     ]
    },
    {
     "name": "stdout",
     "output_type": "stream",
     "text": [
      "/Users/chiaentsai/Box/MURI-SARA/Thermoreflectance/Joanne/CHESS/0130_2023/155mm_per_sec/20mm_33W_029.raw\n"
     ]
    },
    {
     "name": "stderr",
     "output_type": "stream",
     "text": [
      "\r",
      "  0%|                                                   | 0/480 [00:00<?, ?it/s]"
     ]
    },
    {
     "name": "stdout",
     "output_type": "stream",
     "text": [
      "/Users/chiaentsai/Box/MURI-SARA/Thermoreflectance/Joanne/CHESS/0130_2023/155mm_per_sec/20mm_35W_000.raw\n"
     ]
    },
    {
     "name": "stderr",
     "output_type": "stream",
     "text": [
      "\r",
      " 56%|██████████████████████                 | 271/480 [00:00<00:00, 1642.13it/s]"
     ]
    },
    {
     "name": "stdout",
     "output_type": "stream",
     "text": [
      "/Users/chiaentsai/Box/MURI-SARA/Thermoreflectance/Joanne/CHESS/0130_2023/155mm_per_sec/20mm_35W_001.raw\n",
      "/Users/chiaentsai/Box/MURI-SARA/Thermoreflectance/Joanne/CHESS/0130_2023/155mm_per_sec/20mm_35W_002.raw\n",
      "/Users/chiaentsai/Box/MURI-SARA/Thermoreflectance/Joanne/CHESS/0130_2023/155mm_per_sec/20mm_35W_003.raw\n",
      "/Users/chiaentsai/Box/MURI-SARA/Thermoreflectance/Joanne/CHESS/0130_2023/155mm_per_sec/20mm_35W_004.raw\n",
      "/Users/chiaentsai/Box/MURI-SARA/Thermoreflectance/Joanne/CHESS/0130_2023/155mm_per_sec/20mm_35W_005.raw\n",
      "/Users/chiaentsai/Box/MURI-SARA/Thermoreflectance/Joanne/CHESS/0130_2023/155mm_per_sec/20mm_35W_006.raw\n",
      "/Users/chiaentsai/Box/MURI-SARA/Thermoreflectance/Joanne/CHESS/0130_2023/155mm_per_sec/20mm_35W_007.raw\n",
      "/Users/chiaentsai/Box/MURI-SARA/Thermoreflectance/Joanne/CHESS/0130_2023/155mm_per_sec/20mm_35W_008.raw\n",
      "/Users/chiaentsai/Box/MURI-SARA/Thermoreflectance/Joanne/CHESS/0130_2023/155mm_per_sec/20mm_35W_009.raw\n",
      "/Users/chiaentsai/Box/MURI-SARA/Thermoreflectance/Joanne/CHESS/0130_2023/155mm_per_sec/20mm_35W_010.raw\n",
      "/Users/chiaentsai/Box/MURI-SARA/Thermoreflectance/Joanne/CHESS/0130_2023/155mm_per_sec/20mm_35W_011.raw\n",
      "/Users/chiaentsai/Box/MURI-SARA/Thermoreflectance/Joanne/CHESS/0130_2023/155mm_per_sec/20mm_35W_012.raw\n",
      "/Users/chiaentsai/Box/MURI-SARA/Thermoreflectance/Joanne/CHESS/0130_2023/155mm_per_sec/20mm_35W_013.raw\n",
      "/Users/chiaentsai/Box/MURI-SARA/Thermoreflectance/Joanne/CHESS/0130_2023/155mm_per_sec/20mm_35W_014.raw\n",
      "/Users/chiaentsai/Box/MURI-SARA/Thermoreflectance/Joanne/CHESS/0130_2023/155mm_per_sec/20mm_35W_015.raw\n",
      "/Users/chiaentsai/Box/MURI-SARA/Thermoreflectance/Joanne/CHESS/0130_2023/155mm_per_sec/20mm_35W_016.raw\n",
      "/Users/chiaentsai/Box/MURI-SARA/Thermoreflectance/Joanne/CHESS/0130_2023/155mm_per_sec/20mm_35W_017.raw\n",
      "/Users/chiaentsai/Box/MURI-SARA/Thermoreflectance/Joanne/CHESS/0130_2023/155mm_per_sec/20mm_35W_018.raw\n",
      "/Users/chiaentsai/Box/MURI-SARA/Thermoreflectance/Joanne/CHESS/0130_2023/155mm_per_sec/20mm_35W_019.raw\n",
      "/Users/chiaentsai/Box/MURI-SARA/Thermoreflectance/Joanne/CHESS/0130_2023/155mm_per_sec/20mm_35W_020.raw\n",
      "/Users/chiaentsai/Box/MURI-SARA/Thermoreflectance/Joanne/CHESS/0130_2023/155mm_per_sec/20mm_35W_021.raw\n",
      "/Users/chiaentsai/Box/MURI-SARA/Thermoreflectance/Joanne/CHESS/0130_2023/155mm_per_sec/20mm_35W_022.raw\n",
      "/Users/chiaentsai/Box/MURI-SARA/Thermoreflectance/Joanne/CHESS/0130_2023/155mm_per_sec/20mm_35W_023.raw\n",
      "/Users/chiaentsai/Box/MURI-SARA/Thermoreflectance/Joanne/CHESS/0130_2023/155mm_per_sec/20mm_35W_024.raw\n",
      "/Users/chiaentsai/Box/MURI-SARA/Thermoreflectance/Joanne/CHESS/0130_2023/155mm_per_sec/20mm_35W_025.raw\n",
      "/Users/chiaentsai/Box/MURI-SARA/Thermoreflectance/Joanne/CHESS/0130_2023/155mm_per_sec/20mm_35W_026.raw\n",
      "/Users/chiaentsai/Box/MURI-SARA/Thermoreflectance/Joanne/CHESS/0130_2023/155mm_per_sec/20mm_35W_027.raw\n",
      "/Users/chiaentsai/Box/MURI-SARA/Thermoreflectance/Joanne/CHESS/0130_2023/155mm_per_sec/20mm_35W_028.raw\n",
      "/Users/chiaentsai/Box/MURI-SARA/Thermoreflectance/Joanne/CHESS/0130_2023/155mm_per_sec/20mm_35W_029.raw\n"
     ]
    },
    {
     "name": "stderr",
     "output_type": "stream",
     "text": [
      "100%|█████████████████████████████████████████| 480/480 [00:07<00:00, 61.62it/s]\n",
      " 63%|████████████████████████▌              | 302/480 [00:00<00:00, 2169.75it/s]"
     ]
    },
    {
     "name": "stdout",
     "output_type": "stream",
     "text": [
      "/Users/chiaentsai/Box/MURI-SARA/Thermoreflectance/Joanne/CHESS/0130_2023/155mm_per_sec/20mm_37W_000.raw\n",
      "/Users/chiaentsai/Box/MURI-SARA/Thermoreflectance/Joanne/CHESS/0130_2023/155mm_per_sec/20mm_37W_001.raw\n",
      "/Users/chiaentsai/Box/MURI-SARA/Thermoreflectance/Joanne/CHESS/0130_2023/155mm_per_sec/20mm_37W_002.raw\n",
      "/Users/chiaentsai/Box/MURI-SARA/Thermoreflectance/Joanne/CHESS/0130_2023/155mm_per_sec/20mm_37W_003.raw\n",
      "/Users/chiaentsai/Box/MURI-SARA/Thermoreflectance/Joanne/CHESS/0130_2023/155mm_per_sec/20mm_37W_004.raw\n",
      "/Users/chiaentsai/Box/MURI-SARA/Thermoreflectance/Joanne/CHESS/0130_2023/155mm_per_sec/20mm_37W_005.raw\n",
      "/Users/chiaentsai/Box/MURI-SARA/Thermoreflectance/Joanne/CHESS/0130_2023/155mm_per_sec/20mm_37W_006.raw\n",
      "/Users/chiaentsai/Box/MURI-SARA/Thermoreflectance/Joanne/CHESS/0130_2023/155mm_per_sec/20mm_37W_007.raw\n",
      "/Users/chiaentsai/Box/MURI-SARA/Thermoreflectance/Joanne/CHESS/0130_2023/155mm_per_sec/20mm_37W_008.raw\n",
      "/Users/chiaentsai/Box/MURI-SARA/Thermoreflectance/Joanne/CHESS/0130_2023/155mm_per_sec/20mm_37W_009.raw\n",
      "/Users/chiaentsai/Box/MURI-SARA/Thermoreflectance/Joanne/CHESS/0130_2023/155mm_per_sec/20mm_37W_010.raw\n",
      "/Users/chiaentsai/Box/MURI-SARA/Thermoreflectance/Joanne/CHESS/0130_2023/155mm_per_sec/20mm_37W_011.raw\n",
      "/Users/chiaentsai/Box/MURI-SARA/Thermoreflectance/Joanne/CHESS/0130_2023/155mm_per_sec/20mm_37W_012.raw\n",
      "/Users/chiaentsai/Box/MURI-SARA/Thermoreflectance/Joanne/CHESS/0130_2023/155mm_per_sec/20mm_37W_013.raw\n",
      "/Users/chiaentsai/Box/MURI-SARA/Thermoreflectance/Joanne/CHESS/0130_2023/155mm_per_sec/20mm_37W_014.raw\n",
      "/Users/chiaentsai/Box/MURI-SARA/Thermoreflectance/Joanne/CHESS/0130_2023/155mm_per_sec/20mm_37W_015.raw\n",
      "/Users/chiaentsai/Box/MURI-SARA/Thermoreflectance/Joanne/CHESS/0130_2023/155mm_per_sec/20mm_37W_016.raw\n",
      "/Users/chiaentsai/Box/MURI-SARA/Thermoreflectance/Joanne/CHESS/0130_2023/155mm_per_sec/20mm_37W_017.raw\n",
      "/Users/chiaentsai/Box/MURI-SARA/Thermoreflectance/Joanne/CHESS/0130_2023/155mm_per_sec/20mm_37W_018.raw\n",
      "/Users/chiaentsai/Box/MURI-SARA/Thermoreflectance/Joanne/CHESS/0130_2023/155mm_per_sec/20mm_37W_019.raw\n",
      "/Users/chiaentsai/Box/MURI-SARA/Thermoreflectance/Joanne/CHESS/0130_2023/155mm_per_sec/20mm_37W_020.raw\n",
      "/Users/chiaentsai/Box/MURI-SARA/Thermoreflectance/Joanne/CHESS/0130_2023/155mm_per_sec/20mm_37W_021.raw\n",
      "/Users/chiaentsai/Box/MURI-SARA/Thermoreflectance/Joanne/CHESS/0130_2023/155mm_per_sec/20mm_37W_022.raw\n",
      "/Users/chiaentsai/Box/MURI-SARA/Thermoreflectance/Joanne/CHESS/0130_2023/155mm_per_sec/20mm_37W_023.raw\n",
      "/Users/chiaentsai/Box/MURI-SARA/Thermoreflectance/Joanne/CHESS/0130_2023/155mm_per_sec/20mm_37W_024.raw\n",
      "/Users/chiaentsai/Box/MURI-SARA/Thermoreflectance/Joanne/CHESS/0130_2023/155mm_per_sec/20mm_37W_025.raw\n",
      "/Users/chiaentsai/Box/MURI-SARA/Thermoreflectance/Joanne/CHESS/0130_2023/155mm_per_sec/20mm_37W_026.raw\n",
      "/Users/chiaentsai/Box/MURI-SARA/Thermoreflectance/Joanne/CHESS/0130_2023/155mm_per_sec/20mm_37W_027.raw\n",
      "/Users/chiaentsai/Box/MURI-SARA/Thermoreflectance/Joanne/CHESS/0130_2023/155mm_per_sec/20mm_37W_028.raw\n",
      "/Users/chiaentsai/Box/MURI-SARA/Thermoreflectance/Joanne/CHESS/0130_2023/155mm_per_sec/20mm_37W_029.raw\n"
     ]
    },
    {
     "name": "stderr",
     "output_type": "stream",
     "text": [
      "100%|█████████████████████████████████████████| 480/480 [00:07<00:00, 62.07it/s]\n",
      " 69%|██████████████████████████▉            | 332/480 [00:00<00:00, 2247.66it/s]"
     ]
    },
    {
     "name": "stdout",
     "output_type": "stream",
     "text": [
      "/Users/chiaentsai/Box/MURI-SARA/Thermoreflectance/Joanne/CHESS/0130_2023/155mm_per_sec/20mm_39W_000.raw\n",
      "/Users/chiaentsai/Box/MURI-SARA/Thermoreflectance/Joanne/CHESS/0130_2023/155mm_per_sec/20mm_39W_001.raw\n",
      "/Users/chiaentsai/Box/MURI-SARA/Thermoreflectance/Joanne/CHESS/0130_2023/155mm_per_sec/20mm_39W_002.raw\n",
      "/Users/chiaentsai/Box/MURI-SARA/Thermoreflectance/Joanne/CHESS/0130_2023/155mm_per_sec/20mm_39W_003.raw\n",
      "/Users/chiaentsai/Box/MURI-SARA/Thermoreflectance/Joanne/CHESS/0130_2023/155mm_per_sec/20mm_39W_004.raw\n",
      "/Users/chiaentsai/Box/MURI-SARA/Thermoreflectance/Joanne/CHESS/0130_2023/155mm_per_sec/20mm_39W_005.raw\n",
      "/Users/chiaentsai/Box/MURI-SARA/Thermoreflectance/Joanne/CHESS/0130_2023/155mm_per_sec/20mm_39W_006.raw\n",
      "/Users/chiaentsai/Box/MURI-SARA/Thermoreflectance/Joanne/CHESS/0130_2023/155mm_per_sec/20mm_39W_007.raw\n",
      "/Users/chiaentsai/Box/MURI-SARA/Thermoreflectance/Joanne/CHESS/0130_2023/155mm_per_sec/20mm_39W_008.raw\n",
      "/Users/chiaentsai/Box/MURI-SARA/Thermoreflectance/Joanne/CHESS/0130_2023/155mm_per_sec/20mm_39W_009.raw\n",
      "/Users/chiaentsai/Box/MURI-SARA/Thermoreflectance/Joanne/CHESS/0130_2023/155mm_per_sec/20mm_39W_010.raw\n",
      "/Users/chiaentsai/Box/MURI-SARA/Thermoreflectance/Joanne/CHESS/0130_2023/155mm_per_sec/20mm_39W_011.raw\n",
      "/Users/chiaentsai/Box/MURI-SARA/Thermoreflectance/Joanne/CHESS/0130_2023/155mm_per_sec/20mm_39W_012.raw\n",
      "/Users/chiaentsai/Box/MURI-SARA/Thermoreflectance/Joanne/CHESS/0130_2023/155mm_per_sec/20mm_39W_013.raw\n",
      "/Users/chiaentsai/Box/MURI-SARA/Thermoreflectance/Joanne/CHESS/0130_2023/155mm_per_sec/20mm_39W_014.raw\n",
      "/Users/chiaentsai/Box/MURI-SARA/Thermoreflectance/Joanne/CHESS/0130_2023/155mm_per_sec/20mm_39W_015.raw\n",
      "/Users/chiaentsai/Box/MURI-SARA/Thermoreflectance/Joanne/CHESS/0130_2023/155mm_per_sec/20mm_39W_016.raw\n",
      "/Users/chiaentsai/Box/MURI-SARA/Thermoreflectance/Joanne/CHESS/0130_2023/155mm_per_sec/20mm_39W_017.raw\n",
      "/Users/chiaentsai/Box/MURI-SARA/Thermoreflectance/Joanne/CHESS/0130_2023/155mm_per_sec/20mm_39W_018.raw\n",
      "/Users/chiaentsai/Box/MURI-SARA/Thermoreflectance/Joanne/CHESS/0130_2023/155mm_per_sec/20mm_39W_019.raw\n",
      "/Users/chiaentsai/Box/MURI-SARA/Thermoreflectance/Joanne/CHESS/0130_2023/155mm_per_sec/20mm_39W_020.raw\n",
      "/Users/chiaentsai/Box/MURI-SARA/Thermoreflectance/Joanne/CHESS/0130_2023/155mm_per_sec/20mm_39W_021.raw\n",
      "/Users/chiaentsai/Box/MURI-SARA/Thermoreflectance/Joanne/CHESS/0130_2023/155mm_per_sec/20mm_39W_022.raw\n",
      "/Users/chiaentsai/Box/MURI-SARA/Thermoreflectance/Joanne/CHESS/0130_2023/155mm_per_sec/20mm_39W_023.raw\n",
      "/Users/chiaentsai/Box/MURI-SARA/Thermoreflectance/Joanne/CHESS/0130_2023/155mm_per_sec/20mm_39W_024.raw\n",
      "/Users/chiaentsai/Box/MURI-SARA/Thermoreflectance/Joanne/CHESS/0130_2023/155mm_per_sec/20mm_39W_025.raw\n",
      "/Users/chiaentsai/Box/MURI-SARA/Thermoreflectance/Joanne/CHESS/0130_2023/155mm_per_sec/20mm_39W_026.raw\n",
      "/Users/chiaentsai/Box/MURI-SARA/Thermoreflectance/Joanne/CHESS/0130_2023/155mm_per_sec/20mm_39W_027.raw\n",
      "/Users/chiaentsai/Box/MURI-SARA/Thermoreflectance/Joanne/CHESS/0130_2023/155mm_per_sec/20mm_39W_028.raw\n",
      "/Users/chiaentsai/Box/MURI-SARA/Thermoreflectance/Joanne/CHESS/0130_2023/155mm_per_sec/20mm_39W_029.raw\n"
     ]
    },
    {
     "name": "stderr",
     "output_type": "stream",
     "text": [
      "100%|█████████████████████████████████████████| 480/480 [00:08<00:00, 58.83it/s]\n",
      " 75%|█████████████████████████████▎         | 361/480 [00:00<00:00, 2334.35it/s]"
     ]
    },
    {
     "name": "stdout",
     "output_type": "stream",
     "text": [
      "/Users/chiaentsai/Box/MURI-SARA/Thermoreflectance/Joanne/CHESS/0130_2023/155mm_per_sec/20mm_41W_000.raw\n",
      "/Users/chiaentsai/Box/MURI-SARA/Thermoreflectance/Joanne/CHESS/0130_2023/155mm_per_sec/20mm_41W_001.raw\n",
      "/Users/chiaentsai/Box/MURI-SARA/Thermoreflectance/Joanne/CHESS/0130_2023/155mm_per_sec/20mm_41W_002.raw\n",
      "/Users/chiaentsai/Box/MURI-SARA/Thermoreflectance/Joanne/CHESS/0130_2023/155mm_per_sec/20mm_41W_003.raw\n",
      "/Users/chiaentsai/Box/MURI-SARA/Thermoreflectance/Joanne/CHESS/0130_2023/155mm_per_sec/20mm_41W_004.raw\n",
      "/Users/chiaentsai/Box/MURI-SARA/Thermoreflectance/Joanne/CHESS/0130_2023/155mm_per_sec/20mm_41W_005.raw\n",
      "/Users/chiaentsai/Box/MURI-SARA/Thermoreflectance/Joanne/CHESS/0130_2023/155mm_per_sec/20mm_41W_006.raw\n",
      "/Users/chiaentsai/Box/MURI-SARA/Thermoreflectance/Joanne/CHESS/0130_2023/155mm_per_sec/20mm_41W_007.raw\n",
      "/Users/chiaentsai/Box/MURI-SARA/Thermoreflectance/Joanne/CHESS/0130_2023/155mm_per_sec/20mm_41W_008.raw\n",
      "/Users/chiaentsai/Box/MURI-SARA/Thermoreflectance/Joanne/CHESS/0130_2023/155mm_per_sec/20mm_41W_009.raw\n",
      "/Users/chiaentsai/Box/MURI-SARA/Thermoreflectance/Joanne/CHESS/0130_2023/155mm_per_sec/20mm_41W_010.raw\n",
      "/Users/chiaentsai/Box/MURI-SARA/Thermoreflectance/Joanne/CHESS/0130_2023/155mm_per_sec/20mm_41W_011.raw\n",
      "/Users/chiaentsai/Box/MURI-SARA/Thermoreflectance/Joanne/CHESS/0130_2023/155mm_per_sec/20mm_41W_012.raw\n",
      "/Users/chiaentsai/Box/MURI-SARA/Thermoreflectance/Joanne/CHESS/0130_2023/155mm_per_sec/20mm_41W_013.raw\n",
      "/Users/chiaentsai/Box/MURI-SARA/Thermoreflectance/Joanne/CHESS/0130_2023/155mm_per_sec/20mm_41W_014.raw\n",
      "/Users/chiaentsai/Box/MURI-SARA/Thermoreflectance/Joanne/CHESS/0130_2023/155mm_per_sec/20mm_41W_015.raw\n",
      "/Users/chiaentsai/Box/MURI-SARA/Thermoreflectance/Joanne/CHESS/0130_2023/155mm_per_sec/20mm_41W_016.raw\n",
      "/Users/chiaentsai/Box/MURI-SARA/Thermoreflectance/Joanne/CHESS/0130_2023/155mm_per_sec/20mm_41W_017.raw\n",
      "/Users/chiaentsai/Box/MURI-SARA/Thermoreflectance/Joanne/CHESS/0130_2023/155mm_per_sec/20mm_41W_018.raw\n",
      "/Users/chiaentsai/Box/MURI-SARA/Thermoreflectance/Joanne/CHESS/0130_2023/155mm_per_sec/20mm_41W_019.raw\n",
      "/Users/chiaentsai/Box/MURI-SARA/Thermoreflectance/Joanne/CHESS/0130_2023/155mm_per_sec/20mm_41W_020.raw\n",
      "/Users/chiaentsai/Box/MURI-SARA/Thermoreflectance/Joanne/CHESS/0130_2023/155mm_per_sec/20mm_41W_021.raw\n",
      "/Users/chiaentsai/Box/MURI-SARA/Thermoreflectance/Joanne/CHESS/0130_2023/155mm_per_sec/20mm_41W_022.raw\n",
      "/Users/chiaentsai/Box/MURI-SARA/Thermoreflectance/Joanne/CHESS/0130_2023/155mm_per_sec/20mm_41W_023.raw\n",
      "/Users/chiaentsai/Box/MURI-SARA/Thermoreflectance/Joanne/CHESS/0130_2023/155mm_per_sec/20mm_41W_024.raw\n",
      "/Users/chiaentsai/Box/MURI-SARA/Thermoreflectance/Joanne/CHESS/0130_2023/155mm_per_sec/20mm_41W_025.raw\n",
      "/Users/chiaentsai/Box/MURI-SARA/Thermoreflectance/Joanne/CHESS/0130_2023/155mm_per_sec/20mm_41W_026.raw\n",
      "/Users/chiaentsai/Box/MURI-SARA/Thermoreflectance/Joanne/CHESS/0130_2023/155mm_per_sec/20mm_41W_027.raw\n",
      "/Users/chiaentsai/Box/MURI-SARA/Thermoreflectance/Joanne/CHESS/0130_2023/155mm_per_sec/20mm_41W_028.raw\n"
     ]
    },
    {
     "name": "stderr",
     "output_type": "stream",
     "text": [
      "100%|█████████████████████████████████████████| 480/480 [00:08<00:00, 58.49it/s]\n"
     ]
    },
    {
     "name": "stdout",
     "output_type": "stream",
     "text": [
      "/Users/chiaentsai/Box/MURI-SARA/Thermoreflectance/Joanne/CHESS/0130_2023/155mm_per_sec/20mm_41W_029.raw\n"
     ]
    },
    {
     "name": "stderr",
     "output_type": "stream",
     "text": [
      "\r",
      "  0%|                                                   | 0/480 [00:00<?, ?it/s]"
     ]
    },
    {
     "name": "stdout",
     "output_type": "stream",
     "text": [
      "/Users/chiaentsai/Box/MURI-SARA/Thermoreflectance/Joanne/CHESS/0130_2023/155mm_per_sec/20mm_43W_000.raw\n"
     ]
    },
    {
     "name": "stderr",
     "output_type": "stream",
     "text": [
      "\r",
      " 81%|███████████████████████████████▊       | 391/480 [00:00<00:00, 2255.99it/s]"
     ]
    },
    {
     "name": "stdout",
     "output_type": "stream",
     "text": [
      "/Users/chiaentsai/Box/MURI-SARA/Thermoreflectance/Joanne/CHESS/0130_2023/155mm_per_sec/20mm_43W_001.raw\n",
      "/Users/chiaentsai/Box/MURI-SARA/Thermoreflectance/Joanne/CHESS/0130_2023/155mm_per_sec/20mm_43W_002.raw\n",
      "/Users/chiaentsai/Box/MURI-SARA/Thermoreflectance/Joanne/CHESS/0130_2023/155mm_per_sec/20mm_43W_003.raw\n",
      "/Users/chiaentsai/Box/MURI-SARA/Thermoreflectance/Joanne/CHESS/0130_2023/155mm_per_sec/20mm_43W_004.raw\n",
      "/Users/chiaentsai/Box/MURI-SARA/Thermoreflectance/Joanne/CHESS/0130_2023/155mm_per_sec/20mm_43W_005.raw\n",
      "/Users/chiaentsai/Box/MURI-SARA/Thermoreflectance/Joanne/CHESS/0130_2023/155mm_per_sec/20mm_43W_006.raw\n",
      "/Users/chiaentsai/Box/MURI-SARA/Thermoreflectance/Joanne/CHESS/0130_2023/155mm_per_sec/20mm_43W_007.raw\n",
      "/Users/chiaentsai/Box/MURI-SARA/Thermoreflectance/Joanne/CHESS/0130_2023/155mm_per_sec/20mm_43W_008.raw\n",
      "/Users/chiaentsai/Box/MURI-SARA/Thermoreflectance/Joanne/CHESS/0130_2023/155mm_per_sec/20mm_43W_009.raw\n",
      "/Users/chiaentsai/Box/MURI-SARA/Thermoreflectance/Joanne/CHESS/0130_2023/155mm_per_sec/20mm_43W_010.raw\n",
      "/Users/chiaentsai/Box/MURI-SARA/Thermoreflectance/Joanne/CHESS/0130_2023/155mm_per_sec/20mm_43W_011.raw\n",
      "/Users/chiaentsai/Box/MURI-SARA/Thermoreflectance/Joanne/CHESS/0130_2023/155mm_per_sec/20mm_43W_012.raw\n",
      "/Users/chiaentsai/Box/MURI-SARA/Thermoreflectance/Joanne/CHESS/0130_2023/155mm_per_sec/20mm_43W_013.raw\n",
      "/Users/chiaentsai/Box/MURI-SARA/Thermoreflectance/Joanne/CHESS/0130_2023/155mm_per_sec/20mm_43W_014.raw\n",
      "/Users/chiaentsai/Box/MURI-SARA/Thermoreflectance/Joanne/CHESS/0130_2023/155mm_per_sec/20mm_43W_015.raw\n",
      "/Users/chiaentsai/Box/MURI-SARA/Thermoreflectance/Joanne/CHESS/0130_2023/155mm_per_sec/20mm_43W_016.raw\n",
      "/Users/chiaentsai/Box/MURI-SARA/Thermoreflectance/Joanne/CHESS/0130_2023/155mm_per_sec/20mm_43W_017.raw\n",
      "/Users/chiaentsai/Box/MURI-SARA/Thermoreflectance/Joanne/CHESS/0130_2023/155mm_per_sec/20mm_43W_018.raw\n",
      "/Users/chiaentsai/Box/MURI-SARA/Thermoreflectance/Joanne/CHESS/0130_2023/155mm_per_sec/20mm_43W_019.raw\n",
      "/Users/chiaentsai/Box/MURI-SARA/Thermoreflectance/Joanne/CHESS/0130_2023/155mm_per_sec/20mm_43W_020.raw\n",
      "/Users/chiaentsai/Box/MURI-SARA/Thermoreflectance/Joanne/CHESS/0130_2023/155mm_per_sec/20mm_43W_021.raw\n",
      "/Users/chiaentsai/Box/MURI-SARA/Thermoreflectance/Joanne/CHESS/0130_2023/155mm_per_sec/20mm_43W_022.raw\n",
      "/Users/chiaentsai/Box/MURI-SARA/Thermoreflectance/Joanne/CHESS/0130_2023/155mm_per_sec/20mm_43W_023.raw\n",
      "/Users/chiaentsai/Box/MURI-SARA/Thermoreflectance/Joanne/CHESS/0130_2023/155mm_per_sec/20mm_43W_024.raw\n",
      "/Users/chiaentsai/Box/MURI-SARA/Thermoreflectance/Joanne/CHESS/0130_2023/155mm_per_sec/20mm_43W_025.raw\n",
      "/Users/chiaentsai/Box/MURI-SARA/Thermoreflectance/Joanne/CHESS/0130_2023/155mm_per_sec/20mm_43W_026.raw\n",
      "/Users/chiaentsai/Box/MURI-SARA/Thermoreflectance/Joanne/CHESS/0130_2023/155mm_per_sec/20mm_43W_027.raw\n",
      "/Users/chiaentsai/Box/MURI-SARA/Thermoreflectance/Joanne/CHESS/0130_2023/155mm_per_sec/20mm_43W_028.raw\n"
     ]
    },
    {
     "name": "stderr",
     "output_type": "stream",
     "text": [
      "100%|█████████████████████████████████████████| 480/480 [00:08<00:00, 59.72it/s]\n"
     ]
    },
    {
     "name": "stdout",
     "output_type": "stream",
     "text": [
      "/Users/chiaentsai/Box/MURI-SARA/Thermoreflectance/Joanne/CHESS/0130_2023/155mm_per_sec/20mm_43W_029.raw\n"
     ]
    },
    {
     "name": "stderr",
     "output_type": "stream",
     "text": [
      "\r",
      "  0%|                                                   | 0/480 [00:00<?, ?it/s]"
     ]
    },
    {
     "name": "stdout",
     "output_type": "stream",
     "text": [
      "/Users/chiaentsai/Box/MURI-SARA/Thermoreflectance/Joanne/CHESS/0130_2023/155mm_per_sec/20mm_45W_000.raw\n"
     ]
    },
    {
     "name": "stderr",
     "output_type": "stream",
     "text": [
      "\r",
      " 88%|██████████████████████████████████▎    | 422/480 [00:00<00:00, 2896.00it/s]"
     ]
    },
    {
     "name": "stdout",
     "output_type": "stream",
     "text": [
      "/Users/chiaentsai/Box/MURI-SARA/Thermoreflectance/Joanne/CHESS/0130_2023/155mm_per_sec/20mm_45W_001.raw\n",
      "/Users/chiaentsai/Box/MURI-SARA/Thermoreflectance/Joanne/CHESS/0130_2023/155mm_per_sec/20mm_45W_002.raw\n",
      "/Users/chiaentsai/Box/MURI-SARA/Thermoreflectance/Joanne/CHESS/0130_2023/155mm_per_sec/20mm_45W_003.raw\n",
      "/Users/chiaentsai/Box/MURI-SARA/Thermoreflectance/Joanne/CHESS/0130_2023/155mm_per_sec/20mm_45W_004.raw\n",
      "/Users/chiaentsai/Box/MURI-SARA/Thermoreflectance/Joanne/CHESS/0130_2023/155mm_per_sec/20mm_45W_005.raw\n",
      "/Users/chiaentsai/Box/MURI-SARA/Thermoreflectance/Joanne/CHESS/0130_2023/155mm_per_sec/20mm_45W_006.raw\n",
      "/Users/chiaentsai/Box/MURI-SARA/Thermoreflectance/Joanne/CHESS/0130_2023/155mm_per_sec/20mm_45W_007.raw\n",
      "/Users/chiaentsai/Box/MURI-SARA/Thermoreflectance/Joanne/CHESS/0130_2023/155mm_per_sec/20mm_45W_008.raw\n",
      "/Users/chiaentsai/Box/MURI-SARA/Thermoreflectance/Joanne/CHESS/0130_2023/155mm_per_sec/20mm_45W_009.raw\n",
      "/Users/chiaentsai/Box/MURI-SARA/Thermoreflectance/Joanne/CHESS/0130_2023/155mm_per_sec/20mm_45W_010.raw\n",
      "/Users/chiaentsai/Box/MURI-SARA/Thermoreflectance/Joanne/CHESS/0130_2023/155mm_per_sec/20mm_45W_011.raw\n",
      "/Users/chiaentsai/Box/MURI-SARA/Thermoreflectance/Joanne/CHESS/0130_2023/155mm_per_sec/20mm_45W_012.raw\n",
      "/Users/chiaentsai/Box/MURI-SARA/Thermoreflectance/Joanne/CHESS/0130_2023/155mm_per_sec/20mm_45W_013.raw\n",
      "/Users/chiaentsai/Box/MURI-SARA/Thermoreflectance/Joanne/CHESS/0130_2023/155mm_per_sec/20mm_45W_014.raw\n",
      "/Users/chiaentsai/Box/MURI-SARA/Thermoreflectance/Joanne/CHESS/0130_2023/155mm_per_sec/20mm_45W_015.raw\n",
      "/Users/chiaentsai/Box/MURI-SARA/Thermoreflectance/Joanne/CHESS/0130_2023/155mm_per_sec/20mm_45W_016.raw\n",
      "/Users/chiaentsai/Box/MURI-SARA/Thermoreflectance/Joanne/CHESS/0130_2023/155mm_per_sec/20mm_45W_017.raw\n",
      "/Users/chiaentsai/Box/MURI-SARA/Thermoreflectance/Joanne/CHESS/0130_2023/155mm_per_sec/20mm_45W_018.raw\n",
      "/Users/chiaentsai/Box/MURI-SARA/Thermoreflectance/Joanne/CHESS/0130_2023/155mm_per_sec/20mm_45W_019.raw\n",
      "/Users/chiaentsai/Box/MURI-SARA/Thermoreflectance/Joanne/CHESS/0130_2023/155mm_per_sec/20mm_45W_020.raw\n",
      "/Users/chiaentsai/Box/MURI-SARA/Thermoreflectance/Joanne/CHESS/0130_2023/155mm_per_sec/20mm_45W_021.raw\n",
      "/Users/chiaentsai/Box/MURI-SARA/Thermoreflectance/Joanne/CHESS/0130_2023/155mm_per_sec/20mm_45W_022.raw\n",
      "/Users/chiaentsai/Box/MURI-SARA/Thermoreflectance/Joanne/CHESS/0130_2023/155mm_per_sec/20mm_45W_023.raw\n",
      "/Users/chiaentsai/Box/MURI-SARA/Thermoreflectance/Joanne/CHESS/0130_2023/155mm_per_sec/20mm_45W_024.raw\n",
      "/Users/chiaentsai/Box/MURI-SARA/Thermoreflectance/Joanne/CHESS/0130_2023/155mm_per_sec/20mm_45W_025.raw\n",
      "/Users/chiaentsai/Box/MURI-SARA/Thermoreflectance/Joanne/CHESS/0130_2023/155mm_per_sec/20mm_45W_026.raw\n",
      "/Users/chiaentsai/Box/MURI-SARA/Thermoreflectance/Joanne/CHESS/0130_2023/155mm_per_sec/20mm_45W_027.raw\n",
      "/Users/chiaentsai/Box/MURI-SARA/Thermoreflectance/Joanne/CHESS/0130_2023/155mm_per_sec/20mm_45W_028.raw\n"
     ]
    },
    {
     "name": "stderr",
     "output_type": "stream",
     "text": [
      "100%|█████████████████████████████████████████| 480/480 [00:08<00:00, 56.19it/s]\n"
     ]
    },
    {
     "name": "stdout",
     "output_type": "stream",
     "text": [
      "/Users/chiaentsai/Box/MURI-SARA/Thermoreflectance/Joanne/CHESS/0130_2023/155mm_per_sec/20mm_45W_029.raw\n"
     ]
    },
    {
     "name": "stderr",
     "output_type": "stream",
     "text": [
      "\r",
      "  0%|                                                   | 0/480 [00:00<?, ?it/s]"
     ]
    },
    {
     "name": "stdout",
     "output_type": "stream",
     "text": [
      "/Users/chiaentsai/Box/MURI-SARA/Thermoreflectance/Joanne/CHESS/0130_2023/155mm_per_sec/20mm_47W_000.raw\n"
     ]
    },
    {
     "name": "stderr",
     "output_type": "stream",
     "text": [
      "\r",
      " 94%|████████████████████████████████████▋  | 452/480 [00:00<00:00, 3009.02it/s]"
     ]
    },
    {
     "name": "stdout",
     "output_type": "stream",
     "text": [
      "/Users/chiaentsai/Box/MURI-SARA/Thermoreflectance/Joanne/CHESS/0130_2023/155mm_per_sec/20mm_47W_001.raw\n",
      "/Users/chiaentsai/Box/MURI-SARA/Thermoreflectance/Joanne/CHESS/0130_2023/155mm_per_sec/20mm_47W_002.raw\n",
      "/Users/chiaentsai/Box/MURI-SARA/Thermoreflectance/Joanne/CHESS/0130_2023/155mm_per_sec/20mm_47W_003.raw\n",
      "/Users/chiaentsai/Box/MURI-SARA/Thermoreflectance/Joanne/CHESS/0130_2023/155mm_per_sec/20mm_47W_004.raw\n",
      "/Users/chiaentsai/Box/MURI-SARA/Thermoreflectance/Joanne/CHESS/0130_2023/155mm_per_sec/20mm_47W_005.raw\n",
      "/Users/chiaentsai/Box/MURI-SARA/Thermoreflectance/Joanne/CHESS/0130_2023/155mm_per_sec/20mm_47W_006.raw\n",
      "/Users/chiaentsai/Box/MURI-SARA/Thermoreflectance/Joanne/CHESS/0130_2023/155mm_per_sec/20mm_47W_007.raw\n",
      "/Users/chiaentsai/Box/MURI-SARA/Thermoreflectance/Joanne/CHESS/0130_2023/155mm_per_sec/20mm_47W_008.raw\n",
      "/Users/chiaentsai/Box/MURI-SARA/Thermoreflectance/Joanne/CHESS/0130_2023/155mm_per_sec/20mm_47W_009.raw\n",
      "/Users/chiaentsai/Box/MURI-SARA/Thermoreflectance/Joanne/CHESS/0130_2023/155mm_per_sec/20mm_47W_010.raw\n",
      "/Users/chiaentsai/Box/MURI-SARA/Thermoreflectance/Joanne/CHESS/0130_2023/155mm_per_sec/20mm_47W_011.raw\n",
      "/Users/chiaentsai/Box/MURI-SARA/Thermoreflectance/Joanne/CHESS/0130_2023/155mm_per_sec/20mm_47W_012.raw\n",
      "/Users/chiaentsai/Box/MURI-SARA/Thermoreflectance/Joanne/CHESS/0130_2023/155mm_per_sec/20mm_47W_013.raw\n",
      "/Users/chiaentsai/Box/MURI-SARA/Thermoreflectance/Joanne/CHESS/0130_2023/155mm_per_sec/20mm_47W_014.raw\n",
      "/Users/chiaentsai/Box/MURI-SARA/Thermoreflectance/Joanne/CHESS/0130_2023/155mm_per_sec/20mm_47W_015.raw\n",
      "/Users/chiaentsai/Box/MURI-SARA/Thermoreflectance/Joanne/CHESS/0130_2023/155mm_per_sec/20mm_47W_016.raw\n",
      "/Users/chiaentsai/Box/MURI-SARA/Thermoreflectance/Joanne/CHESS/0130_2023/155mm_per_sec/20mm_47W_017.raw\n",
      "/Users/chiaentsai/Box/MURI-SARA/Thermoreflectance/Joanne/CHESS/0130_2023/155mm_per_sec/20mm_47W_018.raw\n",
      "/Users/chiaentsai/Box/MURI-SARA/Thermoreflectance/Joanne/CHESS/0130_2023/155mm_per_sec/20mm_47W_019.raw\n",
      "/Users/chiaentsai/Box/MURI-SARA/Thermoreflectance/Joanne/CHESS/0130_2023/155mm_per_sec/20mm_47W_020.raw\n",
      "/Users/chiaentsai/Box/MURI-SARA/Thermoreflectance/Joanne/CHESS/0130_2023/155mm_per_sec/20mm_47W_021.raw\n",
      "/Users/chiaentsai/Box/MURI-SARA/Thermoreflectance/Joanne/CHESS/0130_2023/155mm_per_sec/20mm_47W_022.raw\n",
      "/Users/chiaentsai/Box/MURI-SARA/Thermoreflectance/Joanne/CHESS/0130_2023/155mm_per_sec/20mm_47W_023.raw\n",
      "/Users/chiaentsai/Box/MURI-SARA/Thermoreflectance/Joanne/CHESS/0130_2023/155mm_per_sec/20mm_47W_024.raw\n",
      "/Users/chiaentsai/Box/MURI-SARA/Thermoreflectance/Joanne/CHESS/0130_2023/155mm_per_sec/20mm_47W_025.raw\n",
      "/Users/chiaentsai/Box/MURI-SARA/Thermoreflectance/Joanne/CHESS/0130_2023/155mm_per_sec/20mm_47W_026.raw\n",
      "/Users/chiaentsai/Box/MURI-SARA/Thermoreflectance/Joanne/CHESS/0130_2023/155mm_per_sec/20mm_47W_027.raw\n",
      "/Users/chiaentsai/Box/MURI-SARA/Thermoreflectance/Joanne/CHESS/0130_2023/155mm_per_sec/20mm_47W_028.raw\n"
     ]
    },
    {
     "name": "stderr",
     "output_type": "stream",
     "text": [
      "\r",
      "100%|█████████████████████████████████████████| 480/480 [00:07<00:00, 60.39it/s]"
     ]
    },
    {
     "name": "stdout",
     "output_type": "stream",
     "text": [
      "/Users/chiaentsai/Box/MURI-SARA/Thermoreflectance/Joanne/CHESS/0130_2023/155mm_per_sec/20mm_47W_029.raw\n"
     ]
    },
    {
     "name": "stderr",
     "output_type": "stream",
     "text": [
      "\n",
      " 34%|█████████████                          | 151/450 [00:00<00:00, 1310.35it/s]"
     ]
    },
    {
     "name": "stdout",
     "output_type": "stream",
     "text": [
      "/Users/chiaentsai/Box/MURI-SARA/Thermoreflectance/Joanne/CHESS/0130_2023/190mm_per_sec/-22mm_29W_000.raw\n",
      "/Users/chiaentsai/Box/MURI-SARA/Thermoreflectance/Joanne/CHESS/0130_2023/190mm_per_sec/-22mm_29W_001.raw\n",
      "/Users/chiaentsai/Box/MURI-SARA/Thermoreflectance/Joanne/CHESS/0130_2023/190mm_per_sec/-22mm_29W_002.raw\n",
      "/Users/chiaentsai/Box/MURI-SARA/Thermoreflectance/Joanne/CHESS/0130_2023/190mm_per_sec/-22mm_29W_003.raw\n",
      "/Users/chiaentsai/Box/MURI-SARA/Thermoreflectance/Joanne/CHESS/0130_2023/190mm_per_sec/-22mm_29W_004.raw\n",
      "/Users/chiaentsai/Box/MURI-SARA/Thermoreflectance/Joanne/CHESS/0130_2023/190mm_per_sec/-22mm_29W_005.raw\n",
      "/Users/chiaentsai/Box/MURI-SARA/Thermoreflectance/Joanne/CHESS/0130_2023/190mm_per_sec/-22mm_29W_006.raw\n",
      "/Users/chiaentsai/Box/MURI-SARA/Thermoreflectance/Joanne/CHESS/0130_2023/190mm_per_sec/-22mm_29W_007.raw\n",
      "/Users/chiaentsai/Box/MURI-SARA/Thermoreflectance/Joanne/CHESS/0130_2023/190mm_per_sec/-22mm_29W_008.raw\n",
      "/Users/chiaentsai/Box/MURI-SARA/Thermoreflectance/Joanne/CHESS/0130_2023/190mm_per_sec/-22mm_29W_009.raw\n",
      "/Users/chiaentsai/Box/MURI-SARA/Thermoreflectance/Joanne/CHESS/0130_2023/190mm_per_sec/-22mm_29W_010.raw\n",
      "/Users/chiaentsai/Box/MURI-SARA/Thermoreflectance/Joanne/CHESS/0130_2023/190mm_per_sec/-22mm_29W_011.raw\n",
      "/Users/chiaentsai/Box/MURI-SARA/Thermoreflectance/Joanne/CHESS/0130_2023/190mm_per_sec/-22mm_29W_012.raw\n",
      "/Users/chiaentsai/Box/MURI-SARA/Thermoreflectance/Joanne/CHESS/0130_2023/190mm_per_sec/-22mm_29W_013.raw\n",
      "/Users/chiaentsai/Box/MURI-SARA/Thermoreflectance/Joanne/CHESS/0130_2023/190mm_per_sec/-22mm_29W_014.raw\n",
      "/Users/chiaentsai/Box/MURI-SARA/Thermoreflectance/Joanne/CHESS/0130_2023/190mm_per_sec/-22mm_29W_015.raw\n",
      "/Users/chiaentsai/Box/MURI-SARA/Thermoreflectance/Joanne/CHESS/0130_2023/190mm_per_sec/-22mm_29W_016.raw\n",
      "/Users/chiaentsai/Box/MURI-SARA/Thermoreflectance/Joanne/CHESS/0130_2023/190mm_per_sec/-22mm_29W_017.raw\n",
      "/Users/chiaentsai/Box/MURI-SARA/Thermoreflectance/Joanne/CHESS/0130_2023/190mm_per_sec/-22mm_29W_018.raw\n",
      "/Users/chiaentsai/Box/MURI-SARA/Thermoreflectance/Joanne/CHESS/0130_2023/190mm_per_sec/-22mm_29W_019.raw\n",
      "/Users/chiaentsai/Box/MURI-SARA/Thermoreflectance/Joanne/CHESS/0130_2023/190mm_per_sec/-22mm_29W_020.raw\n",
      "/Users/chiaentsai/Box/MURI-SARA/Thermoreflectance/Joanne/CHESS/0130_2023/190mm_per_sec/-22mm_29W_021.raw\n",
      "/Users/chiaentsai/Box/MURI-SARA/Thermoreflectance/Joanne/CHESS/0130_2023/190mm_per_sec/-22mm_29W_022.raw\n",
      "/Users/chiaentsai/Box/MURI-SARA/Thermoreflectance/Joanne/CHESS/0130_2023/190mm_per_sec/-22mm_29W_023.raw\n",
      "/Users/chiaentsai/Box/MURI-SARA/Thermoreflectance/Joanne/CHESS/0130_2023/190mm_per_sec/-22mm_29W_024.raw\n"
     ]
    },
    {
     "name": "stderr",
     "output_type": "stream",
     "text": [
      " 39%|███████████████▉                         | 175/450 [00:11<00:24, 11.28it/s]"
     ]
    },
    {
     "name": "stdout",
     "output_type": "stream",
     "text": [
      "/Users/chiaentsai/Box/MURI-SARA/Thermoreflectance/Joanne/CHESS/0130_2023/190mm_per_sec/-22mm_29W_025.raw\n"
     ]
    },
    {
     "name": "stderr",
     "output_type": "stream",
     "text": [
      "\r",
      " 39%|████████████████                         | 176/450 [00:12<00:26, 10.17it/s]"
     ]
    },
    {
     "name": "stdout",
     "output_type": "stream",
     "text": [
      "/Users/chiaentsai/Box/MURI-SARA/Thermoreflectance/Joanne/CHESS/0130_2023/190mm_per_sec/-22mm_29W_026.raw\n",
      "/Users/chiaentsai/Box/MURI-SARA/Thermoreflectance/Joanne/CHESS/0130_2023/190mm_per_sec/-22mm_29W_027.raw\n",
      "/Users/chiaentsai/Box/MURI-SARA/Thermoreflectance/Joanne/CHESS/0130_2023/190mm_per_sec/-22mm_29W_028.raw\n",
      "/Users/chiaentsai/Box/MURI-SARA/Thermoreflectance/Joanne/CHESS/0130_2023/190mm_per_sec/-22mm_29W_029.raw\n"
     ]
    },
    {
     "name": "stderr",
     "output_type": "stream",
     "text": [
      "100%|█████████████████████████████████████████| 450/450 [00:15<00:00, 29.52it/s]\n",
      " 40%|███████████████▊                       | 182/450 [00:00<00:00, 1332.80it/s]"
     ]
    },
    {
     "name": "stdout",
     "output_type": "stream",
     "text": [
      "/Users/chiaentsai/Box/MURI-SARA/Thermoreflectance/Joanne/CHESS/0130_2023/190mm_per_sec/-22mm_31W_000.raw\n",
      "/Users/chiaentsai/Box/MURI-SARA/Thermoreflectance/Joanne/CHESS/0130_2023/190mm_per_sec/-22mm_31W_001.raw\n",
      "/Users/chiaentsai/Box/MURI-SARA/Thermoreflectance/Joanne/CHESS/0130_2023/190mm_per_sec/-22mm_31W_002.raw\n",
      "/Users/chiaentsai/Box/MURI-SARA/Thermoreflectance/Joanne/CHESS/0130_2023/190mm_per_sec/-22mm_31W_003.raw\n",
      "/Users/chiaentsai/Box/MURI-SARA/Thermoreflectance/Joanne/CHESS/0130_2023/190mm_per_sec/-22mm_31W_004.raw\n",
      "/Users/chiaentsai/Box/MURI-SARA/Thermoreflectance/Joanne/CHESS/0130_2023/190mm_per_sec/-22mm_31W_005.raw\n",
      "/Users/chiaentsai/Box/MURI-SARA/Thermoreflectance/Joanne/CHESS/0130_2023/190mm_per_sec/-22mm_31W_006.raw\n",
      "/Users/chiaentsai/Box/MURI-SARA/Thermoreflectance/Joanne/CHESS/0130_2023/190mm_per_sec/-22mm_31W_007.raw\n",
      "/Users/chiaentsai/Box/MURI-SARA/Thermoreflectance/Joanne/CHESS/0130_2023/190mm_per_sec/-22mm_31W_008.raw\n",
      "/Users/chiaentsai/Box/MURI-SARA/Thermoreflectance/Joanne/CHESS/0130_2023/190mm_per_sec/-22mm_31W_009.raw\n",
      "/Users/chiaentsai/Box/MURI-SARA/Thermoreflectance/Joanne/CHESS/0130_2023/190mm_per_sec/-22mm_31W_010.raw\n",
      "/Users/chiaentsai/Box/MURI-SARA/Thermoreflectance/Joanne/CHESS/0130_2023/190mm_per_sec/-22mm_31W_011.raw\n",
      "/Users/chiaentsai/Box/MURI-SARA/Thermoreflectance/Joanne/CHESS/0130_2023/190mm_per_sec/-22mm_31W_012.raw\n",
      "/Users/chiaentsai/Box/MURI-SARA/Thermoreflectance/Joanne/CHESS/0130_2023/190mm_per_sec/-22mm_31W_013.raw\n",
      "/Users/chiaentsai/Box/MURI-SARA/Thermoreflectance/Joanne/CHESS/0130_2023/190mm_per_sec/-22mm_31W_014.raw\n",
      "/Users/chiaentsai/Box/MURI-SARA/Thermoreflectance/Joanne/CHESS/0130_2023/190mm_per_sec/-22mm_31W_015.raw\n",
      "/Users/chiaentsai/Box/MURI-SARA/Thermoreflectance/Joanne/CHESS/0130_2023/190mm_per_sec/-22mm_31W_016.raw\n",
      "/Users/chiaentsai/Box/MURI-SARA/Thermoreflectance/Joanne/CHESS/0130_2023/190mm_per_sec/-22mm_31W_017.raw\n",
      "/Users/chiaentsai/Box/MURI-SARA/Thermoreflectance/Joanne/CHESS/0130_2023/190mm_per_sec/-22mm_31W_018.raw\n",
      "/Users/chiaentsai/Box/MURI-SARA/Thermoreflectance/Joanne/CHESS/0130_2023/190mm_per_sec/-22mm_31W_019.raw\n",
      "/Users/chiaentsai/Box/MURI-SARA/Thermoreflectance/Joanne/CHESS/0130_2023/190mm_per_sec/-22mm_31W_020.raw\n",
      "/Users/chiaentsai/Box/MURI-SARA/Thermoreflectance/Joanne/CHESS/0130_2023/190mm_per_sec/-22mm_31W_021.raw\n",
      "/Users/chiaentsai/Box/MURI-SARA/Thermoreflectance/Joanne/CHESS/0130_2023/190mm_per_sec/-22mm_31W_022.raw\n",
      "/Users/chiaentsai/Box/MURI-SARA/Thermoreflectance/Joanne/CHESS/0130_2023/190mm_per_sec/-22mm_31W_023.raw\n",
      "/Users/chiaentsai/Box/MURI-SARA/Thermoreflectance/Joanne/CHESS/0130_2023/190mm_per_sec/-22mm_31W_024.raw\n",
      "/Users/chiaentsai/Box/MURI-SARA/Thermoreflectance/Joanne/CHESS/0130_2023/190mm_per_sec/-22mm_31W_025.raw\n",
      "/Users/chiaentsai/Box/MURI-SARA/Thermoreflectance/Joanne/CHESS/0130_2023/190mm_per_sec/-22mm_31W_026.raw\n",
      "/Users/chiaentsai/Box/MURI-SARA/Thermoreflectance/Joanne/CHESS/0130_2023/190mm_per_sec/-22mm_31W_027.raw\n",
      "/Users/chiaentsai/Box/MURI-SARA/Thermoreflectance/Joanne/CHESS/0130_2023/190mm_per_sec/-22mm_31W_028.raw\n",
      "/Users/chiaentsai/Box/MURI-SARA/Thermoreflectance/Joanne/CHESS/0130_2023/190mm_per_sec/-22mm_31W_029.raw\n"
     ]
    },
    {
     "name": "stderr",
     "output_type": "stream",
     "text": [
      "100%|█████████████████████████████████████████| 450/450 [00:11<00:00, 39.41it/s]\n",
      " 47%|██████████████████▎                    | 212/450 [00:00<00:00, 1419.87it/s]"
     ]
    },
    {
     "name": "stdout",
     "output_type": "stream",
     "text": [
      "/Users/chiaentsai/Box/MURI-SARA/Thermoreflectance/Joanne/CHESS/0130_2023/190mm_per_sec/-22mm_33W_000.raw\n",
      "/Users/chiaentsai/Box/MURI-SARA/Thermoreflectance/Joanne/CHESS/0130_2023/190mm_per_sec/-22mm_33W_001.raw\n",
      "/Users/chiaentsai/Box/MURI-SARA/Thermoreflectance/Joanne/CHESS/0130_2023/190mm_per_sec/-22mm_33W_002.raw\n",
      "/Users/chiaentsai/Box/MURI-SARA/Thermoreflectance/Joanne/CHESS/0130_2023/190mm_per_sec/-22mm_33W_003.raw\n",
      "/Users/chiaentsai/Box/MURI-SARA/Thermoreflectance/Joanne/CHESS/0130_2023/190mm_per_sec/-22mm_33W_004.raw\n",
      "/Users/chiaentsai/Box/MURI-SARA/Thermoreflectance/Joanne/CHESS/0130_2023/190mm_per_sec/-22mm_33W_005.raw\n",
      "/Users/chiaentsai/Box/MURI-SARA/Thermoreflectance/Joanne/CHESS/0130_2023/190mm_per_sec/-22mm_33W_006.raw\n",
      "/Users/chiaentsai/Box/MURI-SARA/Thermoreflectance/Joanne/CHESS/0130_2023/190mm_per_sec/-22mm_33W_007.raw\n",
      "/Users/chiaentsai/Box/MURI-SARA/Thermoreflectance/Joanne/CHESS/0130_2023/190mm_per_sec/-22mm_33W_008.raw\n",
      "/Users/chiaentsai/Box/MURI-SARA/Thermoreflectance/Joanne/CHESS/0130_2023/190mm_per_sec/-22mm_33W_009.raw\n",
      "/Users/chiaentsai/Box/MURI-SARA/Thermoreflectance/Joanne/CHESS/0130_2023/190mm_per_sec/-22mm_33W_010.raw\n",
      "/Users/chiaentsai/Box/MURI-SARA/Thermoreflectance/Joanne/CHESS/0130_2023/190mm_per_sec/-22mm_33W_011.raw\n",
      "/Users/chiaentsai/Box/MURI-SARA/Thermoreflectance/Joanne/CHESS/0130_2023/190mm_per_sec/-22mm_33W_012.raw\n",
      "/Users/chiaentsai/Box/MURI-SARA/Thermoreflectance/Joanne/CHESS/0130_2023/190mm_per_sec/-22mm_33W_013.raw\n",
      "/Users/chiaentsai/Box/MURI-SARA/Thermoreflectance/Joanne/CHESS/0130_2023/190mm_per_sec/-22mm_33W_014.raw\n",
      "/Users/chiaentsai/Box/MURI-SARA/Thermoreflectance/Joanne/CHESS/0130_2023/190mm_per_sec/-22mm_33W_015.raw\n",
      "/Users/chiaentsai/Box/MURI-SARA/Thermoreflectance/Joanne/CHESS/0130_2023/190mm_per_sec/-22mm_33W_016.raw\n",
      "/Users/chiaentsai/Box/MURI-SARA/Thermoreflectance/Joanne/CHESS/0130_2023/190mm_per_sec/-22mm_33W_017.raw\n",
      "/Users/chiaentsai/Box/MURI-SARA/Thermoreflectance/Joanne/CHESS/0130_2023/190mm_per_sec/-22mm_33W_018.raw\n",
      "/Users/chiaentsai/Box/MURI-SARA/Thermoreflectance/Joanne/CHESS/0130_2023/190mm_per_sec/-22mm_33W_019.raw\n",
      "/Users/chiaentsai/Box/MURI-SARA/Thermoreflectance/Joanne/CHESS/0130_2023/190mm_per_sec/-22mm_33W_020.raw\n",
      "/Users/chiaentsai/Box/MURI-SARA/Thermoreflectance/Joanne/CHESS/0130_2023/190mm_per_sec/-22mm_33W_021.raw\n",
      "/Users/chiaentsai/Box/MURI-SARA/Thermoreflectance/Joanne/CHESS/0130_2023/190mm_per_sec/-22mm_33W_022.raw\n",
      "/Users/chiaentsai/Box/MURI-SARA/Thermoreflectance/Joanne/CHESS/0130_2023/190mm_per_sec/-22mm_33W_023.raw\n",
      "/Users/chiaentsai/Box/MURI-SARA/Thermoreflectance/Joanne/CHESS/0130_2023/190mm_per_sec/-22mm_33W_024.raw\n",
      "/Users/chiaentsai/Box/MURI-SARA/Thermoreflectance/Joanne/CHESS/0130_2023/190mm_per_sec/-22mm_33W_025.raw\n",
      "/Users/chiaentsai/Box/MURI-SARA/Thermoreflectance/Joanne/CHESS/0130_2023/190mm_per_sec/-22mm_33W_026.raw\n",
      "/Users/chiaentsai/Box/MURI-SARA/Thermoreflectance/Joanne/CHESS/0130_2023/190mm_per_sec/-22mm_33W_027.raw\n",
      "/Users/chiaentsai/Box/MURI-SARA/Thermoreflectance/Joanne/CHESS/0130_2023/190mm_per_sec/-22mm_33W_028.raw\n",
      "/Users/chiaentsai/Box/MURI-SARA/Thermoreflectance/Joanne/CHESS/0130_2023/190mm_per_sec/-22mm_33W_029.raw\n"
     ]
    },
    {
     "name": "stderr",
     "output_type": "stream",
     "text": [
      "100%|█████████████████████████████████████████| 450/450 [00:12<00:00, 34.62it/s]\n",
      " 54%|████████████████████▉                  | 241/450 [00:00<00:00, 1587.38it/s]"
     ]
    },
    {
     "name": "stdout",
     "output_type": "stream",
     "text": [
      "/Users/chiaentsai/Box/MURI-SARA/Thermoreflectance/Joanne/CHESS/0130_2023/190mm_per_sec/-22mm_35W_000.raw\n",
      "/Users/chiaentsai/Box/MURI-SARA/Thermoreflectance/Joanne/CHESS/0130_2023/190mm_per_sec/-22mm_35W_001.raw\n",
      "/Users/chiaentsai/Box/MURI-SARA/Thermoreflectance/Joanne/CHESS/0130_2023/190mm_per_sec/-22mm_35W_002.raw\n",
      "/Users/chiaentsai/Box/MURI-SARA/Thermoreflectance/Joanne/CHESS/0130_2023/190mm_per_sec/-22mm_35W_003.raw\n",
      "/Users/chiaentsai/Box/MURI-SARA/Thermoreflectance/Joanne/CHESS/0130_2023/190mm_per_sec/-22mm_35W_004.raw\n",
      "/Users/chiaentsai/Box/MURI-SARA/Thermoreflectance/Joanne/CHESS/0130_2023/190mm_per_sec/-22mm_35W_005.raw\n",
      "/Users/chiaentsai/Box/MURI-SARA/Thermoreflectance/Joanne/CHESS/0130_2023/190mm_per_sec/-22mm_35W_006.raw\n",
      "/Users/chiaentsai/Box/MURI-SARA/Thermoreflectance/Joanne/CHESS/0130_2023/190mm_per_sec/-22mm_35W_007.raw\n",
      "/Users/chiaentsai/Box/MURI-SARA/Thermoreflectance/Joanne/CHESS/0130_2023/190mm_per_sec/-22mm_35W_008.raw\n",
      "/Users/chiaentsai/Box/MURI-SARA/Thermoreflectance/Joanne/CHESS/0130_2023/190mm_per_sec/-22mm_35W_009.raw\n",
      "/Users/chiaentsai/Box/MURI-SARA/Thermoreflectance/Joanne/CHESS/0130_2023/190mm_per_sec/-22mm_35W_010.raw\n",
      "/Users/chiaentsai/Box/MURI-SARA/Thermoreflectance/Joanne/CHESS/0130_2023/190mm_per_sec/-22mm_35W_011.raw\n",
      "/Users/chiaentsai/Box/MURI-SARA/Thermoreflectance/Joanne/CHESS/0130_2023/190mm_per_sec/-22mm_35W_012.raw\n",
      "/Users/chiaentsai/Box/MURI-SARA/Thermoreflectance/Joanne/CHESS/0130_2023/190mm_per_sec/-22mm_35W_013.raw\n",
      "/Users/chiaentsai/Box/MURI-SARA/Thermoreflectance/Joanne/CHESS/0130_2023/190mm_per_sec/-22mm_35W_014.raw\n",
      "/Users/chiaentsai/Box/MURI-SARA/Thermoreflectance/Joanne/CHESS/0130_2023/190mm_per_sec/-22mm_35W_015.raw\n",
      "/Users/chiaentsai/Box/MURI-SARA/Thermoreflectance/Joanne/CHESS/0130_2023/190mm_per_sec/-22mm_35W_016.raw\n",
      "/Users/chiaentsai/Box/MURI-SARA/Thermoreflectance/Joanne/CHESS/0130_2023/190mm_per_sec/-22mm_35W_017.raw\n",
      "/Users/chiaentsai/Box/MURI-SARA/Thermoreflectance/Joanne/CHESS/0130_2023/190mm_per_sec/-22mm_35W_018.raw\n",
      "/Users/chiaentsai/Box/MURI-SARA/Thermoreflectance/Joanne/CHESS/0130_2023/190mm_per_sec/-22mm_35W_019.raw\n",
      "/Users/chiaentsai/Box/MURI-SARA/Thermoreflectance/Joanne/CHESS/0130_2023/190mm_per_sec/-22mm_35W_020.raw\n",
      "/Users/chiaentsai/Box/MURI-SARA/Thermoreflectance/Joanne/CHESS/0130_2023/190mm_per_sec/-22mm_35W_021.raw\n",
      "/Users/chiaentsai/Box/MURI-SARA/Thermoreflectance/Joanne/CHESS/0130_2023/190mm_per_sec/-22mm_35W_022.raw\n",
      "/Users/chiaentsai/Box/MURI-SARA/Thermoreflectance/Joanne/CHESS/0130_2023/190mm_per_sec/-22mm_35W_023.raw\n"
     ]
    },
    {
     "name": "stderr",
     "output_type": "stream",
     "text": [
      "\r",
      " 54%|████████████████████▉                  | 241/450 [00:11<00:00, 1587.38it/s]"
     ]
    },
    {
     "name": "stdout",
     "output_type": "stream",
     "text": [
      "/Users/chiaentsai/Box/MURI-SARA/Thermoreflectance/Joanne/CHESS/0130_2023/190mm_per_sec/-22mm_35W_024.raw\n"
     ]
    },
    {
     "name": "stderr",
     "output_type": "stream",
     "text": [
      "\r",
      " 59%|████████████████████████▏                | 265/450 [00:11<00:11, 16.46it/s]"
     ]
    },
    {
     "name": "stdout",
     "output_type": "stream",
     "text": [
      "/Users/chiaentsai/Box/MURI-SARA/Thermoreflectance/Joanne/CHESS/0130_2023/190mm_per_sec/-22mm_35W_025.raw\n"
     ]
    },
    {
     "name": "stderr",
     "output_type": "stream",
     "text": [
      "\r",
      " 59%|████████████████████████▏                | 266/450 [00:11<00:11, 16.17it/s]"
     ]
    },
    {
     "name": "stdout",
     "output_type": "stream",
     "text": [
      "/Users/chiaentsai/Box/MURI-SARA/Thermoreflectance/Joanne/CHESS/0130_2023/190mm_per_sec/-22mm_35W_026.raw\n",
      "/Users/chiaentsai/Box/MURI-SARA/Thermoreflectance/Joanne/CHESS/0130_2023/190mm_per_sec/-22mm_35W_027.raw\n",
      "/Users/chiaentsai/Box/MURI-SARA/Thermoreflectance/Joanne/CHESS/0130_2023/190mm_per_sec/-22mm_35W_028.raw\n",
      "/Users/chiaentsai/Box/MURI-SARA/Thermoreflectance/Joanne/CHESS/0130_2023/190mm_per_sec/-22mm_35W_029.raw\n"
     ]
    },
    {
     "name": "stderr",
     "output_type": "stream",
     "text": [
      "100%|█████████████████████████████████████████| 450/450 [00:13<00:00, 32.83it/s]\n",
      " 60%|███████████████████████▍               | 271/450 [00:00<00:00, 2228.71it/s]"
     ]
    },
    {
     "name": "stdout",
     "output_type": "stream",
     "text": [
      "/Users/chiaentsai/Box/MURI-SARA/Thermoreflectance/Joanne/CHESS/0130_2023/190mm_per_sec/-22mm_37W_000.raw\n",
      "/Users/chiaentsai/Box/MURI-SARA/Thermoreflectance/Joanne/CHESS/0130_2023/190mm_per_sec/-22mm_37W_001.raw\n",
      "/Users/chiaentsai/Box/MURI-SARA/Thermoreflectance/Joanne/CHESS/0130_2023/190mm_per_sec/-22mm_37W_002.raw\n",
      "/Users/chiaentsai/Box/MURI-SARA/Thermoreflectance/Joanne/CHESS/0130_2023/190mm_per_sec/-22mm_37W_003.raw\n",
      "/Users/chiaentsai/Box/MURI-SARA/Thermoreflectance/Joanne/CHESS/0130_2023/190mm_per_sec/-22mm_37W_004.raw\n",
      "/Users/chiaentsai/Box/MURI-SARA/Thermoreflectance/Joanne/CHESS/0130_2023/190mm_per_sec/-22mm_37W_005.raw\n",
      "/Users/chiaentsai/Box/MURI-SARA/Thermoreflectance/Joanne/CHESS/0130_2023/190mm_per_sec/-22mm_37W_006.raw\n",
      "/Users/chiaentsai/Box/MURI-SARA/Thermoreflectance/Joanne/CHESS/0130_2023/190mm_per_sec/-22mm_37W_007.raw\n",
      "/Users/chiaentsai/Box/MURI-SARA/Thermoreflectance/Joanne/CHESS/0130_2023/190mm_per_sec/-22mm_37W_008.raw\n",
      "/Users/chiaentsai/Box/MURI-SARA/Thermoreflectance/Joanne/CHESS/0130_2023/190mm_per_sec/-22mm_37W_009.raw\n",
      "/Users/chiaentsai/Box/MURI-SARA/Thermoreflectance/Joanne/CHESS/0130_2023/190mm_per_sec/-22mm_37W_010.raw\n",
      "/Users/chiaentsai/Box/MURI-SARA/Thermoreflectance/Joanne/CHESS/0130_2023/190mm_per_sec/-22mm_37W_011.raw\n",
      "/Users/chiaentsai/Box/MURI-SARA/Thermoreflectance/Joanne/CHESS/0130_2023/190mm_per_sec/-22mm_37W_012.raw\n",
      "/Users/chiaentsai/Box/MURI-SARA/Thermoreflectance/Joanne/CHESS/0130_2023/190mm_per_sec/-22mm_37W_013.raw\n",
      "/Users/chiaentsai/Box/MURI-SARA/Thermoreflectance/Joanne/CHESS/0130_2023/190mm_per_sec/-22mm_37W_014.raw\n",
      "/Users/chiaentsai/Box/MURI-SARA/Thermoreflectance/Joanne/CHESS/0130_2023/190mm_per_sec/-22mm_37W_015.raw\n",
      "/Users/chiaentsai/Box/MURI-SARA/Thermoreflectance/Joanne/CHESS/0130_2023/190mm_per_sec/-22mm_37W_016.raw\n",
      "/Users/chiaentsai/Box/MURI-SARA/Thermoreflectance/Joanne/CHESS/0130_2023/190mm_per_sec/-22mm_37W_017.raw\n",
      "/Users/chiaentsai/Box/MURI-SARA/Thermoreflectance/Joanne/CHESS/0130_2023/190mm_per_sec/-22mm_37W_018.raw\n",
      "/Users/chiaentsai/Box/MURI-SARA/Thermoreflectance/Joanne/CHESS/0130_2023/190mm_per_sec/-22mm_37W_019.raw\n",
      "/Users/chiaentsai/Box/MURI-SARA/Thermoreflectance/Joanne/CHESS/0130_2023/190mm_per_sec/-22mm_37W_020.raw\n",
      "/Users/chiaentsai/Box/MURI-SARA/Thermoreflectance/Joanne/CHESS/0130_2023/190mm_per_sec/-22mm_37W_021.raw\n",
      "/Users/chiaentsai/Box/MURI-SARA/Thermoreflectance/Joanne/CHESS/0130_2023/190mm_per_sec/-22mm_37W_022.raw\n",
      "/Users/chiaentsai/Box/MURI-SARA/Thermoreflectance/Joanne/CHESS/0130_2023/190mm_per_sec/-22mm_37W_023.raw\n",
      "/Users/chiaentsai/Box/MURI-SARA/Thermoreflectance/Joanne/CHESS/0130_2023/190mm_per_sec/-22mm_37W_024.raw\n",
      "/Users/chiaentsai/Box/MURI-SARA/Thermoreflectance/Joanne/CHESS/0130_2023/190mm_per_sec/-22mm_37W_025.raw\n",
      "/Users/chiaentsai/Box/MURI-SARA/Thermoreflectance/Joanne/CHESS/0130_2023/190mm_per_sec/-22mm_37W_026.raw\n",
      "/Users/chiaentsai/Box/MURI-SARA/Thermoreflectance/Joanne/CHESS/0130_2023/190mm_per_sec/-22mm_37W_027.raw\n",
      "/Users/chiaentsai/Box/MURI-SARA/Thermoreflectance/Joanne/CHESS/0130_2023/190mm_per_sec/-22mm_37W_028.raw\n",
      "/Users/chiaentsai/Box/MURI-SARA/Thermoreflectance/Joanne/CHESS/0130_2023/190mm_per_sec/-22mm_37W_029.raw\n"
     ]
    },
    {
     "name": "stderr",
     "output_type": "stream",
     "text": [
      "100%|█████████████████████████████████████████| 450/450 [00:13<00:00, 33.08it/s]\n",
      " 67%|██████████████████████████▏            | 302/450 [00:00<00:00, 2079.82it/s]"
     ]
    },
    {
     "name": "stdout",
     "output_type": "stream",
     "text": [
      "/Users/chiaentsai/Box/MURI-SARA/Thermoreflectance/Joanne/CHESS/0130_2023/190mm_per_sec/-22mm_39W_000.raw\n",
      "/Users/chiaentsai/Box/MURI-SARA/Thermoreflectance/Joanne/CHESS/0130_2023/190mm_per_sec/-22mm_39W_001.raw\n",
      "/Users/chiaentsai/Box/MURI-SARA/Thermoreflectance/Joanne/CHESS/0130_2023/190mm_per_sec/-22mm_39W_002.raw\n",
      "/Users/chiaentsai/Box/MURI-SARA/Thermoreflectance/Joanne/CHESS/0130_2023/190mm_per_sec/-22mm_39W_003.raw\n",
      "/Users/chiaentsai/Box/MURI-SARA/Thermoreflectance/Joanne/CHESS/0130_2023/190mm_per_sec/-22mm_39W_004.raw\n",
      "/Users/chiaentsai/Box/MURI-SARA/Thermoreflectance/Joanne/CHESS/0130_2023/190mm_per_sec/-22mm_39W_005.raw\n",
      "/Users/chiaentsai/Box/MURI-SARA/Thermoreflectance/Joanne/CHESS/0130_2023/190mm_per_sec/-22mm_39W_006.raw\n",
      "/Users/chiaentsai/Box/MURI-SARA/Thermoreflectance/Joanne/CHESS/0130_2023/190mm_per_sec/-22mm_39W_007.raw\n",
      "/Users/chiaentsai/Box/MURI-SARA/Thermoreflectance/Joanne/CHESS/0130_2023/190mm_per_sec/-22mm_39W_008.raw\n",
      "/Users/chiaentsai/Box/MURI-SARA/Thermoreflectance/Joanne/CHESS/0130_2023/190mm_per_sec/-22mm_39W_009.raw\n",
      "/Users/chiaentsai/Box/MURI-SARA/Thermoreflectance/Joanne/CHESS/0130_2023/190mm_per_sec/-22mm_39W_010.raw\n",
      "/Users/chiaentsai/Box/MURI-SARA/Thermoreflectance/Joanne/CHESS/0130_2023/190mm_per_sec/-22mm_39W_011.raw\n",
      "/Users/chiaentsai/Box/MURI-SARA/Thermoreflectance/Joanne/CHESS/0130_2023/190mm_per_sec/-22mm_39W_012.raw\n",
      "/Users/chiaentsai/Box/MURI-SARA/Thermoreflectance/Joanne/CHESS/0130_2023/190mm_per_sec/-22mm_39W_013.raw\n",
      "/Users/chiaentsai/Box/MURI-SARA/Thermoreflectance/Joanne/CHESS/0130_2023/190mm_per_sec/-22mm_39W_014.raw\n",
      "/Users/chiaentsai/Box/MURI-SARA/Thermoreflectance/Joanne/CHESS/0130_2023/190mm_per_sec/-22mm_39W_015.raw\n",
      "/Users/chiaentsai/Box/MURI-SARA/Thermoreflectance/Joanne/CHESS/0130_2023/190mm_per_sec/-22mm_39W_016.raw\n",
      "/Users/chiaentsai/Box/MURI-SARA/Thermoreflectance/Joanne/CHESS/0130_2023/190mm_per_sec/-22mm_39W_017.raw\n",
      "/Users/chiaentsai/Box/MURI-SARA/Thermoreflectance/Joanne/CHESS/0130_2023/190mm_per_sec/-22mm_39W_018.raw\n",
      "/Users/chiaentsai/Box/MURI-SARA/Thermoreflectance/Joanne/CHESS/0130_2023/190mm_per_sec/-22mm_39W_019.raw\n",
      "/Users/chiaentsai/Box/MURI-SARA/Thermoreflectance/Joanne/CHESS/0130_2023/190mm_per_sec/-22mm_39W_020.raw\n",
      "/Users/chiaentsai/Box/MURI-SARA/Thermoreflectance/Joanne/CHESS/0130_2023/190mm_per_sec/-22mm_39W_021.raw\n",
      "/Users/chiaentsai/Box/MURI-SARA/Thermoreflectance/Joanne/CHESS/0130_2023/190mm_per_sec/-22mm_39W_022.raw\n",
      "/Users/chiaentsai/Box/MURI-SARA/Thermoreflectance/Joanne/CHESS/0130_2023/190mm_per_sec/-22mm_39W_023.raw\n",
      "/Users/chiaentsai/Box/MURI-SARA/Thermoreflectance/Joanne/CHESS/0130_2023/190mm_per_sec/-22mm_39W_024.raw\n",
      "/Users/chiaentsai/Box/MURI-SARA/Thermoreflectance/Joanne/CHESS/0130_2023/190mm_per_sec/-22mm_39W_025.raw\n",
      "/Users/chiaentsai/Box/MURI-SARA/Thermoreflectance/Joanne/CHESS/0130_2023/190mm_per_sec/-22mm_39W_026.raw\n",
      "/Users/chiaentsai/Box/MURI-SARA/Thermoreflectance/Joanne/CHESS/0130_2023/190mm_per_sec/-22mm_39W_027.raw\n",
      "/Users/chiaentsai/Box/MURI-SARA/Thermoreflectance/Joanne/CHESS/0130_2023/190mm_per_sec/-22mm_39W_028.raw\n",
      "/Users/chiaentsai/Box/MURI-SARA/Thermoreflectance/Joanne/CHESS/0130_2023/190mm_per_sec/-22mm_39W_029.raw\n"
     ]
    },
    {
     "name": "stderr",
     "output_type": "stream",
     "text": [
      "100%|█████████████████████████████████████████| 450/450 [00:13<00:00, 34.40it/s]\n",
      "  0%|                                                   | 0/450 [00:00<?, ?it/s]"
     ]
    },
    {
     "name": "stdout",
     "output_type": "stream",
     "text": [
      "/Users/chiaentsai/Box/MURI-SARA/Thermoreflectance/Joanne/CHESS/0130_2023/190mm_per_sec/-22mm_41W_000.raw\n"
     ]
    },
    {
     "name": "stderr",
     "output_type": "stream",
     "text": [
      "\r",
      " 74%|████████████████████████████▋          | 331/450 [00:00<00:00, 1351.00it/s]"
     ]
    },
    {
     "name": "stdout",
     "output_type": "stream",
     "text": [
      "/Users/chiaentsai/Box/MURI-SARA/Thermoreflectance/Joanne/CHESS/0130_2023/190mm_per_sec/-22mm_41W_001.raw\n",
      "/Users/chiaentsai/Box/MURI-SARA/Thermoreflectance/Joanne/CHESS/0130_2023/190mm_per_sec/-22mm_41W_002.raw\n",
      "/Users/chiaentsai/Box/MURI-SARA/Thermoreflectance/Joanne/CHESS/0130_2023/190mm_per_sec/-22mm_41W_003.raw\n",
      "/Users/chiaentsai/Box/MURI-SARA/Thermoreflectance/Joanne/CHESS/0130_2023/190mm_per_sec/-22mm_41W_004.raw\n",
      "/Users/chiaentsai/Box/MURI-SARA/Thermoreflectance/Joanne/CHESS/0130_2023/190mm_per_sec/-22mm_41W_005.raw\n",
      "/Users/chiaentsai/Box/MURI-SARA/Thermoreflectance/Joanne/CHESS/0130_2023/190mm_per_sec/-22mm_41W_006.raw\n",
      "/Users/chiaentsai/Box/MURI-SARA/Thermoreflectance/Joanne/CHESS/0130_2023/190mm_per_sec/-22mm_41W_007.raw\n",
      "/Users/chiaentsai/Box/MURI-SARA/Thermoreflectance/Joanne/CHESS/0130_2023/190mm_per_sec/-22mm_41W_008.raw\n",
      "/Users/chiaentsai/Box/MURI-SARA/Thermoreflectance/Joanne/CHESS/0130_2023/190mm_per_sec/-22mm_41W_009.raw\n",
      "/Users/chiaentsai/Box/MURI-SARA/Thermoreflectance/Joanne/CHESS/0130_2023/190mm_per_sec/-22mm_41W_010.raw\n",
      "/Users/chiaentsai/Box/MURI-SARA/Thermoreflectance/Joanne/CHESS/0130_2023/190mm_per_sec/-22mm_41W_011.raw\n",
      "/Users/chiaentsai/Box/MURI-SARA/Thermoreflectance/Joanne/CHESS/0130_2023/190mm_per_sec/-22mm_41W_012.raw\n",
      "/Users/chiaentsai/Box/MURI-SARA/Thermoreflectance/Joanne/CHESS/0130_2023/190mm_per_sec/-22mm_41W_013.raw\n",
      "/Users/chiaentsai/Box/MURI-SARA/Thermoreflectance/Joanne/CHESS/0130_2023/190mm_per_sec/-22mm_41W_014.raw\n",
      "/Users/chiaentsai/Box/MURI-SARA/Thermoreflectance/Joanne/CHESS/0130_2023/190mm_per_sec/-22mm_41W_015.raw\n",
      "/Users/chiaentsai/Box/MURI-SARA/Thermoreflectance/Joanne/CHESS/0130_2023/190mm_per_sec/-22mm_41W_016.raw\n",
      "/Users/chiaentsai/Box/MURI-SARA/Thermoreflectance/Joanne/CHESS/0130_2023/190mm_per_sec/-22mm_41W_017.raw\n",
      "/Users/chiaentsai/Box/MURI-SARA/Thermoreflectance/Joanne/CHESS/0130_2023/190mm_per_sec/-22mm_41W_018.raw\n",
      "/Users/chiaentsai/Box/MURI-SARA/Thermoreflectance/Joanne/CHESS/0130_2023/190mm_per_sec/-22mm_41W_019.raw\n",
      "/Users/chiaentsai/Box/MURI-SARA/Thermoreflectance/Joanne/CHESS/0130_2023/190mm_per_sec/-22mm_41W_020.raw\n",
      "/Users/chiaentsai/Box/MURI-SARA/Thermoreflectance/Joanne/CHESS/0130_2023/190mm_per_sec/-22mm_41W_021.raw\n",
      "/Users/chiaentsai/Box/MURI-SARA/Thermoreflectance/Joanne/CHESS/0130_2023/190mm_per_sec/-22mm_41W_022.raw\n",
      "/Users/chiaentsai/Box/MURI-SARA/Thermoreflectance/Joanne/CHESS/0130_2023/190mm_per_sec/-22mm_41W_023.raw\n",
      "/Users/chiaentsai/Box/MURI-SARA/Thermoreflectance/Joanne/CHESS/0130_2023/190mm_per_sec/-22mm_41W_024.raw\n"
     ]
    },
    {
     "name": "stderr",
     "output_type": "stream",
     "text": [
      " 79%|████████████████████████████████▎        | 355/450 [00:10<00:03, 24.17it/s]"
     ]
    },
    {
     "name": "stdout",
     "output_type": "stream",
     "text": [
      "/Users/chiaentsai/Box/MURI-SARA/Thermoreflectance/Joanne/CHESS/0130_2023/190mm_per_sec/-22mm_41W_025.raw\n"
     ]
    },
    {
     "name": "stderr",
     "output_type": "stream",
     "text": [
      "\r",
      " 79%|████████████████████████████████▍        | 356/450 [00:11<00:04, 23.02it/s]"
     ]
    },
    {
     "name": "stdout",
     "output_type": "stream",
     "text": [
      "/Users/chiaentsai/Box/MURI-SARA/Thermoreflectance/Joanne/CHESS/0130_2023/190mm_per_sec/-22mm_41W_026.raw\n",
      "/Users/chiaentsai/Box/MURI-SARA/Thermoreflectance/Joanne/CHESS/0130_2023/190mm_per_sec/-22mm_41W_027.raw\n",
      "/Users/chiaentsai/Box/MURI-SARA/Thermoreflectance/Joanne/CHESS/0130_2023/190mm_per_sec/-22mm_41W_028.raw\n",
      "/Users/chiaentsai/Box/MURI-SARA/Thermoreflectance/Joanne/CHESS/0130_2023/190mm_per_sec/-22mm_41W_029.raw\n"
     ]
    },
    {
     "name": "stderr",
     "output_type": "stream",
     "text": [
      "100%|█████████████████████████████████████████| 450/450 [00:12<00:00, 34.76it/s]\n",
      " 80%|███████████████████████████████▎       | 362/450 [00:00<00:00, 2497.92it/s]"
     ]
    },
    {
     "name": "stdout",
     "output_type": "stream",
     "text": [
      "/Users/chiaentsai/Box/MURI-SARA/Thermoreflectance/Joanne/CHESS/0130_2023/190mm_per_sec/-22mm_43W_000.raw\n",
      "/Users/chiaentsai/Box/MURI-SARA/Thermoreflectance/Joanne/CHESS/0130_2023/190mm_per_sec/-22mm_43W_001.raw\n",
      "/Users/chiaentsai/Box/MURI-SARA/Thermoreflectance/Joanne/CHESS/0130_2023/190mm_per_sec/-22mm_43W_002.raw\n",
      "/Users/chiaentsai/Box/MURI-SARA/Thermoreflectance/Joanne/CHESS/0130_2023/190mm_per_sec/-22mm_43W_003.raw\n",
      "/Users/chiaentsai/Box/MURI-SARA/Thermoreflectance/Joanne/CHESS/0130_2023/190mm_per_sec/-22mm_43W_004.raw\n",
      "/Users/chiaentsai/Box/MURI-SARA/Thermoreflectance/Joanne/CHESS/0130_2023/190mm_per_sec/-22mm_43W_005.raw\n",
      "/Users/chiaentsai/Box/MURI-SARA/Thermoreflectance/Joanne/CHESS/0130_2023/190mm_per_sec/-22mm_43W_006.raw\n",
      "/Users/chiaentsai/Box/MURI-SARA/Thermoreflectance/Joanne/CHESS/0130_2023/190mm_per_sec/-22mm_43W_007.raw\n",
      "/Users/chiaentsai/Box/MURI-SARA/Thermoreflectance/Joanne/CHESS/0130_2023/190mm_per_sec/-22mm_43W_008.raw\n",
      "/Users/chiaentsai/Box/MURI-SARA/Thermoreflectance/Joanne/CHESS/0130_2023/190mm_per_sec/-22mm_43W_009.raw\n",
      "/Users/chiaentsai/Box/MURI-SARA/Thermoreflectance/Joanne/CHESS/0130_2023/190mm_per_sec/-22mm_43W_010.raw\n",
      "/Users/chiaentsai/Box/MURI-SARA/Thermoreflectance/Joanne/CHESS/0130_2023/190mm_per_sec/-22mm_43W_011.raw\n",
      "/Users/chiaentsai/Box/MURI-SARA/Thermoreflectance/Joanne/CHESS/0130_2023/190mm_per_sec/-22mm_43W_012.raw\n",
      "/Users/chiaentsai/Box/MURI-SARA/Thermoreflectance/Joanne/CHESS/0130_2023/190mm_per_sec/-22mm_43W_013.raw\n",
      "/Users/chiaentsai/Box/MURI-SARA/Thermoreflectance/Joanne/CHESS/0130_2023/190mm_per_sec/-22mm_43W_014.raw\n",
      "/Users/chiaentsai/Box/MURI-SARA/Thermoreflectance/Joanne/CHESS/0130_2023/190mm_per_sec/-22mm_43W_015.raw\n",
      "/Users/chiaentsai/Box/MURI-SARA/Thermoreflectance/Joanne/CHESS/0130_2023/190mm_per_sec/-22mm_43W_016.raw\n",
      "/Users/chiaentsai/Box/MURI-SARA/Thermoreflectance/Joanne/CHESS/0130_2023/190mm_per_sec/-22mm_43W_017.raw\n",
      "/Users/chiaentsai/Box/MURI-SARA/Thermoreflectance/Joanne/CHESS/0130_2023/190mm_per_sec/-22mm_43W_018.raw\n",
      "/Users/chiaentsai/Box/MURI-SARA/Thermoreflectance/Joanne/CHESS/0130_2023/190mm_per_sec/-22mm_43W_019.raw\n",
      "/Users/chiaentsai/Box/MURI-SARA/Thermoreflectance/Joanne/CHESS/0130_2023/190mm_per_sec/-22mm_43W_020.raw\n",
      "/Users/chiaentsai/Box/MURI-SARA/Thermoreflectance/Joanne/CHESS/0130_2023/190mm_per_sec/-22mm_43W_021.raw\n",
      "/Users/chiaentsai/Box/MURI-SARA/Thermoreflectance/Joanne/CHESS/0130_2023/190mm_per_sec/-22mm_43W_022.raw\n",
      "/Users/chiaentsai/Box/MURI-SARA/Thermoreflectance/Joanne/CHESS/0130_2023/190mm_per_sec/-22mm_43W_023.raw\n",
      "/Users/chiaentsai/Box/MURI-SARA/Thermoreflectance/Joanne/CHESS/0130_2023/190mm_per_sec/-22mm_43W_024.raw\n",
      "/Users/chiaentsai/Box/MURI-SARA/Thermoreflectance/Joanne/CHESS/0130_2023/190mm_per_sec/-22mm_43W_025.raw\n",
      "/Users/chiaentsai/Box/MURI-SARA/Thermoreflectance/Joanne/CHESS/0130_2023/190mm_per_sec/-22mm_43W_026.raw\n",
      "/Users/chiaentsai/Box/MURI-SARA/Thermoreflectance/Joanne/CHESS/0130_2023/190mm_per_sec/-22mm_43W_027.raw\n",
      "/Users/chiaentsai/Box/MURI-SARA/Thermoreflectance/Joanne/CHESS/0130_2023/190mm_per_sec/-22mm_43W_028.raw\n",
      "/Users/chiaentsai/Box/MURI-SARA/Thermoreflectance/Joanne/CHESS/0130_2023/190mm_per_sec/-22mm_43W_029.raw\n"
     ]
    },
    {
     "name": "stderr",
     "output_type": "stream",
     "text": [
      "100%|█████████████████████████████████████████| 450/450 [00:12<00:00, 36.03it/s]\n",
      " 87%|█████████████████████████████████▉     | 392/450 [00:00<00:00, 2671.88it/s]"
     ]
    },
    {
     "name": "stdout",
     "output_type": "stream",
     "text": [
      "/Users/chiaentsai/Box/MURI-SARA/Thermoreflectance/Joanne/CHESS/0130_2023/190mm_per_sec/-22mm_45W_000.raw\n",
      "/Users/chiaentsai/Box/MURI-SARA/Thermoreflectance/Joanne/CHESS/0130_2023/190mm_per_sec/-22mm_45W_001.raw\n",
      "/Users/chiaentsai/Box/MURI-SARA/Thermoreflectance/Joanne/CHESS/0130_2023/190mm_per_sec/-22mm_45W_002.raw\n",
      "/Users/chiaentsai/Box/MURI-SARA/Thermoreflectance/Joanne/CHESS/0130_2023/190mm_per_sec/-22mm_45W_003.raw\n",
      "/Users/chiaentsai/Box/MURI-SARA/Thermoreflectance/Joanne/CHESS/0130_2023/190mm_per_sec/-22mm_45W_004.raw\n",
      "/Users/chiaentsai/Box/MURI-SARA/Thermoreflectance/Joanne/CHESS/0130_2023/190mm_per_sec/-22mm_45W_005.raw\n",
      "/Users/chiaentsai/Box/MURI-SARA/Thermoreflectance/Joanne/CHESS/0130_2023/190mm_per_sec/-22mm_45W_006.raw\n",
      "/Users/chiaentsai/Box/MURI-SARA/Thermoreflectance/Joanne/CHESS/0130_2023/190mm_per_sec/-22mm_45W_007.raw\n",
      "/Users/chiaentsai/Box/MURI-SARA/Thermoreflectance/Joanne/CHESS/0130_2023/190mm_per_sec/-22mm_45W_008.raw\n",
      "/Users/chiaentsai/Box/MURI-SARA/Thermoreflectance/Joanne/CHESS/0130_2023/190mm_per_sec/-22mm_45W_009.raw\n",
      "/Users/chiaentsai/Box/MURI-SARA/Thermoreflectance/Joanne/CHESS/0130_2023/190mm_per_sec/-22mm_45W_010.raw\n",
      "/Users/chiaentsai/Box/MURI-SARA/Thermoreflectance/Joanne/CHESS/0130_2023/190mm_per_sec/-22mm_45W_011.raw\n",
      "/Users/chiaentsai/Box/MURI-SARA/Thermoreflectance/Joanne/CHESS/0130_2023/190mm_per_sec/-22mm_45W_012.raw\n",
      "/Users/chiaentsai/Box/MURI-SARA/Thermoreflectance/Joanne/CHESS/0130_2023/190mm_per_sec/-22mm_45W_013.raw\n",
      "/Users/chiaentsai/Box/MURI-SARA/Thermoreflectance/Joanne/CHESS/0130_2023/190mm_per_sec/-22mm_45W_014.raw\n",
      "/Users/chiaentsai/Box/MURI-SARA/Thermoreflectance/Joanne/CHESS/0130_2023/190mm_per_sec/-22mm_45W_015.raw\n",
      "/Users/chiaentsai/Box/MURI-SARA/Thermoreflectance/Joanne/CHESS/0130_2023/190mm_per_sec/-22mm_45W_016.raw\n",
      "/Users/chiaentsai/Box/MURI-SARA/Thermoreflectance/Joanne/CHESS/0130_2023/190mm_per_sec/-22mm_45W_017.raw\n",
      "/Users/chiaentsai/Box/MURI-SARA/Thermoreflectance/Joanne/CHESS/0130_2023/190mm_per_sec/-22mm_45W_018.raw\n",
      "/Users/chiaentsai/Box/MURI-SARA/Thermoreflectance/Joanne/CHESS/0130_2023/190mm_per_sec/-22mm_45W_019.raw\n",
      "/Users/chiaentsai/Box/MURI-SARA/Thermoreflectance/Joanne/CHESS/0130_2023/190mm_per_sec/-22mm_45W_020.raw\n",
      "/Users/chiaentsai/Box/MURI-SARA/Thermoreflectance/Joanne/CHESS/0130_2023/190mm_per_sec/-22mm_45W_021.raw\n",
      "/Users/chiaentsai/Box/MURI-SARA/Thermoreflectance/Joanne/CHESS/0130_2023/190mm_per_sec/-22mm_45W_022.raw\n",
      "/Users/chiaentsai/Box/MURI-SARA/Thermoreflectance/Joanne/CHESS/0130_2023/190mm_per_sec/-22mm_45W_023.raw\n",
      "/Users/chiaentsai/Box/MURI-SARA/Thermoreflectance/Joanne/CHESS/0130_2023/190mm_per_sec/-22mm_45W_024.raw\n",
      "/Users/chiaentsai/Box/MURI-SARA/Thermoreflectance/Joanne/CHESS/0130_2023/190mm_per_sec/-22mm_45W_025.raw\n",
      "/Users/chiaentsai/Box/MURI-SARA/Thermoreflectance/Joanne/CHESS/0130_2023/190mm_per_sec/-22mm_45W_026.raw\n",
      "/Users/chiaentsai/Box/MURI-SARA/Thermoreflectance/Joanne/CHESS/0130_2023/190mm_per_sec/-22mm_45W_027.raw\n",
      "/Users/chiaentsai/Box/MURI-SARA/Thermoreflectance/Joanne/CHESS/0130_2023/190mm_per_sec/-22mm_45W_028.raw\n",
      "/Users/chiaentsai/Box/MURI-SARA/Thermoreflectance/Joanne/CHESS/0130_2023/190mm_per_sec/-22mm_45W_029.raw\n"
     ]
    },
    {
     "name": "stderr",
     "output_type": "stream",
     "text": [
      "100%|█████████████████████████████████████████| 450/450 [00:11<00:00, 39.66it/s]\n",
      " 94%|████████████████████████████████████▍  | 421/450 [00:00<00:00, 3815.27it/s]"
     ]
    },
    {
     "name": "stdout",
     "output_type": "stream",
     "text": [
      "/Users/chiaentsai/Box/MURI-SARA/Thermoreflectance/Joanne/CHESS/0130_2023/190mm_per_sec/-22mm_47W_000.raw\n",
      "/Users/chiaentsai/Box/MURI-SARA/Thermoreflectance/Joanne/CHESS/0130_2023/190mm_per_sec/-22mm_47W_001.raw\n",
      "/Users/chiaentsai/Box/MURI-SARA/Thermoreflectance/Joanne/CHESS/0130_2023/190mm_per_sec/-22mm_47W_002.raw\n",
      "/Users/chiaentsai/Box/MURI-SARA/Thermoreflectance/Joanne/CHESS/0130_2023/190mm_per_sec/-22mm_47W_003.raw\n",
      "/Users/chiaentsai/Box/MURI-SARA/Thermoreflectance/Joanne/CHESS/0130_2023/190mm_per_sec/-22mm_47W_004.raw\n",
      "/Users/chiaentsai/Box/MURI-SARA/Thermoreflectance/Joanne/CHESS/0130_2023/190mm_per_sec/-22mm_47W_005.raw\n",
      "/Users/chiaentsai/Box/MURI-SARA/Thermoreflectance/Joanne/CHESS/0130_2023/190mm_per_sec/-22mm_47W_006.raw\n",
      "/Users/chiaentsai/Box/MURI-SARA/Thermoreflectance/Joanne/CHESS/0130_2023/190mm_per_sec/-22mm_47W_007.raw\n",
      "/Users/chiaentsai/Box/MURI-SARA/Thermoreflectance/Joanne/CHESS/0130_2023/190mm_per_sec/-22mm_47W_008.raw\n",
      "/Users/chiaentsai/Box/MURI-SARA/Thermoreflectance/Joanne/CHESS/0130_2023/190mm_per_sec/-22mm_47W_009.raw\n",
      "/Users/chiaentsai/Box/MURI-SARA/Thermoreflectance/Joanne/CHESS/0130_2023/190mm_per_sec/-22mm_47W_010.raw\n",
      "/Users/chiaentsai/Box/MURI-SARA/Thermoreflectance/Joanne/CHESS/0130_2023/190mm_per_sec/-22mm_47W_011.raw\n",
      "/Users/chiaentsai/Box/MURI-SARA/Thermoreflectance/Joanne/CHESS/0130_2023/190mm_per_sec/-22mm_47W_012.raw\n",
      "/Users/chiaentsai/Box/MURI-SARA/Thermoreflectance/Joanne/CHESS/0130_2023/190mm_per_sec/-22mm_47W_013.raw\n",
      "/Users/chiaentsai/Box/MURI-SARA/Thermoreflectance/Joanne/CHESS/0130_2023/190mm_per_sec/-22mm_47W_014.raw\n",
      "/Users/chiaentsai/Box/MURI-SARA/Thermoreflectance/Joanne/CHESS/0130_2023/190mm_per_sec/-22mm_47W_015.raw\n",
      "/Users/chiaentsai/Box/MURI-SARA/Thermoreflectance/Joanne/CHESS/0130_2023/190mm_per_sec/-22mm_47W_016.raw\n",
      "/Users/chiaentsai/Box/MURI-SARA/Thermoreflectance/Joanne/CHESS/0130_2023/190mm_per_sec/-22mm_47W_017.raw\n",
      "/Users/chiaentsai/Box/MURI-SARA/Thermoreflectance/Joanne/CHESS/0130_2023/190mm_per_sec/-22mm_47W_018.raw\n",
      "/Users/chiaentsai/Box/MURI-SARA/Thermoreflectance/Joanne/CHESS/0130_2023/190mm_per_sec/-22mm_47W_019.raw\n",
      "/Users/chiaentsai/Box/MURI-SARA/Thermoreflectance/Joanne/CHESS/0130_2023/190mm_per_sec/-22mm_47W_020.raw\n",
      "/Users/chiaentsai/Box/MURI-SARA/Thermoreflectance/Joanne/CHESS/0130_2023/190mm_per_sec/-22mm_47W_021.raw\n",
      "/Users/chiaentsai/Box/MURI-SARA/Thermoreflectance/Joanne/CHESS/0130_2023/190mm_per_sec/-22mm_47W_022.raw\n",
      "/Users/chiaentsai/Box/MURI-SARA/Thermoreflectance/Joanne/CHESS/0130_2023/190mm_per_sec/-22mm_47W_023.raw\n",
      "/Users/chiaentsai/Box/MURI-SARA/Thermoreflectance/Joanne/CHESS/0130_2023/190mm_per_sec/-22mm_47W_024.raw\n",
      "/Users/chiaentsai/Box/MURI-SARA/Thermoreflectance/Joanne/CHESS/0130_2023/190mm_per_sec/-22mm_47W_025.raw\n",
      "/Users/chiaentsai/Box/MURI-SARA/Thermoreflectance/Joanne/CHESS/0130_2023/190mm_per_sec/-22mm_47W_026.raw\n",
      "/Users/chiaentsai/Box/MURI-SARA/Thermoreflectance/Joanne/CHESS/0130_2023/190mm_per_sec/-22mm_47W_027.raw\n",
      "/Users/chiaentsai/Box/MURI-SARA/Thermoreflectance/Joanne/CHESS/0130_2023/190mm_per_sec/-22mm_47W_028.raw\n",
      "/Users/chiaentsai/Box/MURI-SARA/Thermoreflectance/Joanne/CHESS/0130_2023/190mm_per_sec/-22mm_47W_029.raw\n"
     ]
    },
    {
     "name": "stderr",
     "output_type": "stream",
     "text": [
      "100%|█████████████████████████████████████████| 450/450 [00:13<00:00, 33.67it/s]\n",
      "  0%|                                                   | 0/360 [00:00<?, ?it/s]"
     ]
    },
    {
     "name": "stdout",
     "output_type": "stream",
     "text": [
      "/Users/chiaentsai/Box/MURI-SARA/Thermoreflectance/Joanne/CHESS/0130_2023/20mm_per_sec/-10mm_23W_000.raw\n"
     ]
    },
    {
     "name": "stderr",
     "output_type": "stream",
     "text": [
      "\r",
      " 42%|████████████████▊                       | 151/360 [00:00<00:00, 224.97it/s]"
     ]
    },
    {
     "name": "stdout",
     "output_type": "stream",
     "text": [
      "/Users/chiaentsai/Box/MURI-SARA/Thermoreflectance/Joanne/CHESS/0130_2023/20mm_per_sec/-10mm_23W_001.raw\n",
      "/Users/chiaentsai/Box/MURI-SARA/Thermoreflectance/Joanne/CHESS/0130_2023/20mm_per_sec/-10mm_23W_002.raw\n",
      "/Users/chiaentsai/Box/MURI-SARA/Thermoreflectance/Joanne/CHESS/0130_2023/20mm_per_sec/-10mm_23W_003.raw\n",
      "/Users/chiaentsai/Box/MURI-SARA/Thermoreflectance/Joanne/CHESS/0130_2023/20mm_per_sec/-10mm_23W_004.raw\n",
      "/Users/chiaentsai/Box/MURI-SARA/Thermoreflectance/Joanne/CHESS/0130_2023/20mm_per_sec/-10mm_23W_005.raw\n",
      "/Users/chiaentsai/Box/MURI-SARA/Thermoreflectance/Joanne/CHESS/0130_2023/20mm_per_sec/-10mm_23W_006.raw\n",
      "/Users/chiaentsai/Box/MURI-SARA/Thermoreflectance/Joanne/CHESS/0130_2023/20mm_per_sec/-10mm_23W_007.raw\n",
      "/Users/chiaentsai/Box/MURI-SARA/Thermoreflectance/Joanne/CHESS/0130_2023/20mm_per_sec/-10mm_23W_008.raw\n",
      "/Users/chiaentsai/Box/MURI-SARA/Thermoreflectance/Joanne/CHESS/0130_2023/20mm_per_sec/-10mm_23W_009.raw\n",
      "/Users/chiaentsai/Box/MURI-SARA/Thermoreflectance/Joanne/CHESS/0130_2023/20mm_per_sec/-10mm_23W_010.raw\n",
      "/Users/chiaentsai/Box/MURI-SARA/Thermoreflectance/Joanne/CHESS/0130_2023/20mm_per_sec/-10mm_23W_011.raw\n",
      "/Users/chiaentsai/Box/MURI-SARA/Thermoreflectance/Joanne/CHESS/0130_2023/20mm_per_sec/-10mm_23W_012.raw\n",
      "/Users/chiaentsai/Box/MURI-SARA/Thermoreflectance/Joanne/CHESS/0130_2023/20mm_per_sec/-10mm_23W_013.raw\n",
      "/Users/chiaentsai/Box/MURI-SARA/Thermoreflectance/Joanne/CHESS/0130_2023/20mm_per_sec/-10mm_23W_014.raw\n",
      "/Users/chiaentsai/Box/MURI-SARA/Thermoreflectance/Joanne/CHESS/0130_2023/20mm_per_sec/-10mm_23W_015.raw\n",
      "/Users/chiaentsai/Box/MURI-SARA/Thermoreflectance/Joanne/CHESS/0130_2023/20mm_per_sec/-10mm_23W_016.raw\n",
      "/Users/chiaentsai/Box/MURI-SARA/Thermoreflectance/Joanne/CHESS/0130_2023/20mm_per_sec/-10mm_23W_017.raw\n",
      "/Users/chiaentsai/Box/MURI-SARA/Thermoreflectance/Joanne/CHESS/0130_2023/20mm_per_sec/-10mm_23W_018.raw\n",
      "/Users/chiaentsai/Box/MURI-SARA/Thermoreflectance/Joanne/CHESS/0130_2023/20mm_per_sec/-10mm_23W_019.raw\n",
      "/Users/chiaentsai/Box/MURI-SARA/Thermoreflectance/Joanne/CHESS/0130_2023/20mm_per_sec/-10mm_23W_020.raw\n"
     ]
    },
    {
     "name": "stderr",
     "output_type": "stream",
     "text": [
      "\r",
      " 48%|███████████████████▊                     | 174/360 [00:07<00:10, 18.20it/s]"
     ]
    },
    {
     "name": "stdout",
     "output_type": "stream",
     "text": [
      "/Users/chiaentsai/Box/MURI-SARA/Thermoreflectance/Joanne/CHESS/0130_2023/20mm_per_sec/-10mm_23W_021.raw\n",
      "/Users/chiaentsai/Box/MURI-SARA/Thermoreflectance/Joanne/CHESS/0130_2023/20mm_per_sec/-10mm_23W_022.raw\n",
      "/Users/chiaentsai/Box/MURI-SARA/Thermoreflectance/Joanne/CHESS/0130_2023/20mm_per_sec/-10mm_23W_023.raw\n",
      "/Users/chiaentsai/Box/MURI-SARA/Thermoreflectance/Joanne/CHESS/0130_2023/20mm_per_sec/-10mm_23W_024.raw\n",
      "/Users/chiaentsai/Box/MURI-SARA/Thermoreflectance/Joanne/CHESS/0130_2023/20mm_per_sec/-10mm_23W_025.raw\n",
      "/Users/chiaentsai/Box/MURI-SARA/Thermoreflectance/Joanne/CHESS/0130_2023/20mm_per_sec/-10mm_23W_026.raw\n",
      "/Users/chiaentsai/Box/MURI-SARA/Thermoreflectance/Joanne/CHESS/0130_2023/20mm_per_sec/-10mm_23W_027.raw\n",
      "/Users/chiaentsai/Box/MURI-SARA/Thermoreflectance/Joanne/CHESS/0130_2023/20mm_per_sec/-10mm_23W_028.raw\n"
     ]
    },
    {
     "name": "stderr",
     "output_type": "stream",
     "text": [
      "100%|█████████████████████████████████████████| 360/360 [00:07<00:00, 46.92it/s]\n"
     ]
    },
    {
     "name": "stdout",
     "output_type": "stream",
     "text": [
      "/Users/chiaentsai/Box/MURI-SARA/Thermoreflectance/Joanne/CHESS/0130_2023/20mm_per_sec/-10mm_23W_029.raw\n"
     ]
    },
    {
     "name": "stderr",
     "output_type": "stream",
     "text": [
      "\r",
      "  0%|                                                   | 0/360 [00:00<?, ?it/s]"
     ]
    },
    {
     "name": "stdout",
     "output_type": "stream",
     "text": [
      "/Users/chiaentsai/Box/MURI-SARA/Thermoreflectance/Joanne/CHESS/0130_2023/20mm_per_sec/-10mm_25W_000.raw\n"
     ]
    },
    {
     "name": "stderr",
     "output_type": "stream",
     "text": [
      "\r",
      " 50%|████████████████████                    | 181/360 [00:00<00:00, 354.07it/s]"
     ]
    },
    {
     "name": "stdout",
     "output_type": "stream",
     "text": [
      "/Users/chiaentsai/Box/MURI-SARA/Thermoreflectance/Joanne/CHESS/0130_2023/20mm_per_sec/-10mm_25W_001.raw\n",
      "/Users/chiaentsai/Box/MURI-SARA/Thermoreflectance/Joanne/CHESS/0130_2023/20mm_per_sec/-10mm_25W_002.raw\n",
      "/Users/chiaentsai/Box/MURI-SARA/Thermoreflectance/Joanne/CHESS/0130_2023/20mm_per_sec/-10mm_25W_003.raw\n",
      "/Users/chiaentsai/Box/MURI-SARA/Thermoreflectance/Joanne/CHESS/0130_2023/20mm_per_sec/-10mm_25W_004.raw\n",
      "/Users/chiaentsai/Box/MURI-SARA/Thermoreflectance/Joanne/CHESS/0130_2023/20mm_per_sec/-10mm_25W_005.raw\n",
      "/Users/chiaentsai/Box/MURI-SARA/Thermoreflectance/Joanne/CHESS/0130_2023/20mm_per_sec/-10mm_25W_006.raw\n",
      "/Users/chiaentsai/Box/MURI-SARA/Thermoreflectance/Joanne/CHESS/0130_2023/20mm_per_sec/-10mm_25W_007.raw\n",
      "/Users/chiaentsai/Box/MURI-SARA/Thermoreflectance/Joanne/CHESS/0130_2023/20mm_per_sec/-10mm_25W_008.raw\n",
      "/Users/chiaentsai/Box/MURI-SARA/Thermoreflectance/Joanne/CHESS/0130_2023/20mm_per_sec/-10mm_25W_009.raw\n",
      "/Users/chiaentsai/Box/MURI-SARA/Thermoreflectance/Joanne/CHESS/0130_2023/20mm_per_sec/-10mm_25W_010.raw\n",
      "/Users/chiaentsai/Box/MURI-SARA/Thermoreflectance/Joanne/CHESS/0130_2023/20mm_per_sec/-10mm_25W_011.raw\n",
      "/Users/chiaentsai/Box/MURI-SARA/Thermoreflectance/Joanne/CHESS/0130_2023/20mm_per_sec/-10mm_25W_012.raw\n",
      "/Users/chiaentsai/Box/MURI-SARA/Thermoreflectance/Joanne/CHESS/0130_2023/20mm_per_sec/-10mm_25W_013.raw\n",
      "/Users/chiaentsai/Box/MURI-SARA/Thermoreflectance/Joanne/CHESS/0130_2023/20mm_per_sec/-10mm_25W_014.raw\n",
      "/Users/chiaentsai/Box/MURI-SARA/Thermoreflectance/Joanne/CHESS/0130_2023/20mm_per_sec/-10mm_25W_015.raw\n",
      "/Users/chiaentsai/Box/MURI-SARA/Thermoreflectance/Joanne/CHESS/0130_2023/20mm_per_sec/-10mm_25W_016.raw\n",
      "/Users/chiaentsai/Box/MURI-SARA/Thermoreflectance/Joanne/CHESS/0130_2023/20mm_per_sec/-10mm_25W_017.raw\n",
      "/Users/chiaentsai/Box/MURI-SARA/Thermoreflectance/Joanne/CHESS/0130_2023/20mm_per_sec/-10mm_25W_018.raw\n",
      "/Users/chiaentsai/Box/MURI-SARA/Thermoreflectance/Joanne/CHESS/0130_2023/20mm_per_sec/-10mm_25W_019.raw\n",
      "/Users/chiaentsai/Box/MURI-SARA/Thermoreflectance/Joanne/CHESS/0130_2023/20mm_per_sec/-10mm_25W_020.raw\n",
      "/Users/chiaentsai/Box/MURI-SARA/Thermoreflectance/Joanne/CHESS/0130_2023/20mm_per_sec/-10mm_25W_021.raw\n",
      "/Users/chiaentsai/Box/MURI-SARA/Thermoreflectance/Joanne/CHESS/0130_2023/20mm_per_sec/-10mm_25W_022.raw\n",
      "/Users/chiaentsai/Box/MURI-SARA/Thermoreflectance/Joanne/CHESS/0130_2023/20mm_per_sec/-10mm_25W_023.raw\n",
      "/Users/chiaentsai/Box/MURI-SARA/Thermoreflectance/Joanne/CHESS/0130_2023/20mm_per_sec/-10mm_25W_024.raw\n",
      "/Users/chiaentsai/Box/MURI-SARA/Thermoreflectance/Joanne/CHESS/0130_2023/20mm_per_sec/-10mm_25W_025.raw\n",
      "/Users/chiaentsai/Box/MURI-SARA/Thermoreflectance/Joanne/CHESS/0130_2023/20mm_per_sec/-10mm_25W_026.raw\n",
      "/Users/chiaentsai/Box/MURI-SARA/Thermoreflectance/Joanne/CHESS/0130_2023/20mm_per_sec/-10mm_25W_027.raw\n",
      "/Users/chiaentsai/Box/MURI-SARA/Thermoreflectance/Joanne/CHESS/0130_2023/20mm_per_sec/-10mm_25W_028.raw\n"
     ]
    },
    {
     "name": "stderr",
     "output_type": "stream",
     "text": [
      "100%|█████████████████████████████████████████| 360/360 [00:04<00:00, 85.19it/s]\n"
     ]
    },
    {
     "name": "stdout",
     "output_type": "stream",
     "text": [
      "/Users/chiaentsai/Box/MURI-SARA/Thermoreflectance/Joanne/CHESS/0130_2023/20mm_per_sec/-10mm_25W_029.raw\n"
     ]
    },
    {
     "name": "stderr",
     "output_type": "stream",
     "text": [
      "\r",
      "  0%|                                                   | 0/360 [00:00<?, ?it/s]"
     ]
    },
    {
     "name": "stdout",
     "output_type": "stream",
     "text": [
      "/Users/chiaentsai/Box/MURI-SARA/Thermoreflectance/Joanne/CHESS/0130_2023/20mm_per_sec/-10mm_27W_000.raw\n"
     ]
    },
    {
     "name": "stderr",
     "output_type": "stream",
     "text": [
      "\r",
      " 59%|███████████████████████▍                | 211/360 [00:00<00:00, 326.69it/s]"
     ]
    },
    {
     "name": "stdout",
     "output_type": "stream",
     "text": [
      "/Users/chiaentsai/Box/MURI-SARA/Thermoreflectance/Joanne/CHESS/0130_2023/20mm_per_sec/-10mm_27W_001.raw\n",
      "/Users/chiaentsai/Box/MURI-SARA/Thermoreflectance/Joanne/CHESS/0130_2023/20mm_per_sec/-10mm_27W_002.raw\n",
      "/Users/chiaentsai/Box/MURI-SARA/Thermoreflectance/Joanne/CHESS/0130_2023/20mm_per_sec/-10mm_27W_003.raw\n",
      "/Users/chiaentsai/Box/MURI-SARA/Thermoreflectance/Joanne/CHESS/0130_2023/20mm_per_sec/-10mm_27W_004.raw\n",
      "/Users/chiaentsai/Box/MURI-SARA/Thermoreflectance/Joanne/CHESS/0130_2023/20mm_per_sec/-10mm_27W_005.raw\n",
      "/Users/chiaentsai/Box/MURI-SARA/Thermoreflectance/Joanne/CHESS/0130_2023/20mm_per_sec/-10mm_27W_006.raw\n",
      "/Users/chiaentsai/Box/MURI-SARA/Thermoreflectance/Joanne/CHESS/0130_2023/20mm_per_sec/-10mm_27W_007.raw\n",
      "/Users/chiaentsai/Box/MURI-SARA/Thermoreflectance/Joanne/CHESS/0130_2023/20mm_per_sec/-10mm_27W_008.raw\n",
      "/Users/chiaentsai/Box/MURI-SARA/Thermoreflectance/Joanne/CHESS/0130_2023/20mm_per_sec/-10mm_27W_009.raw\n",
      "/Users/chiaentsai/Box/MURI-SARA/Thermoreflectance/Joanne/CHESS/0130_2023/20mm_per_sec/-10mm_27W_010.raw\n",
      "/Users/chiaentsai/Box/MURI-SARA/Thermoreflectance/Joanne/CHESS/0130_2023/20mm_per_sec/-10mm_27W_011.raw\n",
      "/Users/chiaentsai/Box/MURI-SARA/Thermoreflectance/Joanne/CHESS/0130_2023/20mm_per_sec/-10mm_27W_012.raw\n",
      "/Users/chiaentsai/Box/MURI-SARA/Thermoreflectance/Joanne/CHESS/0130_2023/20mm_per_sec/-10mm_27W_013.raw\n",
      "/Users/chiaentsai/Box/MURI-SARA/Thermoreflectance/Joanne/CHESS/0130_2023/20mm_per_sec/-10mm_27W_014.raw\n",
      "/Users/chiaentsai/Box/MURI-SARA/Thermoreflectance/Joanne/CHESS/0130_2023/20mm_per_sec/-10mm_27W_015.raw\n",
      "/Users/chiaentsai/Box/MURI-SARA/Thermoreflectance/Joanne/CHESS/0130_2023/20mm_per_sec/-10mm_27W_016.raw\n",
      "/Users/chiaentsai/Box/MURI-SARA/Thermoreflectance/Joanne/CHESS/0130_2023/20mm_per_sec/-10mm_27W_017.raw\n",
      "/Users/chiaentsai/Box/MURI-SARA/Thermoreflectance/Joanne/CHESS/0130_2023/20mm_per_sec/-10mm_27W_018.raw\n",
      "/Users/chiaentsai/Box/MURI-SARA/Thermoreflectance/Joanne/CHESS/0130_2023/20mm_per_sec/-10mm_27W_019.raw\n",
      "/Users/chiaentsai/Box/MURI-SARA/Thermoreflectance/Joanne/CHESS/0130_2023/20mm_per_sec/-10mm_27W_020.raw\n",
      "/Users/chiaentsai/Box/MURI-SARA/Thermoreflectance/Joanne/CHESS/0130_2023/20mm_per_sec/-10mm_27W_021.raw\n",
      "/Users/chiaentsai/Box/MURI-SARA/Thermoreflectance/Joanne/CHESS/0130_2023/20mm_per_sec/-10mm_27W_022.raw\n",
      "/Users/chiaentsai/Box/MURI-SARA/Thermoreflectance/Joanne/CHESS/0130_2023/20mm_per_sec/-10mm_27W_023.raw\n",
      "/Users/chiaentsai/Box/MURI-SARA/Thermoreflectance/Joanne/CHESS/0130_2023/20mm_per_sec/-10mm_27W_024.raw\n",
      "/Users/chiaentsai/Box/MURI-SARA/Thermoreflectance/Joanne/CHESS/0130_2023/20mm_per_sec/-10mm_27W_025.raw\n",
      "/Users/chiaentsai/Box/MURI-SARA/Thermoreflectance/Joanne/CHESS/0130_2023/20mm_per_sec/-10mm_27W_026.raw\n"
     ]
    },
    {
     "name": "stderr",
     "output_type": "stream",
     "text": [
      "\r",
      " 68%|███████████████████████████▊             | 244/360 [00:05<00:03, 32.37it/s]"
     ]
    },
    {
     "name": "stdout",
     "output_type": "stream",
     "text": [
      "/Users/chiaentsai/Box/MURI-SARA/Thermoreflectance/Joanne/CHESS/0130_2023/20mm_per_sec/-10mm_27W_027.raw\n",
      "/Users/chiaentsai/Box/MURI-SARA/Thermoreflectance/Joanne/CHESS/0130_2023/20mm_per_sec/-10mm_27W_028.raw\n",
      "/Users/chiaentsai/Box/MURI-SARA/Thermoreflectance/Joanne/CHESS/0130_2023/20mm_per_sec/-10mm_27W_029.raw\n"
     ]
    },
    {
     "name": "stderr",
     "output_type": "stream",
     "text": [
      "100%|█████████████████████████████████████████| 360/360 [00:05<00:00, 62.31it/s]\n",
      "  0%|                                                   | 0/360 [00:00<?, ?it/s]"
     ]
    },
    {
     "name": "stdout",
     "output_type": "stream",
     "text": [
      "/Users/chiaentsai/Box/MURI-SARA/Thermoreflectance/Joanne/CHESS/0130_2023/20mm_per_sec/-10mm_29W_000.raw\n"
     ]
    },
    {
     "name": "stderr",
     "output_type": "stream",
     "text": [
      "\r",
      " 67%|██████████████████████████▊             | 241/360 [00:00<00:00, 509.04it/s]"
     ]
    },
    {
     "name": "stdout",
     "output_type": "stream",
     "text": [
      "/Users/chiaentsai/Box/MURI-SARA/Thermoreflectance/Joanne/CHESS/0130_2023/20mm_per_sec/-10mm_29W_001.raw\n",
      "/Users/chiaentsai/Box/MURI-SARA/Thermoreflectance/Joanne/CHESS/0130_2023/20mm_per_sec/-10mm_29W_002.raw\n",
      "/Users/chiaentsai/Box/MURI-SARA/Thermoreflectance/Joanne/CHESS/0130_2023/20mm_per_sec/-10mm_29W_003.raw\n",
      "/Users/chiaentsai/Box/MURI-SARA/Thermoreflectance/Joanne/CHESS/0130_2023/20mm_per_sec/-10mm_29W_004.raw\n",
      "/Users/chiaentsai/Box/MURI-SARA/Thermoreflectance/Joanne/CHESS/0130_2023/20mm_per_sec/-10mm_29W_005.raw\n",
      "/Users/chiaentsai/Box/MURI-SARA/Thermoreflectance/Joanne/CHESS/0130_2023/20mm_per_sec/-10mm_29W_006.raw\n",
      "/Users/chiaentsai/Box/MURI-SARA/Thermoreflectance/Joanne/CHESS/0130_2023/20mm_per_sec/-10mm_29W_007.raw\n",
      "/Users/chiaentsai/Box/MURI-SARA/Thermoreflectance/Joanne/CHESS/0130_2023/20mm_per_sec/-10mm_29W_008.raw\n",
      "/Users/chiaentsai/Box/MURI-SARA/Thermoreflectance/Joanne/CHESS/0130_2023/20mm_per_sec/-10mm_29W_009.raw\n",
      "/Users/chiaentsai/Box/MURI-SARA/Thermoreflectance/Joanne/CHESS/0130_2023/20mm_per_sec/-10mm_29W_010.raw\n",
      "/Users/chiaentsai/Box/MURI-SARA/Thermoreflectance/Joanne/CHESS/0130_2023/20mm_per_sec/-10mm_29W_011.raw\n",
      "/Users/chiaentsai/Box/MURI-SARA/Thermoreflectance/Joanne/CHESS/0130_2023/20mm_per_sec/-10mm_29W_012.raw\n",
      "/Users/chiaentsai/Box/MURI-SARA/Thermoreflectance/Joanne/CHESS/0130_2023/20mm_per_sec/-10mm_29W_013.raw\n",
      "/Users/chiaentsai/Box/MURI-SARA/Thermoreflectance/Joanne/CHESS/0130_2023/20mm_per_sec/-10mm_29W_014.raw\n",
      "/Users/chiaentsai/Box/MURI-SARA/Thermoreflectance/Joanne/CHESS/0130_2023/20mm_per_sec/-10mm_29W_015.raw\n",
      "/Users/chiaentsai/Box/MURI-SARA/Thermoreflectance/Joanne/CHESS/0130_2023/20mm_per_sec/-10mm_29W_016.raw\n",
      "/Users/chiaentsai/Box/MURI-SARA/Thermoreflectance/Joanne/CHESS/0130_2023/20mm_per_sec/-10mm_29W_017.raw\n",
      "/Users/chiaentsai/Box/MURI-SARA/Thermoreflectance/Joanne/CHESS/0130_2023/20mm_per_sec/-10mm_29W_018.raw\n",
      "/Users/chiaentsai/Box/MURI-SARA/Thermoreflectance/Joanne/CHESS/0130_2023/20mm_per_sec/-10mm_29W_019.raw\n",
      "/Users/chiaentsai/Box/MURI-SARA/Thermoreflectance/Joanne/CHESS/0130_2023/20mm_per_sec/-10mm_29W_020.raw\n",
      "/Users/chiaentsai/Box/MURI-SARA/Thermoreflectance/Joanne/CHESS/0130_2023/20mm_per_sec/-10mm_29W_021.raw\n",
      "/Users/chiaentsai/Box/MURI-SARA/Thermoreflectance/Joanne/CHESS/0130_2023/20mm_per_sec/-10mm_29W_022.raw\n",
      "/Users/chiaentsai/Box/MURI-SARA/Thermoreflectance/Joanne/CHESS/0130_2023/20mm_per_sec/-10mm_29W_023.raw\n",
      "/Users/chiaentsai/Box/MURI-SARA/Thermoreflectance/Joanne/CHESS/0130_2023/20mm_per_sec/-10mm_29W_024.raw\n",
      "/Users/chiaentsai/Box/MURI-SARA/Thermoreflectance/Joanne/CHESS/0130_2023/20mm_per_sec/-10mm_29W_025.raw\n",
      "/Users/chiaentsai/Box/MURI-SARA/Thermoreflectance/Joanne/CHESS/0130_2023/20mm_per_sec/-10mm_29W_026.raw\n",
      "/Users/chiaentsai/Box/MURI-SARA/Thermoreflectance/Joanne/CHESS/0130_2023/20mm_per_sec/-10mm_29W_027.raw\n",
      "/Users/chiaentsai/Box/MURI-SARA/Thermoreflectance/Joanne/CHESS/0130_2023/20mm_per_sec/-10mm_29W_028.raw\n",
      "/Users/chiaentsai/Box/MURI-SARA/Thermoreflectance/Joanne/CHESS/0130_2023/20mm_per_sec/-10mm_29W_029.raw\n"
     ]
    },
    {
     "name": "stderr",
     "output_type": "stream",
     "text": [
      "100%|█████████████████████████████████████████| 360/360 [00:06<00:00, 56.51it/s]\n",
      " 75%|█████████████████████████████▎         | 271/360 [00:00<00:00, 2144.33it/s]"
     ]
    },
    {
     "name": "stdout",
     "output_type": "stream",
     "text": [
      "/Users/chiaentsai/Box/MURI-SARA/Thermoreflectance/Joanne/CHESS/0130_2023/20mm_per_sec/-10mm_31W_000.raw\n",
      "/Users/chiaentsai/Box/MURI-SARA/Thermoreflectance/Joanne/CHESS/0130_2023/20mm_per_sec/-10mm_31W_001.raw\n",
      "/Users/chiaentsai/Box/MURI-SARA/Thermoreflectance/Joanne/CHESS/0130_2023/20mm_per_sec/-10mm_31W_002.raw\n",
      "/Users/chiaentsai/Box/MURI-SARA/Thermoreflectance/Joanne/CHESS/0130_2023/20mm_per_sec/-10mm_31W_003.raw\n",
      "/Users/chiaentsai/Box/MURI-SARA/Thermoreflectance/Joanne/CHESS/0130_2023/20mm_per_sec/-10mm_31W_004.raw\n",
      "/Users/chiaentsai/Box/MURI-SARA/Thermoreflectance/Joanne/CHESS/0130_2023/20mm_per_sec/-10mm_31W_005.raw\n",
      "/Users/chiaentsai/Box/MURI-SARA/Thermoreflectance/Joanne/CHESS/0130_2023/20mm_per_sec/-10mm_31W_006.raw\n",
      "/Users/chiaentsai/Box/MURI-SARA/Thermoreflectance/Joanne/CHESS/0130_2023/20mm_per_sec/-10mm_31W_007.raw\n",
      "/Users/chiaentsai/Box/MURI-SARA/Thermoreflectance/Joanne/CHESS/0130_2023/20mm_per_sec/-10mm_31W_008.raw\n",
      "/Users/chiaentsai/Box/MURI-SARA/Thermoreflectance/Joanne/CHESS/0130_2023/20mm_per_sec/-10mm_31W_009.raw\n",
      "/Users/chiaentsai/Box/MURI-SARA/Thermoreflectance/Joanne/CHESS/0130_2023/20mm_per_sec/-10mm_31W_010.raw\n",
      "/Users/chiaentsai/Box/MURI-SARA/Thermoreflectance/Joanne/CHESS/0130_2023/20mm_per_sec/-10mm_31W_011.raw\n",
      "/Users/chiaentsai/Box/MURI-SARA/Thermoreflectance/Joanne/CHESS/0130_2023/20mm_per_sec/-10mm_31W_012.raw\n",
      "/Users/chiaentsai/Box/MURI-SARA/Thermoreflectance/Joanne/CHESS/0130_2023/20mm_per_sec/-10mm_31W_013.raw\n",
      "/Users/chiaentsai/Box/MURI-SARA/Thermoreflectance/Joanne/CHESS/0130_2023/20mm_per_sec/-10mm_31W_014.raw\n",
      "/Users/chiaentsai/Box/MURI-SARA/Thermoreflectance/Joanne/CHESS/0130_2023/20mm_per_sec/-10mm_31W_015.raw\n",
      "/Users/chiaentsai/Box/MURI-SARA/Thermoreflectance/Joanne/CHESS/0130_2023/20mm_per_sec/-10mm_31W_016.raw\n",
      "/Users/chiaentsai/Box/MURI-SARA/Thermoreflectance/Joanne/CHESS/0130_2023/20mm_per_sec/-10mm_31W_017.raw\n",
      "/Users/chiaentsai/Box/MURI-SARA/Thermoreflectance/Joanne/CHESS/0130_2023/20mm_per_sec/-10mm_31W_018.raw\n",
      "/Users/chiaentsai/Box/MURI-SARA/Thermoreflectance/Joanne/CHESS/0130_2023/20mm_per_sec/-10mm_31W_019.raw\n",
      "/Users/chiaentsai/Box/MURI-SARA/Thermoreflectance/Joanne/CHESS/0130_2023/20mm_per_sec/-10mm_31W_020.raw\n",
      "/Users/chiaentsai/Box/MURI-SARA/Thermoreflectance/Joanne/CHESS/0130_2023/20mm_per_sec/-10mm_31W_021.raw\n",
      "/Users/chiaentsai/Box/MURI-SARA/Thermoreflectance/Joanne/CHESS/0130_2023/20mm_per_sec/-10mm_31W_022.raw\n",
      "/Users/chiaentsai/Box/MURI-SARA/Thermoreflectance/Joanne/CHESS/0130_2023/20mm_per_sec/-10mm_31W_023.raw\n",
      "/Users/chiaentsai/Box/MURI-SARA/Thermoreflectance/Joanne/CHESS/0130_2023/20mm_per_sec/-10mm_31W_024.raw\n",
      "/Users/chiaentsai/Box/MURI-SARA/Thermoreflectance/Joanne/CHESS/0130_2023/20mm_per_sec/-10mm_31W_025.raw\n",
      "/Users/chiaentsai/Box/MURI-SARA/Thermoreflectance/Joanne/CHESS/0130_2023/20mm_per_sec/-10mm_31W_026.raw\n",
      "/Users/chiaentsai/Box/MURI-SARA/Thermoreflectance/Joanne/CHESS/0130_2023/20mm_per_sec/-10mm_31W_027.raw\n",
      "/Users/chiaentsai/Box/MURI-SARA/Thermoreflectance/Joanne/CHESS/0130_2023/20mm_per_sec/-10mm_31W_028.raw\n",
      "/Users/chiaentsai/Box/MURI-SARA/Thermoreflectance/Joanne/CHESS/0130_2023/20mm_per_sec/-10mm_31W_029.raw\n"
     ]
    },
    {
     "name": "stderr",
     "output_type": "stream",
     "text": [
      "100%|█████████████████████████████████████████| 360/360 [00:05<00:00, 63.98it/s]\n",
      "  0%|                                                   | 0/360 [00:00<?, ?it/s]"
     ]
    },
    {
     "name": "stdout",
     "output_type": "stream",
     "text": [
      "/Users/chiaentsai/Box/MURI-SARA/Thermoreflectance/Joanne/CHESS/0130_2023/20mm_per_sec/-10mm_33W_000.raw\n",
      "/Users/chiaentsai/Box/MURI-SARA/Thermoreflectance/Joanne/CHESS/0130_2023/20mm_per_sec/-10mm_33W_001.raw\n"
     ]
    },
    {
     "name": "stderr",
     "output_type": "stream",
     "text": [
      "\r",
      " 84%|█████████████████████████████████▌      | 302/360 [00:02<00:00, 105.51it/s]"
     ]
    },
    {
     "name": "stdout",
     "output_type": "stream",
     "text": [
      "/Users/chiaentsai/Box/MURI-SARA/Thermoreflectance/Joanne/CHESS/0130_2023/20mm_per_sec/-10mm_33W_002.raw\n",
      "/Users/chiaentsai/Box/MURI-SARA/Thermoreflectance/Joanne/CHESS/0130_2023/20mm_per_sec/-10mm_33W_003.raw\n",
      "/Users/chiaentsai/Box/MURI-SARA/Thermoreflectance/Joanne/CHESS/0130_2023/20mm_per_sec/-10mm_33W_004.raw\n",
      "/Users/chiaentsai/Box/MURI-SARA/Thermoreflectance/Joanne/CHESS/0130_2023/20mm_per_sec/-10mm_33W_005.raw\n",
      "/Users/chiaentsai/Box/MURI-SARA/Thermoreflectance/Joanne/CHESS/0130_2023/20mm_per_sec/-10mm_33W_006.raw\n",
      "/Users/chiaentsai/Box/MURI-SARA/Thermoreflectance/Joanne/CHESS/0130_2023/20mm_per_sec/-10mm_33W_007.raw\n",
      "/Users/chiaentsai/Box/MURI-SARA/Thermoreflectance/Joanne/CHESS/0130_2023/20mm_per_sec/-10mm_33W_008.raw\n",
      "/Users/chiaentsai/Box/MURI-SARA/Thermoreflectance/Joanne/CHESS/0130_2023/20mm_per_sec/-10mm_33W_009.raw\n",
      "/Users/chiaentsai/Box/MURI-SARA/Thermoreflectance/Joanne/CHESS/0130_2023/20mm_per_sec/-10mm_33W_010.raw\n",
      "/Users/chiaentsai/Box/MURI-SARA/Thermoreflectance/Joanne/CHESS/0130_2023/20mm_per_sec/-10mm_33W_011.raw\n",
      "/Users/chiaentsai/Box/MURI-SARA/Thermoreflectance/Joanne/CHESS/0130_2023/20mm_per_sec/-10mm_33W_012.raw\n"
     ]
    },
    {
     "name": "stderr",
     "output_type": "stream",
     "text": [
      "\r",
      " 87%|███████████████████████████████████▋     | 313/360 [00:04<00:00, 68.10it/s]"
     ]
    },
    {
     "name": "stdout",
     "output_type": "stream",
     "text": [
      "/Users/chiaentsai/Box/MURI-SARA/Thermoreflectance/Joanne/CHESS/0130_2023/20mm_per_sec/-10mm_33W_013.raw\n",
      "/Users/chiaentsai/Box/MURI-SARA/Thermoreflectance/Joanne/CHESS/0130_2023/20mm_per_sec/-10mm_33W_014.raw\n",
      "/Users/chiaentsai/Box/MURI-SARA/Thermoreflectance/Joanne/CHESS/0130_2023/20mm_per_sec/-10mm_33W_015.raw\n"
     ]
    },
    {
     "name": "stderr",
     "output_type": "stream",
     "text": [
      "\r",
      " 88%|████████████████████████████████████▏    | 318/360 [00:04<00:00, 60.97it/s]"
     ]
    },
    {
     "name": "stdout",
     "output_type": "stream",
     "text": [
      "/Users/chiaentsai/Box/MURI-SARA/Thermoreflectance/Joanne/CHESS/0130_2023/20mm_per_sec/-10mm_33W_016.raw\n",
      "/Users/chiaentsai/Box/MURI-SARA/Thermoreflectance/Joanne/CHESS/0130_2023/20mm_per_sec/-10mm_33W_017.raw\n",
      "/Users/chiaentsai/Box/MURI-SARA/Thermoreflectance/Joanne/CHESS/0130_2023/20mm_per_sec/-10mm_33W_018.raw\n",
      "/Users/chiaentsai/Box/MURI-SARA/Thermoreflectance/Joanne/CHESS/0130_2023/20mm_per_sec/-10mm_33W_019.raw\n",
      "/Users/chiaentsai/Box/MURI-SARA/Thermoreflectance/Joanne/CHESS/0130_2023/20mm_per_sec/-10mm_33W_020.raw\n",
      "/Users/chiaentsai/Box/MURI-SARA/Thermoreflectance/Joanne/CHESS/0130_2023/20mm_per_sec/-10mm_33W_021.raw\n"
     ]
    },
    {
     "name": "stderr",
     "output_type": "stream",
     "text": [
      "\r",
      " 89%|████████████████████████████████████▋    | 322/360 [00:04<00:00, 54.68it/s]"
     ]
    },
    {
     "name": "stdout",
     "output_type": "stream",
     "text": [
      "/Users/chiaentsai/Box/MURI-SARA/Thermoreflectance/Joanne/CHESS/0130_2023/20mm_per_sec/-10mm_33W_022.raw\n",
      "/Users/chiaentsai/Box/MURI-SARA/Thermoreflectance/Joanne/CHESS/0130_2023/20mm_per_sec/-10mm_33W_023.raw\n",
      "/Users/chiaentsai/Box/MURI-SARA/Thermoreflectance/Joanne/CHESS/0130_2023/20mm_per_sec/-10mm_33W_024.raw\n"
     ]
    },
    {
     "name": "stderr",
     "output_type": "stream",
     "text": [
      "\r",
      " 90%|█████████████████████████████████████    | 325/360 [00:04<00:00, 49.69it/s]"
     ]
    },
    {
     "name": "stdout",
     "output_type": "stream",
     "text": [
      "/Users/chiaentsai/Box/MURI-SARA/Thermoreflectance/Joanne/CHESS/0130_2023/20mm_per_sec/-10mm_33W_025.raw\n",
      "/Users/chiaentsai/Box/MURI-SARA/Thermoreflectance/Joanne/CHESS/0130_2023/20mm_per_sec/-10mm_33W_026.raw\n",
      "/Users/chiaentsai/Box/MURI-SARA/Thermoreflectance/Joanne/CHESS/0130_2023/20mm_per_sec/-10mm_33W_027.raw\n"
     ]
    },
    {
     "name": "stderr",
     "output_type": "stream",
     "text": [
      "100%|█████████████████████████████████████████| 360/360 [00:05<00:00, 67.61it/s]\n"
     ]
    },
    {
     "name": "stdout",
     "output_type": "stream",
     "text": [
      "/Users/chiaentsai/Box/MURI-SARA/Thermoreflectance/Joanne/CHESS/0130_2023/20mm_per_sec/-10mm_33W_028.raw\n",
      "/Users/chiaentsai/Box/MURI-SARA/Thermoreflectance/Joanne/CHESS/0130_2023/20mm_per_sec/-10mm_33W_029.raw\n"
     ]
    },
    {
     "name": "stderr",
     "output_type": "stream",
     "text": [
      "\r",
      "  0%|                                                   | 0/360 [00:00<?, ?it/s]"
     ]
    },
    {
     "name": "stdout",
     "output_type": "stream",
     "text": [
      "/Users/chiaentsai/Box/MURI-SARA/Thermoreflectance/Joanne/CHESS/0130_2023/20mm_per_sec/-10mm_35W_000.raw\n"
     ]
    },
    {
     "name": "stderr",
     "output_type": "stream",
     "text": [
      "\r",
      " 92%|████████████████████████████████████▊   | 331/360 [00:00<00:00, 708.20it/s]"
     ]
    },
    {
     "name": "stdout",
     "output_type": "stream",
     "text": [
      "/Users/chiaentsai/Box/MURI-SARA/Thermoreflectance/Joanne/CHESS/0130_2023/20mm_per_sec/-10mm_35W_001.raw\n",
      "/Users/chiaentsai/Box/MURI-SARA/Thermoreflectance/Joanne/CHESS/0130_2023/20mm_per_sec/-10mm_35W_002.raw\n",
      "/Users/chiaentsai/Box/MURI-SARA/Thermoreflectance/Joanne/CHESS/0130_2023/20mm_per_sec/-10mm_35W_003.raw\n",
      "/Users/chiaentsai/Box/MURI-SARA/Thermoreflectance/Joanne/CHESS/0130_2023/20mm_per_sec/-10mm_35W_004.raw\n",
      "/Users/chiaentsai/Box/MURI-SARA/Thermoreflectance/Joanne/CHESS/0130_2023/20mm_per_sec/-10mm_35W_005.raw\n",
      "/Users/chiaentsai/Box/MURI-SARA/Thermoreflectance/Joanne/CHESS/0130_2023/20mm_per_sec/-10mm_35W_006.raw\n",
      "/Users/chiaentsai/Box/MURI-SARA/Thermoreflectance/Joanne/CHESS/0130_2023/20mm_per_sec/-10mm_35W_007.raw\n",
      "/Users/chiaentsai/Box/MURI-SARA/Thermoreflectance/Joanne/CHESS/0130_2023/20mm_per_sec/-10mm_35W_008.raw\n",
      "/Users/chiaentsai/Box/MURI-SARA/Thermoreflectance/Joanne/CHESS/0130_2023/20mm_per_sec/-10mm_35W_009.raw\n",
      "/Users/chiaentsai/Box/MURI-SARA/Thermoreflectance/Joanne/CHESS/0130_2023/20mm_per_sec/-10mm_35W_010.raw\n",
      "/Users/chiaentsai/Box/MURI-SARA/Thermoreflectance/Joanne/CHESS/0130_2023/20mm_per_sec/-10mm_35W_011.raw\n",
      "/Users/chiaentsai/Box/MURI-SARA/Thermoreflectance/Joanne/CHESS/0130_2023/20mm_per_sec/-10mm_35W_012.raw\n",
      "/Users/chiaentsai/Box/MURI-SARA/Thermoreflectance/Joanne/CHESS/0130_2023/20mm_per_sec/-10mm_35W_013.raw\n",
      "/Users/chiaentsai/Box/MURI-SARA/Thermoreflectance/Joanne/CHESS/0130_2023/20mm_per_sec/-10mm_35W_014.raw\n",
      "/Users/chiaentsai/Box/MURI-SARA/Thermoreflectance/Joanne/CHESS/0130_2023/20mm_per_sec/-10mm_35W_015.raw\n",
      "/Users/chiaentsai/Box/MURI-SARA/Thermoreflectance/Joanne/CHESS/0130_2023/20mm_per_sec/-10mm_35W_016.raw\n",
      "/Users/chiaentsai/Box/MURI-SARA/Thermoreflectance/Joanne/CHESS/0130_2023/20mm_per_sec/-10mm_35W_017.raw\n",
      "/Users/chiaentsai/Box/MURI-SARA/Thermoreflectance/Joanne/CHESS/0130_2023/20mm_per_sec/-10mm_35W_018.raw\n",
      "/Users/chiaentsai/Box/MURI-SARA/Thermoreflectance/Joanne/CHESS/0130_2023/20mm_per_sec/-10mm_35W_019.raw\n",
      "/Users/chiaentsai/Box/MURI-SARA/Thermoreflectance/Joanne/CHESS/0130_2023/20mm_per_sec/-10mm_35W_020.raw\n",
      "/Users/chiaentsai/Box/MURI-SARA/Thermoreflectance/Joanne/CHESS/0130_2023/20mm_per_sec/-10mm_35W_021.raw\n",
      "/Users/chiaentsai/Box/MURI-SARA/Thermoreflectance/Joanne/CHESS/0130_2023/20mm_per_sec/-10mm_35W_022.raw\n",
      "/Users/chiaentsai/Box/MURI-SARA/Thermoreflectance/Joanne/CHESS/0130_2023/20mm_per_sec/-10mm_35W_023.raw\n",
      "/Users/chiaentsai/Box/MURI-SARA/Thermoreflectance/Joanne/CHESS/0130_2023/20mm_per_sec/-10mm_35W_024.raw\n",
      "/Users/chiaentsai/Box/MURI-SARA/Thermoreflectance/Joanne/CHESS/0130_2023/20mm_per_sec/-10mm_35W_025.raw\n",
      "/Users/chiaentsai/Box/MURI-SARA/Thermoreflectance/Joanne/CHESS/0130_2023/20mm_per_sec/-10mm_35W_026.raw\n",
      "/Users/chiaentsai/Box/MURI-SARA/Thermoreflectance/Joanne/CHESS/0130_2023/20mm_per_sec/-10mm_35W_027.raw\n",
      "/Users/chiaentsai/Box/MURI-SARA/Thermoreflectance/Joanne/CHESS/0130_2023/20mm_per_sec/-10mm_35W_028.raw\n",
      "/Users/chiaentsai/Box/MURI-SARA/Thermoreflectance/Joanne/CHESS/0130_2023/20mm_per_sec/-10mm_35W_029.raw\n"
     ]
    },
    {
     "name": "stderr",
     "output_type": "stream",
     "text": [
      "100%|█████████████████████████████████████████| 360/360 [00:06<00:00, 56.81it/s]\n",
      " 32%|████████████▎                          | 152/480 [00:00<00:00, 1097.50it/s]"
     ]
    },
    {
     "name": "stdout",
     "output_type": "stream",
     "text": [
      "/Users/chiaentsai/Box/MURI-SARA/Thermoreflectance/Joanne/CHESS/0130_2023/234mm_per_sec/-24mm_29W_000.raw\n",
      "/Users/chiaentsai/Box/MURI-SARA/Thermoreflectance/Joanne/CHESS/0130_2023/234mm_per_sec/-24mm_29W_001.raw\n",
      "/Users/chiaentsai/Box/MURI-SARA/Thermoreflectance/Joanne/CHESS/0130_2023/234mm_per_sec/-24mm_29W_002.raw\n",
      "/Users/chiaentsai/Box/MURI-SARA/Thermoreflectance/Joanne/CHESS/0130_2023/234mm_per_sec/-24mm_29W_003.raw\n",
      "/Users/chiaentsai/Box/MURI-SARA/Thermoreflectance/Joanne/CHESS/0130_2023/234mm_per_sec/-24mm_29W_004.raw\n",
      "/Users/chiaentsai/Box/MURI-SARA/Thermoreflectance/Joanne/CHESS/0130_2023/234mm_per_sec/-24mm_29W_005.raw\n",
      "/Users/chiaentsai/Box/MURI-SARA/Thermoreflectance/Joanne/CHESS/0130_2023/234mm_per_sec/-24mm_29W_006.raw\n",
      "/Users/chiaentsai/Box/MURI-SARA/Thermoreflectance/Joanne/CHESS/0130_2023/234mm_per_sec/-24mm_29W_007.raw\n",
      "/Users/chiaentsai/Box/MURI-SARA/Thermoreflectance/Joanne/CHESS/0130_2023/234mm_per_sec/-24mm_29W_008.raw\n",
      "/Users/chiaentsai/Box/MURI-SARA/Thermoreflectance/Joanne/CHESS/0130_2023/234mm_per_sec/-24mm_29W_009.raw\n",
      "/Users/chiaentsai/Box/MURI-SARA/Thermoreflectance/Joanne/CHESS/0130_2023/234mm_per_sec/-24mm_29W_010.raw\n",
      "/Users/chiaentsai/Box/MURI-SARA/Thermoreflectance/Joanne/CHESS/0130_2023/234mm_per_sec/-24mm_29W_011.raw\n",
      "/Users/chiaentsai/Box/MURI-SARA/Thermoreflectance/Joanne/CHESS/0130_2023/234mm_per_sec/-24mm_29W_012.raw\n",
      "/Users/chiaentsai/Box/MURI-SARA/Thermoreflectance/Joanne/CHESS/0130_2023/234mm_per_sec/-24mm_29W_013.raw\n",
      "/Users/chiaentsai/Box/MURI-SARA/Thermoreflectance/Joanne/CHESS/0130_2023/234mm_per_sec/-24mm_29W_014.raw\n",
      "/Users/chiaentsai/Box/MURI-SARA/Thermoreflectance/Joanne/CHESS/0130_2023/234mm_per_sec/-24mm_29W_015.raw\n",
      "/Users/chiaentsai/Box/MURI-SARA/Thermoreflectance/Joanne/CHESS/0130_2023/234mm_per_sec/-24mm_29W_016.raw\n",
      "/Users/chiaentsai/Box/MURI-SARA/Thermoreflectance/Joanne/CHESS/0130_2023/234mm_per_sec/-24mm_29W_017.raw\n",
      "/Users/chiaentsai/Box/MURI-SARA/Thermoreflectance/Joanne/CHESS/0130_2023/234mm_per_sec/-24mm_29W_018.raw\n",
      "/Users/chiaentsai/Box/MURI-SARA/Thermoreflectance/Joanne/CHESS/0130_2023/234mm_per_sec/-24mm_29W_019.raw\n",
      "/Users/chiaentsai/Box/MURI-SARA/Thermoreflectance/Joanne/CHESS/0130_2023/234mm_per_sec/-24mm_29W_020.raw\n",
      "/Users/chiaentsai/Box/MURI-SARA/Thermoreflectance/Joanne/CHESS/0130_2023/234mm_per_sec/-24mm_29W_021.raw\n",
      "/Users/chiaentsai/Box/MURI-SARA/Thermoreflectance/Joanne/CHESS/0130_2023/234mm_per_sec/-24mm_29W_022.raw\n",
      "/Users/chiaentsai/Box/MURI-SARA/Thermoreflectance/Joanne/CHESS/0130_2023/234mm_per_sec/-24mm_29W_023.raw\n",
      "/Users/chiaentsai/Box/MURI-SARA/Thermoreflectance/Joanne/CHESS/0130_2023/234mm_per_sec/-24mm_29W_024.raw\n",
      "/Users/chiaentsai/Box/MURI-SARA/Thermoreflectance/Joanne/CHESS/0130_2023/234mm_per_sec/-24mm_29W_025.raw\n",
      "/Users/chiaentsai/Box/MURI-SARA/Thermoreflectance/Joanne/CHESS/0130_2023/234mm_per_sec/-24mm_29W_026.raw\n",
      "/Users/chiaentsai/Box/MURI-SARA/Thermoreflectance/Joanne/CHESS/0130_2023/234mm_per_sec/-24mm_29W_027.raw\n",
      "/Users/chiaentsai/Box/MURI-SARA/Thermoreflectance/Joanne/CHESS/0130_2023/234mm_per_sec/-24mm_29W_028.raw\n",
      "/Users/chiaentsai/Box/MURI-SARA/Thermoreflectance/Joanne/CHESS/0130_2023/234mm_per_sec/-24mm_29W_029.raw\n"
     ]
    },
    {
     "name": "stderr",
     "output_type": "stream",
     "text": [
      "100%|█████████████████████████████████████████| 480/480 [00:17<00:00, 27.12it/s]\n",
      " 38%|██████████████▊                        | 182/480 [00:00<00:00, 1109.92it/s]"
     ]
    },
    {
     "name": "stdout",
     "output_type": "stream",
     "text": [
      "/Users/chiaentsai/Box/MURI-SARA/Thermoreflectance/Joanne/CHESS/0130_2023/234mm_per_sec/-24mm_31W_000.raw\n",
      "/Users/chiaentsai/Box/MURI-SARA/Thermoreflectance/Joanne/CHESS/0130_2023/234mm_per_sec/-24mm_31W_001.raw\n",
      "/Users/chiaentsai/Box/MURI-SARA/Thermoreflectance/Joanne/CHESS/0130_2023/234mm_per_sec/-24mm_31W_002.raw\n",
      "/Users/chiaentsai/Box/MURI-SARA/Thermoreflectance/Joanne/CHESS/0130_2023/234mm_per_sec/-24mm_31W_003.raw\n",
      "/Users/chiaentsai/Box/MURI-SARA/Thermoreflectance/Joanne/CHESS/0130_2023/234mm_per_sec/-24mm_31W_004.raw\n",
      "/Users/chiaentsai/Box/MURI-SARA/Thermoreflectance/Joanne/CHESS/0130_2023/234mm_per_sec/-24mm_31W_005.raw\n",
      "/Users/chiaentsai/Box/MURI-SARA/Thermoreflectance/Joanne/CHESS/0130_2023/234mm_per_sec/-24mm_31W_006.raw\n",
      "/Users/chiaentsai/Box/MURI-SARA/Thermoreflectance/Joanne/CHESS/0130_2023/234mm_per_sec/-24mm_31W_007.raw\n",
      "/Users/chiaentsai/Box/MURI-SARA/Thermoreflectance/Joanne/CHESS/0130_2023/234mm_per_sec/-24mm_31W_008.raw\n",
      "/Users/chiaentsai/Box/MURI-SARA/Thermoreflectance/Joanne/CHESS/0130_2023/234mm_per_sec/-24mm_31W_009.raw\n",
      "/Users/chiaentsai/Box/MURI-SARA/Thermoreflectance/Joanne/CHESS/0130_2023/234mm_per_sec/-24mm_31W_010.raw\n",
      "/Users/chiaentsai/Box/MURI-SARA/Thermoreflectance/Joanne/CHESS/0130_2023/234mm_per_sec/-24mm_31W_011.raw\n",
      "/Users/chiaentsai/Box/MURI-SARA/Thermoreflectance/Joanne/CHESS/0130_2023/234mm_per_sec/-24mm_31W_012.raw\n",
      "/Users/chiaentsai/Box/MURI-SARA/Thermoreflectance/Joanne/CHESS/0130_2023/234mm_per_sec/-24mm_31W_013.raw\n",
      "/Users/chiaentsai/Box/MURI-SARA/Thermoreflectance/Joanne/CHESS/0130_2023/234mm_per_sec/-24mm_31W_014.raw\n",
      "/Users/chiaentsai/Box/MURI-SARA/Thermoreflectance/Joanne/CHESS/0130_2023/234mm_per_sec/-24mm_31W_015.raw\n",
      "/Users/chiaentsai/Box/MURI-SARA/Thermoreflectance/Joanne/CHESS/0130_2023/234mm_per_sec/-24mm_31W_016.raw\n",
      "/Users/chiaentsai/Box/MURI-SARA/Thermoreflectance/Joanne/CHESS/0130_2023/234mm_per_sec/-24mm_31W_017.raw\n",
      "/Users/chiaentsai/Box/MURI-SARA/Thermoreflectance/Joanne/CHESS/0130_2023/234mm_per_sec/-24mm_31W_018.raw\n"
     ]
    },
    {
     "name": "stderr",
     "output_type": "stream",
     "text": [
      " 41%|████████████████▉                        | 199/480 [00:11<00:22, 12.30it/s]"
     ]
    },
    {
     "name": "stdout",
     "output_type": "stream",
     "text": [
      "/Users/chiaentsai/Box/MURI-SARA/Thermoreflectance/Joanne/CHESS/0130_2023/234mm_per_sec/-24mm_31W_019.raw\n"
     ]
    },
    {
     "name": "stderr",
     "output_type": "stream",
     "text": [
      "\r",
      " 42%|█████████████████                        | 200/480 [00:12<00:25, 11.20it/s]"
     ]
    },
    {
     "name": "stdout",
     "output_type": "stream",
     "text": [
      "/Users/chiaentsai/Box/MURI-SARA/Thermoreflectance/Joanne/CHESS/0130_2023/234mm_per_sec/-24mm_31W_020.raw\n",
      "/Users/chiaentsai/Box/MURI-SARA/Thermoreflectance/Joanne/CHESS/0130_2023/234mm_per_sec/-24mm_31W_021.raw\n",
      "/Users/chiaentsai/Box/MURI-SARA/Thermoreflectance/Joanne/CHESS/0130_2023/234mm_per_sec/-24mm_31W_022.raw\n",
      "/Users/chiaentsai/Box/MURI-SARA/Thermoreflectance/Joanne/CHESS/0130_2023/234mm_per_sec/-24mm_31W_023.raw\n",
      "/Users/chiaentsai/Box/MURI-SARA/Thermoreflectance/Joanne/CHESS/0130_2023/234mm_per_sec/-24mm_31W_024.raw\n",
      "/Users/chiaentsai/Box/MURI-SARA/Thermoreflectance/Joanne/CHESS/0130_2023/234mm_per_sec/-24mm_31W_025.raw\n",
      "/Users/chiaentsai/Box/MURI-SARA/Thermoreflectance/Joanne/CHESS/0130_2023/234mm_per_sec/-24mm_31W_026.raw\n",
      "/Users/chiaentsai/Box/MURI-SARA/Thermoreflectance/Joanne/CHESS/0130_2023/234mm_per_sec/-24mm_31W_027.raw\n",
      "/Users/chiaentsai/Box/MURI-SARA/Thermoreflectance/Joanne/CHESS/0130_2023/234mm_per_sec/-24mm_31W_028.raw\n",
      "/Users/chiaentsai/Box/MURI-SARA/Thermoreflectance/Joanne/CHESS/0130_2023/234mm_per_sec/-24mm_31W_029.raw\n"
     ]
    },
    {
     "name": "stderr",
     "output_type": "stream",
     "text": [
      "100%|█████████████████████████████████████████| 480/480 [00:20<00:00, 22.92it/s]\n",
      "  0%|                                                   | 0/480 [00:00<?, ?it/s]"
     ]
    },
    {
     "name": "stdout",
     "output_type": "stream",
     "text": [
      "/Users/chiaentsai/Box/MURI-SARA/Thermoreflectance/Joanne/CHESS/0130_2023/234mm_per_sec/-24mm_33W_000.raw\n"
     ]
    },
    {
     "name": "stderr",
     "output_type": "stream",
     "text": [
      "\r",
      " 44%|█████████████████▌                      | 211/480 [00:00<00:00, 820.11it/s]"
     ]
    },
    {
     "name": "stdout",
     "output_type": "stream",
     "text": [
      "/Users/chiaentsai/Box/MURI-SARA/Thermoreflectance/Joanne/CHESS/0130_2023/234mm_per_sec/-24mm_33W_001.raw\n",
      "/Users/chiaentsai/Box/MURI-SARA/Thermoreflectance/Joanne/CHESS/0130_2023/234mm_per_sec/-24mm_33W_002.raw\n",
      "/Users/chiaentsai/Box/MURI-SARA/Thermoreflectance/Joanne/CHESS/0130_2023/234mm_per_sec/-24mm_33W_003.raw\n",
      "/Users/chiaentsai/Box/MURI-SARA/Thermoreflectance/Joanne/CHESS/0130_2023/234mm_per_sec/-24mm_33W_004.raw\n",
      "/Users/chiaentsai/Box/MURI-SARA/Thermoreflectance/Joanne/CHESS/0130_2023/234mm_per_sec/-24mm_33W_005.raw\n",
      "/Users/chiaentsai/Box/MURI-SARA/Thermoreflectance/Joanne/CHESS/0130_2023/234mm_per_sec/-24mm_33W_006.raw\n",
      "/Users/chiaentsai/Box/MURI-SARA/Thermoreflectance/Joanne/CHESS/0130_2023/234mm_per_sec/-24mm_33W_007.raw\n",
      "/Users/chiaentsai/Box/MURI-SARA/Thermoreflectance/Joanne/CHESS/0130_2023/234mm_per_sec/-24mm_33W_008.raw\n",
      "/Users/chiaentsai/Box/MURI-SARA/Thermoreflectance/Joanne/CHESS/0130_2023/234mm_per_sec/-24mm_33W_009.raw\n",
      "/Users/chiaentsai/Box/MURI-SARA/Thermoreflectance/Joanne/CHESS/0130_2023/234mm_per_sec/-24mm_33W_010.raw\n",
      "/Users/chiaentsai/Box/MURI-SARA/Thermoreflectance/Joanne/CHESS/0130_2023/234mm_per_sec/-24mm_33W_011.raw\n",
      "/Users/chiaentsai/Box/MURI-SARA/Thermoreflectance/Joanne/CHESS/0130_2023/234mm_per_sec/-24mm_33W_012.raw\n",
      "/Users/chiaentsai/Box/MURI-SARA/Thermoreflectance/Joanne/CHESS/0130_2023/234mm_per_sec/-24mm_33W_013.raw\n",
      "/Users/chiaentsai/Box/MURI-SARA/Thermoreflectance/Joanne/CHESS/0130_2023/234mm_per_sec/-24mm_33W_014.raw\n",
      "/Users/chiaentsai/Box/MURI-SARA/Thermoreflectance/Joanne/CHESS/0130_2023/234mm_per_sec/-24mm_33W_015.raw\n",
      "/Users/chiaentsai/Box/MURI-SARA/Thermoreflectance/Joanne/CHESS/0130_2023/234mm_per_sec/-24mm_33W_016.raw\n",
      "/Users/chiaentsai/Box/MURI-SARA/Thermoreflectance/Joanne/CHESS/0130_2023/234mm_per_sec/-24mm_33W_017.raw\n",
      "/Users/chiaentsai/Box/MURI-SARA/Thermoreflectance/Joanne/CHESS/0130_2023/234mm_per_sec/-24mm_33W_018.raw\n",
      "/Users/chiaentsai/Box/MURI-SARA/Thermoreflectance/Joanne/CHESS/0130_2023/234mm_per_sec/-24mm_33W_019.raw\n",
      "/Users/chiaentsai/Box/MURI-SARA/Thermoreflectance/Joanne/CHESS/0130_2023/234mm_per_sec/-24mm_33W_020.raw\n",
      "/Users/chiaentsai/Box/MURI-SARA/Thermoreflectance/Joanne/CHESS/0130_2023/234mm_per_sec/-24mm_33W_021.raw\n",
      "/Users/chiaentsai/Box/MURI-SARA/Thermoreflectance/Joanne/CHESS/0130_2023/234mm_per_sec/-24mm_33W_022.raw\n",
      "/Users/chiaentsai/Box/MURI-SARA/Thermoreflectance/Joanne/CHESS/0130_2023/234mm_per_sec/-24mm_33W_023.raw\n",
      "/Users/chiaentsai/Box/MURI-SARA/Thermoreflectance/Joanne/CHESS/0130_2023/234mm_per_sec/-24mm_33W_024.raw\n"
     ]
    },
    {
     "name": "stderr",
     "output_type": "stream",
     "text": [
      " 49%|████████████████████                     | 235/480 [00:11<00:16, 15.23it/s]"
     ]
    },
    {
     "name": "stdout",
     "output_type": "stream",
     "text": [
      "/Users/chiaentsai/Box/MURI-SARA/Thermoreflectance/Joanne/CHESS/0130_2023/234mm_per_sec/-24mm_33W_025.raw\n"
     ]
    },
    {
     "name": "stderr",
     "output_type": "stream",
     "text": [
      "\r",
      " 49%|████████████████████▏                    | 236/480 [00:11<00:17, 14.31it/s]"
     ]
    },
    {
     "name": "stdout",
     "output_type": "stream",
     "text": [
      "/Users/chiaentsai/Box/MURI-SARA/Thermoreflectance/Joanne/CHESS/0130_2023/234mm_per_sec/-24mm_33W_026.raw\n",
      "/Users/chiaentsai/Box/MURI-SARA/Thermoreflectance/Joanne/CHESS/0130_2023/234mm_per_sec/-24mm_33W_027.raw\n",
      "/Users/chiaentsai/Box/MURI-SARA/Thermoreflectance/Joanne/CHESS/0130_2023/234mm_per_sec/-24mm_33W_028.raw\n",
      "/Users/chiaentsai/Box/MURI-SARA/Thermoreflectance/Joanne/CHESS/0130_2023/234mm_per_sec/-24mm_33W_029.raw\n"
     ]
    },
    {
     "name": "stderr",
     "output_type": "stream",
     "text": [
      "100%|█████████████████████████████████████████| 480/480 [00:14<00:00, 32.86it/s]\n",
      " 50%|███████████████████▌                   | 241/480 [00:00<00:00, 1989.30it/s]"
     ]
    },
    {
     "name": "stdout",
     "output_type": "stream",
     "text": [
      "/Users/chiaentsai/Box/MURI-SARA/Thermoreflectance/Joanne/CHESS/0130_2023/234mm_per_sec/-24mm_35W_000.raw\n",
      "/Users/chiaentsai/Box/MURI-SARA/Thermoreflectance/Joanne/CHESS/0130_2023/234mm_per_sec/-24mm_35W_001.raw\n",
      "/Users/chiaentsai/Box/MURI-SARA/Thermoreflectance/Joanne/CHESS/0130_2023/234mm_per_sec/-24mm_35W_002.raw\n",
      "/Users/chiaentsai/Box/MURI-SARA/Thermoreflectance/Joanne/CHESS/0130_2023/234mm_per_sec/-24mm_35W_003.raw\n",
      "/Users/chiaentsai/Box/MURI-SARA/Thermoreflectance/Joanne/CHESS/0130_2023/234mm_per_sec/-24mm_35W_004.raw\n",
      "/Users/chiaentsai/Box/MURI-SARA/Thermoreflectance/Joanne/CHESS/0130_2023/234mm_per_sec/-24mm_35W_005.raw\n",
      "/Users/chiaentsai/Box/MURI-SARA/Thermoreflectance/Joanne/CHESS/0130_2023/234mm_per_sec/-24mm_35W_006.raw\n",
      "/Users/chiaentsai/Box/MURI-SARA/Thermoreflectance/Joanne/CHESS/0130_2023/234mm_per_sec/-24mm_35W_007.raw\n",
      "/Users/chiaentsai/Box/MURI-SARA/Thermoreflectance/Joanne/CHESS/0130_2023/234mm_per_sec/-24mm_35W_008.raw\n",
      "/Users/chiaentsai/Box/MURI-SARA/Thermoreflectance/Joanne/CHESS/0130_2023/234mm_per_sec/-24mm_35W_009.raw\n",
      "/Users/chiaentsai/Box/MURI-SARA/Thermoreflectance/Joanne/CHESS/0130_2023/234mm_per_sec/-24mm_35W_010.raw\n",
      "/Users/chiaentsai/Box/MURI-SARA/Thermoreflectance/Joanne/CHESS/0130_2023/234mm_per_sec/-24mm_35W_011.raw\n",
      "/Users/chiaentsai/Box/MURI-SARA/Thermoreflectance/Joanne/CHESS/0130_2023/234mm_per_sec/-24mm_35W_012.raw\n",
      "/Users/chiaentsai/Box/MURI-SARA/Thermoreflectance/Joanne/CHESS/0130_2023/234mm_per_sec/-24mm_35W_013.raw\n",
      "/Users/chiaentsai/Box/MURI-SARA/Thermoreflectance/Joanne/CHESS/0130_2023/234mm_per_sec/-24mm_35W_014.raw\n",
      "/Users/chiaentsai/Box/MURI-SARA/Thermoreflectance/Joanne/CHESS/0130_2023/234mm_per_sec/-24mm_35W_015.raw\n",
      "/Users/chiaentsai/Box/MURI-SARA/Thermoreflectance/Joanne/CHESS/0130_2023/234mm_per_sec/-24mm_35W_016.raw\n",
      "/Users/chiaentsai/Box/MURI-SARA/Thermoreflectance/Joanne/CHESS/0130_2023/234mm_per_sec/-24mm_35W_017.raw\n",
      "/Users/chiaentsai/Box/MURI-SARA/Thermoreflectance/Joanne/CHESS/0130_2023/234mm_per_sec/-24mm_35W_018.raw\n",
      "/Users/chiaentsai/Box/MURI-SARA/Thermoreflectance/Joanne/CHESS/0130_2023/234mm_per_sec/-24mm_35W_019.raw\n",
      "/Users/chiaentsai/Box/MURI-SARA/Thermoreflectance/Joanne/CHESS/0130_2023/234mm_per_sec/-24mm_35W_020.raw\n",
      "/Users/chiaentsai/Box/MURI-SARA/Thermoreflectance/Joanne/CHESS/0130_2023/234mm_per_sec/-24mm_35W_021.raw\n",
      "/Users/chiaentsai/Box/MURI-SARA/Thermoreflectance/Joanne/CHESS/0130_2023/234mm_per_sec/-24mm_35W_022.raw\n",
      "/Users/chiaentsai/Box/MURI-SARA/Thermoreflectance/Joanne/CHESS/0130_2023/234mm_per_sec/-24mm_35W_023.raw\n",
      "/Users/chiaentsai/Box/MURI-SARA/Thermoreflectance/Joanne/CHESS/0130_2023/234mm_per_sec/-24mm_35W_024.raw\n",
      "/Users/chiaentsai/Box/MURI-SARA/Thermoreflectance/Joanne/CHESS/0130_2023/234mm_per_sec/-24mm_35W_025.raw\n",
      "/Users/chiaentsai/Box/MURI-SARA/Thermoreflectance/Joanne/CHESS/0130_2023/234mm_per_sec/-24mm_35W_026.raw\n",
      "/Users/chiaentsai/Box/MURI-SARA/Thermoreflectance/Joanne/CHESS/0130_2023/234mm_per_sec/-24mm_35W_027.raw\n"
     ]
    },
    {
     "name": "stderr",
     "output_type": "stream",
     "text": [
      " 56%|██████████████████████▉                  | 268/480 [00:16<00:17, 12.00it/s]"
     ]
    },
    {
     "name": "stdout",
     "output_type": "stream",
     "text": [
      "/Users/chiaentsai/Box/MURI-SARA/Thermoreflectance/Joanne/CHESS/0130_2023/234mm_per_sec/-24mm_35W_028.raw\n"
     ]
    },
    {
     "name": "stderr",
     "output_type": "stream",
     "text": [
      "\r",
      " 56%|██████████████████████▉                  | 269/480 [00:17<00:18, 11.34it/s]"
     ]
    },
    {
     "name": "stdout",
     "output_type": "stream",
     "text": [
      "/Users/chiaentsai/Box/MURI-SARA/Thermoreflectance/Joanne/CHESS/0130_2023/234mm_per_sec/-24mm_35W_029.raw\n"
     ]
    },
    {
     "name": "stderr",
     "output_type": "stream",
     "text": [
      "100%|█████████████████████████████████████████| 480/480 [00:18<00:00, 26.30it/s]\n",
      " 57%|██████████████████████                 | 272/480 [00:00<00:00, 1752.36it/s]"
     ]
    },
    {
     "name": "stdout",
     "output_type": "stream",
     "text": [
      "/Users/chiaentsai/Box/MURI-SARA/Thermoreflectance/Joanne/CHESS/0130_2023/234mm_per_sec/-24mm_37W_000.raw\n",
      "/Users/chiaentsai/Box/MURI-SARA/Thermoreflectance/Joanne/CHESS/0130_2023/234mm_per_sec/-24mm_37W_001.raw\n",
      "/Users/chiaentsai/Box/MURI-SARA/Thermoreflectance/Joanne/CHESS/0130_2023/234mm_per_sec/-24mm_37W_002.raw\n",
      "/Users/chiaentsai/Box/MURI-SARA/Thermoreflectance/Joanne/CHESS/0130_2023/234mm_per_sec/-24mm_37W_003.raw\n",
      "/Users/chiaentsai/Box/MURI-SARA/Thermoreflectance/Joanne/CHESS/0130_2023/234mm_per_sec/-24mm_37W_004.raw\n",
      "/Users/chiaentsai/Box/MURI-SARA/Thermoreflectance/Joanne/CHESS/0130_2023/234mm_per_sec/-24mm_37W_005.raw\n",
      "/Users/chiaentsai/Box/MURI-SARA/Thermoreflectance/Joanne/CHESS/0130_2023/234mm_per_sec/-24mm_37W_006.raw\n",
      "/Users/chiaentsai/Box/MURI-SARA/Thermoreflectance/Joanne/CHESS/0130_2023/234mm_per_sec/-24mm_37W_007.raw\n",
      "/Users/chiaentsai/Box/MURI-SARA/Thermoreflectance/Joanne/CHESS/0130_2023/234mm_per_sec/-24mm_37W_008.raw\n",
      "/Users/chiaentsai/Box/MURI-SARA/Thermoreflectance/Joanne/CHESS/0130_2023/234mm_per_sec/-24mm_37W_009.raw\n",
      "/Users/chiaentsai/Box/MURI-SARA/Thermoreflectance/Joanne/CHESS/0130_2023/234mm_per_sec/-24mm_37W_010.raw\n",
      "/Users/chiaentsai/Box/MURI-SARA/Thermoreflectance/Joanne/CHESS/0130_2023/234mm_per_sec/-24mm_37W_011.raw\n",
      "/Users/chiaentsai/Box/MURI-SARA/Thermoreflectance/Joanne/CHESS/0130_2023/234mm_per_sec/-24mm_37W_012.raw\n",
      "/Users/chiaentsai/Box/MURI-SARA/Thermoreflectance/Joanne/CHESS/0130_2023/234mm_per_sec/-24mm_37W_013.raw\n",
      "/Users/chiaentsai/Box/MURI-SARA/Thermoreflectance/Joanne/CHESS/0130_2023/234mm_per_sec/-24mm_37W_014.raw\n",
      "/Users/chiaentsai/Box/MURI-SARA/Thermoreflectance/Joanne/CHESS/0130_2023/234mm_per_sec/-24mm_37W_015.raw\n",
      "/Users/chiaentsai/Box/MURI-SARA/Thermoreflectance/Joanne/CHESS/0130_2023/234mm_per_sec/-24mm_37W_016.raw\n",
      "/Users/chiaentsai/Box/MURI-SARA/Thermoreflectance/Joanne/CHESS/0130_2023/234mm_per_sec/-24mm_37W_017.raw\n",
      "/Users/chiaentsai/Box/MURI-SARA/Thermoreflectance/Joanne/CHESS/0130_2023/234mm_per_sec/-24mm_37W_018.raw\n",
      "/Users/chiaentsai/Box/MURI-SARA/Thermoreflectance/Joanne/CHESS/0130_2023/234mm_per_sec/-24mm_37W_019.raw\n",
      "/Users/chiaentsai/Box/MURI-SARA/Thermoreflectance/Joanne/CHESS/0130_2023/234mm_per_sec/-24mm_37W_020.raw\n",
      "/Users/chiaentsai/Box/MURI-SARA/Thermoreflectance/Joanne/CHESS/0130_2023/234mm_per_sec/-24mm_37W_021.raw\n",
      "/Users/chiaentsai/Box/MURI-SARA/Thermoreflectance/Joanne/CHESS/0130_2023/234mm_per_sec/-24mm_37W_022.raw\n",
      "/Users/chiaentsai/Box/MURI-SARA/Thermoreflectance/Joanne/CHESS/0130_2023/234mm_per_sec/-24mm_37W_023.raw\n",
      "/Users/chiaentsai/Box/MURI-SARA/Thermoreflectance/Joanne/CHESS/0130_2023/234mm_per_sec/-24mm_37W_024.raw\n",
      "/Users/chiaentsai/Box/MURI-SARA/Thermoreflectance/Joanne/CHESS/0130_2023/234mm_per_sec/-24mm_37W_025.raw\n",
      "/Users/chiaentsai/Box/MURI-SARA/Thermoreflectance/Joanne/CHESS/0130_2023/234mm_per_sec/-24mm_37W_026.raw\n",
      "/Users/chiaentsai/Box/MURI-SARA/Thermoreflectance/Joanne/CHESS/0130_2023/234mm_per_sec/-24mm_37W_027.raw\n",
      "/Users/chiaentsai/Box/MURI-SARA/Thermoreflectance/Joanne/CHESS/0130_2023/234mm_per_sec/-24mm_37W_028.raw\n"
     ]
    },
    {
     "name": "stderr",
     "output_type": "stream",
     "text": [
      "\r",
      " 57%|██████████████████████                 | 272/480 [00:17<00:00, 1752.36it/s]"
     ]
    },
    {
     "name": "stdout",
     "output_type": "stream",
     "text": [
      "/Users/chiaentsai/Box/MURI-SARA/Thermoreflectance/Joanne/CHESS/0130_2023/234mm_per_sec/-24mm_37W_029.raw\n"
     ]
    },
    {
     "name": "stderr",
     "output_type": "stream",
     "text": [
      "100%|█████████████████████████████████████████| 480/480 [00:18<00:00, 26.34it/s]\n",
      "  0%|                                                   | 0/480 [00:00<?, ?it/s]"
     ]
    },
    {
     "name": "stdout",
     "output_type": "stream",
     "text": [
      "/Users/chiaentsai/Box/MURI-SARA/Thermoreflectance/Joanne/CHESS/0130_2023/234mm_per_sec/-24mm_39W_000.raw\n"
     ]
    },
    {
     "name": "stderr",
     "output_type": "stream",
     "text": [
      "\r",
      " 63%|█████████████████████████               | 301/480 [00:00<00:00, 981.69it/s]"
     ]
    },
    {
     "name": "stdout",
     "output_type": "stream",
     "text": [
      "/Users/chiaentsai/Box/MURI-SARA/Thermoreflectance/Joanne/CHESS/0130_2023/234mm_per_sec/-24mm_39W_001.raw\n",
      "/Users/chiaentsai/Box/MURI-SARA/Thermoreflectance/Joanne/CHESS/0130_2023/234mm_per_sec/-24mm_39W_002.raw\n",
      "/Users/chiaentsai/Box/MURI-SARA/Thermoreflectance/Joanne/CHESS/0130_2023/234mm_per_sec/-24mm_39W_003.raw\n",
      "/Users/chiaentsai/Box/MURI-SARA/Thermoreflectance/Joanne/CHESS/0130_2023/234mm_per_sec/-24mm_39W_004.raw\n",
      "/Users/chiaentsai/Box/MURI-SARA/Thermoreflectance/Joanne/CHESS/0130_2023/234mm_per_sec/-24mm_39W_005.raw\n",
      "/Users/chiaentsai/Box/MURI-SARA/Thermoreflectance/Joanne/CHESS/0130_2023/234mm_per_sec/-24mm_39W_006.raw\n",
      "/Users/chiaentsai/Box/MURI-SARA/Thermoreflectance/Joanne/CHESS/0130_2023/234mm_per_sec/-24mm_39W_007.raw\n",
      "/Users/chiaentsai/Box/MURI-SARA/Thermoreflectance/Joanne/CHESS/0130_2023/234mm_per_sec/-24mm_39W_008.raw\n",
      "/Users/chiaentsai/Box/MURI-SARA/Thermoreflectance/Joanne/CHESS/0130_2023/234mm_per_sec/-24mm_39W_009.raw\n",
      "/Users/chiaentsai/Box/MURI-SARA/Thermoreflectance/Joanne/CHESS/0130_2023/234mm_per_sec/-24mm_39W_010.raw\n",
      "/Users/chiaentsai/Box/MURI-SARA/Thermoreflectance/Joanne/CHESS/0130_2023/234mm_per_sec/-24mm_39W_011.raw\n",
      "/Users/chiaentsai/Box/MURI-SARA/Thermoreflectance/Joanne/CHESS/0130_2023/234mm_per_sec/-24mm_39W_012.raw\n",
      "/Users/chiaentsai/Box/MURI-SARA/Thermoreflectance/Joanne/CHESS/0130_2023/234mm_per_sec/-24mm_39W_013.raw\n",
      "/Users/chiaentsai/Box/MURI-SARA/Thermoreflectance/Joanne/CHESS/0130_2023/234mm_per_sec/-24mm_39W_014.raw\n",
      "/Users/chiaentsai/Box/MURI-SARA/Thermoreflectance/Joanne/CHESS/0130_2023/234mm_per_sec/-24mm_39W_015.raw\n",
      "/Users/chiaentsai/Box/MURI-SARA/Thermoreflectance/Joanne/CHESS/0130_2023/234mm_per_sec/-24mm_39W_016.raw\n",
      "/Users/chiaentsai/Box/MURI-SARA/Thermoreflectance/Joanne/CHESS/0130_2023/234mm_per_sec/-24mm_39W_017.raw\n",
      "/Users/chiaentsai/Box/MURI-SARA/Thermoreflectance/Joanne/CHESS/0130_2023/234mm_per_sec/-24mm_39W_018.raw\n",
      "/Users/chiaentsai/Box/MURI-SARA/Thermoreflectance/Joanne/CHESS/0130_2023/234mm_per_sec/-24mm_39W_019.raw\n",
      "/Users/chiaentsai/Box/MURI-SARA/Thermoreflectance/Joanne/CHESS/0130_2023/234mm_per_sec/-24mm_39W_020.raw\n",
      "/Users/chiaentsai/Box/MURI-SARA/Thermoreflectance/Joanne/CHESS/0130_2023/234mm_per_sec/-24mm_39W_021.raw\n",
      "/Users/chiaentsai/Box/MURI-SARA/Thermoreflectance/Joanne/CHESS/0130_2023/234mm_per_sec/-24mm_39W_022.raw\n",
      "/Users/chiaentsai/Box/MURI-SARA/Thermoreflectance/Joanne/CHESS/0130_2023/234mm_per_sec/-24mm_39W_023.raw\n",
      "/Users/chiaentsai/Box/MURI-SARA/Thermoreflectance/Joanne/CHESS/0130_2023/234mm_per_sec/-24mm_39W_024.raw\n",
      "/Users/chiaentsai/Box/MURI-SARA/Thermoreflectance/Joanne/CHESS/0130_2023/234mm_per_sec/-24mm_39W_025.raw\n",
      "/Users/chiaentsai/Box/MURI-SARA/Thermoreflectance/Joanne/CHESS/0130_2023/234mm_per_sec/-24mm_39W_026.raw\n",
      "/Users/chiaentsai/Box/MURI-SARA/Thermoreflectance/Joanne/CHESS/0130_2023/234mm_per_sec/-24mm_39W_027.raw\n",
      "/Users/chiaentsai/Box/MURI-SARA/Thermoreflectance/Joanne/CHESS/0130_2023/234mm_per_sec/-24mm_39W_028.raw\n",
      "/Users/chiaentsai/Box/MURI-SARA/Thermoreflectance/Joanne/CHESS/0130_2023/234mm_per_sec/-24mm_39W_029.raw\n"
     ]
    },
    {
     "name": "stderr",
     "output_type": "stream",
     "text": [
      "100%|█████████████████████████████████████████| 480/480 [00:16<00:00, 28.36it/s]\n",
      " 69%|██████████████████████████▉            | 331/480 [00:00<00:00, 2526.14it/s]"
     ]
    },
    {
     "name": "stdout",
     "output_type": "stream",
     "text": [
      "/Users/chiaentsai/Box/MURI-SARA/Thermoreflectance/Joanne/CHESS/0130_2023/234mm_per_sec/-24mm_41W_000.raw\n",
      "/Users/chiaentsai/Box/MURI-SARA/Thermoreflectance/Joanne/CHESS/0130_2023/234mm_per_sec/-24mm_41W_001.raw\n",
      "/Users/chiaentsai/Box/MURI-SARA/Thermoreflectance/Joanne/CHESS/0130_2023/234mm_per_sec/-24mm_41W_002.raw\n",
      "/Users/chiaentsai/Box/MURI-SARA/Thermoreflectance/Joanne/CHESS/0130_2023/234mm_per_sec/-24mm_41W_003.raw\n",
      "/Users/chiaentsai/Box/MURI-SARA/Thermoreflectance/Joanne/CHESS/0130_2023/234mm_per_sec/-24mm_41W_004.raw\n",
      "/Users/chiaentsai/Box/MURI-SARA/Thermoreflectance/Joanne/CHESS/0130_2023/234mm_per_sec/-24mm_41W_005.raw\n",
      "/Users/chiaentsai/Box/MURI-SARA/Thermoreflectance/Joanne/CHESS/0130_2023/234mm_per_sec/-24mm_41W_006.raw\n",
      "/Users/chiaentsai/Box/MURI-SARA/Thermoreflectance/Joanne/CHESS/0130_2023/234mm_per_sec/-24mm_41W_007.raw\n",
      "/Users/chiaentsai/Box/MURI-SARA/Thermoreflectance/Joanne/CHESS/0130_2023/234mm_per_sec/-24mm_41W_008.raw\n",
      "/Users/chiaentsai/Box/MURI-SARA/Thermoreflectance/Joanne/CHESS/0130_2023/234mm_per_sec/-24mm_41W_009.raw\n",
      "/Users/chiaentsai/Box/MURI-SARA/Thermoreflectance/Joanne/CHESS/0130_2023/234mm_per_sec/-24mm_41W_010.raw\n",
      "/Users/chiaentsai/Box/MURI-SARA/Thermoreflectance/Joanne/CHESS/0130_2023/234mm_per_sec/-24mm_41W_011.raw\n",
      "/Users/chiaentsai/Box/MURI-SARA/Thermoreflectance/Joanne/CHESS/0130_2023/234mm_per_sec/-24mm_41W_012.raw\n",
      "/Users/chiaentsai/Box/MURI-SARA/Thermoreflectance/Joanne/CHESS/0130_2023/234mm_per_sec/-24mm_41W_013.raw\n",
      "/Users/chiaentsai/Box/MURI-SARA/Thermoreflectance/Joanne/CHESS/0130_2023/234mm_per_sec/-24mm_41W_014.raw\n",
      "/Users/chiaentsai/Box/MURI-SARA/Thermoreflectance/Joanne/CHESS/0130_2023/234mm_per_sec/-24mm_41W_015.raw\n",
      "/Users/chiaentsai/Box/MURI-SARA/Thermoreflectance/Joanne/CHESS/0130_2023/234mm_per_sec/-24mm_41W_016.raw\n",
      "/Users/chiaentsai/Box/MURI-SARA/Thermoreflectance/Joanne/CHESS/0130_2023/234mm_per_sec/-24mm_41W_017.raw\n",
      "/Users/chiaentsai/Box/MURI-SARA/Thermoreflectance/Joanne/CHESS/0130_2023/234mm_per_sec/-24mm_41W_018.raw\n",
      "/Users/chiaentsai/Box/MURI-SARA/Thermoreflectance/Joanne/CHESS/0130_2023/234mm_per_sec/-24mm_41W_019.raw\n",
      "/Users/chiaentsai/Box/MURI-SARA/Thermoreflectance/Joanne/CHESS/0130_2023/234mm_per_sec/-24mm_41W_020.raw\n",
      "/Users/chiaentsai/Box/MURI-SARA/Thermoreflectance/Joanne/CHESS/0130_2023/234mm_per_sec/-24mm_41W_021.raw\n",
      "/Users/chiaentsai/Box/MURI-SARA/Thermoreflectance/Joanne/CHESS/0130_2023/234mm_per_sec/-24mm_41W_022.raw\n",
      "/Users/chiaentsai/Box/MURI-SARA/Thermoreflectance/Joanne/CHESS/0130_2023/234mm_per_sec/-24mm_41W_023.raw\n",
      "/Users/chiaentsai/Box/MURI-SARA/Thermoreflectance/Joanne/CHESS/0130_2023/234mm_per_sec/-24mm_41W_024.raw\n"
     ]
    },
    {
     "name": "stderr",
     "output_type": "stream",
     "text": [
      " 74%|██████████████████████████████▎          | 355/480 [00:12<00:06, 19.77it/s]"
     ]
    },
    {
     "name": "stdout",
     "output_type": "stream",
     "text": [
      "/Users/chiaentsai/Box/MURI-SARA/Thermoreflectance/Joanne/CHESS/0130_2023/234mm_per_sec/-24mm_41W_025.raw\n"
     ]
    },
    {
     "name": "stderr",
     "output_type": "stream",
     "text": [
      "\r",
      " 74%|██████████████████████████████▍          | 356/480 [00:13<00:06, 18.72it/s]"
     ]
    },
    {
     "name": "stdout",
     "output_type": "stream",
     "text": [
      "/Users/chiaentsai/Box/MURI-SARA/Thermoreflectance/Joanne/CHESS/0130_2023/234mm_per_sec/-24mm_41W_026.raw\n",
      "/Users/chiaentsai/Box/MURI-SARA/Thermoreflectance/Joanne/CHESS/0130_2023/234mm_per_sec/-24mm_41W_027.raw\n",
      "/Users/chiaentsai/Box/MURI-SARA/Thermoreflectance/Joanne/CHESS/0130_2023/234mm_per_sec/-24mm_41W_028.raw\n",
      "/Users/chiaentsai/Box/MURI-SARA/Thermoreflectance/Joanne/CHESS/0130_2023/234mm_per_sec/-24mm_41W_029.raw\n"
     ]
    },
    {
     "name": "stderr",
     "output_type": "stream",
     "text": [
      "100%|█████████████████████████████████████████| 480/480 [00:17<00:00, 27.96it/s]\n",
      " 75%|█████████████████████████████▍         | 362/480 [00:00<00:00, 2473.69it/s]"
     ]
    },
    {
     "name": "stdout",
     "output_type": "stream",
     "text": [
      "/Users/chiaentsai/Box/MURI-SARA/Thermoreflectance/Joanne/CHESS/0130_2023/234mm_per_sec/-24mm_43W_000.raw\n",
      "/Users/chiaentsai/Box/MURI-SARA/Thermoreflectance/Joanne/CHESS/0130_2023/234mm_per_sec/-24mm_43W_001.raw\n",
      "/Users/chiaentsai/Box/MURI-SARA/Thermoreflectance/Joanne/CHESS/0130_2023/234mm_per_sec/-24mm_43W_002.raw\n",
      "/Users/chiaentsai/Box/MURI-SARA/Thermoreflectance/Joanne/CHESS/0130_2023/234mm_per_sec/-24mm_43W_003.raw\n",
      "/Users/chiaentsai/Box/MURI-SARA/Thermoreflectance/Joanne/CHESS/0130_2023/234mm_per_sec/-24mm_43W_004.raw\n",
      "/Users/chiaentsai/Box/MURI-SARA/Thermoreflectance/Joanne/CHESS/0130_2023/234mm_per_sec/-24mm_43W_005.raw\n",
      "/Users/chiaentsai/Box/MURI-SARA/Thermoreflectance/Joanne/CHESS/0130_2023/234mm_per_sec/-24mm_43W_006.raw\n",
      "/Users/chiaentsai/Box/MURI-SARA/Thermoreflectance/Joanne/CHESS/0130_2023/234mm_per_sec/-24mm_43W_007.raw\n",
      "/Users/chiaentsai/Box/MURI-SARA/Thermoreflectance/Joanne/CHESS/0130_2023/234mm_per_sec/-24mm_43W_008.raw\n",
      "/Users/chiaentsai/Box/MURI-SARA/Thermoreflectance/Joanne/CHESS/0130_2023/234mm_per_sec/-24mm_43W_009.raw\n",
      "/Users/chiaentsai/Box/MURI-SARA/Thermoreflectance/Joanne/CHESS/0130_2023/234mm_per_sec/-24mm_43W_010.raw\n",
      "/Users/chiaentsai/Box/MURI-SARA/Thermoreflectance/Joanne/CHESS/0130_2023/234mm_per_sec/-24mm_43W_011.raw\n",
      "/Users/chiaentsai/Box/MURI-SARA/Thermoreflectance/Joanne/CHESS/0130_2023/234mm_per_sec/-24mm_43W_012.raw\n",
      "/Users/chiaentsai/Box/MURI-SARA/Thermoreflectance/Joanne/CHESS/0130_2023/234mm_per_sec/-24mm_43W_013.raw\n",
      "/Users/chiaentsai/Box/MURI-SARA/Thermoreflectance/Joanne/CHESS/0130_2023/234mm_per_sec/-24mm_43W_014.raw\n",
      "/Users/chiaentsai/Box/MURI-SARA/Thermoreflectance/Joanne/CHESS/0130_2023/234mm_per_sec/-24mm_43W_015.raw\n",
      "/Users/chiaentsai/Box/MURI-SARA/Thermoreflectance/Joanne/CHESS/0130_2023/234mm_per_sec/-24mm_43W_016.raw\n",
      "/Users/chiaentsai/Box/MURI-SARA/Thermoreflectance/Joanne/CHESS/0130_2023/234mm_per_sec/-24mm_43W_017.raw\n",
      "/Users/chiaentsai/Box/MURI-SARA/Thermoreflectance/Joanne/CHESS/0130_2023/234mm_per_sec/-24mm_43W_018.raw\n",
      "/Users/chiaentsai/Box/MURI-SARA/Thermoreflectance/Joanne/CHESS/0130_2023/234mm_per_sec/-24mm_43W_019.raw\n",
      "/Users/chiaentsai/Box/MURI-SARA/Thermoreflectance/Joanne/CHESS/0130_2023/234mm_per_sec/-24mm_43W_020.raw\n",
      "/Users/chiaentsai/Box/MURI-SARA/Thermoreflectance/Joanne/CHESS/0130_2023/234mm_per_sec/-24mm_43W_021.raw\n",
      "/Users/chiaentsai/Box/MURI-SARA/Thermoreflectance/Joanne/CHESS/0130_2023/234mm_per_sec/-24mm_43W_022.raw\n",
      "/Users/chiaentsai/Box/MURI-SARA/Thermoreflectance/Joanne/CHESS/0130_2023/234mm_per_sec/-24mm_43W_023.raw\n",
      "/Users/chiaentsai/Box/MURI-SARA/Thermoreflectance/Joanne/CHESS/0130_2023/234mm_per_sec/-24mm_43W_024.raw\n",
      "/Users/chiaentsai/Box/MURI-SARA/Thermoreflectance/Joanne/CHESS/0130_2023/234mm_per_sec/-24mm_43W_025.raw\n",
      "/Users/chiaentsai/Box/MURI-SARA/Thermoreflectance/Joanne/CHESS/0130_2023/234mm_per_sec/-24mm_43W_026.raw\n"
     ]
    },
    {
     "name": "stderr",
     "output_type": "stream",
     "text": [
      " 81%|█████████████████████████████████        | 387/480 [00:15<00:05, 17.60it/s]"
     ]
    },
    {
     "name": "stdout",
     "output_type": "stream",
     "text": [
      "/Users/chiaentsai/Box/MURI-SARA/Thermoreflectance/Joanne/CHESS/0130_2023/234mm_per_sec/-24mm_43W_027.raw\n"
     ]
    },
    {
     "name": "stderr",
     "output_type": "stream",
     "text": [
      "\r",
      " 81%|█████████████████████████████████▏       | 388/480 [00:16<00:05, 16.52it/s]"
     ]
    },
    {
     "name": "stdout",
     "output_type": "stream",
     "text": [
      "/Users/chiaentsai/Box/MURI-SARA/Thermoreflectance/Joanne/CHESS/0130_2023/234mm_per_sec/-24mm_43W_028.raw\n",
      "/Users/chiaentsai/Box/MURI-SARA/Thermoreflectance/Joanne/CHESS/0130_2023/234mm_per_sec/-24mm_43W_029.raw\n"
     ]
    },
    {
     "name": "stderr",
     "output_type": "stream",
     "text": [
      "100%|█████████████████████████████████████████| 480/480 [00:18<00:00, 26.26it/s]\n",
      "  0%|                                                   | 0/480 [00:00<?, ?it/s]"
     ]
    },
    {
     "name": "stdout",
     "output_type": "stream",
     "text": [
      "/Users/chiaentsai/Box/MURI-SARA/Thermoreflectance/Joanne/CHESS/0130_2023/234mm_per_sec/-24mm_45W_000.raw\n"
     ]
    },
    {
     "name": "stderr",
     "output_type": "stream",
     "text": [
      "\r",
      " 81%|███████████████████████████████▊       | 391/480 [00:00<00:00, 1734.79it/s]"
     ]
    },
    {
     "name": "stdout",
     "output_type": "stream",
     "text": [
      "/Users/chiaentsai/Box/MURI-SARA/Thermoreflectance/Joanne/CHESS/0130_2023/234mm_per_sec/-24mm_45W_001.raw\n",
      "/Users/chiaentsai/Box/MURI-SARA/Thermoreflectance/Joanne/CHESS/0130_2023/234mm_per_sec/-24mm_45W_002.raw\n",
      "/Users/chiaentsai/Box/MURI-SARA/Thermoreflectance/Joanne/CHESS/0130_2023/234mm_per_sec/-24mm_45W_003.raw\n",
      "/Users/chiaentsai/Box/MURI-SARA/Thermoreflectance/Joanne/CHESS/0130_2023/234mm_per_sec/-24mm_45W_004.raw\n",
      "/Users/chiaentsai/Box/MURI-SARA/Thermoreflectance/Joanne/CHESS/0130_2023/234mm_per_sec/-24mm_45W_005.raw\n",
      "/Users/chiaentsai/Box/MURI-SARA/Thermoreflectance/Joanne/CHESS/0130_2023/234mm_per_sec/-24mm_45W_006.raw\n",
      "/Users/chiaentsai/Box/MURI-SARA/Thermoreflectance/Joanne/CHESS/0130_2023/234mm_per_sec/-24mm_45W_007.raw\n",
      "/Users/chiaentsai/Box/MURI-SARA/Thermoreflectance/Joanne/CHESS/0130_2023/234mm_per_sec/-24mm_45W_008.raw\n",
      "/Users/chiaentsai/Box/MURI-SARA/Thermoreflectance/Joanne/CHESS/0130_2023/234mm_per_sec/-24mm_45W_009.raw\n",
      "/Users/chiaentsai/Box/MURI-SARA/Thermoreflectance/Joanne/CHESS/0130_2023/234mm_per_sec/-24mm_45W_010.raw\n",
      "/Users/chiaentsai/Box/MURI-SARA/Thermoreflectance/Joanne/CHESS/0130_2023/234mm_per_sec/-24mm_45W_011.raw\n",
      "/Users/chiaentsai/Box/MURI-SARA/Thermoreflectance/Joanne/CHESS/0130_2023/234mm_per_sec/-24mm_45W_012.raw\n",
      "/Users/chiaentsai/Box/MURI-SARA/Thermoreflectance/Joanne/CHESS/0130_2023/234mm_per_sec/-24mm_45W_013.raw\n",
      "/Users/chiaentsai/Box/MURI-SARA/Thermoreflectance/Joanne/CHESS/0130_2023/234mm_per_sec/-24mm_45W_014.raw\n",
      "/Users/chiaentsai/Box/MURI-SARA/Thermoreflectance/Joanne/CHESS/0130_2023/234mm_per_sec/-24mm_45W_015.raw\n",
      "/Users/chiaentsai/Box/MURI-SARA/Thermoreflectance/Joanne/CHESS/0130_2023/234mm_per_sec/-24mm_45W_016.raw\n",
      "/Users/chiaentsai/Box/MURI-SARA/Thermoreflectance/Joanne/CHESS/0130_2023/234mm_per_sec/-24mm_45W_017.raw\n",
      "/Users/chiaentsai/Box/MURI-SARA/Thermoreflectance/Joanne/CHESS/0130_2023/234mm_per_sec/-24mm_45W_018.raw\n",
      "/Users/chiaentsai/Box/MURI-SARA/Thermoreflectance/Joanne/CHESS/0130_2023/234mm_per_sec/-24mm_45W_019.raw\n",
      "/Users/chiaentsai/Box/MURI-SARA/Thermoreflectance/Joanne/CHESS/0130_2023/234mm_per_sec/-24mm_45W_020.raw\n",
      "/Users/chiaentsai/Box/MURI-SARA/Thermoreflectance/Joanne/CHESS/0130_2023/234mm_per_sec/-24mm_45W_021.raw\n",
      "/Users/chiaentsai/Box/MURI-SARA/Thermoreflectance/Joanne/CHESS/0130_2023/234mm_per_sec/-24mm_45W_022.raw\n",
      "/Users/chiaentsai/Box/MURI-SARA/Thermoreflectance/Joanne/CHESS/0130_2023/234mm_per_sec/-24mm_45W_023.raw\n",
      "/Users/chiaentsai/Box/MURI-SARA/Thermoreflectance/Joanne/CHESS/0130_2023/234mm_per_sec/-24mm_45W_024.raw\n",
      "/Users/chiaentsai/Box/MURI-SARA/Thermoreflectance/Joanne/CHESS/0130_2023/234mm_per_sec/-24mm_45W_025.raw\n",
      "/Users/chiaentsai/Box/MURI-SARA/Thermoreflectance/Joanne/CHESS/0130_2023/234mm_per_sec/-24mm_45W_026.raw\n",
      "/Users/chiaentsai/Box/MURI-SARA/Thermoreflectance/Joanne/CHESS/0130_2023/234mm_per_sec/-24mm_45W_027.raw\n"
     ]
    },
    {
     "name": "stderr",
     "output_type": "stream",
     "text": [
      "\r",
      " 81%|███████████████████████████████▊       | 391/480 [00:17<00:00, 1734.79it/s]"
     ]
    },
    {
     "name": "stdout",
     "output_type": "stream",
     "text": [
      "/Users/chiaentsai/Box/MURI-SARA/Thermoreflectance/Joanne/CHESS/0130_2023/234mm_per_sec/-24mm_45W_028.raw\n"
     ]
    },
    {
     "name": "stderr",
     "output_type": "stream",
     "text": [
      "\r",
      " 87%|███████████████████████████████████▊     | 419/480 [00:17<00:03, 16.85it/s]"
     ]
    },
    {
     "name": "stdout",
     "output_type": "stream",
     "text": [
      "/Users/chiaentsai/Box/MURI-SARA/Thermoreflectance/Joanne/CHESS/0130_2023/234mm_per_sec/-24mm_45W_029.raw\n"
     ]
    },
    {
     "name": "stderr",
     "output_type": "stream",
     "text": [
      "100%|█████████████████████████████████████████| 480/480 [00:18<00:00, 26.04it/s]\n",
      " 88%|██████████████████████████████████▎    | 422/480 [00:00<00:00, 3054.14it/s]"
     ]
    },
    {
     "name": "stdout",
     "output_type": "stream",
     "text": [
      "/Users/chiaentsai/Box/MURI-SARA/Thermoreflectance/Joanne/CHESS/0130_2023/234mm_per_sec/-24mm_47W_000.raw\n",
      "/Users/chiaentsai/Box/MURI-SARA/Thermoreflectance/Joanne/CHESS/0130_2023/234mm_per_sec/-24mm_47W_001.raw\n",
      "/Users/chiaentsai/Box/MURI-SARA/Thermoreflectance/Joanne/CHESS/0130_2023/234mm_per_sec/-24mm_47W_002.raw\n",
      "/Users/chiaentsai/Box/MURI-SARA/Thermoreflectance/Joanne/CHESS/0130_2023/234mm_per_sec/-24mm_47W_003.raw\n",
      "/Users/chiaentsai/Box/MURI-SARA/Thermoreflectance/Joanne/CHESS/0130_2023/234mm_per_sec/-24mm_47W_004.raw\n",
      "/Users/chiaentsai/Box/MURI-SARA/Thermoreflectance/Joanne/CHESS/0130_2023/234mm_per_sec/-24mm_47W_005.raw\n",
      "/Users/chiaentsai/Box/MURI-SARA/Thermoreflectance/Joanne/CHESS/0130_2023/234mm_per_sec/-24mm_47W_006.raw\n",
      "/Users/chiaentsai/Box/MURI-SARA/Thermoreflectance/Joanne/CHESS/0130_2023/234mm_per_sec/-24mm_47W_007.raw\n",
      "/Users/chiaentsai/Box/MURI-SARA/Thermoreflectance/Joanne/CHESS/0130_2023/234mm_per_sec/-24mm_47W_008.raw\n",
      "/Users/chiaentsai/Box/MURI-SARA/Thermoreflectance/Joanne/CHESS/0130_2023/234mm_per_sec/-24mm_47W_009.raw\n",
      "/Users/chiaentsai/Box/MURI-SARA/Thermoreflectance/Joanne/CHESS/0130_2023/234mm_per_sec/-24mm_47W_010.raw\n",
      "/Users/chiaentsai/Box/MURI-SARA/Thermoreflectance/Joanne/CHESS/0130_2023/234mm_per_sec/-24mm_47W_011.raw\n",
      "/Users/chiaentsai/Box/MURI-SARA/Thermoreflectance/Joanne/CHESS/0130_2023/234mm_per_sec/-24mm_47W_012.raw\n",
      "/Users/chiaentsai/Box/MURI-SARA/Thermoreflectance/Joanne/CHESS/0130_2023/234mm_per_sec/-24mm_47W_013.raw\n",
      "/Users/chiaentsai/Box/MURI-SARA/Thermoreflectance/Joanne/CHESS/0130_2023/234mm_per_sec/-24mm_47W_014.raw\n",
      "/Users/chiaentsai/Box/MURI-SARA/Thermoreflectance/Joanne/CHESS/0130_2023/234mm_per_sec/-24mm_47W_015.raw\n",
      "/Users/chiaentsai/Box/MURI-SARA/Thermoreflectance/Joanne/CHESS/0130_2023/234mm_per_sec/-24mm_47W_016.raw\n",
      "/Users/chiaentsai/Box/MURI-SARA/Thermoreflectance/Joanne/CHESS/0130_2023/234mm_per_sec/-24mm_47W_017.raw\n",
      "/Users/chiaentsai/Box/MURI-SARA/Thermoreflectance/Joanne/CHESS/0130_2023/234mm_per_sec/-24mm_47W_018.raw\n",
      "/Users/chiaentsai/Box/MURI-SARA/Thermoreflectance/Joanne/CHESS/0130_2023/234mm_per_sec/-24mm_47W_019.raw\n",
      "/Users/chiaentsai/Box/MURI-SARA/Thermoreflectance/Joanne/CHESS/0130_2023/234mm_per_sec/-24mm_47W_020.raw\n",
      "/Users/chiaentsai/Box/MURI-SARA/Thermoreflectance/Joanne/CHESS/0130_2023/234mm_per_sec/-24mm_47W_021.raw\n",
      "/Users/chiaentsai/Box/MURI-SARA/Thermoreflectance/Joanne/CHESS/0130_2023/234mm_per_sec/-24mm_47W_022.raw\n",
      "/Users/chiaentsai/Box/MURI-SARA/Thermoreflectance/Joanne/CHESS/0130_2023/234mm_per_sec/-24mm_47W_023.raw\n",
      "/Users/chiaentsai/Box/MURI-SARA/Thermoreflectance/Joanne/CHESS/0130_2023/234mm_per_sec/-24mm_47W_024.raw\n",
      "/Users/chiaentsai/Box/MURI-SARA/Thermoreflectance/Joanne/CHESS/0130_2023/234mm_per_sec/-24mm_47W_025.raw\n",
      "/Users/chiaentsai/Box/MURI-SARA/Thermoreflectance/Joanne/CHESS/0130_2023/234mm_per_sec/-24mm_47W_026.raw\n",
      "/Users/chiaentsai/Box/MURI-SARA/Thermoreflectance/Joanne/CHESS/0130_2023/234mm_per_sec/-24mm_47W_027.raw\n",
      "/Users/chiaentsai/Box/MURI-SARA/Thermoreflectance/Joanne/CHESS/0130_2023/234mm_per_sec/-24mm_47W_028.raw\n",
      "/Users/chiaentsai/Box/MURI-SARA/Thermoreflectance/Joanne/CHESS/0130_2023/234mm_per_sec/-24mm_47W_029.raw\n"
     ]
    },
    {
     "name": "stderr",
     "output_type": "stream",
     "text": [
      "100%|█████████████████████████████████████████| 480/480 [00:18<00:00, 26.18it/s]\n",
      " 94%|████████████████████████████████████▋  | 451/480 [00:00<00:00, 3343.07it/s]"
     ]
    },
    {
     "name": "stdout",
     "output_type": "stream",
     "text": [
      "/Users/chiaentsai/Box/MURI-SARA/Thermoreflectance/Joanne/CHESS/0130_2023/234mm_per_sec/-24mm_49W_000.raw\n",
      "/Users/chiaentsai/Box/MURI-SARA/Thermoreflectance/Joanne/CHESS/0130_2023/234mm_per_sec/-24mm_49W_001.raw\n",
      "/Users/chiaentsai/Box/MURI-SARA/Thermoreflectance/Joanne/CHESS/0130_2023/234mm_per_sec/-24mm_49W_002.raw\n",
      "/Users/chiaentsai/Box/MURI-SARA/Thermoreflectance/Joanne/CHESS/0130_2023/234mm_per_sec/-24mm_49W_003.raw\n",
      "/Users/chiaentsai/Box/MURI-SARA/Thermoreflectance/Joanne/CHESS/0130_2023/234mm_per_sec/-24mm_49W_004.raw\n",
      "/Users/chiaentsai/Box/MURI-SARA/Thermoreflectance/Joanne/CHESS/0130_2023/234mm_per_sec/-24mm_49W_005.raw\n",
      "/Users/chiaentsai/Box/MURI-SARA/Thermoreflectance/Joanne/CHESS/0130_2023/234mm_per_sec/-24mm_49W_006.raw\n",
      "/Users/chiaentsai/Box/MURI-SARA/Thermoreflectance/Joanne/CHESS/0130_2023/234mm_per_sec/-24mm_49W_007.raw\n",
      "/Users/chiaentsai/Box/MURI-SARA/Thermoreflectance/Joanne/CHESS/0130_2023/234mm_per_sec/-24mm_49W_008.raw\n",
      "/Users/chiaentsai/Box/MURI-SARA/Thermoreflectance/Joanne/CHESS/0130_2023/234mm_per_sec/-24mm_49W_009.raw\n",
      "/Users/chiaentsai/Box/MURI-SARA/Thermoreflectance/Joanne/CHESS/0130_2023/234mm_per_sec/-24mm_49W_010.raw\n",
      "/Users/chiaentsai/Box/MURI-SARA/Thermoreflectance/Joanne/CHESS/0130_2023/234mm_per_sec/-24mm_49W_011.raw\n",
      "/Users/chiaentsai/Box/MURI-SARA/Thermoreflectance/Joanne/CHESS/0130_2023/234mm_per_sec/-24mm_49W_012.raw\n",
      "/Users/chiaentsai/Box/MURI-SARA/Thermoreflectance/Joanne/CHESS/0130_2023/234mm_per_sec/-24mm_49W_013.raw\n",
      "/Users/chiaentsai/Box/MURI-SARA/Thermoreflectance/Joanne/CHESS/0130_2023/234mm_per_sec/-24mm_49W_014.raw\n",
      "/Users/chiaentsai/Box/MURI-SARA/Thermoreflectance/Joanne/CHESS/0130_2023/234mm_per_sec/-24mm_49W_015.raw\n",
      "/Users/chiaentsai/Box/MURI-SARA/Thermoreflectance/Joanne/CHESS/0130_2023/234mm_per_sec/-24mm_49W_016.raw\n",
      "/Users/chiaentsai/Box/MURI-SARA/Thermoreflectance/Joanne/CHESS/0130_2023/234mm_per_sec/-24mm_49W_017.raw\n",
      "/Users/chiaentsai/Box/MURI-SARA/Thermoreflectance/Joanne/CHESS/0130_2023/234mm_per_sec/-24mm_49W_018.raw\n"
     ]
    },
    {
     "name": "stderr",
     "output_type": "stream",
     "text": [
      "\r",
      " 94%|████████████████████████████████████▋  | 451/480 [00:10<00:00, 3343.07it/s]"
     ]
    },
    {
     "name": "stdout",
     "output_type": "stream",
     "text": [
      "/Users/chiaentsai/Box/MURI-SARA/Thermoreflectance/Joanne/CHESS/0130_2023/234mm_per_sec/-24mm_49W_019.raw\n"
     ]
    },
    {
     "name": "stderr",
     "output_type": "stream",
     "text": [
      "\r",
      " 98%|████████████████████████████████████████▏| 470/480 [00:11<00:00, 30.26it/s]"
     ]
    },
    {
     "name": "stdout",
     "output_type": "stream",
     "text": [
      "/Users/chiaentsai/Box/MURI-SARA/Thermoreflectance/Joanne/CHESS/0130_2023/234mm_per_sec/-24mm_49W_020.raw\n"
     ]
    },
    {
     "name": "stderr",
     "output_type": "stream",
     "text": [
      "\r",
      " 98%|████████████████████████████████████████▏| 471/480 [00:11<00:00, 27.81it/s]"
     ]
    },
    {
     "name": "stdout",
     "output_type": "stream",
     "text": [
      "/Users/chiaentsai/Box/MURI-SARA/Thermoreflectance/Joanne/CHESS/0130_2023/234mm_per_sec/-24mm_49W_021.raw\n",
      "/Users/chiaentsai/Box/MURI-SARA/Thermoreflectance/Joanne/CHESS/0130_2023/234mm_per_sec/-24mm_49W_022.raw\n",
      "/Users/chiaentsai/Box/MURI-SARA/Thermoreflectance/Joanne/CHESS/0130_2023/234mm_per_sec/-24mm_49W_023.raw\n",
      "/Users/chiaentsai/Box/MURI-SARA/Thermoreflectance/Joanne/CHESS/0130_2023/234mm_per_sec/-24mm_49W_024.raw\n",
      "/Users/chiaentsai/Box/MURI-SARA/Thermoreflectance/Joanne/CHESS/0130_2023/234mm_per_sec/-24mm_49W_025.raw\n",
      "/Users/chiaentsai/Box/MURI-SARA/Thermoreflectance/Joanne/CHESS/0130_2023/234mm_per_sec/-24mm_49W_026.raw\n",
      "/Users/chiaentsai/Box/MURI-SARA/Thermoreflectance/Joanne/CHESS/0130_2023/234mm_per_sec/-24mm_49W_027.raw\n",
      "/Users/chiaentsai/Box/MURI-SARA/Thermoreflectance/Joanne/CHESS/0130_2023/234mm_per_sec/-24mm_49W_028.raw\n",
      "/Users/chiaentsai/Box/MURI-SARA/Thermoreflectance/Joanne/CHESS/0130_2023/234mm_per_sec/-24mm_49W_029.raw\n"
     ]
    },
    {
     "name": "stderr",
     "output_type": "stream",
     "text": [
      "100%|█████████████████████████████████████████| 480/480 [00:19<00:00, 24.06it/s]\n",
      " 42%|████████████████▎                      | 151/360 [00:00<00:00, 1115.92it/s]"
     ]
    },
    {
     "name": "stdout",
     "output_type": "stream",
     "text": [
      "/Users/chiaentsai/Box/MURI-SARA/Thermoreflectance/Joanne/CHESS/0130_2023/30mm_per_sec/-12mm_25W_000.raw\n",
      "/Users/chiaentsai/Box/MURI-SARA/Thermoreflectance/Joanne/CHESS/0130_2023/30mm_per_sec/-12mm_25W_001.raw\n",
      "/Users/chiaentsai/Box/MURI-SARA/Thermoreflectance/Joanne/CHESS/0130_2023/30mm_per_sec/-12mm_25W_002.raw\n",
      "/Users/chiaentsai/Box/MURI-SARA/Thermoreflectance/Joanne/CHESS/0130_2023/30mm_per_sec/-12mm_25W_003.raw\n",
      "/Users/chiaentsai/Box/MURI-SARA/Thermoreflectance/Joanne/CHESS/0130_2023/30mm_per_sec/-12mm_25W_004.raw\n",
      "/Users/chiaentsai/Box/MURI-SARA/Thermoreflectance/Joanne/CHESS/0130_2023/30mm_per_sec/-12mm_25W_005.raw\n",
      "/Users/chiaentsai/Box/MURI-SARA/Thermoreflectance/Joanne/CHESS/0130_2023/30mm_per_sec/-12mm_25W_006.raw\n",
      "/Users/chiaentsai/Box/MURI-SARA/Thermoreflectance/Joanne/CHESS/0130_2023/30mm_per_sec/-12mm_25W_007.raw\n",
      "/Users/chiaentsai/Box/MURI-SARA/Thermoreflectance/Joanne/CHESS/0130_2023/30mm_per_sec/-12mm_25W_008.raw\n",
      "/Users/chiaentsai/Box/MURI-SARA/Thermoreflectance/Joanne/CHESS/0130_2023/30mm_per_sec/-12mm_25W_009.raw\n",
      "/Users/chiaentsai/Box/MURI-SARA/Thermoreflectance/Joanne/CHESS/0130_2023/30mm_per_sec/-12mm_25W_010.raw\n",
      "/Users/chiaentsai/Box/MURI-SARA/Thermoreflectance/Joanne/CHESS/0130_2023/30mm_per_sec/-12mm_25W_011.raw\n",
      "/Users/chiaentsai/Box/MURI-SARA/Thermoreflectance/Joanne/CHESS/0130_2023/30mm_per_sec/-12mm_25W_012.raw\n",
      "/Users/chiaentsai/Box/MURI-SARA/Thermoreflectance/Joanne/CHESS/0130_2023/30mm_per_sec/-12mm_25W_013.raw\n",
      "/Users/chiaentsai/Box/MURI-SARA/Thermoreflectance/Joanne/CHESS/0130_2023/30mm_per_sec/-12mm_25W_014.raw\n",
      "/Users/chiaentsai/Box/MURI-SARA/Thermoreflectance/Joanne/CHESS/0130_2023/30mm_per_sec/-12mm_25W_015.raw\n",
      "/Users/chiaentsai/Box/MURI-SARA/Thermoreflectance/Joanne/CHESS/0130_2023/30mm_per_sec/-12mm_25W_016.raw\n",
      "/Users/chiaentsai/Box/MURI-SARA/Thermoreflectance/Joanne/CHESS/0130_2023/30mm_per_sec/-12mm_25W_017.raw\n",
      "/Users/chiaentsai/Box/MURI-SARA/Thermoreflectance/Joanne/CHESS/0130_2023/30mm_per_sec/-12mm_25W_018.raw\n",
      "/Users/chiaentsai/Box/MURI-SARA/Thermoreflectance/Joanne/CHESS/0130_2023/30mm_per_sec/-12mm_25W_019.raw\n",
      "/Users/chiaentsai/Box/MURI-SARA/Thermoreflectance/Joanne/CHESS/0130_2023/30mm_per_sec/-12mm_25W_020.raw\n",
      "/Users/chiaentsai/Box/MURI-SARA/Thermoreflectance/Joanne/CHESS/0130_2023/30mm_per_sec/-12mm_25W_021.raw\n",
      "/Users/chiaentsai/Box/MURI-SARA/Thermoreflectance/Joanne/CHESS/0130_2023/30mm_per_sec/-12mm_25W_022.raw\n",
      "/Users/chiaentsai/Box/MURI-SARA/Thermoreflectance/Joanne/CHESS/0130_2023/30mm_per_sec/-12mm_25W_023.raw\n",
      "/Users/chiaentsai/Box/MURI-SARA/Thermoreflectance/Joanne/CHESS/0130_2023/30mm_per_sec/-12mm_25W_024.raw\n",
      "/Users/chiaentsai/Box/MURI-SARA/Thermoreflectance/Joanne/CHESS/0130_2023/30mm_per_sec/-12mm_25W_025.raw\n",
      "/Users/chiaentsai/Box/MURI-SARA/Thermoreflectance/Joanne/CHESS/0130_2023/30mm_per_sec/-12mm_25W_026.raw\n",
      "/Users/chiaentsai/Box/MURI-SARA/Thermoreflectance/Joanne/CHESS/0130_2023/30mm_per_sec/-12mm_25W_027.raw\n",
      "/Users/chiaentsai/Box/MURI-SARA/Thermoreflectance/Joanne/CHESS/0130_2023/30mm_per_sec/-12mm_25W_028.raw\n"
     ]
    },
    {
     "name": "stderr",
     "output_type": "stream",
     "text": [
      "100%|████████████████████████████████████████| 360/360 [00:03<00:00, 108.04it/s]\n"
     ]
    },
    {
     "name": "stdout",
     "output_type": "stream",
     "text": [
      "/Users/chiaentsai/Box/MURI-SARA/Thermoreflectance/Joanne/CHESS/0130_2023/30mm_per_sec/-12mm_25W_029.raw\n"
     ]
    },
    {
     "name": "stderr",
     "output_type": "stream",
     "text": [
      "\r",
      "  0%|                                                   | 0/360 [00:00<?, ?it/s]"
     ]
    },
    {
     "name": "stdout",
     "output_type": "stream",
     "text": [
      "/Users/chiaentsai/Box/MURI-SARA/Thermoreflectance/Joanne/CHESS/0130_2023/30mm_per_sec/-12mm_27W_000.raw\n",
      "/Users/chiaentsai/Box/MURI-SARA/Thermoreflectance/Joanne/CHESS/0130_2023/30mm_per_sec/-12mm_27W_001.raw\n"
     ]
    },
    {
     "name": "stderr",
     "output_type": "stream",
     "text": [
      "\r",
      " 51%|████████████████████▏                   | 182/360 [00:00<00:00, 655.82it/s]"
     ]
    },
    {
     "name": "stdout",
     "output_type": "stream",
     "text": [
      "/Users/chiaentsai/Box/MURI-SARA/Thermoreflectance/Joanne/CHESS/0130_2023/30mm_per_sec/-12mm_27W_002.raw\n",
      "/Users/chiaentsai/Box/MURI-SARA/Thermoreflectance/Joanne/CHESS/0130_2023/30mm_per_sec/-12mm_27W_003.raw\n",
      "/Users/chiaentsai/Box/MURI-SARA/Thermoreflectance/Joanne/CHESS/0130_2023/30mm_per_sec/-12mm_27W_004.raw\n",
      "/Users/chiaentsai/Box/MURI-SARA/Thermoreflectance/Joanne/CHESS/0130_2023/30mm_per_sec/-12mm_27W_005.raw\n",
      "/Users/chiaentsai/Box/MURI-SARA/Thermoreflectance/Joanne/CHESS/0130_2023/30mm_per_sec/-12mm_27W_006.raw\n",
      "/Users/chiaentsai/Box/MURI-SARA/Thermoreflectance/Joanne/CHESS/0130_2023/30mm_per_sec/-12mm_27W_007.raw\n",
      "/Users/chiaentsai/Box/MURI-SARA/Thermoreflectance/Joanne/CHESS/0130_2023/30mm_per_sec/-12mm_27W_008.raw\n",
      "/Users/chiaentsai/Box/MURI-SARA/Thermoreflectance/Joanne/CHESS/0130_2023/30mm_per_sec/-12mm_27W_009.raw\n",
      "/Users/chiaentsai/Box/MURI-SARA/Thermoreflectance/Joanne/CHESS/0130_2023/30mm_per_sec/-12mm_27W_010.raw\n",
      "/Users/chiaentsai/Box/MURI-SARA/Thermoreflectance/Joanne/CHESS/0130_2023/30mm_per_sec/-12mm_27W_011.raw\n",
      "/Users/chiaentsai/Box/MURI-SARA/Thermoreflectance/Joanne/CHESS/0130_2023/30mm_per_sec/-12mm_27W_012.raw\n",
      "/Users/chiaentsai/Box/MURI-SARA/Thermoreflectance/Joanne/CHESS/0130_2023/30mm_per_sec/-12mm_27W_013.raw\n",
      "/Users/chiaentsai/Box/MURI-SARA/Thermoreflectance/Joanne/CHESS/0130_2023/30mm_per_sec/-12mm_27W_014.raw\n",
      "/Users/chiaentsai/Box/MURI-SARA/Thermoreflectance/Joanne/CHESS/0130_2023/30mm_per_sec/-12mm_27W_015.raw\n",
      "/Users/chiaentsai/Box/MURI-SARA/Thermoreflectance/Joanne/CHESS/0130_2023/30mm_per_sec/-12mm_27W_016.raw\n",
      "/Users/chiaentsai/Box/MURI-SARA/Thermoreflectance/Joanne/CHESS/0130_2023/30mm_per_sec/-12mm_27W_017.raw\n",
      "/Users/chiaentsai/Box/MURI-SARA/Thermoreflectance/Joanne/CHESS/0130_2023/30mm_per_sec/-12mm_27W_018.raw\n",
      "/Users/chiaentsai/Box/MURI-SARA/Thermoreflectance/Joanne/CHESS/0130_2023/30mm_per_sec/-12mm_27W_019.raw\n",
      "/Users/chiaentsai/Box/MURI-SARA/Thermoreflectance/Joanne/CHESS/0130_2023/30mm_per_sec/-12mm_27W_020.raw\n",
      "/Users/chiaentsai/Box/MURI-SARA/Thermoreflectance/Joanne/CHESS/0130_2023/30mm_per_sec/-12mm_27W_021.raw\n",
      "/Users/chiaentsai/Box/MURI-SARA/Thermoreflectance/Joanne/CHESS/0130_2023/30mm_per_sec/-12mm_27W_022.raw\n",
      "/Users/chiaentsai/Box/MURI-SARA/Thermoreflectance/Joanne/CHESS/0130_2023/30mm_per_sec/-12mm_27W_023.raw\n",
      "/Users/chiaentsai/Box/MURI-SARA/Thermoreflectance/Joanne/CHESS/0130_2023/30mm_per_sec/-12mm_27W_024.raw\n",
      "/Users/chiaentsai/Box/MURI-SARA/Thermoreflectance/Joanne/CHESS/0130_2023/30mm_per_sec/-12mm_27W_025.raw\n",
      "/Users/chiaentsai/Box/MURI-SARA/Thermoreflectance/Joanne/CHESS/0130_2023/30mm_per_sec/-12mm_27W_026.raw\n",
      "/Users/chiaentsai/Box/MURI-SARA/Thermoreflectance/Joanne/CHESS/0130_2023/30mm_per_sec/-12mm_27W_027.raw\n",
      "/Users/chiaentsai/Box/MURI-SARA/Thermoreflectance/Joanne/CHESS/0130_2023/30mm_per_sec/-12mm_27W_028.raw\n",
      "/Users/chiaentsai/Box/MURI-SARA/Thermoreflectance/Joanne/CHESS/0130_2023/30mm_per_sec/-12mm_27W_029.raw\n"
     ]
    },
    {
     "name": "stderr",
     "output_type": "stream",
     "text": [
      "100%|█████████████████████████████████████████| 360/360 [00:04<00:00, 81.87it/s]\n",
      " 59%|██████████████████████▊                | 211/360 [00:00<00:00, 1642.04it/s]"
     ]
    },
    {
     "name": "stdout",
     "output_type": "stream",
     "text": [
      "/Users/chiaentsai/Box/MURI-SARA/Thermoreflectance/Joanne/CHESS/0130_2023/30mm_per_sec/-12mm_29W_000.raw\n",
      "/Users/chiaentsai/Box/MURI-SARA/Thermoreflectance/Joanne/CHESS/0130_2023/30mm_per_sec/-12mm_29W_001.raw\n",
      "/Users/chiaentsai/Box/MURI-SARA/Thermoreflectance/Joanne/CHESS/0130_2023/30mm_per_sec/-12mm_29W_002.raw\n",
      "/Users/chiaentsai/Box/MURI-SARA/Thermoreflectance/Joanne/CHESS/0130_2023/30mm_per_sec/-12mm_29W_003.raw\n",
      "/Users/chiaentsai/Box/MURI-SARA/Thermoreflectance/Joanne/CHESS/0130_2023/30mm_per_sec/-12mm_29W_004.raw\n",
      "/Users/chiaentsai/Box/MURI-SARA/Thermoreflectance/Joanne/CHESS/0130_2023/30mm_per_sec/-12mm_29W_005.raw\n",
      "/Users/chiaentsai/Box/MURI-SARA/Thermoreflectance/Joanne/CHESS/0130_2023/30mm_per_sec/-12mm_29W_006.raw\n",
      "/Users/chiaentsai/Box/MURI-SARA/Thermoreflectance/Joanne/CHESS/0130_2023/30mm_per_sec/-12mm_29W_007.raw\n",
      "/Users/chiaentsai/Box/MURI-SARA/Thermoreflectance/Joanne/CHESS/0130_2023/30mm_per_sec/-12mm_29W_008.raw\n",
      "/Users/chiaentsai/Box/MURI-SARA/Thermoreflectance/Joanne/CHESS/0130_2023/30mm_per_sec/-12mm_29W_009.raw\n",
      "/Users/chiaentsai/Box/MURI-SARA/Thermoreflectance/Joanne/CHESS/0130_2023/30mm_per_sec/-12mm_29W_010.raw\n",
      "/Users/chiaentsai/Box/MURI-SARA/Thermoreflectance/Joanne/CHESS/0130_2023/30mm_per_sec/-12mm_29W_011.raw\n",
      "/Users/chiaentsai/Box/MURI-SARA/Thermoreflectance/Joanne/CHESS/0130_2023/30mm_per_sec/-12mm_29W_012.raw\n",
      "/Users/chiaentsai/Box/MURI-SARA/Thermoreflectance/Joanne/CHESS/0130_2023/30mm_per_sec/-12mm_29W_013.raw\n",
      "/Users/chiaentsai/Box/MURI-SARA/Thermoreflectance/Joanne/CHESS/0130_2023/30mm_per_sec/-12mm_29W_014.raw\n",
      "/Users/chiaentsai/Box/MURI-SARA/Thermoreflectance/Joanne/CHESS/0130_2023/30mm_per_sec/-12mm_29W_015.raw\n",
      "/Users/chiaentsai/Box/MURI-SARA/Thermoreflectance/Joanne/CHESS/0130_2023/30mm_per_sec/-12mm_29W_016.raw\n",
      "/Users/chiaentsai/Box/MURI-SARA/Thermoreflectance/Joanne/CHESS/0130_2023/30mm_per_sec/-12mm_29W_017.raw\n",
      "/Users/chiaentsai/Box/MURI-SARA/Thermoreflectance/Joanne/CHESS/0130_2023/30mm_per_sec/-12mm_29W_018.raw\n",
      "/Users/chiaentsai/Box/MURI-SARA/Thermoreflectance/Joanne/CHESS/0130_2023/30mm_per_sec/-12mm_29W_019.raw\n",
      "/Users/chiaentsai/Box/MURI-SARA/Thermoreflectance/Joanne/CHESS/0130_2023/30mm_per_sec/-12mm_29W_020.raw\n",
      "/Users/chiaentsai/Box/MURI-SARA/Thermoreflectance/Joanne/CHESS/0130_2023/30mm_per_sec/-12mm_29W_021.raw\n",
      "/Users/chiaentsai/Box/MURI-SARA/Thermoreflectance/Joanne/CHESS/0130_2023/30mm_per_sec/-12mm_29W_022.raw\n",
      "/Users/chiaentsai/Box/MURI-SARA/Thermoreflectance/Joanne/CHESS/0130_2023/30mm_per_sec/-12mm_29W_023.raw\n",
      "/Users/chiaentsai/Box/MURI-SARA/Thermoreflectance/Joanne/CHESS/0130_2023/30mm_per_sec/-12mm_29W_024.raw\n",
      "/Users/chiaentsai/Box/MURI-SARA/Thermoreflectance/Joanne/CHESS/0130_2023/30mm_per_sec/-12mm_29W_025.raw\n",
      "/Users/chiaentsai/Box/MURI-SARA/Thermoreflectance/Joanne/CHESS/0130_2023/30mm_per_sec/-12mm_29W_026.raw\n",
      "/Users/chiaentsai/Box/MURI-SARA/Thermoreflectance/Joanne/CHESS/0130_2023/30mm_per_sec/-12mm_29W_027.raw\n",
      "/Users/chiaentsai/Box/MURI-SARA/Thermoreflectance/Joanne/CHESS/0130_2023/30mm_per_sec/-12mm_29W_028.raw\n"
     ]
    },
    {
     "name": "stderr",
     "output_type": "stream",
     "text": [
      "100%|█████████████████████████████████████████| 360/360 [00:04<00:00, 86.58it/s]\n"
     ]
    },
    {
     "name": "stdout",
     "output_type": "stream",
     "text": [
      "/Users/chiaentsai/Box/MURI-SARA/Thermoreflectance/Joanne/CHESS/0130_2023/30mm_per_sec/-12mm_29W_029.raw\n"
     ]
    },
    {
     "name": "stderr",
     "output_type": "stream",
     "text": [
      "\r",
      "  0%|                                                   | 0/360 [00:00<?, ?it/s]"
     ]
    },
    {
     "name": "stdout",
     "output_type": "stream",
     "text": [
      "/Users/chiaentsai/Box/MURI-SARA/Thermoreflectance/Joanne/CHESS/0130_2023/30mm_per_sec/-12mm_31W_000.raw\n"
     ]
    },
    {
     "name": "stderr",
     "output_type": "stream",
     "text": [
      "\r",
      " 67%|██████████████████████████▊             | 241/360 [00:00<00:00, 858.96it/s]"
     ]
    },
    {
     "name": "stdout",
     "output_type": "stream",
     "text": [
      "/Users/chiaentsai/Box/MURI-SARA/Thermoreflectance/Joanne/CHESS/0130_2023/30mm_per_sec/-12mm_31W_001.raw\n",
      "/Users/chiaentsai/Box/MURI-SARA/Thermoreflectance/Joanne/CHESS/0130_2023/30mm_per_sec/-12mm_31W_002.raw\n",
      "/Users/chiaentsai/Box/MURI-SARA/Thermoreflectance/Joanne/CHESS/0130_2023/30mm_per_sec/-12mm_31W_003.raw\n",
      "/Users/chiaentsai/Box/MURI-SARA/Thermoreflectance/Joanne/CHESS/0130_2023/30mm_per_sec/-12mm_31W_004.raw\n",
      "/Users/chiaentsai/Box/MURI-SARA/Thermoreflectance/Joanne/CHESS/0130_2023/30mm_per_sec/-12mm_31W_005.raw\n",
      "/Users/chiaentsai/Box/MURI-SARA/Thermoreflectance/Joanne/CHESS/0130_2023/30mm_per_sec/-12mm_31W_006.raw\n",
      "/Users/chiaentsai/Box/MURI-SARA/Thermoreflectance/Joanne/CHESS/0130_2023/30mm_per_sec/-12mm_31W_007.raw\n",
      "/Users/chiaentsai/Box/MURI-SARA/Thermoreflectance/Joanne/CHESS/0130_2023/30mm_per_sec/-12mm_31W_008.raw\n",
      "/Users/chiaentsai/Box/MURI-SARA/Thermoreflectance/Joanne/CHESS/0130_2023/30mm_per_sec/-12mm_31W_009.raw\n",
      "/Users/chiaentsai/Box/MURI-SARA/Thermoreflectance/Joanne/CHESS/0130_2023/30mm_per_sec/-12mm_31W_010.raw\n",
      "/Users/chiaentsai/Box/MURI-SARA/Thermoreflectance/Joanne/CHESS/0130_2023/30mm_per_sec/-12mm_31W_011.raw\n",
      "/Users/chiaentsai/Box/MURI-SARA/Thermoreflectance/Joanne/CHESS/0130_2023/30mm_per_sec/-12mm_31W_012.raw\n",
      "/Users/chiaentsai/Box/MURI-SARA/Thermoreflectance/Joanne/CHESS/0130_2023/30mm_per_sec/-12mm_31W_013.raw\n",
      "/Users/chiaentsai/Box/MURI-SARA/Thermoreflectance/Joanne/CHESS/0130_2023/30mm_per_sec/-12mm_31W_014.raw\n",
      "/Users/chiaentsai/Box/MURI-SARA/Thermoreflectance/Joanne/CHESS/0130_2023/30mm_per_sec/-12mm_31W_015.raw\n",
      "/Users/chiaentsai/Box/MURI-SARA/Thermoreflectance/Joanne/CHESS/0130_2023/30mm_per_sec/-12mm_31W_016.raw\n",
      "/Users/chiaentsai/Box/MURI-SARA/Thermoreflectance/Joanne/CHESS/0130_2023/30mm_per_sec/-12mm_31W_017.raw\n",
      "/Users/chiaentsai/Box/MURI-SARA/Thermoreflectance/Joanne/CHESS/0130_2023/30mm_per_sec/-12mm_31W_018.raw\n",
      "/Users/chiaentsai/Box/MURI-SARA/Thermoreflectance/Joanne/CHESS/0130_2023/30mm_per_sec/-12mm_31W_019.raw\n",
      "/Users/chiaentsai/Box/MURI-SARA/Thermoreflectance/Joanne/CHESS/0130_2023/30mm_per_sec/-12mm_31W_020.raw\n",
      "/Users/chiaentsai/Box/MURI-SARA/Thermoreflectance/Joanne/CHESS/0130_2023/30mm_per_sec/-12mm_31W_021.raw\n",
      "/Users/chiaentsai/Box/MURI-SARA/Thermoreflectance/Joanne/CHESS/0130_2023/30mm_per_sec/-12mm_31W_022.raw\n",
      "/Users/chiaentsai/Box/MURI-SARA/Thermoreflectance/Joanne/CHESS/0130_2023/30mm_per_sec/-12mm_31W_023.raw\n",
      "/Users/chiaentsai/Box/MURI-SARA/Thermoreflectance/Joanne/CHESS/0130_2023/30mm_per_sec/-12mm_31W_024.raw\n",
      "/Users/chiaentsai/Box/MURI-SARA/Thermoreflectance/Joanne/CHESS/0130_2023/30mm_per_sec/-12mm_31W_025.raw\n",
      "/Users/chiaentsai/Box/MURI-SARA/Thermoreflectance/Joanne/CHESS/0130_2023/30mm_per_sec/-12mm_31W_026.raw\n",
      "/Users/chiaentsai/Box/MURI-SARA/Thermoreflectance/Joanne/CHESS/0130_2023/30mm_per_sec/-12mm_31W_027.raw\n",
      "/Users/chiaentsai/Box/MURI-SARA/Thermoreflectance/Joanne/CHESS/0130_2023/30mm_per_sec/-12mm_31W_028.raw\n"
     ]
    },
    {
     "name": "stderr",
     "output_type": "stream",
     "text": [
      "100%|█████████████████████████████████████████| 360/360 [00:05<00:00, 60.83it/s]\n"
     ]
    },
    {
     "name": "stdout",
     "output_type": "stream",
     "text": [
      "/Users/chiaentsai/Box/MURI-SARA/Thermoreflectance/Joanne/CHESS/0130_2023/30mm_per_sec/-12mm_31W_029.raw\n"
     ]
    },
    {
     "name": "stderr",
     "output_type": "stream",
     "text": [
      "\r",
      "  0%|                                                   | 0/360 [00:00<?, ?it/s]"
     ]
    },
    {
     "name": "stdout",
     "output_type": "stream",
     "text": [
      "/Users/chiaentsai/Box/MURI-SARA/Thermoreflectance/Joanne/CHESS/0130_2023/30mm_per_sec/-12mm_33W_000.raw\n",
      "/Users/chiaentsai/Box/MURI-SARA/Thermoreflectance/Joanne/CHESS/0130_2023/30mm_per_sec/-12mm_33W_001.raw\n"
     ]
    },
    {
     "name": "stderr",
     "output_type": "stream",
     "text": [
      "\r",
      " 76%|█████████████████████████████▍         | 272/360 [00:00<00:00, 1119.38it/s]"
     ]
    },
    {
     "name": "stdout",
     "output_type": "stream",
     "text": [
      "/Users/chiaentsai/Box/MURI-SARA/Thermoreflectance/Joanne/CHESS/0130_2023/30mm_per_sec/-12mm_33W_002.raw\n",
      "/Users/chiaentsai/Box/MURI-SARA/Thermoreflectance/Joanne/CHESS/0130_2023/30mm_per_sec/-12mm_33W_003.raw\n",
      "/Users/chiaentsai/Box/MURI-SARA/Thermoreflectance/Joanne/CHESS/0130_2023/30mm_per_sec/-12mm_33W_004.raw\n",
      "/Users/chiaentsai/Box/MURI-SARA/Thermoreflectance/Joanne/CHESS/0130_2023/30mm_per_sec/-12mm_33W_005.raw\n",
      "/Users/chiaentsai/Box/MURI-SARA/Thermoreflectance/Joanne/CHESS/0130_2023/30mm_per_sec/-12mm_33W_006.raw\n",
      "/Users/chiaentsai/Box/MURI-SARA/Thermoreflectance/Joanne/CHESS/0130_2023/30mm_per_sec/-12mm_33W_007.raw\n",
      "/Users/chiaentsai/Box/MURI-SARA/Thermoreflectance/Joanne/CHESS/0130_2023/30mm_per_sec/-12mm_33W_008.raw\n",
      "/Users/chiaentsai/Box/MURI-SARA/Thermoreflectance/Joanne/CHESS/0130_2023/30mm_per_sec/-12mm_33W_009.raw\n",
      "/Users/chiaentsai/Box/MURI-SARA/Thermoreflectance/Joanne/CHESS/0130_2023/30mm_per_sec/-12mm_33W_010.raw\n",
      "/Users/chiaentsai/Box/MURI-SARA/Thermoreflectance/Joanne/CHESS/0130_2023/30mm_per_sec/-12mm_33W_011.raw\n",
      "/Users/chiaentsai/Box/MURI-SARA/Thermoreflectance/Joanne/CHESS/0130_2023/30mm_per_sec/-12mm_33W_012.raw\n",
      "/Users/chiaentsai/Box/MURI-SARA/Thermoreflectance/Joanne/CHESS/0130_2023/30mm_per_sec/-12mm_33W_013.raw\n",
      "/Users/chiaentsai/Box/MURI-SARA/Thermoreflectance/Joanne/CHESS/0130_2023/30mm_per_sec/-12mm_33W_014.raw\n",
      "/Users/chiaentsai/Box/MURI-SARA/Thermoreflectance/Joanne/CHESS/0130_2023/30mm_per_sec/-12mm_33W_015.raw\n",
      "/Users/chiaentsai/Box/MURI-SARA/Thermoreflectance/Joanne/CHESS/0130_2023/30mm_per_sec/-12mm_33W_016.raw\n",
      "/Users/chiaentsai/Box/MURI-SARA/Thermoreflectance/Joanne/CHESS/0130_2023/30mm_per_sec/-12mm_33W_017.raw\n",
      "/Users/chiaentsai/Box/MURI-SARA/Thermoreflectance/Joanne/CHESS/0130_2023/30mm_per_sec/-12mm_33W_018.raw\n",
      "/Users/chiaentsai/Box/MURI-SARA/Thermoreflectance/Joanne/CHESS/0130_2023/30mm_per_sec/-12mm_33W_019.raw\n",
      "/Users/chiaentsai/Box/MURI-SARA/Thermoreflectance/Joanne/CHESS/0130_2023/30mm_per_sec/-12mm_33W_020.raw\n",
      "/Users/chiaentsai/Box/MURI-SARA/Thermoreflectance/Joanne/CHESS/0130_2023/30mm_per_sec/-12mm_33W_021.raw\n",
      "/Users/chiaentsai/Box/MURI-SARA/Thermoreflectance/Joanne/CHESS/0130_2023/30mm_per_sec/-12mm_33W_022.raw\n",
      "/Users/chiaentsai/Box/MURI-SARA/Thermoreflectance/Joanne/CHESS/0130_2023/30mm_per_sec/-12mm_33W_023.raw\n",
      "/Users/chiaentsai/Box/MURI-SARA/Thermoreflectance/Joanne/CHESS/0130_2023/30mm_per_sec/-12mm_33W_024.raw\n",
      "/Users/chiaentsai/Box/MURI-SARA/Thermoreflectance/Joanne/CHESS/0130_2023/30mm_per_sec/-12mm_33W_025.raw\n",
      "/Users/chiaentsai/Box/MURI-SARA/Thermoreflectance/Joanne/CHESS/0130_2023/30mm_per_sec/-12mm_33W_026.raw\n",
      "/Users/chiaentsai/Box/MURI-SARA/Thermoreflectance/Joanne/CHESS/0130_2023/30mm_per_sec/-12mm_33W_027.raw\n",
      "/Users/chiaentsai/Box/MURI-SARA/Thermoreflectance/Joanne/CHESS/0130_2023/30mm_per_sec/-12mm_33W_028.raw\n",
      "/Users/chiaentsai/Box/MURI-SARA/Thermoreflectance/Joanne/CHESS/0130_2023/30mm_per_sec/-12mm_33W_029.raw\n"
     ]
    },
    {
     "name": "stderr",
     "output_type": "stream",
     "text": [
      "100%|█████████████████████████████████████████| 360/360 [00:06<00:00, 59.76it/s]\n",
      " 84%|████████████████████████████████▌      | 301/360 [00:00<00:00, 1623.56it/s]"
     ]
    },
    {
     "name": "stdout",
     "output_type": "stream",
     "text": [
      "/Users/chiaentsai/Box/MURI-SARA/Thermoreflectance/Joanne/CHESS/0130_2023/30mm_per_sec/-12mm_35W_000.raw\n",
      "/Users/chiaentsai/Box/MURI-SARA/Thermoreflectance/Joanne/CHESS/0130_2023/30mm_per_sec/-12mm_35W_001.raw\n",
      "/Users/chiaentsai/Box/MURI-SARA/Thermoreflectance/Joanne/CHESS/0130_2023/30mm_per_sec/-12mm_35W_002.raw\n",
      "/Users/chiaentsai/Box/MURI-SARA/Thermoreflectance/Joanne/CHESS/0130_2023/30mm_per_sec/-12mm_35W_003.raw\n",
      "/Users/chiaentsai/Box/MURI-SARA/Thermoreflectance/Joanne/CHESS/0130_2023/30mm_per_sec/-12mm_35W_004.raw\n",
      "/Users/chiaentsai/Box/MURI-SARA/Thermoreflectance/Joanne/CHESS/0130_2023/30mm_per_sec/-12mm_35W_005.raw\n",
      "/Users/chiaentsai/Box/MURI-SARA/Thermoreflectance/Joanne/CHESS/0130_2023/30mm_per_sec/-12mm_35W_006.raw\n",
      "/Users/chiaentsai/Box/MURI-SARA/Thermoreflectance/Joanne/CHESS/0130_2023/30mm_per_sec/-12mm_35W_007.raw\n",
      "/Users/chiaentsai/Box/MURI-SARA/Thermoreflectance/Joanne/CHESS/0130_2023/30mm_per_sec/-12mm_35W_008.raw\n",
      "/Users/chiaentsai/Box/MURI-SARA/Thermoreflectance/Joanne/CHESS/0130_2023/30mm_per_sec/-12mm_35W_009.raw\n",
      "/Users/chiaentsai/Box/MURI-SARA/Thermoreflectance/Joanne/CHESS/0130_2023/30mm_per_sec/-12mm_35W_010.raw\n",
      "/Users/chiaentsai/Box/MURI-SARA/Thermoreflectance/Joanne/CHESS/0130_2023/30mm_per_sec/-12mm_35W_011.raw\n",
      "/Users/chiaentsai/Box/MURI-SARA/Thermoreflectance/Joanne/CHESS/0130_2023/30mm_per_sec/-12mm_35W_012.raw\n",
      "/Users/chiaentsai/Box/MURI-SARA/Thermoreflectance/Joanne/CHESS/0130_2023/30mm_per_sec/-12mm_35W_013.raw\n",
      "/Users/chiaentsai/Box/MURI-SARA/Thermoreflectance/Joanne/CHESS/0130_2023/30mm_per_sec/-12mm_35W_014.raw\n",
      "/Users/chiaentsai/Box/MURI-SARA/Thermoreflectance/Joanne/CHESS/0130_2023/30mm_per_sec/-12mm_35W_015.raw\n",
      "/Users/chiaentsai/Box/MURI-SARA/Thermoreflectance/Joanne/CHESS/0130_2023/30mm_per_sec/-12mm_35W_016.raw\n",
      "/Users/chiaentsai/Box/MURI-SARA/Thermoreflectance/Joanne/CHESS/0130_2023/30mm_per_sec/-12mm_35W_017.raw\n",
      "/Users/chiaentsai/Box/MURI-SARA/Thermoreflectance/Joanne/CHESS/0130_2023/30mm_per_sec/-12mm_35W_018.raw\n",
      "/Users/chiaentsai/Box/MURI-SARA/Thermoreflectance/Joanne/CHESS/0130_2023/30mm_per_sec/-12mm_35W_019.raw\n",
      "/Users/chiaentsai/Box/MURI-SARA/Thermoreflectance/Joanne/CHESS/0130_2023/30mm_per_sec/-12mm_35W_020.raw\n",
      "/Users/chiaentsai/Box/MURI-SARA/Thermoreflectance/Joanne/CHESS/0130_2023/30mm_per_sec/-12mm_35W_021.raw\n",
      "/Users/chiaentsai/Box/MURI-SARA/Thermoreflectance/Joanne/CHESS/0130_2023/30mm_per_sec/-12mm_35W_022.raw\n",
      "/Users/chiaentsai/Box/MURI-SARA/Thermoreflectance/Joanne/CHESS/0130_2023/30mm_per_sec/-12mm_35W_023.raw\n",
      "/Users/chiaentsai/Box/MURI-SARA/Thermoreflectance/Joanne/CHESS/0130_2023/30mm_per_sec/-12mm_35W_024.raw\n",
      "/Users/chiaentsai/Box/MURI-SARA/Thermoreflectance/Joanne/CHESS/0130_2023/30mm_per_sec/-12mm_35W_025.raw\n",
      "/Users/chiaentsai/Box/MURI-SARA/Thermoreflectance/Joanne/CHESS/0130_2023/30mm_per_sec/-12mm_35W_026.raw\n",
      "/Users/chiaentsai/Box/MURI-SARA/Thermoreflectance/Joanne/CHESS/0130_2023/30mm_per_sec/-12mm_35W_027.raw\n",
      "/Users/chiaentsai/Box/MURI-SARA/Thermoreflectance/Joanne/CHESS/0130_2023/30mm_per_sec/-12mm_35W_028.raw\n",
      "/Users/chiaentsai/Box/MURI-SARA/Thermoreflectance/Joanne/CHESS/0130_2023/30mm_per_sec/-12mm_35W_029.raw\n"
     ]
    },
    {
     "name": "stderr",
     "output_type": "stream",
     "text": [
      "100%|█████████████████████████████████████████| 360/360 [00:05<00:00, 63.17it/s]\n",
      " 92%|███████████████████████████████████▊   | 331/360 [00:00<00:00, 1685.17it/s]"
     ]
    },
    {
     "name": "stdout",
     "output_type": "stream",
     "text": [
      "/Users/chiaentsai/Box/MURI-SARA/Thermoreflectance/Joanne/CHESS/0130_2023/30mm_per_sec/-12mm_37W_000.raw\n",
      "/Users/chiaentsai/Box/MURI-SARA/Thermoreflectance/Joanne/CHESS/0130_2023/30mm_per_sec/-12mm_37W_001.raw\n",
      "/Users/chiaentsai/Box/MURI-SARA/Thermoreflectance/Joanne/CHESS/0130_2023/30mm_per_sec/-12mm_37W_002.raw\n",
      "/Users/chiaentsai/Box/MURI-SARA/Thermoreflectance/Joanne/CHESS/0130_2023/30mm_per_sec/-12mm_37W_003.raw\n",
      "/Users/chiaentsai/Box/MURI-SARA/Thermoreflectance/Joanne/CHESS/0130_2023/30mm_per_sec/-12mm_37W_004.raw\n",
      "/Users/chiaentsai/Box/MURI-SARA/Thermoreflectance/Joanne/CHESS/0130_2023/30mm_per_sec/-12mm_37W_005.raw\n",
      "/Users/chiaentsai/Box/MURI-SARA/Thermoreflectance/Joanne/CHESS/0130_2023/30mm_per_sec/-12mm_37W_006.raw\n",
      "/Users/chiaentsai/Box/MURI-SARA/Thermoreflectance/Joanne/CHESS/0130_2023/30mm_per_sec/-12mm_37W_007.raw\n",
      "/Users/chiaentsai/Box/MURI-SARA/Thermoreflectance/Joanne/CHESS/0130_2023/30mm_per_sec/-12mm_37W_008.raw\n",
      "/Users/chiaentsai/Box/MURI-SARA/Thermoreflectance/Joanne/CHESS/0130_2023/30mm_per_sec/-12mm_37W_009.raw\n",
      "/Users/chiaentsai/Box/MURI-SARA/Thermoreflectance/Joanne/CHESS/0130_2023/30mm_per_sec/-12mm_37W_010.raw\n",
      "/Users/chiaentsai/Box/MURI-SARA/Thermoreflectance/Joanne/CHESS/0130_2023/30mm_per_sec/-12mm_37W_011.raw\n",
      "/Users/chiaentsai/Box/MURI-SARA/Thermoreflectance/Joanne/CHESS/0130_2023/30mm_per_sec/-12mm_37W_012.raw\n",
      "/Users/chiaentsai/Box/MURI-SARA/Thermoreflectance/Joanne/CHESS/0130_2023/30mm_per_sec/-12mm_37W_013.raw\n",
      "/Users/chiaentsai/Box/MURI-SARA/Thermoreflectance/Joanne/CHESS/0130_2023/30mm_per_sec/-12mm_37W_014.raw\n",
      "/Users/chiaentsai/Box/MURI-SARA/Thermoreflectance/Joanne/CHESS/0130_2023/30mm_per_sec/-12mm_37W_015.raw\n",
      "/Users/chiaentsai/Box/MURI-SARA/Thermoreflectance/Joanne/CHESS/0130_2023/30mm_per_sec/-12mm_37W_016.raw\n",
      "/Users/chiaentsai/Box/MURI-SARA/Thermoreflectance/Joanne/CHESS/0130_2023/30mm_per_sec/-12mm_37W_017.raw\n",
      "/Users/chiaentsai/Box/MURI-SARA/Thermoreflectance/Joanne/CHESS/0130_2023/30mm_per_sec/-12mm_37W_018.raw\n",
      "/Users/chiaentsai/Box/MURI-SARA/Thermoreflectance/Joanne/CHESS/0130_2023/30mm_per_sec/-12mm_37W_019.raw\n",
      "/Users/chiaentsai/Box/MURI-SARA/Thermoreflectance/Joanne/CHESS/0130_2023/30mm_per_sec/-12mm_37W_020.raw\n",
      "/Users/chiaentsai/Box/MURI-SARA/Thermoreflectance/Joanne/CHESS/0130_2023/30mm_per_sec/-12mm_37W_021.raw\n",
      "/Users/chiaentsai/Box/MURI-SARA/Thermoreflectance/Joanne/CHESS/0130_2023/30mm_per_sec/-12mm_37W_022.raw\n",
      "/Users/chiaentsai/Box/MURI-SARA/Thermoreflectance/Joanne/CHESS/0130_2023/30mm_per_sec/-12mm_37W_023.raw\n",
      "/Users/chiaentsai/Box/MURI-SARA/Thermoreflectance/Joanne/CHESS/0130_2023/30mm_per_sec/-12mm_37W_024.raw\n",
      "/Users/chiaentsai/Box/MURI-SARA/Thermoreflectance/Joanne/CHESS/0130_2023/30mm_per_sec/-12mm_37W_025.raw\n",
      "/Users/chiaentsai/Box/MURI-SARA/Thermoreflectance/Joanne/CHESS/0130_2023/30mm_per_sec/-12mm_37W_026.raw\n",
      "/Users/chiaentsai/Box/MURI-SARA/Thermoreflectance/Joanne/CHESS/0130_2023/30mm_per_sec/-12mm_37W_027.raw\n",
      "/Users/chiaentsai/Box/MURI-SARA/Thermoreflectance/Joanne/CHESS/0130_2023/30mm_per_sec/-12mm_37W_028.raw\n"
     ]
    },
    {
     "name": "stderr",
     "output_type": "stream",
     "text": [
      "\r",
      "100%|█████████████████████████████████████████| 360/360 [00:05<00:00, 68.73it/s]"
     ]
    },
    {
     "name": "stdout",
     "output_type": "stream",
     "text": [
      "/Users/chiaentsai/Box/MURI-SARA/Thermoreflectance/Joanne/CHESS/0130_2023/30mm_per_sec/-12mm_37W_029.raw\n"
     ]
    },
    {
     "name": "stderr",
     "output_type": "stream",
     "text": [
      "\n",
      "  0%|                                                   | 0/540 [00:00<?, ?it/s]"
     ]
    },
    {
     "name": "stdout",
     "output_type": "stream",
     "text": [
      "/Users/chiaentsai/Box/MURI-SARA/Thermoreflectance/Joanne/CHESS/0130_2023/352mm_per_sec/-26mm_31W_000.raw\n"
     ]
    },
    {
     "name": "stderr",
     "output_type": "stream",
     "text": [
      "\r",
      " 28%|███████████▏                            | 151/540 [00:00<00:01, 357.20it/s]"
     ]
    },
    {
     "name": "stdout",
     "output_type": "stream",
     "text": [
      "/Users/chiaentsai/Box/MURI-SARA/Thermoreflectance/Joanne/CHESS/0130_2023/352mm_per_sec/-26mm_31W_001.raw\n",
      "/Users/chiaentsai/Box/MURI-SARA/Thermoreflectance/Joanne/CHESS/0130_2023/352mm_per_sec/-26mm_31W_002.raw\n",
      "/Users/chiaentsai/Box/MURI-SARA/Thermoreflectance/Joanne/CHESS/0130_2023/352mm_per_sec/-26mm_31W_003.raw\n",
      "/Users/chiaentsai/Box/MURI-SARA/Thermoreflectance/Joanne/CHESS/0130_2023/352mm_per_sec/-26mm_31W_004.raw\n",
      "/Users/chiaentsai/Box/MURI-SARA/Thermoreflectance/Joanne/CHESS/0130_2023/352mm_per_sec/-26mm_31W_005.raw\n",
      "/Users/chiaentsai/Box/MURI-SARA/Thermoreflectance/Joanne/CHESS/0130_2023/352mm_per_sec/-26mm_31W_006.raw\n",
      "/Users/chiaentsai/Box/MURI-SARA/Thermoreflectance/Joanne/CHESS/0130_2023/352mm_per_sec/-26mm_31W_007.raw\n",
      "/Users/chiaentsai/Box/MURI-SARA/Thermoreflectance/Joanne/CHESS/0130_2023/352mm_per_sec/-26mm_31W_008.raw\n",
      "/Users/chiaentsai/Box/MURI-SARA/Thermoreflectance/Joanne/CHESS/0130_2023/352mm_per_sec/-26mm_31W_009.raw\n",
      "/Users/chiaentsai/Box/MURI-SARA/Thermoreflectance/Joanne/CHESS/0130_2023/352mm_per_sec/-26mm_31W_010.raw\n",
      "/Users/chiaentsai/Box/MURI-SARA/Thermoreflectance/Joanne/CHESS/0130_2023/352mm_per_sec/-26mm_31W_011.raw\n",
      "/Users/chiaentsai/Box/MURI-SARA/Thermoreflectance/Joanne/CHESS/0130_2023/352mm_per_sec/-26mm_31W_012.raw\n",
      "/Users/chiaentsai/Box/MURI-SARA/Thermoreflectance/Joanne/CHESS/0130_2023/352mm_per_sec/-26mm_31W_013.raw\n",
      "/Users/chiaentsai/Box/MURI-SARA/Thermoreflectance/Joanne/CHESS/0130_2023/352mm_per_sec/-26mm_31W_014.raw\n",
      "/Users/chiaentsai/Box/MURI-SARA/Thermoreflectance/Joanne/CHESS/0130_2023/352mm_per_sec/-26mm_31W_015.raw\n",
      "/Users/chiaentsai/Box/MURI-SARA/Thermoreflectance/Joanne/CHESS/0130_2023/352mm_per_sec/-26mm_31W_016.raw\n",
      "/Users/chiaentsai/Box/MURI-SARA/Thermoreflectance/Joanne/CHESS/0130_2023/352mm_per_sec/-26mm_31W_017.raw\n",
      "/Users/chiaentsai/Box/MURI-SARA/Thermoreflectance/Joanne/CHESS/0130_2023/352mm_per_sec/-26mm_31W_018.raw\n",
      "/Users/chiaentsai/Box/MURI-SARA/Thermoreflectance/Joanne/CHESS/0130_2023/352mm_per_sec/-26mm_31W_019.raw\n",
      "/Users/chiaentsai/Box/MURI-SARA/Thermoreflectance/Joanne/CHESS/0130_2023/352mm_per_sec/-26mm_31W_020.raw\n"
     ]
    },
    {
     "name": "stderr",
     "output_type": "stream",
     "text": [
      " 32%|████████████▉                            | 171/540 [00:16<00:49,  7.51it/s]"
     ]
    },
    {
     "name": "stdout",
     "output_type": "stream",
     "text": [
      "/Users/chiaentsai/Box/MURI-SARA/Thermoreflectance/Joanne/CHESS/0130_2023/352mm_per_sec/-26mm_31W_021.raw\n"
     ]
    },
    {
     "name": "stderr",
     "output_type": "stream",
     "text": [
      "\r",
      " 32%|█████████████                            | 172/540 [00:18<00:54,  6.76it/s]"
     ]
    },
    {
     "name": "stdout",
     "output_type": "stream",
     "text": [
      "/Users/chiaentsai/Box/MURI-SARA/Thermoreflectance/Joanne/CHESS/0130_2023/352mm_per_sec/-26mm_31W_022.raw\n",
      "/Users/chiaentsai/Box/MURI-SARA/Thermoreflectance/Joanne/CHESS/0130_2023/352mm_per_sec/-26mm_31W_023.raw\n",
      "/Users/chiaentsai/Box/MURI-SARA/Thermoreflectance/Joanne/CHESS/0130_2023/352mm_per_sec/-26mm_31W_024.raw\n",
      "/Users/chiaentsai/Box/MURI-SARA/Thermoreflectance/Joanne/CHESS/0130_2023/352mm_per_sec/-26mm_31W_025.raw\n",
      "/Users/chiaentsai/Box/MURI-SARA/Thermoreflectance/Joanne/CHESS/0130_2023/352mm_per_sec/-26mm_31W_026.raw\n",
      "/Users/chiaentsai/Box/MURI-SARA/Thermoreflectance/Joanne/CHESS/0130_2023/352mm_per_sec/-26mm_31W_027.raw\n",
      "/Users/chiaentsai/Box/MURI-SARA/Thermoreflectance/Joanne/CHESS/0130_2023/352mm_per_sec/-26mm_31W_028.raw\n",
      "/Users/chiaentsai/Box/MURI-SARA/Thermoreflectance/Joanne/CHESS/0130_2023/352mm_per_sec/-26mm_31W_029.raw\n"
     ]
    },
    {
     "name": "stderr",
     "output_type": "stream",
     "text": [
      "100%|█████████████████████████████████████████| 540/540 [00:25<00:00, 21.00it/s]\n",
      " 34%|█████████████                          | 181/540 [00:00<00:00, 1692.07it/s]"
     ]
    },
    {
     "name": "stdout",
     "output_type": "stream",
     "text": [
      "/Users/chiaentsai/Box/MURI-SARA/Thermoreflectance/Joanne/CHESS/0130_2023/352mm_per_sec/-26mm_33W_000.raw\n",
      "/Users/chiaentsai/Box/MURI-SARA/Thermoreflectance/Joanne/CHESS/0130_2023/352mm_per_sec/-26mm_33W_001.raw\n",
      "/Users/chiaentsai/Box/MURI-SARA/Thermoreflectance/Joanne/CHESS/0130_2023/352mm_per_sec/-26mm_33W_002.raw\n",
      "/Users/chiaentsai/Box/MURI-SARA/Thermoreflectance/Joanne/CHESS/0130_2023/352mm_per_sec/-26mm_33W_003.raw\n",
      "/Users/chiaentsai/Box/MURI-SARA/Thermoreflectance/Joanne/CHESS/0130_2023/352mm_per_sec/-26mm_33W_004.raw\n",
      "/Users/chiaentsai/Box/MURI-SARA/Thermoreflectance/Joanne/CHESS/0130_2023/352mm_per_sec/-26mm_33W_005.raw\n",
      "/Users/chiaentsai/Box/MURI-SARA/Thermoreflectance/Joanne/CHESS/0130_2023/352mm_per_sec/-26mm_33W_006.raw\n",
      "/Users/chiaentsai/Box/MURI-SARA/Thermoreflectance/Joanne/CHESS/0130_2023/352mm_per_sec/-26mm_33W_007.raw\n",
      "/Users/chiaentsai/Box/MURI-SARA/Thermoreflectance/Joanne/CHESS/0130_2023/352mm_per_sec/-26mm_33W_008.raw\n",
      "/Users/chiaentsai/Box/MURI-SARA/Thermoreflectance/Joanne/CHESS/0130_2023/352mm_per_sec/-26mm_33W_009.raw\n",
      "/Users/chiaentsai/Box/MURI-SARA/Thermoreflectance/Joanne/CHESS/0130_2023/352mm_per_sec/-26mm_33W_010.raw\n",
      "/Users/chiaentsai/Box/MURI-SARA/Thermoreflectance/Joanne/CHESS/0130_2023/352mm_per_sec/-26mm_33W_011.raw\n",
      "/Users/chiaentsai/Box/MURI-SARA/Thermoreflectance/Joanne/CHESS/0130_2023/352mm_per_sec/-26mm_33W_012.raw\n",
      "/Users/chiaentsai/Box/MURI-SARA/Thermoreflectance/Joanne/CHESS/0130_2023/352mm_per_sec/-26mm_33W_013.raw\n",
      "/Users/chiaentsai/Box/MURI-SARA/Thermoreflectance/Joanne/CHESS/0130_2023/352mm_per_sec/-26mm_33W_014.raw\n",
      "/Users/chiaentsai/Box/MURI-SARA/Thermoreflectance/Joanne/CHESS/0130_2023/352mm_per_sec/-26mm_33W_015.raw\n",
      "/Users/chiaentsai/Box/MURI-SARA/Thermoreflectance/Joanne/CHESS/0130_2023/352mm_per_sec/-26mm_33W_016.raw\n",
      "/Users/chiaentsai/Box/MURI-SARA/Thermoreflectance/Joanne/CHESS/0130_2023/352mm_per_sec/-26mm_33W_017.raw\n",
      "/Users/chiaentsai/Box/MURI-SARA/Thermoreflectance/Joanne/CHESS/0130_2023/352mm_per_sec/-26mm_33W_018.raw\n"
     ]
    },
    {
     "name": "stderr",
     "output_type": "stream",
     "text": [
      " 37%|███████████████                          | 199/540 [00:11<00:28, 12.16it/s]"
     ]
    },
    {
     "name": "stdout",
     "output_type": "stream",
     "text": [
      "/Users/chiaentsai/Box/MURI-SARA/Thermoreflectance/Joanne/CHESS/0130_2023/352mm_per_sec/-26mm_33W_019.raw\n"
     ]
    },
    {
     "name": "stderr",
     "output_type": "stream",
     "text": [
      "\r",
      " 37%|███████████████▏                         | 200/540 [00:12<00:31, 10.94it/s]"
     ]
    },
    {
     "name": "stdout",
     "output_type": "stream",
     "text": [
      "/Users/chiaentsai/Box/MURI-SARA/Thermoreflectance/Joanne/CHESS/0130_2023/352mm_per_sec/-26mm_33W_020.raw\n",
      "/Users/chiaentsai/Box/MURI-SARA/Thermoreflectance/Joanne/CHESS/0130_2023/352mm_per_sec/-26mm_33W_021.raw\n",
      "/Users/chiaentsai/Box/MURI-SARA/Thermoreflectance/Joanne/CHESS/0130_2023/352mm_per_sec/-26mm_33W_022.raw\n",
      "/Users/chiaentsai/Box/MURI-SARA/Thermoreflectance/Joanne/CHESS/0130_2023/352mm_per_sec/-26mm_33W_023.raw\n",
      "/Users/chiaentsai/Box/MURI-SARA/Thermoreflectance/Joanne/CHESS/0130_2023/352mm_per_sec/-26mm_33W_024.raw\n",
      "/Users/chiaentsai/Box/MURI-SARA/Thermoreflectance/Joanne/CHESS/0130_2023/352mm_per_sec/-26mm_33W_025.raw\n",
      "/Users/chiaentsai/Box/MURI-SARA/Thermoreflectance/Joanne/CHESS/0130_2023/352mm_per_sec/-26mm_33W_026.raw\n",
      "/Users/chiaentsai/Box/MURI-SARA/Thermoreflectance/Joanne/CHESS/0130_2023/352mm_per_sec/-26mm_33W_027.raw\n",
      "/Users/chiaentsai/Box/MURI-SARA/Thermoreflectance/Joanne/CHESS/0130_2023/352mm_per_sec/-26mm_33W_028.raw\n",
      "/Users/chiaentsai/Box/MURI-SARA/Thermoreflectance/Joanne/CHESS/0130_2023/352mm_per_sec/-26mm_33W_029.raw\n"
     ]
    },
    {
     "name": "stderr",
     "output_type": "stream",
     "text": [
      "100%|█████████████████████████████████████████| 540/540 [00:21<00:00, 25.40it/s]\n",
      "  0%|                                                   | 0/540 [00:00<?, ?it/s]"
     ]
    },
    {
     "name": "stdout",
     "output_type": "stream",
     "text": [
      "/Users/chiaentsai/Box/MURI-SARA/Thermoreflectance/Joanne/CHESS/0130_2023/352mm_per_sec/-26mm_35W_000.raw\n"
     ]
    },
    {
     "name": "stderr",
     "output_type": "stream",
     "text": [
      "\r",
      " 39%|███████████████▋                        | 211/540 [00:00<00:00, 971.58it/s]"
     ]
    },
    {
     "name": "stdout",
     "output_type": "stream",
     "text": [
      "/Users/chiaentsai/Box/MURI-SARA/Thermoreflectance/Joanne/CHESS/0130_2023/352mm_per_sec/-26mm_35W_001.raw\n",
      "/Users/chiaentsai/Box/MURI-SARA/Thermoreflectance/Joanne/CHESS/0130_2023/352mm_per_sec/-26mm_35W_002.raw\n",
      "/Users/chiaentsai/Box/MURI-SARA/Thermoreflectance/Joanne/CHESS/0130_2023/352mm_per_sec/-26mm_35W_003.raw\n",
      "/Users/chiaentsai/Box/MURI-SARA/Thermoreflectance/Joanne/CHESS/0130_2023/352mm_per_sec/-26mm_35W_004.raw\n",
      "/Users/chiaentsai/Box/MURI-SARA/Thermoreflectance/Joanne/CHESS/0130_2023/352mm_per_sec/-26mm_35W_005.raw\n",
      "/Users/chiaentsai/Box/MURI-SARA/Thermoreflectance/Joanne/CHESS/0130_2023/352mm_per_sec/-26mm_35W_006.raw\n",
      "/Users/chiaentsai/Box/MURI-SARA/Thermoreflectance/Joanne/CHESS/0130_2023/352mm_per_sec/-26mm_35W_007.raw\n",
      "/Users/chiaentsai/Box/MURI-SARA/Thermoreflectance/Joanne/CHESS/0130_2023/352mm_per_sec/-26mm_35W_008.raw\n",
      "/Users/chiaentsai/Box/MURI-SARA/Thermoreflectance/Joanne/CHESS/0130_2023/352mm_per_sec/-26mm_35W_009.raw\n",
      "/Users/chiaentsai/Box/MURI-SARA/Thermoreflectance/Joanne/CHESS/0130_2023/352mm_per_sec/-26mm_35W_010.raw\n",
      "/Users/chiaentsai/Box/MURI-SARA/Thermoreflectance/Joanne/CHESS/0130_2023/352mm_per_sec/-26mm_35W_011.raw\n",
      "/Users/chiaentsai/Box/MURI-SARA/Thermoreflectance/Joanne/CHESS/0130_2023/352mm_per_sec/-26mm_35W_012.raw\n",
      "/Users/chiaentsai/Box/MURI-SARA/Thermoreflectance/Joanne/CHESS/0130_2023/352mm_per_sec/-26mm_35W_013.raw\n",
      "/Users/chiaentsai/Box/MURI-SARA/Thermoreflectance/Joanne/CHESS/0130_2023/352mm_per_sec/-26mm_35W_014.raw\n",
      "/Users/chiaentsai/Box/MURI-SARA/Thermoreflectance/Joanne/CHESS/0130_2023/352mm_per_sec/-26mm_35W_015.raw\n",
      "/Users/chiaentsai/Box/MURI-SARA/Thermoreflectance/Joanne/CHESS/0130_2023/352mm_per_sec/-26mm_35W_016.raw\n",
      "/Users/chiaentsai/Box/MURI-SARA/Thermoreflectance/Joanne/CHESS/0130_2023/352mm_per_sec/-26mm_35W_017.raw\n",
      "/Users/chiaentsai/Box/MURI-SARA/Thermoreflectance/Joanne/CHESS/0130_2023/352mm_per_sec/-26mm_35W_018.raw\n",
      "/Users/chiaentsai/Box/MURI-SARA/Thermoreflectance/Joanne/CHESS/0130_2023/352mm_per_sec/-26mm_35W_019.raw\n",
      "/Users/chiaentsai/Box/MURI-SARA/Thermoreflectance/Joanne/CHESS/0130_2023/352mm_per_sec/-26mm_35W_020.raw\n",
      "/Users/chiaentsai/Box/MURI-SARA/Thermoreflectance/Joanne/CHESS/0130_2023/352mm_per_sec/-26mm_35W_021.raw\n"
     ]
    },
    {
     "name": "stderr",
     "output_type": "stream",
     "text": [
      " 43%|█████████████████▌                       | 232/540 [00:18<00:34,  8.91it/s]"
     ]
    },
    {
     "name": "stdout",
     "output_type": "stream",
     "text": [
      "/Users/chiaentsai/Box/MURI-SARA/Thermoreflectance/Joanne/CHESS/0130_2023/352mm_per_sec/-26mm_35W_022.raw\n"
     ]
    },
    {
     "name": "stderr",
     "output_type": "stream",
     "text": [
      "\r",
      " 43%|█████████████████▋                       | 233/540 [00:20<00:37,  8.27it/s]"
     ]
    },
    {
     "name": "stdout",
     "output_type": "stream",
     "text": [
      "/Users/chiaentsai/Box/MURI-SARA/Thermoreflectance/Joanne/CHESS/0130_2023/352mm_per_sec/-26mm_35W_023.raw\n",
      "/Users/chiaentsai/Box/MURI-SARA/Thermoreflectance/Joanne/CHESS/0130_2023/352mm_per_sec/-26mm_35W_024.raw\n",
      "/Users/chiaentsai/Box/MURI-SARA/Thermoreflectance/Joanne/CHESS/0130_2023/352mm_per_sec/-26mm_35W_025.raw\n",
      "/Users/chiaentsai/Box/MURI-SARA/Thermoreflectance/Joanne/CHESS/0130_2023/352mm_per_sec/-26mm_35W_026.raw\n",
      "/Users/chiaentsai/Box/MURI-SARA/Thermoreflectance/Joanne/CHESS/0130_2023/352mm_per_sec/-26mm_35W_027.raw\n",
      "/Users/chiaentsai/Box/MURI-SARA/Thermoreflectance/Joanne/CHESS/0130_2023/352mm_per_sec/-26mm_35W_028.raw\n",
      "/Users/chiaentsai/Box/MURI-SARA/Thermoreflectance/Joanne/CHESS/0130_2023/352mm_per_sec/-26mm_35W_029.raw\n"
     ]
    },
    {
     "name": "stderr",
     "output_type": "stream",
     "text": [
      "100%|█████████████████████████████████████████| 540/540 [00:28<00:00, 18.95it/s]\n",
      " 45%|█████████████████▍                     | 242/540 [00:00<00:00, 1508.85it/s]"
     ]
    },
    {
     "name": "stdout",
     "output_type": "stream",
     "text": [
      "/Users/chiaentsai/Box/MURI-SARA/Thermoreflectance/Joanne/CHESS/0130_2023/352mm_per_sec/-26mm_37W_000.raw\n",
      "/Users/chiaentsai/Box/MURI-SARA/Thermoreflectance/Joanne/CHESS/0130_2023/352mm_per_sec/-26mm_37W_001.raw\n",
      "/Users/chiaentsai/Box/MURI-SARA/Thermoreflectance/Joanne/CHESS/0130_2023/352mm_per_sec/-26mm_37W_002.raw\n",
      "/Users/chiaentsai/Box/MURI-SARA/Thermoreflectance/Joanne/CHESS/0130_2023/352mm_per_sec/-26mm_37W_003.raw\n",
      "/Users/chiaentsai/Box/MURI-SARA/Thermoreflectance/Joanne/CHESS/0130_2023/352mm_per_sec/-26mm_37W_004.raw\n",
      "/Users/chiaentsai/Box/MURI-SARA/Thermoreflectance/Joanne/CHESS/0130_2023/352mm_per_sec/-26mm_37W_005.raw\n",
      "/Users/chiaentsai/Box/MURI-SARA/Thermoreflectance/Joanne/CHESS/0130_2023/352mm_per_sec/-26mm_37W_006.raw\n",
      "/Users/chiaentsai/Box/MURI-SARA/Thermoreflectance/Joanne/CHESS/0130_2023/352mm_per_sec/-26mm_37W_007.raw\n",
      "/Users/chiaentsai/Box/MURI-SARA/Thermoreflectance/Joanne/CHESS/0130_2023/352mm_per_sec/-26mm_37W_008.raw\n",
      "/Users/chiaentsai/Box/MURI-SARA/Thermoreflectance/Joanne/CHESS/0130_2023/352mm_per_sec/-26mm_37W_009.raw\n",
      "/Users/chiaentsai/Box/MURI-SARA/Thermoreflectance/Joanne/CHESS/0130_2023/352mm_per_sec/-26mm_37W_010.raw\n",
      "/Users/chiaentsai/Box/MURI-SARA/Thermoreflectance/Joanne/CHESS/0130_2023/352mm_per_sec/-26mm_37W_011.raw\n"
     ]
    },
    {
     "name": "stderr",
     "output_type": "stream",
     "text": [
      " 47%|███████████████████▏                     | 252/540 [00:11<00:17, 16.05it/s]"
     ]
    },
    {
     "name": "stdout",
     "output_type": "stream",
     "text": [
      "/Users/chiaentsai/Box/MURI-SARA/Thermoreflectance/Joanne/CHESS/0130_2023/352mm_per_sec/-26mm_37W_012.raw\n"
     ]
    },
    {
     "name": "stderr",
     "output_type": "stream",
     "text": [
      "\r",
      " 47%|███████████████████▏                     | 253/540 [00:12<00:21, 13.36it/s]"
     ]
    },
    {
     "name": "stdout",
     "output_type": "stream",
     "text": [
      "/Users/chiaentsai/Box/MURI-SARA/Thermoreflectance/Joanne/CHESS/0130_2023/352mm_per_sec/-26mm_37W_013.raw\n",
      "/Users/chiaentsai/Box/MURI-SARA/Thermoreflectance/Joanne/CHESS/0130_2023/352mm_per_sec/-26mm_37W_014.raw\n",
      "/Users/chiaentsai/Box/MURI-SARA/Thermoreflectance/Joanne/CHESS/0130_2023/352mm_per_sec/-26mm_37W_015.raw\n",
      "/Users/chiaentsai/Box/MURI-SARA/Thermoreflectance/Joanne/CHESS/0130_2023/352mm_per_sec/-26mm_37W_016.raw\n",
      "/Users/chiaentsai/Box/MURI-SARA/Thermoreflectance/Joanne/CHESS/0130_2023/352mm_per_sec/-26mm_37W_017.raw\n",
      "/Users/chiaentsai/Box/MURI-SARA/Thermoreflectance/Joanne/CHESS/0130_2023/352mm_per_sec/-26mm_37W_018.raw\n",
      "/Users/chiaentsai/Box/MURI-SARA/Thermoreflectance/Joanne/CHESS/0130_2023/352mm_per_sec/-26mm_37W_019.raw\n",
      "/Users/chiaentsai/Box/MURI-SARA/Thermoreflectance/Joanne/CHESS/0130_2023/352mm_per_sec/-26mm_37W_020.raw\n"
     ]
    },
    {
     "name": "stderr",
     "output_type": "stream",
     "text": [
      " 48%|███████████████████▊                     | 261/540 [00:32<01:15,  3.72it/s]"
     ]
    },
    {
     "name": "stdout",
     "output_type": "stream",
     "text": [
      "/Users/chiaentsai/Box/MURI-SARA/Thermoreflectance/Joanne/CHESS/0130_2023/352mm_per_sec/-26mm_37W_021.raw\n"
     ]
    },
    {
     "name": "stderr",
     "output_type": "stream",
     "text": [
      "\r",
      " 49%|███████████████████▉                     | 262/540 [00:34<01:22,  3.35it/s]"
     ]
    },
    {
     "name": "stdout",
     "output_type": "stream",
     "text": [
      "/Users/chiaentsai/Box/MURI-SARA/Thermoreflectance/Joanne/CHESS/0130_2023/352mm_per_sec/-26mm_37W_022.raw\n",
      "/Users/chiaentsai/Box/MURI-SARA/Thermoreflectance/Joanne/CHESS/0130_2023/352mm_per_sec/-26mm_37W_023.raw\n",
      "/Users/chiaentsai/Box/MURI-SARA/Thermoreflectance/Joanne/CHESS/0130_2023/352mm_per_sec/-26mm_37W_024.raw\n",
      "/Users/chiaentsai/Box/MURI-SARA/Thermoreflectance/Joanne/CHESS/0130_2023/352mm_per_sec/-26mm_37W_025.raw\n",
      "/Users/chiaentsai/Box/MURI-SARA/Thermoreflectance/Joanne/CHESS/0130_2023/352mm_per_sec/-26mm_37W_026.raw\n",
      "/Users/chiaentsai/Box/MURI-SARA/Thermoreflectance/Joanne/CHESS/0130_2023/352mm_per_sec/-26mm_37W_027.raw\n",
      "/Users/chiaentsai/Box/MURI-SARA/Thermoreflectance/Joanne/CHESS/0130_2023/352mm_per_sec/-26mm_37W_028.raw\n",
      "/Users/chiaentsai/Box/MURI-SARA/Thermoreflectance/Joanne/CHESS/0130_2023/352mm_per_sec/-26mm_37W_029.raw\n"
     ]
    },
    {
     "name": "stderr",
     "output_type": "stream",
     "text": [
      "100%|█████████████████████████████████████████| 540/540 [00:52<00:00, 10.24it/s]\n",
      "  0%|                                                   | 0/540 [00:00<?, ?it/s]"
     ]
    },
    {
     "name": "stdout",
     "output_type": "stream",
     "text": [
      "/Users/chiaentsai/Box/MURI-SARA/Thermoreflectance/Joanne/CHESS/0130_2023/352mm_per_sec/-26mm_39W_000.raw\n"
     ]
    },
    {
     "name": "stderr",
     "output_type": "stream",
     "text": [
      "\r",
      " 50%|████████████████████                    | 271/540 [00:01<00:01, 206.66it/s]"
     ]
    },
    {
     "name": "stdout",
     "output_type": "stream",
     "text": [
      "/Users/chiaentsai/Box/MURI-SARA/Thermoreflectance/Joanne/CHESS/0130_2023/352mm_per_sec/-26mm_39W_001.raw\n",
      "/Users/chiaentsai/Box/MURI-SARA/Thermoreflectance/Joanne/CHESS/0130_2023/352mm_per_sec/-26mm_39W_002.raw\n",
      "/Users/chiaentsai/Box/MURI-SARA/Thermoreflectance/Joanne/CHESS/0130_2023/352mm_per_sec/-26mm_39W_003.raw\n",
      "/Users/chiaentsai/Box/MURI-SARA/Thermoreflectance/Joanne/CHESS/0130_2023/352mm_per_sec/-26mm_39W_004.raw\n",
      "/Users/chiaentsai/Box/MURI-SARA/Thermoreflectance/Joanne/CHESS/0130_2023/352mm_per_sec/-26mm_39W_005.raw\n",
      "/Users/chiaentsai/Box/MURI-SARA/Thermoreflectance/Joanne/CHESS/0130_2023/352mm_per_sec/-26mm_39W_006.raw\n",
      "/Users/chiaentsai/Box/MURI-SARA/Thermoreflectance/Joanne/CHESS/0130_2023/352mm_per_sec/-26mm_39W_007.raw\n",
      "/Users/chiaentsai/Box/MURI-SARA/Thermoreflectance/Joanne/CHESS/0130_2023/352mm_per_sec/-26mm_39W_008.raw\n",
      "/Users/chiaentsai/Box/MURI-SARA/Thermoreflectance/Joanne/CHESS/0130_2023/352mm_per_sec/-26mm_39W_009.raw\n",
      "/Users/chiaentsai/Box/MURI-SARA/Thermoreflectance/Joanne/CHESS/0130_2023/352mm_per_sec/-26mm_39W_010.raw\n",
      "/Users/chiaentsai/Box/MURI-SARA/Thermoreflectance/Joanne/CHESS/0130_2023/352mm_per_sec/-26mm_39W_011.raw\n",
      "/Users/chiaentsai/Box/MURI-SARA/Thermoreflectance/Joanne/CHESS/0130_2023/352mm_per_sec/-26mm_39W_012.raw\n",
      "/Users/chiaentsai/Box/MURI-SARA/Thermoreflectance/Joanne/CHESS/0130_2023/352mm_per_sec/-26mm_39W_013.raw\n"
     ]
    },
    {
     "name": "stderr",
     "output_type": "stream",
     "text": [
      " 53%|█████████████████████▌                   | 284/540 [00:20<00:25,  9.97it/s]"
     ]
    },
    {
     "name": "stdout",
     "output_type": "stream",
     "text": [
      "/Users/chiaentsai/Box/MURI-SARA/Thermoreflectance/Joanne/CHESS/0130_2023/352mm_per_sec/-26mm_39W_014.raw\n"
     ]
    },
    {
     "name": "stderr",
     "output_type": "stream",
     "text": [
      "\r",
      " 53%|█████████████████████▋                   | 285/540 [00:24<00:31,  8.12it/s]"
     ]
    },
    {
     "name": "stdout",
     "output_type": "stream",
     "text": [
      "/Users/chiaentsai/Box/MURI-SARA/Thermoreflectance/Joanne/CHESS/0130_2023/352mm_per_sec/-26mm_39W_015.raw\n",
      "/Users/chiaentsai/Box/MURI-SARA/Thermoreflectance/Joanne/CHESS/0130_2023/352mm_per_sec/-26mm_39W_016.raw\n",
      "/Users/chiaentsai/Box/MURI-SARA/Thermoreflectance/Joanne/CHESS/0130_2023/352mm_per_sec/-26mm_39W_017.raw\n",
      "/Users/chiaentsai/Box/MURI-SARA/Thermoreflectance/Joanne/CHESS/0130_2023/352mm_per_sec/-26mm_39W_018.raw\n",
      "/Users/chiaentsai/Box/MURI-SARA/Thermoreflectance/Joanne/CHESS/0130_2023/352mm_per_sec/-26mm_39W_019.raw\n",
      "/Users/chiaentsai/Box/MURI-SARA/Thermoreflectance/Joanne/CHESS/0130_2023/352mm_per_sec/-26mm_39W_020.raw\n",
      "/Users/chiaentsai/Box/MURI-SARA/Thermoreflectance/Joanne/CHESS/0130_2023/352mm_per_sec/-26mm_39W_021.raw\n",
      "/Users/chiaentsai/Box/MURI-SARA/Thermoreflectance/Joanne/CHESS/0130_2023/352mm_per_sec/-26mm_39W_022.raw\n"
     ]
    },
    {
     "name": "stderr",
     "output_type": "stream",
     "text": [
      " 54%|██████████████████████▏                  | 293/540 [00:41<01:08,  3.62it/s]"
     ]
    },
    {
     "name": "stdout",
     "output_type": "stream",
     "text": [
      "/Users/chiaentsai/Box/MURI-SARA/Thermoreflectance/Joanne/CHESS/0130_2023/352mm_per_sec/-26mm_39W_023.raw\n"
     ]
    },
    {
     "name": "stderr",
     "output_type": "stream",
     "text": [
      "\r",
      " 54%|██████████████████████▎                  | 294/540 [00:43<01:13,  3.35it/s]"
     ]
    },
    {
     "name": "stdout",
     "output_type": "stream",
     "text": [
      "/Users/chiaentsai/Box/MURI-SARA/Thermoreflectance/Joanne/CHESS/0130_2023/352mm_per_sec/-26mm_39W_024.raw\n",
      "/Users/chiaentsai/Box/MURI-SARA/Thermoreflectance/Joanne/CHESS/0130_2023/352mm_per_sec/-26mm_39W_025.raw\n",
      "/Users/chiaentsai/Box/MURI-SARA/Thermoreflectance/Joanne/CHESS/0130_2023/352mm_per_sec/-26mm_39W_026.raw\n",
      "/Users/chiaentsai/Box/MURI-SARA/Thermoreflectance/Joanne/CHESS/0130_2023/352mm_per_sec/-26mm_39W_027.raw\n",
      "/Users/chiaentsai/Box/MURI-SARA/Thermoreflectance/Joanne/CHESS/0130_2023/352mm_per_sec/-26mm_39W_028.raw\n"
     ]
    },
    {
     "name": "stderr",
     "output_type": "stream",
     "text": [
      "\r",
      " 55%|██████████████████████▋                  | 299/540 [00:54<01:51,  2.16it/s]"
     ]
    },
    {
     "name": "stdout",
     "output_type": "stream",
     "text": [
      "/Users/chiaentsai/Box/MURI-SARA/Thermoreflectance/Joanne/CHESS/0130_2023/352mm_per_sec/-26mm_39W_029.raw\n"
     ]
    },
    {
     "name": "stderr",
     "output_type": "stream",
     "text": [
      "100%|█████████████████████████████████████████| 540/540 [00:56<00:00,  9.50it/s]\n",
      "  0%|                                                   | 0/540 [00:00<?, ?it/s]"
     ]
    },
    {
     "name": "stdout",
     "output_type": "stream",
     "text": [
      "/Users/chiaentsai/Box/MURI-SARA/Thermoreflectance/Joanne/CHESS/0130_2023/352mm_per_sec/-26mm_41W_000.raw\n"
     ]
    },
    {
     "name": "stderr",
     "output_type": "stream",
     "text": [
      "\r",
      " 56%|██████████████████████▎                 | 301/540 [00:01<00:00, 286.62it/s]"
     ]
    },
    {
     "name": "stdout",
     "output_type": "stream",
     "text": [
      "/Users/chiaentsai/Box/MURI-SARA/Thermoreflectance/Joanne/CHESS/0130_2023/352mm_per_sec/-26mm_41W_001.raw\n",
      "/Users/chiaentsai/Box/MURI-SARA/Thermoreflectance/Joanne/CHESS/0130_2023/352mm_per_sec/-26mm_41W_002.raw\n",
      "/Users/chiaentsai/Box/MURI-SARA/Thermoreflectance/Joanne/CHESS/0130_2023/352mm_per_sec/-26mm_41W_003.raw\n",
      "/Users/chiaentsai/Box/MURI-SARA/Thermoreflectance/Joanne/CHESS/0130_2023/352mm_per_sec/-26mm_41W_004.raw\n",
      "/Users/chiaentsai/Box/MURI-SARA/Thermoreflectance/Joanne/CHESS/0130_2023/352mm_per_sec/-26mm_41W_005.raw\n",
      "/Users/chiaentsai/Box/MURI-SARA/Thermoreflectance/Joanne/CHESS/0130_2023/352mm_per_sec/-26mm_41W_006.raw\n",
      "/Users/chiaentsai/Box/MURI-SARA/Thermoreflectance/Joanne/CHESS/0130_2023/352mm_per_sec/-26mm_41W_007.raw\n",
      "/Users/chiaentsai/Box/MURI-SARA/Thermoreflectance/Joanne/CHESS/0130_2023/352mm_per_sec/-26mm_41W_008.raw\n",
      "/Users/chiaentsai/Box/MURI-SARA/Thermoreflectance/Joanne/CHESS/0130_2023/352mm_per_sec/-26mm_41W_009.raw\n",
      "/Users/chiaentsai/Box/MURI-SARA/Thermoreflectance/Joanne/CHESS/0130_2023/352mm_per_sec/-26mm_41W_010.raw\n",
      "/Users/chiaentsai/Box/MURI-SARA/Thermoreflectance/Joanne/CHESS/0130_2023/352mm_per_sec/-26mm_41W_011.raw\n",
      "/Users/chiaentsai/Box/MURI-SARA/Thermoreflectance/Joanne/CHESS/0130_2023/352mm_per_sec/-26mm_41W_012.raw\n",
      "/Users/chiaentsai/Box/MURI-SARA/Thermoreflectance/Joanne/CHESS/0130_2023/352mm_per_sec/-26mm_41W_013.raw\n"
     ]
    },
    {
     "name": "stderr",
     "output_type": "stream",
     "text": [
      " 58%|███████████████████████▊                 | 314/540 [00:16<00:16, 13.80it/s]"
     ]
    },
    {
     "name": "stdout",
     "output_type": "stream",
     "text": [
      "/Users/chiaentsai/Box/MURI-SARA/Thermoreflectance/Joanne/CHESS/0130_2023/352mm_per_sec/-26mm_41W_014.raw\n"
     ]
    },
    {
     "name": "stderr",
     "output_type": "stream",
     "text": [
      "\r",
      " 58%|███████████████████████▉                 | 315/540 [00:19<00:19, 11.26it/s]"
     ]
    },
    {
     "name": "stdout",
     "output_type": "stream",
     "text": [
      "/Users/chiaentsai/Box/MURI-SARA/Thermoreflectance/Joanne/CHESS/0130_2023/352mm_per_sec/-26mm_41W_015.raw\n",
      "/Users/chiaentsai/Box/MURI-SARA/Thermoreflectance/Joanne/CHESS/0130_2023/352mm_per_sec/-26mm_41W_016.raw\n",
      "/Users/chiaentsai/Box/MURI-SARA/Thermoreflectance/Joanne/CHESS/0130_2023/352mm_per_sec/-26mm_41W_017.raw\n",
      "/Users/chiaentsai/Box/MURI-SARA/Thermoreflectance/Joanne/CHESS/0130_2023/352mm_per_sec/-26mm_41W_018.raw\n",
      "/Users/chiaentsai/Box/MURI-SARA/Thermoreflectance/Joanne/CHESS/0130_2023/352mm_per_sec/-26mm_41W_019.raw\n",
      "/Users/chiaentsai/Box/MURI-SARA/Thermoreflectance/Joanne/CHESS/0130_2023/352mm_per_sec/-26mm_41W_020.raw\n",
      "/Users/chiaentsai/Box/MURI-SARA/Thermoreflectance/Joanne/CHESS/0130_2023/352mm_per_sec/-26mm_41W_021.raw\n",
      "/Users/chiaentsai/Box/MURI-SARA/Thermoreflectance/Joanne/CHESS/0130_2023/352mm_per_sec/-26mm_41W_022.raw\n"
     ]
    },
    {
     "name": "stderr",
     "output_type": "stream",
     "text": [
      " 60%|████████████████████████▌                | 323/540 [00:38<00:52,  4.10it/s]"
     ]
    },
    {
     "name": "stdout",
     "output_type": "stream",
     "text": [
      "/Users/chiaentsai/Box/MURI-SARA/Thermoreflectance/Joanne/CHESS/0130_2023/352mm_per_sec/-26mm_41W_023.raw\n"
     ]
    },
    {
     "name": "stderr",
     "output_type": "stream",
     "text": [
      "\r",
      " 60%|████████████████████████▌                | 324/540 [00:40<00:58,  3.70it/s]"
     ]
    },
    {
     "name": "stdout",
     "output_type": "stream",
     "text": [
      "/Users/chiaentsai/Box/MURI-SARA/Thermoreflectance/Joanne/CHESS/0130_2023/352mm_per_sec/-26mm_41W_024.raw\n",
      "/Users/chiaentsai/Box/MURI-SARA/Thermoreflectance/Joanne/CHESS/0130_2023/352mm_per_sec/-26mm_41W_025.raw\n",
      "/Users/chiaentsai/Box/MURI-SARA/Thermoreflectance/Joanne/CHESS/0130_2023/352mm_per_sec/-26mm_41W_026.raw\n",
      "/Users/chiaentsai/Box/MURI-SARA/Thermoreflectance/Joanne/CHESS/0130_2023/352mm_per_sec/-26mm_41W_027.raw\n",
      "/Users/chiaentsai/Box/MURI-SARA/Thermoreflectance/Joanne/CHESS/0130_2023/352mm_per_sec/-26mm_41W_028.raw\n",
      "/Users/chiaentsai/Box/MURI-SARA/Thermoreflectance/Joanne/CHESS/0130_2023/352mm_per_sec/-26mm_41W_029.raw\n"
     ]
    },
    {
     "name": "stderr",
     "output_type": "stream",
     "text": [
      "100%|█████████████████████████████████████████| 540/540 [00:53<00:00, 10.06it/s]\n",
      "  0%|                                                   | 0/540 [00:00<?, ?it/s]"
     ]
    },
    {
     "name": "stdout",
     "output_type": "stream",
     "text": [
      "/Users/chiaentsai/Box/MURI-SARA/Thermoreflectance/Joanne/CHESS/0130_2023/352mm_per_sec/-26mm_43W_000.raw\n"
     ]
    },
    {
     "name": "stderr",
     "output_type": "stream",
     "text": [
      "\r",
      " 61%|████████████████████████▌               | 331/540 [00:01<00:01, 206.94it/s]"
     ]
    },
    {
     "name": "stdout",
     "output_type": "stream",
     "text": [
      "/Users/chiaentsai/Box/MURI-SARA/Thermoreflectance/Joanne/CHESS/0130_2023/352mm_per_sec/-26mm_43W_001.raw\n",
      "/Users/chiaentsai/Box/MURI-SARA/Thermoreflectance/Joanne/CHESS/0130_2023/352mm_per_sec/-26mm_43W_002.raw\n",
      "/Users/chiaentsai/Box/MURI-SARA/Thermoreflectance/Joanne/CHESS/0130_2023/352mm_per_sec/-26mm_43W_003.raw\n",
      "/Users/chiaentsai/Box/MURI-SARA/Thermoreflectance/Joanne/CHESS/0130_2023/352mm_per_sec/-26mm_43W_004.raw\n",
      "/Users/chiaentsai/Box/MURI-SARA/Thermoreflectance/Joanne/CHESS/0130_2023/352mm_per_sec/-26mm_43W_005.raw\n",
      "/Users/chiaentsai/Box/MURI-SARA/Thermoreflectance/Joanne/CHESS/0130_2023/352mm_per_sec/-26mm_43W_006.raw\n",
      "/Users/chiaentsai/Box/MURI-SARA/Thermoreflectance/Joanne/CHESS/0130_2023/352mm_per_sec/-26mm_43W_007.raw\n",
      "/Users/chiaentsai/Box/MURI-SARA/Thermoreflectance/Joanne/CHESS/0130_2023/352mm_per_sec/-26mm_43W_008.raw\n",
      "/Users/chiaentsai/Box/MURI-SARA/Thermoreflectance/Joanne/CHESS/0130_2023/352mm_per_sec/-26mm_43W_009.raw\n",
      "/Users/chiaentsai/Box/MURI-SARA/Thermoreflectance/Joanne/CHESS/0130_2023/352mm_per_sec/-26mm_43W_010.raw\n",
      "/Users/chiaentsai/Box/MURI-SARA/Thermoreflectance/Joanne/CHESS/0130_2023/352mm_per_sec/-26mm_43W_011.raw\n"
     ]
    },
    {
     "name": "stderr",
     "output_type": "stream",
     "text": [
      " 63%|█████████████████████████▉               | 342/540 [00:13<00:10, 18.34it/s]"
     ]
    },
    {
     "name": "stdout",
     "output_type": "stream",
     "text": [
      "/Users/chiaentsai/Box/MURI-SARA/Thermoreflectance/Joanne/CHESS/0130_2023/352mm_per_sec/-26mm_43W_012.raw\n"
     ]
    },
    {
     "name": "stderr",
     "output_type": "stream",
     "text": [
      "\r",
      " 64%|██████████████████████████               | 343/540 [00:15<00:12, 15.82it/s]"
     ]
    },
    {
     "name": "stdout",
     "output_type": "stream",
     "text": [
      "/Users/chiaentsai/Box/MURI-SARA/Thermoreflectance/Joanne/CHESS/0130_2023/352mm_per_sec/-26mm_43W_013.raw\n",
      "/Users/chiaentsai/Box/MURI-SARA/Thermoreflectance/Joanne/CHESS/0130_2023/352mm_per_sec/-26mm_43W_014.raw\n",
      "/Users/chiaentsai/Box/MURI-SARA/Thermoreflectance/Joanne/CHESS/0130_2023/352mm_per_sec/-26mm_43W_015.raw\n",
      "/Users/chiaentsai/Box/MURI-SARA/Thermoreflectance/Joanne/CHESS/0130_2023/352mm_per_sec/-26mm_43W_016.raw\n",
      "/Users/chiaentsai/Box/MURI-SARA/Thermoreflectance/Joanne/CHESS/0130_2023/352mm_per_sec/-26mm_43W_017.raw\n",
      "/Users/chiaentsai/Box/MURI-SARA/Thermoreflectance/Joanne/CHESS/0130_2023/352mm_per_sec/-26mm_43W_018.raw\n",
      "/Users/chiaentsai/Box/MURI-SARA/Thermoreflectance/Joanne/CHESS/0130_2023/352mm_per_sec/-26mm_43W_019.raw\n",
      "/Users/chiaentsai/Box/MURI-SARA/Thermoreflectance/Joanne/CHESS/0130_2023/352mm_per_sec/-26mm_43W_020.raw\n",
      "/Users/chiaentsai/Box/MURI-SARA/Thermoreflectance/Joanne/CHESS/0130_2023/352mm_per_sec/-26mm_43W_021.raw\n"
     ]
    },
    {
     "name": "stderr",
     "output_type": "stream",
     "text": [
      " 65%|██████████████████████████▋              | 352/540 [00:35<00:40,  4.62it/s]"
     ]
    },
    {
     "name": "stdout",
     "output_type": "stream",
     "text": [
      "/Users/chiaentsai/Box/MURI-SARA/Thermoreflectance/Joanne/CHESS/0130_2023/352mm_per_sec/-26mm_43W_022.raw\n"
     ]
    },
    {
     "name": "stderr",
     "output_type": "stream",
     "text": [
      "\r",
      " 65%|██████████████████████████▊              | 353/540 [00:37<00:44,  4.22it/s]"
     ]
    },
    {
     "name": "stdout",
     "output_type": "stream",
     "text": [
      "/Users/chiaentsai/Box/MURI-SARA/Thermoreflectance/Joanne/CHESS/0130_2023/352mm_per_sec/-26mm_43W_023.raw\n",
      "/Users/chiaentsai/Box/MURI-SARA/Thermoreflectance/Joanne/CHESS/0130_2023/352mm_per_sec/-26mm_43W_024.raw\n",
      "/Users/chiaentsai/Box/MURI-SARA/Thermoreflectance/Joanne/CHESS/0130_2023/352mm_per_sec/-26mm_43W_025.raw\n",
      "/Users/chiaentsai/Box/MURI-SARA/Thermoreflectance/Joanne/CHESS/0130_2023/352mm_per_sec/-26mm_43W_026.raw\n",
      "/Users/chiaentsai/Box/MURI-SARA/Thermoreflectance/Joanne/CHESS/0130_2023/352mm_per_sec/-26mm_43W_027.raw\n"
     ]
    },
    {
     "name": "stderr",
     "output_type": "stream",
     "text": [
      "\r",
      " 66%|███████████████████████████▏             | 358/540 [00:46<01:03,  2.88it/s]"
     ]
    },
    {
     "name": "stdout",
     "output_type": "stream",
     "text": [
      "/Users/chiaentsai/Box/MURI-SARA/Thermoreflectance/Joanne/CHESS/0130_2023/352mm_per_sec/-26mm_43W_028.raw\n",
      "/Users/chiaentsai/Box/MURI-SARA/Thermoreflectance/Joanne/CHESS/0130_2023/352mm_per_sec/-26mm_43W_029.raw\n"
     ]
    },
    {
     "name": "stderr",
     "output_type": "stream",
     "text": [
      "100%|█████████████████████████████████████████| 540/540 [00:50<00:00, 10.67it/s]\n",
      "  0%|                                                   | 0/540 [00:00<?, ?it/s]"
     ]
    },
    {
     "name": "stdout",
     "output_type": "stream",
     "text": [
      "/Users/chiaentsai/Box/MURI-SARA/Thermoreflectance/Joanne/CHESS/0130_2023/352mm_per_sec/-26mm_45W_000.raw\n"
     ]
    },
    {
     "name": "stderr",
     "output_type": "stream",
     "text": [
      "\r",
      " 67%|██████████████████████████▋             | 361/540 [00:01<00:00, 292.47it/s]"
     ]
    },
    {
     "name": "stdout",
     "output_type": "stream",
     "text": [
      "/Users/chiaentsai/Box/MURI-SARA/Thermoreflectance/Joanne/CHESS/0130_2023/352mm_per_sec/-26mm_45W_001.raw\n",
      "/Users/chiaentsai/Box/MURI-SARA/Thermoreflectance/Joanne/CHESS/0130_2023/352mm_per_sec/-26mm_45W_002.raw\n",
      "/Users/chiaentsai/Box/MURI-SARA/Thermoreflectance/Joanne/CHESS/0130_2023/352mm_per_sec/-26mm_45W_003.raw\n",
      "/Users/chiaentsai/Box/MURI-SARA/Thermoreflectance/Joanne/CHESS/0130_2023/352mm_per_sec/-26mm_45W_004.raw\n",
      "/Users/chiaentsai/Box/MURI-SARA/Thermoreflectance/Joanne/CHESS/0130_2023/352mm_per_sec/-26mm_45W_005.raw\n",
      "/Users/chiaentsai/Box/MURI-SARA/Thermoreflectance/Joanne/CHESS/0130_2023/352mm_per_sec/-26mm_45W_006.raw\n",
      "/Users/chiaentsai/Box/MURI-SARA/Thermoreflectance/Joanne/CHESS/0130_2023/352mm_per_sec/-26mm_45W_007.raw\n",
      "/Users/chiaentsai/Box/MURI-SARA/Thermoreflectance/Joanne/CHESS/0130_2023/352mm_per_sec/-26mm_45W_008.raw\n",
      "/Users/chiaentsai/Box/MURI-SARA/Thermoreflectance/Joanne/CHESS/0130_2023/352mm_per_sec/-26mm_45W_009.raw\n",
      "/Users/chiaentsai/Box/MURI-SARA/Thermoreflectance/Joanne/CHESS/0130_2023/352mm_per_sec/-26mm_45W_010.raw\n",
      "/Users/chiaentsai/Box/MURI-SARA/Thermoreflectance/Joanne/CHESS/0130_2023/352mm_per_sec/-26mm_45W_011.raw\n",
      "/Users/chiaentsai/Box/MURI-SARA/Thermoreflectance/Joanne/CHESS/0130_2023/352mm_per_sec/-26mm_45W_012.raw\n"
     ]
    },
    {
     "name": "stderr",
     "output_type": "stream",
     "text": [
      " 69%|████████████████████████████▎            | 373/540 [00:15<00:09, 17.51it/s]"
     ]
    },
    {
     "name": "stdout",
     "output_type": "stream",
     "text": [
      "/Users/chiaentsai/Box/MURI-SARA/Thermoreflectance/Joanne/CHESS/0130_2023/352mm_per_sec/-26mm_45W_013.raw\n"
     ]
    },
    {
     "name": "stderr",
     "output_type": "stream",
     "text": [
      "\r",
      " 69%|████████████████████████████▍            | 374/540 [00:17<00:11, 14.50it/s]"
     ]
    },
    {
     "name": "stdout",
     "output_type": "stream",
     "text": [
      "/Users/chiaentsai/Box/MURI-SARA/Thermoreflectance/Joanne/CHESS/0130_2023/352mm_per_sec/-26mm_45W_014.raw\n",
      "/Users/chiaentsai/Box/MURI-SARA/Thermoreflectance/Joanne/CHESS/0130_2023/352mm_per_sec/-26mm_45W_015.raw\n",
      "/Users/chiaentsai/Box/MURI-SARA/Thermoreflectance/Joanne/CHESS/0130_2023/352mm_per_sec/-26mm_45W_016.raw\n",
      "/Users/chiaentsai/Box/MURI-SARA/Thermoreflectance/Joanne/CHESS/0130_2023/352mm_per_sec/-26mm_45W_017.raw\n",
      "/Users/chiaentsai/Box/MURI-SARA/Thermoreflectance/Joanne/CHESS/0130_2023/352mm_per_sec/-26mm_45W_018.raw\n",
      "/Users/chiaentsai/Box/MURI-SARA/Thermoreflectance/Joanne/CHESS/0130_2023/352mm_per_sec/-26mm_45W_019.raw\n",
      "/Users/chiaentsai/Box/MURI-SARA/Thermoreflectance/Joanne/CHESS/0130_2023/352mm_per_sec/-26mm_45W_020.raw\n",
      "/Users/chiaentsai/Box/MURI-SARA/Thermoreflectance/Joanne/CHESS/0130_2023/352mm_per_sec/-26mm_45W_021.raw\n"
     ]
    },
    {
     "name": "stderr",
     "output_type": "stream",
     "text": [
      " 71%|█████████████████████████████            | 382/540 [00:36<00:32,  4.91it/s]"
     ]
    },
    {
     "name": "stdout",
     "output_type": "stream",
     "text": [
      "/Users/chiaentsai/Box/MURI-SARA/Thermoreflectance/Joanne/CHESS/0130_2023/352mm_per_sec/-26mm_45W_022.raw\n"
     ]
    },
    {
     "name": "stderr",
     "output_type": "stream",
     "text": [
      "\r",
      " 71%|█████████████████████████████            | 383/540 [00:38<00:34,  4.57it/s]"
     ]
    },
    {
     "name": "stdout",
     "output_type": "stream",
     "text": [
      "/Users/chiaentsai/Box/MURI-SARA/Thermoreflectance/Joanne/CHESS/0130_2023/352mm_per_sec/-26mm_45W_023.raw\n",
      "/Users/chiaentsai/Box/MURI-SARA/Thermoreflectance/Joanne/CHESS/0130_2023/352mm_per_sec/-26mm_45W_024.raw\n",
      "/Users/chiaentsai/Box/MURI-SARA/Thermoreflectance/Joanne/CHESS/0130_2023/352mm_per_sec/-26mm_45W_025.raw\n",
      "/Users/chiaentsai/Box/MURI-SARA/Thermoreflectance/Joanne/CHESS/0130_2023/352mm_per_sec/-26mm_45W_026.raw\n",
      "/Users/chiaentsai/Box/MURI-SARA/Thermoreflectance/Joanne/CHESS/0130_2023/352mm_per_sec/-26mm_45W_027.raw\n",
      "/Users/chiaentsai/Box/MURI-SARA/Thermoreflectance/Joanne/CHESS/0130_2023/352mm_per_sec/-26mm_45W_028.raw\n",
      "/Users/chiaentsai/Box/MURI-SARA/Thermoreflectance/Joanne/CHESS/0130_2023/352mm_per_sec/-26mm_45W_029.raw\n"
     ]
    },
    {
     "name": "stderr",
     "output_type": "stream",
     "text": [
      "100%|█████████████████████████████████████████| 540/540 [00:52<00:00, 10.26it/s]\n",
      "  0%|                                                   | 0/540 [00:00<?, ?it/s]"
     ]
    },
    {
     "name": "stdout",
     "output_type": "stream",
     "text": [
      "/Users/chiaentsai/Box/MURI-SARA/Thermoreflectance/Joanne/CHESS/0130_2023/352mm_per_sec/-26mm_47W_000.raw\n"
     ]
    },
    {
     "name": "stderr",
     "output_type": "stream",
     "text": [
      "\r",
      " 72%|████████████████████████████▉           | 391/540 [00:01<00:00, 321.66it/s]"
     ]
    },
    {
     "name": "stdout",
     "output_type": "stream",
     "text": [
      "/Users/chiaentsai/Box/MURI-SARA/Thermoreflectance/Joanne/CHESS/0130_2023/352mm_per_sec/-26mm_47W_001.raw\n",
      "/Users/chiaentsai/Box/MURI-SARA/Thermoreflectance/Joanne/CHESS/0130_2023/352mm_per_sec/-26mm_47W_002.raw\n",
      "/Users/chiaentsai/Box/MURI-SARA/Thermoreflectance/Joanne/CHESS/0130_2023/352mm_per_sec/-26mm_47W_003.raw\n",
      "/Users/chiaentsai/Box/MURI-SARA/Thermoreflectance/Joanne/CHESS/0130_2023/352mm_per_sec/-26mm_47W_004.raw\n",
      "/Users/chiaentsai/Box/MURI-SARA/Thermoreflectance/Joanne/CHESS/0130_2023/352mm_per_sec/-26mm_47W_005.raw\n",
      "/Users/chiaentsai/Box/MURI-SARA/Thermoreflectance/Joanne/CHESS/0130_2023/352mm_per_sec/-26mm_47W_006.raw\n",
      "/Users/chiaentsai/Box/MURI-SARA/Thermoreflectance/Joanne/CHESS/0130_2023/352mm_per_sec/-26mm_47W_007.raw\n",
      "/Users/chiaentsai/Box/MURI-SARA/Thermoreflectance/Joanne/CHESS/0130_2023/352mm_per_sec/-26mm_47W_008.raw\n",
      "/Users/chiaentsai/Box/MURI-SARA/Thermoreflectance/Joanne/CHESS/0130_2023/352mm_per_sec/-26mm_47W_009.raw\n",
      "/Users/chiaentsai/Box/MURI-SARA/Thermoreflectance/Joanne/CHESS/0130_2023/352mm_per_sec/-26mm_47W_010.raw\n",
      "/Users/chiaentsai/Box/MURI-SARA/Thermoreflectance/Joanne/CHESS/0130_2023/352mm_per_sec/-26mm_47W_011.raw\n"
     ]
    },
    {
     "name": "stderr",
     "output_type": "stream",
     "text": [
      " 74%|██████████████████████████████▌          | 402/540 [00:13<00:06, 21.36it/s]"
     ]
    },
    {
     "name": "stdout",
     "output_type": "stream",
     "text": [
      "/Users/chiaentsai/Box/MURI-SARA/Thermoreflectance/Joanne/CHESS/0130_2023/352mm_per_sec/-26mm_47W_012.raw\n"
     ]
    },
    {
     "name": "stderr",
     "output_type": "stream",
     "text": [
      "\r",
      " 75%|██████████████████████████████▌          | 403/540 [00:15<00:07, 17.73it/s]"
     ]
    },
    {
     "name": "stdout",
     "output_type": "stream",
     "text": [
      "/Users/chiaentsai/Box/MURI-SARA/Thermoreflectance/Joanne/CHESS/0130_2023/352mm_per_sec/-26mm_47W_013.raw\n",
      "/Users/chiaentsai/Box/MURI-SARA/Thermoreflectance/Joanne/CHESS/0130_2023/352mm_per_sec/-26mm_47W_014.raw\n",
      "/Users/chiaentsai/Box/MURI-SARA/Thermoreflectance/Joanne/CHESS/0130_2023/352mm_per_sec/-26mm_47W_015.raw\n",
      "/Users/chiaentsai/Box/MURI-SARA/Thermoreflectance/Joanne/CHESS/0130_2023/352mm_per_sec/-26mm_47W_016.raw\n",
      "/Users/chiaentsai/Box/MURI-SARA/Thermoreflectance/Joanne/CHESS/0130_2023/352mm_per_sec/-26mm_47W_017.raw\n",
      "/Users/chiaentsai/Box/MURI-SARA/Thermoreflectance/Joanne/CHESS/0130_2023/352mm_per_sec/-26mm_47W_018.raw\n",
      "/Users/chiaentsai/Box/MURI-SARA/Thermoreflectance/Joanne/CHESS/0130_2023/352mm_per_sec/-26mm_47W_019.raw\n"
     ]
    },
    {
     "name": "stderr",
     "output_type": "stream",
     "text": [
      " 76%|███████████████████████████████▏         | 410/540 [00:34<00:23,  5.49it/s]"
     ]
    },
    {
     "name": "stdout",
     "output_type": "stream",
     "text": [
      "/Users/chiaentsai/Box/MURI-SARA/Thermoreflectance/Joanne/CHESS/0130_2023/352mm_per_sec/-26mm_47W_020.raw\n"
     ]
    },
    {
     "name": "stderr",
     "output_type": "stream",
     "text": [
      "\r",
      " 76%|███████████████████████████████▏         | 411/540 [00:36<00:26,  4.92it/s]"
     ]
    },
    {
     "name": "stdout",
     "output_type": "stream",
     "text": [
      "/Users/chiaentsai/Box/MURI-SARA/Thermoreflectance/Joanne/CHESS/0130_2023/352mm_per_sec/-26mm_47W_021.raw\n",
      "/Users/chiaentsai/Box/MURI-SARA/Thermoreflectance/Joanne/CHESS/0130_2023/352mm_per_sec/-26mm_47W_022.raw\n",
      "/Users/chiaentsai/Box/MURI-SARA/Thermoreflectance/Joanne/CHESS/0130_2023/352mm_per_sec/-26mm_47W_023.raw\n",
      "/Users/chiaentsai/Box/MURI-SARA/Thermoreflectance/Joanne/CHESS/0130_2023/352mm_per_sec/-26mm_47W_024.raw\n",
      "/Users/chiaentsai/Box/MURI-SARA/Thermoreflectance/Joanne/CHESS/0130_2023/352mm_per_sec/-26mm_47W_025.raw\n",
      "/Users/chiaentsai/Box/MURI-SARA/Thermoreflectance/Joanne/CHESS/0130_2023/352mm_per_sec/-26mm_47W_026.raw\n",
      "/Users/chiaentsai/Box/MURI-SARA/Thermoreflectance/Joanne/CHESS/0130_2023/352mm_per_sec/-26mm_47W_027.raw\n",
      "/Users/chiaentsai/Box/MURI-SARA/Thermoreflectance/Joanne/CHESS/0130_2023/352mm_per_sec/-26mm_47W_028.raw\n"
     ]
    },
    {
     "name": "stderr",
     "output_type": "stream",
     "text": [
      " 78%|███████████████████████████████▊         | 419/540 [00:54<00:49,  2.46it/s]"
     ]
    },
    {
     "name": "stdout",
     "output_type": "stream",
     "text": [
      "/Users/chiaentsai/Box/MURI-SARA/Thermoreflectance/Joanne/CHESS/0130_2023/352mm_per_sec/-26mm_47W_029.raw\n"
     ]
    },
    {
     "name": "stderr",
     "output_type": "stream",
     "text": [
      "100%|█████████████████████████████████████████| 540/540 [00:57<00:00,  9.46it/s]\n",
      "  0%|                                                   | 0/540 [00:00<?, ?it/s]"
     ]
    },
    {
     "name": "stdout",
     "output_type": "stream",
     "text": [
      "/Users/chiaentsai/Box/MURI-SARA/Thermoreflectance/Joanne/CHESS/0130_2023/352mm_per_sec/-26mm_49W_000.raw\n"
     ]
    },
    {
     "name": "stderr",
     "output_type": "stream",
     "text": [
      "\r",
      " 78%|███████████████████████████████▏        | 421/540 [00:01<00:00, 417.56it/s]"
     ]
    },
    {
     "name": "stdout",
     "output_type": "stream",
     "text": [
      "/Users/chiaentsai/Box/MURI-SARA/Thermoreflectance/Joanne/CHESS/0130_2023/352mm_per_sec/-26mm_49W_001.raw\n",
      "/Users/chiaentsai/Box/MURI-SARA/Thermoreflectance/Joanne/CHESS/0130_2023/352mm_per_sec/-26mm_49W_002.raw\n",
      "/Users/chiaentsai/Box/MURI-SARA/Thermoreflectance/Joanne/CHESS/0130_2023/352mm_per_sec/-26mm_49W_003.raw\n",
      "/Users/chiaentsai/Box/MURI-SARA/Thermoreflectance/Joanne/CHESS/0130_2023/352mm_per_sec/-26mm_49W_004.raw\n",
      "/Users/chiaentsai/Box/MURI-SARA/Thermoreflectance/Joanne/CHESS/0130_2023/352mm_per_sec/-26mm_49W_005.raw\n",
      "/Users/chiaentsai/Box/MURI-SARA/Thermoreflectance/Joanne/CHESS/0130_2023/352mm_per_sec/-26mm_49W_006.raw\n",
      "/Users/chiaentsai/Box/MURI-SARA/Thermoreflectance/Joanne/CHESS/0130_2023/352mm_per_sec/-26mm_49W_007.raw\n",
      "/Users/chiaentsai/Box/MURI-SARA/Thermoreflectance/Joanne/CHESS/0130_2023/352mm_per_sec/-26mm_49W_008.raw\n",
      "/Users/chiaentsai/Box/MURI-SARA/Thermoreflectance/Joanne/CHESS/0130_2023/352mm_per_sec/-26mm_49W_009.raw\n",
      "/Users/chiaentsai/Box/MURI-SARA/Thermoreflectance/Joanne/CHESS/0130_2023/352mm_per_sec/-26mm_49W_010.raw\n",
      "/Users/chiaentsai/Box/MURI-SARA/Thermoreflectance/Joanne/CHESS/0130_2023/352mm_per_sec/-26mm_49W_011.raw\n",
      "/Users/chiaentsai/Box/MURI-SARA/Thermoreflectance/Joanne/CHESS/0130_2023/352mm_per_sec/-26mm_49W_012.raw\n",
      "/Users/chiaentsai/Box/MURI-SARA/Thermoreflectance/Joanne/CHESS/0130_2023/352mm_per_sec/-26mm_49W_013.raw\n",
      "/Users/chiaentsai/Box/MURI-SARA/Thermoreflectance/Joanne/CHESS/0130_2023/352mm_per_sec/-26mm_49W_014.raw\n"
     ]
    },
    {
     "name": "stderr",
     "output_type": "stream",
     "text": [
      " 81%|█████████████████████████████████        | 435/540 [00:19<00:06, 16.24it/s]"
     ]
    },
    {
     "name": "stdout",
     "output_type": "stream",
     "text": [
      "/Users/chiaentsai/Box/MURI-SARA/Thermoreflectance/Joanne/CHESS/0130_2023/352mm_per_sec/-26mm_49W_015.raw\n"
     ]
    },
    {
     "name": "stderr",
     "output_type": "stream",
     "text": [
      "\r",
      " 81%|█████████████████████████████████        | 436/540 [00:21<00:07, 13.97it/s]"
     ]
    },
    {
     "name": "stdout",
     "output_type": "stream",
     "text": [
      "/Users/chiaentsai/Box/MURI-SARA/Thermoreflectance/Joanne/CHESS/0130_2023/352mm_per_sec/-26mm_49W_016.raw\n",
      "/Users/chiaentsai/Box/MURI-SARA/Thermoreflectance/Joanne/CHESS/0130_2023/352mm_per_sec/-26mm_49W_017.raw\n",
      "/Users/chiaentsai/Box/MURI-SARA/Thermoreflectance/Joanne/CHESS/0130_2023/352mm_per_sec/-26mm_49W_018.raw\n",
      "/Users/chiaentsai/Box/MURI-SARA/Thermoreflectance/Joanne/CHESS/0130_2023/352mm_per_sec/-26mm_49W_019.raw\n",
      "/Users/chiaentsai/Box/MURI-SARA/Thermoreflectance/Joanne/CHESS/0130_2023/352mm_per_sec/-26mm_49W_020.raw\n",
      "/Users/chiaentsai/Box/MURI-SARA/Thermoreflectance/Joanne/CHESS/0130_2023/352mm_per_sec/-26mm_49W_021.raw\n",
      "/Users/chiaentsai/Box/MURI-SARA/Thermoreflectance/Joanne/CHESS/0130_2023/352mm_per_sec/-26mm_49W_022.raw\n",
      "/Users/chiaentsai/Box/MURI-SARA/Thermoreflectance/Joanne/CHESS/0130_2023/352mm_per_sec/-26mm_49W_023.raw\n"
     ]
    },
    {
     "name": "stderr",
     "output_type": "stream",
     "text": [
      " 82%|█████████████████████████████████▋       | 444/540 [00:38<00:16,  5.79it/s]"
     ]
    },
    {
     "name": "stdout",
     "output_type": "stream",
     "text": [
      "/Users/chiaentsai/Box/MURI-SARA/Thermoreflectance/Joanne/CHESS/0130_2023/352mm_per_sec/-26mm_49W_024.raw\n"
     ]
    },
    {
     "name": "stderr",
     "output_type": "stream",
     "text": [
      "\r",
      " 82%|█████████████████████████████████▊       | 445/540 [00:40<00:17,  5.32it/s]"
     ]
    },
    {
     "name": "stdout",
     "output_type": "stream",
     "text": [
      "/Users/chiaentsai/Box/MURI-SARA/Thermoreflectance/Joanne/CHESS/0130_2023/352mm_per_sec/-26mm_49W_025.raw\n",
      "/Users/chiaentsai/Box/MURI-SARA/Thermoreflectance/Joanne/CHESS/0130_2023/352mm_per_sec/-26mm_49W_026.raw\n",
      "/Users/chiaentsai/Box/MURI-SARA/Thermoreflectance/Joanne/CHESS/0130_2023/352mm_per_sec/-26mm_49W_027.raw\n",
      "/Users/chiaentsai/Box/MURI-SARA/Thermoreflectance/Joanne/CHESS/0130_2023/352mm_per_sec/-26mm_49W_028.raw\n",
      "/Users/chiaentsai/Box/MURI-SARA/Thermoreflectance/Joanne/CHESS/0130_2023/352mm_per_sec/-26mm_49W_029.raw\n"
     ]
    },
    {
     "name": "stderr",
     "output_type": "stream",
     "text": [
      "100%|█████████████████████████████████████████| 540/540 [00:48<00:00, 11.06it/s]\n",
      "  0%|                                                   | 0/540 [00:00<?, ?it/s]"
     ]
    },
    {
     "name": "stdout",
     "output_type": "stream",
     "text": [
      "/Users/chiaentsai/Box/MURI-SARA/Thermoreflectance/Joanne/CHESS/0130_2023/352mm_per_sec/-26mm_51W_000.raw\n"
     ]
    },
    {
     "name": "stderr",
     "output_type": "stream",
     "text": [
      "\r",
      " 84%|█████████████████████████████████▍      | 451/540 [00:01<00:00, 336.18it/s]"
     ]
    },
    {
     "name": "stdout",
     "output_type": "stream",
     "text": [
      "/Users/chiaentsai/Box/MURI-SARA/Thermoreflectance/Joanne/CHESS/0130_2023/352mm_per_sec/-26mm_51W_001.raw\n",
      "/Users/chiaentsai/Box/MURI-SARA/Thermoreflectance/Joanne/CHESS/0130_2023/352mm_per_sec/-26mm_51W_002.raw\n",
      "/Users/chiaentsai/Box/MURI-SARA/Thermoreflectance/Joanne/CHESS/0130_2023/352mm_per_sec/-26mm_51W_003.raw\n",
      "/Users/chiaentsai/Box/MURI-SARA/Thermoreflectance/Joanne/CHESS/0130_2023/352mm_per_sec/-26mm_51W_004.raw\n",
      "/Users/chiaentsai/Box/MURI-SARA/Thermoreflectance/Joanne/CHESS/0130_2023/352mm_per_sec/-26mm_51W_005.raw\n",
      "/Users/chiaentsai/Box/MURI-SARA/Thermoreflectance/Joanne/CHESS/0130_2023/352mm_per_sec/-26mm_51W_006.raw\n",
      "/Users/chiaentsai/Box/MURI-SARA/Thermoreflectance/Joanne/CHESS/0130_2023/352mm_per_sec/-26mm_51W_007.raw\n",
      "/Users/chiaentsai/Box/MURI-SARA/Thermoreflectance/Joanne/CHESS/0130_2023/352mm_per_sec/-26mm_51W_008.raw\n",
      "/Users/chiaentsai/Box/MURI-SARA/Thermoreflectance/Joanne/CHESS/0130_2023/352mm_per_sec/-26mm_51W_009.raw\n",
      "/Users/chiaentsai/Box/MURI-SARA/Thermoreflectance/Joanne/CHESS/0130_2023/352mm_per_sec/-26mm_51W_010.raw\n",
      "/Users/chiaentsai/Box/MURI-SARA/Thermoreflectance/Joanne/CHESS/0130_2023/352mm_per_sec/-26mm_51W_011.raw\n",
      "/Users/chiaentsai/Box/MURI-SARA/Thermoreflectance/Joanne/CHESS/0130_2023/352mm_per_sec/-26mm_51W_012.raw\n",
      "/Users/chiaentsai/Box/MURI-SARA/Thermoreflectance/Joanne/CHESS/0130_2023/352mm_per_sec/-26mm_51W_013.raw\n",
      "/Users/chiaentsai/Box/MURI-SARA/Thermoreflectance/Joanne/CHESS/0130_2023/352mm_per_sec/-26mm_51W_014.raw\n"
     ]
    },
    {
     "name": "stderr",
     "output_type": "stream",
     "text": [
      " 86%|███████████████████████████████████▎     | 465/540 [00:20<00:04, 16.05it/s]"
     ]
    },
    {
     "name": "stdout",
     "output_type": "stream",
     "text": [
      "/Users/chiaentsai/Box/MURI-SARA/Thermoreflectance/Joanne/CHESS/0130_2023/352mm_per_sec/-26mm_51W_015.raw\n"
     ]
    },
    {
     "name": "stderr",
     "output_type": "stream",
     "text": [
      "\r",
      " 86%|███████████████████████████████████▍     | 466/540 [00:23<00:05, 13.69it/s]"
     ]
    },
    {
     "name": "stdout",
     "output_type": "stream",
     "text": [
      "/Users/chiaentsai/Box/MURI-SARA/Thermoreflectance/Joanne/CHESS/0130_2023/352mm_per_sec/-26mm_51W_016.raw\n",
      "/Users/chiaentsai/Box/MURI-SARA/Thermoreflectance/Joanne/CHESS/0130_2023/352mm_per_sec/-26mm_51W_017.raw\n",
      "/Users/chiaentsai/Box/MURI-SARA/Thermoreflectance/Joanne/CHESS/0130_2023/352mm_per_sec/-26mm_51W_018.raw\n",
      "/Users/chiaentsai/Box/MURI-SARA/Thermoreflectance/Joanne/CHESS/0130_2023/352mm_per_sec/-26mm_51W_019.raw\n",
      "/Users/chiaentsai/Box/MURI-SARA/Thermoreflectance/Joanne/CHESS/0130_2023/352mm_per_sec/-26mm_51W_020.raw\n",
      "/Users/chiaentsai/Box/MURI-SARA/Thermoreflectance/Joanne/CHESS/0130_2023/352mm_per_sec/-26mm_51W_021.raw\n",
      "/Users/chiaentsai/Box/MURI-SARA/Thermoreflectance/Joanne/CHESS/0130_2023/352mm_per_sec/-26mm_51W_022.raw\n",
      "/Users/chiaentsai/Box/MURI-SARA/Thermoreflectance/Joanne/CHESS/0130_2023/352mm_per_sec/-26mm_51W_023.raw\n"
     ]
    },
    {
     "name": "stderr",
     "output_type": "stream",
     "text": [
      " 88%|███████████████████████████████████▉     | 474/540 [00:40<00:11,  5.87it/s]"
     ]
    },
    {
     "name": "stdout",
     "output_type": "stream",
     "text": [
      "/Users/chiaentsai/Box/MURI-SARA/Thermoreflectance/Joanne/CHESS/0130_2023/352mm_per_sec/-26mm_51W_024.raw\n"
     ]
    },
    {
     "name": "stderr",
     "output_type": "stream",
     "text": [
      "\r",
      " 88%|████████████████████████████████████     | 475/540 [00:42<00:11,  5.46it/s]"
     ]
    },
    {
     "name": "stdout",
     "output_type": "stream",
     "text": [
      "/Users/chiaentsai/Box/MURI-SARA/Thermoreflectance/Joanne/CHESS/0130_2023/352mm_per_sec/-26mm_51W_025.raw\n",
      "/Users/chiaentsai/Box/MURI-SARA/Thermoreflectance/Joanne/CHESS/0130_2023/352mm_per_sec/-26mm_51W_026.raw\n",
      "/Users/chiaentsai/Box/MURI-SARA/Thermoreflectance/Joanne/CHESS/0130_2023/352mm_per_sec/-26mm_51W_027.raw\n",
      "/Users/chiaentsai/Box/MURI-SARA/Thermoreflectance/Joanne/CHESS/0130_2023/352mm_per_sec/-26mm_51W_028.raw\n",
      "/Users/chiaentsai/Box/MURI-SARA/Thermoreflectance/Joanne/CHESS/0130_2023/352mm_per_sec/-26mm_51W_029.raw\n"
     ]
    },
    {
     "name": "stderr",
     "output_type": "stream",
     "text": [
      "100%|█████████████████████████████████████████| 540/540 [00:52<00:00, 10.34it/s]\n",
      "  0%|                                                   | 0/540 [00:00<?, ?it/s]"
     ]
    },
    {
     "name": "stdout",
     "output_type": "stream",
     "text": [
      "/Users/chiaentsai/Box/MURI-SARA/Thermoreflectance/Joanne/CHESS/0130_2023/352mm_per_sec/-26mm_53W_000.raw\n"
     ]
    },
    {
     "name": "stderr",
     "output_type": "stream",
     "text": [
      "\r",
      " 89%|███████████████████████████████████▋    | 481/540 [00:01<00:00, 373.75it/s]"
     ]
    },
    {
     "name": "stdout",
     "output_type": "stream",
     "text": [
      "/Users/chiaentsai/Box/MURI-SARA/Thermoreflectance/Joanne/CHESS/0130_2023/352mm_per_sec/-26mm_53W_001.raw\n",
      "/Users/chiaentsai/Box/MURI-SARA/Thermoreflectance/Joanne/CHESS/0130_2023/352mm_per_sec/-26mm_53W_002.raw\n",
      "/Users/chiaentsai/Box/MURI-SARA/Thermoreflectance/Joanne/CHESS/0130_2023/352mm_per_sec/-26mm_53W_003.raw\n",
      "/Users/chiaentsai/Box/MURI-SARA/Thermoreflectance/Joanne/CHESS/0130_2023/352mm_per_sec/-26mm_53W_004.raw\n",
      "/Users/chiaentsai/Box/MURI-SARA/Thermoreflectance/Joanne/CHESS/0130_2023/352mm_per_sec/-26mm_53W_005.raw\n",
      "/Users/chiaentsai/Box/MURI-SARA/Thermoreflectance/Joanne/CHESS/0130_2023/352mm_per_sec/-26mm_53W_006.raw\n",
      "/Users/chiaentsai/Box/MURI-SARA/Thermoreflectance/Joanne/CHESS/0130_2023/352mm_per_sec/-26mm_53W_007.raw\n",
      "/Users/chiaentsai/Box/MURI-SARA/Thermoreflectance/Joanne/CHESS/0130_2023/352mm_per_sec/-26mm_53W_008.raw\n",
      "/Users/chiaentsai/Box/MURI-SARA/Thermoreflectance/Joanne/CHESS/0130_2023/352mm_per_sec/-26mm_53W_009.raw\n",
      "/Users/chiaentsai/Box/MURI-SARA/Thermoreflectance/Joanne/CHESS/0130_2023/352mm_per_sec/-26mm_53W_010.raw\n",
      "/Users/chiaentsai/Box/MURI-SARA/Thermoreflectance/Joanne/CHESS/0130_2023/352mm_per_sec/-26mm_53W_011.raw\n",
      "/Users/chiaentsai/Box/MURI-SARA/Thermoreflectance/Joanne/CHESS/0130_2023/352mm_per_sec/-26mm_53W_012.raw\n",
      "/Users/chiaentsai/Box/MURI-SARA/Thermoreflectance/Joanne/CHESS/0130_2023/352mm_per_sec/-26mm_53W_013.raw\n",
      "/Users/chiaentsai/Box/MURI-SARA/Thermoreflectance/Joanne/CHESS/0130_2023/352mm_per_sec/-26mm_53W_014.raw\n",
      "/Users/chiaentsai/Box/MURI-SARA/Thermoreflectance/Joanne/CHESS/0130_2023/352mm_per_sec/-26mm_53W_015.raw\n"
     ]
    },
    {
     "name": "stderr",
     "output_type": "stream",
     "text": [
      " 92%|█████████████████████████████████████▋   | 496/540 [00:20<00:02, 17.63it/s]"
     ]
    },
    {
     "name": "stdout",
     "output_type": "stream",
     "text": [
      "/Users/chiaentsai/Box/MURI-SARA/Thermoreflectance/Joanne/CHESS/0130_2023/352mm_per_sec/-26mm_53W_016.raw\n"
     ]
    },
    {
     "name": "stderr",
     "output_type": "stream",
     "text": [
      "\r",
      " 92%|█████████████████████████████████████▋   | 497/540 [00:23<00:02, 14.45it/s]"
     ]
    },
    {
     "name": "stdout",
     "output_type": "stream",
     "text": [
      "/Users/chiaentsai/Box/MURI-SARA/Thermoreflectance/Joanne/CHESS/0130_2023/352mm_per_sec/-26mm_53W_017.raw\n",
      "/Users/chiaentsai/Box/MURI-SARA/Thermoreflectance/Joanne/CHESS/0130_2023/352mm_per_sec/-26mm_53W_018.raw\n",
      "/Users/chiaentsai/Box/MURI-SARA/Thermoreflectance/Joanne/CHESS/0130_2023/352mm_per_sec/-26mm_53W_019.raw\n",
      "/Users/chiaentsai/Box/MURI-SARA/Thermoreflectance/Joanne/CHESS/0130_2023/352mm_per_sec/-26mm_53W_020.raw\n",
      "/Users/chiaentsai/Box/MURI-SARA/Thermoreflectance/Joanne/CHESS/0130_2023/352mm_per_sec/-26mm_53W_021.raw\n",
      "/Users/chiaentsai/Box/MURI-SARA/Thermoreflectance/Joanne/CHESS/0130_2023/352mm_per_sec/-26mm_53W_022.raw\n",
      "/Users/chiaentsai/Box/MURI-SARA/Thermoreflectance/Joanne/CHESS/0130_2023/352mm_per_sec/-26mm_53W_023.raw\n",
      "/Users/chiaentsai/Box/MURI-SARA/Thermoreflectance/Joanne/CHESS/0130_2023/352mm_per_sec/-26mm_53W_024.raw\n",
      "/Users/chiaentsai/Box/MURI-SARA/Thermoreflectance/Joanne/CHESS/0130_2023/352mm_per_sec/-26mm_53W_025.raw\n"
     ]
    },
    {
     "name": "stderr",
     "output_type": "stream",
     "text": [
      " 94%|██████████████████████████████████████▍  | 506/540 [00:40<00:05,  6.17it/s]"
     ]
    },
    {
     "name": "stdout",
     "output_type": "stream",
     "text": [
      "/Users/chiaentsai/Box/MURI-SARA/Thermoreflectance/Joanne/CHESS/0130_2023/352mm_per_sec/-26mm_53W_026.raw\n"
     ]
    },
    {
     "name": "stderr",
     "output_type": "stream",
     "text": [
      "\r",
      " 94%|██████████████████████████████████████▍  | 507/540 [00:42<00:05,  5.85it/s]"
     ]
    },
    {
     "name": "stdout",
     "output_type": "stream",
     "text": [
      "/Users/chiaentsai/Box/MURI-SARA/Thermoreflectance/Joanne/CHESS/0130_2023/352mm_per_sec/-26mm_53W_027.raw\n",
      "/Users/chiaentsai/Box/MURI-SARA/Thermoreflectance/Joanne/CHESS/0130_2023/352mm_per_sec/-26mm_53W_028.raw\n",
      "/Users/chiaentsai/Box/MURI-SARA/Thermoreflectance/Joanne/CHESS/0130_2023/352mm_per_sec/-26mm_53W_029.raw\n"
     ]
    },
    {
     "name": "stderr",
     "output_type": "stream",
     "text": [
      "100%|█████████████████████████████████████████| 540/540 [00:48<00:00, 11.22it/s]\n",
      "  0%|                                                   | 0/540 [00:00<?, ?it/s]"
     ]
    },
    {
     "name": "stdout",
     "output_type": "stream",
     "text": [
      "/Users/chiaentsai/Box/MURI-SARA/Thermoreflectance/Joanne/CHESS/0130_2023/352mm_per_sec/-26mm_55W_000.raw\n"
     ]
    },
    {
     "name": "stderr",
     "output_type": "stream",
     "text": [
      "\r",
      " 95%|█████████████████████████████████████▊  | 511/540 [00:00<00:00, 540.59it/s]"
     ]
    },
    {
     "name": "stdout",
     "output_type": "stream",
     "text": [
      "/Users/chiaentsai/Box/MURI-SARA/Thermoreflectance/Joanne/CHESS/0130_2023/352mm_per_sec/-26mm_55W_001.raw\n",
      "/Users/chiaentsai/Box/MURI-SARA/Thermoreflectance/Joanne/CHESS/0130_2023/352mm_per_sec/-26mm_55W_002.raw\n",
      "/Users/chiaentsai/Box/MURI-SARA/Thermoreflectance/Joanne/CHESS/0130_2023/352mm_per_sec/-26mm_55W_003.raw\n",
      "/Users/chiaentsai/Box/MURI-SARA/Thermoreflectance/Joanne/CHESS/0130_2023/352mm_per_sec/-26mm_55W_004.raw\n",
      "/Users/chiaentsai/Box/MURI-SARA/Thermoreflectance/Joanne/CHESS/0130_2023/352mm_per_sec/-26mm_55W_005.raw\n",
      "/Users/chiaentsai/Box/MURI-SARA/Thermoreflectance/Joanne/CHESS/0130_2023/352mm_per_sec/-26mm_55W_006.raw\n",
      "/Users/chiaentsai/Box/MURI-SARA/Thermoreflectance/Joanne/CHESS/0130_2023/352mm_per_sec/-26mm_55W_007.raw\n",
      "/Users/chiaentsai/Box/MURI-SARA/Thermoreflectance/Joanne/CHESS/0130_2023/352mm_per_sec/-26mm_55W_008.raw\n",
      "/Users/chiaentsai/Box/MURI-SARA/Thermoreflectance/Joanne/CHESS/0130_2023/352mm_per_sec/-26mm_55W_009.raw\n",
      "/Users/chiaentsai/Box/MURI-SARA/Thermoreflectance/Joanne/CHESS/0130_2023/352mm_per_sec/-26mm_55W_010.raw\n",
      "/Users/chiaentsai/Box/MURI-SARA/Thermoreflectance/Joanne/CHESS/0130_2023/352mm_per_sec/-26mm_55W_011.raw\n"
     ]
    },
    {
     "name": "stderr",
     "output_type": "stream",
     "text": [
      " 97%|███████████████████████████████████████▋ | 522/540 [00:13<00:00, 28.37it/s]"
     ]
    },
    {
     "name": "stdout",
     "output_type": "stream",
     "text": [
      "/Users/chiaentsai/Box/MURI-SARA/Thermoreflectance/Joanne/CHESS/0130_2023/352mm_per_sec/-26mm_55W_012.raw\n"
     ]
    },
    {
     "name": "stderr",
     "output_type": "stream",
     "text": [
      "\r",
      " 97%|███████████████████████████████████████▋ | 523/540 [00:14<00:00, 24.02it/s]"
     ]
    },
    {
     "name": "stdout",
     "output_type": "stream",
     "text": [
      "/Users/chiaentsai/Box/MURI-SARA/Thermoreflectance/Joanne/CHESS/0130_2023/352mm_per_sec/-26mm_55W_013.raw\n",
      "/Users/chiaentsai/Box/MURI-SARA/Thermoreflectance/Joanne/CHESS/0130_2023/352mm_per_sec/-26mm_55W_014.raw\n",
      "/Users/chiaentsai/Box/MURI-SARA/Thermoreflectance/Joanne/CHESS/0130_2023/352mm_per_sec/-26mm_55W_015.raw\n",
      "/Users/chiaentsai/Box/MURI-SARA/Thermoreflectance/Joanne/CHESS/0130_2023/352mm_per_sec/-26mm_55W_016.raw\n",
      "/Users/chiaentsai/Box/MURI-SARA/Thermoreflectance/Joanne/CHESS/0130_2023/352mm_per_sec/-26mm_55W_017.raw\n",
      "/Users/chiaentsai/Box/MURI-SARA/Thermoreflectance/Joanne/CHESS/0130_2023/352mm_per_sec/-26mm_55W_018.raw\n",
      "/Users/chiaentsai/Box/MURI-SARA/Thermoreflectance/Joanne/CHESS/0130_2023/352mm_per_sec/-26mm_55W_019.raw\n",
      "/Users/chiaentsai/Box/MURI-SARA/Thermoreflectance/Joanne/CHESS/0130_2023/352mm_per_sec/-26mm_55W_020.raw\n",
      "/Users/chiaentsai/Box/MURI-SARA/Thermoreflectance/Joanne/CHESS/0130_2023/352mm_per_sec/-26mm_55W_021.raw\n"
     ]
    },
    {
     "name": "stderr",
     "output_type": "stream",
     "text": [
      " 99%|████████████████████████████████████████▍| 532/540 [00:36<00:01,  6.64it/s]"
     ]
    },
    {
     "name": "stdout",
     "output_type": "stream",
     "text": [
      "/Users/chiaentsai/Box/MURI-SARA/Thermoreflectance/Joanne/CHESS/0130_2023/352mm_per_sec/-26mm_55W_022.raw\n"
     ]
    },
    {
     "name": "stderr",
     "output_type": "stream",
     "text": [
      "\r",
      " 99%|████████████████████████████████████████▍| 533/540 [00:38<00:01,  5.92it/s]"
     ]
    },
    {
     "name": "stdout",
     "output_type": "stream",
     "text": [
      "/Users/chiaentsai/Box/MURI-SARA/Thermoreflectance/Joanne/CHESS/0130_2023/352mm_per_sec/-26mm_55W_023.raw\n",
      "/Users/chiaentsai/Box/MURI-SARA/Thermoreflectance/Joanne/CHESS/0130_2023/352mm_per_sec/-26mm_55W_024.raw\n",
      "/Users/chiaentsai/Box/MURI-SARA/Thermoreflectance/Joanne/CHESS/0130_2023/352mm_per_sec/-26mm_55W_025.raw\n",
      "/Users/chiaentsai/Box/MURI-SARA/Thermoreflectance/Joanne/CHESS/0130_2023/352mm_per_sec/-26mm_55W_026.raw\n",
      "/Users/chiaentsai/Box/MURI-SARA/Thermoreflectance/Joanne/CHESS/0130_2023/352mm_per_sec/-26mm_55W_027.raw\n",
      "/Users/chiaentsai/Box/MURI-SARA/Thermoreflectance/Joanne/CHESS/0130_2023/352mm_per_sec/-26mm_55W_028.raw\n",
      "/Users/chiaentsai/Box/MURI-SARA/Thermoreflectance/Joanne/CHESS/0130_2023/352mm_per_sec/-26mm_55W_029.raw\n"
     ]
    },
    {
     "name": "stderr",
     "output_type": "stream",
     "text": [
      "100%|█████████████████████████████████████████| 540/540 [00:50<00:00, 10.64it/s]\n",
      "  0%|                                                   | 0/360 [00:00<?, ?it/s]"
     ]
    },
    {
     "name": "stdout",
     "output_type": "stream",
     "text": [
      "/Users/chiaentsai/Box/MURI-SARA/Thermoreflectance/Joanne/CHESS/0130_2023/45mm_per_sec/-14mm_25W_000.raw\n"
     ]
    },
    {
     "name": "stderr",
     "output_type": "stream",
     "text": [
      "\r",
      " 42%|█████████████████▏                       | 151/360 [00:02<00:03, 64.02it/s]"
     ]
    },
    {
     "name": "stdout",
     "output_type": "stream",
     "text": [
      "/Users/chiaentsai/Box/MURI-SARA/Thermoreflectance/Joanne/CHESS/0130_2023/45mm_per_sec/-14mm_25W_001.raw\n",
      "/Users/chiaentsai/Box/MURI-SARA/Thermoreflectance/Joanne/CHESS/0130_2023/45mm_per_sec/-14mm_25W_002.raw\n",
      "/Users/chiaentsai/Box/MURI-SARA/Thermoreflectance/Joanne/CHESS/0130_2023/45mm_per_sec/-14mm_25W_003.raw\n",
      "/Users/chiaentsai/Box/MURI-SARA/Thermoreflectance/Joanne/CHESS/0130_2023/45mm_per_sec/-14mm_25W_004.raw\n",
      "/Users/chiaentsai/Box/MURI-SARA/Thermoreflectance/Joanne/CHESS/0130_2023/45mm_per_sec/-14mm_25W_005.raw\n",
      "/Users/chiaentsai/Box/MURI-SARA/Thermoreflectance/Joanne/CHESS/0130_2023/45mm_per_sec/-14mm_25W_006.raw\n",
      "/Users/chiaentsai/Box/MURI-SARA/Thermoreflectance/Joanne/CHESS/0130_2023/45mm_per_sec/-14mm_25W_007.raw\n"
     ]
    },
    {
     "name": "stderr",
     "output_type": "stream",
     "text": [
      "\r",
      " 44%|█████████████████▉                       | 158/360 [00:09<00:16, 12.34it/s]"
     ]
    },
    {
     "name": "stdout",
     "output_type": "stream",
     "text": [
      "/Users/chiaentsai/Box/MURI-SARA/Thermoreflectance/Joanne/CHESS/0130_2023/45mm_per_sec/-14mm_25W_008.raw\n",
      "/Users/chiaentsai/Box/MURI-SARA/Thermoreflectance/Joanne/CHESS/0130_2023/45mm_per_sec/-14mm_25W_009.raw\n"
     ]
    },
    {
     "name": "stderr",
     "output_type": "stream",
     "text": [
      " 45%|██████████████████▌                      | 163/360 [00:11<00:18, 10.94it/s]"
     ]
    },
    {
     "name": "stdout",
     "output_type": "stream",
     "text": [
      "/Users/chiaentsai/Box/MURI-SARA/Thermoreflectance/Joanne/CHESS/0130_2023/45mm_per_sec/-14mm_25W_010.raw\n",
      "/Users/chiaentsai/Box/MURI-SARA/Thermoreflectance/Joanne/CHESS/0130_2023/45mm_per_sec/-14mm_25W_011.raw\n",
      "/Users/chiaentsai/Box/MURI-SARA/Thermoreflectance/Joanne/CHESS/0130_2023/45mm_per_sec/-14mm_25W_012.raw\n",
      "/Users/chiaentsai/Box/MURI-SARA/Thermoreflectance/Joanne/CHESS/0130_2023/45mm_per_sec/-14mm_25W_013.raw\n",
      "/Users/chiaentsai/Box/MURI-SARA/Thermoreflectance/Joanne/CHESS/0130_2023/45mm_per_sec/-14mm_25W_014.raw\n"
     ]
    },
    {
     "name": "stderr",
     "output_type": "stream",
     "text": [
      "\r",
      " 46%|██████████████████▊                      | 165/360 [00:13<00:27,  7.07it/s]"
     ]
    },
    {
     "name": "stdout",
     "output_type": "stream",
     "text": [
      "/Users/chiaentsai/Box/MURI-SARA/Thermoreflectance/Joanne/CHESS/0130_2023/45mm_per_sec/-14mm_25W_015.raw\n",
      "/Users/chiaentsai/Box/MURI-SARA/Thermoreflectance/Joanne/CHESS/0130_2023/45mm_per_sec/-14mm_25W_016.raw\n"
     ]
    },
    {
     "name": "stderr",
     "output_type": "stream",
     "text": [
      "\r",
      " 46%|███████████████████                      | 167/360 [00:16<00:41,  4.67it/s]"
     ]
    },
    {
     "name": "stdout",
     "output_type": "stream",
     "text": [
      "/Users/chiaentsai/Box/MURI-SARA/Thermoreflectance/Joanne/CHESS/0130_2023/45mm_per_sec/-14mm_25W_017.raw\n"
     ]
    },
    {
     "name": "stderr",
     "output_type": "stream",
     "text": [
      "\r",
      " 47%|███████████████████▏                     | 168/360 [00:17<00:52,  3.66it/s]"
     ]
    },
    {
     "name": "stdout",
     "output_type": "stream",
     "text": [
      "/Users/chiaentsai/Box/MURI-SARA/Thermoreflectance/Joanne/CHESS/0130_2023/45mm_per_sec/-14mm_25W_018.raw\n"
     ]
    },
    {
     "name": "stderr",
     "output_type": "stream",
     "text": [
      "\r",
      " 47%|███████████████████▏                     | 169/360 [00:19<01:02,  3.04it/s]"
     ]
    },
    {
     "name": "stdout",
     "output_type": "stream",
     "text": [
      "/Users/chiaentsai/Box/MURI-SARA/Thermoreflectance/Joanne/CHESS/0130_2023/45mm_per_sec/-14mm_25W_019.raw\n"
     ]
    },
    {
     "name": "stderr",
     "output_type": "stream",
     "text": [
      "\r",
      " 47%|███████████████████▎                     | 170/360 [00:20<01:15,  2.53it/s]"
     ]
    },
    {
     "name": "stdout",
     "output_type": "stream",
     "text": [
      "/Users/chiaentsai/Box/MURI-SARA/Thermoreflectance/Joanne/CHESS/0130_2023/45mm_per_sec/-14mm_25W_020.raw\n"
     ]
    },
    {
     "name": "stderr",
     "output_type": "stream",
     "text": [
      "\r",
      " 48%|███████████████████▍                     | 171/360 [00:21<01:30,  2.08it/s]"
     ]
    },
    {
     "name": "stdout",
     "output_type": "stream",
     "text": [
      "/Users/chiaentsai/Box/MURI-SARA/Thermoreflectance/Joanne/CHESS/0130_2023/45mm_per_sec/-14mm_25W_021.raw\n"
     ]
    },
    {
     "name": "stderr",
     "output_type": "stream",
     "text": [
      "\r",
      " 48%|███████████████████▌                     | 172/360 [00:22<01:45,  1.79it/s]"
     ]
    },
    {
     "name": "stdout",
     "output_type": "stream",
     "text": [
      "/Users/chiaentsai/Box/MURI-SARA/Thermoreflectance/Joanne/CHESS/0130_2023/45mm_per_sec/-14mm_25W_022.raw\n"
     ]
    },
    {
     "name": "stderr",
     "output_type": "stream",
     "text": [
      "\r",
      " 48%|███████████████████▋                     | 173/360 [00:23<01:58,  1.58it/s]"
     ]
    },
    {
     "name": "stdout",
     "output_type": "stream",
     "text": [
      "/Users/chiaentsai/Box/MURI-SARA/Thermoreflectance/Joanne/CHESS/0130_2023/45mm_per_sec/-14mm_25W_023.raw\n"
     ]
    },
    {
     "name": "stderr",
     "output_type": "stream",
     "text": [
      "\r",
      " 48%|███████████████████▊                     | 174/360 [00:24<02:12,  1.41it/s]"
     ]
    },
    {
     "name": "stdout",
     "output_type": "stream",
     "text": [
      "/Users/chiaentsai/Box/MURI-SARA/Thermoreflectance/Joanne/CHESS/0130_2023/45mm_per_sec/-14mm_25W_024.raw\n"
     ]
    },
    {
     "name": "stderr",
     "output_type": "stream",
     "text": [
      "\r",
      " 49%|███████████████████▉                     | 175/360 [00:26<02:31,  1.22it/s]"
     ]
    },
    {
     "name": "stdout",
     "output_type": "stream",
     "text": [
      "/Users/chiaentsai/Box/MURI-SARA/Thermoreflectance/Joanne/CHESS/0130_2023/45mm_per_sec/-14mm_25W_025.raw\n"
     ]
    },
    {
     "name": "stderr",
     "output_type": "stream",
     "text": [
      "\r",
      " 49%|████████████████████                     | 176/360 [00:27<02:48,  1.10it/s]"
     ]
    },
    {
     "name": "stdout",
     "output_type": "stream",
     "text": [
      "/Users/chiaentsai/Box/MURI-SARA/Thermoreflectance/Joanne/CHESS/0130_2023/45mm_per_sec/-14mm_25W_026.raw\n"
     ]
    },
    {
     "name": "stderr",
     "output_type": "stream",
     "text": [
      "\r",
      " 49%|████████████████████▏                    | 177/360 [00:28<03:20,  1.09s/it]"
     ]
    },
    {
     "name": "stdout",
     "output_type": "stream",
     "text": [
      "/Users/chiaentsai/Box/MURI-SARA/Thermoreflectance/Joanne/CHESS/0130_2023/45mm_per_sec/-14mm_25W_027.raw\n"
     ]
    },
    {
     "name": "stderr",
     "output_type": "stream",
     "text": [
      "\r",
      " 49%|████████████████████▎                    | 178/360 [00:30<03:23,  1.12s/it]"
     ]
    },
    {
     "name": "stdout",
     "output_type": "stream",
     "text": [
      "/Users/chiaentsai/Box/MURI-SARA/Thermoreflectance/Joanne/CHESS/0130_2023/45mm_per_sec/-14mm_25W_028.raw\n"
     ]
    },
    {
     "name": "stderr",
     "output_type": "stream",
     "text": [
      "\r",
      " 50%|████████████████████▍                    | 179/360 [00:31<03:25,  1.13s/it]"
     ]
    },
    {
     "name": "stdout",
     "output_type": "stream",
     "text": [
      "/Users/chiaentsai/Box/MURI-SARA/Thermoreflectance/Joanne/CHESS/0130_2023/45mm_per_sec/-14mm_25W_029.raw\n"
     ]
    },
    {
     "name": "stderr",
     "output_type": "stream",
     "text": [
      "100%|█████████████████████████████████████████| 360/360 [00:32<00:00, 11.08it/s]\n",
      "  0%|                                                   | 0/360 [00:00<?, ?it/s]"
     ]
    },
    {
     "name": "stdout",
     "output_type": "stream",
     "text": [
      "/Users/chiaentsai/Box/MURI-SARA/Thermoreflectance/Joanne/CHESS/0130_2023/45mm_per_sec/-14mm_27W_000.raw\n"
     ]
    },
    {
     "name": "stderr",
     "output_type": "stream",
     "text": [
      "\r",
      " 50%|████████████████████                    | 181/360 [00:01<00:01, 137.69it/s]"
     ]
    },
    {
     "name": "stdout",
     "output_type": "stream",
     "text": [
      "/Users/chiaentsai/Box/MURI-SARA/Thermoreflectance/Joanne/CHESS/0130_2023/45mm_per_sec/-14mm_27W_001.raw\n",
      "/Users/chiaentsai/Box/MURI-SARA/Thermoreflectance/Joanne/CHESS/0130_2023/45mm_per_sec/-14mm_27W_002.raw\n",
      "/Users/chiaentsai/Box/MURI-SARA/Thermoreflectance/Joanne/CHESS/0130_2023/45mm_per_sec/-14mm_27W_003.raw\n",
      "/Users/chiaentsai/Box/MURI-SARA/Thermoreflectance/Joanne/CHESS/0130_2023/45mm_per_sec/-14mm_27W_004.raw\n",
      "/Users/chiaentsai/Box/MURI-SARA/Thermoreflectance/Joanne/CHESS/0130_2023/45mm_per_sec/-14mm_27W_005.raw\n",
      "/Users/chiaentsai/Box/MURI-SARA/Thermoreflectance/Joanne/CHESS/0130_2023/45mm_per_sec/-14mm_27W_006.raw\n",
      "/Users/chiaentsai/Box/MURI-SARA/Thermoreflectance/Joanne/CHESS/0130_2023/45mm_per_sec/-14mm_27W_007.raw\n",
      "/Users/chiaentsai/Box/MURI-SARA/Thermoreflectance/Joanne/CHESS/0130_2023/45mm_per_sec/-14mm_27W_008.raw\n",
      "/Users/chiaentsai/Box/MURI-SARA/Thermoreflectance/Joanne/CHESS/0130_2023/45mm_per_sec/-14mm_27W_009.raw\n"
     ]
    },
    {
     "name": "stderr",
     "output_type": "stream",
     "text": [
      " 53%|█████████████████████▊                   | 192/360 [00:12<00:15, 11.02it/s]"
     ]
    },
    {
     "name": "stdout",
     "output_type": "stream",
     "text": [
      "/Users/chiaentsai/Box/MURI-SARA/Thermoreflectance/Joanne/CHESS/0130_2023/45mm_per_sec/-14mm_27W_010.raw\n",
      "/Users/chiaentsai/Box/MURI-SARA/Thermoreflectance/Joanne/CHESS/0130_2023/45mm_per_sec/-14mm_27W_011.raw\n",
      "/Users/chiaentsai/Box/MURI-SARA/Thermoreflectance/Joanne/CHESS/0130_2023/45mm_per_sec/-14mm_27W_012.raw\n",
      "/Users/chiaentsai/Box/MURI-SARA/Thermoreflectance/Joanne/CHESS/0130_2023/45mm_per_sec/-14mm_27W_013.raw\n",
      "/Users/chiaentsai/Box/MURI-SARA/Thermoreflectance/Joanne/CHESS/0130_2023/45mm_per_sec/-14mm_27W_014.raw\n",
      "/Users/chiaentsai/Box/MURI-SARA/Thermoreflectance/Joanne/CHESS/0130_2023/45mm_per_sec/-14mm_27W_015.raw\n",
      "/Users/chiaentsai/Box/MURI-SARA/Thermoreflectance/Joanne/CHESS/0130_2023/45mm_per_sec/-14mm_27W_016.raw\n",
      "/Users/chiaentsai/Box/MURI-SARA/Thermoreflectance/Joanne/CHESS/0130_2023/45mm_per_sec/-14mm_27W_017.raw\n",
      "/Users/chiaentsai/Box/MURI-SARA/Thermoreflectance/Joanne/CHESS/0130_2023/45mm_per_sec/-14mm_27W_018.raw\n"
     ]
    },
    {
     "name": "stderr",
     "output_type": "stream",
     "text": [
      "\r",
      " 55%|██████████████████████▋                  | 199/360 [00:19<00:27,  5.78it/s]"
     ]
    },
    {
     "name": "stdout",
     "output_type": "stream",
     "text": [
      "/Users/chiaentsai/Box/MURI-SARA/Thermoreflectance/Joanne/CHESS/0130_2023/45mm_per_sec/-14mm_27W_019.raw\n",
      "/Users/chiaentsai/Box/MURI-SARA/Thermoreflectance/Joanne/CHESS/0130_2023/45mm_per_sec/-14mm_27W_020.raw\n",
      "/Users/chiaentsai/Box/MURI-SARA/Thermoreflectance/Joanne/CHESS/0130_2023/45mm_per_sec/-14mm_27W_021.raw\n",
      "/Users/chiaentsai/Box/MURI-SARA/Thermoreflectance/Joanne/CHESS/0130_2023/45mm_per_sec/-14mm_27W_022.raw\n"
     ]
    },
    {
     "name": "stderr",
     "output_type": "stream",
     "text": [
      "\r",
      " 56%|███████████████████████                  | 203/360 [00:26<00:43,  3.63it/s]"
     ]
    },
    {
     "name": "stdout",
     "output_type": "stream",
     "text": [
      "/Users/chiaentsai/Box/MURI-SARA/Thermoreflectance/Joanne/CHESS/0130_2023/45mm_per_sec/-14mm_27W_023.raw\n",
      "/Users/chiaentsai/Box/MURI-SARA/Thermoreflectance/Joanne/CHESS/0130_2023/45mm_per_sec/-14mm_27W_024.raw\n",
      "/Users/chiaentsai/Box/MURI-SARA/Thermoreflectance/Joanne/CHESS/0130_2023/45mm_per_sec/-14mm_27W_025.raw\n"
     ]
    },
    {
     "name": "stderr",
     "output_type": "stream",
     "text": [
      "\r",
      " 57%|███████████████████████▍                 | 206/360 [00:29<00:53,  2.90it/s]"
     ]
    },
    {
     "name": "stdout",
     "output_type": "stream",
     "text": [
      "/Users/chiaentsai/Box/MURI-SARA/Thermoreflectance/Joanne/CHESS/0130_2023/45mm_per_sec/-14mm_27W_026.raw\n",
      "/Users/chiaentsai/Box/MURI-SARA/Thermoreflectance/Joanne/CHESS/0130_2023/45mm_per_sec/-14mm_27W_027.raw\n"
     ]
    },
    {
     "name": "stderr",
     "output_type": "stream",
     "text": [
      "\r",
      " 58%|███████████████████████▋                 | 208/360 [00:32<01:00,  2.53it/s]"
     ]
    },
    {
     "name": "stdout",
     "output_type": "stream",
     "text": [
      "/Users/chiaentsai/Box/MURI-SARA/Thermoreflectance/Joanne/CHESS/0130_2023/45mm_per_sec/-14mm_27W_028.raw\n"
     ]
    },
    {
     "name": "stderr",
     "output_type": "stream",
     "text": [
      "\r",
      " 58%|███████████████████████▊                 | 209/360 [00:33<01:04,  2.35it/s]"
     ]
    },
    {
     "name": "stdout",
     "output_type": "stream",
     "text": [
      "/Users/chiaentsai/Box/MURI-SARA/Thermoreflectance/Joanne/CHESS/0130_2023/45mm_per_sec/-14mm_27W_029.raw\n"
     ]
    },
    {
     "name": "stderr",
     "output_type": "stream",
     "text": [
      "100%|█████████████████████████████████████████| 360/360 [00:34<00:00, 10.41it/s]\n",
      "  0%|                                                   | 0/360 [00:00<?, ?it/s]"
     ]
    },
    {
     "name": "stdout",
     "output_type": "stream",
     "text": [
      "/Users/chiaentsai/Box/MURI-SARA/Thermoreflectance/Joanne/CHESS/0130_2023/45mm_per_sec/-14mm_29W_000.raw\n"
     ]
    },
    {
     "name": "stderr",
     "output_type": "stream",
     "text": [
      "\r",
      " 59%|████████████████████████                 | 211/360 [00:02<00:01, 88.02it/s]"
     ]
    },
    {
     "name": "stdout",
     "output_type": "stream",
     "text": [
      "/Users/chiaentsai/Box/MURI-SARA/Thermoreflectance/Joanne/CHESS/0130_2023/45mm_per_sec/-14mm_29W_001.raw\n",
      "/Users/chiaentsai/Box/MURI-SARA/Thermoreflectance/Joanne/CHESS/0130_2023/45mm_per_sec/-14mm_29W_002.raw\n",
      "/Users/chiaentsai/Box/MURI-SARA/Thermoreflectance/Joanne/CHESS/0130_2023/45mm_per_sec/-14mm_29W_003.raw\n",
      "/Users/chiaentsai/Box/MURI-SARA/Thermoreflectance/Joanne/CHESS/0130_2023/45mm_per_sec/-14mm_29W_004.raw\n",
      "/Users/chiaentsai/Box/MURI-SARA/Thermoreflectance/Joanne/CHESS/0130_2023/45mm_per_sec/-14mm_29W_005.raw\n",
      "/Users/chiaentsai/Box/MURI-SARA/Thermoreflectance/Joanne/CHESS/0130_2023/45mm_per_sec/-14mm_29W_006.raw\n",
      "/Users/chiaentsai/Box/MURI-SARA/Thermoreflectance/Joanne/CHESS/0130_2023/45mm_per_sec/-14mm_29W_007.raw\n",
      "/Users/chiaentsai/Box/MURI-SARA/Thermoreflectance/Joanne/CHESS/0130_2023/45mm_per_sec/-14mm_29W_008.raw\n",
      "/Users/chiaentsai/Box/MURI-SARA/Thermoreflectance/Joanne/CHESS/0130_2023/45mm_per_sec/-14mm_29W_009.raw\n"
     ]
    },
    {
     "name": "stderr",
     "output_type": "stream",
     "text": [
      " 62%|█████████████████████████▎               | 222/360 [00:13<00:11, 12.18it/s]"
     ]
    },
    {
     "name": "stdout",
     "output_type": "stream",
     "text": [
      "/Users/chiaentsai/Box/MURI-SARA/Thermoreflectance/Joanne/CHESS/0130_2023/45mm_per_sec/-14mm_29W_010.raw\n",
      "/Users/chiaentsai/Box/MURI-SARA/Thermoreflectance/Joanne/CHESS/0130_2023/45mm_per_sec/-14mm_29W_011.raw\n",
      "/Users/chiaentsai/Box/MURI-SARA/Thermoreflectance/Joanne/CHESS/0130_2023/45mm_per_sec/-14mm_29W_012.raw\n",
      "/Users/chiaentsai/Box/MURI-SARA/Thermoreflectance/Joanne/CHESS/0130_2023/45mm_per_sec/-14mm_29W_013.raw\n",
      "/Users/chiaentsai/Box/MURI-SARA/Thermoreflectance/Joanne/CHESS/0130_2023/45mm_per_sec/-14mm_29W_014.raw\n",
      "/Users/chiaentsai/Box/MURI-SARA/Thermoreflectance/Joanne/CHESS/0130_2023/45mm_per_sec/-14mm_29W_015.raw\n",
      "/Users/chiaentsai/Box/MURI-SARA/Thermoreflectance/Joanne/CHESS/0130_2023/45mm_per_sec/-14mm_29W_016.raw\n"
     ]
    },
    {
     "name": "stderr",
     "output_type": "stream",
     "text": [
      "\r",
      " 63%|█████████████████████████▊               | 227/360 [00:18<00:18,  7.21it/s]"
     ]
    },
    {
     "name": "stdout",
     "output_type": "stream",
     "text": [
      "/Users/chiaentsai/Box/MURI-SARA/Thermoreflectance/Joanne/CHESS/0130_2023/45mm_per_sec/-14mm_29W_017.raw\n",
      "/Users/chiaentsai/Box/MURI-SARA/Thermoreflectance/Joanne/CHESS/0130_2023/45mm_per_sec/-14mm_29W_018.raw\n",
      "/Users/chiaentsai/Box/MURI-SARA/Thermoreflectance/Joanne/CHESS/0130_2023/45mm_per_sec/-14mm_29W_019.raw\n"
     ]
    },
    {
     "name": "stderr",
     "output_type": "stream",
     "text": [
      "\r",
      " 64%|██████████████████████████▏              | 230/360 [00:22<00:24,  5.26it/s]"
     ]
    },
    {
     "name": "stdout",
     "output_type": "stream",
     "text": [
      "/Users/chiaentsai/Box/MURI-SARA/Thermoreflectance/Joanne/CHESS/0130_2023/45mm_per_sec/-14mm_29W_020.raw\n",
      "/Users/chiaentsai/Box/MURI-SARA/Thermoreflectance/Joanne/CHESS/0130_2023/45mm_per_sec/-14mm_29W_021.raw\n"
     ]
    },
    {
     "name": "stderr",
     "output_type": "stream",
     "text": [
      "\r",
      " 64%|██████████████████████████▍              | 232/360 [00:25<00:32,  3.97it/s]"
     ]
    },
    {
     "name": "stdout",
     "output_type": "stream",
     "text": [
      "/Users/chiaentsai/Box/MURI-SARA/Thermoreflectance/Joanne/CHESS/0130_2023/45mm_per_sec/-14mm_29W_022.raw\n",
      "/Users/chiaentsai/Box/MURI-SARA/Thermoreflectance/Joanne/CHESS/0130_2023/45mm_per_sec/-14mm_29W_023.raw\n"
     ]
    },
    {
     "name": "stderr",
     "output_type": "stream",
     "text": [
      "\r",
      " 65%|██████████████████████████▋              | 234/360 [00:27<00:38,  3.29it/s]"
     ]
    },
    {
     "name": "stdout",
     "output_type": "stream",
     "text": [
      "/Users/chiaentsai/Box/MURI-SARA/Thermoreflectance/Joanne/CHESS/0130_2023/45mm_per_sec/-14mm_29W_024.raw\n"
     ]
    },
    {
     "name": "stderr",
     "output_type": "stream",
     "text": [
      "\r",
      " 65%|██████████████████████████▊              | 235/360 [00:28<00:41,  2.98it/s]"
     ]
    },
    {
     "name": "stdout",
     "output_type": "stream",
     "text": [
      "/Users/chiaentsai/Box/MURI-SARA/Thermoreflectance/Joanne/CHESS/0130_2023/45mm_per_sec/-14mm_29W_025.raw\n"
     ]
    },
    {
     "name": "stderr",
     "output_type": "stream",
     "text": [
      "\r",
      " 66%|██████████████████████████▉              | 236/360 [00:30<00:49,  2.50it/s]"
     ]
    },
    {
     "name": "stdout",
     "output_type": "stream",
     "text": [
      "/Users/chiaentsai/Box/MURI-SARA/Thermoreflectance/Joanne/CHESS/0130_2023/45mm_per_sec/-14mm_29W_026.raw\n"
     ]
    },
    {
     "name": "stderr",
     "output_type": "stream",
     "text": [
      "\r",
      " 66%|██████████████████████████▉              | 237/360 [00:31<00:57,  2.16it/s]"
     ]
    },
    {
     "name": "stdout",
     "output_type": "stream",
     "text": [
      "/Users/chiaentsai/Box/MURI-SARA/Thermoreflectance/Joanne/CHESS/0130_2023/45mm_per_sec/-14mm_29W_027.raw\n"
     ]
    },
    {
     "name": "stderr",
     "output_type": "stream",
     "text": [
      "\r",
      " 66%|███████████████████████████              | 238/360 [00:33<01:07,  1.82it/s]"
     ]
    },
    {
     "name": "stdout",
     "output_type": "stream",
     "text": [
      "/Users/chiaentsai/Box/MURI-SARA/Thermoreflectance/Joanne/CHESS/0130_2023/45mm_per_sec/-14mm_29W_028.raw\n"
     ]
    },
    {
     "name": "stderr",
     "output_type": "stream",
     "text": [
      "\r",
      " 66%|███████████████████████████▏             | 239/360 [00:34<01:22,  1.47it/s]"
     ]
    },
    {
     "name": "stdout",
     "output_type": "stream",
     "text": [
      "/Users/chiaentsai/Box/MURI-SARA/Thermoreflectance/Joanne/CHESS/0130_2023/45mm_per_sec/-14mm_29W_029.raw\n"
     ]
    },
    {
     "name": "stderr",
     "output_type": "stream",
     "text": [
      "100%|█████████████████████████████████████████| 360/360 [00:35<00:00, 10.05it/s]\n",
      "  0%|                                                   | 0/360 [00:00<?, ?it/s]"
     ]
    },
    {
     "name": "stdout",
     "output_type": "stream",
     "text": [
      "/Users/chiaentsai/Box/MURI-SARA/Thermoreflectance/Joanne/CHESS/0130_2023/45mm_per_sec/-14mm_31W_000.raw\n"
     ]
    },
    {
     "name": "stderr",
     "output_type": "stream",
     "text": [
      "\r",
      " 67%|██████████████████████████▊             | 241/360 [00:01<00:00, 162.57it/s]"
     ]
    },
    {
     "name": "stdout",
     "output_type": "stream",
     "text": [
      "/Users/chiaentsai/Box/MURI-SARA/Thermoreflectance/Joanne/CHESS/0130_2023/45mm_per_sec/-14mm_31W_001.raw\n",
      "/Users/chiaentsai/Box/MURI-SARA/Thermoreflectance/Joanne/CHESS/0130_2023/45mm_per_sec/-14mm_31W_002.raw\n",
      "/Users/chiaentsai/Box/MURI-SARA/Thermoreflectance/Joanne/CHESS/0130_2023/45mm_per_sec/-14mm_31W_003.raw\n",
      "/Users/chiaentsai/Box/MURI-SARA/Thermoreflectance/Joanne/CHESS/0130_2023/45mm_per_sec/-14mm_31W_004.raw\n",
      "/Users/chiaentsai/Box/MURI-SARA/Thermoreflectance/Joanne/CHESS/0130_2023/45mm_per_sec/-14mm_31W_005.raw\n",
      "/Users/chiaentsai/Box/MURI-SARA/Thermoreflectance/Joanne/CHESS/0130_2023/45mm_per_sec/-14mm_31W_006.raw\n",
      "/Users/chiaentsai/Box/MURI-SARA/Thermoreflectance/Joanne/CHESS/0130_2023/45mm_per_sec/-14mm_31W_007.raw\n",
      "/Users/chiaentsai/Box/MURI-SARA/Thermoreflectance/Joanne/CHESS/0130_2023/45mm_per_sec/-14mm_31W_008.raw\n",
      "/Users/chiaentsai/Box/MURI-SARA/Thermoreflectance/Joanne/CHESS/0130_2023/45mm_per_sec/-14mm_31W_009.raw\n",
      "/Users/chiaentsai/Box/MURI-SARA/Thermoreflectance/Joanne/CHESS/0130_2023/45mm_per_sec/-14mm_31W_010.raw\n",
      "/Users/chiaentsai/Box/MURI-SARA/Thermoreflectance/Joanne/CHESS/0130_2023/45mm_per_sec/-14mm_31W_011.raw\n",
      "/Users/chiaentsai/Box/MURI-SARA/Thermoreflectance/Joanne/CHESS/0130_2023/45mm_per_sec/-14mm_31W_012.raw\n",
      "/Users/chiaentsai/Box/MURI-SARA/Thermoreflectance/Joanne/CHESS/0130_2023/45mm_per_sec/-14mm_31W_013.raw\n",
      "/Users/chiaentsai/Box/MURI-SARA/Thermoreflectance/Joanne/CHESS/0130_2023/45mm_per_sec/-14mm_31W_014.raw\n",
      "/Users/chiaentsai/Box/MURI-SARA/Thermoreflectance/Joanne/CHESS/0130_2023/45mm_per_sec/-14mm_31W_015.raw\n",
      "/Users/chiaentsai/Box/MURI-SARA/Thermoreflectance/Joanne/CHESS/0130_2023/45mm_per_sec/-14mm_31W_016.raw\n",
      "/Users/chiaentsai/Box/MURI-SARA/Thermoreflectance/Joanne/CHESS/0130_2023/45mm_per_sec/-14mm_31W_017.raw\n"
     ]
    },
    {
     "name": "stderr",
     "output_type": "stream",
     "text": [
      " 72%|█████████████████████████████▍           | 258/360 [00:17<00:09, 10.77it/s]"
     ]
    },
    {
     "name": "stdout",
     "output_type": "stream",
     "text": [
      "/Users/chiaentsai/Box/MURI-SARA/Thermoreflectance/Joanne/CHESS/0130_2023/45mm_per_sec/-14mm_31W_018.raw\n"
     ]
    },
    {
     "name": "stderr",
     "output_type": "stream",
     "text": [
      "\r",
      " 72%|█████████████████████████████▍           | 259/360 [00:18<00:10,  9.95it/s]"
     ]
    },
    {
     "name": "stdout",
     "output_type": "stream",
     "text": [
      "/Users/chiaentsai/Box/MURI-SARA/Thermoreflectance/Joanne/CHESS/0130_2023/45mm_per_sec/-14mm_31W_019.raw\n",
      "/Users/chiaentsai/Box/MURI-SARA/Thermoreflectance/Joanne/CHESS/0130_2023/45mm_per_sec/-14mm_31W_020.raw\n",
      "/Users/chiaentsai/Box/MURI-SARA/Thermoreflectance/Joanne/CHESS/0130_2023/45mm_per_sec/-14mm_31W_021.raw\n",
      "/Users/chiaentsai/Box/MURI-SARA/Thermoreflectance/Joanne/CHESS/0130_2023/45mm_per_sec/-14mm_31W_022.raw\n",
      "/Users/chiaentsai/Box/MURI-SARA/Thermoreflectance/Joanne/CHESS/0130_2023/45mm_per_sec/-14mm_31W_023.raw\n",
      "/Users/chiaentsai/Box/MURI-SARA/Thermoreflectance/Joanne/CHESS/0130_2023/45mm_per_sec/-14mm_31W_024.raw\n",
      "/Users/chiaentsai/Box/MURI-SARA/Thermoreflectance/Joanne/CHESS/0130_2023/45mm_per_sec/-14mm_31W_025.raw\n"
     ]
    },
    {
     "name": "stderr",
     "output_type": "stream",
     "text": [
      "\r",
      " 74%|██████████████████████████████▎          | 266/360 [00:28<00:17,  5.31it/s]"
     ]
    },
    {
     "name": "stdout",
     "output_type": "stream",
     "text": [
      "/Users/chiaentsai/Box/MURI-SARA/Thermoreflectance/Joanne/CHESS/0130_2023/45mm_per_sec/-14mm_31W_026.raw\n",
      "/Users/chiaentsai/Box/MURI-SARA/Thermoreflectance/Joanne/CHESS/0130_2023/45mm_per_sec/-14mm_31W_027.raw\n",
      "/Users/chiaentsai/Box/MURI-SARA/Thermoreflectance/Joanne/CHESS/0130_2023/45mm_per_sec/-14mm_31W_028.raw\n",
      "/Users/chiaentsai/Box/MURI-SARA/Thermoreflectance/Joanne/CHESS/0130_2023/45mm_per_sec/-14mm_31W_029.raw\n"
     ]
    },
    {
     "name": "stderr",
     "output_type": "stream",
     "text": [
      "100%|█████████████████████████████████████████| 360/360 [00:33<00:00, 10.67it/s]\n",
      "  0%|                                                   | 0/360 [00:00<?, ?it/s]"
     ]
    },
    {
     "name": "stdout",
     "output_type": "stream",
     "text": [
      "/Users/chiaentsai/Box/MURI-SARA/Thermoreflectance/Joanne/CHESS/0130_2023/45mm_per_sec/-14mm_33W_000.raw\n"
     ]
    },
    {
     "name": "stderr",
     "output_type": "stream",
     "text": [
      "\r",
      " 75%|██████████████████████████████          | 271/360 [00:01<00:00, 156.45it/s]"
     ]
    },
    {
     "name": "stdout",
     "output_type": "stream",
     "text": [
      "/Users/chiaentsai/Box/MURI-SARA/Thermoreflectance/Joanne/CHESS/0130_2023/45mm_per_sec/-14mm_33W_001.raw\n",
      "/Users/chiaentsai/Box/MURI-SARA/Thermoreflectance/Joanne/CHESS/0130_2023/45mm_per_sec/-14mm_33W_002.raw\n",
      "/Users/chiaentsai/Box/MURI-SARA/Thermoreflectance/Joanne/CHESS/0130_2023/45mm_per_sec/-14mm_33W_003.raw\n",
      "/Users/chiaentsai/Box/MURI-SARA/Thermoreflectance/Joanne/CHESS/0130_2023/45mm_per_sec/-14mm_33W_004.raw\n",
      "/Users/chiaentsai/Box/MURI-SARA/Thermoreflectance/Joanne/CHESS/0130_2023/45mm_per_sec/-14mm_33W_005.raw\n",
      "/Users/chiaentsai/Box/MURI-SARA/Thermoreflectance/Joanne/CHESS/0130_2023/45mm_per_sec/-14mm_33W_006.raw\n",
      "/Users/chiaentsai/Box/MURI-SARA/Thermoreflectance/Joanne/CHESS/0130_2023/45mm_per_sec/-14mm_33W_007.raw\n",
      "/Users/chiaentsai/Box/MURI-SARA/Thermoreflectance/Joanne/CHESS/0130_2023/45mm_per_sec/-14mm_33W_008.raw\n",
      "/Users/chiaentsai/Box/MURI-SARA/Thermoreflectance/Joanne/CHESS/0130_2023/45mm_per_sec/-14mm_33W_009.raw\n",
      "/Users/chiaentsai/Box/MURI-SARA/Thermoreflectance/Joanne/CHESS/0130_2023/45mm_per_sec/-14mm_33W_010.raw\n",
      "/Users/chiaentsai/Box/MURI-SARA/Thermoreflectance/Joanne/CHESS/0130_2023/45mm_per_sec/-14mm_33W_011.raw\n",
      "/Users/chiaentsai/Box/MURI-SARA/Thermoreflectance/Joanne/CHESS/0130_2023/45mm_per_sec/-14mm_33W_012.raw\n",
      "/Users/chiaentsai/Box/MURI-SARA/Thermoreflectance/Joanne/CHESS/0130_2023/45mm_per_sec/-14mm_33W_013.raw\n",
      "/Users/chiaentsai/Box/MURI-SARA/Thermoreflectance/Joanne/CHESS/0130_2023/45mm_per_sec/-14mm_33W_014.raw\n",
      "/Users/chiaentsai/Box/MURI-SARA/Thermoreflectance/Joanne/CHESS/0130_2023/45mm_per_sec/-14mm_33W_015.raw\n"
     ]
    },
    {
     "name": "stderr",
     "output_type": "stream",
     "text": [
      " 79%|████████████████████████████████▌        | 286/360 [00:16<00:05, 13.22it/s]"
     ]
    },
    {
     "name": "stdout",
     "output_type": "stream",
     "text": [
      "/Users/chiaentsai/Box/MURI-SARA/Thermoreflectance/Joanne/CHESS/0130_2023/45mm_per_sec/-14mm_33W_016.raw\n"
     ]
    },
    {
     "name": "stderr",
     "output_type": "stream",
     "text": [
      "\r",
      " 80%|████████████████████████████████▋        | 287/360 [00:17<00:06, 11.89it/s]"
     ]
    },
    {
     "name": "stdout",
     "output_type": "stream",
     "text": [
      "/Users/chiaentsai/Box/MURI-SARA/Thermoreflectance/Joanne/CHESS/0130_2023/45mm_per_sec/-14mm_33W_017.raw\n",
      "/Users/chiaentsai/Box/MURI-SARA/Thermoreflectance/Joanne/CHESS/0130_2023/45mm_per_sec/-14mm_33W_018.raw\n",
      "/Users/chiaentsai/Box/MURI-SARA/Thermoreflectance/Joanne/CHESS/0130_2023/45mm_per_sec/-14mm_33W_019.raw\n",
      "/Users/chiaentsai/Box/MURI-SARA/Thermoreflectance/Joanne/CHESS/0130_2023/45mm_per_sec/-14mm_33W_020.raw\n",
      "/Users/chiaentsai/Box/MURI-SARA/Thermoreflectance/Joanne/CHESS/0130_2023/45mm_per_sec/-14mm_33W_021.raw\n",
      "/Users/chiaentsai/Box/MURI-SARA/Thermoreflectance/Joanne/CHESS/0130_2023/45mm_per_sec/-14mm_33W_022.raw\n",
      "/Users/chiaentsai/Box/MURI-SARA/Thermoreflectance/Joanne/CHESS/0130_2023/45mm_per_sec/-14mm_33W_023.raw\n"
     ]
    },
    {
     "name": "stderr",
     "output_type": "stream",
     "text": [
      "\r",
      " 82%|█████████████████████████████████▍       | 294/360 [00:26<00:10,  6.25it/s]"
     ]
    },
    {
     "name": "stdout",
     "output_type": "stream",
     "text": [
      "/Users/chiaentsai/Box/MURI-SARA/Thermoreflectance/Joanne/CHESS/0130_2023/45mm_per_sec/-14mm_33W_024.raw\n",
      "/Users/chiaentsai/Box/MURI-SARA/Thermoreflectance/Joanne/CHESS/0130_2023/45mm_per_sec/-14mm_33W_025.raw\n",
      "/Users/chiaentsai/Box/MURI-SARA/Thermoreflectance/Joanne/CHESS/0130_2023/45mm_per_sec/-14mm_33W_026.raw\n",
      "/Users/chiaentsai/Box/MURI-SARA/Thermoreflectance/Joanne/CHESS/0130_2023/45mm_per_sec/-14mm_33W_027.raw\n"
     ]
    },
    {
     "name": "stderr",
     "output_type": "stream",
     "text": [
      "\r",
      " 83%|█████████████████████████████████▉       | 298/360 [00:31<00:13,  4.63it/s]"
     ]
    },
    {
     "name": "stdout",
     "output_type": "stream",
     "text": [
      "/Users/chiaentsai/Box/MURI-SARA/Thermoreflectance/Joanne/CHESS/0130_2023/45mm_per_sec/-14mm_33W_028.raw\n",
      "/Users/chiaentsai/Box/MURI-SARA/Thermoreflectance/Joanne/CHESS/0130_2023/45mm_per_sec/-14mm_33W_029.raw\n"
     ]
    },
    {
     "name": "stderr",
     "output_type": "stream",
     "text": [
      "100%|█████████████████████████████████████████| 360/360 [00:33<00:00, 10.74it/s]\n",
      "  0%|                                                   | 0/360 [00:00<?, ?it/s]"
     ]
    },
    {
     "name": "stdout",
     "output_type": "stream",
     "text": [
      "/Users/chiaentsai/Box/MURI-SARA/Thermoreflectance/Joanne/CHESS/0130_2023/45mm_per_sec/-14mm_35W_000.raw\n"
     ]
    },
    {
     "name": "stderr",
     "output_type": "stream",
     "text": [
      "\r",
      " 84%|█████████████████████████████████▍      | 301/360 [00:02<00:00, 119.09it/s]"
     ]
    },
    {
     "name": "stdout",
     "output_type": "stream",
     "text": [
      "/Users/chiaentsai/Box/MURI-SARA/Thermoreflectance/Joanne/CHESS/0130_2023/45mm_per_sec/-14mm_35W_001.raw\n",
      "/Users/chiaentsai/Box/MURI-SARA/Thermoreflectance/Joanne/CHESS/0130_2023/45mm_per_sec/-14mm_35W_002.raw\n",
      "/Users/chiaentsai/Box/MURI-SARA/Thermoreflectance/Joanne/CHESS/0130_2023/45mm_per_sec/-14mm_35W_003.raw\n",
      "/Users/chiaentsai/Box/MURI-SARA/Thermoreflectance/Joanne/CHESS/0130_2023/45mm_per_sec/-14mm_35W_004.raw\n",
      "/Users/chiaentsai/Box/MURI-SARA/Thermoreflectance/Joanne/CHESS/0130_2023/45mm_per_sec/-14mm_35W_005.raw\n",
      "/Users/chiaentsai/Box/MURI-SARA/Thermoreflectance/Joanne/CHESS/0130_2023/45mm_per_sec/-14mm_35W_006.raw\n",
      "/Users/chiaentsai/Box/MURI-SARA/Thermoreflectance/Joanne/CHESS/0130_2023/45mm_per_sec/-14mm_35W_007.raw\n",
      "/Users/chiaentsai/Box/MURI-SARA/Thermoreflectance/Joanne/CHESS/0130_2023/45mm_per_sec/-14mm_35W_008.raw\n",
      "/Users/chiaentsai/Box/MURI-SARA/Thermoreflectance/Joanne/CHESS/0130_2023/45mm_per_sec/-14mm_35W_009.raw\n",
      "/Users/chiaentsai/Box/MURI-SARA/Thermoreflectance/Joanne/CHESS/0130_2023/45mm_per_sec/-14mm_35W_010.raw\n",
      "/Users/chiaentsai/Box/MURI-SARA/Thermoreflectance/Joanne/CHESS/0130_2023/45mm_per_sec/-14mm_35W_011.raw\n",
      "/Users/chiaentsai/Box/MURI-SARA/Thermoreflectance/Joanne/CHESS/0130_2023/45mm_per_sec/-14mm_35W_012.raw\n"
     ]
    },
    {
     "name": "stderr",
     "output_type": "stream",
     "text": [
      "\r",
      " 87%|███████████████████████████████████▋     | 313/360 [00:11<00:02, 20.05it/s]"
     ]
    },
    {
     "name": "stdout",
     "output_type": "stream",
     "text": [
      "/Users/chiaentsai/Box/MURI-SARA/Thermoreflectance/Joanne/CHESS/0130_2023/45mm_per_sec/-14mm_35W_013.raw\n",
      "/Users/chiaentsai/Box/MURI-SARA/Thermoreflectance/Joanne/CHESS/0130_2023/45mm_per_sec/-14mm_35W_014.raw\n",
      "/Users/chiaentsai/Box/MURI-SARA/Thermoreflectance/Joanne/CHESS/0130_2023/45mm_per_sec/-14mm_35W_015.raw\n",
      "/Users/chiaentsai/Box/MURI-SARA/Thermoreflectance/Joanne/CHESS/0130_2023/45mm_per_sec/-14mm_35W_016.raw\n",
      "/Users/chiaentsai/Box/MURI-SARA/Thermoreflectance/Joanne/CHESS/0130_2023/45mm_per_sec/-14mm_35W_017.raw\n"
     ]
    },
    {
     "name": "stderr",
     "output_type": "stream",
     "text": [
      "\r",
      " 88%|████████████████████████████████████▏    | 318/360 [00:18<00:03, 11.35it/s]"
     ]
    },
    {
     "name": "stdout",
     "output_type": "stream",
     "text": [
      "/Users/chiaentsai/Box/MURI-SARA/Thermoreflectance/Joanne/CHESS/0130_2023/45mm_per_sec/-14mm_35W_018.raw\n",
      "/Users/chiaentsai/Box/MURI-SARA/Thermoreflectance/Joanne/CHESS/0130_2023/45mm_per_sec/-14mm_35W_019.raw\n",
      "/Users/chiaentsai/Box/MURI-SARA/Thermoreflectance/Joanne/CHESS/0130_2023/45mm_per_sec/-14mm_35W_020.raw\n"
     ]
    },
    {
     "name": "stderr",
     "output_type": "stream",
     "text": [
      "\r",
      " 89%|████████████████████████████████████▌    | 321/360 [00:22<00:04,  8.28it/s]"
     ]
    },
    {
     "name": "stdout",
     "output_type": "stream",
     "text": [
      "/Users/chiaentsai/Box/MURI-SARA/Thermoreflectance/Joanne/CHESS/0130_2023/45mm_per_sec/-14mm_35W_021.raw\n",
      "/Users/chiaentsai/Box/MURI-SARA/Thermoreflectance/Joanne/CHESS/0130_2023/45mm_per_sec/-14mm_35W_022.raw\n"
     ]
    },
    {
     "name": "stderr",
     "output_type": "stream",
     "text": [
      "\r",
      " 90%|████████████████████████████████████▊    | 323/360 [00:24<00:05,  6.82it/s]"
     ]
    },
    {
     "name": "stdout",
     "output_type": "stream",
     "text": [
      "/Users/chiaentsai/Box/MURI-SARA/Thermoreflectance/Joanne/CHESS/0130_2023/45mm_per_sec/-14mm_35W_023.raw\n",
      "/Users/chiaentsai/Box/MURI-SARA/Thermoreflectance/Joanne/CHESS/0130_2023/45mm_per_sec/-14mm_35W_024.raw\n"
     ]
    },
    {
     "name": "stderr",
     "output_type": "stream",
     "text": [
      "\r",
      " 90%|█████████████████████████████████████    | 325/360 [00:27<00:06,  5.17it/s]"
     ]
    },
    {
     "name": "stdout",
     "output_type": "stream",
     "text": [
      "/Users/chiaentsai/Box/MURI-SARA/Thermoreflectance/Joanne/CHESS/0130_2023/45mm_per_sec/-14mm_35W_025.raw\n"
     ]
    },
    {
     "name": "stderr",
     "output_type": "stream",
     "text": [
      "\r",
      " 91%|█████████████████████████████████████▏   | 326/360 [00:29<00:07,  4.49it/s]"
     ]
    },
    {
     "name": "stdout",
     "output_type": "stream",
     "text": [
      "/Users/chiaentsai/Box/MURI-SARA/Thermoreflectance/Joanne/CHESS/0130_2023/45mm_per_sec/-14mm_35W_026.raw\n"
     ]
    },
    {
     "name": "stderr",
     "output_type": "stream",
     "text": [
      "\r",
      " 91%|█████████████████████████████████████▏   | 327/360 [00:30<00:08,  3.93it/s]"
     ]
    },
    {
     "name": "stdout",
     "output_type": "stream",
     "text": [
      "/Users/chiaentsai/Box/MURI-SARA/Thermoreflectance/Joanne/CHESS/0130_2023/45mm_per_sec/-14mm_35W_027.raw\n"
     ]
    },
    {
     "name": "stderr",
     "output_type": "stream",
     "text": [
      "\r",
      " 91%|█████████████████████████████████████▎   | 328/360 [00:31<00:09,  3.31it/s]"
     ]
    },
    {
     "name": "stdout",
     "output_type": "stream",
     "text": [
      "/Users/chiaentsai/Box/MURI-SARA/Thermoreflectance/Joanne/CHESS/0130_2023/45mm_per_sec/-14mm_35W_028.raw\n"
     ]
    },
    {
     "name": "stderr",
     "output_type": "stream",
     "text": [
      "\r",
      " 91%|█████████████████████████████████████▍   | 329/360 [00:32<00:10,  2.82it/s]"
     ]
    },
    {
     "name": "stdout",
     "output_type": "stream",
     "text": [
      "/Users/chiaentsai/Box/MURI-SARA/Thermoreflectance/Joanne/CHESS/0130_2023/45mm_per_sec/-14mm_35W_029.raw\n"
     ]
    },
    {
     "name": "stderr",
     "output_type": "stream",
     "text": [
      "100%|█████████████████████████████████████████| 360/360 [00:34<00:00, 10.47it/s]\n",
      "  0%|                                                   | 0/360 [00:00<?, ?it/s]"
     ]
    },
    {
     "name": "stdout",
     "output_type": "stream",
     "text": [
      "/Users/chiaentsai/Box/MURI-SARA/Thermoreflectance/Joanne/CHESS/0130_2023/45mm_per_sec/-14mm_37W_000.raw\n"
     ]
    },
    {
     "name": "stderr",
     "output_type": "stream",
     "text": [
      "\r",
      " 92%|████████████████████████████████████▊   | 331/360 [00:01<00:00, 172.82it/s]"
     ]
    },
    {
     "name": "stdout",
     "output_type": "stream",
     "text": [
      "/Users/chiaentsai/Box/MURI-SARA/Thermoreflectance/Joanne/CHESS/0130_2023/45mm_per_sec/-14mm_37W_001.raw\n",
      "/Users/chiaentsai/Box/MURI-SARA/Thermoreflectance/Joanne/CHESS/0130_2023/45mm_per_sec/-14mm_37W_002.raw\n",
      "/Users/chiaentsai/Box/MURI-SARA/Thermoreflectance/Joanne/CHESS/0130_2023/45mm_per_sec/-14mm_37W_003.raw\n",
      "/Users/chiaentsai/Box/MURI-SARA/Thermoreflectance/Joanne/CHESS/0130_2023/45mm_per_sec/-14mm_37W_004.raw\n",
      "/Users/chiaentsai/Box/MURI-SARA/Thermoreflectance/Joanne/CHESS/0130_2023/45mm_per_sec/-14mm_37W_005.raw\n",
      "/Users/chiaentsai/Box/MURI-SARA/Thermoreflectance/Joanne/CHESS/0130_2023/45mm_per_sec/-14mm_37W_006.raw\n",
      "/Users/chiaentsai/Box/MURI-SARA/Thermoreflectance/Joanne/CHESS/0130_2023/45mm_per_sec/-14mm_37W_007.raw\n",
      "/Users/chiaentsai/Box/MURI-SARA/Thermoreflectance/Joanne/CHESS/0130_2023/45mm_per_sec/-14mm_37W_008.raw\n",
      "/Users/chiaentsai/Box/MURI-SARA/Thermoreflectance/Joanne/CHESS/0130_2023/45mm_per_sec/-14mm_37W_009.raw\n",
      "/Users/chiaentsai/Box/MURI-SARA/Thermoreflectance/Joanne/CHESS/0130_2023/45mm_per_sec/-14mm_37W_010.raw\n",
      "/Users/chiaentsai/Box/MURI-SARA/Thermoreflectance/Joanne/CHESS/0130_2023/45mm_per_sec/-14mm_37W_011.raw\n",
      "/Users/chiaentsai/Box/MURI-SARA/Thermoreflectance/Joanne/CHESS/0130_2023/45mm_per_sec/-14mm_37W_012.raw\n",
      "/Users/chiaentsai/Box/MURI-SARA/Thermoreflectance/Joanne/CHESS/0130_2023/45mm_per_sec/-14mm_37W_013.raw\n",
      "/Users/chiaentsai/Box/MURI-SARA/Thermoreflectance/Joanne/CHESS/0130_2023/45mm_per_sec/-14mm_37W_014.raw\n",
      "/Users/chiaentsai/Box/MURI-SARA/Thermoreflectance/Joanne/CHESS/0130_2023/45mm_per_sec/-14mm_37W_015.raw\n",
      "/Users/chiaentsai/Box/MURI-SARA/Thermoreflectance/Joanne/CHESS/0130_2023/45mm_per_sec/-14mm_37W_016.raw\n",
      "/Users/chiaentsai/Box/MURI-SARA/Thermoreflectance/Joanne/CHESS/0130_2023/45mm_per_sec/-14mm_37W_017.raw\n",
      "/Users/chiaentsai/Box/MURI-SARA/Thermoreflectance/Joanne/CHESS/0130_2023/45mm_per_sec/-14mm_37W_018.raw\n"
     ]
    },
    {
     "name": "stderr",
     "output_type": "stream",
     "text": [
      "\r",
      " 97%|███████████████████████████████████████▋ | 349/360 [00:18<00:00, 14.24it/s]"
     ]
    },
    {
     "name": "stdout",
     "output_type": "stream",
     "text": [
      "/Users/chiaentsai/Box/MURI-SARA/Thermoreflectance/Joanne/CHESS/0130_2023/45mm_per_sec/-14mm_37W_019.raw\n"
     ]
    },
    {
     "name": "stderr",
     "output_type": "stream",
     "text": [
      "\r",
      " 97%|███████████████████████████████████████▊ | 350/360 [00:19<00:00, 13.11it/s]"
     ]
    },
    {
     "name": "stdout",
     "output_type": "stream",
     "text": [
      "/Users/chiaentsai/Box/MURI-SARA/Thermoreflectance/Joanne/CHESS/0130_2023/45mm_per_sec/-14mm_37W_020.raw\n",
      "/Users/chiaentsai/Box/MURI-SARA/Thermoreflectance/Joanne/CHESS/0130_2023/45mm_per_sec/-14mm_37W_021.raw\n",
      "/Users/chiaentsai/Box/MURI-SARA/Thermoreflectance/Joanne/CHESS/0130_2023/45mm_per_sec/-14mm_37W_022.raw\n",
      "/Users/chiaentsai/Box/MURI-SARA/Thermoreflectance/Joanne/CHESS/0130_2023/45mm_per_sec/-14mm_37W_023.raw\n",
      "/Users/chiaentsai/Box/MURI-SARA/Thermoreflectance/Joanne/CHESS/0130_2023/45mm_per_sec/-14mm_37W_024.raw\n",
      "/Users/chiaentsai/Box/MURI-SARA/Thermoreflectance/Joanne/CHESS/0130_2023/45mm_per_sec/-14mm_37W_025.raw\n",
      "/Users/chiaentsai/Box/MURI-SARA/Thermoreflectance/Joanne/CHESS/0130_2023/45mm_per_sec/-14mm_37W_026.raw\n"
     ]
    },
    {
     "name": "stderr",
     "output_type": "stream",
     "text": [
      " 99%|████████████████████████████████████████▋| 357/360 [00:31<00:00,  6.01it/s]"
     ]
    },
    {
     "name": "stdout",
     "output_type": "stream",
     "text": [
      "/Users/chiaentsai/Box/MURI-SARA/Thermoreflectance/Joanne/CHESS/0130_2023/45mm_per_sec/-14mm_37W_027.raw\n"
     ]
    },
    {
     "name": "stderr",
     "output_type": "stream",
     "text": [
      "\r",
      " 99%|████████████████████████████████████████▊| 358/360 [00:32<00:00,  5.67it/s]"
     ]
    },
    {
     "name": "stdout",
     "output_type": "stream",
     "text": [
      "/Users/chiaentsai/Box/MURI-SARA/Thermoreflectance/Joanne/CHESS/0130_2023/45mm_per_sec/-14mm_37W_028.raw\n",
      "/Users/chiaentsai/Box/MURI-SARA/Thermoreflectance/Joanne/CHESS/0130_2023/45mm_per_sec/-14mm_37W_029.raw\n"
     ]
    },
    {
     "name": "stderr",
     "output_type": "stream",
     "text": [
      "100%|█████████████████████████████████████████| 360/360 [00:35<00:00, 10.15it/s]\n",
      "  0%|                                                   | 0/390 [00:00<?, ?it/s]"
     ]
    },
    {
     "name": "stdout",
     "output_type": "stream",
     "text": [
      "/Users/chiaentsai/Box/MURI-SARA/Thermoreflectance/Joanne/CHESS/0130_2023/68mm_per_sec/-16mm_25W_000.raw\n"
     ]
    },
    {
     "name": "stderr",
     "output_type": "stream",
     "text": [
      "\r",
      " 39%|███████████████▍                        | 151/390 [00:01<00:02, 105.98it/s]"
     ]
    },
    {
     "name": "stdout",
     "output_type": "stream",
     "text": [
      "/Users/chiaentsai/Box/MURI-SARA/Thermoreflectance/Joanne/CHESS/0130_2023/68mm_per_sec/-16mm_25W_001.raw\n",
      "/Users/chiaentsai/Box/MURI-SARA/Thermoreflectance/Joanne/CHESS/0130_2023/68mm_per_sec/-16mm_25W_002.raw\n",
      "/Users/chiaentsai/Box/MURI-SARA/Thermoreflectance/Joanne/CHESS/0130_2023/68mm_per_sec/-16mm_25W_003.raw\n",
      "/Users/chiaentsai/Box/MURI-SARA/Thermoreflectance/Joanne/CHESS/0130_2023/68mm_per_sec/-16mm_25W_004.raw\n",
      "/Users/chiaentsai/Box/MURI-SARA/Thermoreflectance/Joanne/CHESS/0130_2023/68mm_per_sec/-16mm_25W_005.raw\n",
      "/Users/chiaentsai/Box/MURI-SARA/Thermoreflectance/Joanne/CHESS/0130_2023/68mm_per_sec/-16mm_25W_006.raw\n",
      "/Users/chiaentsai/Box/MURI-SARA/Thermoreflectance/Joanne/CHESS/0130_2023/68mm_per_sec/-16mm_25W_007.raw\n",
      "/Users/chiaentsai/Box/MURI-SARA/Thermoreflectance/Joanne/CHESS/0130_2023/68mm_per_sec/-16mm_25W_008.raw\n",
      "/Users/chiaentsai/Box/MURI-SARA/Thermoreflectance/Joanne/CHESS/0130_2023/68mm_per_sec/-16mm_25W_009.raw\n",
      "/Users/chiaentsai/Box/MURI-SARA/Thermoreflectance/Joanne/CHESS/0130_2023/68mm_per_sec/-16mm_25W_010.raw\n",
      "/Users/chiaentsai/Box/MURI-SARA/Thermoreflectance/Joanne/CHESS/0130_2023/68mm_per_sec/-16mm_25W_011.raw\n"
     ]
    },
    {
     "name": "stderr",
     "output_type": "stream",
     "text": [
      "\r",
      " 42%|█████████████████                        | 162/390 [00:10<00:19, 11.79it/s]"
     ]
    },
    {
     "name": "stdout",
     "output_type": "stream",
     "text": [
      "/Users/chiaentsai/Box/MURI-SARA/Thermoreflectance/Joanne/CHESS/0130_2023/68mm_per_sec/-16mm_25W_012.raw\n",
      "/Users/chiaentsai/Box/MURI-SARA/Thermoreflectance/Joanne/CHESS/0130_2023/68mm_per_sec/-16mm_25W_013.raw\n",
      "/Users/chiaentsai/Box/MURI-SARA/Thermoreflectance/Joanne/CHESS/0130_2023/68mm_per_sec/-16mm_25W_014.raw\n",
      "/Users/chiaentsai/Box/MURI-SARA/Thermoreflectance/Joanne/CHESS/0130_2023/68mm_per_sec/-16mm_25W_015.raw\n",
      "/Users/chiaentsai/Box/MURI-SARA/Thermoreflectance/Joanne/CHESS/0130_2023/68mm_per_sec/-16mm_25W_016.raw\n"
     ]
    },
    {
     "name": "stderr",
     "output_type": "stream",
     "text": [
      "\r",
      " 43%|█████████████████▌                       | 167/390 [00:18<00:38,  5.81it/s]"
     ]
    },
    {
     "name": "stdout",
     "output_type": "stream",
     "text": [
      "/Users/chiaentsai/Box/MURI-SARA/Thermoreflectance/Joanne/CHESS/0130_2023/68mm_per_sec/-16mm_25W_017.raw\n",
      "/Users/chiaentsai/Box/MURI-SARA/Thermoreflectance/Joanne/CHESS/0130_2023/68mm_per_sec/-16mm_25W_018.raw\n",
      "/Users/chiaentsai/Box/MURI-SARA/Thermoreflectance/Joanne/CHESS/0130_2023/68mm_per_sec/-16mm_25W_019.raw\n"
     ]
    },
    {
     "name": "stderr",
     "output_type": "stream",
     "text": [
      "\r",
      " 44%|█████████████████▊                       | 170/390 [00:22<00:50,  4.35it/s]"
     ]
    },
    {
     "name": "stdout",
     "output_type": "stream",
     "text": [
      "/Users/chiaentsai/Box/MURI-SARA/Thermoreflectance/Joanne/CHESS/0130_2023/68mm_per_sec/-16mm_25W_020.raw\n",
      "/Users/chiaentsai/Box/MURI-SARA/Thermoreflectance/Joanne/CHESS/0130_2023/68mm_per_sec/-16mm_25W_021.raw\n"
     ]
    },
    {
     "name": "stderr",
     "output_type": "stream",
     "text": [
      "\r",
      " 44%|██████████████████                       | 172/390 [00:25<01:01,  3.57it/s]"
     ]
    },
    {
     "name": "stdout",
     "output_type": "stream",
     "text": [
      "/Users/chiaentsai/Box/MURI-SARA/Thermoreflectance/Joanne/CHESS/0130_2023/68mm_per_sec/-16mm_25W_022.raw\n"
     ]
    },
    {
     "name": "stderr",
     "output_type": "stream",
     "text": [
      "\r",
      " 44%|██████████████████▏                      | 173/390 [00:27<01:10,  3.07it/s]"
     ]
    },
    {
     "name": "stdout",
     "output_type": "stream",
     "text": [
      "/Users/chiaentsai/Box/MURI-SARA/Thermoreflectance/Joanne/CHESS/0130_2023/68mm_per_sec/-16mm_25W_023.raw\n"
     ]
    },
    {
     "name": "stderr",
     "output_type": "stream",
     "text": [
      "\r",
      " 45%|██████████████████▎                      | 174/390 [00:28<01:21,  2.66it/s]"
     ]
    },
    {
     "name": "stdout",
     "output_type": "stream",
     "text": [
      "/Users/chiaentsai/Box/MURI-SARA/Thermoreflectance/Joanne/CHESS/0130_2023/68mm_per_sec/-16mm_25W_024.raw\n"
     ]
    },
    {
     "name": "stderr",
     "output_type": "stream",
     "text": [
      "\r",
      " 45%|██████████████████▍                      | 175/390 [00:30<01:38,  2.18it/s]"
     ]
    },
    {
     "name": "stdout",
     "output_type": "stream",
     "text": [
      "/Users/chiaentsai/Box/MURI-SARA/Thermoreflectance/Joanne/CHESS/0130_2023/68mm_per_sec/-16mm_25W_025.raw\n"
     ]
    },
    {
     "name": "stderr",
     "output_type": "stream",
     "text": [
      "\r",
      " 45%|██████████████████▌                      | 176/390 [00:31<01:52,  1.90it/s]"
     ]
    },
    {
     "name": "stdout",
     "output_type": "stream",
     "text": [
      "/Users/chiaentsai/Box/MURI-SARA/Thermoreflectance/Joanne/CHESS/0130_2023/68mm_per_sec/-16mm_25W_026.raw\n"
     ]
    },
    {
     "name": "stderr",
     "output_type": "stream",
     "text": [
      "\r",
      " 45%|██████████████████▌                      | 177/390 [00:33<02:16,  1.57it/s]"
     ]
    },
    {
     "name": "stdout",
     "output_type": "stream",
     "text": [
      "/Users/chiaentsai/Box/MURI-SARA/Thermoreflectance/Joanne/CHESS/0130_2023/68mm_per_sec/-16mm_25W_027.raw\n"
     ]
    },
    {
     "name": "stderr",
     "output_type": "stream",
     "text": [
      "\r",
      " 46%|██████████████████▋                      | 178/390 [00:35<02:34,  1.37it/s]"
     ]
    },
    {
     "name": "stdout",
     "output_type": "stream",
     "text": [
      "/Users/chiaentsai/Box/MURI-SARA/Thermoreflectance/Joanne/CHESS/0130_2023/68mm_per_sec/-16mm_25W_028.raw\n"
     ]
    },
    {
     "name": "stderr",
     "output_type": "stream",
     "text": [
      "\r",
      " 46%|██████████████████▊                      | 179/390 [00:36<02:57,  1.19it/s]"
     ]
    },
    {
     "name": "stdout",
     "output_type": "stream",
     "text": [
      "/Users/chiaentsai/Box/MURI-SARA/Thermoreflectance/Joanne/CHESS/0130_2023/68mm_per_sec/-16mm_25W_029.raw\n"
     ]
    },
    {
     "name": "stderr",
     "output_type": "stream",
     "text": [
      "100%|█████████████████████████████████████████| 390/390 [00:38<00:00, 10.23it/s]\n",
      "  0%|                                                   | 0/390 [00:00<?, ?it/s]"
     ]
    },
    {
     "name": "stdout",
     "output_type": "stream",
     "text": [
      "/Users/chiaentsai/Box/MURI-SARA/Thermoreflectance/Joanne/CHESS/0130_2023/68mm_per_sec/-16mm_27W_000.raw\n"
     ]
    },
    {
     "name": "stderr",
     "output_type": "stream",
     "text": [
      "\r",
      " 46%|██████████████████▌                     | 181/390 [00:01<00:01, 166.73it/s]"
     ]
    },
    {
     "name": "stdout",
     "output_type": "stream",
     "text": [
      "/Users/chiaentsai/Box/MURI-SARA/Thermoreflectance/Joanne/CHESS/0130_2023/68mm_per_sec/-16mm_27W_001.raw\n",
      "/Users/chiaentsai/Box/MURI-SARA/Thermoreflectance/Joanne/CHESS/0130_2023/68mm_per_sec/-16mm_27W_002.raw\n",
      "/Users/chiaentsai/Box/MURI-SARA/Thermoreflectance/Joanne/CHESS/0130_2023/68mm_per_sec/-16mm_27W_003.raw\n",
      "/Users/chiaentsai/Box/MURI-SARA/Thermoreflectance/Joanne/CHESS/0130_2023/68mm_per_sec/-16mm_27W_004.raw\n",
      "/Users/chiaentsai/Box/MURI-SARA/Thermoreflectance/Joanne/CHESS/0130_2023/68mm_per_sec/-16mm_27W_005.raw\n",
      "/Users/chiaentsai/Box/MURI-SARA/Thermoreflectance/Joanne/CHESS/0130_2023/68mm_per_sec/-16mm_27W_006.raw\n",
      "/Users/chiaentsai/Box/MURI-SARA/Thermoreflectance/Joanne/CHESS/0130_2023/68mm_per_sec/-16mm_27W_007.raw\n",
      "/Users/chiaentsai/Box/MURI-SARA/Thermoreflectance/Joanne/CHESS/0130_2023/68mm_per_sec/-16mm_27W_008.raw\n",
      "/Users/chiaentsai/Box/MURI-SARA/Thermoreflectance/Joanne/CHESS/0130_2023/68mm_per_sec/-16mm_27W_009.raw\n",
      "/Users/chiaentsai/Box/MURI-SARA/Thermoreflectance/Joanne/CHESS/0130_2023/68mm_per_sec/-16mm_27W_010.raw\n",
      "/Users/chiaentsai/Box/MURI-SARA/Thermoreflectance/Joanne/CHESS/0130_2023/68mm_per_sec/-16mm_27W_011.raw\n",
      "/Users/chiaentsai/Box/MURI-SARA/Thermoreflectance/Joanne/CHESS/0130_2023/68mm_per_sec/-16mm_27W_012.raw\n",
      "/Users/chiaentsai/Box/MURI-SARA/Thermoreflectance/Joanne/CHESS/0130_2023/68mm_per_sec/-16mm_27W_013.raw\n",
      "/Users/chiaentsai/Box/MURI-SARA/Thermoreflectance/Joanne/CHESS/0130_2023/68mm_per_sec/-16mm_27W_014.raw\n",
      "/Users/chiaentsai/Box/MURI-SARA/Thermoreflectance/Joanne/CHESS/0130_2023/68mm_per_sec/-16mm_27W_015.raw\n",
      "/Users/chiaentsai/Box/MURI-SARA/Thermoreflectance/Joanne/CHESS/0130_2023/68mm_per_sec/-16mm_27W_016.raw\n",
      "/Users/chiaentsai/Box/MURI-SARA/Thermoreflectance/Joanne/CHESS/0130_2023/68mm_per_sec/-16mm_27W_017.raw\n"
     ]
    },
    {
     "name": "stderr",
     "output_type": "stream",
     "text": [
      "\r",
      " 51%|████████████████████▊                    | 198/390 [00:17<00:23,  8.14it/s]"
     ]
    },
    {
     "name": "stdout",
     "output_type": "stream",
     "text": [
      "/Users/chiaentsai/Box/MURI-SARA/Thermoreflectance/Joanne/CHESS/0130_2023/68mm_per_sec/-16mm_27W_018.raw\n"
     ]
    },
    {
     "name": "stderr",
     "output_type": "stream",
     "text": [
      "\r",
      " 51%|████████████████████▉                    | 199/390 [00:19<00:25,  7.54it/s]"
     ]
    },
    {
     "name": "stdout",
     "output_type": "stream",
     "text": [
      "/Users/chiaentsai/Box/MURI-SARA/Thermoreflectance/Joanne/CHESS/0130_2023/68mm_per_sec/-16mm_27W_019.raw\n",
      "/Users/chiaentsai/Box/MURI-SARA/Thermoreflectance/Joanne/CHESS/0130_2023/68mm_per_sec/-16mm_27W_020.raw\n",
      "/Users/chiaentsai/Box/MURI-SARA/Thermoreflectance/Joanne/CHESS/0130_2023/68mm_per_sec/-16mm_27W_021.raw\n",
      "/Users/chiaentsai/Box/MURI-SARA/Thermoreflectance/Joanne/CHESS/0130_2023/68mm_per_sec/-16mm_27W_022.raw\n",
      "/Users/chiaentsai/Box/MURI-SARA/Thermoreflectance/Joanne/CHESS/0130_2023/68mm_per_sec/-16mm_27W_023.raw\n",
      "/Users/chiaentsai/Box/MURI-SARA/Thermoreflectance/Joanne/CHESS/0130_2023/68mm_per_sec/-16mm_27W_024.raw\n",
      "/Users/chiaentsai/Box/MURI-SARA/Thermoreflectance/Joanne/CHESS/0130_2023/68mm_per_sec/-16mm_27W_025.raw\n"
     ]
    },
    {
     "name": "stderr",
     "output_type": "stream",
     "text": [
      "\r",
      " 53%|█████████████████████▋                   | 206/390 [00:29<00:46,  3.96it/s]"
     ]
    },
    {
     "name": "stdout",
     "output_type": "stream",
     "text": [
      "/Users/chiaentsai/Box/MURI-SARA/Thermoreflectance/Joanne/CHESS/0130_2023/68mm_per_sec/-16mm_27W_026.raw\n"
     ]
    },
    {
     "name": "stderr",
     "output_type": "stream",
     "text": [
      "\r",
      " 53%|█████████████████████▊                   | 207/390 [00:31<00:50,  3.60it/s]"
     ]
    },
    {
     "name": "stdout",
     "output_type": "stream",
     "text": [
      "/Users/chiaentsai/Box/MURI-SARA/Thermoreflectance/Joanne/CHESS/0130_2023/68mm_per_sec/-16mm_27W_027.raw\n",
      "/Users/chiaentsai/Box/MURI-SARA/Thermoreflectance/Joanne/CHESS/0130_2023/68mm_per_sec/-16mm_27W_028.raw\n",
      "/Users/chiaentsai/Box/MURI-SARA/Thermoreflectance/Joanne/CHESS/0130_2023/68mm_per_sec/-16mm_27W_029.raw\n"
     ]
    },
    {
     "name": "stderr",
     "output_type": "stream",
     "text": [
      "100%|█████████████████████████████████████████| 390/390 [00:35<00:00, 10.93it/s]\n",
      "  0%|                                                   | 0/390 [00:00<?, ?it/s]"
     ]
    },
    {
     "name": "stdout",
     "output_type": "stream",
     "text": [
      "/Users/chiaentsai/Box/MURI-SARA/Thermoreflectance/Joanne/CHESS/0130_2023/68mm_per_sec/-16mm_29W_000.raw\n"
     ]
    },
    {
     "name": "stderr",
     "output_type": "stream",
     "text": [
      "\r",
      " 54%|█████████████████████▋                  | 211/390 [00:01<00:01, 127.81it/s]"
     ]
    },
    {
     "name": "stdout",
     "output_type": "stream",
     "text": [
      "/Users/chiaentsai/Box/MURI-SARA/Thermoreflectance/Joanne/CHESS/0130_2023/68mm_per_sec/-16mm_29W_001.raw\n",
      "/Users/chiaentsai/Box/MURI-SARA/Thermoreflectance/Joanne/CHESS/0130_2023/68mm_per_sec/-16mm_29W_002.raw\n",
      "/Users/chiaentsai/Box/MURI-SARA/Thermoreflectance/Joanne/CHESS/0130_2023/68mm_per_sec/-16mm_29W_003.raw\n",
      "/Users/chiaentsai/Box/MURI-SARA/Thermoreflectance/Joanne/CHESS/0130_2023/68mm_per_sec/-16mm_29W_004.raw\n",
      "/Users/chiaentsai/Box/MURI-SARA/Thermoreflectance/Joanne/CHESS/0130_2023/68mm_per_sec/-16mm_29W_005.raw\n",
      "/Users/chiaentsai/Box/MURI-SARA/Thermoreflectance/Joanne/CHESS/0130_2023/68mm_per_sec/-16mm_29W_006.raw\n",
      "/Users/chiaentsai/Box/MURI-SARA/Thermoreflectance/Joanne/CHESS/0130_2023/68mm_per_sec/-16mm_29W_007.raw\n",
      "/Users/chiaentsai/Box/MURI-SARA/Thermoreflectance/Joanne/CHESS/0130_2023/68mm_per_sec/-16mm_29W_008.raw\n",
      "/Users/chiaentsai/Box/MURI-SARA/Thermoreflectance/Joanne/CHESS/0130_2023/68mm_per_sec/-16mm_29W_009.raw\n",
      "/Users/chiaentsai/Box/MURI-SARA/Thermoreflectance/Joanne/CHESS/0130_2023/68mm_per_sec/-16mm_29W_010.raw\n",
      "/Users/chiaentsai/Box/MURI-SARA/Thermoreflectance/Joanne/CHESS/0130_2023/68mm_per_sec/-16mm_29W_011.raw\n",
      "/Users/chiaentsai/Box/MURI-SARA/Thermoreflectance/Joanne/CHESS/0130_2023/68mm_per_sec/-16mm_29W_012.raw\n",
      "/Users/chiaentsai/Box/MURI-SARA/Thermoreflectance/Joanne/CHESS/0130_2023/68mm_per_sec/-16mm_29W_013.raw\n"
     ]
    },
    {
     "name": "stderr",
     "output_type": "stream",
     "text": [
      "\r",
      " 57%|███████████████████████▌                 | 224/390 [00:12<00:12, 13.51it/s]"
     ]
    },
    {
     "name": "stdout",
     "output_type": "stream",
     "text": [
      "/Users/chiaentsai/Box/MURI-SARA/Thermoreflectance/Joanne/CHESS/0130_2023/68mm_per_sec/-16mm_29W_014.raw\n"
     ]
    },
    {
     "name": "stderr",
     "output_type": "stream",
     "text": [
      "\r",
      " 58%|███████████████████████▋                 | 225/390 [00:14<00:14, 11.41it/s]"
     ]
    },
    {
     "name": "stdout",
     "output_type": "stream",
     "text": [
      "/Users/chiaentsai/Box/MURI-SARA/Thermoreflectance/Joanne/CHESS/0130_2023/68mm_per_sec/-16mm_29W_015.raw\n",
      "/Users/chiaentsai/Box/MURI-SARA/Thermoreflectance/Joanne/CHESS/0130_2023/68mm_per_sec/-16mm_29W_016.raw\n",
      "/Users/chiaentsai/Box/MURI-SARA/Thermoreflectance/Joanne/CHESS/0130_2023/68mm_per_sec/-16mm_29W_017.raw\n",
      "/Users/chiaentsai/Box/MURI-SARA/Thermoreflectance/Joanne/CHESS/0130_2023/68mm_per_sec/-16mm_29W_018.raw\n",
      "/Users/chiaentsai/Box/MURI-SARA/Thermoreflectance/Joanne/CHESS/0130_2023/68mm_per_sec/-16mm_29W_019.raw\n",
      "/Users/chiaentsai/Box/MURI-SARA/Thermoreflectance/Joanne/CHESS/0130_2023/68mm_per_sec/-16mm_29W_020.raw\n"
     ]
    },
    {
     "name": "stderr",
     "output_type": "stream",
     "text": [
      "\r",
      " 59%|████████████████████████▎                | 231/390 [00:23<00:31,  5.05it/s]"
     ]
    },
    {
     "name": "stdout",
     "output_type": "stream",
     "text": [
      "/Users/chiaentsai/Box/MURI-SARA/Thermoreflectance/Joanne/CHESS/0130_2023/68mm_per_sec/-16mm_29W_021.raw\n",
      "/Users/chiaentsai/Box/MURI-SARA/Thermoreflectance/Joanne/CHESS/0130_2023/68mm_per_sec/-16mm_29W_022.raw\n",
      "/Users/chiaentsai/Box/MURI-SARA/Thermoreflectance/Joanne/CHESS/0130_2023/68mm_per_sec/-16mm_29W_023.raw\n"
     ]
    },
    {
     "name": "stderr",
     "output_type": "stream",
     "text": [
      "\r",
      " 60%|████████████████████████▌                | 234/390 [00:28<00:40,  3.83it/s]"
     ]
    },
    {
     "name": "stdout",
     "output_type": "stream",
     "text": [
      "/Users/chiaentsai/Box/MURI-SARA/Thermoreflectance/Joanne/CHESS/0130_2023/68mm_per_sec/-16mm_29W_024.raw\n",
      "/Users/chiaentsai/Box/MURI-SARA/Thermoreflectance/Joanne/CHESS/0130_2023/68mm_per_sec/-16mm_29W_025.raw\n"
     ]
    },
    {
     "name": "stderr",
     "output_type": "stream",
     "text": [
      "\r",
      " 61%|████████████████████████▊                | 236/390 [00:31<00:49,  3.13it/s]"
     ]
    },
    {
     "name": "stdout",
     "output_type": "stream",
     "text": [
      "/Users/chiaentsai/Box/MURI-SARA/Thermoreflectance/Joanne/CHESS/0130_2023/68mm_per_sec/-16mm_29W_026.raw\n",
      "/Users/chiaentsai/Box/MURI-SARA/Thermoreflectance/Joanne/CHESS/0130_2023/68mm_per_sec/-16mm_29W_027.raw\n"
     ]
    },
    {
     "name": "stderr",
     "output_type": "stream",
     "text": [
      "\r",
      " 61%|█████████████████████████                | 238/390 [00:35<01:02,  2.43it/s]"
     ]
    },
    {
     "name": "stdout",
     "output_type": "stream",
     "text": [
      "/Users/chiaentsai/Box/MURI-SARA/Thermoreflectance/Joanne/CHESS/0130_2023/68mm_per_sec/-16mm_29W_028.raw\n"
     ]
    },
    {
     "name": "stderr",
     "output_type": "stream",
     "text": [
      "\r",
      " 61%|█████████████████████████▏               | 239/390 [00:36<01:06,  2.26it/s]"
     ]
    },
    {
     "name": "stdout",
     "output_type": "stream",
     "text": [
      "/Users/chiaentsai/Box/MURI-SARA/Thermoreflectance/Joanne/CHESS/0130_2023/68mm_per_sec/-16mm_29W_029.raw\n"
     ]
    },
    {
     "name": "stderr",
     "output_type": "stream",
     "text": [
      "100%|█████████████████████████████████████████| 390/390 [00:38<00:00, 10.15it/s]\n",
      "  0%|                                                   | 0/390 [00:00<?, ?it/s]"
     ]
    },
    {
     "name": "stdout",
     "output_type": "stream",
     "text": [
      "/Users/chiaentsai/Box/MURI-SARA/Thermoreflectance/Joanne/CHESS/0130_2023/68mm_per_sec/-16mm_31W_000.raw\n"
     ]
    },
    {
     "name": "stderr",
     "output_type": "stream",
     "text": [
      "\r",
      " 62%|████████████████████████▋               | 241/390 [00:01<00:00, 151.53it/s]"
     ]
    },
    {
     "name": "stdout",
     "output_type": "stream",
     "text": [
      "/Users/chiaentsai/Box/MURI-SARA/Thermoreflectance/Joanne/CHESS/0130_2023/68mm_per_sec/-16mm_31W_001.raw\n",
      "/Users/chiaentsai/Box/MURI-SARA/Thermoreflectance/Joanne/CHESS/0130_2023/68mm_per_sec/-16mm_31W_002.raw\n",
      "/Users/chiaentsai/Box/MURI-SARA/Thermoreflectance/Joanne/CHESS/0130_2023/68mm_per_sec/-16mm_31W_003.raw\n",
      "/Users/chiaentsai/Box/MURI-SARA/Thermoreflectance/Joanne/CHESS/0130_2023/68mm_per_sec/-16mm_31W_004.raw\n",
      "/Users/chiaentsai/Box/MURI-SARA/Thermoreflectance/Joanne/CHESS/0130_2023/68mm_per_sec/-16mm_31W_005.raw\n",
      "/Users/chiaentsai/Box/MURI-SARA/Thermoreflectance/Joanne/CHESS/0130_2023/68mm_per_sec/-16mm_31W_006.raw\n",
      "/Users/chiaentsai/Box/MURI-SARA/Thermoreflectance/Joanne/CHESS/0130_2023/68mm_per_sec/-16mm_31W_007.raw\n",
      "/Users/chiaentsai/Box/MURI-SARA/Thermoreflectance/Joanne/CHESS/0130_2023/68mm_per_sec/-16mm_31W_008.raw\n",
      "/Users/chiaentsai/Box/MURI-SARA/Thermoreflectance/Joanne/CHESS/0130_2023/68mm_per_sec/-16mm_31W_009.raw\n",
      "/Users/chiaentsai/Box/MURI-SARA/Thermoreflectance/Joanne/CHESS/0130_2023/68mm_per_sec/-16mm_31W_010.raw\n",
      "/Users/chiaentsai/Box/MURI-SARA/Thermoreflectance/Joanne/CHESS/0130_2023/68mm_per_sec/-16mm_31W_011.raw\n",
      "/Users/chiaentsai/Box/MURI-SARA/Thermoreflectance/Joanne/CHESS/0130_2023/68mm_per_sec/-16mm_31W_012.raw\n",
      "/Users/chiaentsai/Box/MURI-SARA/Thermoreflectance/Joanne/CHESS/0130_2023/68mm_per_sec/-16mm_31W_013.raw\n",
      "/Users/chiaentsai/Box/MURI-SARA/Thermoreflectance/Joanne/CHESS/0130_2023/68mm_per_sec/-16mm_31W_014.raw\n",
      "/Users/chiaentsai/Box/MURI-SARA/Thermoreflectance/Joanne/CHESS/0130_2023/68mm_per_sec/-16mm_31W_015.raw\n",
      "/Users/chiaentsai/Box/MURI-SARA/Thermoreflectance/Joanne/CHESS/0130_2023/68mm_per_sec/-16mm_31W_016.raw\n"
     ]
    },
    {
     "name": "stderr",
     "output_type": "stream",
     "text": [
      "\r",
      " 66%|███████████████████████████              | 257/390 [00:16<00:11, 11.44it/s]"
     ]
    },
    {
     "name": "stdout",
     "output_type": "stream",
     "text": [
      "/Users/chiaentsai/Box/MURI-SARA/Thermoreflectance/Joanne/CHESS/0130_2023/68mm_per_sec/-16mm_31W_017.raw\n"
     ]
    },
    {
     "name": "stderr",
     "output_type": "stream",
     "text": [
      "\r",
      " 66%|███████████████████████████              | 258/390 [00:17<00:12, 10.30it/s]"
     ]
    },
    {
     "name": "stdout",
     "output_type": "stream",
     "text": [
      "/Users/chiaentsai/Box/MURI-SARA/Thermoreflectance/Joanne/CHESS/0130_2023/68mm_per_sec/-16mm_31W_018.raw\n",
      "/Users/chiaentsai/Box/MURI-SARA/Thermoreflectance/Joanne/CHESS/0130_2023/68mm_per_sec/-16mm_31W_019.raw\n",
      "/Users/chiaentsai/Box/MURI-SARA/Thermoreflectance/Joanne/CHESS/0130_2023/68mm_per_sec/-16mm_31W_020.raw\n",
      "/Users/chiaentsai/Box/MURI-SARA/Thermoreflectance/Joanne/CHESS/0130_2023/68mm_per_sec/-16mm_31W_021.raw\n",
      "/Users/chiaentsai/Box/MURI-SARA/Thermoreflectance/Joanne/CHESS/0130_2023/68mm_per_sec/-16mm_31W_022.raw\n",
      "/Users/chiaentsai/Box/MURI-SARA/Thermoreflectance/Joanne/CHESS/0130_2023/68mm_per_sec/-16mm_31W_023.raw\n",
      "/Users/chiaentsai/Box/MURI-SARA/Thermoreflectance/Joanne/CHESS/0130_2023/68mm_per_sec/-16mm_31W_024.raw\n"
     ]
    },
    {
     "name": "stderr",
     "output_type": "stream",
     "text": [
      "\r",
      " 68%|███████████████████████████▊             | 265/390 [00:29<00:26,  4.76it/s]"
     ]
    },
    {
     "name": "stdout",
     "output_type": "stream",
     "text": [
      "/Users/chiaentsai/Box/MURI-SARA/Thermoreflectance/Joanne/CHESS/0130_2023/68mm_per_sec/-16mm_31W_025.raw\n"
     ]
    },
    {
     "name": "stderr",
     "output_type": "stream",
     "text": [
      "\r",
      " 68%|███████████████████████████▉             | 266/390 [00:31<00:28,  4.37it/s]"
     ]
    },
    {
     "name": "stdout",
     "output_type": "stream",
     "text": [
      "/Users/chiaentsai/Box/MURI-SARA/Thermoreflectance/Joanne/CHESS/0130_2023/68mm_per_sec/-16mm_31W_026.raw\n",
      "/Users/chiaentsai/Box/MURI-SARA/Thermoreflectance/Joanne/CHESS/0130_2023/68mm_per_sec/-16mm_31W_027.raw\n",
      "/Users/chiaentsai/Box/MURI-SARA/Thermoreflectance/Joanne/CHESS/0130_2023/68mm_per_sec/-16mm_31W_028.raw\n",
      "/Users/chiaentsai/Box/MURI-SARA/Thermoreflectance/Joanne/CHESS/0130_2023/68mm_per_sec/-16mm_31W_029.raw\n"
     ]
    },
    {
     "name": "stderr",
     "output_type": "stream",
     "text": [
      "100%|█████████████████████████████████████████| 390/390 [00:37<00:00, 10.37it/s]\n",
      "  0%|                                                   | 0/390 [00:00<?, ?it/s]"
     ]
    },
    {
     "name": "stdout",
     "output_type": "stream",
     "text": [
      "/Users/chiaentsai/Box/MURI-SARA/Thermoreflectance/Joanne/CHESS/0130_2023/68mm_per_sec/-16mm_33W_000.raw\n"
     ]
    },
    {
     "name": "stderr",
     "output_type": "stream",
     "text": [
      "\r",
      " 69%|███████████████████████████▊            | 271/390 [00:01<00:00, 189.52it/s]"
     ]
    },
    {
     "name": "stdout",
     "output_type": "stream",
     "text": [
      "/Users/chiaentsai/Box/MURI-SARA/Thermoreflectance/Joanne/CHESS/0130_2023/68mm_per_sec/-16mm_33W_001.raw\n",
      "/Users/chiaentsai/Box/MURI-SARA/Thermoreflectance/Joanne/CHESS/0130_2023/68mm_per_sec/-16mm_33W_002.raw\n",
      "/Users/chiaentsai/Box/MURI-SARA/Thermoreflectance/Joanne/CHESS/0130_2023/68mm_per_sec/-16mm_33W_003.raw\n",
      "/Users/chiaentsai/Box/MURI-SARA/Thermoreflectance/Joanne/CHESS/0130_2023/68mm_per_sec/-16mm_33W_004.raw\n",
      "/Users/chiaentsai/Box/MURI-SARA/Thermoreflectance/Joanne/CHESS/0130_2023/68mm_per_sec/-16mm_33W_005.raw\n",
      "/Users/chiaentsai/Box/MURI-SARA/Thermoreflectance/Joanne/CHESS/0130_2023/68mm_per_sec/-16mm_33W_006.raw\n",
      "/Users/chiaentsai/Box/MURI-SARA/Thermoreflectance/Joanne/CHESS/0130_2023/68mm_per_sec/-16mm_33W_007.raw\n",
      "/Users/chiaentsai/Box/MURI-SARA/Thermoreflectance/Joanne/CHESS/0130_2023/68mm_per_sec/-16mm_33W_008.raw\n",
      "/Users/chiaentsai/Box/MURI-SARA/Thermoreflectance/Joanne/CHESS/0130_2023/68mm_per_sec/-16mm_33W_009.raw\n",
      "/Users/chiaentsai/Box/MURI-SARA/Thermoreflectance/Joanne/CHESS/0130_2023/68mm_per_sec/-16mm_33W_010.raw\n",
      "/Users/chiaentsai/Box/MURI-SARA/Thermoreflectance/Joanne/CHESS/0130_2023/68mm_per_sec/-16mm_33W_011.raw\n",
      "/Users/chiaentsai/Box/MURI-SARA/Thermoreflectance/Joanne/CHESS/0130_2023/68mm_per_sec/-16mm_33W_012.raw\n",
      "/Users/chiaentsai/Box/MURI-SARA/Thermoreflectance/Joanne/CHESS/0130_2023/68mm_per_sec/-16mm_33W_013.raw\n",
      "/Users/chiaentsai/Box/MURI-SARA/Thermoreflectance/Joanne/CHESS/0130_2023/68mm_per_sec/-16mm_33W_014.raw\n",
      "/Users/chiaentsai/Box/MURI-SARA/Thermoreflectance/Joanne/CHESS/0130_2023/68mm_per_sec/-16mm_33W_015.raw\n"
     ]
    },
    {
     "name": "stderr",
     "output_type": "stream",
     "text": [
      " 73%|██████████████████████████████           | 286/390 [00:14<00:07, 14.09it/s]"
     ]
    },
    {
     "name": "stdout",
     "output_type": "stream",
     "text": [
      "/Users/chiaentsai/Box/MURI-SARA/Thermoreflectance/Joanne/CHESS/0130_2023/68mm_per_sec/-16mm_33W_016.raw\n"
     ]
    },
    {
     "name": "stderr",
     "output_type": "stream",
     "text": [
      "\r",
      " 74%|██████████████████████████████▏          | 287/390 [00:16<00:08, 12.57it/s]"
     ]
    },
    {
     "name": "stdout",
     "output_type": "stream",
     "text": [
      "/Users/chiaentsai/Box/MURI-SARA/Thermoreflectance/Joanne/CHESS/0130_2023/68mm_per_sec/-16mm_33W_017.raw\n",
      "/Users/chiaentsai/Box/MURI-SARA/Thermoreflectance/Joanne/CHESS/0130_2023/68mm_per_sec/-16mm_33W_018.raw\n",
      "/Users/chiaentsai/Box/MURI-SARA/Thermoreflectance/Joanne/CHESS/0130_2023/68mm_per_sec/-16mm_33W_019.raw\n",
      "/Users/chiaentsai/Box/MURI-SARA/Thermoreflectance/Joanne/CHESS/0130_2023/68mm_per_sec/-16mm_33W_020.raw\n",
      "/Users/chiaentsai/Box/MURI-SARA/Thermoreflectance/Joanne/CHESS/0130_2023/68mm_per_sec/-16mm_33W_021.raw\n",
      "/Users/chiaentsai/Box/MURI-SARA/Thermoreflectance/Joanne/CHESS/0130_2023/68mm_per_sec/-16mm_33W_022.raw\n",
      "/Users/chiaentsai/Box/MURI-SARA/Thermoreflectance/Joanne/CHESS/0130_2023/68mm_per_sec/-16mm_33W_023.raw\n",
      "/Users/chiaentsai/Box/MURI-SARA/Thermoreflectance/Joanne/CHESS/0130_2023/68mm_per_sec/-16mm_33W_024.raw\n"
     ]
    },
    {
     "name": "stderr",
     "output_type": "stream",
     "text": [
      "\r",
      " 76%|███████████████████████████████          | 295/390 [00:29<00:18,  5.09it/s]"
     ]
    },
    {
     "name": "stdout",
     "output_type": "stream",
     "text": [
      "/Users/chiaentsai/Box/MURI-SARA/Thermoreflectance/Joanne/CHESS/0130_2023/68mm_per_sec/-16mm_33W_025.raw\n"
     ]
    },
    {
     "name": "stderr",
     "output_type": "stream",
     "text": [
      "\r",
      " 76%|███████████████████████████████          | 296/390 [00:31<00:19,  4.72it/s]"
     ]
    },
    {
     "name": "stdout",
     "output_type": "stream",
     "text": [
      "/Users/chiaentsai/Box/MURI-SARA/Thermoreflectance/Joanne/CHESS/0130_2023/68mm_per_sec/-16mm_33W_026.raw\n",
      "/Users/chiaentsai/Box/MURI-SARA/Thermoreflectance/Joanne/CHESS/0130_2023/68mm_per_sec/-16mm_33W_027.raw\n",
      "/Users/chiaentsai/Box/MURI-SARA/Thermoreflectance/Joanne/CHESS/0130_2023/68mm_per_sec/-16mm_33W_028.raw\n",
      "/Users/chiaentsai/Box/MURI-SARA/Thermoreflectance/Joanne/CHESS/0130_2023/68mm_per_sec/-16mm_33W_029.raw\n"
     ]
    },
    {
     "name": "stderr",
     "output_type": "stream",
     "text": [
      "100%|█████████████████████████████████████████| 390/390 [00:37<00:00, 10.39it/s]\n",
      "  0%|                                                   | 0/390 [00:00<?, ?it/s]"
     ]
    },
    {
     "name": "stdout",
     "output_type": "stream",
     "text": [
      "/Users/chiaentsai/Box/MURI-SARA/Thermoreflectance/Joanne/CHESS/0130_2023/68mm_per_sec/-16mm_35W_000.raw\n"
     ]
    },
    {
     "name": "stderr",
     "output_type": "stream",
     "text": [
      "\r",
      " 77%|██████████████████████████████▊         | 301/390 [00:01<00:00, 211.34it/s]"
     ]
    },
    {
     "name": "stdout",
     "output_type": "stream",
     "text": [
      "/Users/chiaentsai/Box/MURI-SARA/Thermoreflectance/Joanne/CHESS/0130_2023/68mm_per_sec/-16mm_35W_001.raw\n",
      "/Users/chiaentsai/Box/MURI-SARA/Thermoreflectance/Joanne/CHESS/0130_2023/68mm_per_sec/-16mm_35W_002.raw\n",
      "/Users/chiaentsai/Box/MURI-SARA/Thermoreflectance/Joanne/CHESS/0130_2023/68mm_per_sec/-16mm_35W_003.raw\n",
      "/Users/chiaentsai/Box/MURI-SARA/Thermoreflectance/Joanne/CHESS/0130_2023/68mm_per_sec/-16mm_35W_004.raw\n",
      "/Users/chiaentsai/Box/MURI-SARA/Thermoreflectance/Joanne/CHESS/0130_2023/68mm_per_sec/-16mm_35W_005.raw\n",
      "/Users/chiaentsai/Box/MURI-SARA/Thermoreflectance/Joanne/CHESS/0130_2023/68mm_per_sec/-16mm_35W_006.raw\n",
      "/Users/chiaentsai/Box/MURI-SARA/Thermoreflectance/Joanne/CHESS/0130_2023/68mm_per_sec/-16mm_35W_007.raw\n",
      "/Users/chiaentsai/Box/MURI-SARA/Thermoreflectance/Joanne/CHESS/0130_2023/68mm_per_sec/-16mm_35W_008.raw\n",
      "/Users/chiaentsai/Box/MURI-SARA/Thermoreflectance/Joanne/CHESS/0130_2023/68mm_per_sec/-16mm_35W_009.raw\n",
      "/Users/chiaentsai/Box/MURI-SARA/Thermoreflectance/Joanne/CHESS/0130_2023/68mm_per_sec/-16mm_35W_010.raw\n",
      "/Users/chiaentsai/Box/MURI-SARA/Thermoreflectance/Joanne/CHESS/0130_2023/68mm_per_sec/-16mm_35W_011.raw\n",
      "/Users/chiaentsai/Box/MURI-SARA/Thermoreflectance/Joanne/CHESS/0130_2023/68mm_per_sec/-16mm_35W_012.raw\n",
      "/Users/chiaentsai/Box/MURI-SARA/Thermoreflectance/Joanne/CHESS/0130_2023/68mm_per_sec/-16mm_35W_013.raw\n",
      "/Users/chiaentsai/Box/MURI-SARA/Thermoreflectance/Joanne/CHESS/0130_2023/68mm_per_sec/-16mm_35W_014.raw\n",
      "/Users/chiaentsai/Box/MURI-SARA/Thermoreflectance/Joanne/CHESS/0130_2023/68mm_per_sec/-16mm_35W_015.raw\n",
      "/Users/chiaentsai/Box/MURI-SARA/Thermoreflectance/Joanne/CHESS/0130_2023/68mm_per_sec/-16mm_35W_016.raw\n",
      "/Users/chiaentsai/Box/MURI-SARA/Thermoreflectance/Joanne/CHESS/0130_2023/68mm_per_sec/-16mm_35W_017.raw\n",
      "/Users/chiaentsai/Box/MURI-SARA/Thermoreflectance/Joanne/CHESS/0130_2023/68mm_per_sec/-16mm_35W_018.raw\n"
     ]
    },
    {
     "name": "stderr",
     "output_type": "stream",
     "text": [
      " 82%|█████████████████████████████████▌       | 319/390 [00:18<00:05, 12.41it/s]"
     ]
    },
    {
     "name": "stdout",
     "output_type": "stream",
     "text": [
      "/Users/chiaentsai/Box/MURI-SARA/Thermoreflectance/Joanne/CHESS/0130_2023/68mm_per_sec/-16mm_35W_019.raw\n"
     ]
    },
    {
     "name": "stderr",
     "output_type": "stream",
     "text": [
      "\r",
      " 82%|█████████████████████████████████▋       | 320/390 [00:20<00:06, 11.26it/s]"
     ]
    },
    {
     "name": "stdout",
     "output_type": "stream",
     "text": [
      "/Users/chiaentsai/Box/MURI-SARA/Thermoreflectance/Joanne/CHESS/0130_2023/68mm_per_sec/-16mm_35W_020.raw\n",
      "/Users/chiaentsai/Box/MURI-SARA/Thermoreflectance/Joanne/CHESS/0130_2023/68mm_per_sec/-16mm_35W_021.raw\n",
      "/Users/chiaentsai/Box/MURI-SARA/Thermoreflectance/Joanne/CHESS/0130_2023/68mm_per_sec/-16mm_35W_022.raw\n",
      "/Users/chiaentsai/Box/MURI-SARA/Thermoreflectance/Joanne/CHESS/0130_2023/68mm_per_sec/-16mm_35W_023.raw\n",
      "/Users/chiaentsai/Box/MURI-SARA/Thermoreflectance/Joanne/CHESS/0130_2023/68mm_per_sec/-16mm_35W_024.raw\n",
      "/Users/chiaentsai/Box/MURI-SARA/Thermoreflectance/Joanne/CHESS/0130_2023/68mm_per_sec/-16mm_35W_025.raw\n",
      "/Users/chiaentsai/Box/MURI-SARA/Thermoreflectance/Joanne/CHESS/0130_2023/68mm_per_sec/-16mm_35W_026.raw\n",
      "/Users/chiaentsai/Box/MURI-SARA/Thermoreflectance/Joanne/CHESS/0130_2023/68mm_per_sec/-16mm_35W_027.raw\n",
      "/Users/chiaentsai/Box/MURI-SARA/Thermoreflectance/Joanne/CHESS/0130_2023/68mm_per_sec/-16mm_35W_028.raw\n"
     ]
    },
    {
     "name": "stderr",
     "output_type": "stream",
     "text": [
      "\r",
      " 84%|██████████████████████████████████▌      | 329/390 [00:34<00:11,  5.12it/s]"
     ]
    },
    {
     "name": "stdout",
     "output_type": "stream",
     "text": [
      "/Users/chiaentsai/Box/MURI-SARA/Thermoreflectance/Joanne/CHESS/0130_2023/68mm_per_sec/-16mm_35W_029.raw\n"
     ]
    },
    {
     "name": "stderr",
     "output_type": "stream",
     "text": [
      "100%|█████████████████████████████████████████| 390/390 [00:35<00:00, 11.02it/s]\n",
      "  0%|                                                   | 0/390 [00:00<?, ?it/s]"
     ]
    },
    {
     "name": "stdout",
     "output_type": "stream",
     "text": [
      "/Users/chiaentsai/Box/MURI-SARA/Thermoreflectance/Joanne/CHESS/0130_2023/68mm_per_sec/-16mm_37W_000.raw\n"
     ]
    },
    {
     "name": "stderr",
     "output_type": "stream",
     "text": [
      "\r",
      " 85%|█████████████████████████████████▉      | 331/390 [00:01<00:00, 268.99it/s]"
     ]
    },
    {
     "name": "stdout",
     "output_type": "stream",
     "text": [
      "/Users/chiaentsai/Box/MURI-SARA/Thermoreflectance/Joanne/CHESS/0130_2023/68mm_per_sec/-16mm_37W_001.raw\n",
      "/Users/chiaentsai/Box/MURI-SARA/Thermoreflectance/Joanne/CHESS/0130_2023/68mm_per_sec/-16mm_37W_002.raw\n",
      "/Users/chiaentsai/Box/MURI-SARA/Thermoreflectance/Joanne/CHESS/0130_2023/68mm_per_sec/-16mm_37W_003.raw\n",
      "/Users/chiaentsai/Box/MURI-SARA/Thermoreflectance/Joanne/CHESS/0130_2023/68mm_per_sec/-16mm_37W_004.raw\n",
      "/Users/chiaentsai/Box/MURI-SARA/Thermoreflectance/Joanne/CHESS/0130_2023/68mm_per_sec/-16mm_37W_005.raw\n",
      "/Users/chiaentsai/Box/MURI-SARA/Thermoreflectance/Joanne/CHESS/0130_2023/68mm_per_sec/-16mm_37W_006.raw\n",
      "/Users/chiaentsai/Box/MURI-SARA/Thermoreflectance/Joanne/CHESS/0130_2023/68mm_per_sec/-16mm_37W_007.raw\n",
      "/Users/chiaentsai/Box/MURI-SARA/Thermoreflectance/Joanne/CHESS/0130_2023/68mm_per_sec/-16mm_37W_008.raw\n",
      "/Users/chiaentsai/Box/MURI-SARA/Thermoreflectance/Joanne/CHESS/0130_2023/68mm_per_sec/-16mm_37W_009.raw\n",
      "/Users/chiaentsai/Box/MURI-SARA/Thermoreflectance/Joanne/CHESS/0130_2023/68mm_per_sec/-16mm_37W_010.raw\n",
      "/Users/chiaentsai/Box/MURI-SARA/Thermoreflectance/Joanne/CHESS/0130_2023/68mm_per_sec/-16mm_37W_011.raw\n",
      "/Users/chiaentsai/Box/MURI-SARA/Thermoreflectance/Joanne/CHESS/0130_2023/68mm_per_sec/-16mm_37W_012.raw\n",
      "/Users/chiaentsai/Box/MURI-SARA/Thermoreflectance/Joanne/CHESS/0130_2023/68mm_per_sec/-16mm_37W_013.raw\n",
      "/Users/chiaentsai/Box/MURI-SARA/Thermoreflectance/Joanne/CHESS/0130_2023/68mm_per_sec/-16mm_37W_014.raw\n",
      "/Users/chiaentsai/Box/MURI-SARA/Thermoreflectance/Joanne/CHESS/0130_2023/68mm_per_sec/-16mm_37W_015.raw\n"
     ]
    },
    {
     "name": "stderr",
     "output_type": "stream",
     "text": [
      " 89%|████████████████████████████████████▎    | 346/390 [00:14<00:02, 17.66it/s]"
     ]
    },
    {
     "name": "stdout",
     "output_type": "stream",
     "text": [
      "/Users/chiaentsai/Box/MURI-SARA/Thermoreflectance/Joanne/CHESS/0130_2023/68mm_per_sec/-16mm_37W_016.raw\n"
     ]
    },
    {
     "name": "stderr",
     "output_type": "stream",
     "text": [
      "\r",
      " 89%|████████████████████████████████████▍    | 347/390 [00:15<00:02, 15.70it/s]"
     ]
    },
    {
     "name": "stdout",
     "output_type": "stream",
     "text": [
      "/Users/chiaentsai/Box/MURI-SARA/Thermoreflectance/Joanne/CHESS/0130_2023/68mm_per_sec/-16mm_37W_017.raw\n",
      "/Users/chiaentsai/Box/MURI-SARA/Thermoreflectance/Joanne/CHESS/0130_2023/68mm_per_sec/-16mm_37W_018.raw\n",
      "/Users/chiaentsai/Box/MURI-SARA/Thermoreflectance/Joanne/CHESS/0130_2023/68mm_per_sec/-16mm_37W_019.raw\n",
      "/Users/chiaentsai/Box/MURI-SARA/Thermoreflectance/Joanne/CHESS/0130_2023/68mm_per_sec/-16mm_37W_020.raw\n",
      "/Users/chiaentsai/Box/MURI-SARA/Thermoreflectance/Joanne/CHESS/0130_2023/68mm_per_sec/-16mm_37W_021.raw\n",
      "/Users/chiaentsai/Box/MURI-SARA/Thermoreflectance/Joanne/CHESS/0130_2023/68mm_per_sec/-16mm_37W_022.raw\n",
      "/Users/chiaentsai/Box/MURI-SARA/Thermoreflectance/Joanne/CHESS/0130_2023/68mm_per_sec/-16mm_37W_023.raw\n",
      "/Users/chiaentsai/Box/MURI-SARA/Thermoreflectance/Joanne/CHESS/0130_2023/68mm_per_sec/-16mm_37W_024.raw\n",
      "/Users/chiaentsai/Box/MURI-SARA/Thermoreflectance/Joanne/CHESS/0130_2023/68mm_per_sec/-16mm_37W_025.raw\n",
      "/Users/chiaentsai/Box/MURI-SARA/Thermoreflectance/Joanne/CHESS/0130_2023/68mm_per_sec/-16mm_37W_026.raw\n",
      "/Users/chiaentsai/Box/MURI-SARA/Thermoreflectance/Joanne/CHESS/0130_2023/68mm_per_sec/-16mm_37W_027.raw\n",
      "/Users/chiaentsai/Box/MURI-SARA/Thermoreflectance/Joanne/CHESS/0130_2023/68mm_per_sec/-16mm_37W_028.raw\n"
     ]
    },
    {
     "name": "stderr",
     "output_type": "stream",
     "text": [
      "\r",
      " 92%|█████████████████████████████████████▋   | 359/390 [00:34<00:06,  5.11it/s]"
     ]
    },
    {
     "name": "stdout",
     "output_type": "stream",
     "text": [
      "/Users/chiaentsai/Box/MURI-SARA/Thermoreflectance/Joanne/CHESS/0130_2023/68mm_per_sec/-16mm_37W_029.raw\n"
     ]
    },
    {
     "name": "stderr",
     "output_type": "stream",
     "text": [
      "100%|█████████████████████████████████████████| 390/390 [00:35<00:00, 11.00it/s]\n",
      "  0%|                                                   | 0/390 [00:00<?, ?it/s]"
     ]
    },
    {
     "name": "stdout",
     "output_type": "stream",
     "text": [
      "/Users/chiaentsai/Box/MURI-SARA/Thermoreflectance/Joanne/CHESS/0130_2023/68mm_per_sec/-16mm_39W_000.raw\n"
     ]
    },
    {
     "name": "stderr",
     "output_type": "stream",
     "text": [
      "\r",
      " 93%|█████████████████████████████████████   | 361/390 [00:01<00:00, 220.08it/s]"
     ]
    },
    {
     "name": "stdout",
     "output_type": "stream",
     "text": [
      "/Users/chiaentsai/Box/MURI-SARA/Thermoreflectance/Joanne/CHESS/0130_2023/68mm_per_sec/-16mm_39W_001.raw\n",
      "/Users/chiaentsai/Box/MURI-SARA/Thermoreflectance/Joanne/CHESS/0130_2023/68mm_per_sec/-16mm_39W_002.raw\n",
      "/Users/chiaentsai/Box/MURI-SARA/Thermoreflectance/Joanne/CHESS/0130_2023/68mm_per_sec/-16mm_39W_003.raw\n",
      "/Users/chiaentsai/Box/MURI-SARA/Thermoreflectance/Joanne/CHESS/0130_2023/68mm_per_sec/-16mm_39W_004.raw\n",
      "/Users/chiaentsai/Box/MURI-SARA/Thermoreflectance/Joanne/CHESS/0130_2023/68mm_per_sec/-16mm_39W_005.raw\n",
      "/Users/chiaentsai/Box/MURI-SARA/Thermoreflectance/Joanne/CHESS/0130_2023/68mm_per_sec/-16mm_39W_006.raw\n",
      "/Users/chiaentsai/Box/MURI-SARA/Thermoreflectance/Joanne/CHESS/0130_2023/68mm_per_sec/-16mm_39W_007.raw\n",
      "/Users/chiaentsai/Box/MURI-SARA/Thermoreflectance/Joanne/CHESS/0130_2023/68mm_per_sec/-16mm_39W_008.raw\n",
      "/Users/chiaentsai/Box/MURI-SARA/Thermoreflectance/Joanne/CHESS/0130_2023/68mm_per_sec/-16mm_39W_009.raw\n",
      "/Users/chiaentsai/Box/MURI-SARA/Thermoreflectance/Joanne/CHESS/0130_2023/68mm_per_sec/-16mm_39W_010.raw\n",
      "/Users/chiaentsai/Box/MURI-SARA/Thermoreflectance/Joanne/CHESS/0130_2023/68mm_per_sec/-16mm_39W_011.raw\n",
      "/Users/chiaentsai/Box/MURI-SARA/Thermoreflectance/Joanne/CHESS/0130_2023/68mm_per_sec/-16mm_39W_012.raw\n",
      "/Users/chiaentsai/Box/MURI-SARA/Thermoreflectance/Joanne/CHESS/0130_2023/68mm_per_sec/-16mm_39W_013.raw\n",
      "/Users/chiaentsai/Box/MURI-SARA/Thermoreflectance/Joanne/CHESS/0130_2023/68mm_per_sec/-16mm_39W_014.raw\n",
      "/Users/chiaentsai/Box/MURI-SARA/Thermoreflectance/Joanne/CHESS/0130_2023/68mm_per_sec/-16mm_39W_015.raw\n",
      "/Users/chiaentsai/Box/MURI-SARA/Thermoreflectance/Joanne/CHESS/0130_2023/68mm_per_sec/-16mm_39W_016.raw\n",
      "/Users/chiaentsai/Box/MURI-SARA/Thermoreflectance/Joanne/CHESS/0130_2023/68mm_per_sec/-16mm_39W_017.raw\n",
      "/Users/chiaentsai/Box/MURI-SARA/Thermoreflectance/Joanne/CHESS/0130_2023/68mm_per_sec/-16mm_39W_018.raw\n"
     ]
    },
    {
     "name": "stderr",
     "output_type": "stream",
     "text": [
      " 97%|███████████████████████████████████████▊ | 379/390 [00:20<00:00, 13.25it/s]"
     ]
    },
    {
     "name": "stdout",
     "output_type": "stream",
     "text": [
      "/Users/chiaentsai/Box/MURI-SARA/Thermoreflectance/Joanne/CHESS/0130_2023/68mm_per_sec/-16mm_39W_019.raw\n"
     ]
    },
    {
     "name": "stderr",
     "output_type": "stream",
     "text": [
      "\r",
      " 97%|███████████████████████████████████████▉ | 380/390 [00:21<00:00, 12.42it/s]"
     ]
    },
    {
     "name": "stdout",
     "output_type": "stream",
     "text": [
      "/Users/chiaentsai/Box/MURI-SARA/Thermoreflectance/Joanne/CHESS/0130_2023/68mm_per_sec/-16mm_39W_020.raw\n",
      "/Users/chiaentsai/Box/MURI-SARA/Thermoreflectance/Joanne/CHESS/0130_2023/68mm_per_sec/-16mm_39W_021.raw\n",
      "/Users/chiaentsai/Box/MURI-SARA/Thermoreflectance/Joanne/CHESS/0130_2023/68mm_per_sec/-16mm_39W_022.raw\n",
      "/Users/chiaentsai/Box/MURI-SARA/Thermoreflectance/Joanne/CHESS/0130_2023/68mm_per_sec/-16mm_39W_023.raw\n",
      "/Users/chiaentsai/Box/MURI-SARA/Thermoreflectance/Joanne/CHESS/0130_2023/68mm_per_sec/-16mm_39W_024.raw\n",
      "/Users/chiaentsai/Box/MURI-SARA/Thermoreflectance/Joanne/CHESS/0130_2023/68mm_per_sec/-16mm_39W_025.raw\n",
      "/Users/chiaentsai/Box/MURI-SARA/Thermoreflectance/Joanne/CHESS/0130_2023/68mm_per_sec/-16mm_39W_026.raw\n",
      "/Users/chiaentsai/Box/MURI-SARA/Thermoreflectance/Joanne/CHESS/0130_2023/68mm_per_sec/-16mm_39W_027.raw\n",
      "/Users/chiaentsai/Box/MURI-SARA/Thermoreflectance/Joanne/CHESS/0130_2023/68mm_per_sec/-16mm_39W_028.raw\n",
      "/Users/chiaentsai/Box/MURI-SARA/Thermoreflectance/Joanne/CHESS/0130_2023/68mm_per_sec/-16mm_39W_029.raw\n"
     ]
    },
    {
     "name": "stderr",
     "output_type": "stream",
     "text": [
      "100%|█████████████████████████████████████████| 390/390 [00:37<00:00, 10.43it/s]\n",
      "  0%|                                                   | 0/650 [00:00<?, ?it/s]"
     ]
    },
    {
     "name": "stdout",
     "output_type": "stream",
     "text": [
      "/Users/chiaentsai/Box/MURI-SARA/Thermoreflectance/Joanne/CHESS/0130_2023/9mm_per_sec/-6mm_21W_000.raw\n"
     ]
    },
    {
     "name": "stderr",
     "output_type": "stream",
     "text": [
      "\r",
      " 39%|███████████████▍                        | 251/650 [00:00<00:00, 873.30it/s]"
     ]
    },
    {
     "name": "stdout",
     "output_type": "stream",
     "text": [
      "/Users/chiaentsai/Box/MURI-SARA/Thermoreflectance/Joanne/CHESS/0130_2023/9mm_per_sec/-6mm_21W_001.raw\n",
      "/Users/chiaentsai/Box/MURI-SARA/Thermoreflectance/Joanne/CHESS/0130_2023/9mm_per_sec/-6mm_21W_002.raw\n",
      "/Users/chiaentsai/Box/MURI-SARA/Thermoreflectance/Joanne/CHESS/0130_2023/9mm_per_sec/-6mm_21W_003.raw\n",
      "/Users/chiaentsai/Box/MURI-SARA/Thermoreflectance/Joanne/CHESS/0130_2023/9mm_per_sec/-6mm_21W_004.raw\n",
      "/Users/chiaentsai/Box/MURI-SARA/Thermoreflectance/Joanne/CHESS/0130_2023/9mm_per_sec/-6mm_21W_005.raw\n",
      "/Users/chiaentsai/Box/MURI-SARA/Thermoreflectance/Joanne/CHESS/0130_2023/9mm_per_sec/-6mm_21W_006.raw\n",
      "/Users/chiaentsai/Box/MURI-SARA/Thermoreflectance/Joanne/CHESS/0130_2023/9mm_per_sec/-6mm_21W_007.raw\n",
      "/Users/chiaentsai/Box/MURI-SARA/Thermoreflectance/Joanne/CHESS/0130_2023/9mm_per_sec/-6mm_21W_008.raw\n",
      "/Users/chiaentsai/Box/MURI-SARA/Thermoreflectance/Joanne/CHESS/0130_2023/9mm_per_sec/-6mm_21W_009.raw\n",
      "/Users/chiaentsai/Box/MURI-SARA/Thermoreflectance/Joanne/CHESS/0130_2023/9mm_per_sec/-6mm_21W_010.raw\n",
      "/Users/chiaentsai/Box/MURI-SARA/Thermoreflectance/Joanne/CHESS/0130_2023/9mm_per_sec/-6mm_21W_011.raw\n",
      "/Users/chiaentsai/Box/MURI-SARA/Thermoreflectance/Joanne/CHESS/0130_2023/9mm_per_sec/-6mm_21W_012.raw\n",
      "/Users/chiaentsai/Box/MURI-SARA/Thermoreflectance/Joanne/CHESS/0130_2023/9mm_per_sec/-6mm_21W_013.raw\n",
      "/Users/chiaentsai/Box/MURI-SARA/Thermoreflectance/Joanne/CHESS/0130_2023/9mm_per_sec/-6mm_21W_014.raw\n",
      "/Users/chiaentsai/Box/MURI-SARA/Thermoreflectance/Joanne/CHESS/0130_2023/9mm_per_sec/-6mm_21W_015.raw\n",
      "/Users/chiaentsai/Box/MURI-SARA/Thermoreflectance/Joanne/CHESS/0130_2023/9mm_per_sec/-6mm_21W_016.raw\n",
      "/Users/chiaentsai/Box/MURI-SARA/Thermoreflectance/Joanne/CHESS/0130_2023/9mm_per_sec/-6mm_21W_017.raw\n",
      "/Users/chiaentsai/Box/MURI-SARA/Thermoreflectance/Joanne/CHESS/0130_2023/9mm_per_sec/-6mm_21W_018.raw\n",
      "/Users/chiaentsai/Box/MURI-SARA/Thermoreflectance/Joanne/CHESS/0130_2023/9mm_per_sec/-6mm_21W_019.raw\n",
      "/Users/chiaentsai/Box/MURI-SARA/Thermoreflectance/Joanne/CHESS/0130_2023/9mm_per_sec/-6mm_21W_020.raw\n",
      "/Users/chiaentsai/Box/MURI-SARA/Thermoreflectance/Joanne/CHESS/0130_2023/9mm_per_sec/-6mm_21W_021.raw\n",
      "/Users/chiaentsai/Box/MURI-SARA/Thermoreflectance/Joanne/CHESS/0130_2023/9mm_per_sec/-6mm_21W_022.raw\n",
      "/Users/chiaentsai/Box/MURI-SARA/Thermoreflectance/Joanne/CHESS/0130_2023/9mm_per_sec/-6mm_21W_023.raw\n",
      "/Users/chiaentsai/Box/MURI-SARA/Thermoreflectance/Joanne/CHESS/0130_2023/9mm_per_sec/-6mm_21W_024.raw\n",
      "/Users/chiaentsai/Box/MURI-SARA/Thermoreflectance/Joanne/CHESS/0130_2023/9mm_per_sec/-6mm_21W_025.raw\n",
      "/Users/chiaentsai/Box/MURI-SARA/Thermoreflectance/Joanne/CHESS/0130_2023/9mm_per_sec/-6mm_21W_026.raw\n",
      "/Users/chiaentsai/Box/MURI-SARA/Thermoreflectance/Joanne/CHESS/0130_2023/9mm_per_sec/-6mm_21W_027.raw\n",
      "/Users/chiaentsai/Box/MURI-SARA/Thermoreflectance/Joanne/CHESS/0130_2023/9mm_per_sec/-6mm_21W_028.raw\n",
      "/Users/chiaentsai/Box/MURI-SARA/Thermoreflectance/Joanne/CHESS/0130_2023/9mm_per_sec/-6mm_21W_029.raw\n",
      "/Users/chiaentsai/Box/MURI-SARA/Thermoreflectance/Joanne/CHESS/0130_2023/9mm_per_sec/-6mm_21W_030.raw\n",
      "/Users/chiaentsai/Box/MURI-SARA/Thermoreflectance/Joanne/CHESS/0130_2023/9mm_per_sec/-6mm_21W_031.raw\n",
      "/Users/chiaentsai/Box/MURI-SARA/Thermoreflectance/Joanne/CHESS/0130_2023/9mm_per_sec/-6mm_21W_032.raw\n",
      "/Users/chiaentsai/Box/MURI-SARA/Thermoreflectance/Joanne/CHESS/0130_2023/9mm_per_sec/-6mm_21W_033.raw\n",
      "/Users/chiaentsai/Box/MURI-SARA/Thermoreflectance/Joanne/CHESS/0130_2023/9mm_per_sec/-6mm_21W_034.raw\n",
      "/Users/chiaentsai/Box/MURI-SARA/Thermoreflectance/Joanne/CHESS/0130_2023/9mm_per_sec/-6mm_21W_035.raw\n",
      "/Users/chiaentsai/Box/MURI-SARA/Thermoreflectance/Joanne/CHESS/0130_2023/9mm_per_sec/-6mm_21W_036.raw\n",
      "/Users/chiaentsai/Box/MURI-SARA/Thermoreflectance/Joanne/CHESS/0130_2023/9mm_per_sec/-6mm_21W_037.raw\n",
      "/Users/chiaentsai/Box/MURI-SARA/Thermoreflectance/Joanne/CHESS/0130_2023/9mm_per_sec/-6mm_21W_038.raw\n",
      "/Users/chiaentsai/Box/MURI-SARA/Thermoreflectance/Joanne/CHESS/0130_2023/9mm_per_sec/-6mm_21W_039.raw\n",
      "/Users/chiaentsai/Box/MURI-SARA/Thermoreflectance/Joanne/CHESS/0130_2023/9mm_per_sec/-6mm_21W_040.raw\n",
      "/Users/chiaentsai/Box/MURI-SARA/Thermoreflectance/Joanne/CHESS/0130_2023/9mm_per_sec/-6mm_21W_041.raw\n",
      "/Users/chiaentsai/Box/MURI-SARA/Thermoreflectance/Joanne/CHESS/0130_2023/9mm_per_sec/-6mm_21W_042.raw\n",
      "/Users/chiaentsai/Box/MURI-SARA/Thermoreflectance/Joanne/CHESS/0130_2023/9mm_per_sec/-6mm_21W_043.raw\n",
      "/Users/chiaentsai/Box/MURI-SARA/Thermoreflectance/Joanne/CHESS/0130_2023/9mm_per_sec/-6mm_21W_044.raw\n",
      "/Users/chiaentsai/Box/MURI-SARA/Thermoreflectance/Joanne/CHESS/0130_2023/9mm_per_sec/-6mm_21W_045.raw\n",
      "/Users/chiaentsai/Box/MURI-SARA/Thermoreflectance/Joanne/CHESS/0130_2023/9mm_per_sec/-6mm_21W_046.raw\n",
      "/Users/chiaentsai/Box/MURI-SARA/Thermoreflectance/Joanne/CHESS/0130_2023/9mm_per_sec/-6mm_21W_047.raw\n"
     ]
    },
    {
     "name": "stderr",
     "output_type": "stream",
     "text": [
      "100%|████████████████████████████████████████| 650/650 [00:05<00:00, 113.71it/s]\n"
     ]
    },
    {
     "name": "stdout",
     "output_type": "stream",
     "text": [
      "/Users/chiaentsai/Box/MURI-SARA/Thermoreflectance/Joanne/CHESS/0130_2023/9mm_per_sec/-6mm_21W_048.raw\n",
      "/Users/chiaentsai/Box/MURI-SARA/Thermoreflectance/Joanne/CHESS/0130_2023/9mm_per_sec/-6mm_21W_049.raw\n"
     ]
    },
    {
     "name": "stderr",
     "output_type": "stream",
     "text": [
      "\r",
      "  0%|                                                   | 0/650 [00:00<?, ?it/s]"
     ]
    },
    {
     "name": "stdout",
     "output_type": "stream",
     "text": [
      "/Users/chiaentsai/Box/MURI-SARA/Thermoreflectance/Joanne/CHESS/0130_2023/9mm_per_sec/-6mm_23W_000.raw\n"
     ]
    },
    {
     "name": "stderr",
     "output_type": "stream",
     "text": [
      "\r",
      " 46%|██████████████████▌                     | 301/650 [00:00<00:00, 357.82it/s]"
     ]
    },
    {
     "name": "stdout",
     "output_type": "stream",
     "text": [
      "/Users/chiaentsai/Box/MURI-SARA/Thermoreflectance/Joanne/CHESS/0130_2023/9mm_per_sec/-6mm_23W_001.raw\n",
      "/Users/chiaentsai/Box/MURI-SARA/Thermoreflectance/Joanne/CHESS/0130_2023/9mm_per_sec/-6mm_23W_002.raw\n",
      "/Users/chiaentsai/Box/MURI-SARA/Thermoreflectance/Joanne/CHESS/0130_2023/9mm_per_sec/-6mm_23W_003.raw\n",
      "/Users/chiaentsai/Box/MURI-SARA/Thermoreflectance/Joanne/CHESS/0130_2023/9mm_per_sec/-6mm_23W_004.raw\n",
      "/Users/chiaentsai/Box/MURI-SARA/Thermoreflectance/Joanne/CHESS/0130_2023/9mm_per_sec/-6mm_23W_005.raw\n",
      "/Users/chiaentsai/Box/MURI-SARA/Thermoreflectance/Joanne/CHESS/0130_2023/9mm_per_sec/-6mm_23W_006.raw\n",
      "/Users/chiaentsai/Box/MURI-SARA/Thermoreflectance/Joanne/CHESS/0130_2023/9mm_per_sec/-6mm_23W_007.raw\n",
      "/Users/chiaentsai/Box/MURI-SARA/Thermoreflectance/Joanne/CHESS/0130_2023/9mm_per_sec/-6mm_23W_008.raw\n",
      "/Users/chiaentsai/Box/MURI-SARA/Thermoreflectance/Joanne/CHESS/0130_2023/9mm_per_sec/-6mm_23W_009.raw\n",
      "/Users/chiaentsai/Box/MURI-SARA/Thermoreflectance/Joanne/CHESS/0130_2023/9mm_per_sec/-6mm_23W_010.raw\n",
      "/Users/chiaentsai/Box/MURI-SARA/Thermoreflectance/Joanne/CHESS/0130_2023/9mm_per_sec/-6mm_23W_011.raw\n",
      "/Users/chiaentsai/Box/MURI-SARA/Thermoreflectance/Joanne/CHESS/0130_2023/9mm_per_sec/-6mm_23W_012.raw\n",
      "/Users/chiaentsai/Box/MURI-SARA/Thermoreflectance/Joanne/CHESS/0130_2023/9mm_per_sec/-6mm_23W_013.raw\n",
      "/Users/chiaentsai/Box/MURI-SARA/Thermoreflectance/Joanne/CHESS/0130_2023/9mm_per_sec/-6mm_23W_014.raw\n",
      "/Users/chiaentsai/Box/MURI-SARA/Thermoreflectance/Joanne/CHESS/0130_2023/9mm_per_sec/-6mm_23W_015.raw\n",
      "/Users/chiaentsai/Box/MURI-SARA/Thermoreflectance/Joanne/CHESS/0130_2023/9mm_per_sec/-6mm_23W_016.raw\n",
      "/Users/chiaentsai/Box/MURI-SARA/Thermoreflectance/Joanne/CHESS/0130_2023/9mm_per_sec/-6mm_23W_017.raw\n",
      "/Users/chiaentsai/Box/MURI-SARA/Thermoreflectance/Joanne/CHESS/0130_2023/9mm_per_sec/-6mm_23W_018.raw\n",
      "/Users/chiaentsai/Box/MURI-SARA/Thermoreflectance/Joanne/CHESS/0130_2023/9mm_per_sec/-6mm_23W_019.raw\n",
      "/Users/chiaentsai/Box/MURI-SARA/Thermoreflectance/Joanne/CHESS/0130_2023/9mm_per_sec/-6mm_23W_020.raw\n",
      "/Users/chiaentsai/Box/MURI-SARA/Thermoreflectance/Joanne/CHESS/0130_2023/9mm_per_sec/-6mm_23W_021.raw\n",
      "/Users/chiaentsai/Box/MURI-SARA/Thermoreflectance/Joanne/CHESS/0130_2023/9mm_per_sec/-6mm_23W_022.raw\n",
      "/Users/chiaentsai/Box/MURI-SARA/Thermoreflectance/Joanne/CHESS/0130_2023/9mm_per_sec/-6mm_23W_023.raw\n",
      "/Users/chiaentsai/Box/MURI-SARA/Thermoreflectance/Joanne/CHESS/0130_2023/9mm_per_sec/-6mm_23W_024.raw\n",
      "/Users/chiaentsai/Box/MURI-SARA/Thermoreflectance/Joanne/CHESS/0130_2023/9mm_per_sec/-6mm_23W_025.raw\n",
      "/Users/chiaentsai/Box/MURI-SARA/Thermoreflectance/Joanne/CHESS/0130_2023/9mm_per_sec/-6mm_23W_026.raw\n",
      "/Users/chiaentsai/Box/MURI-SARA/Thermoreflectance/Joanne/CHESS/0130_2023/9mm_per_sec/-6mm_23W_027.raw\n",
      "/Users/chiaentsai/Box/MURI-SARA/Thermoreflectance/Joanne/CHESS/0130_2023/9mm_per_sec/-6mm_23W_028.raw\n",
      "/Users/chiaentsai/Box/MURI-SARA/Thermoreflectance/Joanne/CHESS/0130_2023/9mm_per_sec/-6mm_23W_029.raw\n",
      "/Users/chiaentsai/Box/MURI-SARA/Thermoreflectance/Joanne/CHESS/0130_2023/9mm_per_sec/-6mm_23W_030.raw\n",
      "/Users/chiaentsai/Box/MURI-SARA/Thermoreflectance/Joanne/CHESS/0130_2023/9mm_per_sec/-6mm_23W_031.raw\n",
      "/Users/chiaentsai/Box/MURI-SARA/Thermoreflectance/Joanne/CHESS/0130_2023/9mm_per_sec/-6mm_23W_032.raw\n",
      "/Users/chiaentsai/Box/MURI-SARA/Thermoreflectance/Joanne/CHESS/0130_2023/9mm_per_sec/-6mm_23W_033.raw\n",
      "/Users/chiaentsai/Box/MURI-SARA/Thermoreflectance/Joanne/CHESS/0130_2023/9mm_per_sec/-6mm_23W_034.raw\n"
     ]
    },
    {
     "name": "stderr",
     "output_type": "stream",
     "text": [
      "\r",
      " 52%|█████████████████████▎                   | 337/650 [00:04<00:05, 54.49it/s]"
     ]
    },
    {
     "name": "stdout",
     "output_type": "stream",
     "text": [
      "/Users/chiaentsai/Box/MURI-SARA/Thermoreflectance/Joanne/CHESS/0130_2023/9mm_per_sec/-6mm_23W_035.raw\n",
      "/Users/chiaentsai/Box/MURI-SARA/Thermoreflectance/Joanne/CHESS/0130_2023/9mm_per_sec/-6mm_23W_036.raw\n",
      "/Users/chiaentsai/Box/MURI-SARA/Thermoreflectance/Joanne/CHESS/0130_2023/9mm_per_sec/-6mm_23W_037.raw\n",
      "/Users/chiaentsai/Box/MURI-SARA/Thermoreflectance/Joanne/CHESS/0130_2023/9mm_per_sec/-6mm_23W_038.raw\n",
      "/Users/chiaentsai/Box/MURI-SARA/Thermoreflectance/Joanne/CHESS/0130_2023/9mm_per_sec/-6mm_23W_039.raw\n",
      "/Users/chiaentsai/Box/MURI-SARA/Thermoreflectance/Joanne/CHESS/0130_2023/9mm_per_sec/-6mm_23W_040.raw\n",
      "/Users/chiaentsai/Box/MURI-SARA/Thermoreflectance/Joanne/CHESS/0130_2023/9mm_per_sec/-6mm_23W_041.raw\n",
      "/Users/chiaentsai/Box/MURI-SARA/Thermoreflectance/Joanne/CHESS/0130_2023/9mm_per_sec/-6mm_23W_042.raw\n",
      "/Users/chiaentsai/Box/MURI-SARA/Thermoreflectance/Joanne/CHESS/0130_2023/9mm_per_sec/-6mm_23W_043.raw\n",
      "/Users/chiaentsai/Box/MURI-SARA/Thermoreflectance/Joanne/CHESS/0130_2023/9mm_per_sec/-6mm_23W_044.raw\n",
      "/Users/chiaentsai/Box/MURI-SARA/Thermoreflectance/Joanne/CHESS/0130_2023/9mm_per_sec/-6mm_23W_045.raw\n",
      "/Users/chiaentsai/Box/MURI-SARA/Thermoreflectance/Joanne/CHESS/0130_2023/9mm_per_sec/-6mm_23W_046.raw\n",
      "/Users/chiaentsai/Box/MURI-SARA/Thermoreflectance/Joanne/CHESS/0130_2023/9mm_per_sec/-6mm_23W_047.raw\n",
      "/Users/chiaentsai/Box/MURI-SARA/Thermoreflectance/Joanne/CHESS/0130_2023/9mm_per_sec/-6mm_23W_048.raw\n",
      "/Users/chiaentsai/Box/MURI-SARA/Thermoreflectance/Joanne/CHESS/0130_2023/9mm_per_sec/-6mm_23W_049.raw\n"
     ]
    },
    {
     "name": "stderr",
     "output_type": "stream",
     "text": [
      "100%|█████████████████████████████████████████| 650/650 [00:10<00:00, 63.76it/s]\n",
      "  0%|                                                   | 0/650 [00:00<?, ?it/s]"
     ]
    },
    {
     "name": "stdout",
     "output_type": "stream",
     "text": [
      "/Users/chiaentsai/Box/MURI-SARA/Thermoreflectance/Joanne/CHESS/0130_2023/9mm_per_sec/-6mm_25W_000.raw\n"
     ]
    },
    {
     "name": "stderr",
     "output_type": "stream",
     "text": [
      "\r",
      " 54%|█████████████████████▌                  | 351/650 [00:01<00:01, 207.28it/s]"
     ]
    },
    {
     "name": "stdout",
     "output_type": "stream",
     "text": [
      "/Users/chiaentsai/Box/MURI-SARA/Thermoreflectance/Joanne/CHESS/0130_2023/9mm_per_sec/-6mm_25W_001.raw\n",
      "/Users/chiaentsai/Box/MURI-SARA/Thermoreflectance/Joanne/CHESS/0130_2023/9mm_per_sec/-6mm_25W_002.raw\n",
      "/Users/chiaentsai/Box/MURI-SARA/Thermoreflectance/Joanne/CHESS/0130_2023/9mm_per_sec/-6mm_25W_003.raw\n",
      "/Users/chiaentsai/Box/MURI-SARA/Thermoreflectance/Joanne/CHESS/0130_2023/9mm_per_sec/-6mm_25W_004.raw\n",
      "/Users/chiaentsai/Box/MURI-SARA/Thermoreflectance/Joanne/CHESS/0130_2023/9mm_per_sec/-6mm_25W_005.raw\n",
      "/Users/chiaentsai/Box/MURI-SARA/Thermoreflectance/Joanne/CHESS/0130_2023/9mm_per_sec/-6mm_25W_006.raw\n",
      "/Users/chiaentsai/Box/MURI-SARA/Thermoreflectance/Joanne/CHESS/0130_2023/9mm_per_sec/-6mm_25W_007.raw\n",
      "/Users/chiaentsai/Box/MURI-SARA/Thermoreflectance/Joanne/CHESS/0130_2023/9mm_per_sec/-6mm_25W_008.raw\n",
      "/Users/chiaentsai/Box/MURI-SARA/Thermoreflectance/Joanne/CHESS/0130_2023/9mm_per_sec/-6mm_25W_009.raw\n",
      "/Users/chiaentsai/Box/MURI-SARA/Thermoreflectance/Joanne/CHESS/0130_2023/9mm_per_sec/-6mm_25W_010.raw\n",
      "/Users/chiaentsai/Box/MURI-SARA/Thermoreflectance/Joanne/CHESS/0130_2023/9mm_per_sec/-6mm_25W_011.raw\n",
      "/Users/chiaentsai/Box/MURI-SARA/Thermoreflectance/Joanne/CHESS/0130_2023/9mm_per_sec/-6mm_25W_012.raw\n",
      "/Users/chiaentsai/Box/MURI-SARA/Thermoreflectance/Joanne/CHESS/0130_2023/9mm_per_sec/-6mm_25W_013.raw\n",
      "/Users/chiaentsai/Box/MURI-SARA/Thermoreflectance/Joanne/CHESS/0130_2023/9mm_per_sec/-6mm_25W_014.raw\n",
      "/Users/chiaentsai/Box/MURI-SARA/Thermoreflectance/Joanne/CHESS/0130_2023/9mm_per_sec/-6mm_25W_015.raw\n"
     ]
    },
    {
     "name": "stderr",
     "output_type": "stream",
     "text": [
      " 56%|███████████████████████                  | 366/650 [00:20<00:22, 12.90it/s]"
     ]
    },
    {
     "name": "stdout",
     "output_type": "stream",
     "text": [
      "/Users/chiaentsai/Box/MURI-SARA/Thermoreflectance/Joanne/CHESS/0130_2023/9mm_per_sec/-6mm_25W_016.raw\n"
     ]
    },
    {
     "name": "stderr",
     "output_type": "stream",
     "text": [
      "\r",
      " 56%|███████████████████████▏                 | 367/650 [00:21<00:23, 12.04it/s]"
     ]
    },
    {
     "name": "stdout",
     "output_type": "stream",
     "text": [
      "/Users/chiaentsai/Box/MURI-SARA/Thermoreflectance/Joanne/CHESS/0130_2023/9mm_per_sec/-6mm_25W_017.raw\n",
      "/Users/chiaentsai/Box/MURI-SARA/Thermoreflectance/Joanne/CHESS/0130_2023/9mm_per_sec/-6mm_25W_018.raw\n",
      "/Users/chiaentsai/Box/MURI-SARA/Thermoreflectance/Joanne/CHESS/0130_2023/9mm_per_sec/-6mm_25W_019.raw\n",
      "/Users/chiaentsai/Box/MURI-SARA/Thermoreflectance/Joanne/CHESS/0130_2023/9mm_per_sec/-6mm_25W_020.raw\n",
      "/Users/chiaentsai/Box/MURI-SARA/Thermoreflectance/Joanne/CHESS/0130_2023/9mm_per_sec/-6mm_25W_021.raw\n",
      "/Users/chiaentsai/Box/MURI-SARA/Thermoreflectance/Joanne/CHESS/0130_2023/9mm_per_sec/-6mm_25W_022.raw\n",
      "/Users/chiaentsai/Box/MURI-SARA/Thermoreflectance/Joanne/CHESS/0130_2023/9mm_per_sec/-6mm_25W_023.raw\n",
      "/Users/chiaentsai/Box/MURI-SARA/Thermoreflectance/Joanne/CHESS/0130_2023/9mm_per_sec/-6mm_25W_024.raw\n",
      "/Users/chiaentsai/Box/MURI-SARA/Thermoreflectance/Joanne/CHESS/0130_2023/9mm_per_sec/-6mm_25W_025.raw\n"
     ]
    },
    {
     "name": "stderr",
     "output_type": "stream",
     "text": [
      "\r",
      " 58%|███████████████████████▋                 | 376/650 [00:32<00:43,  6.33it/s]"
     ]
    },
    {
     "name": "stdout",
     "output_type": "stream",
     "text": [
      "/Users/chiaentsai/Box/MURI-SARA/Thermoreflectance/Joanne/CHESS/0130_2023/9mm_per_sec/-6mm_25W_026.raw\n"
     ]
    },
    {
     "name": "stderr",
     "output_type": "stream",
     "text": [
      "\r",
      " 58%|███████████████████████▊                 | 377/650 [00:34<00:46,  5.90it/s]"
     ]
    },
    {
     "name": "stdout",
     "output_type": "stream",
     "text": [
      "/Users/chiaentsai/Box/MURI-SARA/Thermoreflectance/Joanne/CHESS/0130_2023/9mm_per_sec/-6mm_25W_027.raw\n",
      "/Users/chiaentsai/Box/MURI-SARA/Thermoreflectance/Joanne/CHESS/0130_2023/9mm_per_sec/-6mm_25W_028.raw\n",
      "/Users/chiaentsai/Box/MURI-SARA/Thermoreflectance/Joanne/CHESS/0130_2023/9mm_per_sec/-6mm_25W_029.raw\n",
      "/Users/chiaentsai/Box/MURI-SARA/Thermoreflectance/Joanne/CHESS/0130_2023/9mm_per_sec/-6mm_25W_030.raw\n",
      "/Users/chiaentsai/Box/MURI-SARA/Thermoreflectance/Joanne/CHESS/0130_2023/9mm_per_sec/-6mm_25W_031.raw\n"
     ]
    },
    {
     "name": "stderr",
     "output_type": "stream",
     "text": [
      "\r",
      " 59%|████████████████████████                 | 382/650 [00:40<01:04,  4.14it/s]"
     ]
    },
    {
     "name": "stdout",
     "output_type": "stream",
     "text": [
      "/Users/chiaentsai/Box/MURI-SARA/Thermoreflectance/Joanne/CHESS/0130_2023/9mm_per_sec/-6mm_25W_032.raw\n",
      "/Users/chiaentsai/Box/MURI-SARA/Thermoreflectance/Joanne/CHESS/0130_2023/9mm_per_sec/-6mm_25W_033.raw\n",
      "/Users/chiaentsai/Box/MURI-SARA/Thermoreflectance/Joanne/CHESS/0130_2023/9mm_per_sec/-6mm_25W_034.raw\n"
     ]
    },
    {
     "name": "stderr",
     "output_type": "stream",
     "text": [
      "\r",
      " 59%|████████████████████████▎                | 385/650 [00:43<01:18,  3.38it/s]"
     ]
    },
    {
     "name": "stdout",
     "output_type": "stream",
     "text": [
      "/Users/chiaentsai/Box/MURI-SARA/Thermoreflectance/Joanne/CHESS/0130_2023/9mm_per_sec/-6mm_25W_035.raw\n",
      "/Users/chiaentsai/Box/MURI-SARA/Thermoreflectance/Joanne/CHESS/0130_2023/9mm_per_sec/-6mm_25W_036.raw\n"
     ]
    },
    {
     "name": "stderr",
     "output_type": "stream",
     "text": [
      "\r",
      " 60%|████████████████████████▍                | 387/650 [00:46<01:29,  2.93it/s]"
     ]
    },
    {
     "name": "stdout",
     "output_type": "stream",
     "text": [
      "/Users/chiaentsai/Box/MURI-SARA/Thermoreflectance/Joanne/CHESS/0130_2023/9mm_per_sec/-6mm_25W_037.raw\n",
      "/Users/chiaentsai/Box/MURI-SARA/Thermoreflectance/Joanne/CHESS/0130_2023/9mm_per_sec/-6mm_25W_038.raw\n"
     ]
    },
    {
     "name": "stderr",
     "output_type": "stream",
     "text": [
      "\r",
      " 60%|████████████████████████▌                | 389/650 [00:49<01:48,  2.41it/s]"
     ]
    },
    {
     "name": "stdout",
     "output_type": "stream",
     "text": [
      "/Users/chiaentsai/Box/MURI-SARA/Thermoreflectance/Joanne/CHESS/0130_2023/9mm_per_sec/-6mm_25W_039.raw\n"
     ]
    },
    {
     "name": "stderr",
     "output_type": "stream",
     "text": [
      "\r",
      " 60%|████████████████████████▌                | 390/650 [00:50<01:54,  2.27it/s]"
     ]
    },
    {
     "name": "stdout",
     "output_type": "stream",
     "text": [
      "/Users/chiaentsai/Box/MURI-SARA/Thermoreflectance/Joanne/CHESS/0130_2023/9mm_per_sec/-6mm_25W_040.raw\n"
     ]
    },
    {
     "name": "stderr",
     "output_type": "stream",
     "text": [
      "\r",
      " 60%|████████████████████████▋                | 391/650 [00:51<02:11,  1.96it/s]"
     ]
    },
    {
     "name": "stdout",
     "output_type": "stream",
     "text": [
      "/Users/chiaentsai/Box/MURI-SARA/Thermoreflectance/Joanne/CHESS/0130_2023/9mm_per_sec/-6mm_25W_041.raw\n",
      "/Users/chiaentsai/Box/MURI-SARA/Thermoreflectance/Joanne/CHESS/0130_2023/9mm_per_sec/-6mm_25W_042.raw\n"
     ]
    },
    {
     "name": "stderr",
     "output_type": "stream",
     "text": [
      " 61%|████████████████████████▉                | 395/650 [00:53<01:54,  2.23it/s]"
     ]
    },
    {
     "name": "stdout",
     "output_type": "stream",
     "text": [
      "/Users/chiaentsai/Box/MURI-SARA/Thermoreflectance/Joanne/CHESS/0130_2023/9mm_per_sec/-6mm_25W_043.raw\n",
      "/Users/chiaentsai/Box/MURI-SARA/Thermoreflectance/Joanne/CHESS/0130_2023/9mm_per_sec/-6mm_25W_044.raw\n",
      "/Users/chiaentsai/Box/MURI-SARA/Thermoreflectance/Joanne/CHESS/0130_2023/9mm_per_sec/-6mm_25W_045.raw\n",
      "/Users/chiaentsai/Box/MURI-SARA/Thermoreflectance/Joanne/CHESS/0130_2023/9mm_per_sec/-6mm_25W_046.raw\n"
     ]
    },
    {
     "name": "stderr",
     "output_type": "stream",
     "text": [
      "\r",
      " 61%|█████████████████████████                | 397/650 [00:54<02:06,  2.00it/s]"
     ]
    },
    {
     "name": "stdout",
     "output_type": "stream",
     "text": [
      "/Users/chiaentsai/Box/MURI-SARA/Thermoreflectance/Joanne/CHESS/0130_2023/9mm_per_sec/-6mm_25W_047.raw\n"
     ]
    },
    {
     "name": "stderr",
     "output_type": "stream",
     "text": [
      "\r",
      " 61%|█████████████████████████                | 398/650 [00:55<02:26,  1.72it/s]"
     ]
    },
    {
     "name": "stdout",
     "output_type": "stream",
     "text": [
      "/Users/chiaentsai/Box/MURI-SARA/Thermoreflectance/Joanne/CHESS/0130_2023/9mm_per_sec/-6mm_25W_048.raw\n"
     ]
    },
    {
     "name": "stderr",
     "output_type": "stream",
     "text": [
      "\r",
      " 61%|█████████████████████████▏               | 399/650 [00:56<02:47,  1.50it/s]"
     ]
    },
    {
     "name": "stdout",
     "output_type": "stream",
     "text": [
      "/Users/chiaentsai/Box/MURI-SARA/Thermoreflectance/Joanne/CHESS/0130_2023/9mm_per_sec/-6mm_25W_049.raw\n"
     ]
    },
    {
     "name": "stderr",
     "output_type": "stream",
     "text": [
      "100%|█████████████████████████████████████████| 650/650 [00:58<00:00, 11.19it/s]\n",
      "  0%|                                                   | 0/650 [00:00<?, ?it/s]"
     ]
    },
    {
     "name": "stdout",
     "output_type": "stream",
     "text": [
      "/Users/chiaentsai/Box/MURI-SARA/Thermoreflectance/Joanne/CHESS/0130_2023/9mm_per_sec/-6mm_27W_000.raw\n"
     ]
    },
    {
     "name": "stderr",
     "output_type": "stream",
     "text": [
      "\r",
      " 62%|████████████████████████▋               | 401/650 [00:01<00:00, 287.25it/s]"
     ]
    },
    {
     "name": "stdout",
     "output_type": "stream",
     "text": [
      "/Users/chiaentsai/Box/MURI-SARA/Thermoreflectance/Joanne/CHESS/0130_2023/9mm_per_sec/-6mm_27W_001.raw\n",
      "/Users/chiaentsai/Box/MURI-SARA/Thermoreflectance/Joanne/CHESS/0130_2023/9mm_per_sec/-6mm_27W_002.raw\n",
      "/Users/chiaentsai/Box/MURI-SARA/Thermoreflectance/Joanne/CHESS/0130_2023/9mm_per_sec/-6mm_27W_003.raw\n",
      "/Users/chiaentsai/Box/MURI-SARA/Thermoreflectance/Joanne/CHESS/0130_2023/9mm_per_sec/-6mm_27W_004.raw\n",
      "/Users/chiaentsai/Box/MURI-SARA/Thermoreflectance/Joanne/CHESS/0130_2023/9mm_per_sec/-6mm_27W_005.raw\n",
      "/Users/chiaentsai/Box/MURI-SARA/Thermoreflectance/Joanne/CHESS/0130_2023/9mm_per_sec/-6mm_27W_006.raw\n",
      "/Users/chiaentsai/Box/MURI-SARA/Thermoreflectance/Joanne/CHESS/0130_2023/9mm_per_sec/-6mm_27W_007.raw\n",
      "/Users/chiaentsai/Box/MURI-SARA/Thermoreflectance/Joanne/CHESS/0130_2023/9mm_per_sec/-6mm_27W_008.raw\n",
      "/Users/chiaentsai/Box/MURI-SARA/Thermoreflectance/Joanne/CHESS/0130_2023/9mm_per_sec/-6mm_27W_009.raw\n",
      "/Users/chiaentsai/Box/MURI-SARA/Thermoreflectance/Joanne/CHESS/0130_2023/9mm_per_sec/-6mm_27W_010.raw\n"
     ]
    },
    {
     "name": "stderr",
     "output_type": "stream",
     "text": [
      " 63%|█████████████████████████▉               | 411/650 [00:15<00:12, 19.50it/s]"
     ]
    },
    {
     "name": "stdout",
     "output_type": "stream",
     "text": [
      "/Users/chiaentsai/Box/MURI-SARA/Thermoreflectance/Joanne/CHESS/0130_2023/9mm_per_sec/-6mm_27W_011.raw\n"
     ]
    },
    {
     "name": "stderr",
     "output_type": "stream",
     "text": [
      "\r",
      " 63%|█████████████████████████▉               | 412/650 [00:16<00:13, 17.38it/s]"
     ]
    },
    {
     "name": "stdout",
     "output_type": "stream",
     "text": [
      "/Users/chiaentsai/Box/MURI-SARA/Thermoreflectance/Joanne/CHESS/0130_2023/9mm_per_sec/-6mm_27W_012.raw\n",
      "/Users/chiaentsai/Box/MURI-SARA/Thermoreflectance/Joanne/CHESS/0130_2023/9mm_per_sec/-6mm_27W_013.raw\n",
      "/Users/chiaentsai/Box/MURI-SARA/Thermoreflectance/Joanne/CHESS/0130_2023/9mm_per_sec/-6mm_27W_014.raw\n",
      "/Users/chiaentsai/Box/MURI-SARA/Thermoreflectance/Joanne/CHESS/0130_2023/9mm_per_sec/-6mm_27W_015.raw\n",
      "/Users/chiaentsai/Box/MURI-SARA/Thermoreflectance/Joanne/CHESS/0130_2023/9mm_per_sec/-6mm_27W_016.raw\n",
      "/Users/chiaentsai/Box/MURI-SARA/Thermoreflectance/Joanne/CHESS/0130_2023/9mm_per_sec/-6mm_27W_017.raw\n",
      "/Users/chiaentsai/Box/MURI-SARA/Thermoreflectance/Joanne/CHESS/0130_2023/9mm_per_sec/-6mm_27W_018.raw\n",
      "/Users/chiaentsai/Box/MURI-SARA/Thermoreflectance/Joanne/CHESS/0130_2023/9mm_per_sec/-6mm_27W_019.raw\n",
      "/Users/chiaentsai/Box/MURI-SARA/Thermoreflectance/Joanne/CHESS/0130_2023/9mm_per_sec/-6mm_27W_020.raw\n",
      "/Users/chiaentsai/Box/MURI-SARA/Thermoreflectance/Joanne/CHESS/0130_2023/9mm_per_sec/-6mm_27W_021.raw\n",
      "/Users/chiaentsai/Box/MURI-SARA/Thermoreflectance/Joanne/CHESS/0130_2023/9mm_per_sec/-6mm_27W_022.raw\n",
      "/Users/chiaentsai/Box/MURI-SARA/Thermoreflectance/Joanne/CHESS/0130_2023/9mm_per_sec/-6mm_27W_023.raw\n"
     ]
    },
    {
     "name": "stderr",
     "output_type": "stream",
     "text": [
      "\r",
      " 65%|██████████████████████████▋              | 424/650 [00:29<00:30,  7.31it/s]"
     ]
    },
    {
     "name": "stdout",
     "output_type": "stream",
     "text": [
      "/Users/chiaentsai/Box/MURI-SARA/Thermoreflectance/Joanne/CHESS/0130_2023/9mm_per_sec/-6mm_27W_024.raw\n"
     ]
    },
    {
     "name": "stderr",
     "output_type": "stream",
     "text": [
      "\r",
      " 65%|██████████████████████████▊              | 425/650 [00:30<00:32,  6.85it/s]"
     ]
    },
    {
     "name": "stdout",
     "output_type": "stream",
     "text": [
      "/Users/chiaentsai/Box/MURI-SARA/Thermoreflectance/Joanne/CHESS/0130_2023/9mm_per_sec/-6mm_27W_025.raw\n",
      "/Users/chiaentsai/Box/MURI-SARA/Thermoreflectance/Joanne/CHESS/0130_2023/9mm_per_sec/-6mm_27W_026.raw\n",
      "/Users/chiaentsai/Box/MURI-SARA/Thermoreflectance/Joanne/CHESS/0130_2023/9mm_per_sec/-6mm_27W_027.raw\n",
      "/Users/chiaentsai/Box/MURI-SARA/Thermoreflectance/Joanne/CHESS/0130_2023/9mm_per_sec/-6mm_27W_028.raw\n",
      "/Users/chiaentsai/Box/MURI-SARA/Thermoreflectance/Joanne/CHESS/0130_2023/9mm_per_sec/-6mm_27W_029.raw\n",
      "/Users/chiaentsai/Box/MURI-SARA/Thermoreflectance/Joanne/CHESS/0130_2023/9mm_per_sec/-6mm_27W_030.raw\n",
      "/Users/chiaentsai/Box/MURI-SARA/Thermoreflectance/Joanne/CHESS/0130_2023/9mm_per_sec/-6mm_27W_031.raw\n"
     ]
    },
    {
     "name": "stderr",
     "output_type": "stream",
     "text": [
      "\r",
      " 66%|███████████████████████████▏             | 432/650 [00:38<00:49,  4.39it/s]"
     ]
    },
    {
     "name": "stdout",
     "output_type": "stream",
     "text": [
      "/Users/chiaentsai/Box/MURI-SARA/Thermoreflectance/Joanne/CHESS/0130_2023/9mm_per_sec/-6mm_27W_032.raw\n",
      "/Users/chiaentsai/Box/MURI-SARA/Thermoreflectance/Joanne/CHESS/0130_2023/9mm_per_sec/-6mm_27W_033.raw\n",
      "/Users/chiaentsai/Box/MURI-SARA/Thermoreflectance/Joanne/CHESS/0130_2023/9mm_per_sec/-6mm_27W_034.raw\n",
      "/Users/chiaentsai/Box/MURI-SARA/Thermoreflectance/Joanne/CHESS/0130_2023/9mm_per_sec/-6mm_27W_035.raw\n"
     ]
    },
    {
     "name": "stderr",
     "output_type": "stream",
     "text": [
      "\r",
      " 67%|███████████████████████████▌             | 436/650 [00:43<01:00,  3.52it/s]"
     ]
    },
    {
     "name": "stdout",
     "output_type": "stream",
     "text": [
      "/Users/chiaentsai/Box/MURI-SARA/Thermoreflectance/Joanne/CHESS/0130_2023/9mm_per_sec/-6mm_27W_036.raw\n",
      "/Users/chiaentsai/Box/MURI-SARA/Thermoreflectance/Joanne/CHESS/0130_2023/9mm_per_sec/-6mm_27W_037.raw\n",
      "/Users/chiaentsai/Box/MURI-SARA/Thermoreflectance/Joanne/CHESS/0130_2023/9mm_per_sec/-6mm_27W_038.raw\n"
     ]
    },
    {
     "name": "stderr",
     "output_type": "stream",
     "text": [
      "\r",
      " 68%|███████████████████████████▋             | 439/650 [00:46<01:11,  2.96it/s]"
     ]
    },
    {
     "name": "stdout",
     "output_type": "stream",
     "text": [
      "/Users/chiaentsai/Box/MURI-SARA/Thermoreflectance/Joanne/CHESS/0130_2023/9mm_per_sec/-6mm_27W_039.raw\n",
      "/Users/chiaentsai/Box/MURI-SARA/Thermoreflectance/Joanne/CHESS/0130_2023/9mm_per_sec/-6mm_27W_040.raw\n"
     ]
    },
    {
     "name": "stderr",
     "output_type": "stream",
     "text": [
      "\r",
      " 68%|███████████████████████████▊             | 441/650 [00:48<01:19,  2.63it/s]"
     ]
    },
    {
     "name": "stdout",
     "output_type": "stream",
     "text": [
      "/Users/chiaentsai/Box/MURI-SARA/Thermoreflectance/Joanne/CHESS/0130_2023/9mm_per_sec/-6mm_27W_041.raw\n",
      "/Users/chiaentsai/Box/MURI-SARA/Thermoreflectance/Joanne/CHESS/0130_2023/9mm_per_sec/-6mm_27W_042.raw\n"
     ]
    },
    {
     "name": "stderr",
     "output_type": "stream",
     "text": [
      " 68%|████████████████████████████             | 445/650 [00:50<01:15,  2.73it/s]"
     ]
    },
    {
     "name": "stdout",
     "output_type": "stream",
     "text": [
      "/Users/chiaentsai/Box/MURI-SARA/Thermoreflectance/Joanne/CHESS/0130_2023/9mm_per_sec/-6mm_27W_043.raw\n",
      "/Users/chiaentsai/Box/MURI-SARA/Thermoreflectance/Joanne/CHESS/0130_2023/9mm_per_sec/-6mm_27W_044.raw\n",
      "/Users/chiaentsai/Box/MURI-SARA/Thermoreflectance/Joanne/CHESS/0130_2023/9mm_per_sec/-6mm_27W_045.raw\n",
      "/Users/chiaentsai/Box/MURI-SARA/Thermoreflectance/Joanne/CHESS/0130_2023/9mm_per_sec/-6mm_27W_046.raw\n"
     ]
    },
    {
     "name": "stderr",
     "output_type": "stream",
     "text": [
      "\r",
      " 69%|████████████████████████████▏            | 447/650 [00:51<01:21,  2.49it/s]"
     ]
    },
    {
     "name": "stdout",
     "output_type": "stream",
     "text": [
      "/Users/chiaentsai/Box/MURI-SARA/Thermoreflectance/Joanne/CHESS/0130_2023/9mm_per_sec/-6mm_27W_047.raw\n"
     ]
    },
    {
     "name": "stderr",
     "output_type": "stream",
     "text": [
      "\r",
      " 69%|████████████████████████████▎            | 448/650 [00:52<01:34,  2.14it/s]"
     ]
    },
    {
     "name": "stdout",
     "output_type": "stream",
     "text": [
      "/Users/chiaentsai/Box/MURI-SARA/Thermoreflectance/Joanne/CHESS/0130_2023/9mm_per_sec/-6mm_27W_048.raw\n"
     ]
    },
    {
     "name": "stderr",
     "output_type": "stream",
     "text": [
      "\r",
      " 69%|████████████████████████████▎            | 449/650 [00:53<01:45,  1.91it/s]"
     ]
    },
    {
     "name": "stdout",
     "output_type": "stream",
     "text": [
      "/Users/chiaentsai/Box/MURI-SARA/Thermoreflectance/Joanne/CHESS/0130_2023/9mm_per_sec/-6mm_27W_049.raw\n"
     ]
    },
    {
     "name": "stderr",
     "output_type": "stream",
     "text": [
      "100%|█████████████████████████████████████████| 650/650 [00:54<00:00, 11.85it/s]\n",
      "  0%|                                                   | 0/650 [00:00<?, ?it/s]"
     ]
    },
    {
     "name": "stdout",
     "output_type": "stream",
     "text": [
      "/Users/chiaentsai/Box/MURI-SARA/Thermoreflectance/Joanne/CHESS/0130_2023/9mm_per_sec/-6mm_29W_000.raw\n"
     ]
    },
    {
     "name": "stderr",
     "output_type": "stream",
     "text": [
      "\r",
      " 69%|███████████████████████████▊            | 451/650 [00:01<00:00, 327.34it/s]"
     ]
    },
    {
     "name": "stdout",
     "output_type": "stream",
     "text": [
      "/Users/chiaentsai/Box/MURI-SARA/Thermoreflectance/Joanne/CHESS/0130_2023/9mm_per_sec/-6mm_29W_001.raw\n",
      "/Users/chiaentsai/Box/MURI-SARA/Thermoreflectance/Joanne/CHESS/0130_2023/9mm_per_sec/-6mm_29W_002.raw\n",
      "/Users/chiaentsai/Box/MURI-SARA/Thermoreflectance/Joanne/CHESS/0130_2023/9mm_per_sec/-6mm_29W_003.raw\n",
      "/Users/chiaentsai/Box/MURI-SARA/Thermoreflectance/Joanne/CHESS/0130_2023/9mm_per_sec/-6mm_29W_004.raw\n",
      "/Users/chiaentsai/Box/MURI-SARA/Thermoreflectance/Joanne/CHESS/0130_2023/9mm_per_sec/-6mm_29W_005.raw\n",
      "/Users/chiaentsai/Box/MURI-SARA/Thermoreflectance/Joanne/CHESS/0130_2023/9mm_per_sec/-6mm_29W_006.raw\n",
      "/Users/chiaentsai/Box/MURI-SARA/Thermoreflectance/Joanne/CHESS/0130_2023/9mm_per_sec/-6mm_29W_007.raw\n",
      "/Users/chiaentsai/Box/MURI-SARA/Thermoreflectance/Joanne/CHESS/0130_2023/9mm_per_sec/-6mm_29W_008.raw\n",
      "/Users/chiaentsai/Box/MURI-SARA/Thermoreflectance/Joanne/CHESS/0130_2023/9mm_per_sec/-6mm_29W_009.raw\n",
      "/Users/chiaentsai/Box/MURI-SARA/Thermoreflectance/Joanne/CHESS/0130_2023/9mm_per_sec/-6mm_29W_010.raw\n"
     ]
    },
    {
     "name": "stderr",
     "output_type": "stream",
     "text": [
      " 71%|█████████████████████████████            | 461/650 [00:14<00:08, 23.43it/s]"
     ]
    },
    {
     "name": "stdout",
     "output_type": "stream",
     "text": [
      "/Users/chiaentsai/Box/MURI-SARA/Thermoreflectance/Joanne/CHESS/0130_2023/9mm_per_sec/-6mm_29W_011.raw\n"
     ]
    },
    {
     "name": "stderr",
     "output_type": "stream",
     "text": [
      "\r",
      " 71%|█████████████████████████████▏           | 462/650 [00:15<00:08, 21.25it/s]"
     ]
    },
    {
     "name": "stdout",
     "output_type": "stream",
     "text": [
      "/Users/chiaentsai/Box/MURI-SARA/Thermoreflectance/Joanne/CHESS/0130_2023/9mm_per_sec/-6mm_29W_012.raw\n",
      "/Users/chiaentsai/Box/MURI-SARA/Thermoreflectance/Joanne/CHESS/0130_2023/9mm_per_sec/-6mm_29W_013.raw\n",
      "/Users/chiaentsai/Box/MURI-SARA/Thermoreflectance/Joanne/CHESS/0130_2023/9mm_per_sec/-6mm_29W_014.raw\n",
      "/Users/chiaentsai/Box/MURI-SARA/Thermoreflectance/Joanne/CHESS/0130_2023/9mm_per_sec/-6mm_29W_015.raw\n",
      "/Users/chiaentsai/Box/MURI-SARA/Thermoreflectance/Joanne/CHESS/0130_2023/9mm_per_sec/-6mm_29W_016.raw\n",
      "/Users/chiaentsai/Box/MURI-SARA/Thermoreflectance/Joanne/CHESS/0130_2023/9mm_per_sec/-6mm_29W_017.raw\n",
      "/Users/chiaentsai/Box/MURI-SARA/Thermoreflectance/Joanne/CHESS/0130_2023/9mm_per_sec/-6mm_29W_018.raw\n",
      "/Users/chiaentsai/Box/MURI-SARA/Thermoreflectance/Joanne/CHESS/0130_2023/9mm_per_sec/-6mm_29W_019.raw\n",
      "/Users/chiaentsai/Box/MURI-SARA/Thermoreflectance/Joanne/CHESS/0130_2023/9mm_per_sec/-6mm_29W_020.raw\n",
      "/Users/chiaentsai/Box/MURI-SARA/Thermoreflectance/Joanne/CHESS/0130_2023/9mm_per_sec/-6mm_29W_021.raw\n",
      "/Users/chiaentsai/Box/MURI-SARA/Thermoreflectance/Joanne/CHESS/0130_2023/9mm_per_sec/-6mm_29W_022.raw\n",
      "/Users/chiaentsai/Box/MURI-SARA/Thermoreflectance/Joanne/CHESS/0130_2023/9mm_per_sec/-6mm_29W_023.raw\n",
      "/Users/chiaentsai/Box/MURI-SARA/Thermoreflectance/Joanne/CHESS/0130_2023/9mm_per_sec/-6mm_29W_024.raw\n",
      "/Users/chiaentsai/Box/MURI-SARA/Thermoreflectance/Joanne/CHESS/0130_2023/9mm_per_sec/-6mm_29W_025.raw\n"
     ]
    },
    {
     "name": "stderr",
     "output_type": "stream",
     "text": [
      "\r",
      " 73%|██████████████████████████████           | 476/650 [00:31<00:23,  7.26it/s]"
     ]
    },
    {
     "name": "stdout",
     "output_type": "stream",
     "text": [
      "/Users/chiaentsai/Box/MURI-SARA/Thermoreflectance/Joanne/CHESS/0130_2023/9mm_per_sec/-6mm_29W_026.raw\n"
     ]
    },
    {
     "name": "stderr",
     "output_type": "stream",
     "text": [
      "\r",
      " 73%|██████████████████████████████           | 477/650 [00:32<00:25,  6.91it/s]"
     ]
    },
    {
     "name": "stdout",
     "output_type": "stream",
     "text": [
      "/Users/chiaentsai/Box/MURI-SARA/Thermoreflectance/Joanne/CHESS/0130_2023/9mm_per_sec/-6mm_29W_027.raw\n",
      "/Users/chiaentsai/Box/MURI-SARA/Thermoreflectance/Joanne/CHESS/0130_2023/9mm_per_sec/-6mm_29W_028.raw\n",
      "/Users/chiaentsai/Box/MURI-SARA/Thermoreflectance/Joanne/CHESS/0130_2023/9mm_per_sec/-6mm_29W_029.raw\n",
      "/Users/chiaentsai/Box/MURI-SARA/Thermoreflectance/Joanne/CHESS/0130_2023/9mm_per_sec/-6mm_29W_030.raw\n",
      "/Users/chiaentsai/Box/MURI-SARA/Thermoreflectance/Joanne/CHESS/0130_2023/9mm_per_sec/-6mm_29W_031.raw\n",
      "/Users/chiaentsai/Box/MURI-SARA/Thermoreflectance/Joanne/CHESS/0130_2023/9mm_per_sec/-6mm_29W_032.raw\n",
      "/Users/chiaentsai/Box/MURI-SARA/Thermoreflectance/Joanne/CHESS/0130_2023/9mm_per_sec/-6mm_29W_033.raw\n",
      "/Users/chiaentsai/Box/MURI-SARA/Thermoreflectance/Joanne/CHESS/0130_2023/9mm_per_sec/-6mm_29W_034.raw\n"
     ]
    },
    {
     "name": "stderr",
     "output_type": "stream",
     "text": [
      "\r",
      " 75%|██████████████████████████████▌          | 485/650 [00:41<00:36,  4.50it/s]"
     ]
    },
    {
     "name": "stdout",
     "output_type": "stream",
     "text": [
      "/Users/chiaentsai/Box/MURI-SARA/Thermoreflectance/Joanne/CHESS/0130_2023/9mm_per_sec/-6mm_29W_035.raw\n",
      "/Users/chiaentsai/Box/MURI-SARA/Thermoreflectance/Joanne/CHESS/0130_2023/9mm_per_sec/-6mm_29W_036.raw\n",
      "/Users/chiaentsai/Box/MURI-SARA/Thermoreflectance/Joanne/CHESS/0130_2023/9mm_per_sec/-6mm_29W_037.raw\n",
      "/Users/chiaentsai/Box/MURI-SARA/Thermoreflectance/Joanne/CHESS/0130_2023/9mm_per_sec/-6mm_29W_038.raw\n"
     ]
    },
    {
     "name": "stderr",
     "output_type": "stream",
     "text": [
      "\r",
      " 75%|██████████████████████████████▉          | 490/650 [00:45<00:42,  3.78it/s]"
     ]
    },
    {
     "name": "stdout",
     "output_type": "stream",
     "text": [
      "/Users/chiaentsai/Box/MURI-SARA/Thermoreflectance/Joanne/CHESS/0130_2023/9mm_per_sec/-6mm_29W_039.raw\n",
      "/Users/chiaentsai/Box/MURI-SARA/Thermoreflectance/Joanne/CHESS/0130_2023/9mm_per_sec/-6mm_29W_040.raw\n",
      "/Users/chiaentsai/Box/MURI-SARA/Thermoreflectance/Joanne/CHESS/0130_2023/9mm_per_sec/-6mm_29W_041.raw\n",
      "/Users/chiaentsai/Box/MURI-SARA/Thermoreflectance/Joanne/CHESS/0130_2023/9mm_per_sec/-6mm_29W_042.raw\n"
     ]
    },
    {
     "name": "stderr",
     "output_type": "stream",
     "text": [
      " 76%|███████████████████████████████▏         | 495/650 [00:47<00:42,  3.62it/s]"
     ]
    },
    {
     "name": "stdout",
     "output_type": "stream",
     "text": [
      "/Users/chiaentsai/Box/MURI-SARA/Thermoreflectance/Joanne/CHESS/0130_2023/9mm_per_sec/-6mm_29W_043.raw\n",
      "/Users/chiaentsai/Box/MURI-SARA/Thermoreflectance/Joanne/CHESS/0130_2023/9mm_per_sec/-6mm_29W_044.raw\n",
      "/Users/chiaentsai/Box/MURI-SARA/Thermoreflectance/Joanne/CHESS/0130_2023/9mm_per_sec/-6mm_29W_045.raw\n",
      "/Users/chiaentsai/Box/MURI-SARA/Thermoreflectance/Joanne/CHESS/0130_2023/9mm_per_sec/-6mm_29W_046.raw\n"
     ]
    },
    {
     "name": "stderr",
     "output_type": "stream",
     "text": [
      "\r",
      " 76%|███████████████████████████████▎         | 497/650 [00:48<00:44,  3.42it/s]"
     ]
    },
    {
     "name": "stdout",
     "output_type": "stream",
     "text": [
      "/Users/chiaentsai/Box/MURI-SARA/Thermoreflectance/Joanne/CHESS/0130_2023/9mm_per_sec/-6mm_29W_047.raw\n",
      "/Users/chiaentsai/Box/MURI-SARA/Thermoreflectance/Joanne/CHESS/0130_2023/9mm_per_sec/-6mm_29W_048.raw\n"
     ]
    },
    {
     "name": "stderr",
     "output_type": "stream",
     "text": [
      "\r",
      " 77%|███████████████████████████████▍         | 499/650 [00:50<00:53,  2.80it/s]"
     ]
    },
    {
     "name": "stdout",
     "output_type": "stream",
     "text": [
      "/Users/chiaentsai/Box/MURI-SARA/Thermoreflectance/Joanne/CHESS/0130_2023/9mm_per_sec/-6mm_29W_049.raw\n"
     ]
    },
    {
     "name": "stderr",
     "output_type": "stream",
     "text": [
      "100%|█████████████████████████████████████████| 650/650 [00:51<00:00, 12.53it/s]\n",
      "  0%|                                                   | 0/650 [00:00<?, ?it/s]"
     ]
    },
    {
     "name": "stdout",
     "output_type": "stream",
     "text": [
      "/Users/chiaentsai/Box/MURI-SARA/Thermoreflectance/Joanne/CHESS/0130_2023/9mm_per_sec/-6mm_31W_000.raw\n"
     ]
    },
    {
     "name": "stderr",
     "output_type": "stream",
     "text": [
      "\r",
      " 77%|██████████████████████████████▊         | 501/650 [00:01<00:00, 376.24it/s]"
     ]
    },
    {
     "name": "stdout",
     "output_type": "stream",
     "text": [
      "/Users/chiaentsai/Box/MURI-SARA/Thermoreflectance/Joanne/CHESS/0130_2023/9mm_per_sec/-6mm_31W_001.raw\n",
      "/Users/chiaentsai/Box/MURI-SARA/Thermoreflectance/Joanne/CHESS/0130_2023/9mm_per_sec/-6mm_31W_002.raw\n",
      "/Users/chiaentsai/Box/MURI-SARA/Thermoreflectance/Joanne/CHESS/0130_2023/9mm_per_sec/-6mm_31W_003.raw\n",
      "/Users/chiaentsai/Box/MURI-SARA/Thermoreflectance/Joanne/CHESS/0130_2023/9mm_per_sec/-6mm_31W_004.raw\n",
      "/Users/chiaentsai/Box/MURI-SARA/Thermoreflectance/Joanne/CHESS/0130_2023/9mm_per_sec/-6mm_31W_005.raw\n",
      "/Users/chiaentsai/Box/MURI-SARA/Thermoreflectance/Joanne/CHESS/0130_2023/9mm_per_sec/-6mm_31W_006.raw\n",
      "/Users/chiaentsai/Box/MURI-SARA/Thermoreflectance/Joanne/CHESS/0130_2023/9mm_per_sec/-6mm_31W_007.raw\n",
      "/Users/chiaentsai/Box/MURI-SARA/Thermoreflectance/Joanne/CHESS/0130_2023/9mm_per_sec/-6mm_31W_008.raw\n",
      "/Users/chiaentsai/Box/MURI-SARA/Thermoreflectance/Joanne/CHESS/0130_2023/9mm_per_sec/-6mm_31W_009.raw\n",
      "/Users/chiaentsai/Box/MURI-SARA/Thermoreflectance/Joanne/CHESS/0130_2023/9mm_per_sec/-6mm_31W_010.raw\n"
     ]
    },
    {
     "name": "stderr",
     "output_type": "stream",
     "text": [
      " 79%|████████████████████████████████▏        | 511/650 [00:14<00:05, 25.83it/s]"
     ]
    },
    {
     "name": "stdout",
     "output_type": "stream",
     "text": [
      "/Users/chiaentsai/Box/MURI-SARA/Thermoreflectance/Joanne/CHESS/0130_2023/9mm_per_sec/-6mm_31W_011.raw\n"
     ]
    },
    {
     "name": "stderr",
     "output_type": "stream",
     "text": [
      "\r",
      " 79%|████████████████████████████████▎        | 512/650 [00:15<00:05, 23.59it/s]"
     ]
    },
    {
     "name": "stdout",
     "output_type": "stream",
     "text": [
      "/Users/chiaentsai/Box/MURI-SARA/Thermoreflectance/Joanne/CHESS/0130_2023/9mm_per_sec/-6mm_31W_012.raw\n",
      "/Users/chiaentsai/Box/MURI-SARA/Thermoreflectance/Joanne/CHESS/0130_2023/9mm_per_sec/-6mm_31W_013.raw\n",
      "/Users/chiaentsai/Box/MURI-SARA/Thermoreflectance/Joanne/CHESS/0130_2023/9mm_per_sec/-6mm_31W_014.raw\n",
      "/Users/chiaentsai/Box/MURI-SARA/Thermoreflectance/Joanne/CHESS/0130_2023/9mm_per_sec/-6mm_31W_015.raw\n",
      "/Users/chiaentsai/Box/MURI-SARA/Thermoreflectance/Joanne/CHESS/0130_2023/9mm_per_sec/-6mm_31W_016.raw\n",
      "/Users/chiaentsai/Box/MURI-SARA/Thermoreflectance/Joanne/CHESS/0130_2023/9mm_per_sec/-6mm_31W_017.raw\n",
      "/Users/chiaentsai/Box/MURI-SARA/Thermoreflectance/Joanne/CHESS/0130_2023/9mm_per_sec/-6mm_31W_018.raw\n",
      "/Users/chiaentsai/Box/MURI-SARA/Thermoreflectance/Joanne/CHESS/0130_2023/9mm_per_sec/-6mm_31W_019.raw\n",
      "/Users/chiaentsai/Box/MURI-SARA/Thermoreflectance/Joanne/CHESS/0130_2023/9mm_per_sec/-6mm_31W_020.raw\n"
     ]
    },
    {
     "name": "stderr",
     "output_type": "stream",
     "text": [
      " 80%|████████████████████████████████▊        | 521/650 [00:25<00:12, 10.52it/s]"
     ]
    },
    {
     "name": "stdout",
     "output_type": "stream",
     "text": [
      "/Users/chiaentsai/Box/MURI-SARA/Thermoreflectance/Joanne/CHESS/0130_2023/9mm_per_sec/-6mm_31W_021.raw\n"
     ]
    },
    {
     "name": "stderr",
     "output_type": "stream",
     "text": [
      "\r",
      " 80%|████████████████████████████████▉        | 522/650 [00:26<00:13,  9.80it/s]"
     ]
    },
    {
     "name": "stdout",
     "output_type": "stream",
     "text": [
      "/Users/chiaentsai/Box/MURI-SARA/Thermoreflectance/Joanne/CHESS/0130_2023/9mm_per_sec/-6mm_31W_022.raw\n",
      "/Users/chiaentsai/Box/MURI-SARA/Thermoreflectance/Joanne/CHESS/0130_2023/9mm_per_sec/-6mm_31W_023.raw\n",
      "/Users/chiaentsai/Box/MURI-SARA/Thermoreflectance/Joanne/CHESS/0130_2023/9mm_per_sec/-6mm_31W_024.raw\n",
      "/Users/chiaentsai/Box/MURI-SARA/Thermoreflectance/Joanne/CHESS/0130_2023/9mm_per_sec/-6mm_31W_025.raw\n",
      "/Users/chiaentsai/Box/MURI-SARA/Thermoreflectance/Joanne/CHESS/0130_2023/9mm_per_sec/-6mm_31W_026.raw\n",
      "/Users/chiaentsai/Box/MURI-SARA/Thermoreflectance/Joanne/CHESS/0130_2023/9mm_per_sec/-6mm_31W_027.raw\n",
      "/Users/chiaentsai/Box/MURI-SARA/Thermoreflectance/Joanne/CHESS/0130_2023/9mm_per_sec/-6mm_31W_028.raw\n",
      "/Users/chiaentsai/Box/MURI-SARA/Thermoreflectance/Joanne/CHESS/0130_2023/9mm_per_sec/-6mm_31W_029.raw\n"
     ]
    },
    {
     "name": "stderr",
     "output_type": "stream",
     "text": [
      " 82%|█████████████████████████████████▍       | 530/650 [00:36<00:23,  5.07it/s]"
     ]
    },
    {
     "name": "stdout",
     "output_type": "stream",
     "text": [
      "/Users/chiaentsai/Box/MURI-SARA/Thermoreflectance/Joanne/CHESS/0130_2023/9mm_per_sec/-6mm_31W_030.raw\n"
     ]
    },
    {
     "name": "stderr",
     "output_type": "stream",
     "text": [
      "\r",
      " 82%|█████████████████████████████████▍       | 531/650 [00:38<00:25,  4.68it/s]"
     ]
    },
    {
     "name": "stdout",
     "output_type": "stream",
     "text": [
      "/Users/chiaentsai/Box/MURI-SARA/Thermoreflectance/Joanne/CHESS/0130_2023/9mm_per_sec/-6mm_31W_031.raw\n",
      "/Users/chiaentsai/Box/MURI-SARA/Thermoreflectance/Joanne/CHESS/0130_2023/9mm_per_sec/-6mm_31W_032.raw\n",
      "/Users/chiaentsai/Box/MURI-SARA/Thermoreflectance/Joanne/CHESS/0130_2023/9mm_per_sec/-6mm_31W_033.raw\n",
      "/Users/chiaentsai/Box/MURI-SARA/Thermoreflectance/Joanne/CHESS/0130_2023/9mm_per_sec/-6mm_31W_034.raw\n",
      "/Users/chiaentsai/Box/MURI-SARA/Thermoreflectance/Joanne/CHESS/0130_2023/9mm_per_sec/-6mm_31W_035.raw\n",
      "/Users/chiaentsai/Box/MURI-SARA/Thermoreflectance/Joanne/CHESS/0130_2023/9mm_per_sec/-6mm_31W_036.raw\n"
     ]
    },
    {
     "name": "stderr",
     "output_type": "stream",
     "text": [
      "\r",
      " 83%|█████████████████████████████████▊       | 537/650 [00:42<00:30,  3.73it/s]"
     ]
    },
    {
     "name": "stdout",
     "output_type": "stream",
     "text": [
      "/Users/chiaentsai/Box/MURI-SARA/Thermoreflectance/Joanne/CHESS/0130_2023/9mm_per_sec/-6mm_31W_037.raw\n",
      "/Users/chiaentsai/Box/MURI-SARA/Thermoreflectance/Joanne/CHESS/0130_2023/9mm_per_sec/-6mm_31W_038.raw\n",
      "/Users/chiaentsai/Box/MURI-SARA/Thermoreflectance/Joanne/CHESS/0130_2023/9mm_per_sec/-6mm_31W_039.raw\n",
      "/Users/chiaentsai/Box/MURI-SARA/Thermoreflectance/Joanne/CHESS/0130_2023/9mm_per_sec/-6mm_31W_040.raw\n"
     ]
    },
    {
     "name": "stderr",
     "output_type": "stream",
     "text": [
      "\r",
      " 83%|██████████████████████████████████       | 541/650 [00:47<00:38,  2.87it/s]"
     ]
    },
    {
     "name": "stdout",
     "output_type": "stream",
     "text": [
      "/Users/chiaentsai/Box/MURI-SARA/Thermoreflectance/Joanne/CHESS/0130_2023/9mm_per_sec/-6mm_31W_041.raw\n",
      "/Users/chiaentsai/Box/MURI-SARA/Thermoreflectance/Joanne/CHESS/0130_2023/9mm_per_sec/-6mm_31W_042.raw\n"
     ]
    },
    {
     "name": "stderr",
     "output_type": "stream",
     "text": [
      "\r",
      " 84%|██████████████████████████████████▎      | 544/650 [00:48<00:37,  2.82it/s]"
     ]
    },
    {
     "name": "stdout",
     "output_type": "stream",
     "text": [
      "/Users/chiaentsai/Box/MURI-SARA/Thermoreflectance/Joanne/CHESS/0130_2023/9mm_per_sec/-6mm_31W_043.raw\n",
      "/Users/chiaentsai/Box/MURI-SARA/Thermoreflectance/Joanne/CHESS/0130_2023/9mm_per_sec/-6mm_31W_044.raw\n",
      "/Users/chiaentsai/Box/MURI-SARA/Thermoreflectance/Joanne/CHESS/0130_2023/9mm_per_sec/-6mm_31W_045.raw\n"
     ]
    },
    {
     "name": "stderr",
     "output_type": "stream",
     "text": [
      "\r",
      " 84%|██████████████████████████████████▍      | 546/650 [00:48<00:34,  3.01it/s]"
     ]
    },
    {
     "name": "stdout",
     "output_type": "stream",
     "text": [
      "/Users/chiaentsai/Box/MURI-SARA/Thermoreflectance/Joanne/CHESS/0130_2023/9mm_per_sec/-6mm_31W_046.raw\n",
      "/Users/chiaentsai/Box/MURI-SARA/Thermoreflectance/Joanne/CHESS/0130_2023/9mm_per_sec/-6mm_31W_047.raw\n"
     ]
    },
    {
     "name": "stderr",
     "output_type": "stream",
     "text": [
      "\r",
      " 84%|██████████████████████████████████▌      | 548/650 [00:50<00:41,  2.44it/s]"
     ]
    },
    {
     "name": "stdout",
     "output_type": "stream",
     "text": [
      "/Users/chiaentsai/Box/MURI-SARA/Thermoreflectance/Joanne/CHESS/0130_2023/9mm_per_sec/-6mm_31W_048.raw\n",
      "/Users/chiaentsai/Box/MURI-SARA/Thermoreflectance/Joanne/CHESS/0130_2023/9mm_per_sec/-6mm_31W_049.raw\n"
     ]
    },
    {
     "name": "stderr",
     "output_type": "stream",
     "text": [
      "100%|█████████████████████████████████████████| 650/650 [00:53<00:00, 12.24it/s]\n",
      "  0%|                                                   | 0/650 [00:00<?, ?it/s]"
     ]
    },
    {
     "name": "stdout",
     "output_type": "stream",
     "text": [
      "/Users/chiaentsai/Box/MURI-SARA/Thermoreflectance/Joanne/CHESS/0130_2023/9mm_per_sec/-6mm_33W_000.raw\n"
     ]
    },
    {
     "name": "stderr",
     "output_type": "stream",
     "text": [
      "\r",
      " 85%|█████████████████████████████████▉      | 551/650 [00:01<00:00, 337.99it/s]"
     ]
    },
    {
     "name": "stdout",
     "output_type": "stream",
     "text": [
      "/Users/chiaentsai/Box/MURI-SARA/Thermoreflectance/Joanne/CHESS/0130_2023/9mm_per_sec/-6mm_33W_001.raw\n",
      "/Users/chiaentsai/Box/MURI-SARA/Thermoreflectance/Joanne/CHESS/0130_2023/9mm_per_sec/-6mm_33W_002.raw\n",
      "/Users/chiaentsai/Box/MURI-SARA/Thermoreflectance/Joanne/CHESS/0130_2023/9mm_per_sec/-6mm_33W_003.raw\n",
      "/Users/chiaentsai/Box/MURI-SARA/Thermoreflectance/Joanne/CHESS/0130_2023/9mm_per_sec/-6mm_33W_004.raw\n",
      "/Users/chiaentsai/Box/MURI-SARA/Thermoreflectance/Joanne/CHESS/0130_2023/9mm_per_sec/-6mm_33W_005.raw\n",
      "/Users/chiaentsai/Box/MURI-SARA/Thermoreflectance/Joanne/CHESS/0130_2023/9mm_per_sec/-6mm_33W_006.raw\n",
      "/Users/chiaentsai/Box/MURI-SARA/Thermoreflectance/Joanne/CHESS/0130_2023/9mm_per_sec/-6mm_33W_007.raw\n",
      "/Users/chiaentsai/Box/MURI-SARA/Thermoreflectance/Joanne/CHESS/0130_2023/9mm_per_sec/-6mm_33W_008.raw\n",
      "/Users/chiaentsai/Box/MURI-SARA/Thermoreflectance/Joanne/CHESS/0130_2023/9mm_per_sec/-6mm_33W_009.raw\n"
     ]
    },
    {
     "name": "stderr",
     "output_type": "stream",
     "text": [
      " 86%|███████████████████████████████████▎     | 560/650 [00:14<00:03, 27.21it/s]"
     ]
    },
    {
     "name": "stdout",
     "output_type": "stream",
     "text": [
      "/Users/chiaentsai/Box/MURI-SARA/Thermoreflectance/Joanne/CHESS/0130_2023/9mm_per_sec/-6mm_33W_010.raw\n"
     ]
    },
    {
     "name": "stderr",
     "output_type": "stream",
     "text": [
      "\r",
      " 86%|███████████████████████████████████▍     | 561/650 [00:16<00:03, 24.75it/s]"
     ]
    },
    {
     "name": "stdout",
     "output_type": "stream",
     "text": [
      "/Users/chiaentsai/Box/MURI-SARA/Thermoreflectance/Joanne/CHESS/0130_2023/9mm_per_sec/-6mm_33W_011.raw\n",
      "/Users/chiaentsai/Box/MURI-SARA/Thermoreflectance/Joanne/CHESS/0130_2023/9mm_per_sec/-6mm_33W_012.raw\n",
      "/Users/chiaentsai/Box/MURI-SARA/Thermoreflectance/Joanne/CHESS/0130_2023/9mm_per_sec/-6mm_33W_013.raw\n",
      "/Users/chiaentsai/Box/MURI-SARA/Thermoreflectance/Joanne/CHESS/0130_2023/9mm_per_sec/-6mm_33W_014.raw\n",
      "/Users/chiaentsai/Box/MURI-SARA/Thermoreflectance/Joanne/CHESS/0130_2023/9mm_per_sec/-6mm_33W_015.raw\n",
      "/Users/chiaentsai/Box/MURI-SARA/Thermoreflectance/Joanne/CHESS/0130_2023/9mm_per_sec/-6mm_33W_016.raw\n",
      "/Users/chiaentsai/Box/MURI-SARA/Thermoreflectance/Joanne/CHESS/0130_2023/9mm_per_sec/-6mm_33W_017.raw\n",
      "/Users/chiaentsai/Box/MURI-SARA/Thermoreflectance/Joanne/CHESS/0130_2023/9mm_per_sec/-6mm_33W_018.raw\n",
      "/Users/chiaentsai/Box/MURI-SARA/Thermoreflectance/Joanne/CHESS/0130_2023/9mm_per_sec/-6mm_33W_019.raw\n",
      "/Users/chiaentsai/Box/MURI-SARA/Thermoreflectance/Joanne/CHESS/0130_2023/9mm_per_sec/-6mm_33W_020.raw\n",
      "/Users/chiaentsai/Box/MURI-SARA/Thermoreflectance/Joanne/CHESS/0130_2023/9mm_per_sec/-6mm_33W_021.raw\n",
      "/Users/chiaentsai/Box/MURI-SARA/Thermoreflectance/Joanne/CHESS/0130_2023/9mm_per_sec/-6mm_33W_022.raw\n",
      "/Users/chiaentsai/Box/MURI-SARA/Thermoreflectance/Joanne/CHESS/0130_2023/9mm_per_sec/-6mm_33W_023.raw\n",
      "/Users/chiaentsai/Box/MURI-SARA/Thermoreflectance/Joanne/CHESS/0130_2023/9mm_per_sec/-6mm_33W_024.raw\n"
     ]
    },
    {
     "name": "stderr",
     "output_type": "stream",
     "text": [
      "\r",
      " 88%|████████████████████████████████████▎    | 575/650 [00:31<00:08,  8.90it/s]"
     ]
    },
    {
     "name": "stdout",
     "output_type": "stream",
     "text": [
      "/Users/chiaentsai/Box/MURI-SARA/Thermoreflectance/Joanne/CHESS/0130_2023/9mm_per_sec/-6mm_33W_025.raw\n"
     ]
    },
    {
     "name": "stderr",
     "output_type": "stream",
     "text": [
      "\r",
      " 89%|████████████████████████████████████▎    | 576/650 [00:32<00:08,  8.41it/s]"
     ]
    },
    {
     "name": "stdout",
     "output_type": "stream",
     "text": [
      "/Users/chiaentsai/Box/MURI-SARA/Thermoreflectance/Joanne/CHESS/0130_2023/9mm_per_sec/-6mm_33W_026.raw\n",
      "/Users/chiaentsai/Box/MURI-SARA/Thermoreflectance/Joanne/CHESS/0130_2023/9mm_per_sec/-6mm_33W_027.raw\n",
      "/Users/chiaentsai/Box/MURI-SARA/Thermoreflectance/Joanne/CHESS/0130_2023/9mm_per_sec/-6mm_33W_028.raw\n",
      "/Users/chiaentsai/Box/MURI-SARA/Thermoreflectance/Joanne/CHESS/0130_2023/9mm_per_sec/-6mm_33W_029.raw\n",
      "/Users/chiaentsai/Box/MURI-SARA/Thermoreflectance/Joanne/CHESS/0130_2023/9mm_per_sec/-6mm_33W_030.raw\n",
      "/Users/chiaentsai/Box/MURI-SARA/Thermoreflectance/Joanne/CHESS/0130_2023/9mm_per_sec/-6mm_33W_031.raw\n",
      "/Users/chiaentsai/Box/MURI-SARA/Thermoreflectance/Joanne/CHESS/0130_2023/9mm_per_sec/-6mm_33W_032.raw\n",
      "/Users/chiaentsai/Box/MURI-SARA/Thermoreflectance/Joanne/CHESS/0130_2023/9mm_per_sec/-6mm_33W_033.raw\n"
     ]
    },
    {
     "name": "stderr",
     "output_type": "stream",
     "text": [
      "\r",
      " 90%|████████████████████████████████████▊    | 584/650 [00:41<00:12,  5.27it/s]"
     ]
    },
    {
     "name": "stdout",
     "output_type": "stream",
     "text": [
      "/Users/chiaentsai/Box/MURI-SARA/Thermoreflectance/Joanne/CHESS/0130_2023/9mm_per_sec/-6mm_33W_034.raw\n",
      "/Users/chiaentsai/Box/MURI-SARA/Thermoreflectance/Joanne/CHESS/0130_2023/9mm_per_sec/-6mm_33W_035.raw\n",
      "/Users/chiaentsai/Box/MURI-SARA/Thermoreflectance/Joanne/CHESS/0130_2023/9mm_per_sec/-6mm_33W_036.raw\n",
      "/Users/chiaentsai/Box/MURI-SARA/Thermoreflectance/Joanne/CHESS/0130_2023/9mm_per_sec/-6mm_33W_037.raw\n"
     ]
    },
    {
     "name": "stderr",
     "output_type": "stream",
     "text": [
      "\r",
      " 91%|█████████████████████████████████████▏   | 589/650 [00:45<00:13,  4.42it/s]"
     ]
    },
    {
     "name": "stdout",
     "output_type": "stream",
     "text": [
      "/Users/chiaentsai/Box/MURI-SARA/Thermoreflectance/Joanne/CHESS/0130_2023/9mm_per_sec/-6mm_33W_038.raw\n",
      "/Users/chiaentsai/Box/MURI-SARA/Thermoreflectance/Joanne/CHESS/0130_2023/9mm_per_sec/-6mm_33W_039.raw\n",
      "/Users/chiaentsai/Box/MURI-SARA/Thermoreflectance/Joanne/CHESS/0130_2023/9mm_per_sec/-6mm_33W_040.raw\n",
      "/Users/chiaentsai/Box/MURI-SARA/Thermoreflectance/Joanne/CHESS/0130_2023/9mm_per_sec/-6mm_33W_041.raw\n",
      "/Users/chiaentsai/Box/MURI-SARA/Thermoreflectance/Joanne/CHESS/0130_2023/9mm_per_sec/-6mm_33W_042.raw\n"
     ]
    },
    {
     "name": "stderr",
     "output_type": "stream",
     "text": [
      " 92%|█████████████████████████████████████▌   | 596/650 [00:49<00:14,  3.82it/s]"
     ]
    },
    {
     "name": "stdout",
     "output_type": "stream",
     "text": [
      "/Users/chiaentsai/Box/MURI-SARA/Thermoreflectance/Joanne/CHESS/0130_2023/9mm_per_sec/-6mm_33W_043.raw\n",
      "/Users/chiaentsai/Box/MURI-SARA/Thermoreflectance/Joanne/CHESS/0130_2023/9mm_per_sec/-6mm_33W_044.raw\n",
      "/Users/chiaentsai/Box/MURI-SARA/Thermoreflectance/Joanne/CHESS/0130_2023/9mm_per_sec/-6mm_33W_045.raw\n",
      "/Users/chiaentsai/Box/MURI-SARA/Thermoreflectance/Joanne/CHESS/0130_2023/9mm_per_sec/-6mm_33W_046.raw\n",
      "/Users/chiaentsai/Box/MURI-SARA/Thermoreflectance/Joanne/CHESS/0130_2023/9mm_per_sec/-6mm_33W_047.raw\n"
     ]
    },
    {
     "name": "stderr",
     "output_type": "stream",
     "text": [
      "\r",
      " 92%|█████████████████████████████████████▋   | 598/650 [00:52<00:16,  3.14it/s]"
     ]
    },
    {
     "name": "stdout",
     "output_type": "stream",
     "text": [
      "/Users/chiaentsai/Box/MURI-SARA/Thermoreflectance/Joanne/CHESS/0130_2023/9mm_per_sec/-6mm_33W_048.raw\n",
      "/Users/chiaentsai/Box/MURI-SARA/Thermoreflectance/Joanne/CHESS/0130_2023/9mm_per_sec/-6mm_33W_049.raw\n"
     ]
    },
    {
     "name": "stderr",
     "output_type": "stream",
     "text": [
      "100%|█████████████████████████████████████████| 650/650 [00:54<00:00, 11.97it/s]\n",
      "  0%|                                                   | 0/650 [00:00<?, ?it/s]"
     ]
    },
    {
     "name": "stdout",
     "output_type": "stream",
     "text": [
      "/Users/chiaentsai/Box/MURI-SARA/Thermoreflectance/Joanne/CHESS/0130_2023/9mm_per_sec/-6mm_35W_000.raw\n"
     ]
    },
    {
     "name": "stderr",
     "output_type": "stream",
     "text": [
      "\r",
      " 92%|████████████████████████████████████▉   | 601/650 [00:01<00:00, 406.86it/s]"
     ]
    },
    {
     "name": "stdout",
     "output_type": "stream",
     "text": [
      "/Users/chiaentsai/Box/MURI-SARA/Thermoreflectance/Joanne/CHESS/0130_2023/9mm_per_sec/-6mm_35W_001.raw\n",
      "/Users/chiaentsai/Box/MURI-SARA/Thermoreflectance/Joanne/CHESS/0130_2023/9mm_per_sec/-6mm_35W_002.raw\n",
      "/Users/chiaentsai/Box/MURI-SARA/Thermoreflectance/Joanne/CHESS/0130_2023/9mm_per_sec/-6mm_35W_003.raw\n",
      "/Users/chiaentsai/Box/MURI-SARA/Thermoreflectance/Joanne/CHESS/0130_2023/9mm_per_sec/-6mm_35W_004.raw\n",
      "/Users/chiaentsai/Box/MURI-SARA/Thermoreflectance/Joanne/CHESS/0130_2023/9mm_per_sec/-6mm_35W_005.raw\n",
      "/Users/chiaentsai/Box/MURI-SARA/Thermoreflectance/Joanne/CHESS/0130_2023/9mm_per_sec/-6mm_35W_006.raw\n",
      "/Users/chiaentsai/Box/MURI-SARA/Thermoreflectance/Joanne/CHESS/0130_2023/9mm_per_sec/-6mm_35W_007.raw\n",
      "/Users/chiaentsai/Box/MURI-SARA/Thermoreflectance/Joanne/CHESS/0130_2023/9mm_per_sec/-6mm_35W_008.raw\n"
     ]
    },
    {
     "name": "stderr",
     "output_type": "stream",
     "text": [
      " 94%|██████████████████████████████████████▍  | 609/650 [00:13<00:01, 33.61it/s]"
     ]
    },
    {
     "name": "stdout",
     "output_type": "stream",
     "text": [
      "/Users/chiaentsai/Box/MURI-SARA/Thermoreflectance/Joanne/CHESS/0130_2023/9mm_per_sec/-6mm_35W_009.raw\n"
     ]
    },
    {
     "name": "stderr",
     "output_type": "stream",
     "text": [
      "\r",
      " 94%|██████████████████████████████████████▍  | 610/650 [00:14<00:01, 29.32it/s]"
     ]
    },
    {
     "name": "stdout",
     "output_type": "stream",
     "text": [
      "/Users/chiaentsai/Box/MURI-SARA/Thermoreflectance/Joanne/CHESS/0130_2023/9mm_per_sec/-6mm_35W_010.raw\n",
      "/Users/chiaentsai/Box/MURI-SARA/Thermoreflectance/Joanne/CHESS/0130_2023/9mm_per_sec/-6mm_35W_011.raw\n",
      "/Users/chiaentsai/Box/MURI-SARA/Thermoreflectance/Joanne/CHESS/0130_2023/9mm_per_sec/-6mm_35W_012.raw\n",
      "/Users/chiaentsai/Box/MURI-SARA/Thermoreflectance/Joanne/CHESS/0130_2023/9mm_per_sec/-6mm_35W_013.raw\n",
      "/Users/chiaentsai/Box/MURI-SARA/Thermoreflectance/Joanne/CHESS/0130_2023/9mm_per_sec/-6mm_35W_014.raw\n",
      "/Users/chiaentsai/Box/MURI-SARA/Thermoreflectance/Joanne/CHESS/0130_2023/9mm_per_sec/-6mm_35W_015.raw\n",
      "/Users/chiaentsai/Box/MURI-SARA/Thermoreflectance/Joanne/CHESS/0130_2023/9mm_per_sec/-6mm_35W_016.raw\n",
      "/Users/chiaentsai/Box/MURI-SARA/Thermoreflectance/Joanne/CHESS/0130_2023/9mm_per_sec/-6mm_35W_017.raw\n",
      "/Users/chiaentsai/Box/MURI-SARA/Thermoreflectance/Joanne/CHESS/0130_2023/9mm_per_sec/-6mm_35W_018.raw\n",
      "/Users/chiaentsai/Box/MURI-SARA/Thermoreflectance/Joanne/CHESS/0130_2023/9mm_per_sec/-6mm_35W_019.raw\n",
      "/Users/chiaentsai/Box/MURI-SARA/Thermoreflectance/Joanne/CHESS/0130_2023/9mm_per_sec/-6mm_35W_020.raw\n",
      "/Users/chiaentsai/Box/MURI-SARA/Thermoreflectance/Joanne/CHESS/0130_2023/9mm_per_sec/-6mm_35W_021.raw\n",
      "/Users/chiaentsai/Box/MURI-SARA/Thermoreflectance/Joanne/CHESS/0130_2023/9mm_per_sec/-6mm_35W_022.raw\n",
      "/Users/chiaentsai/Box/MURI-SARA/Thermoreflectance/Joanne/CHESS/0130_2023/9mm_per_sec/-6mm_35W_023.raw\n",
      "/Users/chiaentsai/Box/MURI-SARA/Thermoreflectance/Joanne/CHESS/0130_2023/9mm_per_sec/-6mm_35W_024.raw\n",
      "/Users/chiaentsai/Box/MURI-SARA/Thermoreflectance/Joanne/CHESS/0130_2023/9mm_per_sec/-6mm_35W_025.raw\n",
      "/Users/chiaentsai/Box/MURI-SARA/Thermoreflectance/Joanne/CHESS/0130_2023/9mm_per_sec/-6mm_35W_026.raw\n"
     ]
    },
    {
     "name": "stderr",
     "output_type": "stream",
     "text": [
      " 96%|███████████████████████████████████████▌ | 627/650 [00:34<00:02,  8.50it/s]"
     ]
    },
    {
     "name": "stdout",
     "output_type": "stream",
     "text": [
      "/Users/chiaentsai/Box/MURI-SARA/Thermoreflectance/Joanne/CHESS/0130_2023/9mm_per_sec/-6mm_35W_027.raw\n"
     ]
    },
    {
     "name": "stderr",
     "output_type": "stream",
     "text": [
      "\r",
      " 97%|███████████████████████████████████████▌ | 628/650 [00:35<00:02,  8.15it/s]"
     ]
    },
    {
     "name": "stdout",
     "output_type": "stream",
     "text": [
      "/Users/chiaentsai/Box/MURI-SARA/Thermoreflectance/Joanne/CHESS/0130_2023/9mm_per_sec/-6mm_35W_028.raw\n",
      "/Users/chiaentsai/Box/MURI-SARA/Thermoreflectance/Joanne/CHESS/0130_2023/9mm_per_sec/-6mm_35W_029.raw\n",
      "/Users/chiaentsai/Box/MURI-SARA/Thermoreflectance/Joanne/CHESS/0130_2023/9mm_per_sec/-6mm_35W_030.raw\n",
      "/Users/chiaentsai/Box/MURI-SARA/Thermoreflectance/Joanne/CHESS/0130_2023/9mm_per_sec/-6mm_35W_031.raw\n",
      "/Users/chiaentsai/Box/MURI-SARA/Thermoreflectance/Joanne/CHESS/0130_2023/9mm_per_sec/-6mm_35W_032.raw\n",
      "/Users/chiaentsai/Box/MURI-SARA/Thermoreflectance/Joanne/CHESS/0130_2023/9mm_per_sec/-6mm_35W_033.raw\n",
      "/Users/chiaentsai/Box/MURI-SARA/Thermoreflectance/Joanne/CHESS/0130_2023/9mm_per_sec/-6mm_35W_034.raw\n",
      "/Users/chiaentsai/Box/MURI-SARA/Thermoreflectance/Joanne/CHESS/0130_2023/9mm_per_sec/-6mm_35W_035.raw\n",
      "/Users/chiaentsai/Box/MURI-SARA/Thermoreflectance/Joanne/CHESS/0130_2023/9mm_per_sec/-6mm_35W_036.raw\n",
      "/Users/chiaentsai/Box/MURI-SARA/Thermoreflectance/Joanne/CHESS/0130_2023/9mm_per_sec/-6mm_35W_037.raw\n"
     ]
    },
    {
     "name": "stderr",
     "output_type": "stream",
     "text": [
      " 98%|████████████████████████████████████████▏| 638/650 [00:45<00:02,  5.09it/s]"
     ]
    },
    {
     "name": "stdout",
     "output_type": "stream",
     "text": [
      "/Users/chiaentsai/Box/MURI-SARA/Thermoreflectance/Joanne/CHESS/0130_2023/9mm_per_sec/-6mm_35W_038.raw\n",
      "/Users/chiaentsai/Box/MURI-SARA/Thermoreflectance/Joanne/CHESS/0130_2023/9mm_per_sec/-6mm_35W_039.raw\n"
     ]
    },
    {
     "name": "stderr",
     "output_type": "stream",
     "text": [
      "\r",
      " 98%|████████████████████████████████████████▎| 640/650 [00:46<00:02,  4.86it/s]"
     ]
    },
    {
     "name": "stdout",
     "output_type": "stream",
     "text": [
      "/Users/chiaentsai/Box/MURI-SARA/Thermoreflectance/Joanne/CHESS/0130_2023/9mm_per_sec/-6mm_35W_040.raw\n",
      "/Users/chiaentsai/Box/MURI-SARA/Thermoreflectance/Joanne/CHESS/0130_2023/9mm_per_sec/-6mm_35W_041.raw\n",
      "/Users/chiaentsai/Box/MURI-SARA/Thermoreflectance/Joanne/CHESS/0130_2023/9mm_per_sec/-6mm_35W_042.raw\n",
      "/Users/chiaentsai/Box/MURI-SARA/Thermoreflectance/Joanne/CHESS/0130_2023/9mm_per_sec/-6mm_35W_043.raw\n",
      "/Users/chiaentsai/Box/MURI-SARA/Thermoreflectance/Joanne/CHESS/0130_2023/9mm_per_sec/-6mm_35W_044.raw\n",
      "/Users/chiaentsai/Box/MURI-SARA/Thermoreflectance/Joanne/CHESS/0130_2023/9mm_per_sec/-6mm_35W_045.raw\n"
     ]
    },
    {
     "name": "stderr",
     "output_type": "stream",
     "text": [
      "\r",
      " 99%|████████████████████████████████████████▋| 646/650 [00:47<00:00,  4.79it/s]"
     ]
    },
    {
     "name": "stdout",
     "output_type": "stream",
     "text": [
      "/Users/chiaentsai/Box/MURI-SARA/Thermoreflectance/Joanne/CHESS/0130_2023/9mm_per_sec/-6mm_35W_046.raw\n",
      "/Users/chiaentsai/Box/MURI-SARA/Thermoreflectance/Joanne/CHESS/0130_2023/9mm_per_sec/-6mm_35W_047.raw\n",
      "/Users/chiaentsai/Box/MURI-SARA/Thermoreflectance/Joanne/CHESS/0130_2023/9mm_per_sec/-6mm_35W_048.raw\n",
      "/Users/chiaentsai/Box/MURI-SARA/Thermoreflectance/Joanne/CHESS/0130_2023/9mm_per_sec/-6mm_35W_049.raw\n"
     ]
    },
    {
     "name": "stderr",
     "output_type": "stream",
     "text": [
      "100%|█████████████████████████████████████████| 650/650 [00:52<00:00, 12.48it/s]\n"
     ]
    }
   ],
   "source": [
    "for i, (key, value) in enumerate(all_files.items()):\n",
    "    power = [int(x) for x in power_list[i]][1:]\n",
    "    files = all_files[key]\n",
    "    \n",
    "    for p in power:\n",
    "        dR_list = []\n",
    "        for file in tqdm(files):\n",
    "            if \"_{}W_\".format(p) in str(file):\n",
    "                print(str(file))\n",
    "                dR = get_peak_dRoverR(file, back_intensity_list[i], gaus, gaus)\n",
    "                dR_list.append(dR)\n",
    "                \n",
    "        #convert the frame number to position\n",
    "        #x = [(frame-2.7)*int(key)/92.59 for frame in range(1,len(temp_list)+1)] \n",
    "        \n",
    "        x = [frame for frame in range(0,len(dR_list))] \n",
    "        \n",
    "        \n",
    "        plt.plot(x, dR_list, marker=\"o\")\n",
    "        \n",
    "        #limit temperature to 1500C\n",
    "        #plt.ylim(0,1500)\n",
    "        \n",
    "        #limit position to 1-10mm\n",
    "        #plt.xlim(0,5)\n",
    "\n",
    "    plt.savefig(\"/Users/chiaentsai/Desktop/lab/Temperature_Calibration/0130_dRoverR_vs_frame/{}mmpersec\".format(key), format=\"PNG\")\n",
    "    plt.close()"
   ]
  },
  {
   "cell_type": "markdown",
   "id": "86c9e61a",
   "metadata": {},
   "source": [
    "### Plot all powers dR/R for each veloty"
   ]
  },
  {
   "cell_type": "code",
   "execution_count": 144,
   "id": "29bb3644",
   "metadata": {},
   "outputs": [],
   "source": [
    "for i, v in enumerate(list(Si_melting_W.keys())):\n",
    "    plt.plot(power_used[v], dRoverR_1[i], '.')\n",
    "    plt.xlabel(\"power\")\n",
    "    plt.ylabel(\"dR/R\")\n",
    "    plt.savefig(\"/Users/chiaentsai/Desktop/lab/Temperature_Calibration/0130_dRoverR_figure/{}mm.png\".format(v), format=\"PNG\")\n",
    "    plt.close()"
   ]
  },
  {
   "cell_type": "markdown",
   "id": "557badb7",
   "metadata": {},
   "source": [
    "### get kappa (use glod and Si melting power)"
   ]
  },
  {
   "cell_type": "code",
   "execution_count": 212,
   "id": "2d81ef54",
   "metadata": {},
   "outputs": [
    {
     "name": "stderr",
     "output_type": "stream",
     "text": [
      "/Users/chiaentsai/.virtualenvs/venv/lib/python3.9/site-packages/scipy/optimize/_minpack_py.py:833: OptimizeWarning: Covariance of the parameters could not be estimated\n",
      "  warnings.warn('Covariance of the parameters could not be estimated',\n"
     ]
    }
   ],
   "source": [
    "# gold and Si melt\n",
    "import scipy.optimize\n",
    "kappa_avg = []\n",
    "for i, v in enumerate(list(Si_melting_W.keys())):\n",
    "    popt, pcov = curve_fit(expo, power_used[v], dRoverR_1[i], p0 = [1, 0.00000000672, 1], maxfev = 10000)\n",
    "    #a, b, c = popt\n",
    "    plt.plot(power_used[v], dRoverR_1[i], '.')\n",
    "    y_pred = [expo(j, *popt) for j in power_used[v]]\n",
    "    plt.plot(power_used[v], y_pred)\n",
    "    plt.xlabel(\"power\")\n",
    "    plt.ylabel(\"dR/R\")\n",
    "    plt.savefig(\"/Users/chiaentsai/Desktop/lab/Temperature_Calibration/0130_Si&gold_dRoverR_fit_figure/{}mm.png\".format(v), format=\"PNG\")\n",
    "    plt.close()\n",
    "    \n",
    "    \n",
    "    fun = lambda k: (expo(Si_melting_W[v], *popt) - (1410-21)*k)**2 + (expo(gold_melting_W[v], *popt) - (1064-21)*k)**2\n",
    "    res = scipy.optimize.minimize(fun, 0.00016)\n",
    "    temp_pred = [expo(j, *popt)/res.x for j in power_used[v]]\n",
    "    plt.plot(power_used[v], temp_pred)\n",
    "    \n",
    "    plt.plot(Si_melting_W[v], 1410, marker=\"o\",color = 'r', label='Si')\n",
    "    plt.plot(gold_melting_W[v], 1064, marker=\"o\", color = 'g', label='gold')\n",
    "    plt.legend(loc=\"upper left\")\n",
    "    plt.xlabel(\"power\")\n",
    "    plt.ylabel(\"temperature\")\n",
    "    plt.savefig(\"/Users/chiaentsai/Desktop/lab/Temperature_Calibration/0130_gold_Si_fit/{}mm.png\".format(v), format=\"PNG\")\n",
    "    plt.close()\n",
    "    \n",
    "#     f = expo(Si_melting_W[v], *popt)\n",
    "#     gold_m = 1410\n",
    "#     dT = gold_m - 21\n",
    "#     kappa = f / dT\n",
    "    kappa_avg.append(float(res.x))\n",
    "    \n",
    "Dict_kappa_avg = dict(zip(list(Si_melting_W.keys()),kappa_avg))\n",
    "\n",
    "plt.plot(list(Si_melting_W.keys()), kappa_avg, '.')\n",
    "plt.savefig(\"/Users/chiaentsai/Desktop/lab/Temperature_Calibration/0130_kappa_gold&Si.png\", format=\"PNG\")"
   ]
  },
  {
   "cell_type": "code",
   "execution_count": 214,
   "id": "4083b316",
   "metadata": {},
   "outputs": [
    {
     "data": {
      "text/plain": [
       "0.0001985343707911487"
      ]
     },
     "execution_count": 214,
     "metadata": {},
     "output_type": "execute_result"
    }
   ],
   "source": [
    "con = 0\n",
    "for i, v in enumerate(Dict_kappa_avg.keys()):\n",
    "    con = con + Dict_kappa_avg[v]\n",
    "kappa_avg = con / len(Dict_kappa_avg)\n",
    "kappa_avg"
   ]
  },
  {
   "cell_type": "code",
   "execution_count": 215,
   "id": "6368556c",
   "metadata": {},
   "outputs": [],
   "source": [
    "peak_temp = []\n",
    "for i, v in enumerate(list(Si_melting_W.keys())):\n",
    "    tem = []\n",
    "    for r in dRoverR_1[i]:\n",
    "        t = get_peak_Temp(r, Dict_kappa_avg[v])\n",
    "#         t = get_peak_Temp(r,avg_kappa)\n",
    "#         t = get_peak_Temp(r,0.00016498400434141028)\n",
    "#         t = get_peak_Temp(r, Dict_kappa_gold_avg[v])\n",
    "#         t = get_peak_Temp(r, avg_kappa_2)\n",
    "#         t = get_peak_Temp(r, Dict_kappa_avg[v])\n",
    "        tem.append(t)\n",
    "    peak_temp.append(tem)\n",
    "    \n",
    "Dict_peak_temp = dict(zip(list(Si_melting_W.keys()),peak_temp))"
   ]
  },
  {
   "cell_type": "markdown",
   "id": "974fa992",
   "metadata": {},
   "source": [
    "### fit plane f(power, log10 velocity) = Tpeak"
   ]
  },
  {
   "cell_type": "code",
   "execution_count": 216,
   "id": "755a8f30",
   "metadata": {},
   "outputs": [
    {
     "name": "stdout",
     "output_type": "stream",
     "text": [
      "Using matplotlib backend: MacOSX\n",
      "[ 3.24538468e+02 -6.73460437e+01 -5.55080801e+02  6.45543563e+01\n",
      "  1.20511020e+03  1.14529676e+00  3.33360695e-02  3.41222164e+00]\n",
      "1098.2785889930235\n"
     ]
    },
    {
     "name": "stderr",
     "output_type": "stream",
     "text": [
      "/var/folders/f7/kn96xdj93ss0t67sn2q10n6c0000gn/T/ipykernel_84506/507234216.py:25: MatplotlibDeprecationWarning: Axes3D(fig) adding itself to the figure is deprecated since 3.4. Pass the keyword argument auto_add_to_figure=False and use fig.add_axes(ax) to suppress this warning. The default value of auto_add_to_figure will change to False in mpl3.5 and True values will no longer work in 3.6.  This is consistent with other Axes classes.\n",
      "  axes = Axes3D(f)\n"
     ]
    }
   ],
   "source": [
    "import numpy, scipy, scipy.optimize\n",
    "import matplotlib\n",
    "from mpl_toolkits.mplot3d import  Axes3D\n",
    "from matplotlib import cm # to colormap 3D surfaces from blue to red\n",
    "import matplotlib.pyplot as plt\n",
    "%matplotlib\n",
    "\n",
    "# def function(data, b, c, d, e, f):\n",
    "#     x = np.array(data[0])\n",
    "#     y = np.array(data[1])\n",
    "#     return (b*y+c)*(x)**(d*y**2+e*y+f)\n",
    "\n",
    "def function(data, a, b, c, d, e, f, g, h):\n",
    "    x = np.array(data[0])\n",
    "    y = np.array(data[1])\n",
    "    return (a+b*y+h*y**2)*x**(f+g*y) + (c+d*y)*x + e\n",
    "\n",
    "# def function(data, a, b, c, d, e, f, g, h, i, j):\n",
    "#     x = np.array(data[0])\n",
    "#     y = np.array(data[1])\n",
    "#     return (a+b*y+h*y**2)*x**(f+g*y) + (c+d*y)*x + e +i*x**2 + j*y**2\n",
    "\n",
    "f = plt.figure(figsize=(20.0, 20.0), dpi=20)\n",
    "matplotlib.pyplot.grid(True)\n",
    "axes = Axes3D(f)\n",
    "\n",
    "points = []\n",
    "for i, v in enumerate(list(Si_melting_W.keys())):\n",
    "    P = [int(p) for p in power_used[v]]\n",
    "    V = [np.log(int(v))] * len(Dict_peak_temp[v])\n",
    "    T = Dict_peak_temp[v]\n",
    "    point = [list(x) for x in zip(*[P,V,T])]\n",
    "    points.append(point)\n",
    "\n",
    "x_data = []\n",
    "y_data = []\n",
    "z_data = []\n",
    "for velo in points:\n",
    "    for item in velo:\n",
    "        x_data.append(item[0]) # power\n",
    "        y_data.append(item[1]) # velocity\n",
    "        z_data.append(item[2]) # temperature\n",
    "        \n",
    "x_data, y_data, z_data = np.array(x_data), np.array(y_data), np.array(z_data)\n",
    "\n",
    "mask = z_data > 400\n",
    "x_data = x_data[mask]\n",
    "y_data = y_data[mask]\n",
    "z_data = z_data[mask]\n",
    "\n",
    "parameters, covariance = curve_fit(function, [x_data, y_data], z_data,  maxfev=1000000)\n",
    "print(parameters)\n",
    "model_x_data = np.linspace(min(x_data), max(x_data), 30)\n",
    "model_y_data = np.linspace(min(y_data), max(y_data), 30)\n",
    "X, Y = np.meshgrid(model_x_data, model_y_data)\n",
    "Z = function(np.array([X, Y]), *parameters)\n",
    "\n",
    "z_predicted = function([x_data, y_data], *parameters)\n",
    "differences = np.subtract(z_data, z_predicted)\n",
    "squared_differences = np.square(differences)\n",
    "mse = squared_differences.mean()\n",
    "\n",
    "\n",
    "axes.plot_surface(X, Y, Z, cmap=cm.hot, alpha=0.2)\n",
    "\n",
    "# for i, v in enumerate(list(Dict_kappa_Si_avg.keys())):\n",
    "#     v_data = [np.log(int(v))] * len(Dict_peak_temp[v])\n",
    "#     p_data = [int(p) for p in power_used[i]]\n",
    "#     t_data = Dict_peak_temp[v]\n",
    "#     axes.scatter(p_data, v_data, t_data, s = 250)\n",
    "axes.scatter(x_data, y_data, z_data, s=500)\n",
    "    \n",
    "\n",
    "axes.set_title('Scatter Plot')\n",
    "axes.set_xlabel('power - W', fontsize=30, labelpad=40)\n",
    "axes.set_ylabel('ln(velocity) - mm/s',fontsize=30, labelpad=40)\n",
    "axes.set_zlabel('peak temperature - C', fontsize=30, labelpad=40)\n",
    "axes.set_zlim(400, 1400)\n",
    "\n",
    "axes.tick_params(axis='both', which='major', labelsize=30)\n",
    "\n",
    "plt.show()\n",
    "print(mse)"
   ]
  },
  {
   "cell_type": "markdown",
   "id": "28960ede",
   "metadata": {},
   "source": [
    "### converter"
   ]
  },
  {
   "cell_type": "code",
   "execution_count": 157,
   "id": "24523dd6",
   "metadata": {},
   "outputs": [],
   "source": [
    "parameters_T = np.array([ 3.39168117e+02, -6.94969508e+01, -5.71941767e+02 , 6.64344902e+01,\n",
    "  1.21060591e+03 , 1.14179479e+00 , 3.21814020e-02 , 3.45523279e+00])\n",
    "\n",
    "def get_power(dwell, Tpeak):\n",
    "    v = 88200/dwell\n",
    "    lnv = np.log(v)\n",
    "    a, b, c, d, e, f, g, h= parameters_T\n",
    "    eq1 = lambda x: (a+b*lnv+h*lnv**2)*x**(f+g*lnv) + (c+d*lnv)*x + e  - Tpeak\n",
    "    sol = leastsq(eq1, 100)\n",
    "    #return float(sol[0], sol[1]), float(sol[1])\n",
    "    return float(sol[0])"
   ]
  },
  {
   "cell_type": "code",
   "execution_count": 158,
   "id": "ac422b40",
   "metadata": {},
   "outputs": [
    {
     "data": {
      "text/plain": [
       "37.99580730785868"
      ]
     },
     "execution_count": 158,
     "metadata": {},
     "output_type": "execute_result"
    }
   ],
   "source": [
    "get_power(88200/352, 660)"
   ]
  },
  {
   "cell_type": "markdown",
   "id": "661444dd",
   "metadata": {},
   "source": [
    "### plot temperature vs power"
   ]
  },
  {
   "cell_type": "code",
   "execution_count": 159,
   "id": "5ec13d75",
   "metadata": {},
   "outputs": [
    {
     "name": "stdout",
     "output_type": "stream",
     "text": [
      "Using matplotlib backend: MacOSX\n"
     ]
    },
    {
     "data": {
      "text/plain": [
       "<matplotlib.legend.Legend at 0x7f8846823df0>"
      ]
     },
     "execution_count": 159,
     "metadata": {},
     "output_type": "execute_result"
    }
   ],
   "source": [
    "import matplotlib.pyplot as plt\n",
    "%matplotlib\n",
    "\n",
    "for velocity in np.unique(y_data):\n",
    "    mask = y_data == velocity\n",
    "    plt.plot(x_data[mask], z_data[mask])\n",
    "\n",
    "#plt.gca().legend(('103','13', '155','190','20', '234', '30', '352', '45', '68','9')) 錯"
   ]
  },
  {
   "cell_type": "markdown",
   "id": "deb9afd4",
   "metadata": {},
   "source": [
    "### fit plane f(Tpeak, log10 tau) = power (beamwidth needed)"
   ]
  },
  {
   "cell_type": "code",
   "execution_count": 160,
   "id": "45dff728",
   "metadata": {},
   "outputs": [
    {
     "name": "stdout",
     "output_type": "stream",
     "text": [
      "Using matplotlib backend: MacOSX\n"
     ]
    },
    {
     "name": "stderr",
     "output_type": "stream",
     "text": [
      "/var/folders/f7/kn96xdj93ss0t67sn2q10n6c0000gn/T/ipykernel_84506/168898424.py:32: MatplotlibDeprecationWarning: Axes3D(fig) adding itself to the figure is deprecated since 3.4. Pass the keyword argument auto_add_to_figure=False and use fig.add_axes(ax) to suppress this warning. The default value of auto_add_to_figure will change to False in mpl3.5 and True values will no longer work in 3.6.  This is consistent with other Axes classes.\n",
      "  axes = Axes3D(f)\n"
     ]
    },
    {
     "name": "stdout",
     "output_type": "stream",
     "text": [
      "[ 4.86718736e+00  7.43958172e-04 -4.82340544e+00  1.00026791e+00\n",
      " -1.52660272e+00  2.35752595e+01  2.53819054e+01]\n",
      "2.2866150043989744\n"
     ]
    }
   ],
   "source": [
    "beamwidth = 88200\n",
    "\n",
    "import numpy, scipy, scipy.optimize\n",
    "import matplotlib\n",
    "from mpl_toolkits.mplot3d import  Axes3D\n",
    "from matplotlib import cm # to colormap 3D surfaces from blue to red\n",
    "import matplotlib.pyplot as plt\n",
    "%matplotlib\n",
    "\n",
    "# def function(data, b, c, d, e, f):\n",
    "#     x = np.array(data[0])\n",
    "#     y = np.array(data[1])\n",
    "#     return (b*y+c)*(x)**(d*y**2+e*y+f)\n",
    "\n",
    "# def function(data, a, b, c, d, e, f, g, h):\n",
    "#     x = np.array(data[0])\n",
    "#     y = np.array(data[1])\n",
    "#     return (a+b*y+h*y**2)*x**(f+g*y) + (c+d*y)*x + e\n",
    "\n",
    "# def function(data, a, b, c, d, e, f, g, h, i, j):\n",
    "#     x = np.array(data[0])\n",
    "#     y = np.array(data[1])\n",
    "#     return (a+b*y+h*y**2)*x**(f+g*y) + (c+d*y)*x + e +i*x**2 + j*y**2\n",
    "\n",
    "def function(data, a, b, c, d, e, f, g):\n",
    "    x = np.array(data[0])\n",
    "    y = np.array(data[1])\n",
    "    return (a*x**b)*(c*y**d)+e*x+f*y+g\n",
    "\n",
    "f = plt.figure(figsize=(20.0, 20.0), dpi=20)\n",
    "matplotlib.pyplot.grid(True)\n",
    "axes = Axes3D(f)\n",
    "\n",
    "points = []\n",
    "for i, v in enumerate(list(Si_melting_W.keys())):\n",
    "    P = [int(p) for p in power_used[v]]\n",
    "    tau = [np.log(beamwidth / int(v))] * len(Dict_peak_temp[v])\n",
    "    T = Dict_peak_temp[v]\n",
    "    point = [list(x) for x in zip(*[tau,T,P])]\n",
    "    points.append(point)\n",
    "\n",
    "x_data = []\n",
    "y_data = []\n",
    "z_data = []\n",
    "for velo in points:\n",
    "    for item in velo:\n",
    "        x_data.append(item[0]) # tau/dwell time\n",
    "        y_data.append(item[1]) # T\n",
    "        z_data.append(item[2]) # power\n",
    "        \n",
    "x_data, y_data, z_data = np.array(x_data), np.array(y_data), np.array(z_data)\n",
    "\n",
    "mask = y_data > 400\n",
    "x_data = x_data[mask]\n",
    "y_data = y_data[mask]\n",
    "z_data = z_data[mask]\n",
    "\n",
    "parameters, covariance = curve_fit(function, [x_data, y_data], z_data,  maxfev=100000)\n",
    "print(parameters)\n",
    "model_x_data = np.linspace(min(x_data), max(x_data), 30)\n",
    "model_y_data = np.linspace(min(y_data), max(y_data), 30)\n",
    "X, Y = np.meshgrid(model_x_data, model_y_data)\n",
    "Z = function(np.array([X, Y]), *parameters)\n",
    "\n",
    "z_predicted = function([x_data, y_data], *parameters)\n",
    "differences = np.subtract(z_data, z_predicted)\n",
    "squared_differences = np.square(differences)\n",
    "mse = squared_differences.mean()\n",
    "\n",
    "\n",
    "axes.plot_surface(X, Y, Z, cmap=cm.hot, alpha=0.2)\n",
    "\n",
    "# for i, v in enumerate(list(Dict_kappa_Si_avg.keys())):\n",
    "#     v_data = [np.log(int(v))] * len(Dict_peak_temp[v])\n",
    "#     p_data = [int(p) for p in power_used[i]]\n",
    "#     t_data = Dict_peak_temp[v]\n",
    "#     axes.scatter(p_data, v_data, t_data, s = 250)\n",
    "axes.scatter(x_data, y_data, z_data, s=500)\n",
    "    \n",
    "\n",
    "axes.set_title('Scatter Plot')\n",
    "axes.set_xlabel('tau/dwell time', fontsize=30, labelpad=40)\n",
    "axes.set_ylabel('Tpeak - Celsius',fontsize=30, labelpad=40)\n",
    "axes.set_zlabel('Power - W', fontsize=30, labelpad=40)\n",
    "axes.set_ylim(400, 1400)\n",
    "#axes.set_zlim(400, 1400)\n",
    "\n",
    "axes.tick_params(axis='both', which='major', labelsize=30)\n",
    "\n",
    "plt.show()\n",
    "print(mse)"
   ]
  },
  {
   "cell_type": "code",
   "execution_count": 161,
   "id": "f95f9e10",
   "metadata": {},
   "outputs": [],
   "source": [
    "import numpy as np\n",
    "from scipy.optimize import leastsq\n",
    "\n",
    "parameters_to_power = np.array([ 2.78578022e+00 , 4.05135921e-04 ,-2.72091616e+00 , 1.00170654e+00,\n",
    " -4.35336455e+00 , 7.70163967e+00 , 4.91353859e+01])\n",
    "\n",
    "def get_power_2(dwell, Tpeak):\n",
    "    lntau = np.log(dwell)\n",
    "    the_input = [lntau,Tpeak]\n",
    "    a, b, c, d, e, f, g= parameters_to_power\n",
    "    \n",
    "    return function(the_input, a, b, c, d, e, f, g)"
   ]
  },
  {
   "cell_type": "code",
   "execution_count": 162,
   "id": "dc8d382c",
   "metadata": {},
   "outputs": [
    {
     "data": {
      "text/plain": [
       "46.215339271727245"
      ]
     },
     "execution_count": 162,
     "metadata": {},
     "output_type": "execute_result"
    }
   ],
   "source": [
    "get_power_2(88200/352, 660)"
   ]
  },
  {
   "cell_type": "code",
   "execution_count": null,
   "id": "7e65f3b9",
   "metadata": {},
   "outputs": [],
   "source": []
  }
 ],
 "metadata": {
  "kernelspec": {
   "display_name": "Python 3 (ipykernel)",
   "language": "python",
   "name": "python3"
  },
  "language_info": {
   "codemirror_mode": {
    "name": "ipython",
    "version": 3
   },
   "file_extension": ".py",
   "mimetype": "text/x-python",
   "name": "python",
   "nbconvert_exporter": "python",
   "pygments_lexer": "ipython3",
   "version": "3.9.0"
  }
 },
 "nbformat": 4,
 "nbformat_minor": 5
}
