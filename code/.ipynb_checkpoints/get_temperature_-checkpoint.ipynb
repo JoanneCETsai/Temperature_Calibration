{
 "cells": [
  {
   "cell_type": "code",
   "execution_count": 5,
   "id": "07adac81",
   "metadata": {},
   "outputs": [],
   "source": [
    "%run \"data_processing_.ipynb\""
   ]
  },
  {
   "cell_type": "code",
   "execution_count": 6,
   "id": "0601f8e6",
   "metadata": {},
   "outputs": [],
   "source": [
    "def get_peak_T(file, b_file, func, maxs_func, kappa_avg):\n",
    "    peak = peak_dRoverR(file, b_file, func, maxs_func)\n",
    "    deltaT = peak / kappa_avg\n",
    "    T = 21 + deltaT\n",
    "    return T"
   ]
  },
  {
   "cell_type": "code",
   "execution_count": 7,
   "id": "9bc6abbd",
   "metadata": {},
   "outputs": [],
   "source": [
    "def get_peak_Tem(file, back_intensity, func, maxs_func, kappa_avg):\n",
    "    peak = get_peak_dRoverR(file, back_intensity, func, maxs_func)\n",
    "    deltaT = peak / kappa_avg\n",
    "    T = 21 + deltaT\n",
    "    return T"
   ]
  },
  {
   "cell_type": "code",
   "execution_count": 11,
   "id": "7da39590",
   "metadata": {},
   "outputs": [],
   "source": [
    "def get_peak_Temp(dRoverR, kappa_avg):\n",
    "    deltaT = dRoverR / kappa_avg\n",
    "    T = 21 + deltaT\n",
    "    return T"
   ]
  },
  {
   "cell_type": "code",
   "execution_count": null,
   "id": "c7af16fe",
   "metadata": {},
   "outputs": [],
   "source": []
  }
 ],
 "metadata": {
  "kernelspec": {
   "display_name": "Python 3 (ipykernel)",
   "language": "python",
   "name": "python3"
  },
  "language_info": {
   "codemirror_mode": {
    "name": "ipython",
    "version": 3
   },
   "file_extension": ".py",
   "mimetype": "text/x-python",
   "name": "python",
   "nbconvert_exporter": "python",
   "pygments_lexer": "ipython3",
   "version": "3.9.0"
  },
  "vscode": {
   "interpreter": {
    "hash": "05a9d8f434e6f97949f116bb3fd6e0132cb85e41e1947128ba85095efa1eda1d"
   }
  }
 },
 "nbformat": 4,
 "nbformat_minor": 5
}
