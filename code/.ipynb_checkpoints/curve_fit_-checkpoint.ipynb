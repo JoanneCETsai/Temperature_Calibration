{
 "cells": [
  {
   "cell_type": "markdown",
   "id": "627fc0c3",
   "metadata": {},
   "source": [
    "## Fitting a line function"
   ]
  },
  {
   "cell_type": "code",
   "execution_count": 1,
   "id": "35d5e1d6",
   "metadata": {},
   "outputs": [],
   "source": [
    "%run \"data_processing_.ipynb\"\n",
    "from scipy.optimize import leastsq"
   ]
  },
  {
   "cell_type": "code",
   "execution_count": 10,
   "id": "752f3ef2",
   "metadata": {},
   "outputs": [],
   "source": [
    "def fit(func, line):\n",
    "    xdata = np.linspace(0, len(line) - 1, len(line))\n",
    "    ydata = line\n",
    "    popt, pcov = curve_fit(func, xdata, ydata, maxfev = 100000000)\n",
    "    # popt, pcov = curve_fit(func, xdata, ydata, max_nfev = 100000000)\n",
    "    return popt"
   ]
  },
  {
   "cell_type": "markdown",
   "id": "cf8fc026",
   "metadata": {},
   "source": [
    "## getting maximum value of a fitting curve"
   ]
  },
  {
   "cell_type": "code",
   "execution_count": 6,
   "id": "7dc13ebc",
   "metadata": {},
   "outputs": [],
   "source": [
    "def get_max(line, func):\n",
    "    par = fit(func, line)\n",
    "    values = func(np.linspace(0, len(line) - 1, len(line)), *par) \n",
    "    return np.max(values)"
   ]
  },
  {
   "cell_type": "markdown",
   "id": "d4b07976",
   "metadata": {},
   "source": [
    "## get maxs of every x"
   ]
  },
  {
   "cell_type": "code",
   "execution_count": 4,
   "id": "ce6febb1",
   "metadata": {},
   "outputs": [],
   "source": [
    "def get_maxs(data,func):\n",
    "    maxs = np.zeros(X_right_boundry - X_left_boundry)\n",
    "    for i in range(X_right_boundry - X_left_boundry):\n",
    "        line = data[i,:]\n",
    "        line_max = get_max(line, func)\n",
    "        maxs[i] = line_max\n",
    "    return maxs\n",
    "\n",
    "# this is for testing\n",
    "\n",
    "# def get_maxs(data,func):\n",
    "#     maxs = np.zeros(Y_right_boundry - Y_left_boundry)\n",
    "#     for i in range(Y_right_boundry - Y_left_boundry):\n",
    "#         line = data[:,i]\n",
    "#         line_max = get_max(line, func)\n",
    "#         maxs[i] = line_max\n",
    "#     return maxs"
   ]
  },
  {
   "cell_type": "markdown",
   "id": "d3567e36",
   "metadata": {},
   "source": [
    "## get final fitting peak dR / R (one value) of a frame"
   ]
  },
  {
   "cell_type": "code",
   "execution_count": 6,
   "id": "56344b15",
   "metadata": {},
   "outputs": [],
   "source": [
    "def peak_dRoverR(file, b_file, func, maxs_func):\n",
    "    dRoverR = get_dRoverR(file, b_file)\n",
    "    maxs = get_maxs(dRoverR, func)\n",
    "    peak = get_max(maxs, maxs_func)\n",
    "    return peak"
   ]
  },
  {
   "cell_type": "markdown",
   "id": "9535a003",
   "metadata": {},
   "source": [
    "## get dR / R of every point of interested in a frame"
   ]
  },
  {
   "cell_type": "code",
   "execution_count": 7,
   "id": "a8f91733",
   "metadata": {},
   "outputs": [],
   "source": [
    "def get_dRoverR(file, b_file):\n",
    "    blue = get_data(file)\n",
    "    b_blue = get_data(b_file)\n",
    "    dRoverR = (blue - b_blue) / b_blue\n",
    "    return dRoverR"
   ]
  },
  {
   "cell_type": "markdown",
   "id": "2bb1283e",
   "metadata": {},
   "source": [
    "## fit x,y to z surface"
   ]
  },
  {
   "cell_type": "code",
   "execution_count": 3,
   "id": "afb41cdc",
   "metadata": {},
   "outputs": [],
   "source": [
    "def fit_xy_to_z_surface(x, y, z, func, par):\n",
    "    error_func = lambda p: np.ravel(func(*p)(x, y) - z)\n",
    "    pfit, pcov, infodict, errmsg, success = leastsq(error_func, par, full_output=1)\n",
    "    return pfit, pcov, infodict"
   ]
  },
  {
   "cell_type": "code",
   "execution_count": null,
   "id": "ec38759e",
   "metadata": {},
   "outputs": [],
   "source": []
  }
 ],
 "metadata": {
  "kernelspec": {
   "display_name": "Python 3 (ipykernel)",
   "language": "python",
   "name": "python3"
  },
  "language_info": {
   "codemirror_mode": {
    "name": "ipython",
    "version": 3
   },
   "file_extension": ".py",
   "mimetype": "text/x-python",
   "name": "python",
   "nbconvert_exporter": "python",
   "pygments_lexer": "ipython3",
   "version": "3.9.0"
  },
  "vscode": {
   "interpreter": {
    "hash": "05a9d8f434e6f97949f116bb3fd6e0132cb85e41e1947128ba85095efa1eda1d"
   }
  }
 },
 "nbformat": 4,
 "nbformat_minor": 5
}
