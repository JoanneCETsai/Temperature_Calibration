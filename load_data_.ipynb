{
 "cells": [
  {
   "cell_type": "code",
   "execution_count": 1,
   "id": "6afc6de1",
   "metadata": {},
   "outputs": [],
   "source": [
    "from pathlib import Path\n",
    "from enum import Enum\n",
    "import cv2\n",
    "from cv2 import imwrite\n",
    "from tqdm import tqdm\n",
    "import numpy as np\n",
    "import matplotlib.pyplot as plt\n",
    "import math\n",
    "from sklearn import preprocessing\n",
    "from time import time\n",
    "from scipy.optimize import curve_fit\n",
    "%matplotlib inline\n",
    "import scipy.stats\n",
    "from util import parse_fn, is_bg\n",
    "from scipy import stats\n",
    "from scipy.stats import skewnorm\n",
    "from scipy.special import erf\n",
    "from scipy.special import voigt_profile\n",
    "import os\n",
    "from pathlib import Path\n",
    "import os\n",
    "import re"
   ]
  },
  {
   "cell_type": "code",
   "execution_count": 1,
   "id": "0b138e85",
   "metadata": {},
   "outputs": [],
   "source": [
    "def get_needed_files(folder):\n",
    "\n",
    "    velocity_path_list = []\n",
    "    for root, dirs, files in os.walk(folder, topdown=False):\n",
    "        for name in dirs:\n",
    "            velocity_path_list.append(os.path.join(root, name))\n",
    "        \n",
    "    frames_of_different_v_list = [] # the length of the list = the number of velocity we measured\n",
    "    for item in velocity_path_list:\n",
    "        p_pathlist = Path(item).glob('**/*.raw')\n",
    "        p_path_list = []\n",
    "        for path in p_pathlist:\n",
    "            p_path_list.append(path)\n",
    "        frames_of_different_v_list.append(p_path_list)\n",
    "\n",
    "    velocity_list = []\n",
    "    for item in velocity_path_list:\n",
    "        velocity = re.findall(\"/(\\d+)mm\", item)\n",
    "        velocity_list.append(velocity)\n",
    "\n",
    "    Dict_all = dict(zip(list(np.concatenate(velocity_list)), frames_of_different_v_list))\n",
    "    \n",
    "\n",
    "    used_frame_num = []\n",
    "    for i in [int(t) for t in list(Dict_all.keys())]:\n",
    "        used_frame_num.append(round(5/i*40+1))\n",
    "\n",
    "    \n",
    " \n",
    "    all_5mm_files = []\n",
    "    for i in range(0,len(used_frame_num), 1):\n",
    "        files=[]\n",
    "        for file in os.listdir(velocity_path_list[i]):\n",
    "            if file.endswith(\"_00{}.raw\".format(used_frame_num[i])) or file.endswith(\"_0{}.raw\".format(used_frame_num[i])):\n",
    "                name = str(os.path.join(velocity_path_list[i], file))\n",
    "                files.append(name)\n",
    "        all_5mm_files.append(files)\n",
    "    \n",
    "    Dict_5mm = dict(zip(list(np.concatenate(velocity_list)), all_5mm_files))\n",
    "\n",
    "    return Dict_all, Dict_5mm, velocity_path_list, velocity_list, used_frame_num"
   ]
  },
  {
   "cell_type": "code",
   "execution_count": null,
   "id": "af899ca8",
   "metadata": {},
   "outputs": [],
   "source": []
  }
 ],
 "metadata": {
  "kernelspec": {
   "display_name": "Python 3.9.0 ('venv')",
   "language": "python",
   "name": "python3"
  },
  "language_info": {
   "codemirror_mode": {
    "name": "ipython",
    "version": 3
   },
   "file_extension": ".py",
   "mimetype": "text/x-python",
   "name": "python",
   "nbconvert_exporter": "python",
   "pygments_lexer": "ipython3",
   "version": "3.9.0"
  },
  "vscode": {
   "interpreter": {
    "hash": "05a9d8f434e6f97949f116bb3fd6e0132cb85e41e1947128ba85095efa1eda1d"
   }
  }
 },
 "nbformat": 4,
 "nbformat_minor": 5
}
