{
 "cells": [
  {
   "cell_type": "code",
   "execution_count": 4,
   "metadata": {},
   "outputs": [],
   "source": [
    "%run \"curve_fit_.ipynb\"\n",
    "%run \"data_processing_.ipynb\"\n",
    "%run \"evaluation_functions_.ipynb\"\n",
    "%run \"fitting_functions_.ipynb\"\n",
    "%run \"get_temperature_.ipynb\"\n",
    "%run \"load_data_.ipynb\"\n",
    "%run \"get_backbround_average_.ipynb\"\n",
    "%run \"frame_vs_temperature.ipynb\""
   ]
  },
  {
   "cell_type": "markdown",
   "metadata": {},
   "source": [
    "## 5mm frame figures"
   ]
  },
  {
   "cell_type": "markdown",
   "metadata": {},
   "source": [
    "### input: folder path (which contains all velocity folders)"
   ]
  },
  {
   "cell_type": "code",
   "execution_count": 15,
   "metadata": {},
   "outputs": [],
   "source": [
    "all_files, fivemm_files, velocity_path_list, velocity_list, used_frame_num = get_needed_files(\"/Users/chiaentsai/Box/MURI-SARA/Thermoreflectance/Joanne/11092022_2\")\n",
    "back_intensity_list = get_background_average(fivemm_files)\n",
    "power_list = get_powers(all_files)"
   ]
  },
  {
   "cell_type": "code",
   "execution_count": null,
   "metadata": {},
   "outputs": [],
   "source": [
    "for v in list(fivemm_files.keys()):\n",
    "    for i, item in enumerate(fivemm_files[v]):\n",
    "        fig = get_blue(item)\n",
    "        plt.imshow(fig)\n",
    "        plt.savefig(\"/Users/chiaentsai/Desktop/lab/Temperature_Calibration/5mm_frame_figure/{}mm_5mmframe_{}.png\".format(v,i), format=\"PNG\")\n",
    "        plt.close()"
   ]
  },
  {
   "cell_type": "markdown",
   "metadata": {},
   "source": [
    "## 5mm frame figures (no background)"
   ]
  },
  {
   "cell_type": "markdown",
   "metadata": {},
   "source": [
    "### input: folder path (which contains all velocity folders)"
   ]
  },
  {
   "cell_type": "code",
   "execution_count": 3,
   "metadata": {},
   "outputs": [],
   "source": [
    "'''\n",
    "all_files, fivemm_files, velocity_path_list, velocity_list, used_frame_num = get_needed_files(\"/Users/chiaentsai/Box/MURI-SARA/Thermoreflectance/Joanne/11092022_1\")\n",
    "back_intensity_list = get_background_average(fivemm_files)\n",
    "power_list = get_powers(all_files)\n",
    "'''"
   ]
  },
  {
   "cell_type": "code",
   "execution_count": 16,
   "metadata": {},
   "outputs": [],
   "source": [
    "for I, v in enumerate(list(fivemm_files.keys())):\n",
    "    for i, item in enumerate(fivemm_files[v]):\n",
    "        original = get_blue(item)\n",
    "        back = back_intensity_list[I]\n",
    "        fig = original - back\n",
    "        plt.imshow(fig)\n",
    "        plt.savefig(\"/Users/chiaentsai/Desktop/lab/Temperature_Calibration/5mm_frame_noback_figure/{}mm_5mmframe_{}.png\".format(v,i), format=\"PNG\")\n",
    "        plt.close()"
   ]
  },
  {
   "cell_type": "markdown",
   "metadata": {},
   "source": [
    "### temperature vs frame"
   ]
  },
  {
   "cell_type": "markdown",
   "metadata": {},
   "source": [
    "### input: folder path (which contains all velocity folders)"
   ]
  },
  {
   "cell_type": "code",
   "execution_count": null,
   "metadata": {},
   "outputs": [],
   "source": [
    "'''\n",
    "all_files, fivemm_files, velocity_path_list, velocity_list, used_frame_num = get_needed_files(\"/Users/chiaentsai/Box/MURI-SARA/Thermoreflectance/Joanne/11092022_1\")\n",
    "back_intensity_list = get_background_average(fivemm_files)\n",
    "power_list = get_powers(all_files)\n",
    "'''"
   ]
  },
  {
   "cell_type": "code",
   "execution_count": null,
   "metadata": {},
   "outputs": [],
   "source": [
    "for i, (key, value) in enumerate(all_files.items()):\n",
    "    power = [int(x) for x in power_list[i]][1:]\n",
    "    files = all_files[key]\n",
    "    \n",
    "    for p in power:\n",
    "        temp_list = []\n",
    "        for file in files:\n",
    "            if \"_{}W_\".format(p) in str(file):\n",
    "                temp = get_peak_Tem(file, back_intensity_list[i], poly5, poly5, 0.00018)\n",
    "                temp_list.append(temp)\n",
    "        plt.plot(temp_list)\n",
    "\n",
    "    plt.savefig(\"/Users/chiaentsai/Desktop/lab/Temperature_Calibration/Temp_vs_frame/{}mmpersec\".format(key), format=\"PNG\")\n",
    "    plt.close()"
   ]
  },
  {
   "cell_type": "code",
   "execution_count": null,
   "metadata": {},
   "outputs": [],
   "source": [
    "for i, (key, value) in enumerate(all_files_2.items()):\n",
    "    power = [int(x) for x in power_list_2[i]][1:]\n",
    "    files = all_files_2[key]\n",
    "    \n",
    "    for p in power:\n",
    "        temp_list = []\n",
    "        for file in files:\n",
    "            if \"_{}W_\".format(p) in str(file):\n",
    "                temp = get_peak_Tem(file, back_intensity_list_2[i], poly5, poly5, 0.00018)\n",
    "                temp_list.append(temp)\n",
    "        plt.plot(temp_list)\n",
    "\n",
    "    plt.savefig(\"/Users/chiaentsai/Desktop/lab/Temperature_Calibration/Temp_vs_frame_2/{}mmpersec\".format(key), format=\"PNG\")\n",
    "    plt.close()"
   ]
  },
  {
   "cell_type": "code",
   "execution_count": null,
   "metadata": {},
   "outputs": [],
   "source": [
    "for i, (key, value) in enumerate(all_files_3.items()):\n",
    "    power = [int(x) for x in power_list_3[i]][1:]\n",
    "    files = all_files_3[key]\n",
    "    \n",
    "    for p in power:\n",
    "        temp_list = []\n",
    "        for file in files:\n",
    "            if \"_{}W_\".format(p) in str(file):\n",
    "                temp = get_peak_Tem(file, back_intensity_list_3[i], poly5, poly5, 0.00018)\n",
    "                temp_list.append(temp)\n",
    "        plt.plot(temp_list)\n",
    "\n",
    "    plt.savefig(\"/Users/chiaentsai/Desktop/lab/Temperature_Calibration/Temp_vs_frame_3/{}mmpersec\".format(key), format=\"PNG\")\n",
    "    plt.close()"
   ]
  },
  {
   "cell_type": "code",
   "execution_count": null,
   "metadata": {},
   "outputs": [],
   "source": [
    "for i, (key, value) in enumerate(all_files_4.items()):\n",
    "    power = [int(x) for x in power_list_4[i]][1:]\n",
    "    files = all_files_4[key]\n",
    "    \n",
    "    for p in power:\n",
    "        temp_list = []\n",
    "        for file in files:\n",
    "            if \"_{}W_\".format(p) in str(file):\n",
    "                temp = get_peak_Tem(file, back_intensity_list_4[i], poly5, poly5, 0.00018)\n",
    "                temp_list.append(temp)\n",
    "        plt.plot(temp_list)\n",
    "\n",
    "    plt.savefig(\"/Users/chiaentsai/Desktop/lab/Temperature_Calibration/Temp_vs_frame_4/{}mmpersec\".format(key), format=\"PNG\")\n",
    "    plt.close()"
   ]
  }
 ],
 "metadata": {
  "kernelspec": {
   "display_name": "Python 3.9.0 ('venv')",
   "language": "python",
   "name": "python3"
  },
  "language_info": {
   "codemirror_mode": {
    "name": "ipython",
    "version": 3
   },
   "file_extension": ".py",
   "mimetype": "text/x-python",
   "name": "python",
   "nbconvert_exporter": "python",
   "pygments_lexer": "ipython3",
   "version": "3.9.0"
  },
  "orig_nbformat": 4,
  "vscode": {
   "interpreter": {
    "hash": "05a9d8f434e6f97949f116bb3fd6e0132cb85e41e1947128ba85095efa1eda1d"
   }
  }
 },
 "nbformat": 4,
 "nbformat_minor": 2
}
