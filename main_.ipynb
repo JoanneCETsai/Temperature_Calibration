{
 "cells": [
  {
   "cell_type": "code",
   "execution_count": 157,
   "id": "3723a1f8",
   "metadata": {},
   "outputs": [],
   "source": [
    "%run \"curve_fit_.ipynb\"\n",
    "%run \"data_processing_.ipynb\"\n",
    "%run \"evaluation_functions_.ipynb\"\n",
    "%run \"fitting_functions_.ipynb\"\n",
    "%run \"get_temperature_.ipynb\"\n",
    "%run \"load_data_.ipynb\"\n",
    "%run \"get_backbround_average_.ipynb\"\n",
    "%run \"frame_vs_temperature.ipynb\""
   ]
  },
  {
   "cell_type": "markdown",
   "id": "bd9b9048",
   "metadata": {},
   "source": [
    "# Input Files"
   ]
  },
  {
   "cell_type": "markdown",
   "id": "b3cbbb6b",
   "metadata": {},
   "source": [
    "## input needed: name of the folder containing different velocity's picture"
   ]
  },
  {
   "cell_type": "code",
   "execution_count": 158,
   "id": "acfea6eb",
   "metadata": {},
   "outputs": [],
   "source": [
    "folder = \"/Users/chiaentsai/Box/MURI-SARA/Thermoreflectance/Joanne/12102022\"\n"
   ]
  },
  {
   "cell_type": "code",
   "execution_count": 159,
   "id": "67a703e8",
   "metadata": {},
   "outputs": [],
   "source": [
    "all_files, fivemm_files, velocity_path_list, velocity_list, used_frame_num = get_needed_files(folder)\n",
    "back_intensity_list = get_background_average(fivemm_files)\n",
    "power_list = get_powers(all_files)"
   ]
  },
  {
   "cell_type": "markdown",
   "id": "e060e6ec",
   "metadata": {},
   "source": [
    "### Si&gold melting power"
   ]
  },
  {
   "cell_type": "code",
   "execution_count": 160,
   "id": "5073102a",
   "metadata": {},
   "outputs": [],
   "source": [
    "Si_melting_W = {\n",
    "    '103': 48.8,\n",
    "    #'13': 41.5,\n",
    "    '155': 50.8,\n",
    "    '190': 52.5, \n",
    "    #'20': 42.6,\n",
    "    '234': 54.3,\n",
    "    '30': 42.9,\n",
    "    '352': 58.5,\n",
    "    '45': 44.2,\n",
    "    #'68': 46.9,\n",
    "    '9': 40.9\n",
    "}"
   ]
  },
  {
   "cell_type": "code",
   "execution_count": 161,
   "id": "97c71c42",
   "metadata": {},
   "outputs": [],
   "source": [
    "gold_melting_W = {\n",
    "    '103': 45.8,\n",
    "    #'13': 37.2,\n",
    "    '155': 47.7,\n",
    "    '190': 49.7, \n",
    "    #'20': 38.4,\n",
    "    '234': 50.4,\n",
    "    '30': 39.1,\n",
    "    '352': 54.4,\n",
    "    '45': 40.7,\n",
    "    #'68': 43,\n",
    "    '9': 35.3\n",
    "}"
   ]
  },
  {
   "cell_type": "markdown",
   "id": "36bb23cb",
   "metadata": {},
   "source": [
    "### get dR/R"
   ]
  },
  {
   "cell_type": "code",
   "execution_count": 162,
   "id": "ed7ef746",
   "metadata": {},
   "outputs": [
    {
     "name": "stderr",
     "output_type": "stream",
     "text": [
      "/Users/chiaentsai/.virtualenvs/venv/lib/python3.9/site-packages/scipy/optimize/_minpack_py.py:833: OptimizeWarning: Covariance of the parameters could not be estimated\n",
      "  warnings.warn('Covariance of the parameters could not be estimated',\n"
     ]
    }
   ],
   "source": [
    "Si_list = ['103', '155','190', '234', '30', '352', '45', '9']\n",
    "Dict_Si_1 = dict((k, fivemm_files[k][10:]) for k in Si_list)\n",
    "back_intensity_list_Si_1 = []\n",
    "for key in fivemm_files:\n",
    "    if key in Si_list:\n",
    "        index = list(fivemm_files).index(key)\n",
    "        back_intensity_list_Si_1.append(back_intensity_list[index])\n",
    "dRoverR_1 = []\n",
    "for i, v in enumerate(list(Dict_Si_1.keys())):\n",
    "    con = []\n",
    "    for file in Dict_Si_1[v]:\n",
    "        val = get_peak_dRoverR(file, back_intensity_list_Si_1[i], two_lorentz, two_lorentz)\n",
    "        con.append(val)\n",
    "    dRoverR_1.append(con)"
   ]
  },
  {
   "cell_type": "code",
   "execution_count": 163,
   "id": "db92bf57",
   "metadata": {},
   "outputs": [],
   "source": [
    "# gold_list = ['103', '13', '155','190', '20', '234', '30', '352', '45', '68', '9']\n",
    "gold_list = ['103', '155','190', '234', '30', '352', '45', '9']\n",
    "Dict_gold_1 = dict((k, fivemm_files[k][10:]) for k in gold_list)\n",
    "back_intensity_list_gold_1 = []\n",
    "for key in fivemm_files:\n",
    "    if key in Si_list:\n",
    "        index = list(fivemm_files).index(key)\n",
    "        back_intensity_list_gold_1.append(back_intensity_list[index])\n",
    "dRoverR_2 = []\n",
    "for i, v in enumerate(list(Dict_gold_1.keys())):\n",
    "    con = []\n",
    "    for file in Dict_gold_1[v]:\n",
    "        val = get_peak_dRoverR(file, back_intensity_list_gold_1[i], two_lorentz, two_lorentz)\n",
    "        con.append(val)\n",
    "    dRoverR_2.append(con)"
   ]
  },
  {
   "cell_type": "markdown",
   "id": "30ccdddc",
   "metadata": {},
   "source": [
    "### power used"
   ]
  },
  {
   "cell_type": "code",
   "execution_count": 165,
   "id": "bd6d00a6",
   "metadata": {},
   "outputs": [],
   "source": [
    "power_Si = {'103':[31+2*p for p in range(0,len(dRoverR_1[0]),1)], \n",
    "        #'13':[25+2*p for p in range(0,len(dRoverR_1[1]),1)], \n",
    "        '155':[33+2*p for p in range(0,len(dRoverR_1[1]),1)],\n",
    "        '190':[35+2*p for p in range(0,len(dRoverR_1[2]),1)], \n",
    "        #'20':[27+2*p for p in range(0,len(dRoverR_1[4]),1)], \n",
    "        '234':[37+2*p for p in range(0,len(dRoverR_1[3]),1)], \n",
    "        '30':[29+2*p for p in range(0,len(dRoverR_1[4]),1)], \n",
    "        '352':[39+2*p for p in range(0,len(dRoverR_1[5]),1)], \n",
    "        '45':[29+2*p for p in range(0,len(dRoverR_1[6]),1)], \n",
    "        #'68':[29+2*p for p in range(0,len(dRoverR_1[7]),1)], \n",
    "        '9':[21+2*p for p in range(0,len(dRoverR_1[7]),1)]}"
   ]
  },
  {
   "cell_type": "markdown",
   "id": "d99232c5",
   "metadata": {},
   "source": [
    "### plot dR/R"
   ]
  },
  {
   "cell_type": "code",
   "execution_count": 139,
   "id": "28f82d7c",
   "metadata": {},
   "outputs": [],
   "source": [
    "for i, v in enumerate(list(Si_melting_W.keys())):\n",
    "    plt.plot(power_Si[v], dRoverR_1[i], '.')\n",
    "    plt.xlabel(\"power\")\n",
    "    plt.ylabel(\"dR/R\")\n",
    "    plt.savefig(\"/Users/chiaentsai/Desktop/lab/Temperature_Calibration/Si_dRoverR_figure_12102022/{}mm.png\".format(v), format=\"PNG\")\n",
    "    plt.close()"
   ]
  },
  {
   "cell_type": "markdown",
   "id": "aeeb2aa4",
   "metadata": {},
   "source": [
    "### get kappa (use glod and Si melting power)"
   ]
  },
  {
   "cell_type": "code",
   "execution_count": 231,
   "id": "ae78f35e",
   "metadata": {},
   "outputs": [],
   "source": [
    "# gold and Si melt\n",
    "import scipy.optimize\n",
    "kappa_avg = []\n",
    "for i, v in enumerate(list(Si_melting_W.keys())):\n",
    "    popt, pcov = curve_fit(expo, power_Si[v], dRoverR_1[i], p0 = [1, 0.000000047, 1], maxfev = 10000)\n",
    "    #a, b, c = popt\n",
    "    plt.plot(power_Si[v], dRoverR_1[i], '.')\n",
    "    y_pred = [expo(j, *popt) for j in power_Si[v]]\n",
    "    plt.plot(power_Si[v], y_pred)\n",
    "    plt.xlabel(\"power\")\n",
    "    plt.ylabel(\"dR/R\")\n",
    "    plt.savefig(\"/Users/chiaentsai/Desktop/lab/Temperature_Calibration/Si&gold_dRoverR_fit_figure_12102022/{}mm.png\".format(v), format=\"PNG\")\n",
    "    plt.close()\n",
    "    \n",
    "    \n",
    "    fun = lambda k: (expo(Si_melting_W[v], *popt) - (1410-21)*k)**2 + (expo(gold_melting_W[v], *popt) - (1064-21)*k)**2\n",
    "    res = scipy.optimize.minimize(fun, 0.00016)\n",
    "    temp_pred = [expo(j, *popt)/res.x for j in power_Si[v]]\n",
    "    plt.plot(power_Si[v], temp_pred)\n",
    "    \n",
    "    plt.plot(Si_melting_W[v], 1410, marker=\"o\",color = 'r', label='Si')\n",
    "    plt.plot(gold_melting_W[v], 1064, marker=\"o\", color = 'g', label='gold')\n",
    "    plt.legend(loc=\"upper left\")\n",
    "    plt.xlabel(\"power\")\n",
    "    plt.ylabel(\"temperature\")\n",
    "    plt.savefig(\"/Users/chiaentsai/Desktop/lab/Temperature_Calibration/gold_Si_fit_12102022/{}mm.png\".format(v), format=\"PNG\")\n",
    "    plt.close()\n",
    "    \n",
    "#     f = expo(Si_melting_W[v], *popt)\n",
    "#     gold_m = 1410\n",
    "#     dT = gold_m - 21\n",
    "#     kappa = f / dT\n",
    "    kappa_avg.append(float(res.x))\n",
    "    \n",
    "Dict_kappa_avg = dict(zip(list(Si_melting_W.keys()),kappa_avg))\n",
    "\n",
    "plt.plot(list(Si_melting_W.keys()), kappa_avg, '.')\n",
    "plt.savefig(\"/Users/chiaentsai/Desktop/lab/Temperature_Calibration/kappa_gold&Si_12102022.png\", format=\"PNG\")"
   ]
  },
  {
   "cell_type": "markdown",
   "id": "543818b9",
   "metadata": {},
   "source": [
    "### get kappa (use Si melting power)"
   ]
  },
  {
   "cell_type": "code",
   "execution_count": 112,
   "id": "5a8eafd7",
   "metadata": {},
   "outputs": [
    {
     "data": {
      "image/png": "[encoded data removed]",
      "text/plain": [
       "<Figure size 432x288 with 1 Axes>"
      ]
     },
     "metadata": {
      "needs_background": "light"
     },
     "output_type": "display_data"
    }
   ],
   "source": [
    "kappa_Si_avg = []\n",
    "for i, v in enumerate(list(Si_melting_W.keys())):\n",
    "    popt, pcov = curve_fit(expo, power_Si[v], dRoverR_1[i], p0 = [1, 0.000000047, 1], maxfev = 10000)\n",
    "    #a, b, c = popt\n",
    "    plt.plot(power_Si[v], dRoverR_1[i], '.')\n",
    "    y_pred = [expo(j, *popt) for j in power_Si[v]]\n",
    "    plt.plot(power_Si[v], y_pred)\n",
    "    plt.xlabel(\"power\")\n",
    "    plt.ylabel(\"dR/R\")\n",
    "    plt.savefig(\"/Users/chiaentsai/Desktop/lab/Temperature_Calibration/Si_dRoverR_fit_figure_12102022/{}mm.png\".format(v), format=\"PNG\")\n",
    "    plt.close()\n",
    "    f = expo(Si_melting_W[v], *popt)\n",
    "    gold_m = 1410\n",
    "    dT = gold_m - 21\n",
    "    kappa = f / dT\n",
    "    kappa_Si_avg.append(kappa)\n",
    "    \n",
    "Dict_kappa_Si_avg = dict(zip(list(Si_melting_W.keys()),kappa_Si_avg))\n",
    "\n",
    "plt.plot(list(Si_melting_W.keys()), kappa_Si_avg, '.')\n",
    "plt.savefig(\"/Users/chiaentsai/Desktop/lab/Temperature_Calibration/kappa_Si_12102022.png\", format=\"PNG\")"
   ]
  },
  {
   "cell_type": "code",
   "execution_count": 113,
   "id": "a70ff535",
   "metadata": {
    "scrolled": true
   },
   "outputs": [
    {
     "data": {
      "text/plain": [
       "0.00016919601593897468"
      ]
     },
     "execution_count": 113,
     "metadata": {},
     "output_type": "execute_result"
    }
   ],
   "source": [
    "avg_kappa = sum(kappa_Si_avg) / len(kappa_Si_avg)\n",
    "avg_kappa "
   ]
  },
  {
   "cell_type": "markdown",
   "id": "79bf502d",
   "metadata": {},
   "source": [
    "### get kappa (use gold melting power)"
   ]
  },
  {
   "cell_type": "code",
   "execution_count": 145,
   "id": "d6a3a6b2",
   "metadata": {
    "scrolled": true
   },
   "outputs": [
    {
     "data": {
      "image/png": "[encoded data removed]",
      "text/plain": [
       "<Figure size 432x288 with 1 Axes>"
      ]
     },
     "metadata": {
      "needs_background": "light"
     },
     "output_type": "display_data"
    }
   ],
   "source": [
    "kappa_gold_avg = []\n",
    "for i, v in enumerate(list(gold_melting_W.keys())):\n",
    "    popt, pcov = curve_fit(expo, power_Si[v], dRoverR_1[i], p0 = [1, 0.000000047, 1], maxfev = 10000)\n",
    "    #a, b, c = popt\n",
    "    plt.plot(power_Si[v], dRoverR_1[i], '.')\n",
    "    y_pred = [expo(j, *popt) for j in power_Si[v]]\n",
    "    plt.plot(power_Si[v], y_pred)\n",
    "    plt.xlabel(\"power\")\n",
    "    plt.ylabel(\"dR/R\")\n",
    "    plt.savefig(\"/Users/chiaentsai/Desktop/lab/Temperature_Calibration/gold_dRoverR_fit_figure_12102022/{}mm.png\".format(v), format=\"PNG\")\n",
    "    plt.close()\n",
    "    f = expo(gold_melting_W[v], *popt)\n",
    "    gold_m = 1064\n",
    "    dT = gold_m - 21\n",
    "    kappa = f / dT\n",
    "    kappa_gold_avg.append(kappa)\n",
    "    \n",
    "Dict_kappa_gold_avg = dict(zip(list(gold_melting_W.keys()),kappa_gold_avg))\n",
    "\n",
    "plt.plot(list(gold_melting_W.keys()), kappa_gold_avg, '.')\n",
    "plt.savefig(\"/Users/chiaentsai/Desktop/lab/Temperature_Calibration/kappa_gold_12102022.png\", format=\"PNG\")"
   ]
  },
  {
   "cell_type": "markdown",
   "id": "2eb15436",
   "metadata": {},
   "source": [
    "### get peak temperature"
   ]
  },
  {
   "cell_type": "code",
   "execution_count": 232,
   "id": "cc01eb69",
   "metadata": {},
   "outputs": [],
   "source": [
    "peak_temp = []\n",
    "for i, v in enumerate(list(Si_melting_W.keys())):\n",
    "    tem = []\n",
    "    for r in dRoverR_1[i]:\n",
    "        t = get_peak_Temp(r, Dict_kappa_avg[v])\n",
    "#         t = get_peak_Temp(r,avg_kappa)\n",
    "#         t = get_peak_Temp(r,0.00016498400434141028)\n",
    "#         t = get_peak_Temp(r, Dict_kappa_gold_avg[v])\n",
    "#         t = get_peak_Temp(r, avg_kappa_2)\n",
    "#         t = get_peak_Temp(r, Dict_kappa_avg[v])\n",
    "        tem.append(t)\n",
    "    peak_temp.append(tem)\n",
    "    \n",
    "Dict_peak_temp = dict(zip(list(Si_melting_W.keys()),peak_temp))"
   ]
  },
  {
   "cell_type": "markdown",
   "id": "3b1d9bf8",
   "metadata": {},
   "source": [
    "### fit plane"
   ]
  },
  {
   "cell_type": "code",
   "execution_count": 246,
   "id": "6b0c6d7d",
   "metadata": {
    "scrolled": true
   },
   "outputs": [
    {
     "name": "stdout",
     "output_type": "stream",
     "text": [
      "Using matplotlib backend: MacOSX\n",
      "[ 1.07905058e+03 -1.97373310e+02 -1.73891144e+03  1.82157825e+02\n",
      "  4.96514235e+03  1.11250471e+00  2.24302306e-02  8.85130018e+00]\n",
      "1070.5487061171104\n"
     ]
    },
    {
     "name": "stderr",
     "output_type": "stream",
     "text": [
      "/var/folders/f7/kn96xdj93ss0t67sn2q10n6c0000gn/T/ipykernel_867/2442206922.py:25: MatplotlibDeprecationWarning: Axes3D(fig) adding itself to the figure is deprecated since 3.4. Pass the keyword argument auto_add_to_figure=False and use fig.add_axes(ax) to suppress this warning. The default value of auto_add_to_figure will change to False in mpl3.5 and True values will no longer work in 3.6.  This is consistent with other Axes classes.\n",
      "  axes = Axes3D(f)\n"
     ]
    }
   ],
   "source": [
    "import numpy, scipy, scipy.optimize\n",
    "import matplotlib\n",
    "from mpl_toolkits.mplot3d import  Axes3D\n",
    "from matplotlib import cm # to colormap 3D surfaces from blue to red\n",
    "import matplotlib.pyplot as plt\n",
    "%matplotlib\n",
    "\n",
    "# def function(data, b, c, d, e, f):\n",
    "#     x = np.array(data[0])\n",
    "#     y = np.array(data[1])\n",
    "#     return (b*y+c)*(x)**(d*y**2+e*y+f)\n",
    "\n",
    "def function(data, a, b, c, d, e, f, g, h):\n",
    "    x = np.array(data[0])\n",
    "    y = np.array(data[1])\n",
    "    return (a+b*y+h*y**2)*x**(f+g*y) + (c+d*y)*x + e\n",
    "\n",
    "# def function(data, a, b, c, d, e, f, g, h, i, j):\n",
    "#     x = np.array(data[0])\n",
    "#     y = np.array(data[1])\n",
    "#     return (a+b*y+h*y**2)*x**(f+g*y) + (c+d*y)*x + e +i*x**2 + j*y**2\n",
    "\n",
    "f = plt.figure(figsize=(20.0, 20.0), dpi=20)\n",
    "matplotlib.pyplot.grid(True)\n",
    "axes = Axes3D(f)\n",
    "\n",
    "points = []\n",
    "for i, v in enumerate(list(Si_melting_W.keys())):\n",
    "    P = [int(p) for p in power_Si[v]]\n",
    "    V = [np.log(int(v))] * len(Dict_peak_temp[v])\n",
    "    T = Dict_peak_temp[v]\n",
    "    point = [list(x) for x in zip(*[P,V,T])]\n",
    "    points.append(point)\n",
    "\n",
    "x_data = []\n",
    "y_data = []\n",
    "z_data = []\n",
    "for velo in points:\n",
    "    for item in velo:\n",
    "        x_data.append(item[0]) # power\n",
    "        y_data.append(item[1]) # velocity\n",
    "        z_data.append(item[2]) # temperature\n",
    "        \n",
    "x_data, y_data, z_data = np.array(x_data), np.array(y_data), np.array(z_data)\n",
    "\n",
    "mask = z_data > 400\n",
    "x_data = x_data[mask]\n",
    "y_data = y_data[mask]\n",
    "z_data = z_data[mask]\n",
    "\n",
    "parameters, covariance = curve_fit(function, [x_data, y_data], z_data,  maxfev=1000000)\n",
    "print(parameters)\n",
    "model_x_data = np.linspace(min(x_data), max(x_data), 30)\n",
    "model_y_data = np.linspace(min(y_data), max(y_data), 30)\n",
    "X, Y = np.meshgrid(model_x_data, model_y_data)\n",
    "Z = function(np.array([X, Y]), *parameters)\n",
    "\n",
    "z_predicted = function([x_data, y_data], *parameters)\n",
    "differences = np.subtract(z_data, z_predicted)\n",
    "squared_differences = np.square(differences)\n",
    "mse = squared_differences.mean()\n",
    "\n",
    "\n",
    "axes.plot_surface(X, Y, Z, cmap=cm.hot, alpha=0.2)\n",
    "\n",
    "# for i, v in enumerate(list(Dict_kappa_Si_avg.keys())):\n",
    "#     v_data = [np.log(int(v))] * len(Dict_peak_temp[v])\n",
    "#     p_data = [int(p) for p in power_Si[i]]\n",
    "#     t_data = Dict_peak_temp[v]\n",
    "#     axes.scatter(p_data, v_data, t_data, s = 250)\n",
    "axes.scatter(x_data, y_data, z_data, s=500)\n",
    "    \n",
    "\n",
    "axes.set_title('Scatter Plot')\n",
    "axes.set_xlabel('power - W', fontsize=30, labelpad=40)\n",
    "axes.set_ylabel('ln(velocity) - mm/s',fontsize=30, labelpad=40)\n",
    "axes.set_zlabel('peak temperature - C', fontsize=30, labelpad=40)\n",
    "axes.set_zlim(400, 1400)\n",
    "\n",
    "axes.tick_params(axis='both', which='major', labelsize=30)\n",
    "\n",
    "plt.show()\n",
    "print(mse)"
   ]
  },
  {
   "cell_type": "code",
   "execution_count": null,
   "id": "0815f498",
   "metadata": {},
   "outputs": [],
   "source": []
  },
  {
   "cell_type": "code",
   "execution_count": null,
   "id": "58f76cc2",
   "metadata": {},
   "outputs": [],
   "source": []
  },
  {
   "cell_type": "code",
   "execution_count": 248,
   "id": "8002d7cd",
   "metadata": {
    "scrolled": true
   },
   "outputs": [
    {
     "data": {
      "text/plain": [
       "array([ 1.07905058e+03, -1.97373310e+02, -1.73891144e+03,  1.82157825e+02,\n",
       "        4.96514235e+03,  1.11250471e+00,  2.24302306e-02,  8.85130018e+00])"
      ]
     },
     "execution_count": 248,
     "metadata": {},
     "output_type": "execute_result"
    }
   ],
   "source": [
    "parameters"
   ]
  },
  {
   "cell_type": "code",
   "execution_count": 59,
   "id": "b14f416d",
   "metadata": {},
   "outputs": [
    {
     "data": {
      "text/plain": [
       "array([2.19722458, 2.19722458, 2.19722458, 2.19722458, 2.19722458,\n",
       "       2.19722458, 2.19722458, 2.19722458, 2.19722458])"
      ]
     },
     "execution_count": 59,
     "metadata": {},
     "output_type": "execute_result"
    }
   ],
   "source": [
    "y_data[91:200]"
   ]
  },
  {
   "cell_type": "code",
   "execution_count": 62,
   "id": "bc3b54a1",
   "metadata": {},
   "outputs": [
    {
     "name": "stdout",
     "output_type": "stream",
     "text": [
      "Using matplotlib backend: MacOSX\n"
     ]
    },
    {
     "data": {
      "text/plain": [
       "<matplotlib.legend.Legend at 0x7fc79a1e0400>"
      ]
     },
     "execution_count": 62,
     "metadata": {},
     "output_type": "execute_result"
    }
   ],
   "source": [
    "import matplotlib.pyplot as plt\n",
    "%matplotlib\n",
    "plt.plot(x_data[0:7], z_data[0:7])\n",
    "plt.plot(x_data[8:17], z_data[8:17])\n",
    "plt.plot(x_data[18:25], z_data[18:25] )\n",
    "plt.plot(x_data[26:34], z_data[26:34])\n",
    "plt.plot(x_data[35:43], z_data[35:43])\n",
    "plt.plot(x_data[44:51], z_data[44:51])\n",
    "plt.plot(x_data[52:60], z_data[52:60])\n",
    "plt.plot(x_data[61:70], z_data[61:70])\n",
    "plt.plot(x_data[71:80], z_data[71:80])\n",
    "plt.plot(x_data[81:90], z_data[81:90])\n",
    "plt.plot(x_data[91:99], z_data[91:99])\n",
    "plt.gca().legend(('103', '13', '155','190', '20', '234', '30', '352', '45', '68', '9'))"
   ]
  },
  {
   "cell_type": "code",
   "execution_count": null,
   "id": "0385d680",
   "metadata": {},
   "outputs": [],
   "source": []
  },
  {
   "cell_type": "code",
   "execution_count": null,
   "id": "a16e5494",
   "metadata": {},
   "outputs": [],
   "source": []
  }
 ],
 "metadata": {
  "kernelspec": {
   "display_name": "Python 3 (ipykernel)",
   "language": "python",
   "name": "python3"
  },
  "language_info": {
   "codemirror_mode": {
    "name": "ipython",
    "version": 3
   },
   "file_extension": ".py",
   "mimetype": "text/x-python",
   "name": "python",
   "nbconvert_exporter": "python",
   "pygments_lexer": "ipython3",
   "version": "3.9.0"
  }
 },
 "nbformat": 4,
 "nbformat_minor": 5
}
