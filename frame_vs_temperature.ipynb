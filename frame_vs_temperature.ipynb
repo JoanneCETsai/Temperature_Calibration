{
 "cells": [
  {
   "cell_type": "markdown",
   "id": "ef847826",
   "metadata": {},
   "source": [
    "### frame vs velocity @ a velocity @ a power (one line)"
   ]
  },
  {
   "cell_type": "code",
   "execution_count": 1,
   "id": "1a518231",
   "metadata": {},
   "outputs": [],
   "source": [
    "import glob, os"
   ]
  },
  {
   "cell_type": "code",
   "execution_count": 8,
   "id": "b2f47c85",
   "metadata": {},
   "outputs": [],
   "source": [
    "def get_powers(all_files):\n",
    "    power_list = []\n",
    "\n",
    "    for item in all_files.values():\n",
    "        powers = []\n",
    "        for file in item:\n",
    "            piece = str(file).split('mm_')[-1]\n",
    "            power = piece.split('W')[0]\n",
    "            powers.append(power)\n",
    "        powers = np.unique(powers)\n",
    "        power_list.append(powers)\n",
    "\n",
    "    return power_list\n"
   ]
  },
  {
   "cell_type": "code",
   "execution_count": null,
   "id": "616073fb",
   "metadata": {},
   "outputs": [],
   "source": [
    "\n",
    "\n",
    "\n",
    "\n",
    "os.chdir(\"/Users/chiaentsai/Box/MURI-SARA/Thermoreflectance/chess_2022_2_0412/TR_0412/68mm per sec\")\n",
    "thefiles =[]\n",
    "b_files = []\n",
    "for file in glob.glob(\"*51W*\"):\n",
    "    file = \"/Users/chiaentsai/Box/MURI-SARA/Thermoreflectance/chess_2022_2_0412/TR_0412/68mm per sec\"+\"/\"+file\n",
    "    thefiles.append(file)\n",
    "    \n",
    "for file in glob.glob(\"*0W*\"):\n",
    "    file = \"/Users/chiaentsai/Box/MURI-SARA/Thermoreflectance/chess_2022_2_0412/TR_0412/68mm per sec\"+\"/\"+file\n",
    "    b_files.append(file)\n",
    "    \n",
    "del thefiles[0]\n",
    "del b_files[0]\n",
    "\n",
    "peak_T_68mm = []\n",
    "for thing in enumerate(zip(thefiles, b_files)):\n",
    "    val = get_peak_T(thing[1][0], thing[1][1], poly5, poly5)\n",
    "    peak_T_68mm.append(val)\n",
    "len(peak_T_68mm)"
   ]
  },
  {
   "cell_type": "markdown",
   "id": "c1e4be01",
   "metadata": {},
   "source": [
    "### plot frame vs velocity for all power @ a velocity "
   ]
  },
  {
   "cell_type": "code",
   "execution_count": null,
   "id": "256c1fe2",
   "metadata": {},
   "outputs": [],
   "source": [
    "'''\n",
    "plt.plot(peak_T_45mm_29)\n",
    "plt.plot(peak_T_45mm_31)\n",
    "plt.plot(peak_T_45mm_33)\n",
    "plt.plot(peak_T_45mm_35)\n",
    "plt.plot(peak_T_45mm_37)\n",
    "plt.plot(peak_T_45mm_39)\n",
    "plt.plot(peak_T_45mm_41)\n",
    "plt.plot(peak_T_45mm_43)\n",
    "plt.plot(peak_T_45mm_47)\n",
    "'''"
   ]
  },
  {
   "cell_type": "code",
   "execution_count": null,
   "id": "b5344e52",
   "metadata": {},
   "outputs": [],
   "source": [
    "'''\n",
    "kappa_gold = []\n",
    "for i, v in enumerate(list(Dict_gold.keys())):\n",
    "    popt, pcov = curve_fit(expo, powers[i], dRoverR[i], p0 = [1, 0.0000001, 1], maxfev = 5000)\n",
    "    plt.plot(powers[i], dRoverR[i], '.')\n",
    "    plt.plot(powers[i], expo(powers[i], *popt))\n",
    "    plt.xlabel(\"power\")\n",
    "    plt.ylabel(\"dR/R\")\n",
    "    plt.savefig(\"/Users/chiaentsai/Desktop/lab/Temperature_Calibration/gold_dRoverR_fit_figure/{}mm.png\".format(v), format=\"PNG\")\n",
    "    plt.close()\n",
    "    a, b, c = popt\n",
    "    y_pred = expo(powers[i], *popt)\n",
    "    f = expo(gold_melt[i], *popt)\n",
    "    gold_m = 1064\n",
    "    dT = gold_m - 25\n",
    "    kappa = f / dT\n",
    "    kappa_gold.append(kappa)\n",
    "'''"
   ]
  }
 ],
 "metadata": {
  "kernelspec": {
   "display_name": "Python 3.9.0 64-bit",
   "language": "python",
   "name": "python3"
  },
  "language_info": {
   "codemirror_mode": {
    "name": "ipython",
    "version": 3
   },
   "file_extension": ".py",
   "mimetype": "text/x-python",
   "name": "python",
   "nbconvert_exporter": "python",
   "pygments_lexer": "ipython3",
   "version": "3.9.0"
  },
  "vscode": {
   "interpreter": {
    "hash": "aee8b7b246df8f9039afb4144a1f6fd8d2ca17a180786b69acc140d282b71a49"
   }
  }
 },
 "nbformat": 4,
 "nbformat_minor": 5
}
