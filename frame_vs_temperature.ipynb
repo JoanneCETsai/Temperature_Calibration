{
 "cells": [
  {
   "cell_type": "markdown",
   "id": "ef847826",
   "metadata": {},
   "source": [
    "### frame vs velocity @ a velocity @ a power (one line)"
   ]
  },
  {
   "cell_type": "code",
   "execution_count": null,
   "id": "616073fb",
   "metadata": {},
   "outputs": [],
   "source": [
    "import glob, os\n",
    "os.chdir(\"/Users/chiaentsai/Box/MURI-SARA/Thermoreflectance/Joanne/11082022/45mm_per_sec\")\n",
    "thefiles =[]\n",
    "b_files = []\n",
    "for file in glob.glob(\"*29W*\"):\n",
    "    file = \"/Users/chiaentsai/Box/MURI-SARA/Thermoreflectance/Joanne/11082022/45mm_per_sec\"+\"/\"+file\n",
    "    thefiles.append(file)\n",
    "    \n",
    "for file in glob.glob(\"*0W*\"):\n",
    "    file = \"/Users/chiaentsai/Box/MURI-SARA/Thermoreflectance/Joanne/11082022/45mm_per_sec\"+\"/\"+file\n",
    "    b_files.append(file)\n",
    "    \n",
    "del thefiles[0]\n",
    "del b_files[0]\n",
    "\n",
    "peak_T_45mm_29 = []\n",
    "for thing in enumerate(zip(thefiles, b_files)):\n",
    "    val = get_peak_T(thing[1][0], thing[1][1], poly5, poly5, 0.00017)\n",
    "    peak_T_45mm_29.append(val)\n",
    "len(peak_T_45mm_29)"
   ]
  },
  {
   "cell_type": "markdown",
   "id": "c1e4be01",
   "metadata": {},
   "source": [
    "### plot frame vs velocity for all power @ a velocity "
   ]
  },
  {
   "cell_type": "code",
   "execution_count": null,
   "id": "256c1fe2",
   "metadata": {},
   "outputs": [],
   "source": [
    "plt.plot(peak_T_45mm_29)\n",
    "plt.plot(peak_T_45mm_31)\n",
    "plt.plot(peak_T_45mm_33)\n",
    "plt.plot(peak_T_45mm_35)\n",
    "plt.plot(peak_T_45mm_37)\n",
    "plt.plot(peak_T_45mm_39)\n",
    "plt.plot(peak_T_45mm_41)\n",
    "plt.plot(peak_T_45mm_43)\n",
    "plt.plot(peak_T_45mm_47)"
   ]
  }
 ],
 "metadata": {
  "kernelspec": {
   "display_name": "Python 3 (ipykernel)",
   "language": "python",
   "name": "python3"
  },
  "language_info": {
   "codemirror_mode": {
    "name": "ipython",
    "version": 3
   },
   "file_extension": ".py",
   "mimetype": "text/x-python",
   "name": "python",
   "nbconvert_exporter": "python",
   "pygments_lexer": "ipython3",
   "version": "3.9.0"
  }
 },
 "nbformat": 4,
 "nbformat_minor": 5
}
