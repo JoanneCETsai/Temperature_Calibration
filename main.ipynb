{
 "cells": [
  {
   "cell_type": "code",
   "execution_count": 22,
   "id": "82b36748",
   "metadata": {},
   "outputs": [],
   "source": [
    "%run \"/Users/chiaentsai/Desktop/lab/Temperature_Calibration/curve_fit_.ipynb\"\n",
    "%run \"/Users/chiaentsai/Desktop/lab/Temperature_Calibration/data_processing_.ipynb\"\n",
    "%run \"/Users/chiaentsai/Desktop/lab/Temperature_Calibration/evaluation_functions_.ipynb\"\n",
    "%run \"/Users/chiaentsai/Desktop/lab/Temperature_Calibration/fitting_functions_.ipynb\"\n",
    "%run \"/Users/chiaentsai/Desktop/lab/Temperature_Calibration/get_temperature_.ipynb\""
   ]
  },
  {
   "cell_type": "code",
   "execution_count": 23,
   "id": "776716cc",
   "metadata": {},
   "outputs": [],
   "source": [
    "from pathlib import Path\n",
    "from enum import Enum\n",
    "import cv2\n",
    "from cv2 import imwrite\n",
    "from tqdm import tqdm\n",
    "import numpy as np\n",
    "import matplotlib.pyplot as plt\n",
    "import math\n",
    "from sklearn import preprocessing\n",
    "from time import time\n",
    "from scipy.optimize import curve_fit\n",
    "%matplotlib inline\n",
    "import scipy.stats\n",
    "from util import parse_fn, is_bg\n",
    "from scipy import stats\n",
    "from scipy.stats import skewnorm\n",
    "from scipy.special import erf\n",
    "from scipy.special import voigt_profile"
   ]
  },
  {
   "cell_type": "markdown",
   "id": "5ffb0c56",
   "metadata": {},
   "source": [
    "# information of picture"
   ]
  },
  {
   "cell_type": "code",
   "execution_count": 24,
   "id": "7fd3b0ac",
   "metadata": {},
   "outputs": [],
   "source": [
    "HEADER_LEN = 152 \n",
    "X_DIM = 1200 \n",
    "Y_DIM = 1920"
   ]
  },
  {
   "cell_type": "markdown",
   "id": "a8f00cbf",
   "metadata": {},
   "source": [
    "# Input Files"
   ]
  },
  {
   "cell_type": "code",
   "execution_count": 25,
   "id": "36813a12",
   "metadata": {},
   "outputs": [],
   "source": [
    "folder = \"/Users/chiaentsai/Box/MURI-SARA/Thermoreflectance/chess_2022_2_0412/TR_0412\""
   ]
  },
  {
   "cell_type": "code",
   "execution_count": 28,
   "id": "ef4f99bd",
   "metadata": {},
   "outputs": [],
   "source": [
    "import os\n",
    "from pathlib import Path\n",
    "v_path_list = []\n",
    "for root, dirs, files in os.walk(folder, topdown=False):\n",
    "    for name in dirs:\n",
    "        v_path_list.append(os.path.join(root, name))\n",
    "        \n",
    "big_list = []\n",
    "for item in v_path_list:\n",
    "    p_pathlist = Path(item).glob('**/*.raw')\n",
    "    p_path_list = []\n",
    "    for path in p_pathlist:\n",
    "        p_path_list.append(path)\n",
    "    big_list.append(p_path_list)\n",
    "    \n",
    "Dict = {103: big_list[0], \n",
    "        13: big_list[1],\n",
    "        155: big_list[2],\n",
    "        190: big_list[3],\n",
    "        20: big_list[4],\n",
    "        234: big_list[5],\n",
    "        30: big_list[6],\n",
    "        352: big_list[7],\n",
    "        45: big_list[8],\n",
    "        68: big_list[9],\n",
    "        9: big_list[10],\n",
    "       }\n",
    "\n",
    "frame_num = []\n",
    "for i in list(Dict.keys()):\n",
    "    frame_num.append(round(5/i*40+1))\n",
    "\n",
    "import os\n",
    "b_files = []\n",
    "all_v_files = []\n",
    "for i in range(0,len(frame_num), 1):\n",
    "    files=[]\n",
    "    for file in os.listdir(v_path_list[i]):\n",
    "        if file.endswith(\"_00{}.raw\".format(frame_num[i])) or file.endswith(\"_0{}.raw\".format(frame_num[i])):\n",
    "            name = str(os.path.join(v_path_list[i], file))\n",
    "            files.append(name)\n",
    "    all_v_files.append(files)\n",
    "    b_files.append(files[0])\n",
    "    \n",
    "Dict_new = {103: all_v_files[0], \n",
    "        13: all_v_files[1],\n",
    "        155: all_v_files[2],\n",
    "        190: all_v_files[3],\n",
    "        20: all_v_files[4],\n",
    "        234: all_v_files[5],\n",
    "        30: all_v_files[6],\n",
    "        352: all_v_files[7],\n",
    "        45: all_v_files[8],\n",
    "        68: all_v_files[9],\n",
    "        9: all_v_files[10],\n",
    "       }"
   ]
  },
  {
   "cell_type": "code",
   "execution_count": 56,
   "id": "939ca229",
   "metadata": {
    "scrolled": true
   },
   "outputs": [
    {
     "data": {
      "text/plain": [
       "[103, 13, 155, 190, 20, 234, 30, 352, 45, 68, 9]"
      ]
     },
     "execution_count": 56,
     "metadata": {},
     "output_type": "execute_result"
    }
   ],
   "source": [
    "list(Dict_new.keys())"
   ]
  },
  {
   "cell_type": "markdown",
   "id": "e99941f0",
   "metadata": {},
   "source": [
    "# Visualization"
   ]
  },
  {
   "cell_type": "markdown",
   "id": "214cab5d",
   "metadata": {},
   "source": [
    "### 5mm frame figures"
   ]
  },
  {
   "cell_type": "code",
   "execution_count": 57,
   "id": "c555fa93",
   "metadata": {},
   "outputs": [],
   "source": [
    "for v in list(Dict_new.keys()):\n",
    "    for i, item in enumerate(Dict_new[v]):\n",
    "        fig = get_blue(item)\n",
    "        plt.imshow(fig)\n",
    "        plt.savefig(\"/Users/chiaentsai/Desktop/lab/Temperature_Calibration/5mm_frame_figure/{}mm_5mmframe_{}.png\".format(v,i), format=\"PNG\")\n",
    "        plt.close()"
   ]
  },
  {
   "cell_type": "markdown",
   "id": "f1c3b9d6",
   "metadata": {},
   "source": [
    "### 5mm frame figures (no background)"
   ]
  },
  {
   "cell_type": "code",
   "execution_count": 59,
   "id": "66e7b326",
   "metadata": {},
   "outputs": [],
   "source": [
    "for I, v in enumerate(list(Dict_new.keys())):\n",
    "    for i, item in enumerate(Dict_new[v]):\n",
    "        original = get_blue(item)\n",
    "        back = get_blue(b_files[I])\n",
    "        fig = original - back\n",
    "        plt.imshow(fig)\n",
    "        plt.savefig(\"/Users/chiaentsai/Desktop/lab/Temperature_Calibration/noback_5mm_frame_figure/{}mm_5mmframe_{}.png\".format(v,i), format=\"PNG\")\n",
    "        plt.close()"
   ]
  },
  {
   "cell_type": "markdown",
   "id": "2649fef7",
   "metadata": {},
   "source": [
    "### All frame figures"
   ]
  },
  {
   "cell_type": "code",
   "execution_count": null,
   "id": "ff1d9828",
   "metadata": {},
   "outputs": [],
   "source": [
    "for v in list(Dict.keys()):\n",
    "    for i, item in enumerate(Dict_new[v]):\n",
    "        fig = get_blue(item)\n",
    "        plt.imshow(fig)\n",
    "        plt.savefig(\"/Users/chiaentsai/Desktop/lab/Temperature_Calibration/5mm_frame_figure/{}mm_5mmframe_{}.png\".format(v,i), format=\"PNG\")\n",
    "        plt.close()"
   ]
  },
  {
   "cell_type": "code",
   "execution_count": 60,
   "id": "eeaa46c6",
   "metadata": {},
   "outputs": [
    {
     "data": {
      "text/plain": [
       "['/Users/chiaentsai/Box/MURI-SARA/Thermoreflectance/chess_2022_2_0412/TR_0412/103mm per sec',\n",
       " '/Users/chiaentsai/Box/MURI-SARA/Thermoreflectance/chess_2022_2_0412/TR_0412/13mm per sec',\n",
       " '/Users/chiaentsai/Box/MURI-SARA/Thermoreflectance/chess_2022_2_0412/TR_0412/155mm per sec',\n",
       " '/Users/chiaentsai/Box/MURI-SARA/Thermoreflectance/chess_2022_2_0412/TR_0412/190mm per sec',\n",
       " '/Users/chiaentsai/Box/MURI-SARA/Thermoreflectance/chess_2022_2_0412/TR_0412/20mm per sec',\n",
       " '/Users/chiaentsai/Box/MURI-SARA/Thermoreflectance/chess_2022_2_0412/TR_0412/234mm per sec',\n",
       " '/Users/chiaentsai/Box/MURI-SARA/Thermoreflectance/chess_2022_2_0412/TR_0412/30mm per sec',\n",
       " '/Users/chiaentsai/Box/MURI-SARA/Thermoreflectance/chess_2022_2_0412/TR_0412/352mm per sec',\n",
       " '/Users/chiaentsai/Box/MURI-SARA/Thermoreflectance/chess_2022_2_0412/TR_0412/45mm per sec',\n",
       " '/Users/chiaentsai/Box/MURI-SARA/Thermoreflectance/chess_2022_2_0412/TR_0412/68mm per sec',\n",
       " '/Users/chiaentsai/Box/MURI-SARA/Thermoreflectance/chess_2022_2_0412/TR_0412/9mm per sec']"
      ]
     },
     "execution_count": 60,
     "metadata": {},
     "output_type": "execute_result"
    }
   ],
   "source": [
    "v_path_list"
   ]
  },
  {
   "cell_type": "code",
   "execution_count": 62,
   "id": "e996f7fc",
   "metadata": {},
   "outputs": [
    {
     "data": {
      "text/plain": [
       "11"
      ]
     },
     "execution_count": 62,
     "metadata": {},
     "output_type": "execute_result"
    }
   ],
   "source": [
    "len(big_list)"
   ]
  },
  {
   "cell_type": "code",
   "execution_count": 63,
   "id": "b9a7ba55",
   "metadata": {},
   "outputs": [
    {
     "data": {
      "text/plain": [
       "[103, 13, 155, 190, 20, 234, 30, 352, 45, 68, 9]"
      ]
     },
     "execution_count": 63,
     "metadata": {},
     "output_type": "execute_result"
    }
   ],
   "source": [
    "list(Dict_new.keys())"
   ]
  },
  {
   "cell_type": "markdown",
   "id": "3a3c4da6",
   "metadata": {},
   "source": [
    "# Get kappa"
   ]
  },
  {
   "cell_type": "code",
   "execution_count": null,
   "id": "128446f7",
   "metadata": {},
   "outputs": [],
   "source": []
  },
  {
   "cell_type": "markdown",
   "id": "b0d4141e",
   "metadata": {},
   "source": [
    "# Fit plane"
   ]
  },
  {
   "cell_type": "code",
   "execution_count": null,
   "id": "f134b86b",
   "metadata": {},
   "outputs": [],
   "source": []
  }
 ],
 "metadata": {
  "kernelspec": {
   "display_name": "Python 3 (ipykernel)",
   "language": "python",
   "name": "python3"
  },
  "language_info": {
   "codemirror_mode": {
    "name": "ipython",
    "version": 3
   },
   "file_extension": ".py",
   "mimetype": "text/x-python",
   "name": "python",
   "nbconvert_exporter": "python",
   "pygments_lexer": "ipython3",
   "version": "3.9.0"
  }
 },
 "nbformat": 4,
 "nbformat_minor": 5
}
