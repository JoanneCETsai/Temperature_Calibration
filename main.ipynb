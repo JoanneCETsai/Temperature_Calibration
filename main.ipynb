{
 "cells": [
  {
   "cell_type": "code",
   "execution_count": 40,
   "id": "82b36748",
   "metadata": {},
   "outputs": [],
   "source": [
    "%run \"/Users/chiaentsai/Desktop/lab/Temperature_Calibration/curve_fit_.ipynb\"\n",
    "%run \"/Users/chiaentsai/Desktop/lab/Temperature_Calibration/data_processing_.ipynb\"\n",
    "%run \"/Users/chiaentsai/Desktop/lab/Temperature_Calibration/evaluation_functions_.ipynb\"\n",
    "%run \"/Users/chiaentsai/Desktop/lab/Temperature_Calibration/fitting_functions_.ipynb\"\n",
    "%run \"/Users/chiaentsai/Desktop/lab/Temperature_Calibration/get_temperature_.ipynb\""
   ]
  },
  {
   "cell_type": "code",
   "execution_count": 41,
   "id": "776716cc",
   "metadata": {},
   "outputs": [],
   "source": [
    "from pathlib import Path\n",
    "from enum import Enum\n",
    "import cv2\n",
    "from cv2 import imwrite\n",
    "from tqdm import tqdm\n",
    "import numpy as np\n",
    "import matplotlib.pyplot as plt\n",
    "import math\n",
    "from sklearn import preprocessing\n",
    "from time import time\n",
    "from scipy.optimize import curve_fit\n",
    "%matplotlib inline\n",
    "import scipy.stats\n",
    "from util import parse_fn, is_bg\n",
    "from scipy import stats\n",
    "from scipy.stats import skewnorm\n",
    "from scipy.special import erf\n",
    "from scipy.special import voigt_profile"
   ]
  },
  {
   "cell_type": "markdown",
   "id": "5ffb0c56",
   "metadata": {},
   "source": [
    "# information of picture"
   ]
  },
  {
   "cell_type": "code",
   "execution_count": 42,
   "id": "7fd3b0ac",
   "metadata": {},
   "outputs": [],
   "source": [
    "HEADER_LEN = 152 \n",
    "X_DIM = 1200 \n",
    "Y_DIM = 1920"
   ]
  },
  {
   "cell_type": "markdown",
   "id": "a8f00cbf",
   "metadata": {},
   "source": [
    "# Input Files"
   ]
  },
  {
   "cell_type": "markdown",
   "id": "c49c26e4",
   "metadata": {},
   "source": [
    "### input needed: "
   ]
  },
  {
   "cell_type": "markdown",
   "id": "217d9de9",
   "metadata": {},
   "source": [
    "### 1. name of the folder containing different velocity's picture"
   ]
  },
  {
   "cell_type": "markdown",
   "id": "0374d9d2",
   "metadata": {},
   "source": [
    "### 2. velovity we measure (todo: don't need this!) "
   ]
  },
  {
   "cell_type": "code",
   "execution_count": 43,
   "id": "36813a12",
   "metadata": {},
   "outputs": [],
   "source": [
    "folder = \"/Users/chiaentsai/Box/MURI-SARA/Thermoreflectance/chess_2022_2_0412/TR_0412\""
   ]
  },
  {
   "cell_type": "code",
   "execution_count": 44,
   "id": "ef4f99bd",
   "metadata": {},
   "outputs": [],
   "source": [
    "import os\n",
    "from pathlib import Path\n",
    "v_path_list = []\n",
    "for root, dirs, files in os.walk(folder, topdown=False):\n",
    "    for name in dirs:\n",
    "        v_path_list.append(os.path.join(root, name))\n",
    "        \n",
    "big_list = []\n",
    "for item in v_path_list:\n",
    "    p_pathlist = Path(item).glob('**/*.raw')\n",
    "    p_path_list = []\n",
    "    for path in p_pathlist:\n",
    "        p_path_list.append(path)\n",
    "    big_list.append(p_path_list)\n",
    "    \n",
    "Dict = {103: big_list[0], \n",
    "        13: big_list[1],\n",
    "        155: big_list[2],\n",
    "        190: big_list[3],\n",
    "        20: big_list[4],\n",
    "        234: big_list[5],\n",
    "        30: big_list[6],\n",
    "        352: big_list[7],\n",
    "        45: big_list[8],\n",
    "        68: big_list[9],\n",
    "        9: big_list[10],\n",
    "       }\n",
    "\n",
    "frame_num = []\n",
    "for i in list(Dict.keys()):\n",
    "    frame_num.append(round(5/i*40+1))\n",
    "\n",
    "import os\n",
    "b_files = []\n",
    "all_v_files = []\n",
    "for i in range(0,len(frame_num), 1):\n",
    "    files=[]\n",
    "    for file in os.listdir(v_path_list[i]):\n",
    "        if file.endswith(\"_00{}.raw\".format(frame_num[i])) or file.endswith(\"_0{}.raw\".format(frame_num[i])):\n",
    "            name = str(os.path.join(v_path_list[i], file))\n",
    "            files.append(name)\n",
    "    all_v_files.append(files)\n",
    "    b_files.append(files[0])\n",
    "    \n",
    "Dict_new = {103: all_v_files[0], \n",
    "        13: all_v_files[1],\n",
    "        155: all_v_files[2],\n",
    "        190: all_v_files[3],\n",
    "        20: all_v_files[4],\n",
    "        234: all_v_files[5],\n",
    "        30: all_v_files[6],\n",
    "        352: all_v_files[7],\n",
    "        45: all_v_files[8],\n",
    "        68: all_v_files[9],\n",
    "        9: all_v_files[10],\n",
    "       }"
   ]
  },
  {
   "cell_type": "markdown",
   "id": "e99941f0",
   "metadata": {},
   "source": [
    "# Visualization"
   ]
  },
  {
   "cell_type": "markdown",
   "id": "d3eb1595",
   "metadata": {},
   "source": [
    "### 5mm frame figures"
   ]
  },
  {
   "cell_type": "code",
   "execution_count": 45,
   "id": "c555fa93",
   "metadata": {},
   "outputs": [],
   "source": [
    "for v in list(Dict_new.keys()):\n",
    "    for i, item in enumerate(Dict_new[v]):\n",
    "        fig = get_blue(item)\n",
    "        plt.imshow(fig)\n",
    "        plt.savefig(\"/Users/chiaentsai/Desktop/lab/Temperature_Calibration/5mm_frame_figure/{}mm_5mmframe_{}.png\".format(v,i), format=\"PNG\")\n",
    "        plt.close()"
   ]
  },
  {
   "cell_type": "markdown",
   "id": "66fc05f3",
   "metadata": {},
   "source": [
    "### 5mm frame figures (no background)"
   ]
  },
  {
   "cell_type": "code",
   "execution_count": 46,
   "id": "ed08dc4b",
   "metadata": {},
   "outputs": [],
   "source": [
    "for I, v in enumerate(list(Dict_new.keys())):\n",
    "    for i, item in enumerate(Dict_new[v]):\n",
    "        original = get_blue(item)\n",
    "        back = get_blue(b_files[I])\n",
    "        fig = original - back\n",
    "        plt.imshow(fig)\n",
    "        plt.savefig(\"/Users/chiaentsai/Desktop/lab/Temperature_Calibration/noback_5mm_frame_figure/{}mm_5mmframe_{}.png\".format(v,i), format=\"PNG\")\n",
    "        plt.close()"
   ]
  },
  {
   "cell_type": "markdown",
   "id": "2031396d",
   "metadata": {},
   "source": [
    "### All frame figures (no background)"
   ]
  },
  {
   "cell_type": "code",
   "execution_count": null,
   "id": "ca69c429",
   "metadata": {},
   "outputs": [],
   "source": [
    "'''\n",
    "for I, v in enumerate(list(Dict.keys())):\n",
    "    for i, item in enumerate(Dict[v]):\n",
    "        original = get_blue(item)\n",
    "        back = get_blue(b_files[I])\n",
    "        fig = original - back\n",
    "        plt.imshow(fig)\n",
    "        plt.savefig(\"/Users/chiaentsai/Desktop/lab/Temperature_Calibration/noback_all_frame_figure/{}mm_{}.png\".format(v,i), format=\"PNG\")\n",
    "        plt.close()\n",
    "'''"
   ]
  },
  {
   "cell_type": "markdown",
   "id": "3a3c4da6",
   "metadata": {},
   "source": [
    "# Get kappa (gold melt)"
   ]
  },
  {
   "cell_type": "markdown",
   "id": "47379331",
   "metadata": {},
   "source": [
    "### input needed: gold melting power at specific velocity "
   ]
  },
  {
   "cell_type": "code",
   "execution_count": 47,
   "id": "1be1a449",
   "metadata": {},
   "outputs": [],
   "source": [
    "gold_melt = [54,58,45,49.5,52,42.5]\n",
    "Dict_used = {103: all_v_files[0], \n",
    "        155: all_v_files[2],\n",
    "        20: all_v_files[4],\n",
    "        45: all_v_files[8],\n",
    "        68: all_v_files[9],\n",
    "        9: all_v_files[10],\n",
    "       }"
   ]
  },
  {
   "cell_type": "code",
   "execution_count": 48,
   "id": "28f61758",
   "metadata": {},
   "outputs": [],
   "source": [
    "Dict_gold = {k: Dict_used[k][1:] for k in Dict_used}\n",
    "b_files_gold = [b_files[i] for i in [0,2,4,8,9,10]]\n",
    "Dict_dRoverR = dict.fromkeys(list(Dict_gold.keys()),[])\n",
    "\n",
    "dRoverR = []\n",
    "for i, v in enumerate(list(Dict_gold.keys())):\n",
    "    con = []\n",
    "    for file in Dict_gold[list(Dict_gold.keys())[i]]:\n",
    "        val = peak_dRoverR(file, b_files_gold[i], poly5, poly5)\n",
    "        con.append(val)\n",
    "    dRoverR.append(con)\n",
    "    \n",
    "power=[]\n",
    "for i, v in enumerate(list(Dict_gold.keys())):\n",
    "    con = np.linspace(29,29+2*(len(Dict_gold[v])-1),(len(Dict_gold[v])-1)+1)\n",
    "    power.append(con)\n",
    "powers = [i.astype(int) for i in power]"
   ]
  },
  {
   "cell_type": "markdown",
   "id": "0ca95d14",
   "metadata": {},
   "source": [
    "### visualization and fitting"
   ]
  },
  {
   "cell_type": "code",
   "execution_count": 49,
   "id": "0e0756c0",
   "metadata": {},
   "outputs": [],
   "source": [
    "for i, v in enumerate(list(Dict_gold.keys())):\n",
    "    plt.plot(powers[i], dRoverR[i], '.')\n",
    "    plt.xlabel(\"power\")\n",
    "    plt.ylabel(\"dR/R\")\n",
    "    plt.savefig(\"/Users/chiaentsai/Desktop/lab/Temperature_Calibration/gold_dRoverR_figure/{}mm.png\".format(v), format=\"PNG\")\n",
    "    plt.close()"
   ]
  },
  {
   "cell_type": "code",
   "execution_count": 50,
   "id": "a1717747",
   "metadata": {},
   "outputs": [],
   "source": [
    "kappa_gold = []\n",
    "for i, v in enumerate(list(Dict_gold.keys())):\n",
    "    popt, pcov = curve_fit(expo, powers[i], dRoverR[i], p0 = [1, 0.0000001, 1], maxfev = 5000)\n",
    "    plt.plot(powers[i], dRoverR[i], '.')\n",
    "    plt.plot(powers[i], expo(powers[i], *popt))\n",
    "    plt.xlabel(\"power\")\n",
    "    plt.ylabel(\"dR/R\")\n",
    "    plt.savefig(\"/Users/chiaentsai/Desktop/lab/Temperature_Calibration/gold_dRoverR_fit_figure/{}mm.png\".format(v), format=\"PNG\")\n",
    "    plt.close()\n",
    "    a, b, c = popt\n",
    "    y_pred = expo(powers[i], *popt)\n",
    "    f = expo(gold_melt[i], *popt)\n",
    "    gold_m = 1064\n",
    "    dT = gold_m - 25\n",
    "    kappa = f / dT\n",
    "    kappa_gold.append(kappa)"
   ]
  },
  {
   "cell_type": "code",
   "execution_count": 51,
   "id": "a0e9d1b2",
   "metadata": {},
   "outputs": [],
   "source": [
    "Dict_kappa_gold = dict(zip(list(Dict_gold.keys()),kappa_gold))"
   ]
  },
  {
   "cell_type": "code",
   "execution_count": 52,
   "id": "a73d9977",
   "metadata": {
    "scrolled": true
   },
   "outputs": [
    {
     "data": {
      "text/plain": [
       "[<matplotlib.lines.Line2D at 0x7fc78fe56790>]"
      ]
     },
     "execution_count": 52,
     "metadata": {},
     "output_type": "execute_result"
    },
    {
     "data": {
      "image/png": "[encoded data removed]",
      "text/plain": [
       "<Figure size 432x288 with 1 Axes>"
      ]
     },
     "metadata": {
      "needs_background": "light"
     },
     "output_type": "display_data"
    }
   ],
   "source": [
    "plt.plot(list(Dict_gold.keys()), kappa_gold, '.')"
   ]
  },
  {
   "cell_type": "code",
   "execution_count": 53,
   "id": "5b7d9bbc",
   "metadata": {},
   "outputs": [],
   "source": [
    "avg_kappa_gold = sum(kappa_gold) / len(kappa_gold)"
   ]
  },
  {
   "cell_type": "markdown",
   "id": "772d5c73",
   "metadata": {},
   "source": [
    "# Get kappa (silicon melt)"
   ]
  },
  {
   "cell_type": "markdown",
   "id": "aa60d23d",
   "metadata": {},
   "source": [
    "### input need: si melting power at specific velocity"
   ]
  },
  {
   "cell_type": "code",
   "execution_count": 14,
   "id": "87d2cda9",
   "metadata": {},
   "outputs": [],
   "source": [
    "si_melt = [49.75, 51.5, 53.5, 56, 48.5]\n",
    "Dict_used = { 13: all_v_files[1],\n",
    "        20: all_v_files[4],\n",
    "        30: all_v_files[6],\n",
    "        45: all_v_files[8],\n",
    "        9: all_v_files[10],\n",
    "       }"
   ]
  },
  {
   "cell_type": "code",
   "execution_count": 15,
   "id": "feae568b",
   "metadata": {},
   "outputs": [],
   "source": [
    "Dict_si = {k: Dict_used[k][1:] for k in Dict_used}\n",
    "b_files_si = [b_files[i] for i in [1,4,6,8,10]]\n",
    "Dict_dRoverR = dict.fromkeys(list(Dict_si.keys()),[])\n",
    "\n",
    "dRoverR = []\n",
    "for i, v in enumerate(list(Dict_si.keys())):\n",
    "    con = []\n",
    "    for file in Dict_si[list(Dict_si.keys())[i]]:\n",
    "        val = peak_dRoverR(file, b_files_si[i], poly5, poly5)\n",
    "        con.append(val)\n",
    "    dRoverR.append(con)\n",
    "    \n",
    "power=[]\n",
    "for i, v in enumerate(list(Dict_si.keys())):\n",
    "    con = np.linspace(29,29+2*(len(Dict_si[v])-1),(len(Dict_si[v])-1)+1)\n",
    "    power.append(con)\n",
    "powers = [i.astype(int) for i in power]"
   ]
  },
  {
   "cell_type": "markdown",
   "id": "3ca12cae",
   "metadata": {},
   "source": [
    "### visualization and fitting"
   ]
  },
  {
   "cell_type": "code",
   "execution_count": 16,
   "id": "1cd49396",
   "metadata": {},
   "outputs": [],
   "source": [
    "for i, v in enumerate(list(Dict_si.keys())):\n",
    "    plt.plot(powers[i], dRoverR[i], '.')\n",
    "    plt.xlabel(\"power\")\n",
    "    plt.ylabel(\"dR/R\")\n",
    "    plt.savefig(\"/Users/chiaentsai/Desktop/lab/Temperature_Calibration/si_dRoverR_figure/{}mm.png\".format(v), format=\"PNG\")\n",
    "    plt.close()"
   ]
  },
  {
   "cell_type": "code",
   "execution_count": 17,
   "id": "24fd18fa",
   "metadata": {},
   "outputs": [],
   "source": [
    "kappa_si = []\n",
    "for i, v in enumerate(list(Dict_si.keys())):\n",
    "    popt, pcov = curve_fit(expo, powers[i], dRoverR[i], p0 = [1, 0.0000001, 1], maxfev = 5000)\n",
    "    plt.plot(powers[i], dRoverR[i], '.')\n",
    "    plt.plot(powers[i], expo(powers[i], *popt))\n",
    "    plt.xlabel(\"power\")\n",
    "    plt.ylabel(\"dR/R\")\n",
    "    plt.savefig(\"/Users/chiaentsai/Desktop/lab/Temperature_Calibration/si_dRoverR_fit_figure/{}mm.png\".format(v), format=\"PNG\")\n",
    "    plt.close()\n",
    "    a, b, c = popt\n",
    "    y_pred = expo(powers[i], *popt)\n",
    "    f = expo(si_melt[i], *popt)\n",
    "    si_m = 1410\n",
    "    dT = si_m - 25\n",
    "    kappa = f / dT\n",
    "    kappa_si.append(kappa)"
   ]
  },
  {
   "cell_type": "code",
   "execution_count": 18,
   "id": "0f1c9901",
   "metadata": {},
   "outputs": [],
   "source": [
    "Dict_kappa_si = dict(zip(list(Dict_si.keys()),kappa_si))"
   ]
  },
  {
   "cell_type": "code",
   "execution_count": 19,
   "id": "647d8163",
   "metadata": {
    "scrolled": true
   },
   "outputs": [
    {
     "data": {
      "text/plain": [
       "[<matplotlib.lines.Line2D at 0x7fc793efdd60>]"
      ]
     },
     "execution_count": 19,
     "metadata": {},
     "output_type": "execute_result"
    },
    {
     "data": {
      "image/png": "[encoded data removed]",
      "text/plain": [
       "<Figure size 432x288 with 1 Axes>"
      ]
     },
     "metadata": {
      "needs_background": "light"
     },
     "output_type": "display_data"
    }
   ],
   "source": [
    "plt.plot(list(Dict_si.keys()), kappa_si, '.')"
   ]
  },
  {
   "cell_type": "markdown",
   "id": "4e6541ae",
   "metadata": {},
   "source": [
    "# T vs frame"
   ]
  },
  {
   "cell_type": "code",
   "execution_count": 166,
   "id": "c53a33f1",
   "metadata": {},
   "outputs": [],
   "source": [
    "v = 45\n",
    "w = 31"
   ]
  },
  {
   "cell_type": "code",
   "execution_count": 167,
   "id": "313e1ebb",
   "metadata": {
    "scrolled": false
   },
   "outputs": [
    {
     "data": {
      "text/plain": [
       "Text(0, 0.5, 'temperature')"
      ]
     },
     "execution_count": 167,
     "metadata": {},
     "output_type": "execute_result"
    },
    {
     "data": {
      "image/png": "[encoded data removed]",
      "text/plain": [
       "<Figure size 432x288 with 1 Axes>"
      ]
     },
     "metadata": {
      "needs_background": "light"
     },
     "output_type": "display_data"
    }
   ],
   "source": [
    "import glob, os\n",
    "os.chdir(v_path_list[list(Dict.keys()).index(v)])\n",
    "paths = []\n",
    "for file in glob.glob(\"*{}W*\".format(w)):\n",
    "    file = v_path_list[list(Dict.keys()).index(v)] + \"/\" + file\n",
    "    paths.append(file)\n",
    "paths = paths[1:]\n",
    "frame_tem = []\n",
    "for path in paths:\n",
    "    val = get_peak_T(path, b_files[list(Dict.keys()).index(v)], poly5, poly5, avg_kappa_gold)\n",
    "    frame_tem.append(val)\n",
    "\n",
    "plt.plot(frame_tem)\n",
    "plt.xlabel(\"frame\")\n",
    "plt.ylabel(\"temperature\")"
   ]
  },
  {
   "cell_type": "code",
   "execution_count": 175,
   "id": "5dc53f80",
   "metadata": {},
   "outputs": [],
   "source": [
    "tem = []\n",
    "for i in range(0,len(Dict)):\n",
    "    os.chdir(v_path_list[i])\n",
    "    con = []\n",
    "    for file in glob.glob(\"*{}W*\".format(w)):\n",
    "        fi = v_path_list[i] + \"/\" + file\n",
    "        con.append(fi)\n",
    "    con = con[1:]\n",
    "    frame_tem = []\n",
    "    for path in con:\n",
    "        val = get_peak_T(path, b_files[i], poly5, poly5, avg_kappa_gold)\n",
    "        frame_tem.append(val)\n",
    "    tem.append(frame_tem)"
   ]
  },
  {
   "cell_type": "code",
   "execution_count": 177,
   "id": "2d96e8b8",
   "metadata": {
    "scrolled": true
   },
   "outputs": [
    {
     "data": {
      "image/png": "[encoded data removed]",
      "text/plain": [
       "<Figure size 432x288 with 1 Axes>"
      ]
     },
     "metadata": {
      "needs_background": "light"
     },
     "output_type": "display_data"
    }
   ],
   "source": [
    "for item in tem:\n",
    "    plt.plot(item)\n",
    "    plt.xlabel(\"frame\")\n",
    "    plt.ylabel(\"temperature\")"
   ]
  },
  {
   "cell_type": "markdown",
   "id": "b0d4141e",
   "metadata": {},
   "source": [
    "# Fit plane"
   ]
  },
  {
   "cell_type": "code",
   "execution_count": null,
   "id": "b45d02d0",
   "metadata": {},
   "outputs": [],
   "source": []
  },
  {
   "cell_type": "code",
   "execution_count": null,
   "id": "02b7c2fb",
   "metadata": {},
   "outputs": [],
   "source": []
  },
  {
   "cell_type": "code",
   "execution_count": null,
   "id": "773d89a8",
   "metadata": {},
   "outputs": [],
   "source": []
  },
  {
   "cell_type": "code",
   "execution_count": null,
   "id": "004b866d",
   "metadata": {},
   "outputs": [],
   "source": []
  },
  {
   "cell_type": "code",
   "execution_count": null,
   "id": "2ed7accb",
   "metadata": {},
   "outputs": [],
   "source": []
  },
  {
   "cell_type": "code",
   "execution_count": null,
   "id": "57125740",
   "metadata": {},
   "outputs": [],
   "source": []
  },
  {
   "cell_type": "code",
   "execution_count": null,
   "id": "860b41c6",
   "metadata": {},
   "outputs": [],
   "source": []
  },
  {
   "cell_type": "code",
   "execution_count": null,
   "id": "9cf2be0b",
   "metadata": {},
   "outputs": [],
   "source": []
  }
 ],
 "metadata": {
  "kernelspec": {
   "display_name": "Python 3 (ipykernel)",
   "language": "python",
   "name": "python3"
  },
  "language_info": {
   "codemirror_mode": {
    "name": "ipython",
    "version": 3
   },
   "file_extension": ".py",
   "mimetype": "text/x-python",
   "name": "python",
   "nbconvert_exporter": "python",
   "pygments_lexer": "ipython3",
   "version": "3.9.0"
  }
 },
 "nbformat": 4,
 "nbformat_minor": 5
}
