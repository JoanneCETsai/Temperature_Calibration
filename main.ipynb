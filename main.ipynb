{
 "cells": [
  {
   "cell_type": "code",
   "execution_count": 2,
   "id": "82b36748",
   "metadata": {},
   "outputs": [],
   "source": [
    "%run \"/Users/chiaentsai/Desktop/lab/Temperature_Calibration/curve_fit_.ipynb\"\n",
    "%run \"/Users/chiaentsai/Desktop/lab/Temperature_Calibration/data_processing_.ipynb\"\n",
    "%run \"/Users/chiaentsai/Desktop/lab/Temperature_Calibration/evaluation_functions_.ipynb\"\n",
    "%run \"/Users/chiaentsai/Desktop/lab/Temperature_Calibration/fitting_functions_.ipynb\"\n",
    "%run \"/Users/chiaentsai/Desktop/lab/Temperature_Calibration/get_temperature_.ipynb\""
   ]
  },
  {
   "cell_type": "code",
   "execution_count": 95,
   "id": "776716cc",
   "metadata": {},
   "outputs": [],
   "source": [
    "from pathlib import Path\n",
    "from enum import Enum\n",
    "import cv2\n",
    "from cv2 import imwrite\n",
    "from tqdm import tqdm\n",
    "import numpy as np\n",
    "import matplotlib.pyplot as plt\n",
    "import math\n",
    "from sklearn import preprocessing\n",
    "from time import time\n",
    "from scipy.optimize import curve_fit\n",
    "%matplotlib inline\n",
    "import scipy.stats\n",
    "from util import parse_fn, is_bg\n",
    "from scipy import stats\n",
    "from scipy.stats import skewnorm\n",
    "from scipy.special import erf\n",
    "from scipy.special import voigt_profile"
   ]
  },
  {
   "cell_type": "markdown",
   "id": "5ffb0c56",
   "metadata": {},
   "source": [
    "# information of picture"
   ]
  },
  {
   "cell_type": "code",
   "execution_count": 4,
   "id": "7fd3b0ac",
   "metadata": {},
   "outputs": [],
   "source": [
    "HEADER_LEN = 152 \n",
    "X_DIM = 1200 \n",
    "Y_DIM = 1920"
   ]
  },
  {
   "cell_type": "markdown",
   "id": "a8f00cbf",
   "metadata": {},
   "source": [
    "# Input Files"
   ]
  },
  {
   "cell_type": "code",
   "execution_count": 18,
   "id": "36813a12",
   "metadata": {},
   "outputs": [],
   "source": [
    "folder = \"/Users/chiaentsai/Box/MURI-SARA/Thermoreflectance/chess_2022_2_0412/TR_0412\""
   ]
  },
  {
   "cell_type": "code",
   "execution_count": 64,
   "id": "ef4f99bd",
   "metadata": {},
   "outputs": [],
   "source": [
    "import os\n",
    "from pathlib import Path\n",
    "v_path_list = []\n",
    "for root, dirs, files in os.walk(folder, topdown=False):\n",
    "    for name in dirs:\n",
    "        v_path_list.append(os.path.join(root, name))\n",
    "        \n",
    "big_list = []\n",
    "for item in v_path_list:\n",
    "    p_pathlist = Path(item).glob('**/*.raw')\n",
    "    p_path_list = []\n",
    "    for path in p_pathlist:\n",
    "        p_path_list.append(path)\n",
    "    big_list.append(p_path_list)\n",
    "    \n",
    "Dict = {103: big_list[0], \n",
    "        13: big_list[1],\n",
    "        155: big_list[2],\n",
    "        190: big_list[3],\n",
    "        20: big_list[4],\n",
    "        234: big_list[5],\n",
    "        30: big_list[6],\n",
    "        352: big_list[7],\n",
    "        45: big_list[8],\n",
    "        68: big_list[9],\n",
    "        9: big_list[10],\n",
    "       }\n",
    "\n",
    "frame_num = []\n",
    "for i in list(Dict.keys()):\n",
    "    frame_num.append(round(5/i*40+1))\n"
   ]
  },
  {
   "cell_type": "code",
   "execution_count": 117,
   "id": "15e07c0a",
   "metadata": {
    "scrolled": false
   },
   "outputs": [
    {
     "data": {
      "text/plain": [
       "[3, 16, 2, 2, 11, 2, 8, 2, 5, 4, 23]"
      ]
     },
     "execution_count": 117,
     "metadata": {},
     "output_type": "execute_result"
    }
   ],
   "source": [
    "frame_num"
   ]
  },
  {
   "cell_type": "code",
   "execution_count": 111,
   "id": "421374fb",
   "metadata": {},
   "outputs": [
    {
     "name": "stdout",
     "output_type": "stream",
     "text": [
      "0\n",
      "1\n",
      "2\n",
      "3\n",
      "4\n",
      "5\n",
      "6\n",
      "7\n",
      "8\n",
      "9\n",
      "10\n"
     ]
    }
   ],
   "source": [
    "for i in range(0,len(frame_num),1):\n",
    "    print(i)"
   ]
  },
  {
   "cell_type": "code",
   "execution_count": 99,
   "id": "94712e82",
   "metadata": {
    "scrolled": true
   },
   "outputs": [
    {
     "data": {
      "text/plain": [
       "array([ 0.,  1.,  2.,  3.,  4.,  5.,  6.,  7.,  8.,  9., 10.])"
      ]
     },
     "execution_count": 99,
     "metadata": {},
     "output_type": "execute_result"
    }
   ],
   "source": [
    "np.linspace(0,len(frame_num)-1,len(frame_num))"
   ]
  },
  {
   "cell_type": "code",
   "execution_count": 123,
   "id": "c8a1d364",
   "metadata": {},
   "outputs": [],
   "source": [
    "import os\n",
    "b_files = []\n",
    "all_v_files = []\n",
    "for i in range(0,len(frame_num), 1):\n",
    "    for file in os.listdir(v_path_list[i]):\n",
    "        files=[]\n",
    "        if file.endswith(\"_00{}.raw\".format(frame_num[i])):\n",
    "            name = str(os.path.join(v_path_list[i], file))\n",
    "            files.append(name)\n",
    "            \n",
    "        all_files.append(files)"
   ]
  },
  {
   "cell_type": "code",
   "execution_count": 124,
   "id": "75767854",
   "metadata": {
    "scrolled": true
   },
   "outputs": [
    {
     "data": {
      "text/plain": [
       "0"
      ]
     },
     "execution_count": 124,
     "metadata": {},
     "output_type": "execute_result"
    }
   ],
   "source": [
    "len(all_v_files)"
   ]
  },
  {
   "cell_type": "code",
   "execution_count": 138,
   "id": "1fed23f3",
   "metadata": {},
   "outputs": [],
   "source": [
    "\n",
    "for file in os.listdir(v_path_list[0]):\n",
    "    files=[]\n",
    "    if file.endswith(\"_00{}.raw\".format(frame_num[0])):\n",
    "        name = str(os.path.join(v_path_list[0], file))\n",
    "        files.append(name)"
   ]
  },
  {
   "cell_type": "code",
   "execution_count": 139,
   "id": "1e43b40c",
   "metadata": {},
   "outputs": [
    {
     "data": {
      "text/plain": [
       "[]"
      ]
     },
     "execution_count": 139,
     "metadata": {},
     "output_type": "execute_result"
    }
   ],
   "source": [
    "files"
   ]
  },
  {
   "cell_type": "code",
   "execution_count": 66,
   "id": "134d5d7a",
   "metadata": {},
   "outputs": [
    {
     "data": {
      "text/plain": [
       "dict_keys([103, 13, 155, 190, 20, 234, 30, 352, 45, 68, 9])"
      ]
     },
     "execution_count": 66,
     "metadata": {},
     "output_type": "execute_result"
    }
   ],
   "source": [
    "import os\n",
    "files = []\n",
    "for file in os.listdir(\"/Users/chiaentsai/Box/MURI-SARA/Thermoreflectance/chess_2022_2_0412/TR_0412/103mm per sec\"):\n",
    "    if file.endswith(\"_004.raw\"):\n",
    "        name = str(os.path.join(\"/Users/chiaentsai/Box/MURI-SARA/Thermoreflectance/chess_2022_2_0412/TR_0412/103mm per sec\", file))\n",
    "        files.append(name)\n",
    "        \n",
    "b_file = files[0]"
   ]
  },
  {
   "cell_type": "markdown",
   "id": "e99941f0",
   "metadata": {},
   "source": [
    "# Visualization"
   ]
  },
  {
   "cell_type": "code",
   "execution_count": null,
   "id": "c555fa93",
   "metadata": {},
   "outputs": [],
   "source": []
  },
  {
   "cell_type": "markdown",
   "id": "3a3c4da6",
   "metadata": {},
   "source": [
    "# Get kappa"
   ]
  },
  {
   "cell_type": "code",
   "execution_count": null,
   "id": "128446f7",
   "metadata": {},
   "outputs": [],
   "source": []
  },
  {
   "cell_type": "markdown",
   "id": "b0d4141e",
   "metadata": {},
   "source": [
    "# Fit plane"
   ]
  },
  {
   "cell_type": "code",
   "execution_count": null,
   "id": "f134b86b",
   "metadata": {},
   "outputs": [],
   "source": []
  }
 ],
 "metadata": {
  "kernelspec": {
   "display_name": "Python 3 (ipykernel)",
   "language": "python",
   "name": "python3"
  },
  "language_info": {
   "codemirror_mode": {
    "name": "ipython",
    "version": 3
   },
   "file_extension": ".py",
   "mimetype": "text/x-python",
   "name": "python",
   "nbconvert_exporter": "python",
   "pygments_lexer": "ipython3",
   "version": "3.9.0"
  }
 },
 "nbformat": 4,
 "nbformat_minor": 5
}
