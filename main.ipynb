{
 "cells": [
  {
   "cell_type": "code",
   "execution_count": 83,
   "id": "82b36748",
   "metadata": {},
   "outputs": [],
   "source": [
    "%run \"/Users/chiaentsai/Desktop/lab/Temperature_Calibration/curve_fit_.ipynb\"\n",
    "%run \"/Users/chiaentsai/Desktop/lab/Temperature_Calibration/data_processing_.ipynb\"\n",
    "%run \"/Users/chiaentsai/Desktop/lab/Temperature_Calibration/evaluation_functions_.ipynb\"\n",
    "%run \"/Users/chiaentsai/Desktop/lab/Temperature_Calibration/fitting_functions_.ipynb\"\n",
    "%run \"/Users/chiaentsai/Desktop/lab/Temperature_Calibration/get_temperature_.ipynb\""
   ]
  },
  {
   "cell_type": "code",
   "execution_count": 84,
   "id": "776716cc",
   "metadata": {},
   "outputs": [],
   "source": [
    "from pathlib import Path\n",
    "from enum import Enum\n",
    "import cv2\n",
    "from cv2 import imwrite\n",
    "from tqdm import tqdm\n",
    "import numpy as np\n",
    "import matplotlib.pyplot as plt\n",
    "import math\n",
    "from sklearn import preprocessing\n",
    "from time import time\n",
    "from scipy.optimize import curve_fit\n",
    "%matplotlib inline\n",
    "import scipy.stats\n",
    "from util import parse_fn, is_bg\n",
    "from scipy import stats\n",
    "from scipy.stats import skewnorm\n",
    "from scipy.special import erf\n",
    "from scipy.special import voigt_profile"
   ]
  },
  {
   "cell_type": "markdown",
   "id": "5ffb0c56",
   "metadata": {},
   "source": [
    "# information of picture"
   ]
  },
  {
   "cell_type": "code",
   "execution_count": 85,
   "id": "7fd3b0ac",
   "metadata": {},
   "outputs": [],
   "source": [
    "HEADER_LEN = 152 \n",
    "X_DIM = 1200 \n",
    "Y_DIM = 1920"
   ]
  },
  {
   "cell_type": "markdown",
   "id": "a8f00cbf",
   "metadata": {},
   "source": [
    "# Input Files"
   ]
  },
  {
   "cell_type": "markdown",
   "id": "2d94f318",
   "metadata": {},
   "source": [
    "### input need: name of the folder containing different velocity's picture"
   ]
  },
  {
   "cell_type": "code",
   "execution_count": 86,
   "id": "36813a12",
   "metadata": {},
   "outputs": [],
   "source": [
    "folder = \"/Users/chiaentsai/Box/MURI-SARA/Thermoreflectance/chess_2022_2_0412/TR_0412\""
   ]
  },
  {
   "cell_type": "code",
   "execution_count": 87,
   "id": "ef4f99bd",
   "metadata": {},
   "outputs": [],
   "source": [
    "import os\n",
    "from pathlib import Path\n",
    "v_path_list = []\n",
    "for root, dirs, files in os.walk(folder, topdown=False):\n",
    "    for name in dirs:\n",
    "        v_path_list.append(os.path.join(root, name))\n",
    "        \n",
    "big_list = []\n",
    "for item in v_path_list:\n",
    "    p_pathlist = Path(item).glob('**/*.raw')\n",
    "    p_path_list = []\n",
    "    for path in p_pathlist:\n",
    "        p_path_list.append(path)\n",
    "    big_list.append(p_path_list)\n",
    "    \n",
    "Dict = {103: big_list[0], \n",
    "        13: big_list[1],\n",
    "        155: big_list[2],\n",
    "        190: big_list[3],\n",
    "        20: big_list[4],\n",
    "        234: big_list[5],\n",
    "        30: big_list[6],\n",
    "        352: big_list[7],\n",
    "        45: big_list[8],\n",
    "        68: big_list[9],\n",
    "        9: big_list[10],\n",
    "       }\n",
    "\n",
    "frame_num = []\n",
    "for i in list(Dict.keys()):\n",
    "    frame_num.append(round(5/i*40+1))\n",
    "\n",
    "import os\n",
    "b_files = []\n",
    "all_v_files = []\n",
    "for i in range(0,len(frame_num), 1):\n",
    "    files=[]\n",
    "    for file in os.listdir(v_path_list[i]):\n",
    "        if file.endswith(\"_00{}.raw\".format(frame_num[i])) or file.endswith(\"_0{}.raw\".format(frame_num[i])):\n",
    "            name = str(os.path.join(v_path_list[i], file))\n",
    "            files.append(name)\n",
    "    all_v_files.append(files)\n",
    "    b_files.append(files[0])\n",
    "    \n",
    "Dict_new = {103: all_v_files[0], \n",
    "        13: all_v_files[1],\n",
    "        155: all_v_files[2],\n",
    "        190: all_v_files[3],\n",
    "        20: all_v_files[4],\n",
    "        234: all_v_files[5],\n",
    "        30: all_v_files[6],\n",
    "        352: all_v_files[7],\n",
    "        45: all_v_files[8],\n",
    "        68: all_v_files[9],\n",
    "        9: all_v_files[10],\n",
    "       }"
   ]
  },
  {
   "cell_type": "markdown",
   "id": "e99941f0",
   "metadata": {},
   "source": [
    "# Visualization"
   ]
  },
  {
   "cell_type": "markdown",
   "id": "d3eb1595",
   "metadata": {},
   "source": [
    "### 5mm frame figures"
   ]
  },
  {
   "cell_type": "code",
   "execution_count": 57,
   "id": "c555fa93",
   "metadata": {},
   "outputs": [],
   "source": [
    "for v in list(Dict_new.keys()):\n",
    "    for i, item in enumerate(Dict_new[v]):\n",
    "        fig = get_blue(item)\n",
    "        plt.imshow(fig)\n",
    "        plt.savefig(\"/Users/chiaentsai/Desktop/lab/Temperature_Calibration/5mm_frame_figure/{}mm_5mmframe_{}.png\".format(v,i), format=\"PNG\")\n",
    "        plt.close()"
   ]
  },
  {
   "cell_type": "markdown",
   "id": "66fc05f3",
   "metadata": {},
   "source": [
    "### 5mm frame figures (no background)"
   ]
  },
  {
   "cell_type": "code",
   "execution_count": 59,
   "id": "ed08dc4b",
   "metadata": {},
   "outputs": [],
   "source": [
    "for I, v in enumerate(list(Dict_new.keys())):\n",
    "    for i, item in enumerate(Dict_new[v]):\n",
    "        original = get_blue(item)\n",
    "        back = get_blue(b_files[I])\n",
    "        fig = original - back\n",
    "        plt.imshow(fig)\n",
    "        plt.savefig(\"/Users/chiaentsai/Desktop/lab/Temperature_Calibration/noback_5mm_frame_figure/{}mm_5mmframe_{}.png\".format(v,i), format=\"PNG\")\n",
    "        plt.close()"
   ]
  },
  {
   "cell_type": "markdown",
   "id": "2031396d",
   "metadata": {},
   "source": [
    "### All frame figures (no background)"
   ]
  },
  {
   "cell_type": "code",
   "execution_count": null,
   "id": "ca69c429",
   "metadata": {},
   "outputs": [],
   "source": [
    "'''\n",
    "for I, v in enumerate(list(Dict.keys())):\n",
    "    for i, item in enumerate(Dict[v]):\n",
    "        original = get_blue(item)\n",
    "        back = get_blue(b_files[I])\n",
    "        fig = original - back\n",
    "        plt.imshow(fig)\n",
    "        plt.savefig(\"/Users/chiaentsai/Desktop/lab/Temperature_Calibration/noback_all_frame_figure/{}mm_{}.png\".format(v,i), format=\"PNG\")\n",
    "        plt.close()\n",
    "'''"
   ]
  },
  {
   "cell_type": "markdown",
   "id": "3a3c4da6",
   "metadata": {},
   "source": [
    "# Get kappa (gold melt)"
   ]
  },
  {
   "cell_type": "markdown",
   "id": "ff9c7187",
   "metadata": {},
   "source": [
    "### input need: gold melting power at specific velocity "
   ]
  },
  {
   "cell_type": "code",
   "execution_count": 182,
   "id": "32e88369",
   "metadata": {},
   "outputs": [],
   "source": [
    "gold_melt = [54,58,45,49.5,52,42.5]\n",
    "Dict_used = {103: all_v_files[0], \n",
    "        155: all_v_files[2],\n",
    "        20: all_v_files[4],\n",
    "        45: all_v_files[8],\n",
    "        68: all_v_files[9],\n",
    "        9: all_v_files[10],\n",
    "       }\n",
    "Dict_gold = {k: Dict_used[k][1:] for k in Dict_used}\n",
    "b_files_gold = [b_files[i] for i in [0,2,4,8,9,10]]\n",
    "Dict_dRoverR = dict.fromkeys(list(Dict_gold.keys()),[])\n",
    "\n",
    "dRoverR = []\n",
    "for i, v in enumerate(list(Dict_gold.keys())):\n",
    "    con = []\n",
    "    for file in Dict_gold[list(Dict_gold.keys())[i]]:\n",
    "        val = peak_dRoverR(file, b_files_gold[i], poly5, poly5)\n",
    "        con.append(val)\n",
    "    dRoverR.append(con)\n",
    "    \n",
    "power=[]\n",
    "for i, v in enumerate(list(Dict_gold.keys())):\n",
    "    con = np.linspace(29,29+2*(len(Dict_gold[v])-1),(len(Dict_gold[v])-1)+1)\n",
    "    power.append(con)\n",
    "powers = [i.astype(int) for i in power]"
   ]
  },
  {
   "cell_type": "markdown",
   "id": "1e1cf544",
   "metadata": {},
   "source": [
    "### visualization and fitting"
   ]
  },
  {
   "cell_type": "code",
   "execution_count": 183,
   "id": "0194c1dd",
   "metadata": {},
   "outputs": [],
   "source": [
    "for i, v in enumerate(list(Dict_gold.keys())):\n",
    "    plt.plot(powers[i], dRoverR[i], '.')\n",
    "    plt.xlabel(\"power\")\n",
    "    plt.ylabel(\"dR/R\")\n",
    "    plt.savefig(\"/Users/chiaentsai/Desktop/lab/Temperature_Calibration/gold_dRoverR_figure/{}mm.png\".format(v), format=\"PNG\")\n",
    "    plt.close()"
   ]
  },
  {
   "cell_type": "code",
   "execution_count": 184,
   "id": "0ae626c3",
   "metadata": {},
   "outputs": [],
   "source": [
    "kappa_gold = []\n",
    "for i, v in enumerate(list(Dict_gold.keys())):\n",
    "    popt, pcov = curve_fit(expo, powers[i], dRoverR[i], p0 = [1, 0.0000001, 1], maxfev = 5000)\n",
    "    plt.plot(powers[i], dRoverR[i], '.')\n",
    "    plt.plot(powers[i], expo(powers[i], *popt))\n",
    "    plt.xlabel(\"power\")\n",
    "    plt.ylabel(\"dR/R\")\n",
    "    plt.savefig(\"/Users/chiaentsai/Desktop/lab/Temperature_Calibration/gold_dRoverR_fit_figure/{}mm.png\".format(v), format=\"PNG\")\n",
    "    plt.close()\n",
    "    a, b, c = popt\n",
    "    y_pred = expo(powers[i], *popt)\n",
    "    f = expo(gold_melt[i], *popt)\n",
    "    gold_m = 1064\n",
    "    dT = gold_m - 25\n",
    "    kappa = f / dT\n",
    "    kappa_gold.append(kappa)"
   ]
  },
  {
   "cell_type": "code",
   "execution_count": 185,
   "id": "aec1f8e7",
   "metadata": {},
   "outputs": [],
   "source": [
    "Dict_kappa_gold = dict(zip(list(Dict_gold.keys()),kappa_gold))"
   ]
  },
  {
   "cell_type": "code",
   "execution_count": 186,
   "id": "703f2a6c",
   "metadata": {},
   "outputs": [
    {
     "data": {
      "text/plain": [
       "[<matplotlib.lines.Line2D at 0x7fc2195706a0>]"
      ]
     },
     "execution_count": 186,
     "metadata": {},
     "output_type": "execute_result"
    },
    {
     "data": {
      "image/png": "[encoded data removed]",
      "text/plain": [
       "<Figure size 432x288 with 1 Axes>"
      ]
     },
     "metadata": {
      "needs_background": "light"
     },
     "output_type": "display_data"
    }
   ],
   "source": [
    "plt.plot(list(Dict_gold.keys()), kappa_gold, '.')"
   ]
  },
  {
   "cell_type": "markdown",
   "id": "0e08947c",
   "metadata": {},
   "source": [
    "# Get kappa (silicon melt)"
   ]
  },
  {
   "cell_type": "markdown",
   "id": "dbfee9ae",
   "metadata": {},
   "source": [
    "### input need: si melting power at specific velocity"
   ]
  },
  {
   "cell_type": "code",
   "execution_count": 187,
   "id": "8fd9fc9e",
   "metadata": {},
   "outputs": [],
   "source": [
    "Dict_used = { 13: all_v_files[1],\n",
    "        20: all_v_files[4],\n",
    "        30: all_v_files[6],\n",
    "        45: all_v_files[8],\n",
    "        9: all_v_files[10],\n",
    "       }\n",
    "si_melt = [49.75, 51.5, 53.5, 56, 48.5]\n",
    "Dict_si = {k: Dict_used[k][1:] for k in Dict_used}\n",
    "b_files_si = [b_files[i] for i in [1,4,6,8,10]]\n",
    "Dict_dRoverR = dict.fromkeys(list(Dict_si.keys()),[])\n",
    "\n",
    "dRoverR = []\n",
    "for i, v in enumerate(list(Dict_si.keys())):\n",
    "    con = []\n",
    "    for file in Dict_si[list(Dict_si.keys())[i]]:\n",
    "        val = peak_dRoverR(file, b_files_si[i], poly5, poly5)\n",
    "        con.append(val)\n",
    "    dRoverR.append(con)\n",
    "    \n",
    "power=[]\n",
    "for i, v in enumerate(list(Dict_si.keys())):\n",
    "    con = np.linspace(29,29+2*(len(Dict_si[v])-1),(len(Dict_si[v])-1)+1)\n",
    "    power.append(con)\n",
    "powers = [i.astype(int) for i in power]"
   ]
  },
  {
   "cell_type": "markdown",
   "id": "6ab3cfb1",
   "metadata": {},
   "source": [
    "### visualization and fitting"
   ]
  },
  {
   "cell_type": "code",
   "execution_count": 188,
   "id": "db35f79c",
   "metadata": {},
   "outputs": [],
   "source": [
    "for i, v in enumerate(list(Dict_si.keys())):\n",
    "    plt.plot(powers[i], dRoverR[i], '.')\n",
    "    plt.xlabel(\"power\")\n",
    "    plt.ylabel(\"dR/R\")\n",
    "    plt.savefig(\"/Users/chiaentsai/Desktop/lab/Temperature_Calibration/si_dRoverR_figure/{}mm.png\".format(v), format=\"PNG\")\n",
    "    plt.close()"
   ]
  },
  {
   "cell_type": "code",
   "execution_count": 189,
   "id": "ff34ebb4",
   "metadata": {},
   "outputs": [],
   "source": [
    "kappa_si = []\n",
    "for i, v in enumerate(list(Dict_si.keys())):\n",
    "    popt, pcov = curve_fit(expo, powers[i], dRoverR[i], p0 = [1, 0.0000001, 1], maxfev = 5000)\n",
    "    plt.plot(powers[i], dRoverR[i], '.')\n",
    "    plt.plot(powers[i], expo(powers[i], *popt))\n",
    "    plt.xlabel(\"power\")\n",
    "    plt.ylabel(\"dR/R\")\n",
    "    plt.savefig(\"/Users/chiaentsai/Desktop/lab/Temperature_Calibration/si_dRoverR_fit_figure/{}mm.png\".format(v), format=\"PNG\")\n",
    "    plt.close()\n",
    "    a, b, c = popt\n",
    "    y_pred = expo(powers[i], *popt)\n",
    "    f = expo(si_melt[i], *popt)\n",
    "    si_m = 1410\n",
    "    dT = si_m - 25\n",
    "    kappa = f / dT\n",
    "    kappa_si.append(kappa)"
   ]
  },
  {
   "cell_type": "code",
   "execution_count": 190,
   "id": "13926ac7",
   "metadata": {},
   "outputs": [],
   "source": [
    "Dict_kappa_si = dict(zip(list(Dict_si.keys()),kappa_si))"
   ]
  },
  {
   "cell_type": "code",
   "execution_count": 191,
   "id": "b9b8d80c",
   "metadata": {},
   "outputs": [
    {
     "data": {
      "text/plain": [
       "[<matplotlib.lines.Line2D at 0x7fc21572eee0>]"
      ]
     },
     "execution_count": 191,
     "metadata": {},
     "output_type": "execute_result"
    },
    {
     "data": {
      "image/png": "[encoded data removed]",
      "text/plain": [
       "<Figure size 432x288 with 1 Axes>"
      ]
     },
     "metadata": {
      "needs_background": "light"
     },
     "output_type": "display_data"
    }
   ],
   "source": [
    "plt.plot(list(Dict_si.keys()), kappa_si, '.')"
   ]
  },
  {
   "cell_type": "code",
   "execution_count": null,
   "id": "295a8ef8",
   "metadata": {},
   "outputs": [],
   "source": []
  },
  {
   "cell_type": "markdown",
   "id": "b0d4141e",
   "metadata": {},
   "source": [
    "# Fit plane"
   ]
  },
  {
   "cell_type": "code",
   "execution_count": null,
   "id": "f134b86b",
   "metadata": {},
   "outputs": [],
   "source": []
  },
  {
   "cell_type": "code",
   "execution_count": null,
   "id": "3220dadf",
   "metadata": {},
   "outputs": [],
   "source": []
  },
  {
   "cell_type": "code",
   "execution_count": null,
   "id": "f594a7cb",
   "metadata": {},
   "outputs": [],
   "source": []
  },
  {
   "cell_type": "code",
   "execution_count": null,
   "id": "5f2dbd5b",
   "metadata": {},
   "outputs": [],
   "source": []
  },
  {
   "cell_type": "code",
   "execution_count": null,
   "id": "9c140c19",
   "metadata": {},
   "outputs": [],
   "source": []
  },
  {
   "cell_type": "code",
   "execution_count": null,
   "id": "6a871d44",
   "metadata": {},
   "outputs": [],
   "source": []
  },
  {
   "cell_type": "code",
   "execution_count": null,
   "id": "c1311682",
   "metadata": {},
   "outputs": [],
   "source": []
  },
  {
   "cell_type": "code",
   "execution_count": null,
   "id": "1e8f7c7b",
   "metadata": {},
   "outputs": [],
   "source": []
  },
  {
   "cell_type": "code",
   "execution_count": null,
   "id": "a1f242e6",
   "metadata": {},
   "outputs": [],
   "source": []
  }
 ],
 "metadata": {
  "kernelspec": {
   "display_name": "Python 3 (ipykernel)",
   "language": "python",
   "name": "python3"
  },
  "language_info": {
   "codemirror_mode": {
    "name": "ipython",
    "version": 3
   },
   "file_extension": ".py",
   "mimetype": "text/x-python",
   "name": "python",
   "nbconvert_exporter": "python",
   "pygments_lexer": "ipython3",
   "version": "3.9.0"
  }
 },
 "nbformat": 4,
 "nbformat_minor": 5
}
