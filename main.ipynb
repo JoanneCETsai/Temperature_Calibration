{
 "cells": [
  {
   "cell_type": "code",
   "execution_count": 497,
   "id": "82b36748",
   "metadata": {},
   "outputs": [],
   "source": [
    "%run \"curve_fit_.ipynb\"\n",
    "%run \"data_processing_.ipynb\"\n",
    "%run \"evaluation_functions_.ipynb\"\n",
    "%run \"fitting_functions_.ipynb\"\n",
    "%run \"get_temperature_.ipynb\"\n",
    "%run \"load_data_.ipynb\"\n",
    "%run \"get_backbround_average_.ipynb\"\n",
    "%run \"frame_vs_temperature.ipynb\""
   ]
  },
  {
   "cell_type": "markdown",
   "id": "a8f00cbf",
   "metadata": {},
   "source": [
    "# Input Files"
   ]
  },
  {
   "cell_type": "markdown",
   "id": "c49c26e4",
   "metadata": {},
   "source": [
    "### input needed: name of the folder containing different velocity's picture"
   ]
  },
  {
   "cell_type": "code",
   "execution_count": 498,
   "id": "36813a12",
   "metadata": {},
   "outputs": [],
   "source": [
    "folder = \"/Users/chiaentsai/Box/MURI-SARA/Thermoreflectance/Joanne/11092022_1\"\n",
    "folder_2 = \"/Users/chiaentsai/Box/MURI-SARA/Thermoreflectance/Joanne/11092022_2\"\n",
    "folder_3 = \"/Users/chiaentsai/Box/MURI-SARA/Thermoreflectance/Joanne/11092022_3\"\n",
    "folder_4 = \"/Users/chiaentsai/Box/MURI-SARA/Thermoreflectance/Joanne/11092022_4\""
   ]
  },
  {
   "cell_type": "code",
   "execution_count": 499,
   "id": "e47678e7",
   "metadata": {},
   "outputs": [],
   "source": [
    "all_files, fivemm_files, velocity_path_list, velocity_list, used_frame_num = get_needed_files(folder)\n",
    "back_intensity_list = get_background_average(fivemm_files)\n",
    "power_list = get_powers(all_files)"
   ]
  },
  {
   "cell_type": "code",
   "execution_count": 500,
   "id": "307b70ea",
   "metadata": {},
   "outputs": [],
   "source": [
    "all_files_2, fivemm_files_2, velocity_path_list_2, velocity_list_2, used_frame_num_2 = get_needed_files(folder_2)\n",
    "back_intensity_list_2 = get_background_average(fivemm_files_2)\n",
    "power_list_2 = get_powers(all_files_2)"
   ]
  },
  {
   "cell_type": "code",
   "execution_count": 501,
   "id": "10fbd233",
   "metadata": {},
   "outputs": [],
   "source": [
    "all_files_3, fivemm_files_3, velocity_path_list_3, velocity_list_3, used_frame_num_3 = get_needed_files(folder_3)\n",
    "back_intensity_list_3 = get_background_average(fivemm_files_3)\n",
    "power_list_3 = get_powers(all_files_3)"
   ]
  },
  {
   "cell_type": "code",
   "execution_count": 502,
   "id": "4b16c723",
   "metadata": {},
   "outputs": [],
   "source": [
    "all_files_4, fivemm_files_4, velocity_path_list_4, velocity_list_4, used_frame_num_4 = get_needed_files(folder_4)\n",
    "back_intensity_list_4 = get_background_average(fivemm_files_4)\n",
    "power_list_4 = get_powers(all_files_4)"
   ]
  },
  {
   "cell_type": "markdown",
   "id": "3a3c4da6",
   "metadata": {},
   "source": [
    "# Get kappa (gold melt)"
   ]
  },
  {
   "cell_type": "markdown",
   "id": "47379331",
   "metadata": {},
   "source": [
    "### input needed: gold melting power at specific velocity "
   ]
  },
  {
   "cell_type": "code",
   "execution_count": 267,
   "id": "1be1a449",
   "metadata": {},
   "outputs": [],
   "source": [
    "gold_list = ['103', '155', '20', '45', '68', '9']\n",
    "\n",
    "gold_melting_W = {\n",
    "    '103': 54,\n",
    "    '155': 58,\n",
    "    '20': 45,\n",
    "    '45': 49.5,\n",
    "    '68': 52,\n",
    "    '9': 42.5\n",
    "}"
   ]
  },
  {
   "cell_type": "code",
   "execution_count": 333,
   "id": "9a788d0e",
   "metadata": {},
   "outputs": [
    {
     "name": "stderr",
     "output_type": "stream",
     "text": [
      "/Users/chiaentsai/.virtualenvs/venv/lib/python3.9/site-packages/scipy/optimize/_minpack_py.py:833: OptimizeWarning: Covariance of the parameters could not be estimated\n",
      "  warnings.warn('Covariance of the parameters could not be estimated',\n"
     ]
    },
    {
     "data": {
      "image/png": "[encoded data removed]",
      "text/plain": [
       "<Figure size 432x288 with 1 Axes>"
      ]
     },
     "metadata": {
      "needs_background": "light"
     },
     "output_type": "display_data"
    }
   ],
   "source": [
    "Dict_gold = dict((k, fivemm_files[k][10:]) for k in gold_list)\n",
    "back_intensity_list_gold = []\n",
    "for key in fivemm_files:\n",
    "    if key in gold_list:\n",
    "        index = list(fivemm_files).index(key)\n",
    "        back_intensity_list_gold.append(back_intensity_list[index])\n",
    "\n",
    "#Dict_dRoverR = dict.fromkeys(list(Dict_gold.keys()),[])\n",
    "dRoverR = []\n",
    "for i, v in enumerate(list(Dict_gold.keys())):\n",
    "    con = []\n",
    "    for file in Dict_gold[v]:\n",
    "        val = get_peak_dRoverR(file, back_intensity_list_gold[i], two_lorentz, two_lorentz)\n",
    "        con.append(val)\n",
    "    dRoverR.append(con)\n",
    "\n",
    "power_gold = []\n",
    "for i, (key, value) in enumerate(fivemm_files.items()):\n",
    "    if key in gold_list:\n",
    "        power_gold.append(power_list[i][1:])\n",
    "\n",
    "for i, v in enumerate(list(Dict_gold.keys())):\n",
    "    plt.plot(power_gold[i][:-1], dRoverR[i][:-1], '.')\n",
    "    plt.xlabel(\"power\")\n",
    "    plt.ylabel(\"dR/R\")\n",
    "    plt.savefig(\"/Users/chiaentsai/Desktop/lab/Temperature_Calibration/gold_dRoverR_figure/{}mm.png\".format(v), format=\"PNG\")\n",
    "    plt.close()\n",
    "\n",
    "kappa_gold = []\n",
    "for i, v in enumerate(list(Dict_gold.keys())):\n",
    "    power = [float(j) for j in power_gold[i]][:-1]\n",
    "    y = dRoverR[i][:-1]\n",
    "    popt, pcov = curve_fit(expo, power, y, p0 = [1, 0.0000005, 1], maxfev = 8000)\n",
    "    #a, b, c = popt\n",
    "    plt.plot(power, y, '.')\n",
    "    y_pred = [expo(j, *popt) for j in power]\n",
    "    plt.plot(power, y_pred)\n",
    "    plt.xlabel(\"power\")\n",
    "    plt.ylabel(\"dR/R\")\n",
    "    plt.savefig(\"/Users/chiaentsai/Desktop/lab/Temperature_Calibration/gold_dRoverR_fit_figure/{}mm.png\".format(v), format=\"PNG\")\n",
    "    plt.close()\n",
    "    f = expo(gold_melting_W[v], *popt)\n",
    "    gold_m = 1064\n",
    "    dT = gold_m - 21\n",
    "    kappa = f / dT\n",
    "    kappa_gold.append(kappa)\n",
    "    \n",
    "Dict_kappa_gold = dict(zip(list(Dict_gold.keys()),kappa_gold))\n",
    "\n",
    "plt.plot(list(Dict_gold.keys()), kappa_gold, '.')\n",
    "plt.savefig(\"/Users/chiaentsai/Desktop/lab/Temperature_Calibration/kappa.png\", format=\"PNG\")"
   ]
  },
  {
   "cell_type": "code",
   "execution_count": 334,
   "id": "49132571",
   "metadata": {},
   "outputs": [
    {
     "data": {
      "text/plain": [
       "0.00029587259077126993"
      ]
     },
     "execution_count": 334,
     "metadata": {},
     "output_type": "execute_result"
    }
   ],
   "source": [
    "avg_kappa_gold = sum(kappa_gold) / len(kappa_gold)\n",
    "avg_kappa_gold"
   ]
  },
  {
   "cell_type": "markdown",
   "id": "2ddeced3",
   "metadata": {},
   "source": [
    "### Data set 2"
   ]
  },
  {
   "cell_type": "code",
   "execution_count": 341,
   "id": "79d9f21a",
   "metadata": {},
   "outputs": [
    {
     "name": "stderr",
     "output_type": "stream",
     "text": [
      "/Users/chiaentsai/.virtualenvs/venv/lib/python3.9/site-packages/scipy/optimize/_minpack_py.py:833: OptimizeWarning: Covariance of the parameters could not be estimated\n",
      "  warnings.warn('Covariance of the parameters could not be estimated',\n"
     ]
    },
    {
     "data": {
      "image/png": "[encoded data removed]",
      "text/plain": [
       "<Figure size 432x288 with 1 Axes>"
      ]
     },
     "metadata": {
      "needs_background": "light"
     },
     "output_type": "display_data"
    }
   ],
   "source": [
    "Dict_gold = dict((k, fivemm_files_2[k][10:]) for k in gold_list)\n",
    "back_intensity_list_gold = []\n",
    "for key in fivemm_files_2:\n",
    "    if key in gold_list:\n",
    "        index = list(fivemm_files_2).index(key)\n",
    "        back_intensity_list_gold.append(back_intensity_list_2[index])\n",
    "\n",
    "#Dict_dRoverR = dict.fromkeys(list(Dict_gold.keys()),[])\n",
    "dRoverR = []\n",
    "for i, v in enumerate(list(Dict_gold.keys())):\n",
    "    con = []\n",
    "    for file in Dict_gold[v]:\n",
    "        val = get_peak_dRoverR(file, back_intensity_list_gold[i], two_lorentz, two_lorentz)\n",
    "        con.append(val)\n",
    "    dRoverR.append(con)\n",
    "\n",
    "power_gold = []\n",
    "for i, (key, value) in enumerate(fivemm_files_2.items()):\n",
    "    if key in gold_list:\n",
    "        power_gold.append(power_list_2[i][1:])\n",
    "\n",
    "for i, v in enumerate(list(Dict_gold.keys())):\n",
    "    plt.plot(power_gold[i][:-1], dRoverR[i][:-1], '.')\n",
    "    plt.xlabel(\"power\")\n",
    "    plt.ylabel(\"dR/R\")\n",
    "    plt.savefig(\"/Users/chiaentsai/Desktop/lab/Temperature_Calibration/gold_dRoverR_figure_2/{}mm.png\".format(v), format=\"PNG\")\n",
    "    plt.close()\n",
    "\n",
    "kappa_gold = []\n",
    "for i, v in enumerate(list(Dict_gold.keys())):\n",
    "    power = [float(j) for j in power_gold[i]][:-1]\n",
    "    y = dRoverR[i][:-1]\n",
    "    popt, pcov = curve_fit(expo, power, y, p0 = [1, 0.0000003, 1], maxfev = 8000)\n",
    "    #a, b, c = popt\n",
    "    plt.plot(power, y, '.')\n",
    "    y_pred = [expo(j, *popt) for j in power]\n",
    "    plt.plot(power, y_pred)\n",
    "    plt.xlabel(\"power\")\n",
    "    plt.ylabel(\"dR/R\")\n",
    "    plt.savefig(\"/Users/chiaentsai/Desktop/lab/Temperature_Calibration/gold_dRoverR_fit_figure_2/{}mm.png\".format(v), format=\"PNG\")\n",
    "    plt.close()\n",
    "    f = expo(gold_melting_W[v], *popt)\n",
    "    gold_m = 1064\n",
    "    dT = gold_m - 21\n",
    "    kappa = f / dT\n",
    "    kappa_gold.append(kappa)\n",
    "    \n",
    "Dict_kappa_gold = dict(zip(list(Dict_gold.keys()),kappa_gold))\n",
    "\n",
    "plt.plot(list(Dict_gold.keys()), kappa_gold, '.')\n",
    "plt.savefig(\"/Users/chiaentsai/Desktop/lab/Temperature_Calibration/kappa_2.png\", format=\"PNG\")"
   ]
  },
  {
   "cell_type": "code",
   "execution_count": 342,
   "id": "f65477d6",
   "metadata": {},
   "outputs": [
    {
     "data": {
      "text/plain": [
       "0.0002960298187278029"
      ]
     },
     "execution_count": 342,
     "metadata": {},
     "output_type": "execute_result"
    }
   ],
   "source": [
    "avg_kappa_gold = sum(kappa_gold) / len(kappa_gold)\n",
    "avg_kappa_gold"
   ]
  },
  {
   "cell_type": "markdown",
   "id": "3ee185af",
   "metadata": {},
   "source": [
    "### Data set 3"
   ]
  },
  {
   "cell_type": "code",
   "execution_count": 339,
   "id": "da42a2ff",
   "metadata": {},
   "outputs": [
    {
     "name": "stderr",
     "output_type": "stream",
     "text": [
      "/Users/chiaentsai/.virtualenvs/venv/lib/python3.9/site-packages/scipy/optimize/_minpack_py.py:833: OptimizeWarning: Covariance of the parameters could not be estimated\n",
      "  warnings.warn('Covariance of the parameters could not be estimated',\n"
     ]
    },
    {
     "data": {
      "image/png": "[encoded data removed]",
      "text/plain": [
       "<Figure size 432x288 with 1 Axes>"
      ]
     },
     "metadata": {
      "needs_background": "light"
     },
     "output_type": "display_data"
    }
   ],
   "source": [
    "Dict_gold = dict((k, fivemm_files_3[k][10:]) for k in gold_list)\n",
    "back_intensity_list_gold = []\n",
    "for key in fivemm_files_3:\n",
    "    if key in gold_list:\n",
    "        index = list(fivemm_files_3).index(key)\n",
    "        back_intensity_list_gold.append(back_intensity_list_3[index])\n",
    "\n",
    "#Dict_dRoverR = dict.fromkeys(list(Dict_gold.keys()),[])\n",
    "dRoverR = []\n",
    "for i, v in enumerate(list(Dict_gold.keys())):\n",
    "    con = []\n",
    "    for file in Dict_gold[v]:\n",
    "        val = get_peak_dRoverR(file, back_intensity_list_gold[i], two_lorentz, two_lorentz)\n",
    "        con.append(val)\n",
    "    dRoverR.append(con)\n",
    "\n",
    "power_gold = []\n",
    "for i, (key, value) in enumerate(fivemm_files_3.items()):\n",
    "    if key in gold_list:\n",
    "        power_gold.append(power_list_3[i][1:])\n",
    "\n",
    "for i, v in enumerate(list(Dict_gold.keys())):\n",
    "    plt.plot(power_gold[i][:-1], dRoverR[i][:-1], '.')\n",
    "    plt.xlabel(\"power\")\n",
    "    plt.ylabel(\"dR/R\")\n",
    "    plt.savefig(\"/Users/chiaentsai/Desktop/lab/Temperature_Calibration/gold_dRoverR_figure_3/{}mm.png\".format(v), format=\"PNG\")\n",
    "    plt.close()\n",
    "\n",
    "kappa_gold = []\n",
    "for i, v in enumerate(list(Dict_gold.keys())):\n",
    "    power = [float(j) for j in power_gold[i]][:-1]\n",
    "    y = dRoverR[i][:-1]\n",
    "    popt, pcov = curve_fit(expo, power, y, p0 = [1, 0.0000005, 1], maxfev = 8000)\n",
    "    #a, b, c = popt\n",
    "    plt.plot(power, y, '.')\n",
    "    y_pred = [expo(j, *popt) for j in power]\n",
    "    plt.plot(power, y_pred)\n",
    "    plt.xlabel(\"power\")\n",
    "    plt.ylabel(\"dR/R\")\n",
    "    plt.savefig(\"/Users/chiaentsai/Desktop/lab/Temperature_Calibration/gold_dRoverR_fit_figure_3/{}mm.png\".format(v), format=\"PNG\")\n",
    "    plt.close()\n",
    "    f = expo(gold_melting_W[v], *popt)\n",
    "    gold_m = 1064\n",
    "    dT = gold_m - 21\n",
    "    kappa = f / dT\n",
    "    kappa_gold.append(kappa)\n",
    "    \n",
    "Dict_kappa_gold = dict(zip(list(Dict_gold.keys()),kappa_gold))\n",
    "\n",
    "plt.plot(list(Dict_gold.keys()), kappa_gold, '.')\n",
    "plt.savefig(\"/Users/chiaentsai/Desktop/lab/Temperature_Calibration/kappa_3.png\", format=\"PNG\")\n"
   ]
  },
  {
   "cell_type": "code",
   "execution_count": 340,
   "id": "008acfb5",
   "metadata": {},
   "outputs": [
    {
     "data": {
      "text/plain": [
       "0.0002971801453280994"
      ]
     },
     "execution_count": 340,
     "metadata": {},
     "output_type": "execute_result"
    }
   ],
   "source": [
    "avg_kappa_gold = sum(kappa_gold) / len(kappa_gold)\n",
    "avg_kappa_gold\n"
   ]
  },
  {
   "cell_type": "markdown",
   "id": "38568adf",
   "metadata": {},
   "source": [
    "### Data set 4"
   ]
  },
  {
   "cell_type": "code",
   "execution_count": 297,
   "id": "3b7fd7aa",
   "metadata": {},
   "outputs": [
    {
     "name": "stderr",
     "output_type": "stream",
     "text": [
      "/Users/chiaentsai/.virtualenvs/venv/lib/python3.9/site-packages/scipy/optimize/_minpack_py.py:833: OptimizeWarning: Covariance of the parameters could not be estimated\n",
      "  warnings.warn('Covariance of the parameters could not be estimated',\n"
     ]
    },
    {
     "data": {
      "image/png": "[encoded data removed]",
      "text/plain": [
       "<Figure size 432x288 with 1 Axes>"
      ]
     },
     "metadata": {
      "needs_background": "light"
     },
     "output_type": "display_data"
    }
   ],
   "source": [
    "Dict_gold = dict((k, fivemm_files_4[k][10:]) for k in gold_list)\n",
    "back_intensity_list_gold = []\n",
    "for key in fivemm_files_4:\n",
    "    if key in gold_list:\n",
    "        index = list(fivemm_files_4).index(key)\n",
    "        back_intensity_list_gold.append(back_intensity_list_4[index])\n",
    "\n",
    "#Dict_dRoverR = dict.fromkeys(list(Dict_gold.keys()),[])\n",
    "dRoverR = []\n",
    "for i, v in enumerate(list(Dict_gold.keys())):\n",
    "    con = []\n",
    "    for file in Dict_gold[v]:\n",
    "        val = get_peak_dRoverR(file, back_intensity_list_gold[i], two_lorentz, two_lorentz)\n",
    "        con.append(val)\n",
    "    dRoverR.append(con)\n",
    "\n",
    "power_gold = []\n",
    "for i, (key, value) in enumerate(fivemm_files_4.items()):\n",
    "    if key in gold_list:\n",
    "        power_gold.append(power_list_4[i][1:])\n",
    "\n",
    "for i, v in enumerate(list(Dict_gold.keys())):\n",
    "    plt.plot(power_gold[i][:-1], dRoverR[i][:-1], '.')\n",
    "    plt.xlabel(\"power\")\n",
    "    plt.ylabel(\"dR/R\")\n",
    "    plt.savefig(\"/Users/chiaentsai/Desktop/lab/Temperature_Calibration/gold_dRoverR_figure_4/{}mm.png\".format(v), format=\"PNG\")\n",
    "    plt.close()\n",
    "\n",
    "kappa_gold = []\n",
    "for i, v in enumerate(list(Dict_gold.keys())):\n",
    "    power = [float(j) for j in power_gold[i]][:-1]\n",
    "    y = dRoverR[i][:-1]\n",
    "    popt, pcov = curve_fit(expo, power, y, p0 = [1, 0.0000005, 1], maxfev = 8000)\n",
    "    #a, b, c = popt\n",
    "    plt.plot(power, y, '.')\n",
    "    y_pred = [expo(j, *popt) for j in power]\n",
    "    plt.plot(power, y_pred)\n",
    "    plt.xlabel(\"power\")\n",
    "    plt.ylabel(\"dR/R\")\n",
    "    plt.savefig(\"/Users/chiaentsai/Desktop/lab/Temperature_Calibration/gold_dRoverR_fit_figure_4/{}mm.png\".format(v), format=\"PNG\")\n",
    "    plt.close()\n",
    "    f = expo(gold_melting_W[v], *popt)\n",
    "    gold_m = 1064\n",
    "    dT = gold_m - 21\n",
    "    kappa = f / dT\n",
    "    kappa_gold.append(kappa)\n",
    "    \n",
    "Dict_kappa_gold = dict(zip(list(Dict_gold.keys()),kappa_gold))\n",
    "\n",
    "plt.plot(list(Dict_gold.keys()), kappa_gold, '.')\n",
    "plt.savefig(\"/Users/chiaentsai/Desktop/lab/Temperature_Calibration/kappa_4.png\", format=\"PNG\")"
   ]
  },
  {
   "cell_type": "code",
   "execution_count": 298,
   "id": "d3b59034",
   "metadata": {},
   "outputs": [
    {
     "data": {
      "text/plain": [
       "0.00029856970491947966"
      ]
     },
     "execution_count": 298,
     "metadata": {},
     "output_type": "execute_result"
    }
   ],
   "source": [
    "avg_kappa_gold = sum(kappa_gold) / len(kappa_gold)\n",
    "avg_kappa_gold"
   ]
  },
  {
   "cell_type": "markdown",
   "id": "7757a2a9",
   "metadata": {},
   "source": [
    "### use average dR/R"
   ]
  },
  {
   "cell_type": "code",
   "execution_count": 369,
   "id": "c11a1ea5",
   "metadata": {},
   "outputs": [
    {
     "name": "stderr",
     "output_type": "stream",
     "text": [
      "/Users/chiaentsai/.virtualenvs/venv/lib/python3.9/site-packages/scipy/optimize/_minpack_py.py:833: OptimizeWarning: Covariance of the parameters could not be estimated\n",
      "  warnings.warn('Covariance of the parameters could not be estimated',\n"
     ]
    }
   ],
   "source": [
    "Dict_gold_1 = dict((k, fivemm_files[k][10:]) for k in gold_list)\n",
    "Dict_gold_2 = dict((k, fivemm_files_2[k][10:]) for k in gold_list)\n",
    "Dict_gold_3 = dict((k, fivemm_files_3[k][10:]) for k in gold_list)\n",
    "Dict_gold_4 = dict((k, fivemm_files_4[k][10:]) for k in gold_list)\n",
    "\n",
    "back_intensity_list_gold_1 = []\n",
    "back_intensity_list_gold_2 = []\n",
    "back_intensity_list_gold_3 = []\n",
    "back_intensity_list_gold_4 = []\n",
    "\n",
    "for key in fivemm_files:\n",
    "    if key in gold_list:\n",
    "        index = list(fivemm_files).index(key)\n",
    "        back_intensity_list_gold_1.append(back_intensity_list[index])\n",
    "for key in fivemm_files_2:\n",
    "    if key in gold_list:\n",
    "        index = list(fivemm_files_2).index(key)\n",
    "        back_intensity_list_gold_2.append(back_intensity_list_2[index])\n",
    "for key in fivemm_files_3:\n",
    "    if key in gold_list:\n",
    "        index = list(fivemm_files_3).index(key)\n",
    "        back_intensity_list_gold_3.append(back_intensity_list_3[index])\n",
    "for key in fivemm_files_4:\n",
    "    if key in gold_list:\n",
    "        index = list(fivemm_files_4).index(key)\n",
    "        back_intensity_list_gold_4.append(back_intensity_list_4[index])\n",
    "\n",
    "dRoverR_1 = []\n",
    "dRoverR_2 = []\n",
    "dRoverR_3 = []\n",
    "dRoverR_4 = []\n",
    "\n",
    "for i, v in enumerate(list(Dict_gold_1.keys())):\n",
    "    con = []\n",
    "    for file in Dict_gold_1[v]:\n",
    "        val = get_peak_dRoverR(file, back_intensity_list_gold_1[i], two_lorentz, two_lorentz)\n",
    "        con.append(val)\n",
    "    dRoverR_1.append(con)\n",
    "\n",
    "for i, v in enumerate(list(Dict_gold_2.keys())):\n",
    "    con = []\n",
    "    for file in Dict_gold_2[v]:\n",
    "        val = get_peak_dRoverR(file, back_intensity_list_gold_2[i], two_lorentz, two_lorentz)\n",
    "        con.append(val)\n",
    "    dRoverR_2.append(con)\n",
    "\n",
    "for i, v in enumerate(list(Dict_gold_3.keys())):\n",
    "    con = []\n",
    "    for file in Dict_gold_3[v]:\n",
    "        val = get_peak_dRoverR(file, back_intensity_list_gold_3[i], two_lorentz, two_lorentz)\n",
    "        con.append(val)\n",
    "    dRoverR_3.append(con)\n",
    "\n",
    "for i, v in enumerate(list(Dict_gold_4.keys())):\n",
    "    con = []\n",
    "    for file in Dict_gold_4[v]:\n",
    "        val = get_peak_dRoverR(file, back_intensity_list_gold_4[i], two_lorentz, two_lorentz)\n",
    "        con.append(val)\n",
    "    dRoverR_4.append(con)\n"
   ]
  },
  {
   "cell_type": "code",
   "execution_count": 378,
   "id": "f910f921",
   "metadata": {},
   "outputs": [],
   "source": [
    "for i in range(0,len(dRoverR_1),1):\n",
    "    dRoverR_1[i] = dRoverR_1[i][:-1]\n",
    "\n",
    "for i in range(0,len(dRoverR_2),1):\n",
    "    dRoverR_2[i] = dRoverR_2[i][:-1]\n",
    "\n",
    "for i in range(0,len(dRoverR_3),1):\n",
    "    dRoverR_3[i] = dRoverR_3[i][:-1]\n",
    "\n",
    "for i in range(0,len(dRoverR_4),1):\n",
    "    dRoverR_4[i] = dRoverR_4[i][:-1]"
   ]
  },
  {
   "cell_type": "code",
   "execution_count": 385,
   "id": "a9fe11f5",
   "metadata": {},
   "outputs": [],
   "source": [
    "dRoverR_2[1] = dRoverR_2[1][:-1]\n",
    "dRoverR_1[2] = dRoverR_1[2][:-1]\n",
    "dRoverR_1[3] = dRoverR_1[3][:-1]\n",
    "dRoverR_3[3] = dRoverR_3[3][:-1]\n",
    "dRoverR_4[3] = dRoverR_4[3][:-1]\n",
    "dRoverR_1[4] = dRoverR_1[4][:-1]\n",
    "dRoverR_3[4] = dRoverR_3[4][:-1]\n",
    "dRoverR_4[4] = dRoverR_4[4][:-1]\n",
    "dRoverR_1[5] = dRoverR_1[5][:-1]"
   ]
  },
  {
   "cell_type": "code",
   "execution_count": 414,
   "id": "4f0ae7a1",
   "metadata": {},
   "outputs": [],
   "source": [
    "power_gold = [[],[],[],[],[],[]]\n",
    "power_gold[0] = [29+2*i for i in range(0,11,1)]\n",
    "power_gold[1] = [29+2*i for i in range(0,12,1)]\n",
    "power_gold[2] = [29+2*i for i in range(0,7,1)]\n",
    "power_gold[3] = [29+2*i for i in range(0,8,1)]\n",
    "power_gold[4] = [29+2*i for i in range(0,9,1)]\n",
    "power_gold[5] = [29+2*i for i in range(0,6,1)]"
   ]
  },
  {
   "cell_type": "code",
   "execution_count": 422,
   "id": "efec1694",
   "metadata": {},
   "outputs": [],
   "source": [
    "avg_dRoverR = [[],[],[],[],[],[]]\n",
    "for i in range(0,6,1):\n",
    "    arrays = [dRoverR_1[i], dRoverR_2[i], dRoverR_3[i], dRoverR_4[i]]\n",
    "    avg_dRoverR[i] = [np.mean(k) for k in zip(*arrays)]"
   ]
  },
  {
   "cell_type": "code",
   "execution_count": 423,
   "id": "7cd92cff",
   "metadata": {},
   "outputs": [],
   "source": [
    "for i, v in enumerate(list(Dict_gold_1.keys())):\n",
    "    plt.plot(power_gold[i], avg_dRoverR[i], '.')\n",
    "    plt.xlabel(\"power\")\n",
    "    plt.ylabel(\"dR/R\")\n",
    "    plt.savefig(\"/Users/chiaentsai/Desktop/lab/Temperature_Calibration/gold_dRoverR_figure_avg/{}mm.png\".format(v), format=\"PNG\")\n",
    "    plt.close()"
   ]
  },
  {
   "cell_type": "code",
   "execution_count": 425,
   "id": "43a997b0",
   "metadata": {},
   "outputs": [
    {
     "data": {
      "image/png": "[encoded data removed]",
      "text/plain": [
       "<Figure size 432x288 with 1 Axes>"
      ]
     },
     "metadata": {
      "needs_background": "light"
     },
     "output_type": "display_data"
    }
   ],
   "source": [
    "kappa_gold_avg = []\n",
    "for i, v in enumerate(list(Dict_gold_1.keys())):\n",
    "    popt, pcov = curve_fit(expo, power_gold[i], avg_dRoverR[i], p0 = [1, 0.0000005, 1], maxfev = 8000)\n",
    "    #a, b, c = popt\n",
    "    plt.plot(power_gold[i], avg_dRoverR[i], '.')\n",
    "    y_pred = [expo(j, *popt) for j in power_gold[i]]\n",
    "    plt.plot(power_gold[i], y_pred)\n",
    "    plt.xlabel(\"power\")\n",
    "    plt.ylabel(\"dR/R\")\n",
    "    plt.savefig(\"/Users/chiaentsai/Desktop/lab/Temperature_Calibration/gold_dRoverR_fit_figure_avg/{}mm.png\".format(v), format=\"PNG\")\n",
    "    plt.close()\n",
    "    f = expo(gold_melting_W[v], *popt)\n",
    "    gold_m = 1064\n",
    "    dT = gold_m - 21\n",
    "    kappa = f / dT\n",
    "    kappa_gold_avg.append(kappa)\n",
    "    \n",
    "#Dict_kappa_gold = dict(zip(list(Dict_gold.keys()),kappa_gold))\n",
    "\n",
    "plt.plot(list(Dict_gold_1.keys()), kappa_gold_avg, '.')\n",
    "plt.savefig(\"/Users/chiaentsai/Desktop/lab/Temperature_Calibration/kappa_avg.png\", format=\"PNG\")"
   ]
  },
  {
   "cell_type": "markdown",
   "id": "772d5c73",
   "metadata": {},
   "source": [
    "# Get kappa (silicon melt)"
   ]
  },
  {
   "cell_type": "markdown",
   "id": "aa60d23d",
   "metadata": {},
   "source": [
    "### input need: si melting power at specific velocity"
   ]
  },
  {
   "cell_type": "markdown",
   "id": "d04c2f10",
   "metadata": {},
   "source": [
    "### Data set 1"
   ]
  },
  {
   "cell_type": "code",
   "execution_count": 496,
   "id": "87d2cda9",
   "metadata": {},
   "outputs": [
    {
     "ename": "RuntimeError",
     "evalue": "Optimal parameters not found: Number of calls to function has reached maxfev = 1000000.",
     "output_type": "error",
     "traceback": [
      "\u001b[0;31m---------------------------------------------------------------------------\u001b[0m",
      "\u001b[0;31mRuntimeError\u001b[0m                              Traceback (most recent call last)",
      "\u001b[1;32m/Users/chiaentsai/Desktop/lab/Temperature_Calibration/main.ipynb Cell 34\u001b[0m in \u001b[0;36m<module>\u001b[0;34m\u001b[0m\n\u001b[1;32m     <a href='vscode-notebook-cell:/Users/chiaentsai/Desktop/lab/Temperature_Calibration/main.ipynb#X35sZmlsZQ%3D%3D?line=19'>20</a>\u001b[0m con \u001b[39m=\u001b[39m []\n\u001b[1;32m     <a href='vscode-notebook-cell:/Users/chiaentsai/Desktop/lab/Temperature_Calibration/main.ipynb#X35sZmlsZQ%3D%3D?line=20'>21</a>\u001b[0m \u001b[39mfor\u001b[39;00m file \u001b[39min\u001b[39;00m Dict_Si[v]:\n\u001b[0;32m---> <a href='vscode-notebook-cell:/Users/chiaentsai/Desktop/lab/Temperature_Calibration/main.ipynb#X35sZmlsZQ%3D%3D?line=21'>22</a>\u001b[0m     val \u001b[39m=\u001b[39m get_peak_dRoverR(file, back_intensity_list_Si[i], two_lorentz, two_lorentz)\n\u001b[1;32m     <a href='vscode-notebook-cell:/Users/chiaentsai/Desktop/lab/Temperature_Calibration/main.ipynb#X35sZmlsZQ%3D%3D?line=22'>23</a>\u001b[0m     con\u001b[39m.\u001b[39mappend(val)\n\u001b[1;32m     <a href='vscode-notebook-cell:/Users/chiaentsai/Desktop/lab/Temperature_Calibration/main.ipynb#X35sZmlsZQ%3D%3D?line=23'>24</a>\u001b[0m dRoverR\u001b[39m.\u001b[39mappend(con)\n",
      "File \u001b[0;32m/var/folders/f7/kn96xdj93ss0t67sn2q10n6c0000gn/T/ipykernel_10699/457918202.py:3\u001b[0m, in \u001b[0;36mget_peak_dRoverR\u001b[0;34m(file, back_intensity, func, maxs_func)\u001b[0m\n\u001b[1;32m      1\u001b[0m \u001b[39mdef\u001b[39;00m \u001b[39mget_peak_dRoverR\u001b[39m(file, back_intensity, func, maxs_func):\n\u001b[1;32m      2\u001b[0m     dRoverR \u001b[39m=\u001b[39m get_dR_over_R(file, back_intensity)\n\u001b[0;32m----> 3\u001b[0m     maxs \u001b[39m=\u001b[39m get_maxs(dRoverR, func)\n\u001b[1;32m      4\u001b[0m     peak \u001b[39m=\u001b[39m get_max(maxs, maxs_func)\n\u001b[1;32m      5\u001b[0m     \u001b[39mreturn\u001b[39;00m peak\n",
      "File \u001b[0;32m/var/folders/f7/kn96xdj93ss0t67sn2q10n6c0000gn/T/ipykernel_10699/2361877158.py:5\u001b[0m, in \u001b[0;36mget_maxs\u001b[0;34m(data, func)\u001b[0m\n\u001b[1;32m      3\u001b[0m \u001b[39mfor\u001b[39;00m i \u001b[39min\u001b[39;00m \u001b[39mrange\u001b[39m(X_right_boundry \u001b[39m-\u001b[39m X_left_boundry):\n\u001b[1;32m      4\u001b[0m     line \u001b[39m=\u001b[39m data[i,:]\n\u001b[0;32m----> 5\u001b[0m     line_max \u001b[39m=\u001b[39m get_max(line, func)\n\u001b[1;32m      6\u001b[0m     maxs[i] \u001b[39m=\u001b[39m line_max\n\u001b[1;32m      7\u001b[0m \u001b[39mreturn\u001b[39;00m maxs\n",
      "File \u001b[0;32m/var/folders/f7/kn96xdj93ss0t67sn2q10n6c0000gn/T/ipykernel_10699/4003065552.py:2\u001b[0m, in \u001b[0;36mget_max\u001b[0;34m(line, func)\u001b[0m\n\u001b[1;32m      1\u001b[0m \u001b[39mdef\u001b[39;00m \u001b[39mget_max\u001b[39m(line, func):\n\u001b[0;32m----> 2\u001b[0m     par \u001b[39m=\u001b[39m fit(func, line)\n\u001b[1;32m      3\u001b[0m     values \u001b[39m=\u001b[39m func(np\u001b[39m.\u001b[39mlinspace(\u001b[39m0\u001b[39m, \u001b[39mlen\u001b[39m(line) \u001b[39m-\u001b[39m \u001b[39m1\u001b[39m, \u001b[39mlen\u001b[39m(line)), \u001b[39m*\u001b[39mpar) \n\u001b[1;32m      4\u001b[0m     \u001b[39mreturn\u001b[39;00m np\u001b[39m.\u001b[39mmax(values)\n",
      "File \u001b[0;32m/var/folders/f7/kn96xdj93ss0t67sn2q10n6c0000gn/T/ipykernel_10699/292683733.py:4\u001b[0m, in \u001b[0;36mfit\u001b[0;34m(func, line)\u001b[0m\n\u001b[1;32m      2\u001b[0m xdata \u001b[39m=\u001b[39m np\u001b[39m.\u001b[39mlinspace(\u001b[39m0\u001b[39m, \u001b[39mlen\u001b[39m(line) \u001b[39m-\u001b[39m \u001b[39m1\u001b[39m, \u001b[39mlen\u001b[39m(line))\n\u001b[1;32m      3\u001b[0m ydata \u001b[39m=\u001b[39m line\n\u001b[0;32m----> 4\u001b[0m popt, pcov \u001b[39m=\u001b[39m curve_fit(func, xdata, ydata, maxfev \u001b[39m=\u001b[39;49m \u001b[39m1000000\u001b[39;49m)\n\u001b[1;32m      5\u001b[0m \u001b[39mreturn\u001b[39;00m popt\n",
      "File \u001b[0;32m~/.virtualenvs/venv/lib/python3.9/site-packages/scipy/optimize/_minpack_py.py:794\u001b[0m, in \u001b[0;36mcurve_fit\u001b[0;34m(f, xdata, ydata, p0, sigma, absolute_sigma, check_finite, bounds, method, jac, **kwargs)\u001b[0m\n\u001b[1;32m    792\u001b[0m     cost \u001b[39m=\u001b[39m np\u001b[39m.\u001b[39msum(infodict[\u001b[39m'\u001b[39m\u001b[39mfvec\u001b[39m\u001b[39m'\u001b[39m] \u001b[39m*\u001b[39m\u001b[39m*\u001b[39m \u001b[39m2\u001b[39m)\n\u001b[1;32m    793\u001b[0m     \u001b[39mif\u001b[39;00m ier \u001b[39mnot\u001b[39;00m \u001b[39min\u001b[39;00m [\u001b[39m1\u001b[39m, \u001b[39m2\u001b[39m, \u001b[39m3\u001b[39m, \u001b[39m4\u001b[39m]:\n\u001b[0;32m--> 794\u001b[0m         \u001b[39mraise\u001b[39;00m \u001b[39mRuntimeError\u001b[39;00m(\u001b[39m\"\u001b[39m\u001b[39mOptimal parameters not found: \u001b[39m\u001b[39m\"\u001b[39m \u001b[39m+\u001b[39m errmsg)\n\u001b[1;32m    795\u001b[0m \u001b[39melse\u001b[39;00m:\n\u001b[1;32m    796\u001b[0m     \u001b[39m# Rename maxfev (leastsq) to max_nfev (least_squares), if specified.\u001b[39;00m\n\u001b[1;32m    797\u001b[0m     \u001b[39mif\u001b[39;00m \u001b[39m'\u001b[39m\u001b[39mmax_nfev\u001b[39m\u001b[39m'\u001b[39m \u001b[39mnot\u001b[39;00m \u001b[39min\u001b[39;00m kwargs:\n",
      "\u001b[0;31mRuntimeError\u001b[0m: Optimal parameters not found: Number of calls to function has reached maxfev = 1000000."
     ]
    }
   ],
   "source": [
    "Si_list = ['103', '20', '234', '68', '9']\n",
    "Si_melting_W = {\n",
    "    '103': 51,\n",
    "    '20': 45,\n",
    "    '234': 57,\n",
    "    '68': 49,\n",
    "    '9': 43\n",
    "}\n",
    "\n",
    "Dict_Si = dict((k, fivemm_files[k][10:]) for k in Si_list)\n",
    "back_intensity_list_Si = []\n",
    "for key in fivemm_files:\n",
    "    if key in Si_list:\n",
    "        index = list(fivemm_files).index(key)\n",
    "        back_intensity_list_Si.append(back_intensity_list[index])\n",
    "\n",
    "#Dict_dRoverR = dict.fromkeys(list(Dict_gold.keys()),[])\n",
    "dRoverR = []\n",
    "for i, v in enumerate(list(Dict_Si.keys())):\n",
    "    con = []\n",
    "    for file in Dict_Si[v]:\n",
    "        val = get_peak_dRoverR(file, back_intensity_list_Si[i], two_lorentz, two_lorentz)\n",
    "        con.append(val)\n",
    "    dRoverR.append(con)\n",
    "\n",
    "power_Si = []\n",
    "for i, (key, value) in enumerate(fivemm_files.items()):\n",
    "    if key in Si_list:\n",
    "        power_Si.append(power_list[i][1:])\n",
    "\n",
    "for i, v in enumerate(list(Dict_Si.keys())):\n",
    "    plt.plot(power_Si[i][:-1], dRoverR[i][:-1], '.')\n",
    "    plt.xlabel(\"power\")\n",
    "    plt.ylabel(\"dR/R\")\n",
    "    plt.savefig(\"/Users/chiaentsai/Desktop/lab/Temperature_Calibration/Si_dRoverR_figure/{}mm.png\".format(v), format=\"PNG\")\n",
    "    plt.close()\n",
    "\n",
    "kappa_Si = []\n",
    "for i, v in enumerate(list(Dict_Si.keys())):\n",
    "    power = [float(j) for j in power_Si[i]][:-1]\n",
    "    y = dRoverR[i][:-1]\n",
    "    popt, pcov = curve_fit(expo, power, y, p0 = [1, 0.00000005, 1], maxfev = 8000)\n",
    "    #a, b, c = popt\n",
    "    plt.plot(power, y, '.')\n",
    "    y_pred = [expo(j, *popt) for j in power]\n",
    "    plt.plot(power, y_pred)\n",
    "    plt.xlabel(\"power\")\n",
    "    plt.ylabel(\"dR/R\")\n",
    "    plt.savefig(\"/Users/chiaentsai/Desktop/lab/Temperature_Calibration/Si_dRoverR_fit_figure/{}mm.png\".format(v), format=\"PNG\")\n",
    "    plt.close()\n",
    "    f = expo(Si_melting_W[v], *popt)\n",
    "    Si_m = 1410\n",
    "    dT = Si_m - 21\n",
    "    kappa = f / dT\n",
    "    kappa_Si.append(kappa)\n",
    "    \n",
    "Dict_kappa_Si = dict(zip(list(Dict_Si.keys()),kappa_Si))\n",
    "\n",
    "plt.plot(list(Dict_Si.keys()), kappa_Si, '.')\n",
    "plt.savefig(\"/Users/chiaentsai/Desktop/lab/Temperature_Calibration/kappa_Si.png\", format=\"PNG\")\n",
    "\n",
    "avg_kappa_Si = sum(kappa_Si) / len(kappa_Si)\n",
    "avg_kappa_Si"
   ]
  },
  {
   "cell_type": "markdown",
   "id": "a4ae5796",
   "metadata": {},
   "source": [
    "### Data set 2"
   ]
  },
  {
   "cell_type": "code",
   "execution_count": null,
   "id": "3099a1bf",
   "metadata": {},
   "outputs": [
    {
     "name": "stderr",
     "output_type": "stream",
     "text": [
      "/Users/chiaentsai/.virtualenvs/venv/lib/python3.9/site-packages/scipy/optimize/_minpack_py.py:833: OptimizeWarning: Covariance of the parameters could not be estimated\n",
      "  warnings.warn('Covariance of the parameters could not be estimated',\n"
     ]
    },
    {
     "data": {
      "text/plain": [
       "0.00016955286988761616"
      ]
     },
     "execution_count": 433,
     "metadata": {},
     "output_type": "execute_result"
    },
    {
     "data": {
      "image/png": "[encoded data removed]",
      "text/plain": [
       "<Figure size 432x288 with 1 Axes>"
      ]
     },
     "metadata": {
      "needs_background": "light"
     },
     "output_type": "display_data"
    }
   ],
   "source": [
    "Si_list = ['103', '155', '234']\n",
    "Si_melting_W = {\n",
    "    '103': 51,\n",
    "    '155': 55,\n",
    "    '234': 57\n",
    "}\n",
    "\n",
    "Dict_Si = dict((k, fivemm_files_2[k][10:]) for k in Si_list)\n",
    "back_intensity_list_Si = []\n",
    "for key in fivemm_files_2:\n",
    "    if key in Si_list:\n",
    "        index = list(fivemm_files_2).index(key)\n",
    "        back_intensity_list_Si.append(back_intensity_list_2[index])\n",
    "\n",
    "#Dict_dRoverR = dict.fromkeys(list(Dict_gold.keys()),[])\n",
    "dRoverR = []\n",
    "for i, v in enumerate(list(Dict_Si.keys())):\n",
    "    con = []\n",
    "    for file in Dict_Si[v]:\n",
    "        val = get_peak_dRoverR(file, back_intensity_list_Si[i], two_lorentz, two_lorentz)\n",
    "        con.append(val)\n",
    "    dRoverR.append(con)\n",
    "\n",
    "power_Si = []\n",
    "for i, (key, value) in enumerate(fivemm_files_2.items()):\n",
    "    if key in Si_list:\n",
    "        power_Si.append(power_list_2[i][1:])\n",
    "\n",
    "for i, v in enumerate(list(Dict_Si.keys())):\n",
    "    plt.plot(power_Si[i][:-1], dRoverR[i][:-1], '.')\n",
    "    plt.xlabel(\"power\")\n",
    "    plt.ylabel(\"dR/R\")\n",
    "    plt.savefig(\"/Users/chiaentsai/Desktop/lab/Temperature_Calibration/Si_dRoverR_figure_2/{}mm.png\".format(v), format=\"PNG\")\n",
    "    plt.close()\n",
    "\n",
    "kappa_Si = []\n",
    "for i, v in enumerate(list(Dict_Si.keys())):\n",
    "    power = [float(j) for j in power_Si[i]][:-1]\n",
    "    y = dRoverR[i][:-1]\n",
    "    popt, pcov = curve_fit(expo, power, y, p0 = [1, 0.0000005, 1], maxfev = 8000)\n",
    "    #a, b, c = popt\n",
    "    plt.plot(power, y, '.')\n",
    "    y_pred = [expo(j, *popt) for j in power]\n",
    "    plt.plot(power, y_pred)\n",
    "    plt.xlabel(\"power\")\n",
    "    plt.ylabel(\"dR/R\")\n",
    "    plt.savefig(\"/Users/chiaentsai/Desktop/lab/Temperature_Calibration/Si_dRoverR_fit_figure_2/{}mm.png\".format(v), format=\"PNG\")\n",
    "    plt.close()\n",
    "    f = expo(Si_melting_W[v], *popt)\n",
    "    Si_m = 1410\n",
    "    dT = Si_m - 21\n",
    "    kappa = f / dT\n",
    "    kappa_Si.append(kappa)\n",
    "    \n",
    "Dict_kappa_Si = dict(zip(list(Dict_Si.keys()),kappa_Si))\n",
    "\n",
    "plt.plot(list(Dict_Si.keys()), kappa_Si, '.')\n",
    "plt.savefig(\"/Users/chiaentsai/Desktop/lab/Temperature_Calibration/kappa_Si_2.png\", format=\"PNG\")\n",
    "\n",
    "avg_kappa_Si = sum(kappa_Si) / len(kappa_Si)\n",
    "avg_kappa_Si"
   ]
  },
  {
   "cell_type": "markdown",
   "id": "4df2bd7a",
   "metadata": {},
   "source": [
    "### Data set 3"
   ]
  },
  {
   "cell_type": "code",
   "execution_count": null,
   "id": "ae3646b7",
   "metadata": {},
   "outputs": [
    {
     "name": "stderr",
     "output_type": "stream",
     "text": [
      "/Users/chiaentsai/.virtualenvs/venv/lib/python3.9/site-packages/scipy/optimize/_minpack_py.py:833: OptimizeWarning: Covariance of the parameters could not be estimated\n",
      "  warnings.warn('Covariance of the parameters could not be estimated',\n"
     ]
    },
    {
     "data": {
      "text/plain": [
       "0.00018925322919406717"
      ]
     },
     "execution_count": 435,
     "metadata": {},
     "output_type": "execute_result"
    },
    {
     "data": {
      "image/png": "[encoded data removed]",
      "text/plain": [
       "<Figure size 432x288 with 1 Axes>"
      ]
     },
     "metadata": {
      "needs_background": "light"
     },
     "output_type": "display_data"
    }
   ],
   "source": [
    "Si_list = ['103', '190', '68']\n",
    "Si_melting_W = {\n",
    "    '103': 51,\n",
    "    '190': 55,\n",
    "    '68': 49\n",
    "}\n",
    "\n",
    "Dict_Si = dict((k, fivemm_files_3[k][10:]) for k in Si_list)\n",
    "back_intensity_list_Si = []\n",
    "for key in fivemm_files_3:\n",
    "    if key in Si_list:\n",
    "        index = list(fivemm_files_3).index(key)\n",
    "        back_intensity_list_Si.append(back_intensity_list_3[index])\n",
    "\n",
    "#Dict_dRoverR = dict.fromkeys(list(Dict_gold.keys()),[])\n",
    "dRoverR = []\n",
    "for i, v in enumerate(list(Dict_Si.keys())):\n",
    "    con = []\n",
    "    for file in Dict_Si[v]:\n",
    "        val = get_peak_dRoverR(file, back_intensity_list_Si[i], two_lorentz, two_lorentz)\n",
    "        con.append(val)\n",
    "    dRoverR.append(con)\n",
    "\n",
    "power_Si = []\n",
    "for i, (key, value) in enumerate(fivemm_files_3.items()):\n",
    "    if key in Si_list:\n",
    "        power_Si.append(power_list_3[i][1:])\n",
    "\n",
    "for i, v in enumerate(list(Dict_Si.keys())):\n",
    "    plt.plot(power_Si[i][:-1], dRoverR[i][:-1], '.')\n",
    "    plt.xlabel(\"power\")\n",
    "    plt.ylabel(\"dR/R\")\n",
    "    plt.savefig(\"/Users/chiaentsai/Desktop/lab/Temperature_Calibration/Si_dRoverR_figure_3/{}mm.png\".format(v), format=\"PNG\")\n",
    "    plt.close()\n",
    "\n",
    "kappa_Si = []\n",
    "for i, v in enumerate(list(Dict_Si.keys())):\n",
    "    power = [float(j) for j in power_Si[i]][:-1]\n",
    "    y = dRoverR[i][:-1]\n",
    "    popt, pcov = curve_fit(expo, power, y, p0 = [1, 0.000005, 1], maxfev = 8000)\n",
    "    #a, b, c = popt\n",
    "    plt.plot(power, y, '.')\n",
    "    y_pred = [expo(j, *popt) for j in power]\n",
    "    plt.plot(power, y_pred)\n",
    "    plt.xlabel(\"power\")\n",
    "    plt.ylabel(\"dR/R\")\n",
    "    plt.savefig(\"/Users/chiaentsai/Desktop/lab/Temperature_Calibration/Si_dRoverR_fit_figure_3/{}mm.png\".format(v), format=\"PNG\")\n",
    "    plt.close()\n",
    "    f = expo(Si_melting_W[v], *popt)\n",
    "    Si_m = 1410\n",
    "    dT = Si_m - 21\n",
    "    kappa = f / dT\n",
    "    kappa_Si.append(kappa)\n",
    "    \n",
    "Dict_kappa_Si = dict(zip(list(Dict_Si.keys()),kappa_Si))\n",
    "\n",
    "plt.plot(list(Dict_Si.keys()), kappa_Si, '.')\n",
    "plt.savefig(\"/Users/chiaentsai/Desktop/lab/Temperature_Calibration/kappa_Si_3.png\", format=\"PNG\")\n",
    "\n",
    "avg_kappa_Si = sum(kappa_Si) / len(kappa_Si)\n",
    "avg_kappa_Si"
   ]
  },
  {
   "cell_type": "markdown",
   "id": "02558fa8",
   "metadata": {},
   "source": [
    "### Data set 4"
   ]
  },
  {
   "cell_type": "code",
   "execution_count": null,
   "id": "26c64296",
   "metadata": {},
   "outputs": [
    {
     "name": "stderr",
     "output_type": "stream",
     "text": [
      "/Users/chiaentsai/.virtualenvs/venv/lib/python3.9/site-packages/scipy/optimize/_minpack_py.py:833: OptimizeWarning: Covariance of the parameters could not be estimated\n",
      "  warnings.warn('Covariance of the parameters could not be estimated',\n"
     ]
    },
    {
     "data": {
      "text/plain": [
       "0.0001828065343291713"
      ]
     },
     "execution_count": 442,
     "metadata": {},
     "output_type": "execute_result"
    },
    {
     "data": {
      "image/png": "[encoded data removed]",
      "text/plain": [
       "<Figure size 432x288 with 1 Axes>"
      ]
     },
     "metadata": {
      "needs_background": "light"
     },
     "output_type": "display_data"
    }
   ],
   "source": [
    "Si_list = ['103', '13', '155', '68']\n",
    "Si_melting_W = {\n",
    "    '103': 51,\n",
    "    '13': 43,\n",
    "    '155': 53,\n",
    "    '68': 49\n",
    "}\n",
    "\n",
    "Dict_Si = dict((k, fivemm_files_4[k][10:]) for k in Si_list)\n",
    "back_intensity_list_Si = []\n",
    "for key in fivemm_files_4:\n",
    "    if key in Si_list:\n",
    "        index = list(fivemm_files_4).index(key)\n",
    "        back_intensity_list_Si.append(back_intensity_list_4[index])\n",
    "\n",
    "#Dict_dRoverR = dict.fromkeys(list(Dict_gold.keys()),[])\n",
    "dRoverR = []\n",
    "for i, v in enumerate(list(Dict_Si.keys())):\n",
    "    con = []\n",
    "    for file in Dict_Si[v]:\n",
    "        val = get_peak_dRoverR(file, back_intensity_list_Si[i], two_lorentz, two_lorentz)\n",
    "        con.append(val)\n",
    "    dRoverR.append(con)\n",
    "\n",
    "power_Si = []\n",
    "for i, (key, value) in enumerate(fivemm_files_4.items()):\n",
    "    if key in Si_list:\n",
    "        power_Si.append(power_list_4[i][1:])\n",
    "\n",
    "for i, v in enumerate(list(Dict_Si.keys())):\n",
    "    plt.plot(power_Si[i][:-1], dRoverR[i][:-1], '.')\n",
    "    plt.xlabel(\"power\")\n",
    "    plt.ylabel(\"dR/R\")\n",
    "    plt.savefig(\"/Users/chiaentsai/Desktop/lab/Temperature_Calibration/Si_dRoverR_figure_4/{}mm.png\".format(v), format=\"PNG\")\n",
    "    plt.close()\n",
    "\n",
    "kappa_Si = []\n",
    "for i, v in enumerate(list(Dict_Si.keys())):\n",
    "    power = [float(j) for j in power_Si[i]][:-1]\n",
    "    y = dRoverR[i][:-1]\n",
    "    popt, pcov = curve_fit(expo, power, y, p0 = [1, 0.0000005, 1], maxfev = 8000)\n",
    "    #a, b, c = popt\n",
    "    plt.plot(power, y, '.')\n",
    "    y_pred = [expo(j, *popt) for j in power]\n",
    "    plt.plot(power, y_pred)\n",
    "    plt.xlabel(\"power\")\n",
    "    plt.ylabel(\"dR/R\")\n",
    "    plt.savefig(\"/Users/chiaentsai/Desktop/lab/Temperature_Calibration/Si_dRoverR_fit_figure_4/{}mm.png\".format(v), format=\"PNG\")\n",
    "    plt.close()\n",
    "    f = expo(Si_melting_W[v], *popt)\n",
    "    Si_m = 1410\n",
    "    dT = Si_m - 21\n",
    "    kappa = f / dT\n",
    "    kappa_Si.append(kappa)\n",
    "    \n",
    "Dict_kappa_Si = dict(zip(list(Dict_Si.keys()),kappa_Si))\n",
    "\n",
    "plt.plot(list(Dict_Si.keys()), kappa_Si, '.')\n",
    "plt.savefig(\"/Users/chiaentsai/Desktop/lab/Temperature_Calibration/kappa_Si_4.png\", format=\"PNG\")\n",
    "\n",
    "avg_kappa_Si = sum(kappa_Si) / len(kappa_Si)\n",
    "avg_kappa_Si"
   ]
  },
  {
   "cell_type": "markdown",
   "id": "7aad4a0c",
   "metadata": {},
   "source": [
    "### use average dR/R"
   ]
  },
  {
   "cell_type": "code",
   "execution_count": null,
   "id": "cd05c308",
   "metadata": {},
   "outputs": [
    {
     "name": "stderr",
     "output_type": "stream",
     "text": [
      "/Users/chiaentsai/.virtualenvs/venv/lib/python3.9/site-packages/scipy/optimize/_minpack_py.py:833: OptimizeWarning: Covariance of the parameters could not be estimated\n",
      "  warnings.warn('Covariance of the parameters could not be estimated',\n"
     ]
    }
   ],
   "source": [
    "Si_list = ['103', '13', '155', '190', '20', '68', '9']\n",
    "Si_melting_W = {\n",
    "    '103': 51,\n",
    "    '13': 43,\n",
    "    '155': 53,\n",
    "    '190': 55,\n",
    "    '20': 45,\n",
    "    '68': 49,\n",
    "    '9': 41\n",
    "}\n",
    "\n",
    "Dict_Si_1 = dict((k, fivemm_files[k][10:]) for k in Si_list)\n",
    "Dict_Si_2 = dict((k, fivemm_files_2[k][10:]) for k in Si_list)\n",
    "Dict_Si_3 = dict((k, fivemm_files_3[k][10:]) for k in Si_list)\n",
    "#Dict_Si_4 = dict((k, fivemm_files_4[k][10:]) for k in Si_list)\n",
    "\n",
    "back_intensity_list_Si_1 = []\n",
    "back_intensity_list_Si_2 = []\n",
    "back_intensity_list_Si_3 = []\n",
    "#back_intensity_list_Si_4 = []\n",
    "\n",
    "for key in fivemm_files:\n",
    "    if key in Si_list:\n",
    "        index = list(fivemm_files).index(key)\n",
    "        back_intensity_list_Si_1.append(back_intensity_list[index])\n",
    "for key in fivemm_files_2:\n",
    "    if key in Si_list:\n",
    "        index = list(fivemm_files_2).index(key)\n",
    "        back_intensity_list_Si_2.append(back_intensity_list_2[index])\n",
    "for key in fivemm_files_3:\n",
    "    if key in Si_list:\n",
    "        index = list(fivemm_files_3).index(key)\n",
    "        back_intensity_list_Si_3.append(back_intensity_list_3[index])\n",
    "#for key in fivemm_files_4:\n",
    "#    if key in Si_list:\n",
    "#        index = list(fivemm_files_4).index(key)\n",
    "#        back_intensity_list_Si_4.append(back_intensity_list_4[index])\n",
    "\n",
    "dRoverR_1 = []\n",
    "dRoverR_2 = []\n",
    "dRoverR_3 = []\n",
    "#dRoverR_4 = []\n",
    "\n",
    "for i, v in enumerate(list(Dict_Si_1.keys())):\n",
    "    con = []\n",
    "    for file in Dict_Si_1[v]:\n",
    "        val = get_peak_dRoverR(file, back_intensity_list_Si_1[i], two_lorentz, two_lorentz)\n",
    "        con.append(val)\n",
    "    dRoverR_1.append(con)\n",
    "\n",
    "for i, v in enumerate(list(Dict_Si_2.keys())):\n",
    "    con = []\n",
    "    for file in Dict_Si_2[v]:\n",
    "        val = get_peak_dRoverR(file, back_intensity_list_Si_2[i], two_lorentz, two_lorentz)\n",
    "        con.append(val)\n",
    "    dRoverR_2.append(con)\n",
    "\n",
    "for i, v in enumerate(list(Dict_Si_3.keys())):\n",
    "    con = []\n",
    "    for file in Dict_Si_3[v]:\n",
    "        val = get_peak_dRoverR(file, back_intensity_list_Si_3[i], two_lorentz, two_lorentz)\n",
    "        con.append(val)\n",
    "    dRoverR_3.append(con)\n",
    "\n",
    "#for i, v in enumerate(list(Dict_gold_4.keys())):\n",
    "#    con = []\n",
    "#    for file in Dict_gold_4[v]:\n",
    "#        val = get_peak_dRoverR(file, back_intensity_list_gold_4[i], two_lorentz, two_lorentz)\n",
    "#        con.append(val)\n",
    "#    dRoverR_4.append(con)"
   ]
  },
  {
   "cell_type": "code",
   "execution_count": null,
   "id": "c9425c59",
   "metadata": {},
   "outputs": [],
   "source": [
    "for i in range(0,len(dRoverR_1),1):\n",
    "    dRoverR_1[i] = dRoverR_1[i][:-1]\n",
    "\n",
    "for i in range(0,len(dRoverR_2),1):\n",
    "    dRoverR_2[i] = dRoverR_2[i][:-1]\n",
    "\n",
    "for i in range(0,len(dRoverR_3),1):\n",
    "    dRoverR_3[i] = dRoverR_3[i][:-1]\n",
    "\n",
    "#for i in range(0,len(dRoverR_4),1):\n",
    "#    dRoverR_4[i] = dRoverR_4[i][:-1]"
   ]
  },
  {
   "cell_type": "code",
   "execution_count": null,
   "id": "0b0b1da9",
   "metadata": {},
   "outputs": [],
   "source": [
    "dRoverR_2[2] = dRoverR_2[2][:-1]\n",
    "dRoverR_2[3] = dRoverR_2[3][:-1]\n",
    "dRoverR_3[3] = dRoverR_3[3][:-1]\n",
    "dRoverR_1[4] = dRoverR_1[4][:-1]\n",
    "dRoverR_1[5] = dRoverR_1[5][:-1]\n",
    "dRoverR_3[5] = dRoverR_3[5][:-1]\n",
    "dRoverR_1[6] = dRoverR_1[6][:-1]"
   ]
  },
  {
   "cell_type": "code",
   "execution_count": null,
   "id": "71d64733",
   "metadata": {},
   "outputs": [],
   "source": [
    "power_Si = [[],[],[],[],[],[],[]]\n",
    "power_Si[0] = [29+2*i for i in range(0,10,1)]\n",
    "power_Si[1] = [29+2*i for i in range(0,6,1)]\n",
    "power_Si[2] = [29+2*i for i in range(0,11,1)]\n",
    "power_Si[3] = [29+2*i for i in range(0,11,1)]\n",
    "power_Si[4] = [29+2*i for i in range(0,6,1)]\n",
    "power_Si[5] = [29+2*i for i in range(0,8,1)]\n",
    "power_Si[6] = [29+2*i for i in range(0,5,1)]"
   ]
  },
  {
   "cell_type": "code",
   "execution_count": null,
   "id": "0e8b794a",
   "metadata": {},
   "outputs": [],
   "source": [
    "avg_dRoverR = [[],[],[],[],[],[],[]]\n",
    "for i in range(0,7,1):\n",
    "    arrays = [dRoverR_1[i], dRoverR_2[i], dRoverR_3[i]]\n",
    "    avg_dRoverR[i] = [np.mean(k) for k in zip(*arrays)]"
   ]
  },
  {
   "cell_type": "code",
   "execution_count": null,
   "id": "3c168eda",
   "metadata": {},
   "outputs": [],
   "source": [
    "for i, v in enumerate(list(Dict_Si_1.keys())):\n",
    "    plt.plot(power_Si[i], avg_dRoverR[i], '.')\n",
    "    plt.xlabel(\"power\")\n",
    "    plt.ylabel(\"dR/R\")\n",
    "    plt.savefig(\"/Users/chiaentsai/Desktop/lab/Temperature_Calibration/Si_dRoverR_figure_avg/{}mm.png\".format(v), format=\"PNG\")\n",
    "    plt.close()"
   ]
  },
  {
   "cell_type": "code",
   "execution_count": null,
   "id": "253fb2d4",
   "metadata": {},
   "outputs": [
    {
     "data": {
      "image/png": "[encoded data removed]",
      "text/plain": [
       "<Figure size 432x288 with 1 Axes>"
      ]
     },
     "metadata": {
      "needs_background": "light"
     },
     "output_type": "display_data"
    }
   ],
   "source": [
    "kappa_Si_avg = []\n",
    "for i, v in enumerate(list(Dict_Si_1.keys())):\n",
    "    popt, pcov = curve_fit(expo, power_Si[i], avg_dRoverR[i], p0 = [1, 0.0000005, 1], maxfev = 8000)\n",
    "    #a, b, c = popt\n",
    "    plt.plot(power_Si[i], avg_dRoverR[i], '.')\n",
    "    y_pred = [expo(j, *popt) for j in power_Si[i]]\n",
    "    plt.plot(power_Si[i], y_pred)\n",
    "    plt.xlabel(\"power\")\n",
    "    plt.ylabel(\"dR/R\")\n",
    "    plt.savefig(\"/Users/chiaentsai/Desktop/lab/Temperature_Calibration/Si_dRoverR_fit_figure_avg/{}mm.png\".format(v), format=\"PNG\")\n",
    "    plt.close()\n",
    "    f = expo(Si_melting_W[v], *popt)\n",
    "    gold_m = 1410\n",
    "    dT = gold_m - 21\n",
    "    kappa = f / dT\n",
    "    kappa_Si_avg.append(kappa)\n",
    "    \n",
    "#Dict_kappa_gold = dict(zip(list(Dict_gold.keys()),kappa_gold))\n",
    "\n",
    "plt.plot(list(Dict_Si_1.keys()), kappa_Si_avg, '.')\n",
    "plt.savefig(\"/Users/chiaentsai/Desktop/lab/Temperature_Calibration/kappa_Si_avg.png\", format=\"PNG\")"
   ]
  },
  {
   "cell_type": "code",
   "execution_count": null,
   "id": "5c0a88c1",
   "metadata": {},
   "outputs": [
    {
     "data": {
      "text/plain": [
       "0.00018625705027141445"
      ]
     },
     "execution_count": 482,
     "metadata": {},
     "output_type": "execute_result"
    }
   ],
   "source": [
    "kappa_Si = sum(kappa_Si_avg)/len(kappa_Si_avg)\n",
    "kappa_Si"
   ]
  },
  {
   "cell_type": "markdown",
   "id": "b0d4141e",
   "metadata": {},
   "source": [
    "# Fit plane"
   ]
  },
  {
   "cell_type": "code",
   "execution_count": 13,
   "id": "05d8d13f",
   "metadata": {},
   "outputs": [],
   "source": [
    "Dict_new_fit = {k: Dict_new[k][1:] for k in Dict_new}\n",
    "Tem = []\n",
    "for i, v in enumerate(list(Dict_new_fit.keys())):\n",
    "    tem = []\n",
    "    for file in Dict_new_fit[v]:\n",
    "        t = get_peak_T(file, b_files[i], poly5, poly5, avg_kappa_gold)\n",
    "        tem.append(t)\n",
    "    Tem.append(tem)"
   ]
  },
  {
   "cell_type": "code",
   "execution_count": 14,
   "id": "9e4af907",
   "metadata": {
    "scrolled": true
   },
   "outputs": [
    {
     "data": {
      "image/png": "[encoded data removed]",
      "text/plain": [
       "<Figure size 720x504 with 1 Axes>"
      ]
     },
     "metadata": {
      "needs_background": "light"
     },
     "output_type": "display_data"
    }
   ],
   "source": [
    "fig = plt.figure(figsize = (10, 7))\n",
    "ax = plt.axes(projection =\"3d\")\n",
    "points = []\n",
    "for i, v in enumerate(list(Dict_new_fit.keys())):\n",
    "    P = np.linspace(29,29+2*(len(Dict_new_fit[v])-1),(len(Dict_new_fit[v])-1)+1)\n",
    "    V = [v]*((len(Dict_new_fit[v])-1)+1)\n",
    "    T = Tem[i]\n",
    "    ax.scatter3D(P, V, T, color = \"green\")\n",
    "    ax.set_xlabel(\"power - W\")\n",
    "    ax.set_ylabel(\"velocity - mm/sec\")\n",
    "    ax.set_zlabel(\"temperature - C\")\n",
    "    point = [list(x) for x in zip(*[P,V,T])]\n",
    "    points.append(point)\n",
    "    "
   ]
  },
  {
   "cell_type": "code",
   "execution_count": 15,
   "id": "860b41c6",
   "metadata": {},
   "outputs": [
    {
     "name": "stderr",
     "output_type": "stream",
     "text": [
      "/var/folders/f7/kn96xdj93ss0t67sn2q10n6c0000gn/T/ipykernel_8077/1074374514.py:26: MatplotlibDeprecationWarning: Axes3D(fig) adding itself to the figure is deprecated since 3.4. Pass the keyword argument auto_add_to_figure=False and use fig.add_axes(ax) to suppress this warning. The default value of auto_add_to_figure will change to False in mpl3.5 and True values will no longer work in 3.6.  This is consistent with other Axes classes.\n",
      "  ax = Axes3D(fig)\n"
     ]
    },
    {
     "data": {
      "image/png": "[encoded data removed]",
      "text/plain": [
       "<Figure size 432x288 with 1 Axes>"
      ]
     },
     "metadata": {
      "needs_background": "light"
     },
     "output_type": "display_data"
    }
   ],
   "source": [
    "import numpy as np\n",
    "from scipy.optimize import curve_fit\n",
    "from mpl_toolkits.mplot3d import Axes3D\n",
    "import matplotlib.pyplot as plt\n",
    "def function(data, a, b, c):\n",
    "    x = data[0]\n",
    "    y = data[1]\n",
    "    return a * (x**b) * (y**c)\n",
    "\n",
    "x_data = []\n",
    "y_data = []\n",
    "z_data = []\n",
    "for velo in points:\n",
    "    for item in velo:\n",
    "        x_data.append(item[0]) # power\n",
    "        y_data.append(item[1]) # velocity\n",
    "        z_data.append(item[2]) # temperature\n",
    "        \n",
    "parameters, covariance = curve_fit(function, [x_data, y_data], z_data)\n",
    "model_x_data = np.linspace(min(x_data), max(x_data), 30)\n",
    "model_y_data = np.linspace(min(y_data), max(y_data), 30)\n",
    "X, Y = np.meshgrid(model_x_data, model_y_data)\n",
    "Z = function(np.array([X, Y]), *parameters)\n",
    "fig = plt.figure()\n",
    "# setup 3d object\n",
    "ax = Axes3D(fig)\n",
    "# plot surface\n",
    "ax.plot_surface(X, Y, Z)\n",
    "# plot input data\n",
    "ax.scatter(x_data, y_data, z_data, color='green')\n",
    "plt.show()"
   ]
  },
  {
   "cell_type": "code",
   "execution_count": 23,
   "id": "7accadae",
   "metadata": {
    "scrolled": true
   },
   "outputs": [
    {
     "data": {
      "text/plain": [
       "13"
      ]
     },
     "execution_count": 23,
     "metadata": {},
     "output_type": "execute_result"
    }
   ],
   "source": [
    "len(Tem[10])"
   ]
  },
  {
   "cell_type": "code",
   "execution_count": null,
   "id": "2d98f131",
   "metadata": {},
   "outputs": [],
   "source": []
  },
  {
   "cell_type": "code",
   "execution_count": null,
   "id": "f240673f",
   "metadata": {},
   "outputs": [],
   "source": []
  },
  {
   "cell_type": "code",
   "execution_count": null,
   "id": "38867538",
   "metadata": {},
   "outputs": [],
   "source": []
  }
 ],
 "metadata": {
  "kernelspec": {
   "display_name": "Python 3.9.0 ('venv')",
   "language": "python",
   "name": "python3"
  },
  "language_info": {
   "codemirror_mode": {
    "name": "ipython",
    "version": 3
   },
   "file_extension": ".py",
   "mimetype": "text/x-python",
   "name": "python",
   "nbconvert_exporter": "python",
   "pygments_lexer": "ipython3",
   "version": "3.9.0"
  },
  "vscode": {
   "interpreter": {
    "hash": "05a9d8f434e6f97949f116bb3fd6e0132cb85e41e1947128ba85095efa1eda1d"
   }
  }
 },
 "nbformat": 4,
 "nbformat_minor": 5
}
