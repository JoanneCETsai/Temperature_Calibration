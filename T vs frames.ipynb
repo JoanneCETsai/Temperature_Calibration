{
 "cells": [
  {
   "cell_type": "code",
   "execution_count": null,
   "id": "ee349030",
   "metadata": {},
   "outputs": [],
   "source": [
    "import glob, os\n",
    "os.chdir(\"/Users/chiaentsai/Box/MURI-SARA/Thermoreflectance/chess_2022_2_0412/TR_0412/20mm per sec\")\n",
    "thefiles =[]\n",
    "b_files = []\n",
    "for file in glob.glob(\"*51W*\"):\n",
    "    file = \"/Users/chiaentsai/Box/MURI-SARA/Thermoreflectance/chess_2022_2_0412/TR_0412/20mm per sec\"+\"/\"+file\n",
    "    thefiles.append(file)\n",
    "    \n",
    "for file in glob.glob(\"*0W*\"):\n",
    "    file = \"/Users/chiaentsai/Box/MURI-SARA/Thermoreflectance/chess_2022_2_0412/TR_0412/20mm per sec\"+\"/\"+file\n",
    "    b_files.append(file)\n",
    "    \n",
    "del thefiles[0]\n",
    "del b_files[0]\n",
    "\n",
    "peak_T_20mm = []\n",
    "for thing in enumerate(zip(thefiles, b_files)):\n",
    "    val = get_peak_T(thing[1][0], thing[1][1], poly5, poly5)\n",
    "    peak_T_20mm.append(val)\n",
    "len(peak_T_20mm)"
   ]
  },
  {
   "cell_type": "code",
   "execution_count": null,
   "id": "668604a9",
   "metadata": {},
   "outputs": [],
   "source": [
    "plt.plot(peak_T_20mm)"
   ]
  }
 ],
 "metadata": {
  "kernelspec": {
   "display_name": "Python 3 (ipykernel)",
   "language": "python",
   "name": "python3"
  },
  "language_info": {
   "codemirror_mode": {
    "name": "ipython",
    "version": 3
   },
   "file_extension": ".py",
   "mimetype": "text/x-python",
   "name": "python",
   "nbconvert_exporter": "python",
   "pygments_lexer": "ipython3",
   "version": "3.9.0"
  }
 },
 "nbformat": 4,
 "nbformat_minor": 5
}
