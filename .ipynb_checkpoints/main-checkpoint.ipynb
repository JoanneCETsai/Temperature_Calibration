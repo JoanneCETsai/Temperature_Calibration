{
 "cells": [
  {
   "cell_type": "code",
   "execution_count": 6,
   "id": "82b36748",
   "metadata": {},
   "outputs": [],
   "source": [
    "%run \"/Users/chiaentsai/Desktop/lab/Temperature_Calibration/curve_fit_.ipynb\"\n",
    "%run \"/Users/chiaentsai/Desktop/lab/Temperature_Calibration/data_processing_.ipynb\"\n",
    "%run \"/Users/chiaentsai/Desktop/lab/Temperature_Calibration/evaluation_functions_.ipynb\"\n",
    "%run \"/Users/chiaentsai/Desktop/lab/Temperature_Calibration/fitting_functions_.ipynb\"\n",
    "%run \"/Users/chiaentsai/Desktop/lab/Temperature_Calibration/get_temperature_.ipynb\""
   ]
  },
  {
   "cell_type": "code",
   "execution_count": null,
   "id": "776716cc",
   "metadata": {},
   "outputs": [],
   "source": [
    "from pathlib import Path\n",
    "from enum import Enum\n",
    "import cv2\n",
    "from cv2 import imwrite\n",
    "from tqdm import tqdm\n",
    "import numpy as np\n",
    "import matplotlib.pyplot as plt\n",
    "import math\n",
    "from sklearn import preprocessing\n",
    "from time import time\n",
    "from scipy.optimize import curve_fit\n",
    "%matplotlib inline\n",
    "import scipy.stats\n",
    "from util import parse_fn, is_bg\n",
    "from scipy import stats\n",
    "from scipy.stats import skewnorm\n",
    "from scipy.special import erf\n",
    "from scipy.special import voigt_profile"
   ]
  },
  {
   "cell_type": "markdown",
   "id": "5ffb0c56",
   "metadata": {},
   "source": [
    "# information of picture"
   ]
  },
  {
   "cell_type": "code",
   "execution_count": null,
   "id": "7fd3b0ac",
   "metadata": {},
   "outputs": [],
   "source": [
    "HEADER_LEN = 152 \n",
    "X_DIM = 1200 \n",
    "Y_DIM = 1920"
   ]
  },
  {
   "cell_type": "markdown",
   "id": "a8f00cbf",
   "metadata": {},
   "source": [
    "# Input Files"
   ]
  },
  {
   "cell_type": "code",
   "execution_count": null,
   "id": "ce937125",
   "metadata": {},
   "outputs": [],
   "source": []
  },
  {
   "cell_type": "markdown",
   "id": "e99941f0",
   "metadata": {},
   "source": [
    "# Visualization"
   ]
  },
  {
   "cell_type": "code",
   "execution_count": null,
   "id": "c555fa93",
   "metadata": {},
   "outputs": [],
   "source": []
  },
  {
   "cell_type": "markdown",
   "id": "3a3c4da6",
   "metadata": {},
   "source": [
    "# Get kappa"
   ]
  },
  {
   "cell_type": "code",
   "execution_count": null,
   "id": "128446f7",
   "metadata": {},
   "outputs": [],
   "source": []
  },
  {
   "cell_type": "markdown",
   "id": "b0d4141e",
   "metadata": {},
   "source": [
    "# Fit plane"
   ]
  },
  {
   "cell_type": "code",
   "execution_count": null,
   "id": "f134b86b",
   "metadata": {},
   "outputs": [],
   "source": []
  }
 ],
 "metadata": {
  "kernelspec": {
   "display_name": "Python 3 (ipykernel)",
   "language": "python",
   "name": "python3"
  },
  "language_info": {
   "codemirror_mode": {
    "name": "ipython",
    "version": 3
   },
   "file_extension": ".py",
   "mimetype": "text/x-python",
   "name": "python",
   "nbconvert_exporter": "python",
   "pygments_lexer": "ipython3",
   "version": "3.9.0"
  }
 },
 "nbformat": 4,
 "nbformat_minor": 5
}
