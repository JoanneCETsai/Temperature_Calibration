{
 "cells": [
  {
   "cell_type": "code",
   "execution_count": 1,
   "id": "82b36748",
   "metadata": {},
   "outputs": [],
   "source": [
    "%run \"curve_fit_.ipynb\"\n",
    "%run \"data_processing_.ipynb\"\n",
    "%run \"evaluation_functions_.ipynb\"\n",
    "%run \"fitting_functions_.ipynb\"\n",
    "%run \"get_temperature_.ipynb\"\n",
    "%run \"load_data_.ipynb\"\n",
    "%run \"get_backbround_average_.ipynb\"\n",
    "%run \"frame_vs_temperature.ipynb\""
   ]
  },
  {
   "cell_type": "markdown",
   "id": "a8f00cbf",
   "metadata": {},
   "source": [
    "# Input Files"
   ]
  },
  {
   "cell_type": "markdown",
   "id": "c49c26e4",
   "metadata": {},
   "source": [
    "### input needed: name of the folder containing different velocity's picture"
   ]
  },
  {
   "cell_type": "code",
   "execution_count": 2,
   "id": "36813a12",
   "metadata": {},
   "outputs": [],
   "source": [
    "folder = \"/Users/chiaentsai/Box/MURI-SARA/Thermoreflectance/Joanne/11092022_1\"\n",
    "folder_2 = \"/Users/chiaentsai/Box/MURI-SARA/Thermoreflectance/Joanne/11092022_2\"\n",
    "folder_3 = \"/Users/chiaentsai/Box/MURI-SARA/Thermoreflectance/Joanne/11092022_3\"\n",
    "folder_4 = \"/Users/chiaentsai/Box/MURI-SARA/Thermoreflectance/Joanne/11092022_4\""
   ]
  },
  {
   "cell_type": "code",
   "execution_count": 4,
   "id": "e47678e7",
   "metadata": {},
   "outputs": [],
   "source": [
    "all_files, fivemm_files, velocity_path_list, velocity_list, used_frame_num = get_needed_files(folder)\n",
    "back_intensity_list = get_background_average(fivemm_files)\n",
    "power_list = get_powers(all_files)"
   ]
  },
  {
   "cell_type": "code",
   "execution_count": 5,
   "id": "307b70ea",
   "metadata": {},
   "outputs": [],
   "source": [
    "all_files_2, fivemm_files_2, velocity_path_list_2, velocity_list_2, used_frame_num_2 = get_needed_files(folder_2)\n",
    "back_intensity_list_2 = get_background_average(fivemm_files_2)\n",
    "power_list_2 = get_powers(all_files_2)"
   ]
  },
  {
   "cell_type": "code",
   "execution_count": 6,
   "id": "10fbd233",
   "metadata": {},
   "outputs": [],
   "source": [
    "all_files_3, fivemm_files_3, velocity_path_list_3, velocity_list_3, used_frame_num_3 = get_needed_files(folder_3)\n",
    "back_intensity_list_3 = get_background_average(fivemm_files_3)\n",
    "power_list_3 = get_powers(all_files_3)"
   ]
  },
  {
   "cell_type": "code",
   "execution_count": 7,
   "id": "4b16c723",
   "metadata": {},
   "outputs": [],
   "source": [
    "all_files_4, fivemm_files_4, velocity_path_list_4, velocity_list_4, used_frame_num_4 = get_needed_files(folder_4)\n",
    "back_intensity_list_4 = get_background_average(fivemm_files_4)\n",
    "power_list_4 = get_powers(all_files_4)"
   ]
  },
  {
   "cell_type": "markdown",
   "id": "772d5c73",
   "metadata": {},
   "source": [
    "# Get kappa (silicon melt)"
   ]
  },
  {
   "cell_type": "markdown",
   "id": "aa60d23d",
   "metadata": {},
   "source": [
    "### input need: si melting power at specific velocity"
   ]
  },
  {
   "cell_type": "code",
   "execution_count": 8,
   "id": "1cba2c30",
   "metadata": {},
   "outputs": [],
   "source": [
    "Si_melting_W = {\n",
    "    '103': 49.475,\n",
    "    '13': 41.8,\n",
    "    '155': 52.1,\n",
    "    '190': 53.225, \n",
    "    '20': 43.183,\n",
    "    '234': 54.65,\n",
    "    '30': 44.2,\n",
    "    '352': 58.5,\n",
    "    '45': 46,\n",
    "    '68': 47.65,\n",
    "    '9': 42.1\n",
    "}"
   ]
  },
  {
   "cell_type": "markdown",
   "id": "7aad4a0c",
   "metadata": {},
   "source": [
    "### use average dR/R"
   ]
  },
  {
   "cell_type": "code",
   "execution_count": 10,
   "id": "cd05c308",
   "metadata": {},
   "outputs": [
    {
     "name": "stderr",
     "output_type": "stream",
     "text": [
      "/Users/chiaentsai/.virtualenvs/venv/lib/python3.9/site-packages/scipy/optimize/_minpack_py.py:833: OptimizeWarning: Covariance of the parameters could not be estimated\n",
      "  warnings.warn('Covariance of the parameters could not be estimated',\n"
     ]
    }
   ],
   "source": [
    "Si_list = ['103', '13', '155', '20', '30', '45', '68', '9']\n",
    "\n",
    "\n",
    "Dict_Si_1 = dict((k, fivemm_files[k][10:]) for k in Si_list)\n",
    "Dict_Si_2 = dict((k, fivemm_files_2[k][10:]) for k in Si_list)\n",
    "Dict_Si_3 = dict((k, fivemm_files_3[k][10:]) for k in Si_list)\n",
    "Dict_Si_4 = dict((k, fivemm_files_4[k][10:]) for k in Si_list)\n",
    "\n",
    "back_intensity_list_Si_1 = []\n",
    "back_intensity_list_Si_2 = []\n",
    "back_intensity_list_Si_3 = []\n",
    "back_intensity_list_Si_4 = []\n",
    "\n",
    "for key in fivemm_files:\n",
    "    if key in Si_list:\n",
    "        index = list(fivemm_files).index(key)\n",
    "        back_intensity_list_Si_1.append(back_intensity_list[index])\n",
    "for key in fivemm_files_2:\n",
    "    if key in Si_list:\n",
    "        index = list(fivemm_files_2).index(key)\n",
    "        back_intensity_list_Si_2.append(back_intensity_list_2[index])\n",
    "for key in fivemm_files_3:\n",
    "    if key in Si_list:\n",
    "        index = list(fivemm_files_3).index(key)\n",
    "        back_intensity_list_Si_3.append(back_intensity_list_3[index])\n",
    "for key in fivemm_files_4:\n",
    "    if key in Si_list:\n",
    "        index = list(fivemm_files_4).index(key)\n",
    "        back_intensity_list_Si_4.append(back_intensity_list_4[index])\n",
    "\n",
    "dRoverR_1 = []\n",
    "dRoverR_2 = []\n",
    "dRoverR_3 = []\n",
    "dRoverR_4 = []\n",
    "\n",
    "for i, v in enumerate(list(Dict_Si_1.keys())):\n",
    "    con = []\n",
    "    for file in Dict_Si_1[v]:\n",
    "        val = get_peak_dRoverR(file, back_intensity_list_Si_1[i], two_lorentz, two_lorentz)\n",
    "        con.append(val)\n",
    "    dRoverR_1.append(con)\n",
    "\n",
    "for i, v in enumerate(list(Dict_Si_2.keys())):\n",
    "    con = []\n",
    "    for file in Dict_Si_2[v]:\n",
    "        val = get_peak_dRoverR(file, back_intensity_list_Si_2[i], two_lorentz, two_lorentz)\n",
    "        con.append(val)\n",
    "    dRoverR_2.append(con)\n",
    "\n",
    "for i, v in enumerate(list(Dict_Si_3.keys())):\n",
    "    con = []\n",
    "    for file in Dict_Si_3[v]:\n",
    "        val = get_peak_dRoverR(file, back_intensity_list_Si_3[i], two_lorentz, two_lorentz)\n",
    "        con.append(val)\n",
    "    dRoverR_3.append(con)\n",
    "\n",
    "for i, v in enumerate(list(Dict_Si_4.keys())):\n",
    "    con = []\n",
    "    for file in Dict_Si_4[v]:\n",
    "        val = get_peak_dRoverR(file, back_intensity_list_Si_4[i], two_lorentz, two_lorentz)\n",
    "        con.append(val)\n",
    "    dRoverR_4.append(con)"
   ]
  },
  {
   "cell_type": "code",
   "execution_count": 11,
   "id": "c9425c59",
   "metadata": {},
   "outputs": [],
   "source": [
    "for i in range(0,len(dRoverR_1),1):\n",
    "    dRoverR_1[i] = dRoverR_1[i][:-1]\n",
    "\n",
    "for i in range(0,len(dRoverR_2),1):\n",
    "    dRoverR_2[i] = dRoverR_2[i][:-1]\n",
    "\n",
    "for i in range(0,len(dRoverR_3),1):\n",
    "    dRoverR_3[i] = dRoverR_3[i][:-1]\n",
    "\n",
    "for i in range(0,len(dRoverR_4),1):\n",
    "    dRoverR_4[i] = dRoverR_4[i][:-1]"
   ]
  },
  {
   "cell_type": "code",
   "execution_count": 12,
   "id": "713beb43",
   "metadata": {},
   "outputs": [],
   "source": [
    "for i in range(0, len(Si_list), 1):\n",
    "    while not (len(dRoverR_1[i]) == len(dRoverR_2[i]) == len(dRoverR_3[i]) == len(dRoverR_4[i])):\n",
    "        target = min(len(dRoverR_1[i]), len(dRoverR_2[i]), len(dRoverR_3[i]), len(dRoverR_4[i]))\n",
    "        if len(dRoverR_1[i]) != target:\n",
    "            dRoverR_1[i] = dRoverR_1[i][:-1]\n",
    "        if len(dRoverR_2[i]) != target:\n",
    "            dRoverR_2[i] = dRoverR_2[i][:-1]\n",
    "        if len(dRoverR_3[i]) != target:\n",
    "            dRoverR_3[i] = dRoverR_3[i][:-1]\n",
    "        if len(dRoverR_4[i]) != target:\n",
    "            dRoverR_4[i] = dRoverR_4[i][:-1]"
   ]
  },
  {
   "cell_type": "code",
   "execution_count": 13,
   "id": "ecd0eb6e",
   "metadata": {},
   "outputs": [],
   "source": [
    "power_Si= [[] for i in range(len(Si_list))]\n",
    "for i in range(len(Si_list)):\n",
    "    power_Si[i] = [29+2*i for i in range(0,len(dRoverR_1[i]),1)]"
   ]
  },
  {
   "cell_type": "code",
   "execution_count": 14,
   "id": "0e8b794a",
   "metadata": {},
   "outputs": [],
   "source": [
    "avg_dRoverR = [[] for i in range(len(Si_list))]\n",
    "for i in range(len(Si_list)):\n",
    "    arrays = [dRoverR_1[i], dRoverR_2[i], dRoverR_3[i], dRoverR_4[i]]\n",
    "    avg_dRoverR[i] = [np.mean(k) for k in zip(*arrays)]"
   ]
  },
  {
   "cell_type": "code",
   "execution_count": 15,
   "id": "3c168eda",
   "metadata": {},
   "outputs": [],
   "source": [
    "for i, v in enumerate(list(Dict_Si_1.keys())):\n",
    "    plt.plot(power_Si[i], avg_dRoverR[i], '.')\n",
    "    plt.xlabel(\"power\")\n",
    "    plt.ylabel(\"dR/R\")\n",
    "    plt.savefig(\"/Users/chiaentsai/Desktop/lab/Temperature_Calibration/Si_dRoverR_figure_avg/{}mm.png\".format(v), format=\"PNG\")\n",
    "    plt.close()"
   ]
  },
  {
   "cell_type": "code",
   "execution_count": 16,
   "id": "253fb2d4",
   "metadata": {},
   "outputs": [],
   "source": [
    "kappa_Si_avg = []\n",
    "for i, v in enumerate(list(Dict_Si_1.keys())):\n",
    "    popt, pcov = curve_fit(expo, power_Si[i], avg_dRoverR[i], p0 = [1, 0.0000005, 1], maxfev = 8000)\n",
    "    #a, b, c = popt\n",
    "    plt.plot(power_Si[i], avg_dRoverR[i], '.')\n",
    "    y_pred = [expo(j, *popt) for j in power_Si[i]]\n",
    "    plt.plot(power_Si[i], y_pred)\n",
    "    plt.xlabel(\"power\")\n",
    "    plt.ylabel(\"dR/R\")\n",
    "    plt.savefig(\"/Users/chiaentsai/Desktop/lab/Temperature_Calibration/Si_dRoverR_fit_figure_avg/{}mm.png\".format(v), format=\"PNG\")\n",
    "    plt.close()\n",
    "    f = expo(Si_melting_W[v], *popt)\n",
    "    gold_m = 1410\n",
    "    dT = gold_m - 21\n",
    "    kappa = f / dT\n",
    "    kappa_Si_avg.append(kappa)\n",
    "    \n",
    "Dict_kappa_Si_avg = dict(zip(list(Dict_Si_1.keys()),kappa_Si_avg))\n",
    "\n",
    "plt.plot(list(Dict_Si_1.keys()), kappa_Si_avg, '.')\n",
    "plt.savefig(\"/Users/chiaentsai/Desktop/lab/Temperature_Calibration/kappa_Si_avg.png\", format=\"PNG\")"
   ]
  },
  {
   "cell_type": "code",
   "execution_count": 17,
   "id": "5c0a88c1",
   "metadata": {},
   "outputs": [
    {
     "data": {
      "text/plain": [
       "0.00016235262631918686"
      ]
     },
     "execution_count": 17,
     "metadata": {},
     "output_type": "execute_result"
    }
   ],
   "source": [
    "kappa_Si = sum(kappa_Si_avg)/len(kappa_Si_avg)\n",
    "kappa_Si"
   ]
  },
  {
   "cell_type": "markdown",
   "id": "b0d4141e",
   "metadata": {},
   "source": [
    "# Fit plane"
   ]
  },
  {
   "cell_type": "markdown",
   "id": "7b5c776c",
   "metadata": {},
   "source": [
    "### with each v's kappa"
   ]
  },
  {
   "cell_type": "code",
   "execution_count": 18,
   "id": "4691f9a0",
   "metadata": {},
   "outputs": [],
   "source": [
    "peak_temp = []\n",
    "for i, v in enumerate(list(Dict_kappa_Si_avg.keys())):\n",
    "    tem = []\n",
    "    for r in avg_dRoverR[i]:\n",
    "        t = get_peak_Temp(r, Dict_kappa_Si_avg[v])\n",
    "        tem.append(t)\n",
    "    peak_temp.append(tem)\n",
    "    \n",
    "Dict_peak_temp = dict(zip(list(Dict_kappa_Si_avg.keys()),peak_temp))"
   ]
  },
  {
   "cell_type": "code",
   "execution_count": 33,
   "id": "b4646655",
   "metadata": {
    "scrolled": true
   },
   "outputs": [
    {
     "name": "stdout",
     "output_type": "stream",
     "text": [
      "Using matplotlib backend: MacOSX\n",
      "2824.6553625338975\n"
     ]
    },
    {
     "name": "stderr",
     "output_type": "stream",
     "text": [
      "/var/folders/f7/kn96xdj93ss0t67sn2q10n6c0000gn/T/ipykernel_1037/146262223.py:16: MatplotlibDeprecationWarning: Axes3D(fig) adding itself to the figure is deprecated since 3.4. Pass the keyword argument auto_add_to_figure=False and use fig.add_axes(ax) to suppress this warning. The default value of auto_add_to_figure will change to False in mpl3.5 and True values will no longer work in 3.6.  This is consistent with other Axes classes.\n",
      "  axes = Axes3D(f)\n"
     ]
    }
   ],
   "source": [
    "import numpy, scipy, scipy.optimize\n",
    "import matplotlib\n",
    "from mpl_toolkits.mplot3d import  Axes3D\n",
    "from matplotlib import cm # to colormap 3D surfaces from blue to red\n",
    "import matplotlib.pyplot as plt\n",
    "%matplotlib\n",
    "\n",
    "\n",
    "def function(data, a, b, c):\n",
    "    x = data[0]\n",
    "    y = data[1]\n",
    "    return a * (x**b) * (y**c)\n",
    "\n",
    "f = plt.figure(figsize=(20.0, 20.0), dpi=20)\n",
    "matplotlib.pyplot.grid(True)\n",
    "axes = Axes3D(f)\n",
    "\n",
    "points = []\n",
    "for i, v in enumerate(list(Dict_kappa_Si_avg.keys())):\n",
    "    P = [int(p) for p in power_Si[i]]\n",
    "    V = [np.log(int(v))] * len(Dict_peak_temp[v])\n",
    "    T = Dict_peak_temp[v]\n",
    "    point = [list(x) for x in zip(*[P,V,T])]\n",
    "    points.append(point)\n",
    "\n",
    "x_data = []\n",
    "y_data = []\n",
    "z_data = []\n",
    "for velo in points:\n",
    "    for item in velo:\n",
    "        x_data.append(item[0]) # power\n",
    "        y_data.append(item[1]) # velocity\n",
    "        z_data.append(item[2]) # temperature\n",
    "    \n",
    "parameters, covariance = curve_fit(function, [x_data, y_data], z_data)\n",
    "model_x_data = np.linspace(min(x_data), max(x_data), 30)\n",
    "model_y_data = np.linspace(min(y_data), max(y_data), 30)\n",
    "X, Y = np.meshgrid(model_x_data, model_y_data)\n",
    "Z = function(np.array([X, Y]), *parameters)\n",
    "\n",
    "z_predicted = function([x_data, y_data], *parameters)\n",
    "differences = np.subtract(z_data, z_predicted)\n",
    "squared_differences = np.square(differences)\n",
    "mse = squared_differences.mean()\n",
    "\n",
    "\n",
    "axes.plot_surface(X, Y, Z, cmap=cm.hot, alpha=0.2)\n",
    "\n",
    "for i, v in enumerate(list(Dict_kappa_Si_avg.keys())):\n",
    "    v_data = [np.log(int(v))] * len(Dict_peak_temp[v])\n",
    "    p_data = [int(p) for p in power_Si[i]]\n",
    "    t_data = Dict_peak_temp[v]\n",
    "    axes.scatter(p_data, v_data, t_data)\n",
    "    \n",
    "\n",
    "axes.set_title('Scatter Plot')\n",
    "axes.set_xlabel('ln(velocity) - mm/s', fontsize=30)\n",
    "axes.set_ylabel('power - W',fontsize=30)\n",
    "axes.set_zlabel('peak temperature - C', fontsize=30)\n",
    "\n",
    "plt.show()\n",
    "print(mse)"
   ]
  },
  {
   "cell_type": "code",
   "execution_count": 26,
   "id": "d3f95baa",
   "metadata": {},
   "outputs": [],
   "source": [
    "def get_power(dwell, Tpeak):\n",
    "    v = 88200/dwell\n",
    "    lnv = np.log(v)\n",
    "    return (Tpeak / (lnv**parameters[2]) / parameters[0] )**(1/parameters[1])"
   ]
  },
  {
   "cell_type": "code",
   "execution_count": null,
   "id": "fe1d022d",
   "metadata": {},
   "outputs": [],
   "source": []
  },
  {
   "cell_type": "code",
   "execution_count": 32,
   "id": "96fbb61b",
   "metadata": {},
   "outputs": [
    {
     "name": "stdout",
     "output_type": "stream",
     "text": [
      "Using matplotlib backend: MacOSX\n",
      "4655.39732129669\n"
     ]
    },
    {
     "name": "stderr",
     "output_type": "stream",
     "text": [
      "/var/folders/f7/kn96xdj93ss0t67sn2q10n6c0000gn/T/ipykernel_1037/3712166341.py:16: MatplotlibDeprecationWarning: Axes3D(fig) adding itself to the figure is deprecated since 3.4. Pass the keyword argument auto_add_to_figure=False and use fig.add_axes(ax) to suppress this warning. The default value of auto_add_to_figure will change to False in mpl3.5 and True values will no longer work in 3.6.  This is consistent with other Axes classes.\n",
      "  axes = Axes3D(f)\n"
     ]
    }
   ],
   "source": [
    "import numpy, scipy, scipy.optimize\n",
    "import matplotlib\n",
    "from mpl_toolkits.mplot3d import  Axes3D\n",
    "from matplotlib import cm # to colormap 3D surfaces from blue to red\n",
    "import matplotlib.pyplot as plt\n",
    "%matplotlib\n",
    "\n",
    "\n",
    "def function(data, a, b, c, d, e):\n",
    "    x = np.array(data[0])\n",
    "    y = np.array(data[1])\n",
    "    return a * (x**2) + b * x + c * (y**2) + d * y + e\n",
    "\n",
    "f = plt.figure(figsize=(20.0, 20.0), dpi=20)\n",
    "matplotlib.pyplot.grid(True)\n",
    "axes = Axes3D(f)\n",
    "\n",
    "points = []\n",
    "for i, v in enumerate(list(Dict_kappa_Si_avg.keys())):\n",
    "    P = [int(p) for p in power_Si[i]]\n",
    "    V = [np.log(int(v))] * len(Dict_peak_temp[v])\n",
    "    T = Dict_peak_temp[v]\n",
    "    point = [list(x) for x in zip(*[P,V,T])]\n",
    "    points.append(point)\n",
    "\n",
    "x_data = []\n",
    "y_data = []\n",
    "z_data = []\n",
    "for velo in points:\n",
    "    for item in velo:\n",
    "        x_data.append(item[0]) # power\n",
    "        y_data.append(item[1]) # velocity\n",
    "        z_data.append(item[2]) # temperature\n",
    "    \n",
    "parameters_2, covariance = curve_fit(function, [x_data, y_data], z_data)\n",
    "model_x_data = np.linspace(min(x_data), max(x_data), 30)\n",
    "model_y_data = np.linspace(min(y_data), max(y_data), 30)\n",
    "X, Y = np.meshgrid(model_x_data, model_y_data)\n",
    "Z = function(np.array([X, Y]), *parameters_2)\n",
    "\n",
    "z_predicted = function([x_data, y_data], *parameters_2)\n",
    "differences = np.subtract(z_data, z_predicted)\n",
    "squared_differences = np.square(differences)\n",
    "mse = squared_differences.mean()\n",
    "\n",
    "\n",
    "axes.plot_surface(X, Y, Z, cmap=cm.hot, alpha=0.2)\n",
    "\n",
    "for i, v in enumerate(list(Dict_kappa_Si_avg.keys())):\n",
    "    v_data = [np.log(int(v))] * len(Dict_peak_temp[v])\n",
    "    p_data = [int(p) for p in power_Si[i]]\n",
    "    t_data = Dict_peak_temp[v]\n",
    "    axes.scatter(p_data, v_data, t_data)\n",
    "    \n",
    "\n",
    "axes.set_title('Scatter Plot')\n",
    "axes.set_xlabel('ln(velocity) - mm/s', fontsize=30)\n",
    "axes.set_ylabel('power - W',fontsize=30)\n",
    "axes.set_zlabel('peak temperature - C', fontsize=30)\n",
    "\n",
    "plt.show()\n",
    "print(mse)"
   ]
  },
  {
   "cell_type": "code",
   "execution_count": null,
   "id": "18730b13",
   "metadata": {},
   "outputs": [],
   "source": []
  },
  {
   "cell_type": "code",
   "execution_count": null,
   "id": "40ec20d6",
   "metadata": {},
   "outputs": [],
   "source": []
  },
  {
   "cell_type": "code",
   "execution_count": 34,
   "id": "65293a64",
   "metadata": {},
   "outputs": [
    {
     "name": "stdout",
     "output_type": "stream",
     "text": [
      "Using matplotlib backend: MacOSX\n",
      "6148.189352120266\n"
     ]
    },
    {
     "name": "stderr",
     "output_type": "stream",
     "text": [
      "/var/folders/f7/kn96xdj93ss0t67sn2q10n6c0000gn/T/ipykernel_1037/2286173891.py:16: MatplotlibDeprecationWarning: Axes3D(fig) adding itself to the figure is deprecated since 3.4. Pass the keyword argument auto_add_to_figure=False and use fig.add_axes(ax) to suppress this warning. The default value of auto_add_to_figure will change to False in mpl3.5 and True values will no longer work in 3.6.  This is consistent with other Axes classes.\n",
      "  axes = Axes3D(f)\n"
     ]
    }
   ],
   "source": [
    "import numpy, scipy, scipy.optimize\n",
    "import matplotlib\n",
    "from mpl_toolkits.mplot3d import  Axes3D\n",
    "from matplotlib import cm # to colormap 3D surfaces from blue to red\n",
    "import matplotlib.pyplot as plt\n",
    "%matplotlib\n",
    "\n",
    "\n",
    "def function(data, a, b, c, d):\n",
    "    x = np.array(data[0])\n",
    "    y = np.array(data[1])\n",
    "    return a * (x+b)**2 + c * (y+d)**2 \n",
    "\n",
    "f = plt.figure(figsize=(20.0, 20.0), dpi=20)\n",
    "matplotlib.pyplot.grid(True)\n",
    "axes = Axes3D(f)\n",
    "\n",
    "points = []\n",
    "for i, v in enumerate(list(Dict_kappa_Si_avg.keys())):\n",
    "    P = [int(p) for p in power_Si[i]]\n",
    "    V = [np.log(int(v))] * len(Dict_peak_temp[v])\n",
    "    T = Dict_peak_temp[v]\n",
    "    point = [list(x) for x in zip(*[P,V,T])]\n",
    "    points.append(point)\n",
    "\n",
    "x_data = []\n",
    "y_data = []\n",
    "z_data = []\n",
    "for velo in points:\n",
    "    for item in velo:\n",
    "        x_data.append(item[0]) # power\n",
    "        y_data.append(item[1]) # velocity\n",
    "        z_data.append(item[2]) # temperature\n",
    "    \n",
    "parameters_3, covariance = curve_fit(function, [x_data, y_data], z_data)\n",
    "model_x_data = np.linspace(min(x_data), max(x_data), 30)\n",
    "model_y_data = np.linspace(min(y_data), max(y_data), 30)\n",
    "X, Y = np.meshgrid(model_x_data, model_y_data)\n",
    "Z = function(np.array([X, Y]), *parameters_3)\n",
    "\n",
    "z_predicted = function([x_data, y_data], *parameters_3)\n",
    "differences = np.subtract(z_data, z_predicted)\n",
    "squared_differences = np.square(differences)\n",
    "mse = squared_differences.mean()\n",
    "\n",
    "\n",
    "axes.plot_surface(X, Y, Z, cmap=cm.hot, alpha=0.2)\n",
    "\n",
    "for i, v in enumerate(list(Dict_kappa_Si_avg.keys())):\n",
    "    v_data = [np.log(int(v))] * len(Dict_peak_temp[v])\n",
    "    p_data = [int(p) for p in power_Si[i]]\n",
    "    t_data = Dict_peak_temp[v]\n",
    "    axes.scatter(p_data, v_data, t_data)\n",
    "    \n",
    "\n",
    "axes.set_title('Scatter Plot')\n",
    "axes.set_xlabel('ln(velocity) - mm/s', fontsize=30)\n",
    "axes.set_ylabel('power - W',fontsize=30)\n",
    "axes.set_zlabel('peak temperature - C', fontsize=30)\n",
    "\n",
    "plt.show()\n",
    "print(mse)"
   ]
  },
  {
   "cell_type": "code",
   "execution_count": null,
   "id": "3ac8f0f2",
   "metadata": {},
   "outputs": [],
   "source": []
  },
  {
   "cell_type": "code",
   "execution_count": null,
   "id": "cdc1b2d5",
   "metadata": {},
   "outputs": [],
   "source": []
  },
  {
   "cell_type": "code",
   "execution_count": 41,
   "id": "7e7430b1",
   "metadata": {},
   "outputs": [
    {
     "name": "stdout",
     "output_type": "stream",
     "text": [
      "Using matplotlib backend: MacOSX\n",
      "2776.9181830983266\n"
     ]
    },
    {
     "name": "stderr",
     "output_type": "stream",
     "text": [
      "/var/folders/f7/kn96xdj93ss0t67sn2q10n6c0000gn/T/ipykernel_1037/1530163149.py:16: MatplotlibDeprecationWarning: Axes3D(fig) adding itself to the figure is deprecated since 3.4. Pass the keyword argument auto_add_to_figure=False and use fig.add_axes(ax) to suppress this warning. The default value of auto_add_to_figure will change to False in mpl3.5 and True values will no longer work in 3.6.  This is consistent with other Axes classes.\n",
      "  axes = Axes3D(f)\n",
      "2022-11-28 15:43:52.263 Python[1037:12342] imkxpc_getApplicationProperty:reply: called with incorrect property value 4, bailing.\n",
      "2022-11-28 15:43:52.264 Python[1037:12342] Text input context does not respond to _valueForTIProperty:\n",
      "2022-11-28 15:44:36.821 Python[1037:12342] imkxpc_getApplicationProperty:reply: called with incorrect property value 4, bailing.\n",
      "2022-11-28 15:44:36.821 Python[1037:12342] Text input context does not respond to _valueForTIProperty:\n"
     ]
    }
   ],
   "source": [
    "import numpy, scipy, scipy.optimize\n",
    "import matplotlib\n",
    "from mpl_toolkits.mplot3d import  Axes3D\n",
    "from matplotlib import cm # to colormap 3D surfaces from blue to red\n",
    "import matplotlib.pyplot as plt\n",
    "%matplotlib\n",
    "\n",
    "\n",
    "def function(data, a, b, c, d):\n",
    "    x = np.array(data[0])\n",
    "    y = np.array(data[1])\n",
    "    return a * x**b * y**c + d\n",
    "\n",
    "f = plt.figure(figsize=(30.0, 30.0), dpi=20)\n",
    "matplotlib.pyplot.grid(True)\n",
    "axes = Axes3D(f)\n",
    "\n",
    "points = []\n",
    "for i, v in enumerate(list(Dict_kappa_Si_avg.keys())):\n",
    "    P = [int(p) for p in power_Si[i]]\n",
    "    V = [np.log(int(v))] * len(Dict_peak_temp[v])\n",
    "    T = Dict_peak_temp[v]\n",
    "    point = [list(x) for x in zip(*[P,V,T])]\n",
    "    points.append(point)\n",
    "\n",
    "x_data = []\n",
    "y_data = []\n",
    "z_data = []\n",
    "for velo in points:\n",
    "    for item in velo:\n",
    "        x_data.append(item[0]) # power\n",
    "        y_data.append(item[1]) # velocity\n",
    "        z_data.append(item[2]) # temperature\n",
    "    \n",
    "parameters_4, covariance = curve_fit(function, [x_data, y_data], z_data)\n",
    "model_x_data = np.linspace(min(x_data), max(x_data), 30)\n",
    "model_y_data = np.linspace(min(y_data), max(y_data), 30)\n",
    "X, Y = np.meshgrid(model_x_data, model_y_data)\n",
    "Z = function(np.array([X, Y]), *parameters_4)\n",
    "\n",
    "z_predicted = function([x_data, y_data], *parameters_4)\n",
    "differences = np.subtract(z_data, z_predicted)\n",
    "squared_differences = np.square(differences)\n",
    "mse = squared_differences.mean()\n",
    "\n",
    "\n",
    "axes.plot_surface(X, Y, Z, cmap=cm.hot, alpha=0.2)\n",
    "\n",
    "for i, v in enumerate(list(Dict_kappa_Si_avg.keys())):\n",
    "    v_data = [np.log(int(v))] * len(Dict_peak_temp[v])\n",
    "    p_data = [int(p) for p in power_Si[i]]\n",
    "    t_data = Dict_peak_temp[v]\n",
    "    axes.scatter(p_data, v_data, t_data)\n",
    "    \n",
    "\n",
    "axes.set_title('Scatter Plot')\n",
    "axes.set_xlabel('ln(velocity) - mm/s', fontsize=30)\n",
    "axes.set_ylabel('power - W',fontsize=30)\n",
    "axes.set_zlabel('peak temperature - C', fontsize=30)\n",
    "\n",
    "plt.show()\n",
    "print(mse)"
   ]
  },
  {
   "cell_type": "code",
   "execution_count": null,
   "id": "149d8614",
   "metadata": {},
   "outputs": [],
   "source": []
  },
  {
   "cell_type": "code",
   "execution_count": null,
   "id": "918c21a9",
   "metadata": {},
   "outputs": [],
   "source": []
  },
  {
   "cell_type": "code",
   "execution_count": null,
   "id": "8bd2d5de",
   "metadata": {},
   "outputs": [],
   "source": []
  },
  {
   "cell_type": "code",
   "execution_count": null,
   "id": "912ae9e4",
   "metadata": {},
   "outputs": [],
   "source": []
  }
 ],
 "metadata": {
  "kernelspec": {
   "display_name": "Python 3 (ipykernel)",
   "language": "python",
   "name": "python3"
  },
  "language_info": {
   "codemirror_mode": {
    "name": "ipython",
    "version": 3
   },
   "file_extension": ".py",
   "mimetype": "text/x-python",
   "name": "python",
   "nbconvert_exporter": "python",
   "pygments_lexer": "ipython3",
   "version": "3.9.0"
  },
  "vscode": {
   "interpreter": {
    "hash": "05a9d8f434e6f97949f116bb3fd6e0132cb85e41e1947128ba85095efa1eda1d"
   }
  }
 },
 "nbformat": 4,
 "nbformat_minor": 5
}
