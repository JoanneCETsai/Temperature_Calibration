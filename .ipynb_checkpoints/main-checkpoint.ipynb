{
 "cells": [
  {
   "cell_type": "code",
   "execution_count": 2,
   "id": "82b36748",
   "metadata": {},
   "outputs": [],
   "source": [
    "%run \"curve_fit_.ipynb\"\n",
    "%run \"data_processing_.ipynb\"\n",
    "%run \"evaluation_functions_.ipynb\"\n",
    "%run \"fitting_functions_.ipynb\"\n",
    "%run \"get_temperature_.ipynb\"\n",
    "%run \"load_data_.ipynb\"\n",
    "%run \"get_backbround_average_.ipynb\"\n",
    "%run \"frame_vs_temperature.ipynb\""
   ]
  },
  {
   "cell_type": "markdown",
   "id": "a8f00cbf",
   "metadata": {},
   "source": [
    "# Input Files"
   ]
  },
  {
   "cell_type": "markdown",
   "id": "c49c26e4",
   "metadata": {},
   "source": [
    "### input needed: name of the folder containing different velocity's picture"
   ]
  },
  {
   "cell_type": "code",
   "execution_count": 2,
   "id": "36813a12",
   "metadata": {},
   "outputs": [],
   "source": [
    "folder = \"/Users/chiaentsai/Box/MURI-SARA/Thermoreflectance/Joanne/11092022_1\"\n",
    "folder_2 = \"/Users/chiaentsai/Box/MURI-SARA/Thermoreflectance/Joanne/11092022_2\"\n",
    "folder_3 = \"/Users/chiaentsai/Box/MURI-SARA/Thermoreflectance/Joanne/11092022_3\"\n",
    "folder_4 = \"/Users/chiaentsai/Box/MURI-SARA/Thermoreflectance/Joanne/11092022_4\""
   ]
  },
  {
   "cell_type": "code",
   "execution_count": 3,
   "id": "e47678e7",
   "metadata": {},
   "outputs": [],
   "source": [
    "all_files, fivemm_files, velocity_path_list, velocity_list, used_frame_num = get_needed_files(folder)\n",
    "back_intensity_list = get_background_average(fivemm_files)\n",
    "power_list = get_powers(all_files)"
   ]
  },
  {
   "cell_type": "code",
   "execution_count": 4,
   "id": "307b70ea",
   "metadata": {},
   "outputs": [],
   "source": [
    "all_files_2, fivemm_files_2, velocity_path_list_2, velocity_list_2, used_frame_num_2 = get_needed_files(folder_2)\n",
    "back_intensity_list_2 = get_background_average(fivemm_files_2)\n",
    "power_list_2 = get_powers(all_files_2)"
   ]
  },
  {
   "cell_type": "code",
   "execution_count": 5,
   "id": "10fbd233",
   "metadata": {},
   "outputs": [],
   "source": [
    "all_files_3, fivemm_files_3, velocity_path_list_3, velocity_list_3, used_frame_num_3 = get_needed_files(folder_3)\n",
    "back_intensity_list_3 = get_background_average(fivemm_files_3)\n",
    "power_list_3 = get_powers(all_files_3)"
   ]
  },
  {
   "cell_type": "code",
   "execution_count": 6,
   "id": "4b16c723",
   "metadata": {},
   "outputs": [],
   "source": [
    "all_files_4, fivemm_files_4, velocity_path_list_4, velocity_list_4, used_frame_num_4 = get_needed_files(folder_4)\n",
    "back_intensity_list_4 = get_background_average(fivemm_files_4)\n",
    "power_list_4 = get_powers(all_files_4)"
   ]
  },
  {
   "cell_type": "markdown",
   "id": "772d5c73",
   "metadata": {},
   "source": [
    "# Get kappa (silicon melt)"
   ]
  },
  {
   "cell_type": "markdown",
   "id": "aa60d23d",
   "metadata": {},
   "source": [
    "### input need: si melting power at specific velocity"
   ]
  },
  {
   "cell_type": "code",
   "execution_count": 4,
   "id": "1cba2c30",
   "metadata": {},
   "outputs": [],
   "source": [
    "Si_melting_W = {\n",
    "    '103': 49.475,\n",
    "    '13': 41.8,\n",
    "    '155': 52.1,\n",
    "    '190': 53.225, \n",
    "    '20': 43.183,\n",
    "    '234': 54.65,\n",
    "    '30': 44.2,\n",
    "    '352': 58.5,\n",
    "    '45': 46,\n",
    "    '68': 47.65,\n",
    "    '9': 42.1\n",
    "}"
   ]
  },
  {
   "cell_type": "markdown",
   "id": "7aad4a0c",
   "metadata": {},
   "source": [
    "### use average dR/R"
   ]
  },
  {
   "cell_type": "code",
   "execution_count": 8,
   "id": "cd05c308",
   "metadata": {},
   "outputs": [
    {
     "name": "stderr",
     "output_type": "stream",
     "text": [
      "/Users/chiaentsai/.virtualenvs/venv/lib/python3.9/site-packages/scipy/optimize/_minpack_py.py:833: OptimizeWarning: Covariance of the parameters could not be estimated\n",
      "  warnings.warn('Covariance of the parameters could not be estimated',\n"
     ]
    }
   ],
   "source": [
    "Si_list = ['103', '13', '155', '20', '30', '45', '68', '9']\n",
    "\n",
    "\n",
    "Dict_Si_1 = dict((k, fivemm_files[k][10:]) for k in Si_list)\n",
    "Dict_Si_2 = dict((k, fivemm_files_2[k][10:]) for k in Si_list)\n",
    "Dict_Si_3 = dict((k, fivemm_files_3[k][10:]) for k in Si_list)\n",
    "Dict_Si_4 = dict((k, fivemm_files_4[k][10:]) for k in Si_list)\n",
    "\n",
    "back_intensity_list_Si_1 = []\n",
    "back_intensity_list_Si_2 = []\n",
    "back_intensity_list_Si_3 = []\n",
    "back_intensity_list_Si_4 = []\n",
    "\n",
    "for key in fivemm_files:\n",
    "    if key in Si_list:\n",
    "        index = list(fivemm_files).index(key)\n",
    "        back_intensity_list_Si_1.append(back_intensity_list[index])\n",
    "for key in fivemm_files_2:\n",
    "    if key in Si_list:\n",
    "        index = list(fivemm_files_2).index(key)\n",
    "        back_intensity_list_Si_2.append(back_intensity_list_2[index])\n",
    "for key in fivemm_files_3:\n",
    "    if key in Si_list:\n",
    "        index = list(fivemm_files_3).index(key)\n",
    "        back_intensity_list_Si_3.append(back_intensity_list_3[index])\n",
    "for key in fivemm_files_4:\n",
    "    if key in Si_list:\n",
    "        index = list(fivemm_files_4).index(key)\n",
    "        back_intensity_list_Si_4.append(back_intensity_list_4[index])\n",
    "\n",
    "dRoverR_1 = []\n",
    "dRoverR_2 = []\n",
    "dRoverR_3 = []\n",
    "dRoverR_4 = []\n",
    "\n",
    "for i, v in enumerate(list(Dict_Si_1.keys())):\n",
    "    con = []\n",
    "    for file in Dict_Si_1[v]:\n",
    "        val = get_peak_dRoverR(file, back_intensity_list_Si_1[i], two_lorentz, two_lorentz)\n",
    "        con.append(val)\n",
    "    dRoverR_1.append(con)\n",
    "\n",
    "for i, v in enumerate(list(Dict_Si_2.keys())):\n",
    "    con = []\n",
    "    for file in Dict_Si_2[v]:\n",
    "        val = get_peak_dRoverR(file, back_intensity_list_Si_2[i], two_lorentz, two_lorentz)\n",
    "        con.append(val)\n",
    "    dRoverR_2.append(con)\n",
    "\n",
    "for i, v in enumerate(list(Dict_Si_3.keys())):\n",
    "    con = []\n",
    "    for file in Dict_Si_3[v]:\n",
    "        val = get_peak_dRoverR(file, back_intensity_list_Si_3[i], two_lorentz, two_lorentz)\n",
    "        con.append(val)\n",
    "    dRoverR_3.append(con)\n",
    "\n",
    "for i, v in enumerate(list(Dict_Si_4.keys())):\n",
    "    con = []\n",
    "    for file in Dict_Si_4[v]:\n",
    "        val = get_peak_dRoverR(file, back_intensity_list_Si_4[i], two_lorentz, two_lorentz)\n",
    "        con.append(val)\n",
    "    dRoverR_4.append(con)"
   ]
  },
  {
   "cell_type": "code",
   "execution_count": 9,
   "id": "c9425c59",
   "metadata": {},
   "outputs": [],
   "source": [
    "for i in range(0,len(dRoverR_1),1):\n",
    "    dRoverR_1[i] = dRoverR_1[i][:-1]\n",
    "\n",
    "for i in range(0,len(dRoverR_2),1):\n",
    "    dRoverR_2[i] = dRoverR_2[i][:-1]\n",
    "\n",
    "for i in range(0,len(dRoverR_3),1):\n",
    "    dRoverR_3[i] = dRoverR_3[i][:-1]\n",
    "\n",
    "for i in range(0,len(dRoverR_4),1):\n",
    "    dRoverR_4[i] = dRoverR_4[i][:-1]"
   ]
  },
  {
   "cell_type": "code",
   "execution_count": 10,
   "id": "713beb43",
   "metadata": {},
   "outputs": [],
   "source": [
    "for i in range(0, len(Si_list), 1):\n",
    "    while not (len(dRoverR_1[i]) == len(dRoverR_2[i]) == len(dRoverR_3[i]) == len(dRoverR_4[i])):\n",
    "        target = min(len(dRoverR_1[i]), len(dRoverR_2[i]), len(dRoverR_3[i]), len(dRoverR_4[i]))\n",
    "        if len(dRoverR_1[i]) != target:\n",
    "            dRoverR_1[i] = dRoverR_1[i][:-1]\n",
    "        if len(dRoverR_2[i]) != target:\n",
    "            dRoverR_2[i] = dRoverR_2[i][:-1]\n",
    "        if len(dRoverR_3[i]) != target:\n",
    "            dRoverR_3[i] = dRoverR_3[i][:-1]\n",
    "        if len(dRoverR_4[i]) != target:\n",
    "            dRoverR_4[i] = dRoverR_4[i][:-1]"
   ]
  },
  {
   "cell_type": "code",
   "execution_count": 11,
   "id": "ecd0eb6e",
   "metadata": {},
   "outputs": [],
   "source": [
    "power_Si= [[] for i in range(len(Si_list))]\n",
    "for i in range(len(Si_list)):\n",
    "    power_Si[i] = [29+2*p for p in range(0,len(dRoverR_1[i]),1)]"
   ]
  },
  {
   "cell_type": "code",
   "execution_count": 12,
   "id": "0e8b794a",
   "metadata": {},
   "outputs": [],
   "source": [
    "avg_dRoverR = [[] for i in range(len(Si_list))]\n",
    "for i in range(len(Si_list)):\n",
    "    arrays = [dRoverR_1[i], dRoverR_2[i], dRoverR_3[i], dRoverR_4[i]]\n",
    "    avg_dRoverR[i] = [np.mean(k) for k in zip(*arrays)]"
   ]
  },
  {
   "cell_type": "markdown",
   "id": "607ade98",
   "metadata": {},
   "source": [
    "190, 234, 352"
   ]
  },
  {
   "cell_type": "code",
   "execution_count": 13,
   "id": "7054b887",
   "metadata": {},
   "outputs": [],
   "source": [
    "Si_list = ['190', '234', '352']\n",
    "\n",
    "\n",
    "Dict_Si_1 = dict((k, fivemm_files[k][10:]) for k in Si_list)\n",
    "Dict_Si_2 = dict((k, fivemm_files_2[k][10:]) for k in Si_list)\n",
    "\n",
    "back_intensity_list_Si_1 = []\n",
    "back_intensity_list_Si_2 = []\n",
    "\n",
    "for key in fivemm_files:\n",
    "    if key in Si_list:\n",
    "        index = list(fivemm_files).index(key)\n",
    "        back_intensity_list_Si_1.append(back_intensity_list[index])\n",
    "for key in fivemm_files_2:\n",
    "    if key in Si_list:\n",
    "        index = list(fivemm_files_2).index(key)\n",
    "        back_intensity_list_Si_2.append(back_intensity_list_2[index])\n",
    "\n",
    "dRoverR_1 = []\n",
    "dRoverR_2 = []\n",
    "\n",
    "for i, v in enumerate(list(Dict_Si_1.keys())):\n",
    "    con = []\n",
    "    for file in Dict_Si_1[v]:\n",
    "        val = get_peak_dRoverR(file, back_intensity_list_Si_1[i], two_lorentz, two_lorentz)\n",
    "        con.append(val)\n",
    "    dRoverR_1.append(con)\n",
    "\n",
    "for i, v in enumerate(list(Dict_Si_2.keys())):\n",
    "    con = []\n",
    "    for file in Dict_Si_2[v]:\n",
    "        val = get_peak_dRoverR(file, back_intensity_list_Si_2[i], two_lorentz, two_lorentz)\n",
    "        con.append(val)\n",
    "    dRoverR_2.append(con)"
   ]
  },
  {
   "cell_type": "code",
   "execution_count": 14,
   "id": "af7100fb",
   "metadata": {},
   "outputs": [],
   "source": [
    "for i in range(0,len(dRoverR_1),1):\n",
    "    dRoverR_1[i] = dRoverR_1[i][:-1]\n",
    "\n",
    "for i in range(0,len(dRoverR_2),1):\n",
    "    dRoverR_2[i] = dRoverR_2[i][:-1]"
   ]
  },
  {
   "cell_type": "code",
   "execution_count": 15,
   "id": "ffd586a5",
   "metadata": {},
   "outputs": [],
   "source": [
    "for i in range(0, len(Si_list), 1):\n",
    "    while not (len(dRoverR_1[i]) == len(dRoverR_2[i])):\n",
    "        target = min(len(dRoverR_1[i]), len(dRoverR_2[i]))\n",
    "        if len(dRoverR_1[i]) != target:\n",
    "            dRoverR_1[i] = dRoverR_1[i][:-1]\n",
    "        if len(dRoverR_2[i]) != target:\n",
    "            dRoverR_2[i] = dRoverR_2[i][:-1]"
   ]
  },
  {
   "cell_type": "code",
   "execution_count": 16,
   "id": "10900dca",
   "metadata": {},
   "outputs": [],
   "source": [
    "power_Si_2= [[] for i in range(len(Si_list))]\n",
    "for i in range(len(Si_list)):\n",
    "    power_Si_2[i] = [29+2*p for p in range(0,len(dRoverR_2[i]),1)]"
   ]
  },
  {
   "cell_type": "code",
   "execution_count": 17,
   "id": "9e6a6405",
   "metadata": {},
   "outputs": [],
   "source": [
    "avg_dRoverR_2 = [[] for i in range(len(Si_list))]\n",
    "for i in range(len(Si_list)):\n",
    "    arrays = [dRoverR_1[i], dRoverR_2[i]]\n",
    "    avg_dRoverR_2[i] = [np.mean(k) for k in zip(*arrays)]"
   ]
  },
  {
   "cell_type": "code",
   "execution_count": null,
   "id": "8d945c3d",
   "metadata": {},
   "outputs": [],
   "source": []
  },
  {
   "cell_type": "code",
   "execution_count": 18,
   "id": "1e4ea2be",
   "metadata": {},
   "outputs": [],
   "source": [
    "avg_dRoverR.insert(3, avg_dRoverR_2[0])"
   ]
  },
  {
   "cell_type": "code",
   "execution_count": 19,
   "id": "81a9c3e4",
   "metadata": {},
   "outputs": [],
   "source": [
    "avg_dRoverR.insert(5, avg_dRoverR_2[1])"
   ]
  },
  {
   "cell_type": "code",
   "execution_count": 20,
   "id": "9ca1c261",
   "metadata": {},
   "outputs": [],
   "source": [
    "avg_dRoverR.insert(7, avg_dRoverR_2[2])"
   ]
  },
  {
   "cell_type": "code",
   "execution_count": 21,
   "id": "85800c4e",
   "metadata": {},
   "outputs": [],
   "source": [
    "power_Si.insert(3, power_Si_2[0])"
   ]
  },
  {
   "cell_type": "code",
   "execution_count": 22,
   "id": "3b638b12",
   "metadata": {},
   "outputs": [],
   "source": [
    "power_Si.insert(5, power_Si_2[1])"
   ]
  },
  {
   "cell_type": "code",
   "execution_count": 23,
   "id": "f4ac7b14",
   "metadata": {},
   "outputs": [],
   "source": [
    "power_Si.insert(7, power_Si_2[2])"
   ]
  },
  {
   "cell_type": "code",
   "execution_count": 24,
   "id": "3c168eda",
   "metadata": {},
   "outputs": [],
   "source": [
    "for i, v in enumerate(list(Si_melting_W.keys())):\n",
    "    plt.plot(power_Si[i], avg_dRoverR[i], '.')\n",
    "    plt.xlabel(\"power\")\n",
    "    plt.ylabel(\"dR/R\")\n",
    "    plt.savefig(\"/Users/chiaentsai/Desktop/lab/Temperature_Calibration/Si_dRoverR_figure_avg/{}mm.png\".format(v), format=\"PNG\")\n",
    "    plt.close()"
   ]
  },
  {
   "cell_type": "code",
   "execution_count": 25,
   "id": "253fb2d4",
   "metadata": {},
   "outputs": [
    {
     "data": {
      "image/png": "[encoded data removed]",
      "text/plain": [
       "<Figure size 432x288 with 1 Axes>"
      ]
     },
     "metadata": {
      "needs_background": "light"
     },
     "output_type": "display_data"
    }
   ],
   "source": [
    "kappa_Si_avg = []\n",
    "for i, v in enumerate(list(Si_melting_W.keys())):\n",
    "    popt, pcov = curve_fit(expo, power_Si[i], avg_dRoverR[i], p0 = [1, 0.0000005, 1], maxfev = 8000)\n",
    "    #a, b, c = popt\n",
    "    plt.plot(power_Si[i], avg_dRoverR[i], '.')\n",
    "    y_pred = [expo(j, *popt) for j in power_Si[i]]\n",
    "    plt.plot(power_Si[i], y_pred)\n",
    "    plt.xlabel(\"power\")\n",
    "    plt.ylabel(\"dR/R\")\n",
    "    plt.savefig(\"/Users/chiaentsai/Desktop/lab/Temperature_Calibration/Si_dRoverR_fit_figure_avg/{}mm.png\".format(v), format=\"PNG\")\n",
    "    plt.close()\n",
    "    f = expo(Si_melting_W[v], *popt)\n",
    "    gold_m = 1410\n",
    "    dT = gold_m - 21\n",
    "    kappa = f / dT\n",
    "    kappa_Si_avg.append(kappa)\n",
    "    \n",
    "Dict_kappa_Si_avg = dict(zip(list(Si_melting_W.keys()),kappa_Si_avg))\n",
    "\n",
    "plt.plot(list(Si_melting_W.keys()), kappa_Si_avg, '.')\n",
    "plt.savefig(\"/Users/chiaentsai/Desktop/lab/Temperature_Calibration/kappa_Si_avg.png\", format=\"PNG\")"
   ]
  },
  {
   "cell_type": "code",
   "execution_count": 26,
   "id": "5c0a88c1",
   "metadata": {},
   "outputs": [
    {
     "data": {
      "text/plain": [
       "0.00016498400434141028"
      ]
     },
     "execution_count": 26,
     "metadata": {},
     "output_type": "execute_result"
    }
   ],
   "source": [
    "kappa_Si = sum(kappa_Si_avg)/len(kappa_Si_avg)\n",
    "kappa_Si"
   ]
  },
  {
   "cell_type": "code",
   "execution_count": 27,
   "id": "bcfde134",
   "metadata": {},
   "outputs": [],
   "source": [
    "del avg_dRoverR[5]"
   ]
  },
  {
   "cell_type": "code",
   "execution_count": 28,
   "id": "8bfe6e83",
   "metadata": {},
   "outputs": [],
   "source": [
    "del avg_dRoverR[3]"
   ]
  },
  {
   "cell_type": "code",
   "execution_count": 29,
   "id": "f2e7455c",
   "metadata": {},
   "outputs": [],
   "source": [
    "del power_Si[5]"
   ]
  },
  {
   "cell_type": "code",
   "execution_count": 30,
   "id": "02d00932",
   "metadata": {},
   "outputs": [],
   "source": [
    "del power_Si[3]"
   ]
  },
  {
   "cell_type": "code",
   "execution_count": 31,
   "id": "e00d1562",
   "metadata": {},
   "outputs": [],
   "source": [
    "Si_melting_W_2 = {\n",
    "    '103': 49.475,\n",
    "    '13': 41.8,\n",
    "    '155': 52.1,\n",
    "    '20': 43.183,\n",
    "    '30': 44.2,\n",
    "    '352': 58.5,\n",
    "    '45': 46,\n",
    "    '68': 47.65,\n",
    "    '9': 42.1\n",
    "}"
   ]
  },
  {
   "cell_type": "markdown",
   "id": "b0d4141e",
   "metadata": {},
   "source": [
    "# Fit plane"
   ]
  },
  {
   "cell_type": "markdown",
   "id": "f9c38aa3",
   "metadata": {},
   "source": [
    "### with avg kappa"
   ]
  },
  {
   "cell_type": "code",
   "execution_count": 32,
   "id": "2e46c87e",
   "metadata": {},
   "outputs": [
    {
     "ename": "IndexError",
     "evalue": "list index out of range",
     "output_type": "error",
     "traceback": [
      "\u001b[0;31m---------------------------------------------------------------------------\u001b[0m",
      "\u001b[0;31mIndexError\u001b[0m                                Traceback (most recent call last)",
      "Input \u001b[0;32mIn [32]\u001b[0m, in \u001b[0;36m<module>\u001b[0;34m\u001b[0m\n\u001b[1;32m      2\u001b[0m \u001b[38;5;28;01mfor\u001b[39;00m i, v \u001b[38;5;129;01min\u001b[39;00m \u001b[38;5;28menumerate\u001b[39m(\u001b[38;5;28mlist\u001b[39m(Dict_kappa_Si_avg\u001b[38;5;241m.\u001b[39mkeys())):\n\u001b[1;32m      3\u001b[0m     tem \u001b[38;5;241m=\u001b[39m []\n\u001b[0;32m----> 4\u001b[0m     \u001b[38;5;28;01mfor\u001b[39;00m r \u001b[38;5;129;01min\u001b[39;00m \u001b[43mavg_dRoverR\u001b[49m\u001b[43m[\u001b[49m\u001b[43mi\u001b[49m\u001b[43m]\u001b[49m:\n\u001b[1;32m      5\u001b[0m         t \u001b[38;5;241m=\u001b[39m get_peak_Temp(r, kappa_Si)\n\u001b[1;32m      6\u001b[0m         tem\u001b[38;5;241m.\u001b[39mappend(t)\n",
      "\u001b[0;31mIndexError\u001b[0m: list index out of range"
     ]
    }
   ],
   "source": [
    "peak_temp_avg = []\n",
    "for i, v in enumerate(list(Dict_kappa_Si_avg.keys())):\n",
    "    tem = []\n",
    "    for r in avg_dRoverR[i]:\n",
    "        t = get_peak_Temp(r, kappa_Si)\n",
    "        tem.append(t)\n",
    "    peak_temp_avg.append(tem)\n",
    "    \n",
    "Dict_peak_temp_avg = dict(zip(list(Dict_kappa_Si_avg.keys()),peak_temp_avg))"
   ]
  },
  {
   "cell_type": "code",
   "execution_count": 140,
   "id": "41bd9c39",
   "metadata": {},
   "outputs": [
    {
     "name": "stdout",
     "output_type": "stream",
     "text": [
      "Using matplotlib backend: MacOSX\n",
      "1538.1789713707917\n"
     ]
    },
    {
     "name": "stderr",
     "output_type": "stream",
     "text": [
      "/var/folders/f7/kn96xdj93ss0t67sn2q10n6c0000gn/T/ipykernel_7668/124244824.py:16: MatplotlibDeprecationWarning: Axes3D(fig) adding itself to the figure is deprecated since 3.4. Pass the keyword argument auto_add_to_figure=False and use fig.add_axes(ax) to suppress this warning. The default value of auto_add_to_figure will change to False in mpl3.5 and True values will no longer work in 3.6.  This is consistent with other Axes classes.\n",
      "  axes = Axes3D(f)\n"
     ]
    }
   ],
   "source": [
    "import numpy, scipy, scipy.optimize\n",
    "import matplotlib\n",
    "from mpl_toolkits.mplot3d import  Axes3D\n",
    "from matplotlib import cm # to colormap 3D surfaces from blue to red\n",
    "import matplotlib.pyplot as plt\n",
    "%matplotlib\n",
    "\n",
    "\n",
    "def function(data, a, b, c, d, e):\n",
    "    x = np.array(data[0])\n",
    "    y = np.array(data[1])\n",
    "    return (a+b*y)*x**2 + (c+d*y)*x + e\n",
    "\n",
    "f = plt.figure(figsize=(20.0, 20.0), dpi=20)\n",
    "matplotlib.pyplot.grid(True)\n",
    "axes = Axes3D(f)\n",
    "\n",
    "points = []\n",
    "for i, v in enumerate(list(Dict_kappa_Si_avg.keys())):\n",
    "    P = [int(p) for p in power_Si[i]]\n",
    "    V = [np.log(int(v))] * len(Dict_peak_temp_avg[v])\n",
    "    T = Dict_peak_temp_avg[v]\n",
    "    point = [list(x) for x in zip(*[P,V,T])]\n",
    "    points.append(point)\n",
    "\n",
    "x_data = []\n",
    "y_data = []\n",
    "z_data = []\n",
    "for velo in points:\n",
    "    for item in velo:\n",
    "        x_data.append(item[0]) # power\n",
    "        y_data.append(item[1]) # velocity\n",
    "        z_data.append(item[2]) # temperature\n",
    "    \n",
    "parameters, covariance = curve_fit(function, [x_data, y_data], z_data)\n",
    "model_x_data = np.linspace(min(x_data), max(x_data), 30)\n",
    "model_y_data = np.linspace(min(y_data), max(y_data), 30)\n",
    "X, Y = np.meshgrid(model_x_data, model_y_data)\n",
    "Z = function(np.array([X, Y]), *parameters)\n",
    "\n",
    "z_predicted = function([x_data, y_data], *parameters)\n",
    "differences = np.subtract(z_data, z_predicted)\n",
    "squared_differences = np.square(differences)\n",
    "mse = squared_differences.mean()\n",
    "\n",
    "\n",
    "axes.plot_surface(X, Y, Z, cmap=cm.hot, alpha=0.2)\n",
    "\n",
    "for i, v in enumerate(list(Dict_kappa_Si_avg.keys())):\n",
    "    v_data = [np.log(int(v))] * len(Dict_peak_temp_avg[v])\n",
    "    p_data = [int(p) for p in power_Si[i]]\n",
    "    t_data = Dict_peak_temp_avg[v]\n",
    "    axes.scatter(p_data, v_data, t_data)\n",
    "    \n",
    "\n",
    "axes.set_title('Scatter Plot')\n",
    "axes.set_xlabel('power - W', fontsize=30, labelpad=40)\n",
    "axes.set_ylabel('ln(velocity) - mm/s',fontsize=30, labelpad=40)\n",
    "axes.set_zlabel('peak temperature - C', fontsize=30, labelpad=40)\n",
    "\n",
    "axes.tick_params(axis='both', which='major', labelsize=30)\n",
    "\n",
    "plt.show()\n",
    "print(mse)"
   ]
  },
  {
   "cell_type": "code",
   "execution_count": 141,
   "id": "ba80e67e",
   "metadata": {},
   "outputs": [],
   "source": [
    "from sympy import symbols, Eq, solve\n",
    "def get_power(dwell, Tpeak):\n",
    "    v = 88200/dwell\n",
    "    lnv = np.log(v)\n",
    "    x = symbols('x')\n",
    "    eq1 = Eq((parameters[0]+parameters[1]*lnv)*x**2 + (parameters[2]+parameters[3]*lnv)*x + parameters[4] - Tpeak)\n",
    "    sol = solve(eq1)\n",
    "    return sol[1]"
   ]
  },
  {
   "cell_type": "code",
   "execution_count": 142,
   "id": "4239ee80",
   "metadata": {},
   "outputs": [
    {
     "data": {
      "text/latex": [
       "$\\displaystyle 46.8088065354855$"
      ],
      "text/plain": [
       "46.8088065354855"
      ]
     },
     "execution_count": 142,
     "metadata": {},
     "output_type": "execute_result"
    }
   ],
   "source": [
    "get_power(88200/45, 1410)"
   ]
  },
  {
   "cell_type": "markdown",
   "id": "7b5c776c",
   "metadata": {},
   "source": [
    "### with each v's kappa"
   ]
  },
  {
   "cell_type": "code",
   "execution_count": 250,
   "id": "ffef1095",
   "metadata": {},
   "outputs": [],
   "source": [
    "# 這個！"
   ]
  },
  {
   "cell_type": "code",
   "execution_count": 33,
   "id": "4691f9a0",
   "metadata": {},
   "outputs": [],
   "source": [
    "peak_temp = []\n",
    "for i, v in enumerate(list(Si_melting_W_2.keys())):\n",
    "    tem = []\n",
    "    for r in avg_dRoverR[i]:\n",
    "        t = get_peak_Temp(r, Dict_kappa_Si_avg[v])\n",
    "        tem.append(t)\n",
    "    peak_temp.append(tem)\n",
    "    \n",
    "Dict_peak_temp = dict(zip(list(Si_melting_W_2.keys()),peak_temp))"
   ]
  },
  {
   "cell_type": "code",
   "execution_count": 36,
   "id": "c5877ec6",
   "metadata": {
    "scrolled": true
   },
   "outputs": [
    {
     "name": "stdout",
     "output_type": "stream",
     "text": [
      "Using matplotlib backend: MacOSX\n",
      "[ 2.03584743e-15 -6.73341089e-16  5.61904286e+01 -4.81270605e+00\n",
      " -7.81621651e+02  1.08650165e+01  2.90158231e-02  5.61741296e-17]\n",
      "769.8951459440416\n"
     ]
    },
    {
     "name": "stderr",
     "output_type": "stream",
     "text": [
      "/var/folders/f7/kn96xdj93ss0t67sn2q10n6c0000gn/T/ipykernel_1113/285289375.py:20: MatplotlibDeprecationWarning: Axes3D(fig) adding itself to the figure is deprecated since 3.4. Pass the keyword argument auto_add_to_figure=False and use fig.add_axes(ax) to suppress this warning. The default value of auto_add_to_figure will change to False in mpl3.5 and True values will no longer work in 3.6.  This is consistent with other Axes classes.\n",
      "  axes = Axes3D(f)\n",
      "2022-12-05 12:57:07.223 Python[1113:17970] imkxpc_getApplicationProperty:reply: called with incorrect property value 4, bailing.\n",
      "2022-12-05 12:57:07.223 Python[1113:17970] Text input context does not respond to _valueForTIProperty:\n",
      "2022-12-05 12:57:07.223 Python[1113:17970] imkxpc_getApplicationProperty:reply: called with incorrect property value 4, bailing.\n",
      "2022-12-05 12:57:07.223 Python[1113:17970] Text input context does not respond to _valueForTIProperty:\n",
      "2022-12-05 12:57:37.831 Python[1113:17970] imkxpc_getApplicationProperty:reply: called with incorrect property value 4, bailing.\n",
      "2022-12-05 12:57:37.831 Python[1113:17970] Text input context does not respond to _valueForTIProperty:\n",
      "2022-12-05 13:32:00.809 Python[1113:17970] imkxpc_getApplicationProperty:reply: called with incorrect property value 4, bailing.\n",
      "2022-12-05 13:32:00.809 Python[1113:17970] Text input context does not respond to _valueForTIProperty:\n",
      "2022-12-05 13:32:20.576 Python[1113:17970] imkxpc_getApplicationProperty:reply: called with incorrect property value 4, bailing.\n",
      "2022-12-05 13:32:20.576 Python[1113:17970] Text input context does not respond to _valueForTIProperty:\n"
     ]
    }
   ],
   "source": [
    "import numpy, scipy, scipy.optimize\n",
    "import matplotlib\n",
    "from mpl_toolkits.mplot3d import  Axes3D\n",
    "from matplotlib import cm # to colormap 3D surfaces from blue to red\n",
    "import matplotlib.pyplot as plt\n",
    "%matplotlib\n",
    "\n",
    "# def function(data, b, c, d, e, f):\n",
    "#     x = np.array(data[0])\n",
    "#     y = np.array(data[1])\n",
    "#     return (b*y+c)*(x)**(d*y**2+e*y+f)\n",
    "\n",
    "def function(data, a, b, c, d, e, f, g, h):\n",
    "    x = np.array(data[0])\n",
    "    y = np.array(data[1])\n",
    "    return (a+b*y+h*y**2)*x**(f+g*y) + (c+d*y)*x + e\n",
    "\n",
    "f = plt.figure(figsize=(20.0, 20.0), dpi=20)\n",
    "matplotlib.pyplot.grid(True)\n",
    "axes = Axes3D(f)\n",
    "\n",
    "points = []\n",
    "for i, v in enumerate(list(Si_melting_W_2.keys())):\n",
    "    P = [int(p) for p in power_Si[i]]\n",
    "    V = [np.log(int(v))] * len(Dict_peak_temp[v])\n",
    "    T = Dict_peak_temp[v]\n",
    "    point = [list(x) for x in zip(*[P,V,T])]\n",
    "    points.append(point)\n",
    "\n",
    "x_data = []\n",
    "y_data = []\n",
    "z_data = []\n",
    "for velo in points:\n",
    "    for item in velo:\n",
    "        x_data.append(item[0]) # power\n",
    "        y_data.append(item[1]) # velocity\n",
    "        z_data.append(item[2]) # temperature\n",
    "        \n",
    "x_data, y_data, z_data = np.array(x_data), np.array(y_data), np.array(z_data)\n",
    "\n",
    "mask = z_data > 400\n",
    "x_data = x_data[mask]\n",
    "y_data = y_data[mask]\n",
    "z_data = z_data[mask]\n",
    "\n",
    "parameters_2, covariance = curve_fit(function, [x_data, y_data], z_data,  maxfev=10000)\n",
    "print(parameters_2)\n",
    "model_x_data = np.linspace(min(x_data), max(x_data), 30)\n",
    "model_y_data = np.linspace(min(y_data), max(y_data), 30)\n",
    "X, Y = np.meshgrid(model_x_data, model_y_data)\n",
    "Z = function(np.array([X, Y]), *parameters_2)\n",
    "\n",
    "z_predicted = function([x_data, y_data], *parameters_2)\n",
    "differences = np.subtract(z_data, z_predicted)\n",
    "squared_differences = np.square(differences)\n",
    "mse = squared_differences.mean()\n",
    "\n",
    "\n",
    "axes.plot_surface(X, Y, Z, cmap=cm.hot, alpha=0.2)\n",
    "\n",
    "# for i, v in enumerate(list(Dict_kappa_Si_avg.keys())):\n",
    "#     v_data = [np.log(int(v))] * len(Dict_peak_temp[v])\n",
    "#     p_data = [int(p) for p in power_Si[i]]\n",
    "#     t_data = Dict_peak_temp[v]\n",
    "#     axes.scatter(p_data, v_data, t_data, s = 250)\n",
    "axes.scatter(x_data, y_data, z_data, s=500)\n",
    "    \n",
    "\n",
    "axes.set_title('Scatter Plot')\n",
    "axes.set_xlabel('power - W', fontsize=30, labelpad=40)\n",
    "axes.set_ylabel('ln(velocity) - mm/s',fontsize=30, labelpad=40)\n",
    "axes.set_zlabel('peak temperature - C', fontsize=30, labelpad=40)\n",
    "axes.set_zlim(400, 1400)\n",
    "\n",
    "axes.tick_params(axis='both', which='major', labelsize=30)\n",
    "\n",
    "plt.show()\n",
    "print(mse)"
   ]
  },
  {
   "cell_type": "code",
   "execution_count": 37,
   "id": "08485529",
   "metadata": {},
   "outputs": [
    {
     "data": {
      "text/plain": [
       "array([ 2.03584743e-15, -6.73341089e-16,  5.61904286e+01, -4.81270605e+00,\n",
       "       -7.81621651e+02,  1.08650165e+01,  2.90158231e-02,  5.61741296e-17])"
      ]
     },
     "execution_count": 37,
     "metadata": {},
     "output_type": "execute_result"
    }
   ],
   "source": [
    "parameters_2"
   ]
  },
  {
   "cell_type": "code",
   "execution_count": 161,
   "id": "a5135552",
   "metadata": {},
   "outputs": [],
   "source": [
    "from sympy import symbols, Eq, solve\n",
    "def get_power_2(dwell, Tpeak):\n",
    "    v = 88200/dwell\n",
    "    lnv = np.log(v)\n",
    "    x = symbols('x')\n",
    "    eq1 = Eq((parameters_2[0]+parameters_2[1]*lnv)*x**2 \n",
    "             + (parameters_2[2]+parameters_2[3]*lnv)*x \n",
    "             + parameters_2[4] - Tpeak)\n",
    "    sol = solve(eq1)\n",
    "    return sol[1]"
   ]
  },
  {
   "cell_type": "code",
   "execution_count": 162,
   "id": "a7cd436a",
   "metadata": {},
   "outputs": [
    {
     "data": {
      "text/latex": [
       "$\\displaystyle 46.4959619103084$"
      ],
      "text/plain": [
       "46.4959619103084"
      ]
     },
     "execution_count": 162,
     "metadata": {},
     "output_type": "execute_result"
    }
   ],
   "source": [
    "get_power_2(88200/45, 1410)"
   ]
  },
  {
   "cell_type": "code",
   "execution_count": 163,
   "id": "45710379",
   "metadata": {
    "scrolled": true
   },
   "outputs": [
    {
     "data": {
      "text/plain": [
       "array([ 3.62190109e+00, -3.28287201e-01, -1.44966532e+02,  6.38711714e+00,\n",
       "        1.89142687e+03])"
      ]
     },
     "execution_count": 163,
     "metadata": {},
     "output_type": "execute_result"
    }
   ],
   "source": [
    "parameters_2"
   ]
  },
  {
   "cell_type": "code",
   "execution_count": null,
   "id": "de61e64b",
   "metadata": {},
   "outputs": [],
   "source": []
  },
  {
   "cell_type": "code",
   "execution_count": null,
   "id": "0c6eb1ad",
   "metadata": {},
   "outputs": [],
   "source": []
  },
  {
   "cell_type": "code",
   "execution_count": 49,
   "id": "b4646655",
   "metadata": {
    "scrolled": true
   },
   "outputs": [
    {
     "name": "stdout",
     "output_type": "stream",
     "text": [
      "Using matplotlib backend: MacOSX\n",
      "3732.773541072725\n"
     ]
    },
    {
     "name": "stderr",
     "output_type": "stream",
     "text": [
      "/var/folders/f7/kn96xdj93ss0t67sn2q10n6c0000gn/T/ipykernel_7668/3768275443.py:16: MatplotlibDeprecationWarning: Axes3D(fig) adding itself to the figure is deprecated since 3.4. Pass the keyword argument auto_add_to_figure=False and use fig.add_axes(ax) to suppress this warning. The default value of auto_add_to_figure will change to False in mpl3.5 and True values will no longer work in 3.6.  This is consistent with other Axes classes.\n",
      "  axes = Axes3D(f)\n"
     ]
    }
   ],
   "source": [
    "import numpy, scipy, scipy.optimize\n",
    "import matplotlib\n",
    "from mpl_toolkits.mplot3d import  Axes3D\n",
    "from matplotlib import cm # to colormap 3D surfaces from blue to red\n",
    "import matplotlib.pyplot as plt\n",
    "%matplotlib\n",
    "\n",
    "\n",
    "def function(data, a, b, c):\n",
    "    x = data[0]\n",
    "    y = data[1]\n",
    "    return a * (x**b) * (y**c)\n",
    "\n",
    "f = plt.figure(figsize=(20.0, 20.0), dpi=20)\n",
    "matplotlib.pyplot.grid(True)\n",
    "axes = Axes3D(f)\n",
    "\n",
    "points = []\n",
    "for i, v in enumerate(list(Dict_kappa_Si_avg.keys())):\n",
    "    P = [int(p) for p in power_Si[i]]\n",
    "    V = [np.log(int(v))] * len(Dict_peak_temp[v])\n",
    "    T = Dict_peak_temp[v]\n",
    "    point = [list(x) for x in zip(*[P,V,T])]\n",
    "    points.append(point)\n",
    "\n",
    "x_data = []\n",
    "y_data = []\n",
    "z_data = []\n",
    "for velo in points:\n",
    "    for item in velo:\n",
    "        x_data.append(item[0]) # power\n",
    "        y_data.append(item[1]) # velocity\n",
    "        z_data.append(item[2]) # temperature\n",
    "    \n",
    "parameters, covariance = curve_fit(function, [x_data, y_data], z_data)\n",
    "model_x_data = np.linspace(min(x_data), max(x_data), 30)\n",
    "model_y_data = np.linspace(min(y_data), max(y_data), 30)\n",
    "X, Y = np.meshgrid(model_x_data, model_y_data)\n",
    "Z = function(np.array([X, Y]), *parameters)\n",
    "\n",
    "z_predicted = function([x_data, y_data], *parameters)\n",
    "differences = np.subtract(z_data, z_predicted)\n",
    "squared_differences = np.square(differences)\n",
    "mse = squared_differences.mean()\n",
    "\n",
    "\n",
    "axes.plot_surface(X, Y, Z, cmap=cm.hot, alpha=0.2)\n",
    "\n",
    "for i, v in enumerate(list(Dict_kappa_Si_avg.keys())):\n",
    "    v_data = [np.log(int(v))] * len(Dict_peak_temp[v])\n",
    "    p_data = [int(p) for p in power_Si[i]]\n",
    "    t_data = Dict_peak_temp[v]\n",
    "    axes.scatter(p_data, v_data, t_data)\n",
    "    \n",
    "\n",
    "axes.set_title('Scatter Plot')\n",
    "axes.set_xlabel('power - W', fontsize=30, labelpad=40)\n",
    "axes.set_ylabel('ln(velocity) - mm/s',fontsize=30, labelpad=40)\n",
    "axes.set_zlabel('peak temperature - C', fontsize=30, labelpad=40)\n",
    "\n",
    "axes.tick_params(axis='both', which='major', labelsize=30)\n",
    "\n",
    "plt.show()\n",
    "print(mse)"
   ]
  },
  {
   "cell_type": "code",
   "execution_count": 26,
   "id": "d3f95baa",
   "metadata": {},
   "outputs": [],
   "source": [
    "def get_power(dwell, Tpeak):\n",
    "    v = 88200/dwell\n",
    "    lnv = np.log(v)\n",
    "    return (Tpeak / (lnv**parameters[2]) / parameters[0] )**(1/parameters[1])"
   ]
  },
  {
   "cell_type": "code",
   "execution_count": null,
   "id": "d3ebce38",
   "metadata": {},
   "outputs": [],
   "source": []
  },
  {
   "cell_type": "code",
   "execution_count": null,
   "id": "49392323",
   "metadata": {},
   "outputs": [],
   "source": []
  },
  {
   "cell_type": "code",
   "execution_count": 137,
   "id": "8a4559f5",
   "metadata": {},
   "outputs": [],
   "source": [
    "def line_function(xdata, a, b, c):\n",
    "\n",
    "    return a * (xdata**2) + b * xdata + c"
   ]
  },
  {
   "cell_type": "code",
   "execution_count": 138,
   "id": "3b4ddbe6",
   "metadata": {},
   "outputs": [
    {
     "data": {
      "text/plain": [
       "array([   1.97450582, -102.83962089, 1612.38348424])"
      ]
     },
     "execution_count": 138,
     "metadata": {},
     "output_type": "execute_result"
    }
   ],
   "source": [
    "par, cov = curve_fit(line_function, x_data[0:10], z_data[0:10])\n",
    "par"
   ]
  },
  {
   "cell_type": "code",
   "execution_count": 139,
   "id": "f8e86837",
   "metadata": {},
   "outputs": [
    {
     "data": {
      "text/plain": [
       "array([   2.10293291,  -85.15175417, 1208.67383493])"
      ]
     },
     "execution_count": 139,
     "metadata": {},
     "output_type": "execute_result"
    }
   ],
   "source": [
    "par, cov = curve_fit(line_function, x_data[11:17], z_data[11:17])\n",
    "par"
   ]
  },
  {
   "cell_type": "code",
   "execution_count": 140,
   "id": "6eed646d",
   "metadata": {},
   "outputs": [
    {
     "data": {
      "text/plain": [
       "array([ 2.09146331e+00, -1.23919233e+02,  2.10395325e+03])"
      ]
     },
     "execution_count": 140,
     "metadata": {},
     "output_type": "execute_result"
    }
   ],
   "source": [
    "par, cov = curve_fit(line_function, x_data[18:29], z_data[18:29])\n",
    "par"
   ]
  },
  {
   "cell_type": "code",
   "execution_count": 141,
   "id": "2e81c01c",
   "metadata": {},
   "outputs": [
    {
     "data": {
      "text/plain": [
       "array([   3.13249165, -153.09404304, 2238.43667438])"
      ]
     },
     "execution_count": 141,
     "metadata": {},
     "output_type": "execute_result"
    }
   ],
   "source": [
    "par, cov = curve_fit(line_function, x_data[30:36], z_data[30:36])\n",
    "par"
   ]
  },
  {
   "cell_type": "code",
   "execution_count": 142,
   "id": "b70da73f",
   "metadata": {},
   "outputs": [
    {
     "data": {
      "text/plain": [
       "array([   3.45382605, -186.68286184, 2917.61734982])"
      ]
     },
     "execution_count": 142,
     "metadata": {},
     "output_type": "execute_result"
    }
   ],
   "source": [
    "par, cov = curve_fit(line_function, x_data[37:43], z_data[37:43])\n",
    "par"
   ]
  },
  {
   "cell_type": "code",
   "execution_count": 143,
   "id": "fe1d022d",
   "metadata": {},
   "outputs": [
    {
     "data": {
      "text/plain": [
       "array([   2.90532962, -158.14133235, 2489.62854347])"
      ]
     },
     "execution_count": 143,
     "metadata": {},
     "output_type": "execute_result"
    }
   ],
   "source": [
    "par, cov = curve_fit(line_function, x_data[44:51], z_data[44:51])\n",
    "par"
   ]
  },
  {
   "cell_type": "code",
   "execution_count": 144,
   "id": "788cbb1d",
   "metadata": {},
   "outputs": [
    {
     "data": {
      "text/plain": [
       "array([   2.37359042, -127.79613055, 2047.71733867])"
      ]
     },
     "execution_count": 144,
     "metadata": {},
     "output_type": "execute_result"
    }
   ],
   "source": [
    "par, cov = curve_fit(line_function, x_data[52:60], z_data[52:60])\n",
    "par"
   ]
  },
  {
   "cell_type": "code",
   "execution_count": 145,
   "id": "b858d1a7",
   "metadata": {},
   "outputs": [
    {
     "data": {
      "text/plain": [
       "array([  1.20558407, -22.26030989, 214.80347488])"
      ]
     },
     "execution_count": 145,
     "metadata": {},
     "output_type": "execute_result"
    }
   ],
   "source": [
    "par, cov = curve_fit(line_function, x_data[61:66], z_data[61:66])\n",
    "par"
   ]
  },
  {
   "cell_type": "code",
   "execution_count": null,
   "id": "2423cf99",
   "metadata": {},
   "outputs": [],
   "source": []
  },
  {
   "cell_type": "code",
   "execution_count": null,
   "id": "142b935d",
   "metadata": {},
   "outputs": [],
   "source": []
  },
  {
   "cell_type": "code",
   "execution_count": null,
   "id": "3c59371a",
   "metadata": {},
   "outputs": [],
   "source": []
  },
  {
   "cell_type": "code",
   "execution_count": null,
   "id": "18730b13",
   "metadata": {},
   "outputs": [],
   "source": []
  },
  {
   "cell_type": "code",
   "execution_count": null,
   "id": "40ec20d6",
   "metadata": {},
   "outputs": [],
   "source": []
  },
  {
   "cell_type": "code",
   "execution_count": null,
   "id": "3ac8f0f2",
   "metadata": {},
   "outputs": [],
   "source": []
  },
  {
   "cell_type": "code",
   "execution_count": null,
   "id": "cdc1b2d5",
   "metadata": {},
   "outputs": [],
   "source": []
  },
  {
   "cell_type": "code",
   "execution_count": 58,
   "id": "7e7430b1",
   "metadata": {},
   "outputs": [
    {
     "name": "stdout",
     "output_type": "stream",
     "text": [
      "Using matplotlib backend: MacOSX\n",
      "3319.6712136916576\n"
     ]
    },
    {
     "name": "stderr",
     "output_type": "stream",
     "text": [
      "/var/folders/f7/kn96xdj93ss0t67sn2q10n6c0000gn/T/ipykernel_7668/782647089.py:16: MatplotlibDeprecationWarning: Axes3D(fig) adding itself to the figure is deprecated since 3.4. Pass the keyword argument auto_add_to_figure=False and use fig.add_axes(ax) to suppress this warning. The default value of auto_add_to_figure will change to False in mpl3.5 and True values will no longer work in 3.6.  This is consistent with other Axes classes.\n",
      "  axes = Axes3D(f)\n"
     ]
    }
   ],
   "source": [
    "import numpy, scipy, scipy.optimize\n",
    "import matplotlib\n",
    "from mpl_toolkits.mplot3d import  Axes3D\n",
    "from matplotlib import cm # to colormap 3D surfaces from blue to red\n",
    "import matplotlib.pyplot as plt\n",
    "%matplotlib\n",
    "\n",
    "\n",
    "def function(data, a, b, c, d):\n",
    "    x = np.array(data[0])\n",
    "    y = np.array(data[1])\n",
    "    return a * x**b * y**c + d\n",
    "\n",
    "f = plt.figure(figsize=(30.0, 30.0), dpi=20)\n",
    "matplotlib.pyplot.grid(True)\n",
    "axes = Axes3D(f)\n",
    "\n",
    "points = []\n",
    "for i, v in enumerate(list(Dict_kappa_Si_avg.keys())):\n",
    "    P = [int(p) for p in power_Si[i]]\n",
    "    V = [np.log(int(v))] * len(Dict_peak_temp[v])\n",
    "    T = Dict_peak_temp[v]\n",
    "    point = [list(x) for x in zip(*[P,V,T])]\n",
    "    points.append(point)\n",
    "\n",
    "x_data = []\n",
    "y_data = []\n",
    "z_data = []\n",
    "for velo in points:\n",
    "    for item in velo:\n",
    "        x_data.append(item[0]) # power\n",
    "        y_data.append(item[1]) # velocity\n",
    "        z_data.append(item[2]) # temperature\n",
    "    \n",
    "parameters_4, covariance = curve_fit(function, [x_data, y_data], z_data)\n",
    "model_x_data = np.linspace(min(x_data), max(x_data), 30)\n",
    "model_y_data = np.linspace(min(y_data), max(y_data), 30)\n",
    "X, Y = np.meshgrid(model_x_data, model_y_data)\n",
    "Z = function(np.array([X, Y]), *parameters_4)\n",
    "\n",
    "z_predicted = function([x_data, y_data], *parameters_4)\n",
    "differences = np.subtract(z_data, z_predicted)\n",
    "squared_differences = np.square(differences)\n",
    "mse = squared_differences.mean()\n",
    "\n",
    "\n",
    "axes.plot_surface(X, Y, Z, cmap=cm.hot, alpha=0.2)\n",
    "\n",
    "for i, v in enumerate(list(Dict_kappa_Si_avg.keys())):\n",
    "    v_data = [np.log(int(v))] * len(Dict_peak_temp[v])\n",
    "    p_data = [int(p) for p in power_Si[i]]\n",
    "    t_data = Dict_peak_temp[v]\n",
    "    axes.scatter(p_data, v_data, t_data)\n",
    "    \n",
    "\n",
    "axes.set_title('Scatter Plot')\n",
    "axes.set_xlabel('power - W', fontsize=30, labelpad=40)\n",
    "axes.set_ylabel('ln(velocity) - mm/s',fontsize=30, labelpad=40)\n",
    "axes.set_zlabel('peak temperature - C', fontsize=30, labelpad=40)\n",
    "\n",
    "axes.tick_params(axis='both', which='major', labelsize=30)\n",
    "\n",
    "plt.show()\n",
    "print(mse)"
   ]
  },
  {
   "cell_type": "code",
   "execution_count": 170,
   "id": "81271816",
   "metadata": {},
   "outputs": [],
   "source": [
    "def get_power(dwell, Tpeak):\n",
    "    v = 88200/dwell\n",
    "    lnv = np.log(v)\n",
    "    return ((Tpeak-parameters_4[3]) / lnv**parameters_4[2] / parameters_4[0]) **(1/parameters_4[1])"
   ]
  },
  {
   "cell_type": "code",
   "execution_count": 183,
   "id": "11e0b4e1",
   "metadata": {},
   "outputs": [
    {
     "data": {
      "text/plain": [
       "39.762154616973184"
      ]
     },
     "execution_count": 183,
     "metadata": {},
     "output_type": "execute_result"
    }
   ],
   "source": [
    "get_power(88200/9, 1410)"
   ]
  },
  {
   "cell_type": "code",
   "execution_count": null,
   "id": "ff68793e",
   "metadata": {},
   "outputs": [],
   "source": []
  },
  {
   "cell_type": "code",
   "execution_count": null,
   "id": "cb4ad688",
   "metadata": {},
   "outputs": [],
   "source": []
  },
  {
   "cell_type": "code",
   "execution_count": null,
   "id": "f56c49e6",
   "metadata": {},
   "outputs": [],
   "source": []
  },
  {
   "cell_type": "code",
   "execution_count": null,
   "id": "bc81c76f",
   "metadata": {},
   "outputs": [],
   "source": []
  },
  {
   "cell_type": "code",
   "execution_count": null,
   "id": "98251c59",
   "metadata": {},
   "outputs": [],
   "source": []
  },
  {
   "cell_type": "code",
   "execution_count": null,
   "id": "7b60a660",
   "metadata": {},
   "outputs": [],
   "source": []
  },
  {
   "cell_type": "code",
   "execution_count": null,
   "id": "a7ed8676",
   "metadata": {},
   "outputs": [],
   "source": []
  },
  {
   "cell_type": "code",
   "execution_count": null,
   "id": "d7d998eb",
   "metadata": {},
   "outputs": [],
   "source": []
  }
 ],
 "metadata": {
  "kernelspec": {
   "display_name": "Python 3 (ipykernel)",
   "language": "python",
   "name": "python3"
  },
  "language_info": {
   "codemirror_mode": {
    "name": "ipython",
    "version": 3
   },
   "file_extension": ".py",
   "mimetype": "text/x-python",
   "name": "python",
   "nbconvert_exporter": "python",
   "pygments_lexer": "ipython3",
   "version": "3.9.0"
  },
  "vscode": {
   "interpreter": {
    "hash": "05a9d8f434e6f97949f116bb3fd6e0132cb85e41e1947128ba85095efa1eda1d"
   }
  }
 },
 "nbformat": 4,
 "nbformat_minor": 5
}
