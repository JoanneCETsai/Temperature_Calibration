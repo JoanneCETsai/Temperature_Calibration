{
 "cells": [
  {
   "cell_type": "code",
   "execution_count": 5,
   "id": "ee349030",
   "metadata": {},
   "outputs": [
    {
     "ename": "NameError",
     "evalue": "name 'kappa_avg' is not defined",
     "output_type": "error",
     "traceback": [
      "\u001b[0;31m---------------------------------------------------------------------------\u001b[0m",
      "\u001b[0;31mNameError\u001b[0m                                 Traceback (most recent call last)",
      "Input \u001b[0;32mIn [5]\u001b[0m, in \u001b[0;36m<module>\u001b[0;34m\u001b[0m\n\u001b[1;32m     21\u001b[0m peak_T_20mm \u001b[38;5;241m=\u001b[39m []\n\u001b[1;32m     22\u001b[0m \u001b[38;5;28;01mfor\u001b[39;00m thing \u001b[38;5;129;01min\u001b[39;00m \u001b[38;5;28menumerate\u001b[39m(\u001b[38;5;28mzip\u001b[39m(thefiles, b_files)):\n\u001b[0;32m---> 23\u001b[0m     val \u001b[38;5;241m=\u001b[39m \u001b[43mget_peak_T\u001b[49m\u001b[43m(\u001b[49m\u001b[43mthing\u001b[49m\u001b[43m[\u001b[49m\u001b[38;5;241;43m1\u001b[39;49m\u001b[43m]\u001b[49m\u001b[43m[\u001b[49m\u001b[38;5;241;43m0\u001b[39;49m\u001b[43m]\u001b[49m\u001b[43m,\u001b[49m\u001b[43m \u001b[49m\u001b[43mthing\u001b[49m\u001b[43m[\u001b[49m\u001b[38;5;241;43m1\u001b[39;49m\u001b[43m]\u001b[49m\u001b[43m[\u001b[49m\u001b[38;5;241;43m1\u001b[39;49m\u001b[43m]\u001b[49m\u001b[43m,\u001b[49m\u001b[43m \u001b[49m\u001b[43mpoly5\u001b[49m\u001b[43m,\u001b[49m\u001b[43m \u001b[49m\u001b[43mpoly5\u001b[49m\u001b[43m)\u001b[49m\n\u001b[1;32m     24\u001b[0m     peak_T_20mm\u001b[38;5;241m.\u001b[39mappend(val)\n\u001b[1;32m     25\u001b[0m \u001b[38;5;28mlen\u001b[39m(peak_T_20mm)\n",
      "File \u001b[0;32m/var/folders/f7/kn96xdj93ss0t67sn2q10n6c0000gn/T/ipykernel_2469/2569306747.py:3\u001b[0m, in \u001b[0;36mget_peak_T\u001b[0;34m(file, b_file, func, maxs_func)\u001b[0m\n\u001b[1;32m      1\u001b[0m \u001b[38;5;28;01mdef\u001b[39;00m \u001b[38;5;21mget_peak_T\u001b[39m(file, b_file, func, maxs_func):\n\u001b[1;32m      2\u001b[0m     peak \u001b[38;5;241m=\u001b[39m peak_dRoverR(file, b_file, func, maxs_func)\n\u001b[0;32m----> 3\u001b[0m     deltaT \u001b[38;5;241m=\u001b[39m peak \u001b[38;5;241m/\u001b[39m \u001b[43mkappa_avg\u001b[49m\n\u001b[1;32m      4\u001b[0m     T \u001b[38;5;241m=\u001b[39m \u001b[38;5;241m25\u001b[39m \u001b[38;5;241m+\u001b[39m deltaT\n\u001b[1;32m      5\u001b[0m     \u001b[38;5;28;01mreturn\u001b[39;00m T\n",
      "\u001b[0;31mNameError\u001b[0m: name 'kappa_avg' is not defined"
     ]
    }
   ],
   "source": [
    "%run \"/Users/chiaentsai/Desktop/lab/Temperature_Calibration/curve_fit_.ipynb\"\n",
    "%run \"/Users/chiaentsai/Desktop/lab/Temperature_Calibration/data_processing_.ipynb\"\n",
    "%run \"/Users/chiaentsai/Desktop/lab/Temperature_Calibration/evaluation_functions_.ipynb\"\n",
    "%run \"/Users/chiaentsai/Desktop/lab/Temperature_Calibration/fitting_functions_.ipynb\"\n",
    "%run \"/Users/chiaentsai/Desktop/lab/Temperature_Calibration/get_temperature_.ipynb\"\n",
    "import glob, os\n",
    "os.chdir(\"/Users/chiaentsai/Box/MURI-SARA/Thermoreflectance/chess_2022_2_0412/TR_0412/20mm per sec\")\n",
    "thefiles =[]\n",
    "b_files = []\n",
    "for file in glob.glob(\"*51W*\"):\n",
    "    file = \"/Users/chiaentsai/Box/MURI-SARA/Thermoreflectance/chess_2022_2_0412/TR_0412/20mm per sec\"+\"/\"+file\n",
    "    thefiles.append(file)\n",
    "    \n",
    "for file in glob.glob(\"*0W*\"):\n",
    "    file = \"/Users/chiaentsai/Box/MURI-SARA/Thermoreflectance/chess_2022_2_0412/TR_0412/20mm per sec\"+\"/\"+file\n",
    "    b_files.append(file)\n",
    "    \n",
    "del thefiles[0]\n",
    "del b_files[0]\n",
    "\n",
    "peak_T_20mm = []\n",
    "for thing in enumerate(zip(thefiles, b_files)):\n",
    "    val = get_peak_T(thing[1][0], thing[1][1], poly5, poly5)\n",
    "    peak_T_20mm.append(val)\n",
    "len(peak_T_20mm)"
   ]
  },
  {
   "cell_type": "code",
   "execution_count": null,
   "id": "668604a9",
   "metadata": {},
   "outputs": [],
   "source": [
    "plt.plot(peak_T_20mm)"
   ]
  }
 ],
 "metadata": {
  "kernelspec": {
   "display_name": "Python 3 (ipykernel)",
   "language": "python",
   "name": "python3"
  },
  "language_info": {
   "codemirror_mode": {
    "name": "ipython",
    "version": 3
   },
   "file_extension": ".py",
   "mimetype": "text/x-python",
   "name": "python",
   "nbconvert_exporter": "python",
   "pygments_lexer": "ipython3",
   "version": "3.9.0"
  }
 },
 "nbformat": 4,
 "nbformat_minor": 5
}
