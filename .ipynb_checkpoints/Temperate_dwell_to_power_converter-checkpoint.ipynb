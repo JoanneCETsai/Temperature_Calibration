{
 "cells": [
  {
   "cell_type": "markdown",
   "id": "d3c04ca6",
   "metadata": {},
   "source": [
    "# Temperature/dwell time to power converter"
   ]
  },
  {
   "cell_type": "markdown",
   "id": "3af920a5",
   "metadata": {},
   "source": [
    "## 1. run the following two cells"
   ]
  },
  {
   "cell_type": "code",
   "execution_count": 36,
   "id": "641def28",
   "metadata": {},
   "outputs": [],
   "source": [
    "import numpy as np\n",
    "# from sympy import symbols, Eq, solve\n",
    "from scipy.optimize import leastsq"
   ]
  },
  {
   "cell_type": "code",
   "execution_count": 37,
   "id": "00784b96",
   "metadata": {},
   "outputs": [],
   "source": [
    "parameters_2 = np.array([ 2.03584743e-15, -6.73341089e-16,  5.61904286e+01, -4.81270605e+00,\n",
    " -7.81621651e+02,  1.08650165e+01,  2.90158231e-02,  5.61741296e-17])\n",
    "\n",
    "def get_power(dwell, Tpeak):\n",
    "    v = 88200/dwell\n",
    "    lnv = np.log(v)\n",
    "    a, b, c, d, e, f, g, h = parameters_2 # parameters_2[0], parameters_2[1], parameters_2[2], parameters_2[3], parameters_2[4], parameters_2[5], parameters_2[6]\n",
    "    eq1 = lambda x: (a+b*lnv+h*lnv**2)*x**(f+g*lnv) + (c+d*lnv)*x + e- Tpeak\n",
    "    sol = leastsq(eq1, 0)\n",
    "    return float(sol[0])"
   ]
  },
  {
   "cell_type": "markdown",
   "id": "805e6a3b",
   "metadata": {},
   "source": [
    "## 2. Use the function!\n",
    "### The format is get_power(dwell, Tpeak)"
   ]
  },
  {
   "cell_type": "code",
   "execution_count": 38,
   "id": "93ebdd58",
   "metadata": {},
   "outputs": [
    {
     "data": {
      "text/plain": [
       "58.08567781111342"
      ]
     },
     "execution_count": 38,
     "metadata": {},
     "output_type": "execute_result"
    }
   ],
   "source": [
    "get_power(88200/352, 1400)"
   ]
  },
  {
   "cell_type": "code",
   "execution_count": null,
   "id": "4d1f5809",
   "metadata": {},
   "outputs": [],
   "source": []
  }
 ],
 "metadata": {
  "kernelspec": {
   "display_name": "Python 3 (ipykernel)",
   "language": "python",
   "name": "python3"
  },
  "language_info": {
   "codemirror_mode": {
    "name": "ipython",
    "version": 3
   },
   "file_extension": ".py",
   "mimetype": "text/x-python",
   "name": "python",
   "nbconvert_exporter": "python",
   "pygments_lexer": "ipython3",
   "version": "3.9.0"
  }
 },
 "nbformat": 4,
 "nbformat_minor": 5
}
