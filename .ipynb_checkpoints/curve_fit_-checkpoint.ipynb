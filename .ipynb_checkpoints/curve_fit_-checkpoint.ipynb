{
 "cells": [
  {
   "cell_type": "markdown",
   "id": "627fc0c3",
   "metadata": {},
   "source": [
    "## Fitting a line function"
   ]
  },
  {
   "cell_type": "code",
   "execution_count": 1,
   "id": "752f3ef2",
   "metadata": {},
   "outputs": [],
   "source": [
    "def fit(func, line):\n",
    "    xdata = np.linspace(0, len(line) - 1, len(line))\n",
    "    ydata = line\n",
    "    popt, pcov = curve_fit(func, xdata, ydata, maxfev = 1000000)\n",
    "    return popt"
   ]
  },
  {
   "cell_type": "markdown",
   "id": "cf8fc026",
   "metadata": {},
   "source": [
    "## getting maximum value of a fitting curve"
   ]
  },
  {
   "cell_type": "code",
   "execution_count": 2,
   "id": "7dc13ebc",
   "metadata": {},
   "outputs": [],
   "source": [
    "def get_max(line, func):\n",
    "    par = fit(func, line)\n",
    "    values = func(np.linspace(0, len(line) - 1, len(line)), *par) \n",
    "    return np.max(values)"
   ]
  },
  {
   "cell_type": "markdown",
   "id": "d4b07976",
   "metadata": {},
   "source": [
    "## get maxs of every x"
   ]
  },
  {
   "cell_type": "code",
   "execution_count": 3,
   "id": "ce6febb1",
   "metadata": {},
   "outputs": [],
   "source": [
    "def get_maxs(data,func):\n",
    "    x1, x2 = 450, 550\n",
    "    y1, y2 = 700, 1200\n",
    "    maxs = np.zeros(x2-x1)\n",
    "    for i in range(x2 - x1):\n",
    "        line = data[i,:]\n",
    "        line_max = get_max(line, func)\n",
    "        maxs[i] = line_max\n",
    "    return maxs"
   ]
  },
  {
   "cell_type": "markdown",
   "id": "d3567e36",
   "metadata": {},
   "source": [
    "## get final fitting peak dR / R (one value) of a frame"
   ]
  },
  {
   "cell_type": "code",
   "execution_count": 4,
   "id": "56344b15",
   "metadata": {},
   "outputs": [],
   "source": [
    "def peak_dRoverR(file, b_file, func, maxs_func):\n",
    "    dRoverR = get_dRoverR(file, b_file)\n",
    "    maxs = get_maxs(dRoverR, func)\n",
    "    peak = get_max(maxs, maxs_func)\n",
    "    return peak"
   ]
  },
  {
   "cell_type": "markdown",
   "id": "9535a003",
   "metadata": {},
   "source": [
    "## get dR / R of every point of interested in a frame"
   ]
  },
  {
   "cell_type": "code",
   "execution_count": 5,
   "id": "a8f91733",
   "metadata": {},
   "outputs": [],
   "source": [
    "def get_dRoverR(file, b_file):\n",
    "    blue = get_data(file)\n",
    "    b_blue = get_data(b_file)\n",
    "    dRoverR = (blue - b_blue) / b_blue\n",
    "    return dRoverR"
   ]
  },
  {
   "cell_type": "code",
   "execution_count": null,
   "id": "9f13157a",
   "metadata": {},
   "outputs": [],
   "source": [
    "# test123!!!"
   ]
  }
 ],
 "metadata": {
  "kernelspec": {
   "display_name": "Python 3 (ipykernel)",
   "language": "python",
   "name": "python3"
  },
  "language_info": {
   "codemirror_mode": {
    "name": "ipython",
    "version": 3
   },
   "file_extension": ".py",
   "mimetype": "text/x-python",
   "name": "python",
   "nbconvert_exporter": "python",
   "pygments_lexer": "ipython3",
   "version": "3.9.0"
  }
 },
 "nbformat": 4,
 "nbformat_minor": 5
}
