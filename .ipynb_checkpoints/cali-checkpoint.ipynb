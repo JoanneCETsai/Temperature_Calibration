{
 "cells": [
  {
   "cell_type": "code",
   "execution_count": 1,
   "id": "fa4678e3",
   "metadata": {},
   "outputs": [],
   "source": [
    "from pathlib import Path\n",
    "from enum import Enum\n",
    "import cv2\n",
    "from cv2 import imwrite\n",
    "from tqdm import tqdm\n",
    "import numpy as np\n",
    "import matplotlib.pyplot as plt\n",
    "import math\n",
    "from sklearn import preprocessing\n",
    "from time import time\n",
    "from scipy.optimize import curve_fit\n",
    "%matplotlib inline\n",
    "import scipy.stats\n",
    "from util import parse_fn, is_bg\n",
    "from scipy import stats\n",
    "from scipy.stats import skewnorm\n",
    "from scipy.special import erf\n",
    "from scipy.special import voigt_profile"
   ]
  },
  {
   "cell_type": "code",
   "execution_count": 3,
   "id": "bcb803bc",
   "metadata": {},
   "outputs": [],
   "source": [
    "HEADER_LEN = 152 \n",
    "X_DIM = 1200 \n",
    "Y_DIM = 1920\n",
    "\n",
    "x1, x2 = 160, 250\n",
    "y1, y2 = 200, 525"
   ]
  },
  {
   "cell_type": "code",
   "execution_count": 4,
   "id": "23901702",
   "metadata": {},
   "outputs": [],
   "source": [
    "file = \"/Users/chiaentsai/Box/MURI-SARA/Thermoreflectance/chess_2022_2_0412/TR_0412/30mm per sec/16mm_43W_015.raw\""
   ]
  },
  {
   "cell_type": "code",
   "execution_count": 5,
   "id": "10e08947",
   "metadata": {},
   "outputs": [],
   "source": [
    "with open(file, \"rb\") as rawimage:\n",
    "    \n",
    "        bayer_image = np.fromfile(rawimage, np.dtype('u1'), offset = HEADER_LEN)\n",
    "        fst_byte, scd_byte = bayer_image.reshape((bayer_image.shape[0]//2, 2)).astype(np.uint16).T\n",
    "        raw_pixel = (fst_byte + (scd_byte << 8)).reshape((X_DIM, Y_DIM))"
   ]
  },
  {
   "cell_type": "code",
   "execution_count": 7,
   "id": "128caf79",
   "metadata": {},
   "outputs": [
    {
     "data": {
      "text/plain": [
       "(4608000,)"
      ]
     },
     "execution_count": 7,
     "metadata": {},
     "output_type": "execute_result"
    }
   ],
   "source": [
    "bayer_image.shape"
   ]
  },
  {
   "cell_type": "code",
   "execution_count": 9,
   "id": "c1a38d50",
   "metadata": {},
   "outputs": [
    {
     "data": {
      "text/plain": [
       "4608000"
      ]
     },
     "execution_count": 9,
     "metadata": {},
     "output_type": "execute_result"
    }
   ],
   "source": [
    "bayer_image.shape[0]"
   ]
  },
  {
   "cell_type": "code",
   "execution_count": 18,
   "id": "def333cc",
   "metadata": {},
   "outputs": [
    {
     "data": {
      "text/plain": [
       "array([[111,  40, 105, ..., 151, 190, 147],\n",
       "       [  0,   0,   0, ...,   0,   5,   0]], dtype=uint16)"
      ]
     },
     "execution_count": 18,
     "metadata": {},
     "output_type": "execute_result"
    }
   ],
   "source": [
    " bayer_image.reshape((bayer_image.shape[0]//2, 2)).astype(np.uint16).T"
   ]
  },
  {
   "cell_type": "code",
   "execution_count": 16,
   "id": "c98ebfa1",
   "metadata": {},
   "outputs": [
    {
     "data": {
      "text/plain": [
       "array([111,  40, 105, ..., 151, 190, 147], dtype=uint16)"
      ]
     },
     "execution_count": 16,
     "metadata": {},
     "output_type": "execute_result"
    }
   ],
   "source": [
    "a"
   ]
  },
  {
   "cell_type": "code",
   "execution_count": 17,
   "id": "96123329",
   "metadata": {},
   "outputs": [
    {
     "data": {
      "text/plain": [
       "array([0, 0, 0, ..., 0, 5, 0], dtype=uint16)"
      ]
     },
     "execution_count": 17,
     "metadata": {},
     "output_type": "execute_result"
    }
   ],
   "source": [
    "b"
   ]
  },
  {
   "cell_type": "code",
   "execution_count": null,
   "id": "fbad6460",
   "metadata": {},
   "outputs": [],
   "source": []
  }
 ],
 "metadata": {
  "kernelspec": {
   "display_name": "Python 3 (ipykernel)",
   "language": "python",
   "name": "python3"
  },
  "language_info": {
   "codemirror_mode": {
    "name": "ipython",
    "version": 3
   },
   "file_extension": ".py",
   "mimetype": "text/x-python",
   "name": "python",
   "nbconvert_exporter": "python",
   "pygments_lexer": "ipython3",
   "version": "3.9.0"
  }
 },
 "nbformat": 4,
 "nbformat_minor": 5
}
